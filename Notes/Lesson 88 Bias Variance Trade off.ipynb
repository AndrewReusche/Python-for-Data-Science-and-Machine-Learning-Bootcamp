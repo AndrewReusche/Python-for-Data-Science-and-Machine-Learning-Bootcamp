{
 "cells": [
  {
   "cell_type": "code",
   "execution_count": 1,
   "id": "4cf4720f",
   "metadata": {},
   "outputs": [],
   "source": [
    "#the bias variaNCE TRADE OFF is the point where we are adding just noise by adding model complexity (flexibility)"
   ]
  },
  {
   "cell_type": "code",
   "execution_count": 2,
   "id": "67a725aa",
   "metadata": {},
   "outputs": [],
   "source": [
    "#the training error goes down as it has to, but the test error goes up"
   ]
  },
  {
   "cell_type": "code",
   "execution_count": 3,
   "id": "b88cc825",
   "metadata": {},
   "outputs": [],
   "source": [
    "#the model after thew bias trade-off begins to overfit"
   ]
  },
  {
   "cell_type": "code",
   "execution_count": null,
   "id": "05985fbc",
   "metadata": {},
   "outputs": [],
   "source": []
  }
 ],
 "metadata": {
  "kernelspec": {
   "display_name": "Python 3 (ipykernel)",
   "language": "python",
   "name": "python3"
  },
  "language_info": {
   "codemirror_mode": {
    "name": "ipython",
    "version": 3
   },
   "file_extension": ".py",
   "mimetype": "text/x-python",
   "name": "python",
   "nbconvert_exporter": "python",
   "pygments_lexer": "ipython3",
   "version": "3.9.7"
  }
 },
 "nbformat": 4,
 "nbformat_minor": 5
}
