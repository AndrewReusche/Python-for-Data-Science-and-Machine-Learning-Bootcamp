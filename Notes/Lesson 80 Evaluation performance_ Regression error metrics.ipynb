{
 "cells": [
  {
   "cell_type": "markdown",
   "id": "e81a8533",
   "metadata": {},
   "source": [
    "Regression is a task when a model attempts to predict continouous values (unlike categorical values which is classification)"
   ]
  },
  {
   "cell_type": "markdown",
   "id": "e2535ba7",
   "metadata": {},
   "source": [
    "the most common evaluation metrics for regression are:\n",
    "\n",
    "    mean absolute error\n",
    "        this is a mean of the absolute value of errors\n",
    "        MAE won't punish large errors \n",
    "\n",
    "    mean squared error \n",
    "        this is the mean of the squared errors\n",
    "        here errors are noted more than mae making mse more popular\n",
    "    \n",
    "    root mean squared error\n",
    "        this fixes the scaling problem from mse\n",
    "        root of the mean of squared errors\n",
    "        the most popular method\n",
    "        "
   ]
  },
  {
   "cell_type": "markdown",
   "id": "e216dba5",
   "metadata": {},
   "source": [
    "to help determine if your error metric is good, compare it to the average value of the label in your data set to try to get an intuition of its overall performance "
   ]
  },
  {
   "cell_type": "code",
   "execution_count": null,
   "id": "b9618b76",
   "metadata": {},
   "outputs": [],
   "source": []
  }
 ],
 "metadata": {
  "kernelspec": {
   "display_name": "Python 3 (ipykernel)",
   "language": "python",
   "name": "python3"
  },
  "language_info": {
   "codemirror_mode": {
    "name": "ipython",
    "version": 3
   },
   "file_extension": ".py",
   "mimetype": "text/x-python",
   "name": "python",
   "nbconvert_exporter": "python",
   "pygments_lexer": "ipython3",
   "version": "3.9.7"
  }
 },
 "nbformat": 4,
 "nbformat_minor": 5
}
