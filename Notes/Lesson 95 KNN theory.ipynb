{
 "cells": [
  {
   "cell_type": "code",
   "execution_count": 1,
   "id": "00166318",
   "metadata": {},
   "outputs": [],
   "source": [
    "#K nearest neighbors us a classification algorithm "
   ]
  },
  {
   "cell_type": "code",
   "execution_count": 2,
   "id": "5f5c6af0",
   "metadata": {},
   "outputs": [],
   "source": [
    "#KNN Pros\n",
    "#very simple\n",
    "#training is trivial\n",
    "#works with any number of classes \n",
    "#easy to add more data\n",
    "#few parameters: K, distance matrix"
   ]
  },
  {
   "cell_type": "code",
   "execution_count": 3,
   "id": "18cfa8b4",
   "metadata": {},
   "outputs": [],
   "source": [
    "#KNN cons\n",
    "#high prediction cost, worse for large data sets\n",
    "#not good with high dimensional data\n",
    "#catagorical features don't work well"
   ]
  },
  {
   "cell_type": "code",
   "execution_count": 4,
   "id": "3437e6a6",
   "metadata": {},
   "outputs": [],
   "source": [
    "#a common interview question for a data scientist os to be given anonymized data and attempt to classify it without \n",
    "#knowing the context of the data"
   ]
  },
  {
   "cell_type": "code",
   "execution_count": null,
   "id": "d8f84882",
   "metadata": {},
   "outputs": [],
   "source": []
  }
 ],
 "metadata": {
  "kernelspec": {
   "display_name": "Python 3 (ipykernel)",
   "language": "python",
   "name": "python3"
  },
  "language_info": {
   "codemirror_mode": {
    "name": "ipython",
    "version": 3
   },
   "file_extension": ".py",
   "mimetype": "text/x-python",
   "name": "python",
   "nbconvert_exporter": "python",
   "pygments_lexer": "ipython3",
   "version": "3.9.7"
  }
 },
 "nbformat": 4,
 "nbformat_minor": 5
}
