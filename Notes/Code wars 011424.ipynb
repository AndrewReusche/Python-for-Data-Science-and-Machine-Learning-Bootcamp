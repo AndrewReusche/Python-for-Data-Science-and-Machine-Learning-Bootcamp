{
 "cells": [
  {
   "cell_type": "code",
   "execution_count": 1,
   "id": "6f3cab05",
   "metadata": {},
   "outputs": [],
   "source": [
    "name= \"my name is justin\""
   ]
  },
  {
   "cell_type": "code",
   "execution_count": 2,
   "id": "2aee2d55",
   "metadata": {},
   "outputs": [],
   "source": [
    "split_name=name.split()"
   ]
  },
  {
   "cell_type": "code",
   "execution_count": 24,
   "id": "0e84714b",
   "metadata": {},
   "outputs": [],
   "source": [
    "def upper_words(words):\n",
    "    new_words=[]\n",
    "    for x in words:\n",
    "        new_words.append(x.title())\n",
    "    merged_words=' '.join(new_words)\n",
    "    return merged_words"
   ]
  },
  {
   "cell_type": "code",
   "execution_count": 25,
   "id": "fc2c04c9",
   "metadata": {},
   "outputs": [
    {
     "data": {
      "text/plain": [
       "'My Name Is Justin'"
      ]
     },
     "execution_count": 25,
     "metadata": {},
     "output_type": "execute_result"
    }
   ],
   "source": [
    "upper_words(split_name)"
   ]
  },
  {
   "cell_type": "code",
   "execution_count": 8,
   "id": "c79a20a0",
   "metadata": {},
   "outputs": [
    {
     "name": "stdout",
     "output_type": "stream",
     "text": [
      "My Name Is Justin\n"
     ]
    }
   ],
   "source": [
    "print(name.title())"
   ]
  },
  {
   "cell_type": "code",
   "execution_count": 23,
   "id": "5660a916",
   "metadata": {},
   "outputs": [
    {
     "data": {
      "text/plain": [
       "'My Name Is Justin'"
      ]
     },
     "execution_count": 23,
     "metadata": {},
     "output_type": "execute_result"
    }
   ],
   "source": [
    "\" \".join(upper_words(split_name))"
   ]
  },
  {
   "cell_type": "code",
   "execution_count": 26,
   "id": "dc724129",
   "metadata": {},
   "outputs": [],
   "source": [
    "def short_upper(words):\n",
    "    return words.title()\n",
    "    "
   ]
  },
  {
   "cell_type": "code",
   "execution_count": 27,
   "id": "4b7e02fa",
   "metadata": {},
   "outputs": [
    {
     "data": {
      "text/plain": [
       "'My Name Is Justin'"
      ]
     },
     "execution_count": 27,
     "metadata": {},
     "output_type": "execute_result"
    }
   ],
   "source": [
    "short_upper(name)"
   ]
  },
  {
   "cell_type": "code",
   "execution_count": null,
   "id": "5bad40fb",
   "metadata": {},
   "outputs": [],
   "source": []
  },
  {
   "cell_type": "code",
   "execution_count": null,
   "id": "d24f41e5",
   "metadata": {},
   "outputs": [],
   "source": []
  },
  {
   "cell_type": "code",
   "execution_count": null,
   "id": "f68c9015",
   "metadata": {},
   "outputs": [],
   "source": []
  },
  {
   "cell_type": "code",
   "execution_count": null,
   "id": "8f71324f",
   "metadata": {},
   "outputs": [],
   "source": []
  },
  {
   "cell_type": "code",
   "execution_count": null,
   "id": "66fc5b3d",
   "metadata": {},
   "outputs": [],
   "source": []
  },
  {
   "cell_type": "code",
   "execution_count": null,
   "id": "8a082dd1",
   "metadata": {},
   "outputs": [],
   "source": []
  },
  {
   "cell_type": "code",
   "execution_count": 28,
   "id": "ae8a4112",
   "metadata": {},
   "outputs": [
    {
     "ename": "SyntaxError",
     "evalue": "invalid syntax (Temp/ipykernel_13728/308235154.py, line 1)",
     "output_type": "error",
     "traceback": [
      "\u001b[1;36m  File \u001b[1;32m\"C:\\Users\\areus\\AppData\\Local\\Temp/ipykernel_13728/308235154.py\"\u001b[1;36m, line \u001b[1;32m1\u001b[0m\n\u001b[1;33m    l1='.'join([x[0].upper() for x in name.split()])\u001b[0m\n\u001b[1;37m          ^\u001b[0m\n\u001b[1;31mSyntaxError\u001b[0m\u001b[1;31m:\u001b[0m invalid syntax\n"
     ]
    }
   ],
   "source": [
    "l1='.'.join([x[0].upper() for x in name.split()])\n"
   ]
  },
  {
   "cell_type": "code",
   "execution_count": null,
   "id": "1287499a",
   "metadata": {},
   "outputs": [],
   "source": []
  },
  {
   "cell_type": "code",
   "execution_count": 29,
   "id": "9558a035",
   "metadata": {},
   "outputs": [],
   "source": [
    "def abbrev_name(name):\n",
    "    init= name.split(' ')\n",
    "    \n",
    "    init2=[]\n",
    "    \n",
    "    for x in init:\n",
    "        init2.append(x[0].upper())\n",
    "    \n",
    "    return '.'.join(init2)"
   ]
  },
  {
   "cell_type": "code",
   "execution_count": null,
   "id": "a8ed195d",
   "metadata": {},
   "outputs": [],
   "source": [
    "\n"
   ]
  },
  {
   "cell_type": "code",
   "execution_count": null,
   "id": "dfa95aa2",
   "metadata": {},
   "outputs": [],
   "source": []
  },
  {
   "cell_type": "code",
   "execution_count": 30,
   "id": "8539b8ab",
   "metadata": {},
   "outputs": [],
   "source": [
    "def filter_list(l):\n",
    "    filtered_list=[]\n",
    "    for x in l:\n",
    "        if type(x)== 'int':\n",
    "            filtered_list.append(x)\n",
    "    return filtered_list"
   ]
  },
  {
   "cell_type": "code",
   "execution_count": 32,
   "id": "4ea92358",
   "metadata": {},
   "outputs": [
    {
     "data": {
      "text/plain": [
       "[]"
      ]
     },
     "execution_count": 32,
     "metadata": {},
     "output_type": "execute_result"
    }
   ],
   "source": [
    "filter_list([1, 2, \"a\", \"b\"])"
   ]
  },
  {
   "cell_type": "code",
   "execution_count": 36,
   "id": "15be629a",
   "metadata": {},
   "outputs": [],
   "source": [
    "def filter_list(l):\n",
    "    filtered_list=[]\n",
    "    for x in l:\n",
    "        print(type(x))"
   ]
  },
  {
   "cell_type": "code",
   "execution_count": 34,
   "id": "42a5264b",
   "metadata": {},
   "outputs": [
    {
     "data": {
      "text/plain": [
       "int"
      ]
     },
     "execution_count": 34,
     "metadata": {},
     "output_type": "execute_result"
    }
   ],
   "source": [
    "filter_list([1, 2, \"a\", \"b\"])"
   ]
  },
  {
   "cell_type": "code",
   "execution_count": 40,
   "id": "fb6d6ec0",
   "metadata": {},
   "outputs": [],
   "source": [
    "def filter_list(l):\n",
    "    filtered_list=[]\n",
    "    for x in l:\n",
    "        print(type(x))"
   ]
  },
  {
   "cell_type": "code",
   "execution_count": 41,
   "id": "fe7d3b07",
   "metadata": {},
   "outputs": [
    {
     "name": "stdout",
     "output_type": "stream",
     "text": [
      "<class 'int'>\n",
      "<class 'int'>\n",
      "<class 'str'>\n",
      "<class 'str'>\n"
     ]
    }
   ],
   "source": [
    "filter_list([1, 2, \"a\", \"b\"])"
   ]
  },
  {
   "cell_type": "code",
   "execution_count": 50,
   "id": "36ba10a9",
   "metadata": {},
   "outputs": [],
   "source": [
    "def filter_list(l):\n",
    "    filtered_list=[]\n",
    "    for x in l:\n",
    "        if type(x)== int:\n",
    "            filtered_list.append(x)\n",
    "    return filtered_list"
   ]
  },
  {
   "cell_type": "code",
   "execution_count": 51,
   "id": "4b455802",
   "metadata": {},
   "outputs": [
    {
     "data": {
      "text/plain": [
       "[1, 2]"
      ]
     },
     "execution_count": 51,
     "metadata": {},
     "output_type": "execute_result"
    }
   ],
   "source": [
    "filter_list([1, 2, \"a\", \"b\"])"
   ]
  },
  {
   "cell_type": "code",
   "execution_count": 56,
   "id": "7be14d88",
   "metadata": {},
   "outputs": [],
   "source": [
    "def find_next_square(sq):\n",
    "    \n",
    "    \n",
    "    for x in sq:\n",
    "        sq1=\n",
    "        if type(sqrt(x))!=int:\n",
    "            return f'-1 since {x} is not a perfect square'\n",
    "        else:\n",
    "            pass"
   ]
  },
  {
   "cell_type": "code",
   "execution_count": 57,
   "id": "c9cc7e76",
   "metadata": {},
   "outputs": [
    {
     "ename": "TypeError",
     "evalue": "'int' object is not iterable",
     "output_type": "error",
     "traceback": [
      "\u001b[1;31m---------------------------------------------------------------------------\u001b[0m",
      "\u001b[1;31mTypeError\u001b[0m                                 Traceback (most recent call last)",
      "\u001b[1;32m~\\AppData\\Local\\Temp/ipykernel_13728/2204513229.py\u001b[0m in \u001b[0;36m<module>\u001b[1;34m\u001b[0m\n\u001b[1;32m----> 1\u001b[1;33m \u001b[0mfind_next_square\u001b[0m\u001b[1;33m(\u001b[0m\u001b[1;36m3\u001b[0m\u001b[1;33m)\u001b[0m\u001b[1;33m\u001b[0m\u001b[1;33m\u001b[0m\u001b[0m\n\u001b[0m",
      "\u001b[1;32m~\\AppData\\Local\\Temp/ipykernel_13728/527751249.py\u001b[0m in \u001b[0;36mfind_next_square\u001b[1;34m(sq)\u001b[0m\n\u001b[0;32m      2\u001b[0m \u001b[1;33m\u001b[0m\u001b[0m\n\u001b[0;32m      3\u001b[0m \u001b[1;33m\u001b[0m\u001b[0m\n\u001b[1;32m----> 4\u001b[1;33m     \u001b[1;32mfor\u001b[0m \u001b[0mx\u001b[0m \u001b[1;32min\u001b[0m \u001b[0msq\u001b[0m\u001b[1;33m:\u001b[0m\u001b[1;33m\u001b[0m\u001b[1;33m\u001b[0m\u001b[0m\n\u001b[0m\u001b[0;32m      5\u001b[0m         \u001b[0msq1\u001b[0m\u001b[1;33m=\u001b[0m\u001b[0msqrt\u001b[0m\u001b[1;33m(\u001b[0m\u001b[0mx\u001b[0m\u001b[1;33m)\u001b[0m\u001b[1;33m\u001b[0m\u001b[1;33m\u001b[0m\u001b[0m\n\u001b[0;32m      6\u001b[0m         \u001b[1;32mif\u001b[0m \u001b[0mtype\u001b[0m\u001b[1;33m(\u001b[0m\u001b[0msq1\u001b[0m\u001b[1;33m)\u001b[0m\u001b[1;33m!=\u001b[0m\u001b[0mint\u001b[0m\u001b[1;33m:\u001b[0m\u001b[1;33m\u001b[0m\u001b[1;33m\u001b[0m\u001b[0m\n",
      "\u001b[1;31mTypeError\u001b[0m: 'int' object is not iterable"
     ]
    }
   ],
   "source": [
    "find_next_square(3)"
   ]
  },
  {
   "cell_type": "code",
   "execution_count": 67,
   "id": "7d45f7e6",
   "metadata": {},
   "outputs": [],
   "source": [
    "import math "
   ]
  },
  {
   "cell_type": "code",
   "execution_count": 83,
   "id": "94837531",
   "metadata": {},
   "outputs": [],
   "source": [
    "def find_next_square(sq):\n",
    "    if math.sqrt(sq).is_integer()== False:\n",
    "        return -1"
   ]
  },
  {
   "cell_type": "code",
   "execution_count": 84,
   "id": "81215412",
   "metadata": {},
   "outputs": [
    {
     "data": {
      "text/plain": [
       "-1"
      ]
     },
     "execution_count": 84,
     "metadata": {},
     "output_type": "execute_result"
    }
   ],
   "source": [
    "find_next_square(3)"
   ]
  },
  {
   "cell_type": "code",
   "execution_count": 111,
   "id": "6872b18e",
   "metadata": {},
   "outputs": [],
   "source": [
    "def find_next_square(sq):\n",
    "    if math.sqrt(sq).is_integer()== False:\n",
    "        return -1\n",
    "    else:\n",
    "        sq +=1\n",
    "        while math.sqrt(sq)%1!=0:\n",
    "            sq += 1\n",
    "    return sq"
   ]
  },
  {
   "cell_type": "code",
   "execution_count": 112,
   "id": "3d8f6fb0",
   "metadata": {},
   "outputs": [
    {
     "data": {
      "text/plain": [
       "144"
      ]
     },
     "execution_count": 112,
     "metadata": {},
     "output_type": "execute_result"
    }
   ],
   "source": [
    "find_next_square(121)"
   ]
  },
  {
   "cell_type": "code",
   "execution_count": 107,
   "id": "138bfc37",
   "metadata": {},
   "outputs": [
    {
     "data": {
      "text/plain": [
       "2.23606797749979"
      ]
     },
     "execution_count": 107,
     "metadata": {},
     "output_type": "execute_result"
    }
   ],
   "source": [
    "math.sqrt(5)"
   ]
  },
  {
   "cell_type": "code",
   "execution_count": 80,
   "id": "8d16aa04",
   "metadata": {},
   "outputs": [
    {
     "data": {
      "text/plain": [
       "2.0"
      ]
     },
     "execution_count": 80,
     "metadata": {},
     "output_type": "execute_result"
    }
   ],
   "source": [
    "4**.5"
   ]
  },
  {
   "cell_type": "code",
   "execution_count": 97,
   "id": "3a4abb7c",
   "metadata": {},
   "outputs": [],
   "source": [
    "def do(it):\n",
    "    while it < 6:\n",
    "        print(it)\n",
    "        it += 1\n"
   ]
  },
  {
   "cell_type": "code",
   "execution_count": 98,
   "id": "ffb83236",
   "metadata": {},
   "outputs": [
    {
     "name": "stdout",
     "output_type": "stream",
     "text": [
      "1\n",
      "2\n",
      "3\n",
      "4\n",
      "5\n"
     ]
    }
   ],
   "source": [
    "do(1)"
   ]
  },
  {
   "cell_type": "code",
   "execution_count": 113,
   "id": "9e39aa23",
   "metadata": {},
   "outputs": [],
   "source": [
    "def find_next_square2(sq):\n",
    "    if math.sqrt(sq)%1 == 0:\n",
    "        return (math.sqrt(sq)+1)**2\n",
    "    else:\n",
    "        return -1"
   ]
  },
  {
   "cell_type": "code",
   "execution_count": 115,
   "id": "abe53c3d",
   "metadata": {},
   "outputs": [
    {
     "data": {
      "text/plain": [
       "144.0"
      ]
     },
     "execution_count": 115,
     "metadata": {},
     "output_type": "execute_result"
    }
   ],
   "source": [
    "find_next_square2(121)"
   ]
  },
  {
   "cell_type": "code",
   "execution_count": null,
   "id": "7bbe3d2a",
   "metadata": {},
   "outputs": [],
   "source": [
    "import math\n",
    "\n",
    "def find_next_square(sq):\n",
    "    if math.sqrt(sq)%1 != 0:\n",
    "        return -1\n",
    "    else:\n",
    "        sq +=1\n",
    "        while math.sqrt(sq)%1 != 0:\n",
    "            sq += 1\n",
    "    return sq"
   ]
  },
  {
   "cell_type": "code",
   "execution_count": 116,
   "id": "d63bedda",
   "metadata": {},
   "outputs": [
    {
     "ename": "SyntaxError",
     "evalue": "invalid syntax (Temp/ipykernel_13728/2095591502.py, line 2)",
     "output_type": "error",
     "traceback": [
      "\u001b[1;36m  File \u001b[1;32m\"C:\\Users\\areus\\AppData\\Local\\Temp/ipykernel_13728/2095591502.py\"\u001b[1;36m, line \u001b[1;32m2\u001b[0m\n\u001b[1;33m    \"double  spaces\"      ==> \"elbuod  secaps\"\u001b[0m\n\u001b[1;37m                            ^\u001b[0m\n\u001b[1;31mSyntaxError\u001b[0m\u001b[1;31m:\u001b[0m invalid syntax\n"
     ]
    }
   ],
   "source": [
    "#This is an example!\" ==> \"sihT si na !elpmaxe\"\n",
    "\"double  spaces\"      ==> \"elbuod  secaps\""
   ]
  },
  {
   "cell_type": "code",
   "execution_count": 131,
   "id": "18f37e39",
   "metadata": {},
   "outputs": [],
   "source": [
    "def reverse_words(text):\n",
    "    words = text.split(' ')\n",
    "    rev_words =[]\n",
    "    \n",
    "    for x in words:\n",
    "        rev_words.append(x[::-1])\n",
    "    \n",
    "    return \" \".join(rev_words)\n",
    "    \n",
    "    "
   ]
  },
  {
   "cell_type": "code",
   "execution_count": 132,
   "id": "03ed0372",
   "metadata": {},
   "outputs": [
    {
     "data": {
      "text/plain": [
       "'siht si na elpmaxe'"
      ]
     },
     "execution_count": 132,
     "metadata": {},
     "output_type": "execute_result"
    }
   ],
   "source": [
    "reverse_words(\"this is an example\")"
   ]
  },
  {
   "cell_type": "code",
   "execution_count": 228,
   "id": "255d954e",
   "metadata": {},
   "outputs": [],
   "source": [
    "def descending_order(num):\n",
    "    nums=str(num)\n",
    "    nums2=[]\n",
    "\n",
    "    for x in nums:\n",
    "        nums2.append(int(x))\n",
    "    nums2.sort(reverse=True)\n",
    "    return int(''.join(str(e) for e in nums2))\n",
    "    \n"
   ]
  },
  {
   "cell_type": "code",
   "execution_count": 229,
   "id": "903e60ab",
   "metadata": {},
   "outputs": [
    {
     "data": {
      "text/plain": [
       "654321"
      ]
     },
     "execution_count": 229,
     "metadata": {},
     "output_type": "execute_result"
    }
   ],
   "source": [
    "descending_order(145263)"
   ]
  },
  {
   "cell_type": "code",
   "execution_count": 240,
   "id": "6f522d94",
   "metadata": {},
   "outputs": [],
   "source": [
    "def descending_order(num):\n",
    "    print(num)\n",
    "    print(str(num))\n",
    "    print(sorted(str(num),reverse=True))\n",
    "    print(int(''.join(sorted(str(num),reverse=True))))"
   ]
  },
  {
   "cell_type": "code",
   "execution_count": 241,
   "id": "0f93c17e",
   "metadata": {},
   "outputs": [
    {
     "name": "stdout",
     "output_type": "stream",
     "text": [
      "145263\n",
      "145263\n",
      "['6', '5', '4', '3', '2', '1']\n",
      "654321\n"
     ]
    }
   ],
   "source": [
    "descending_order(145263)"
   ]
  },
  {
   "cell_type": "code",
   "execution_count": null,
   "id": "31a6eba8",
   "metadata": {},
   "outputs": [],
   "source": []
  },
  {
   "cell_type": "code",
   "execution_count": 274,
   "id": "f4ecb8e7",
   "metadata": {},
   "outputs": [],
   "source": [
    "def square_digits(num):\n",
    "    num2=[]\n",
    "    for x in str(num):\n",
    "        num2.append(str(int(x)**2))\n",
    "    print(int(''.join(num2)))\n"
   ]
  },
  {
   "cell_type": "code",
   "execution_count": 275,
   "id": "6ebd8b33",
   "metadata": {},
   "outputs": [
    {
     "name": "stdout",
     "output_type": "stream",
     "text": [
      "811181\n"
     ]
    }
   ],
   "source": [
    "square_digits(9119)"
   ]
  },
  {
   "cell_type": "code",
   "execution_count": 276,
   "id": "2922bd63",
   "metadata": {},
   "outputs": [],
   "source": [
    "def square_digits(num):\n",
    "    return int(''.join(str(int(x)**2) for x in str(num)))"
   ]
  },
  {
   "cell_type": "code",
   "execution_count": 277,
   "id": "515751e9",
   "metadata": {},
   "outputs": [
    {
     "data": {
      "text/plain": [
       "811181"
      ]
     },
     "execution_count": 277,
     "metadata": {},
     "output_type": "execute_result"
    }
   ],
   "source": [
    "square_digits(9119)"
   ]
  },
  {
   "cell_type": "code",
   "execution_count": null,
   "id": "67110c66",
   "metadata": {},
   "outputs": [],
   "source": []
  }
 ],
 "metadata": {
  "kernelspec": {
   "display_name": "Python 3 (ipykernel)",
   "language": "python",
   "name": "python3"
  },
  "language_info": {
   "codemirror_mode": {
    "name": "ipython",
    "version": 3
   },
   "file_extension": ".py",
   "mimetype": "text/x-python",
   "name": "python",
   "nbconvert_exporter": "python",
   "pygments_lexer": "ipython3",
   "version": "3.9.7"
  }
 },
 "nbformat": 4,
 "nbformat_minor": 5
}
