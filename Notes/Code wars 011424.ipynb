{
 "cells": [
  {
   "cell_type": "code",
   "execution_count": 1,
   "id": "ead3fbb9",
   "metadata": {},
   "outputs": [],
   "source": [
    "name= \"my name is justin\""
   ]
  },
  {
   "cell_type": "code",
   "execution_count": 2,
   "id": "195ace33",
   "metadata": {},
   "outputs": [],
   "source": [
    "split_name=name.split()"
   ]
  },
  {
   "cell_type": "code",
   "execution_count": 24,
   "id": "87f4b0dc",
   "metadata": {},
   "outputs": [],
   "source": [
    "def upper_words(words):\n",
    "    new_words=[]\n",
    "    for x in words:\n",
    "        new_words.append(x.title())\n",
    "    merged_words=' '.join(new_words)\n",
    "    return merged_words"
   ]
  },
  {
   "cell_type": "code",
   "execution_count": 25,
   "id": "9b9dfa72",
   "metadata": {},
   "outputs": [
    {
     "data": {
      "text/plain": [
       "'My Name Is Justin'"
      ]
     },
     "execution_count": 25,
     "metadata": {},
     "output_type": "execute_result"
    }
   ],
   "source": [
    "upper_words(split_name)"
   ]
  },
  {
   "cell_type": "code",
   "execution_count": 8,
   "id": "aa02b273",
   "metadata": {},
   "outputs": [
    {
     "name": "stdout",
     "output_type": "stream",
     "text": [
      "My Name Is Justin\n"
     ]
    }
   ],
   "source": [
    "print(name.title())"
   ]
  },
  {
   "cell_type": "code",
   "execution_count": 23,
   "id": "9ffe1a54",
   "metadata": {},
   "outputs": [
    {
     "data": {
      "text/plain": [
       "'My Name Is Justin'"
      ]
     },
     "execution_count": 23,
     "metadata": {},
     "output_type": "execute_result"
    }
   ],
   "source": [
    "\" \".join(upper_words(split_name))"
   ]
  },
  {
   "cell_type": "code",
   "execution_count": 26,
   "id": "633a0abf",
   "metadata": {},
   "outputs": [],
   "source": [
    "def short_upper(words):\n",
    "    return words.title()\n",
    "    "
   ]
  },
  {
   "cell_type": "code",
   "execution_count": 27,
   "id": "d6a1fce2",
   "metadata": {},
   "outputs": [
    {
     "data": {
      "text/plain": [
       "'My Name Is Justin'"
      ]
     },
     "execution_count": 27,
     "metadata": {},
     "output_type": "execute_result"
    }
   ],
   "source": [
    "short_upper(name)"
   ]
  },
  {
   "cell_type": "code",
   "execution_count": null,
   "id": "82a96044",
   "metadata": {},
   "outputs": [],
   "source": []
  },
  {
   "cell_type": "code",
   "execution_count": null,
   "id": "b218295c",
   "metadata": {},
   "outputs": [],
   "source": []
  },
  {
   "cell_type": "code",
   "execution_count": null,
   "id": "5e2ff3bc",
   "metadata": {},
   "outputs": [],
   "source": []
  },
  {
   "cell_type": "code",
   "execution_count": null,
   "id": "2d27f9ce",
   "metadata": {},
   "outputs": [],
   "source": []
  },
  {
   "cell_type": "code",
   "execution_count": null,
   "id": "42646de6",
   "metadata": {},
   "outputs": [],
   "source": []
  },
  {
   "cell_type": "code",
   "execution_count": null,
   "id": "6e263f0f",
   "metadata": {},
   "outputs": [],
   "source": []
  },
  {
   "cell_type": "code",
   "execution_count": 28,
   "id": "aa3b8bcb",
   "metadata": {},
   "outputs": [
    {
     "ename": "SyntaxError",
     "evalue": "invalid syntax (Temp/ipykernel_13728/308235154.py, line 1)",
     "output_type": "error",
     "traceback": [
      "\u001b[1;36m  File \u001b[1;32m\"C:\\Users\\areus\\AppData\\Local\\Temp/ipykernel_13728/308235154.py\"\u001b[1;36m, line \u001b[1;32m1\u001b[0m\n\u001b[1;33m    l1='.'join([x[0].upper() for x in name.split()])\u001b[0m\n\u001b[1;37m          ^\u001b[0m\n\u001b[1;31mSyntaxError\u001b[0m\u001b[1;31m:\u001b[0m invalid syntax\n"
     ]
    }
   ],
   "source": [
    "l1='.'.join([x[0].upper() for x in name.split()])\n"
   ]
  },
  {
   "cell_type": "code",
   "execution_count": null,
   "id": "0a8f1931",
   "metadata": {},
   "outputs": [],
   "source": []
  },
  {
   "cell_type": "code",
   "execution_count": 29,
   "id": "574e1da4",
   "metadata": {},
   "outputs": [],
   "source": [
    "def abbrev_name(name):\n",
    "    init= name.split(' ')\n",
    "    \n",
    "    init2=[]\n",
    "    \n",
    "    for x in init:\n",
    "        init2.append(x[0].upper())\n",
    "    \n",
    "    return '.'.join(init2)"
   ]
  },
  {
   "cell_type": "code",
   "execution_count": null,
   "id": "83a73aab",
   "metadata": {},
   "outputs": [],
   "source": [
    "\n"
   ]
  },
  {
   "cell_type": "code",
   "execution_count": null,
   "id": "2db4bac8",
   "metadata": {},
   "outputs": [],
   "source": []
  },
  {
   "cell_type": "code",
   "execution_count": 30,
   "id": "64e7ab3e",
   "metadata": {},
   "outputs": [],
   "source": [
    "def filter_list(l):\n",
    "    filtered_list=[]\n",
    "    for x in l:\n",
    "        if type(x)== 'int':\n",
    "            filtered_list.append(x)\n",
    "    return filtered_list"
   ]
  },
  {
   "cell_type": "code",
   "execution_count": 32,
   "id": "b12e5d33",
   "metadata": {},
   "outputs": [
    {
     "data": {
      "text/plain": [
       "[]"
      ]
     },
     "execution_count": 32,
     "metadata": {},
     "output_type": "execute_result"
    }
   ],
   "source": [
    "filter_list([1, 2, \"a\", \"b\"])"
   ]
  },
  {
   "cell_type": "code",
   "execution_count": 36,
   "id": "368f49a3",
   "metadata": {},
   "outputs": [],
   "source": [
    "def filter_list(l):\n",
    "    filtered_list=[]\n",
    "    for x in l:\n",
    "        print(type(x))"
   ]
  },
  {
   "cell_type": "code",
   "execution_count": 34,
   "id": "42ca2388",
   "metadata": {},
   "outputs": [
    {
     "data": {
      "text/plain": [
       "int"
      ]
     },
     "execution_count": 34,
     "metadata": {},
     "output_type": "execute_result"
    }
   ],
   "source": [
    "filter_list([1, 2, \"a\", \"b\"])"
   ]
  },
  {
   "cell_type": "code",
   "execution_count": 40,
   "id": "8fd7e99a",
   "metadata": {},
   "outputs": [],
   "source": [
    "def filter_list(l):\n",
    "    filtered_list=[]\n",
    "    for x in l:\n",
    "        print(type(x))"
   ]
  },
  {
   "cell_type": "code",
   "execution_count": 41,
   "id": "4ecdddbd",
   "metadata": {},
   "outputs": [
    {
     "name": "stdout",
     "output_type": "stream",
     "text": [
      "<class 'int'>\n",
      "<class 'int'>\n",
      "<class 'str'>\n",
      "<class 'str'>\n"
     ]
    }
   ],
   "source": [
    "filter_list([1, 2, \"a\", \"b\"])"
   ]
  },
  {
   "cell_type": "code",
   "execution_count": 50,
   "id": "397fa57a",
   "metadata": {},
   "outputs": [],
   "source": [
    "def filter_list(l):\n",
    "    filtered_list=[]\n",
    "    for x in l:\n",
    "        if type(x)== int:\n",
    "            filtered_list.append(x)\n",
    "    return filtered_list"
   ]
  },
  {
   "cell_type": "code",
   "execution_count": 51,
   "id": "34314194",
   "metadata": {},
   "outputs": [
    {
     "data": {
      "text/plain": [
       "[1, 2]"
      ]
     },
     "execution_count": 51,
     "metadata": {},
     "output_type": "execute_result"
    }
   ],
   "source": [
    "filter_list([1, 2, \"a\", \"b\"])"
   ]
  },
  {
   "cell_type": "code",
   "execution_count": 56,
   "id": "049b7ac4",
   "metadata": {},
   "outputs": [],
   "source": [
    "def find_next_square(sq):\n",
    "    \n",
    "    \n",
    "    for x in sq:\n",
    "        sq1=\n",
    "        if type(sqrt(x))!=int:\n",
    "            return f'-1 since {x} is not a perfect square'\n",
    "        else:\n",
    "            pass"
   ]
  },
  {
   "cell_type": "code",
   "execution_count": 57,
   "id": "57639171",
   "metadata": {},
   "outputs": [
    {
     "ename": "TypeError",
     "evalue": "'int' object is not iterable",
     "output_type": "error",
     "traceback": [
      "\u001b[1;31m---------------------------------------------------------------------------\u001b[0m",
      "\u001b[1;31mTypeError\u001b[0m                                 Traceback (most recent call last)",
      "\u001b[1;32m~\\AppData\\Local\\Temp/ipykernel_13728/2204513229.py\u001b[0m in \u001b[0;36m<module>\u001b[1;34m\u001b[0m\n\u001b[1;32m----> 1\u001b[1;33m \u001b[0mfind_next_square\u001b[0m\u001b[1;33m(\u001b[0m\u001b[1;36m3\u001b[0m\u001b[1;33m)\u001b[0m\u001b[1;33m\u001b[0m\u001b[1;33m\u001b[0m\u001b[0m\n\u001b[0m",
      "\u001b[1;32m~\\AppData\\Local\\Temp/ipykernel_13728/527751249.py\u001b[0m in \u001b[0;36mfind_next_square\u001b[1;34m(sq)\u001b[0m\n\u001b[0;32m      2\u001b[0m \u001b[1;33m\u001b[0m\u001b[0m\n\u001b[0;32m      3\u001b[0m \u001b[1;33m\u001b[0m\u001b[0m\n\u001b[1;32m----> 4\u001b[1;33m     \u001b[1;32mfor\u001b[0m \u001b[0mx\u001b[0m \u001b[1;32min\u001b[0m \u001b[0msq\u001b[0m\u001b[1;33m:\u001b[0m\u001b[1;33m\u001b[0m\u001b[1;33m\u001b[0m\u001b[0m\n\u001b[0m\u001b[0;32m      5\u001b[0m         \u001b[0msq1\u001b[0m\u001b[1;33m=\u001b[0m\u001b[0msqrt\u001b[0m\u001b[1;33m(\u001b[0m\u001b[0mx\u001b[0m\u001b[1;33m)\u001b[0m\u001b[1;33m\u001b[0m\u001b[1;33m\u001b[0m\u001b[0m\n\u001b[0;32m      6\u001b[0m         \u001b[1;32mif\u001b[0m \u001b[0mtype\u001b[0m\u001b[1;33m(\u001b[0m\u001b[0msq1\u001b[0m\u001b[1;33m)\u001b[0m\u001b[1;33m!=\u001b[0m\u001b[0mint\u001b[0m\u001b[1;33m:\u001b[0m\u001b[1;33m\u001b[0m\u001b[1;33m\u001b[0m\u001b[0m\n",
      "\u001b[1;31mTypeError\u001b[0m: 'int' object is not iterable"
     ]
    }
   ],
   "source": [
    "find_next_square(3)"
   ]
  },
  {
   "cell_type": "code",
   "execution_count": 67,
   "id": "4be873e4",
   "metadata": {},
   "outputs": [],
   "source": [
    "import math "
   ]
  },
  {
   "cell_type": "code",
   "execution_count": 83,
   "id": "f881306c",
   "metadata": {},
   "outputs": [],
   "source": [
    "def find_next_square(sq):\n",
    "    if math.sqrt(sq).is_integer()== False:\n",
    "        return -1"
   ]
  },
  {
   "cell_type": "code",
   "execution_count": 84,
   "id": "e444f307",
   "metadata": {},
   "outputs": [
    {
     "data": {
      "text/plain": [
       "-1"
      ]
     },
     "execution_count": 84,
     "metadata": {},
     "output_type": "execute_result"
    }
   ],
   "source": [
    "find_next_square(3)"
   ]
  },
  {
   "cell_type": "code",
   "execution_count": 111,
   "id": "f71a024c",
   "metadata": {},
   "outputs": [],
   "source": [
    "def find_next_square(sq):\n",
    "    if math.sqrt(sq).is_integer()== False:\n",
    "        return -1\n",
    "    else:\n",
    "        sq +=1\n",
    "        while math.sqrt(sq)%1!=0:\n",
    "            sq += 1\n",
    "    return sq"
   ]
  },
  {
   "cell_type": "code",
   "execution_count": 112,
   "id": "7ec901d9",
   "metadata": {},
   "outputs": [
    {
     "data": {
      "text/plain": [
       "144"
      ]
     },
     "execution_count": 112,
     "metadata": {},
     "output_type": "execute_result"
    }
   ],
   "source": [
    "find_next_square(121)"
   ]
  },
  {
   "cell_type": "code",
   "execution_count": 107,
   "id": "6a39dbf8",
   "metadata": {},
   "outputs": [
    {
     "data": {
      "text/plain": [
       "2.23606797749979"
      ]
     },
     "execution_count": 107,
     "metadata": {},
     "output_type": "execute_result"
    }
   ],
   "source": [
    "math.sqrt(5)"
   ]
  },
  {
   "cell_type": "code",
   "execution_count": 80,
   "id": "4a5c7bdc",
   "metadata": {},
   "outputs": [
    {
     "data": {
      "text/plain": [
       "2.0"
      ]
     },
     "execution_count": 80,
     "metadata": {},
     "output_type": "execute_result"
    }
   ],
   "source": [
    "4**.5"
   ]
  },
  {
   "cell_type": "code",
   "execution_count": 97,
   "id": "5ad413c4",
   "metadata": {},
   "outputs": [],
   "source": [
    "def do(it):\n",
    "    while it < 6:\n",
    "        print(it)\n",
    "        it += 1\n"
   ]
  },
  {
   "cell_type": "code",
   "execution_count": 98,
   "id": "15a9a946",
   "metadata": {},
   "outputs": [
    {
     "name": "stdout",
     "output_type": "stream",
     "text": [
      "1\n",
      "2\n",
      "3\n",
      "4\n",
      "5\n"
     ]
    }
   ],
   "source": [
    "do(1)"
   ]
  },
  {
   "cell_type": "code",
   "execution_count": 113,
   "id": "ae8dc88a",
   "metadata": {},
   "outputs": [],
   "source": [
    "def find_next_square2(sq):\n",
    "    if math.sqrt(sq)%1 == 0:\n",
    "        return (math.sqrt(sq)+1)**2\n",
    "    else:\n",
    "        return -1"
   ]
  },
  {
   "cell_type": "code",
   "execution_count": 115,
   "id": "b34c4211",
   "metadata": {},
   "outputs": [
    {
     "data": {
      "text/plain": [
       "144.0"
      ]
     },
     "execution_count": 115,
     "metadata": {},
     "output_type": "execute_result"
    }
   ],
   "source": [
    "find_next_square2(121)"
   ]
  },
  {
   "cell_type": "code",
   "execution_count": null,
   "id": "19c47cbb",
   "metadata": {},
   "outputs": [],
   "source": [
    "import math\n",
    "\n",
    "def find_next_square(sq):\n",
    "    if math.sqrt(sq)%1 != 0:\n",
    "        return -1\n",
    "    else:\n",
    "        sq +=1\n",
    "        while math.sqrt(sq)%1 != 0:\n",
    "            sq += 1\n",
    "    return sq"
   ]
  },
  {
   "cell_type": "code",
   "execution_count": 116,
   "id": "b1bc8599",
   "metadata": {},
   "outputs": [
    {
     "ename": "SyntaxError",
     "evalue": "invalid syntax (Temp/ipykernel_13728/2095591502.py, line 2)",
     "output_type": "error",
     "traceback": [
      "\u001b[1;36m  File \u001b[1;32m\"C:\\Users\\areus\\AppData\\Local\\Temp/ipykernel_13728/2095591502.py\"\u001b[1;36m, line \u001b[1;32m2\u001b[0m\n\u001b[1;33m    \"double  spaces\"      ==> \"elbuod  secaps\"\u001b[0m\n\u001b[1;37m                            ^\u001b[0m\n\u001b[1;31mSyntaxError\u001b[0m\u001b[1;31m:\u001b[0m invalid syntax\n"
     ]
    }
   ],
   "source": [
    "#This is an example!\" ==> \"sihT si na !elpmaxe\"\n",
    "\"double  spaces\"      ==> \"elbuod  secaps\""
   ]
  },
  {
   "cell_type": "code",
   "execution_count": 131,
   "id": "c4bd8410",
   "metadata": {},
   "outputs": [],
   "source": [
    "def reverse_words(text):\n",
    "    words = text.split(' ')\n",
    "    rev_words =[]\n",
    "    \n",
    "    for x in words:\n",
    "        rev_words.append(x[::-1])\n",
    "    \n",
    "    return \" \".join(rev_words)\n",
    "    \n",
    "    "
   ]
  },
  {
   "cell_type": "code",
   "execution_count": 132,
   "id": "b136d5b8",
   "metadata": {},
   "outputs": [
    {
     "data": {
      "text/plain": [
       "'siht si na elpmaxe'"
      ]
     },
     "execution_count": 132,
     "metadata": {},
     "output_type": "execute_result"
    }
   ],
   "source": [
    "reverse_words(\"this is an example\")"
   ]
  },
  {
   "cell_type": "code",
   "execution_count": 228,
   "id": "89af1182",
   "metadata": {},
   "outputs": [],
   "source": [
    "def descending_order(num):\n",
    "    nums=str(num)\n",
    "    nums2=[]\n",
    "\n",
    "    for x in nums:\n",
    "        nums2.append(int(x))\n",
    "    nums2.sort(reverse=True)\n",
    "    return int(''.join(str(e) for e in nums2))\n",
    "    \n"
   ]
  },
  {
   "cell_type": "code",
   "execution_count": 229,
   "id": "626543d4",
   "metadata": {},
   "outputs": [
    {
     "data": {
      "text/plain": [
       "654321"
      ]
     },
     "execution_count": 229,
     "metadata": {},
     "output_type": "execute_result"
    }
   ],
   "source": [
    "descending_order(145263)"
   ]
  },
  {
   "cell_type": "code",
   "execution_count": 240,
   "id": "26114979",
   "metadata": {},
   "outputs": [],
   "source": [
    "def descending_order(num):\n",
    "    print(num)\n",
    "    print(str(num))\n",
    "    print(sorted(str(num),reverse=True))\n",
    "    print(int(''.join(sorted(str(num),reverse=True))))"
   ]
  },
  {
   "cell_type": "code",
   "execution_count": 241,
   "id": "392ecc25",
   "metadata": {},
   "outputs": [
    {
     "name": "stdout",
     "output_type": "stream",
     "text": [
      "145263\n",
      "145263\n",
      "['6', '5', '4', '3', '2', '1']\n",
      "654321\n"
     ]
    }
   ],
   "source": [
    "descending_order(145263)"
   ]
  },
  {
   "cell_type": "code",
   "execution_count": null,
   "id": "857b6cd4",
   "metadata": {},
   "outputs": [],
   "source": []
  },
  {
   "cell_type": "code",
   "execution_count": 274,
   "id": "a327a5d9",
   "metadata": {},
   "outputs": [],
   "source": [
    "def square_digits(num):\n",
    "    num2=[]\n",
    "    for x in str(num):\n",
    "        num2.append(str(int(x)**2))\n",
    "    print(int(''.join(num2)))\n"
   ]
  },
  {
   "cell_type": "code",
   "execution_count": 275,
   "id": "de55493b",
   "metadata": {},
   "outputs": [
    {
     "name": "stdout",
     "output_type": "stream",
     "text": [
      "811181\n"
     ]
    }
   ],
   "source": [
    "square_digits(9119)"
   ]
  },
  {
   "cell_type": "code",
   "execution_count": 276,
   "id": "57639c8e",
   "metadata": {},
   "outputs": [],
   "source": [
    "def square_digits(num):\n",
    "    return int(''.join(str(int(x)**2) for x in str(num)))"
   ]
  },
  {
   "cell_type": "code",
   "execution_count": 277,
   "id": "2accef1b",
   "metadata": {},
   "outputs": [
    {
     "data": {
      "text/plain": [
       "811181"
      ]
     },
     "execution_count": 277,
     "metadata": {},
     "output_type": "execute_result"
    }
   ],
   "source": [
    "square_digits(9119)"
   ]
  },
  {
   "cell_type": "code",
   "execution_count": null,
   "id": "73ba57ce",
   "metadata": {},
   "outputs": [],
   "source": []
  },
  {
   "cell_type": "code",
   "execution_count": 290,
   "id": "143ba6ad",
   "metadata": {},
   "outputs": [],
   "source": [
    "def open_or_senior(data):\n",
    "#senior : age>= 55 and handicap<7\n",
    "    for pair in data:\n",
    "        for x in pair:\n",
    "            if x[0]>=55 and x[1]<7:\n",
    "                return 'Senior'\n",
    "            else:\n",
    "                return 'Open'"
   ]
  },
  {
   "cell_type": "code",
   "execution_count": 291,
   "id": "b15cf54a",
   "metadata": {},
   "outputs": [],
   "source": [
    "input =  [[18, 20], [45, 2], [61, 12], [37, 6], [21, 21], [78, 9]]"
   ]
  },
  {
   "cell_type": "code",
   "execution_count": 292,
   "id": "dcbed6d2",
   "metadata": {},
   "outputs": [
    {
     "ename": "TypeError",
     "evalue": "'int' object is not subscriptable",
     "output_type": "error",
     "traceback": [
      "\u001b[1;31m---------------------------------------------------------------------------\u001b[0m",
      "\u001b[1;31mTypeError\u001b[0m                                 Traceback (most recent call last)",
      "\u001b[1;32m~\\AppData\\Local\\Temp/ipykernel_13728/2182182225.py\u001b[0m in \u001b[0;36m<module>\u001b[1;34m\u001b[0m\n\u001b[1;32m----> 1\u001b[1;33m \u001b[0mopen_or_senior\u001b[0m\u001b[1;33m(\u001b[0m\u001b[1;33m[\u001b[0m\u001b[1;33m[\u001b[0m\u001b[1;36m18\u001b[0m\u001b[1;33m,\u001b[0m \u001b[1;36m20\u001b[0m\u001b[1;33m]\u001b[0m\u001b[1;33m,\u001b[0m \u001b[1;33m[\u001b[0m\u001b[1;36m45\u001b[0m\u001b[1;33m,\u001b[0m \u001b[1;36m2\u001b[0m\u001b[1;33m]\u001b[0m\u001b[1;33m,\u001b[0m \u001b[1;33m[\u001b[0m\u001b[1;36m61\u001b[0m\u001b[1;33m,\u001b[0m \u001b[1;36m12\u001b[0m\u001b[1;33m]\u001b[0m\u001b[1;33m,\u001b[0m \u001b[1;33m[\u001b[0m\u001b[1;36m37\u001b[0m\u001b[1;33m,\u001b[0m \u001b[1;36m6\u001b[0m\u001b[1;33m]\u001b[0m\u001b[1;33m,\u001b[0m \u001b[1;33m[\u001b[0m\u001b[1;36m21\u001b[0m\u001b[1;33m,\u001b[0m \u001b[1;36m21\u001b[0m\u001b[1;33m]\u001b[0m\u001b[1;33m,\u001b[0m \u001b[1;33m[\u001b[0m\u001b[1;36m78\u001b[0m\u001b[1;33m,\u001b[0m \u001b[1;36m9\u001b[0m\u001b[1;33m]\u001b[0m\u001b[1;33m]\u001b[0m\u001b[1;33m)\u001b[0m\u001b[1;33m\u001b[0m\u001b[1;33m\u001b[0m\u001b[0m\n\u001b[0m",
      "\u001b[1;32m~\\AppData\\Local\\Temp/ipykernel_13728/4258837986.py\u001b[0m in \u001b[0;36mopen_or_senior\u001b[1;34m(data)\u001b[0m\n\u001b[0;32m      3\u001b[0m     \u001b[1;32mfor\u001b[0m \u001b[0mpair\u001b[0m \u001b[1;32min\u001b[0m \u001b[0mdata\u001b[0m\u001b[1;33m:\u001b[0m\u001b[1;33m\u001b[0m\u001b[1;33m\u001b[0m\u001b[0m\n\u001b[0;32m      4\u001b[0m         \u001b[1;32mfor\u001b[0m \u001b[0mx\u001b[0m \u001b[1;32min\u001b[0m \u001b[0mpair\u001b[0m\u001b[1;33m:\u001b[0m\u001b[1;33m\u001b[0m\u001b[1;33m\u001b[0m\u001b[0m\n\u001b[1;32m----> 5\u001b[1;33m             \u001b[1;32mif\u001b[0m \u001b[0mx\u001b[0m\u001b[1;33m[\u001b[0m\u001b[1;36m0\u001b[0m\u001b[1;33m]\u001b[0m\u001b[1;33m>=\u001b[0m\u001b[1;36m55\u001b[0m \u001b[1;32mand\u001b[0m \u001b[0mx\u001b[0m\u001b[1;33m[\u001b[0m\u001b[1;36m1\u001b[0m\u001b[1;33m]\u001b[0m\u001b[1;33m<\u001b[0m\u001b[1;36m7\u001b[0m\u001b[1;33m:\u001b[0m\u001b[1;33m\u001b[0m\u001b[1;33m\u001b[0m\u001b[0m\n\u001b[0m\u001b[0;32m      6\u001b[0m                 \u001b[1;32mreturn\u001b[0m \u001b[1;34m'Senior'\u001b[0m\u001b[1;33m\u001b[0m\u001b[1;33m\u001b[0m\u001b[0m\n\u001b[0;32m      7\u001b[0m             \u001b[1;32melse\u001b[0m\u001b[1;33m:\u001b[0m\u001b[1;33m\u001b[0m\u001b[1;33m\u001b[0m\u001b[0m\n",
      "\u001b[1;31mTypeError\u001b[0m: 'int' object is not subscriptable"
     ]
    }
   ],
   "source": [
    "open_or_senior([[18, 20], [45, 2], [61, 12], [37, 6], [21, 21], [78, 9]])"
   ]
  },
  {
   "cell_type": "code",
   "execution_count": 295,
   "id": "93545de0",
   "metadata": {},
   "outputs": [],
   "source": [
    "def open_or_senior(data):\n",
    "#senior : age>= 55 and handicap<7\n",
    "    for pair in data:\n",
    "        print(pair)\n",
    "        #for x in pair:\n",
    "            #print(x)\n",
    "            #if x[0]>=55 and x[1]<7:\n",
    "                #return 'Senior'\n",
    "            #else:\n",
    "                #return 'Open'"
   ]
  },
  {
   "cell_type": "code",
   "execution_count": 296,
   "id": "fd03a104",
   "metadata": {},
   "outputs": [
    {
     "name": "stdout",
     "output_type": "stream",
     "text": [
      "[18, 20]\n",
      "[45, 2]\n",
      "[61, 12]\n",
      "[37, 6]\n",
      "[21, 21]\n",
      "[78, 9]\n"
     ]
    }
   ],
   "source": [
    "open_or_senior([[18, 20], [45, 2], [61, 12], [37, 6], [21, 21], [78, 9]])"
   ]
  },
  {
   "cell_type": "code",
   "execution_count": 304,
   "id": "1efdbea1",
   "metadata": {},
   "outputs": [],
   "source": [
    "def open_or_senior(data):\n",
    "#senior : age>= 55 and handicap>7\n",
    "    ranks=[]\n",
    "    \n",
    "    for pair in data:\n",
    "        if pair[0]>=55 and pair[1]>7:\n",
    "            ranks.append('Senior')\n",
    "        else:\n",
    "            ranks.append('Open')\n",
    "    return ranks"
   ]
  },
  {
   "cell_type": "code",
   "execution_count": 305,
   "id": "922058ab",
   "metadata": {},
   "outputs": [
    {
     "data": {
      "text/plain": [
       "['Open', 'Open', 'Senior', 'Open', 'Open', 'Senior']"
      ]
     },
     "execution_count": 305,
     "metadata": {},
     "output_type": "execute_result"
    }
   ],
   "source": [
    "open_or_senior([[18, 20], [45, 2], [61, 12], [37, 6], [21, 21], [78, 9]])"
   ]
  },
  {
   "cell_type": "code",
   "execution_count": 306,
   "id": "23289f9d",
   "metadata": {},
   "outputs": [],
   "source": [
    "def open_or_senior(data):\n",
    "    return ['Senior' if age>=55 and handicap>7 else 'Open' for (age,handicap) in data]"
   ]
  },
  {
   "cell_type": "code",
   "execution_count": 307,
   "id": "7865911f",
   "metadata": {},
   "outputs": [
    {
     "data": {
      "text/plain": [
       "['Open', 'Open', 'Senior', 'Open', 'Open', 'Senior']"
      ]
     },
     "execution_count": 307,
     "metadata": {},
     "output_type": "execute_result"
    }
   ],
   "source": [
    "open_or_senior([[18, 20], [45, 2], [61, 12], [37, 6], [21, 21], [78, 9]])"
   ]
  },
  {
   "cell_type": "code",
   "execution_count": null,
   "id": "9052f5de",
   "metadata": {},
   "outputs": [],
   "source": []
  },
  {
   "cell_type": "code",
   "execution_count": 309,
   "id": "34b4e292",
   "metadata": {},
   "outputs": [],
   "source": [
    "def count_positives_sum_negatives(arr):\n",
    "    pos=[]\n",
    "    neg=[]\n",
    "    if len(arr) >=1:\n",
    "        for x in arr:\n",
    "            if x> 0:\n",
    "                pos.append(x)\n",
    "            elif x<0:\n",
    "                neg.append(x)\n",
    "            else:\n",
    "                pass\n",
    "        return [len(pos),sum(neg)]\n",
    "    else:\n",
    "        return []"
   ]
  },
  {
   "cell_type": "code",
   "execution_count": 310,
   "id": "03920676",
   "metadata": {},
   "outputs": [
    {
     "data": {
      "text/plain": [
       "[10, -65]"
      ]
     },
     "execution_count": 310,
     "metadata": {},
     "output_type": "execute_result"
    }
   ],
   "source": [
    "count_positives_sum_negatives([1, 2, 3, 4, 5, 6, 7, 8, 9, 10, -11, -12, -13, -14, -15])"
   ]
  },
  {
   "cell_type": "code",
   "execution_count": null,
   "id": "d620bb9f",
   "metadata": {},
   "outputs": [],
   "source": []
  },
  {
   "cell_type": "code",
   "execution_count": 338,
   "id": "33625885",
   "metadata": {},
   "outputs": [],
   "source": [
    "def disemvowel(string_):\n",
    "    muted=''\n",
    "    for letter in string_:\n",
    "        print(letter.lower())\n",
    "        if letter.lower() != 'a' and letter != 'e' and letter != 'i' and letter != 'o' and letter != 'u':\n",
    "            muted += letter\n",
    "    return muted"
   ]
  },
  {
   "cell_type": "code",
   "execution_count": 339,
   "id": "13cf5f21",
   "metadata": {},
   "outputs": [
    {
     "name": "stdout",
     "output_type": "stream",
     "text": [
      "t\n",
      "h\n",
      "i\n",
      "s\n",
      " \n",
      "w\n",
      "e\n",
      "b\n",
      "s\n",
      "i\n",
      "t\n",
      "e\n",
      " \n",
      "i\n",
      "s\n",
      " \n",
      "f\n",
      "o\n",
      "r\n",
      " \n",
      "l\n",
      "o\n",
      "s\n",
      "e\n",
      "r\n",
      "s\n",
      " \n",
      "l\n",
      "o\n",
      "l\n",
      "!\n"
     ]
    },
    {
     "data": {
      "text/plain": [
       "'Ths wbst s fr lsrs LOL!'"
      ]
     },
     "execution_count": 339,
     "metadata": {},
     "output_type": "execute_result"
    }
   ],
   "source": [
    "disemvowel(\"This website is for losers LOL!\")"
   ]
  },
  {
   "cell_type": "code",
   "execution_count": null,
   "id": "c82ae813",
   "metadata": {},
   "outputs": [],
   "source": []
  },
  {
   "cell_type": "code",
   "execution_count": 344,
   "id": "65b09c36",
   "metadata": {},
   "outputs": [],
   "source": [
    "def disemvowel(string_):\n",
    "    muted=''\n",
    "    for letter in string_:\n",
    "        if letter.lower() not in ['a','e','i','o','u']:\n",
    "            muted += letter\n",
    "    return muted"
   ]
  },
  {
   "cell_type": "code",
   "execution_count": 345,
   "id": "78bfee96",
   "metadata": {},
   "outputs": [
    {
     "data": {
      "text/plain": [
       "'Ths wbst s fr lsrs LL!'"
      ]
     },
     "execution_count": 345,
     "metadata": {},
     "output_type": "execute_result"
    }
   ],
   "source": [
    "disemvowel(\"This website is for losers LOL!\")"
   ]
  },
  {
   "cell_type": "code",
   "execution_count": null,
   "id": "461e306f",
   "metadata": {},
   "outputs": [],
   "source": []
  }
 ],
 "metadata": {
  "kernelspec": {
   "display_name": "Python 3 (ipykernel)",
   "language": "python",
   "name": "python3"
  },
  "language_info": {
   "codemirror_mode": {
    "name": "ipython",
    "version": 3
   },
   "file_extension": ".py",
   "mimetype": "text/x-python",
   "name": "python",
   "nbconvert_exporter": "python",
   "pygments_lexer": "ipython3",
   "version": "3.9.7"
  }
 },
 "nbformat": 4,
 "nbformat_minor": 5
}
