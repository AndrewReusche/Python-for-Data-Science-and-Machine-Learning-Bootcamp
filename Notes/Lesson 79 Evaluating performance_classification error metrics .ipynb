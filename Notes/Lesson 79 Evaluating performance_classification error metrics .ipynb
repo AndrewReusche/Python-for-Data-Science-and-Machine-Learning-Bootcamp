{
 "cells": [
  {
   "cell_type": "markdown",
   "id": "ccdc87bb",
   "metadata": {},
   "source": [
    "the key classification metrics we need to understand are:\n",
    "\n",
    "accuracy\n",
    "\n",
    "recall\n",
    "\n",
    "precision \n",
    "\n",
    "f1-score"
   ]
  },
  {
   "cell_type": "markdown",
   "id": "9ec69761",
   "metadata": {},
   "source": [
    "Accuracy:\n",
    "    in classification problems is the number of correct predictions made by the model divided by the total number \n",
    "of prodictions"
   ]
  },
  {
   "cell_type": "markdown",
   "id": "a26b6e52",
   "metadata": {},
   "source": [
    "accuracy is only good when we have balanced classes"
   ]
  },
  {
   "cell_type": "markdown",
   "id": "5c4b50b2",
   "metadata": {},
   "source": [
    "Recall: the ability of a model to find all the relevant cases within a dataset\n",
    "\n",
    "    the precise definition of recall is the number of true positives divided by the number of true positives plus the number of false negatives "
   ]
  },
  {
   "cell_type": "markdown",
   "id": "c3a8250b",
   "metadata": {},
   "source": [
    "Precision: the ability od a classification model to identify only the relevant data points\n",
    "    \n",
    "    precision is defined as the number of true positives divided by the number of false positives"
   ]
  },
  {
   "cell_type": "markdown",
   "id": "ee359ff9",
   "metadata": {},
   "source": [
    "f1-score:\n",
    "\n",
    "    in cases where we want to find an optimal blend of precision and recall we can combine the two metrics using what is called an F1 score\n",
    "    \n",
    "    f1= 2* [(precision*recal)/(precision+recall)]\n",
    "    \n",
    "    we use this instead of a normal average because it punishes extreme values"
   ]
  },
  {
   "cell_type": "code",
   "execution_count": null,
   "id": "f13d2d49",
   "metadata": {},
   "outputs": [],
   "source": [
    " "
   ]
  }
 ],
 "metadata": {
  "kernelspec": {
   "display_name": "Python 3 (ipykernel)",
   "language": "python",
   "name": "python3"
  },
  "language_info": {
   "codemirror_mode": {
    "name": "ipython",
    "version": 3
   },
   "file_extension": ".py",
   "mimetype": "text/x-python",
   "name": "python",
   "nbconvert_exporter": "python",
   "pygments_lexer": "ipython3",
   "version": "3.9.7"
  }
 },
 "nbformat": 4,
 "nbformat_minor": 5
}
