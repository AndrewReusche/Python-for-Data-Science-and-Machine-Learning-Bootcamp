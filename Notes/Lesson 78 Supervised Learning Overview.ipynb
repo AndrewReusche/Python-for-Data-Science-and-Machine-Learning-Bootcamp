{
 "cells": [
  {
   "cell_type": "code",
   "execution_count": 1,
   "id": "13eec9fe",
   "metadata": {},
   "outputs": [],
   "source": [
    "#supervised learning algoriths are trained using LABELED examples, such as input where the desired output is known"
   ]
  },
  {
   "cell_type": "code",
   "execution_count": 2,
   "id": "502bc6ec",
   "metadata": {},
   "outputs": [],
   "source": [
    "#for example, a segment if test could hace a category lavel such as (spam vs legitimate email, or positive vs negative\n",
    "#movie review)"
   ]
  },
  {
   "cell_type": "markdown",
   "id": "239f50af",
   "metadata": {},
   "source": [
    "how this works with neural networks"
   ]
  },
  {
   "cell_type": "markdown",
   "id": "1a15b90b",
   "metadata": {},
   "source": [
    "the network receives a set of inputs along with the corresponding correct outputs, and the algorith learns by comparing its \n",
    "actual output with correct outputs to find errors\n",
    "\n",
    "it then modifies the model accordingly \n"
   ]
  },
  {
   "cell_type": "markdown",
   "id": "99b2746d",
   "metadata": {},
   "source": [
    "superivsed learning is used in applications where historical data predicts likely future events"
   ]
  },
  {
   "cell_type": "markdown",
   "id": "31af5f10",
   "metadata": {},
   "source": [
    "# Machine learning process"
   ]
  },
  {
   "cell_type": "markdown",
   "id": "71d13adb",
   "metadata": {},
   "source": [
    "1) data aquisition\n",
    "2) data cleaning\n",
    "3) split data into training data(~70%) and test data(~30%)"
   ]
  },
  {
   "cell_type": "markdown",
   "id": "123e66e4",
   "metadata": {},
   "source": [
    "it is better to split your data into three sets \n",
    "a: training data\n",
    "b: validation data\n",
    "c: test data"
   ]
  },
  {
   "cell_type": "code",
   "execution_count": null,
   "id": "5c73d9e7",
   "metadata": {},
   "outputs": [],
   "source": []
  }
 ],
 "metadata": {
  "kernelspec": {
   "display_name": "Python 3 (ipykernel)",
   "language": "python",
   "name": "python3"
  },
  "language_info": {
   "codemirror_mode": {
    "name": "ipython",
    "version": 3
   },
   "file_extension": ".py",
   "mimetype": "text/x-python",
   "name": "python",
   "nbconvert_exporter": "python",
   "pygments_lexer": "ipython3",
   "version": "3.9.7"
  }
 },
 "nbformat": 4,
 "nbformat_minor": 5
}
