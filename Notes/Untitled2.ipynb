{
 "cells": [
  {
   "cell_type": "code",
   "execution_count": 8,
   "id": "98401714",
   "metadata": {},
   "outputs": [],
   "source": [
    "import statistics\n",
    "\n",
    "def get_grade(s1, s2, s3):\n",
    "    score = (s1+s2+s3)/3\n",
    "    \n",
    "    if 0<= score <60:\n",
    "        return 'F'\n",
    "    elif 60<= score <70:\n",
    "        return 'D'\n",
    "    elif 70 <= score < 80:\n",
    "        return 'C'\n",
    "    elif 80 <= score < 90:\n",
    "        return 'B'\n",
    "    else:\n",
    "        return 'A';"
   ]
  },
  {
   "cell_type": "code",
   "execution_count": 9,
   "id": "9e5e03e0",
   "metadata": {},
   "outputs": [
    {
     "data": {
      "text/plain": [
       "'F'"
      ]
     },
     "execution_count": 9,
     "metadata": {},
     "output_type": "execute_result"
    }
   ],
   "source": [
    "get_grade(2,4,6)"
   ]
  },
  {
   "cell_type": "code",
   "execution_count": 10,
   "id": "5a04a004",
   "metadata": {},
   "outputs": [
    {
     "data": {
      "text/plain": [
       "[]"
      ]
     },
     "execution_count": 10,
     "metadata": {},
     "output_type": "execute_result"
    }
   ],
   "source": [
    "list()"
   ]
  },
  {
   "cell_type": "code",
   "execution_count": 11,
   "id": "6a1de3a6",
   "metadata": {},
   "outputs": [],
   "source": [
    "def get_grade(*s):\n",
    "    return 'FFFFFFDCBAA'[sum(s)//30]"
   ]
  },
  {
   "cell_type": "code",
   "execution_count": 12,
   "id": "cb80d601",
   "metadata": {},
   "outputs": [
    {
     "data": {
      "text/plain": [
       "'F'"
      ]
     },
     "execution_count": 12,
     "metadata": {},
     "output_type": "execute_result"
    }
   ],
   "source": [
    "get_grade(2,4,6)"
   ]
  },
  {
   "cell_type": "code",
   "execution_count": 13,
   "id": "f7ed2187",
   "metadata": {},
   "outputs": [
    {
     "data": {
      "text/plain": [
       "'C'"
      ]
     },
     "execution_count": 13,
     "metadata": {},
     "output_type": "execute_result"
    }
   ],
   "source": [
    "get_grade(54,92,88)"
   ]
  },
  {
   "cell_type": "code",
   "execution_count": 14,
   "id": "01f080e5",
   "metadata": {},
   "outputs": [],
   "source": [
    "def get_ranking(*s):\n",
    "    return 'ABCDEFGHIj'[sum(s)//40]"
   ]
  },
  {
   "cell_type": "code",
   "execution_count": 15,
   "id": "d5d6a6b3",
   "metadata": {},
   "outputs": [
    {
     "data": {
      "text/plain": [
       "'A'"
      ]
     },
     "execution_count": 15,
     "metadata": {},
     "output_type": "execute_result"
    }
   ],
   "source": [
    "get_ranking(1,2,3,4)"
   ]
  },
  {
   "cell_type": "code",
   "execution_count": 16,
   "id": "5322b9ec",
   "metadata": {},
   "outputs": [
    {
     "data": {
      "text/plain": [
       "'D'"
      ]
     },
     "execution_count": 16,
     "metadata": {},
     "output_type": "execute_result"
    }
   ],
   "source": [
    "get_ranking(20,30,40,50)"
   ]
  },
  {
   "cell_type": "code",
   "execution_count": 17,
   "id": "0cbee6b0",
   "metadata": {},
   "outputs": [
    {
     "data": {
      "text/plain": [
       "'j'"
      ]
     },
     "execution_count": 17,
     "metadata": {},
     "output_type": "execute_result"
    }
   ],
   "source": [
    "get_ranking(91,92,94,98)"
   ]
  },
  {
   "cell_type": "code",
   "execution_count": 20,
   "id": "88a48862",
   "metadata": {},
   "outputs": [],
   "source": [
    "def abbrev_name(name):\n",
    "    init= name.split(' ')\n",
    "\n",
    "    return init"
   ]
  },
  {
   "cell_type": "code",
   "execution_count": 21,
   "id": "5557dc44",
   "metadata": {},
   "outputs": [
    {
     "ename": "SyntaxError",
     "evalue": "invalid syntax (Temp/ipykernel_17516/4032102458.py, line 1)",
     "output_type": "error",
     "traceback": [
      "\u001b[1;36m  File \u001b[1;32m\"C:\\Users\\areus\\AppData\\Local\\Temp/ipykernel_17516/4032102458.py\"\u001b[1;36m, line \u001b[1;32m1\u001b[0m\n\u001b[1;33m    abbrev_name(andrew reusche)\u001b[0m\n\u001b[1;37m                       ^\u001b[0m\n\u001b[1;31mSyntaxError\u001b[0m\u001b[1;31m:\u001b[0m invalid syntax\n"
     ]
    }
   ],
   "source": [
    "abbrev_name(andrew reusche)"
   ]
  },
  {
   "cell_type": "code",
   "execution_count": null,
   "id": "1907895b",
   "metadata": {},
   "outputs": [],
   "source": []
  }
 ],
 "metadata": {
  "kernelspec": {
   "display_name": "Python 3 (ipykernel)",
   "language": "python",
   "name": "python3"
  },
  "language_info": {
   "codemirror_mode": {
    "name": "ipython",
    "version": 3
   },
   "file_extension": ".py",
   "mimetype": "text/x-python",
   "name": "python",
   "nbconvert_exporter": "python",
   "pygments_lexer": "ipython3",
   "version": "3.9.7"
  }
 },
 "nbformat": 4,
 "nbformat_minor": 5
}
