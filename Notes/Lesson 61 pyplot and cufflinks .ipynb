{
 "cells": [
  {
   "cell_type": "code",
   "execution_count": 5,
   "id": "7329d37b",
   "metadata": {},
   "outputs": [],
   "source": [
    "import chart_studio.plotly as py"
   ]
  },
  {
   "cell_type": "code",
   "execution_count": 2,
   "id": "a3193e26",
   "metadata": {},
   "outputs": [],
   "source": [
    "#Possible Colorscale Error 2: In the \"Real Data US Map Choropleth\", when you are creating the data dictionary, \n",
    "#make sure the colorscale line is = 'ylorbr', not 'YIOrbr'... so like this:\n",
    "\n",
    "#colorscale='ylorbr'\n",
    "\n"
   ]
  },
  {
   "cell_type": "code",
   "execution_count": null,
   "id": "d33d0d3f",
   "metadata": {},
   "outputs": [],
   "source": [
    "#3.Possible projection Error 3: In the \"World Map Choropleth\", when you are creating the layout, \n",
    "#ensure that your projection line is = {'type':'mercator'} not Mercator with a capital...so like this:\n",
    "\n",
    "#projection={'type':'mercator'}\n",
    "\n"
   ]
  },
  {
   "cell_type": "code",
   "execution_count": 3,
   "id": "7bde1dfe",
   "metadata": {},
   "outputs": [],
   "source": [
    "import pandas as pd\n",
    "import numpy as np"
   ]
  },
  {
   "cell_type": "code",
   "execution_count": 6,
   "id": "92d6b9a8",
   "metadata": {},
   "outputs": [],
   "source": [
    "from plotly import __version__"
   ]
  },
  {
   "cell_type": "code",
   "execution_count": 7,
   "id": "81eba16c",
   "metadata": {},
   "outputs": [
    {
     "name": "stdout",
     "output_type": "stream",
     "text": [
      "5.14.1\n"
     ]
    }
   ],
   "source": [
    "print(__version__)"
   ]
  },
  {
   "cell_type": "code",
   "execution_count": 9,
   "id": "de9a5420",
   "metadata": {},
   "outputs": [],
   "source": [
    "import cufflinks as cf"
   ]
  },
  {
   "cell_type": "code",
   "execution_count": 12,
   "id": "257c32e1",
   "metadata": {},
   "outputs": [],
   "source": [
    "from plotly.offline import download_plotlyjs, init_notebook_mode, plot,iplot"
   ]
  },
  {
   "cell_type": "code",
   "execution_count": 14,
   "id": "59c3623d",
   "metadata": {},
   "outputs": [
    {
     "data": {
      "text/html": [
       "        <script type=\"text/javascript\">\n",
       "        window.PlotlyConfig = {MathJaxConfig: 'local'};\n",
       "        if (window.MathJax && window.MathJax.Hub && window.MathJax.Hub.Config) {window.MathJax.Hub.Config({SVG: {font: \"STIX-Web\"}});}\n",
       "        if (typeof require !== 'undefined') {\n",
       "        require.undef(\"plotly\");\n",
       "        requirejs.config({\n",
       "            paths: {\n",
       "                'plotly': ['https://cdn.plot.ly/plotly-2.20.0.min']\n",
       "            }\n",
       "        });\n",
       "        require(['plotly'], function(Plotly) {\n",
       "            window._Plotly = Plotly;\n",
       "        });\n",
       "        }\n",
       "        </script>\n",
       "        "
      ]
     },
     "metadata": {},
     "output_type": "display_data"
    }
   ],
   "source": [
    "init_notebook_mode(connected=True)"
   ]
  },
  {
   "cell_type": "code",
   "execution_count": 15,
   "id": "289dbf18",
   "metadata": {},
   "outputs": [
    {
     "data": {
      "text/html": [
       "        <script type=\"text/javascript\">\n",
       "        window.PlotlyConfig = {MathJaxConfig: 'local'};\n",
       "        if (window.MathJax && window.MathJax.Hub && window.MathJax.Hub.Config) {window.MathJax.Hub.Config({SVG: {font: \"STIX-Web\"}});}\n",
       "        if (typeof require !== 'undefined') {\n",
       "        require.undef(\"plotly\");\n",
       "        requirejs.config({\n",
       "            paths: {\n",
       "                'plotly': ['https://cdn.plot.ly/plotly-2.20.0.min']\n",
       "            }\n",
       "        });\n",
       "        require(['plotly'], function(Plotly) {\n",
       "            window._Plotly = Plotly;\n",
       "        });\n",
       "        }\n",
       "        </script>\n",
       "        "
      ]
     },
     "metadata": {},
     "output_type": "display_data"
    }
   ],
   "source": [
    "cf.go_offline()"
   ]
  },
  {
   "cell_type": "code",
   "execution_count": 26,
   "id": "3675533a",
   "metadata": {},
   "outputs": [],
   "source": [
    "%matplotlib inline"
   ]
  },
  {
   "cell_type": "code",
   "execution_count": 17,
   "id": "4c98e248",
   "metadata": {},
   "outputs": [],
   "source": [
    "#data\n",
    "df=pd.DataFrame(np.random.randn(100,4))"
   ]
  },
  {
   "cell_type": "code",
   "execution_count": 18,
   "id": "3d92a590",
   "metadata": {},
   "outputs": [
    {
     "data": {
      "text/html": [
       "<div>\n",
       "<style scoped>\n",
       "    .dataframe tbody tr th:only-of-type {\n",
       "        vertical-align: middle;\n",
       "    }\n",
       "\n",
       "    .dataframe tbody tr th {\n",
       "        vertical-align: top;\n",
       "    }\n",
       "\n",
       "    .dataframe thead th {\n",
       "        text-align: right;\n",
       "    }\n",
       "</style>\n",
       "<table border=\"1\" class=\"dataframe\">\n",
       "  <thead>\n",
       "    <tr style=\"text-align: right;\">\n",
       "      <th></th>\n",
       "      <th>0</th>\n",
       "      <th>1</th>\n",
       "      <th>2</th>\n",
       "      <th>3</th>\n",
       "    </tr>\n",
       "  </thead>\n",
       "  <tbody>\n",
       "    <tr>\n",
       "      <th>0</th>\n",
       "      <td>1.226231</td>\n",
       "      <td>0.139836</td>\n",
       "      <td>0.179941</td>\n",
       "      <td>1.226531</td>\n",
       "    </tr>\n",
       "    <tr>\n",
       "      <th>1</th>\n",
       "      <td>1.054449</td>\n",
       "      <td>0.004927</td>\n",
       "      <td>0.298678</td>\n",
       "      <td>0.039610</td>\n",
       "    </tr>\n",
       "    <tr>\n",
       "      <th>2</th>\n",
       "      <td>-0.062730</td>\n",
       "      <td>1.557594</td>\n",
       "      <td>-0.972395</td>\n",
       "      <td>-2.298270</td>\n",
       "    </tr>\n",
       "    <tr>\n",
       "      <th>3</th>\n",
       "      <td>-0.213979</td>\n",
       "      <td>-2.348889</td>\n",
       "      <td>0.018043</td>\n",
       "      <td>-1.012556</td>\n",
       "    </tr>\n",
       "    <tr>\n",
       "      <th>4</th>\n",
       "      <td>-0.014765</td>\n",
       "      <td>-1.347976</td>\n",
       "      <td>0.286421</td>\n",
       "      <td>0.222060</td>\n",
       "    </tr>\n",
       "  </tbody>\n",
       "</table>\n",
       "</div>"
      ],
      "text/plain": [
       "          0         1         2         3\n",
       "0  1.226231  0.139836  0.179941  1.226531\n",
       "1  1.054449  0.004927  0.298678  0.039610\n",
       "2 -0.062730  1.557594 -0.972395 -2.298270\n",
       "3 -0.213979 -2.348889  0.018043 -1.012556\n",
       "4 -0.014765 -1.347976  0.286421  0.222060"
      ]
     },
     "execution_count": 18,
     "metadata": {},
     "output_type": "execute_result"
    }
   ],
   "source": [
    "df.head()"
   ]
  },
  {
   "cell_type": "code",
   "execution_count": 20,
   "id": "55359fd9",
   "metadata": {},
   "outputs": [],
   "source": [
    "df=pd.DataFrame(np.random.randn(100,4), columns ='A B C D'.split())"
   ]
  },
  {
   "cell_type": "code",
   "execution_count": 21,
   "id": "37b72322",
   "metadata": {},
   "outputs": [
    {
     "data": {
      "text/html": [
       "<div>\n",
       "<style scoped>\n",
       "    .dataframe tbody tr th:only-of-type {\n",
       "        vertical-align: middle;\n",
       "    }\n",
       "\n",
       "    .dataframe tbody tr th {\n",
       "        vertical-align: top;\n",
       "    }\n",
       "\n",
       "    .dataframe thead th {\n",
       "        text-align: right;\n",
       "    }\n",
       "</style>\n",
       "<table border=\"1\" class=\"dataframe\">\n",
       "  <thead>\n",
       "    <tr style=\"text-align: right;\">\n",
       "      <th></th>\n",
       "      <th>A</th>\n",
       "      <th>B</th>\n",
       "      <th>C</th>\n",
       "      <th>D</th>\n",
       "    </tr>\n",
       "  </thead>\n",
       "  <tbody>\n",
       "    <tr>\n",
       "      <th>0</th>\n",
       "      <td>-0.575343</td>\n",
       "      <td>-0.558070</td>\n",
       "      <td>0.611451</td>\n",
       "      <td>-0.101636</td>\n",
       "    </tr>\n",
       "    <tr>\n",
       "      <th>1</th>\n",
       "      <td>-0.285585</td>\n",
       "      <td>-0.449235</td>\n",
       "      <td>-1.453118</td>\n",
       "      <td>-0.355723</td>\n",
       "    </tr>\n",
       "    <tr>\n",
       "      <th>2</th>\n",
       "      <td>-0.096187</td>\n",
       "      <td>-0.716893</td>\n",
       "      <td>1.182741</td>\n",
       "      <td>0.938263</td>\n",
       "    </tr>\n",
       "    <tr>\n",
       "      <th>3</th>\n",
       "      <td>0.610357</td>\n",
       "      <td>0.983013</td>\n",
       "      <td>-0.891532</td>\n",
       "      <td>1.036516</td>\n",
       "    </tr>\n",
       "    <tr>\n",
       "      <th>4</th>\n",
       "      <td>-0.402570</td>\n",
       "      <td>1.624068</td>\n",
       "      <td>-0.696534</td>\n",
       "      <td>-1.083980</td>\n",
       "    </tr>\n",
       "  </tbody>\n",
       "</table>\n",
       "</div>"
      ],
      "text/plain": [
       "          A         B         C         D\n",
       "0 -0.575343 -0.558070  0.611451 -0.101636\n",
       "1 -0.285585 -0.449235 -1.453118 -0.355723\n",
       "2 -0.096187 -0.716893  1.182741  0.938263\n",
       "3  0.610357  0.983013 -0.891532  1.036516\n",
       "4 -0.402570  1.624068 -0.696534 -1.083980"
      ]
     },
     "execution_count": 21,
     "metadata": {},
     "output_type": "execute_result"
    }
   ],
   "source": [
    "df.head()"
   ]
  },
  {
   "cell_type": "code",
   "execution_count": 22,
   "id": "e64db67c",
   "metadata": {},
   "outputs": [],
   "source": [
    "df2=pd.DataFrame({'Category':['A','B','C'],'Values':[32,43,50]})"
   ]
  },
  {
   "cell_type": "code",
   "execution_count": 23,
   "id": "1a21bd2a",
   "metadata": {},
   "outputs": [
    {
     "data": {
      "text/html": [
       "<div>\n",
       "<style scoped>\n",
       "    .dataframe tbody tr th:only-of-type {\n",
       "        vertical-align: middle;\n",
       "    }\n",
       "\n",
       "    .dataframe tbody tr th {\n",
       "        vertical-align: top;\n",
       "    }\n",
       "\n",
       "    .dataframe thead th {\n",
       "        text-align: right;\n",
       "    }\n",
       "</style>\n",
       "<table border=\"1\" class=\"dataframe\">\n",
       "  <thead>\n",
       "    <tr style=\"text-align: right;\">\n",
       "      <th></th>\n",
       "      <th>Category</th>\n",
       "      <th>Values</th>\n",
       "    </tr>\n",
       "  </thead>\n",
       "  <tbody>\n",
       "    <tr>\n",
       "      <th>0</th>\n",
       "      <td>A</td>\n",
       "      <td>32</td>\n",
       "    </tr>\n",
       "    <tr>\n",
       "      <th>1</th>\n",
       "      <td>B</td>\n",
       "      <td>43</td>\n",
       "    </tr>\n",
       "    <tr>\n",
       "      <th>2</th>\n",
       "      <td>C</td>\n",
       "      <td>50</td>\n",
       "    </tr>\n",
       "  </tbody>\n",
       "</table>\n",
       "</div>"
      ],
      "text/plain": [
       "  Category  Values\n",
       "0        A      32\n",
       "1        B      43\n",
       "2        C      50"
      ]
     },
     "execution_count": 23,
     "metadata": {},
     "output_type": "execute_result"
    }
   ],
   "source": [
    "df2.head()"
   ]
  },
  {
   "cell_type": "code",
   "execution_count": 27,
   "id": "4f2746f2",
   "metadata": {},
   "outputs": [
    {
     "data": {
      "text/plain": [
       "<AxesSubplot:>"
      ]
     },
     "execution_count": 27,
     "metadata": {},
     "output_type": "execute_result"
    },
    {
     "data": {
      "image/png": "[encoded data removed]",
      "text/plain": [
       "<Figure size 432x288 with 1 Axes>"
      ]
     },
     "metadata": {
      "needs_background": "light"
     },
     "output_type": "display_data"
    }
   ],
   "source": [
    "df.plot()"
   ]
  },
  {
   "cell_type": "code",
   "execution_count": 28,
   "id": "abc96f52",
   "metadata": {},
   "outputs": [
    {
     "data": {
      "application/vnd.plotly.v1+json": {
       "config": {
        "linkText": "Export to plot.ly",
        "plotlyServerURL": "https://plot.ly",
        "showLink": true
       },
       "data": [
        {
         "line": {
          "color": "rgba(255, 153, 51, 1.0)",
          "dash": "solid",
          "shape": "linear",
          "width": 1.3
         },
         "mode": "lines",
         "name": "A",
         "text": "",
         "type": "scatter",
         "x": [
          0,
          1,
          2,
          3,
          4,
          5,
          6,
          7,
          8,
          9,
          10,
          11,
          12,
          13,
          14,
          15,
          16,
          17,
          18,
          19,
          20,
          21,
          22,
          23,
          24,
          25,
          26,
          27,
          28,
          29,
          30,
          31,
          32,
          33,
          34,
          35,
          36,
          37,
          38,
          39,
          40,
          41,
          42,
          43,
          44,
          45,
          46,
          47,
          48,
          49,
          50,
          51,
          52,
          53,
          54,
          55,
          56,
          57,
          58,
          59,
          60,
          61,
          62,
          63,
          64,
          65,
          66,
          67,
          68,
          69,
          70,
          71,
          72,
          73,
          74,
          75,
          76,
          77,
          78,
          79,
          80,
          81,
          82,
          83,
          84,
          85,
          86,
          87,
          88,
          89,
          90,
          91,
          92,
          93,
          94,
          95,
          96,
          97,
          98,
          99
         ],
         "y": [
          -0.5753426879256494,
          -0.2855850025875945,
          -0.0961869464912241,
          0.6103568764767965,
          -0.4025696750478465,
          0.4374070598595347,
          0.7852380548724863,
          0.5214648823245953,
          -0.00684583591222356,
          -0.5051783000764581,
          0.6530373694023148,
          0.8290643885983005,
          -0.16326941807355744,
          1.2946551885772357,
          0.3062829613096997,
          -0.40651524703456704,
          0.3896016631461653,
          -1.138922855036025,
          -0.7578633933957807,
          1.3509314503931424,
          -0.005010025924972767,
          -0.7973280566035829,
          -0.9426397821555511,
          0.7837430673863505,
          0.21275853925610655,
          -0.4223329495826686,
          -1.260774413115214,
          0.03781882593588207,
          0.46263467519767826,
          0.5546355561998378,
          -0.4842961772526561,
          0.4618702738864327,
          -0.26539049970315043,
          0.07173654988682814,
          1.2670586248816906,
          0.48257046492794947,
          0.8606764634836559,
          0.6828244703998747,
          0.2703051628152772,
          0.0908652995232409,
          1.3407457592744865,
          0.6876439459516805,
          -1.3694094056973394,
          -0.4335211415628346,
          -1.1267120131338622,
          1.3400799055072092,
          -0.1422947461813094,
          -1.248940584041396,
          -2.124104883981563,
          -1.3019259842261062,
          1.2253863790785309,
          -1.50671466014991,
          0.07538508733247389,
          1.2494402889239615,
          0.18255827197336624,
          -1.0105509243088642,
          -1.1891302933224321,
          -0.11628475166186489,
          -0.4734418847308924,
          0.8718766160831669,
          -0.35944283707649927,
          -0.6793897450131363,
          -0.18631676258814278,
          -1.2782273458212,
          1.4977187013693063,
          1.177236002604748,
          -1.0941913024273784,
          2.2404207802414633,
          -1.7525070260970546,
          0.216729499836274,
          -0.24615959069611515,
          -0.9566272104115014,
          -1.3354612997377038,
          0.22350132903717154,
          0.9938854360185605,
          -0.678036349363896,
          -1.269837301038907,
          0.023573204636028175,
          1.1893098288366686,
          0.3945672020711424,
          0.16556190679953686,
          1.0533923683620778,
          0.7980311950587345,
          -0.4648689451877062,
          -1.1224975907209203,
          0.5905563562444988,
          0.7187909232916364,
          0.001996256304215127,
          -0.5024319634754288,
          1.8039520156480824,
          -0.21920796816159593,
          -0.08410382918341316,
          0.7263457090750816,
          1.3527961859231261,
          -1.544852980293307,
          -0.2966107732450681,
          -0.11415615694751836,
          -0.12881703002004213,
          1.2741874708953127,
          1.1393830437473285
         ]
        },
        {
         "line": {
          "color": "rgba(55, 128, 191, 1.0)",
          "dash": "solid",
          "shape": "linear",
          "width": 1.3
         },
         "mode": "lines",
         "name": "B",
         "text": "",
         "type": "scatter",
         "x": [
          0,
          1,
          2,
          3,
          4,
          5,
          6,
          7,
          8,
          9,
          10,
          11,
          12,
          13,
          14,
          15,
          16,
          17,
          18,
          19,
          20,
          21,
          22,
          23,
          24,
          25,
          26,
          27,
          28,
          29,
          30,
          31,
          32,
          33,
          34,
          35,
          36,
          37,
          38,
          39,
          40,
          41,
          42,
          43,
          44,
          45,
          46,
          47,
          48,
          49,
          50,
          51,
          52,
          53,
          54,
          55,
          56,
          57,
          58,
          59,
          60,
          61,
          62,
          63,
          64,
          65,
          66,
          67,
          68,
          69,
          70,
          71,
          72,
          73,
          74,
          75,
          76,
          77,
          78,
          79,
          80,
          81,
          82,
          83,
          84,
          85,
          86,
          87,
          88,
          89,
          90,
          91,
          92,
          93,
          94,
          95,
          96,
          97,
          98,
          99
         ],
         "y": [
          -0.5580704050672908,
          -0.44923515289336513,
          -0.7168931610192598,
          0.9830134247526778,
          1.6240683385906691,
          -0.40275289981153695,
          0.6112791218876015,
          -1.2803108479829148,
          -0.05808932824151311,
          -1.684712399154241,
          0.7009441493967767,
          1.2720970110310192,
          0.3689654180086758,
          -0.10972521230236329,
          -1.8715072885797777,
          -0.41072022373609,
          -2.222846437588777,
          -1.1915850756385813,
          0.9231330164233137,
          1.8669529912034164,
          -0.290221726325987,
          -0.648720943564726,
          -0.36177078386180883,
          -0.320582285809616,
          0.034000540804830316,
          -0.22176470456543523,
          0.29525848347628325,
          -0.9460745820077947,
          -0.40068026297055254,
          0.4106897541844773,
          -0.05309064552901487,
          1.1476677464913225,
          -0.6292502221798444,
          -0.6653930893895125,
          0.23844796985252587,
          0.1526908108190717,
          -0.4882637399023558,
          0.6095528940202006,
          1.7106600523326803,
          -0.6087185304180869,
          -0.14795323483741937,
          -0.9041735666641447,
          -0.2758124519817509,
          -0.6901891175196618,
          0.6644453330064052,
          0.7900367784741046,
          0.9187562121791123,
          0.8674138559764352,
          -0.2453438445025455,
          0.6793641868864831,
          -0.857948768868309,
          -0.9098665331960117,
          -0.6276702401871189,
          -1.9934794146042236,
          -0.364622445961039,
          1.441725222783407,
          0.7801273633492309,
          0.8618581629889228,
          -0.6880668392789634,
          -1.1699554311316747,
          0.4688674958261446,
          -0.3910846044592581,
          -0.9407200530603363,
          -1.5443525904104154,
          1.0384541197937691,
          -0.3226253863608884,
          0.9201172848030571,
          0.7657733729769911,
          -0.0895080157312864,
          -0.8583292937553912,
          -0.5909240948790668,
          -0.2866429338299557,
          0.3565715507880381,
          -0.8964384866866988,
          -0.5862356805821878,
          -0.9155134743418362,
          0.3015672501242637,
          0.5252427921756735,
          1.1163271687288974,
          0.14762362641226046,
          1.6270590095804507,
          -0.5035181944686434,
          -2.4300076126906753,
          -0.5269023436170583,
          1.9305638870047916,
          1.0182413139000828,
          -0.33799434650269927,
          1.046303567819808,
          1.2774037206763065,
          -0.33322567523426716,
          0.5210740638623935,
          -1.1545147289056945,
          -0.29028048645031423,
          -1.3789783825434538,
          0.12451934803869251,
          -0.06929895952401209,
          0.3449054115724372,
          -1.0596751060425036,
          1.622930397463581,
          1.2696505909551374
         ]
        },
        {
         "line": {
          "color": "rgba(50, 171, 96, 1.0)",
          "dash": "solid",
          "shape": "linear",
          "width": 1.3
         },
         "mode": "lines",
         "name": "C",
         "text": "",
         "type": "scatter",
         "x": [
          0,
          1,
          2,
          3,
          4,
          5,
          6,
          7,
          8,
          9,
          10,
          11,
          12,
          13,
          14,
          15,
          16,
          17,
          18,
          19,
          20,
          21,
          22,
          23,
          24,
          25,
          26,
          27,
          28,
          29,
          30,
          31,
          32,
          33,
          34,
          35,
          36,
          37,
          38,
          39,
          40,
          41,
          42,
          43,
          44,
          45,
          46,
          47,
          48,
          49,
          50,
          51,
          52,
          53,
          54,
          55,
          56,
          57,
          58,
          59,
          60,
          61,
          62,
          63,
          64,
          65,
          66,
          67,
          68,
          69,
          70,
          71,
          72,
          73,
          74,
          75,
          76,
          77,
          78,
          79,
          80,
          81,
          82,
          83,
          84,
          85,
          86,
          87,
          88,
          89,
          90,
          91,
          92,
          93,
          94,
          95,
          96,
          97,
          98,
          99
         ],
         "y": [
          0.6114507672687999,
          -1.453118223435603,
          1.1827405880682482,
          -0.8915317989289957,
          -0.6965339089786392,
          1.3349453277892667,
          -0.012754426842266287,
          -1.8363884955952245,
          0.06320121054962571,
          -0.8054032151493444,
          -0.8680597817673879,
          0.15123933857148497,
          0.5123570213932661,
          -0.16037339958878402,
          1.2084982369733155,
          0.11675209300983791,
          -0.7352880428466906,
          -0.2791381389434401,
          -1.6768211825037311,
          0.2687358510113133,
          -0.08730828996841995,
          0.08011587984526237,
          0.5870365383920121,
          -0.45513157695040024,
          1.0477545780925943,
          -0.6122419200802369,
          0.9071051522559322,
          0.5288208716979997,
          1.7182043502896294,
          -1.037247362100533,
          1.2071706170444598,
          -0.09959896328078839,
          0.1378115413695539,
          -0.7628053068053268,
          -1.4628741580335396,
          -1.8115843574114259,
          0.48644122722049543,
          0.0812345794161359,
          1.1618829202520924,
          0.12227531103671242,
          -1.0286809844723226,
          -0.4199992929049847,
          -2.6587328254050435,
          -0.2024935070142835,
          -1.0654775595196992,
          1.7239918194244157,
          -0.88260958534823,
          1.6551781445421734,
          0.6507530317290405,
          -1.6654829806178402,
          0.9767781066008089,
          1.4101056253993747,
          -0.3795509935768535,
          0.5352685882282258,
          -0.07107715970154109,
          0.7354612283859392,
          -0.4782542749410208,
          0.2034575421519448,
          1.3429473000413061,
          0.44838858879270727,
          -1.5463440803120463,
          1.3497880948859498,
          0.14937510875119525,
          -0.8145611453142702,
          0.33798653977713,
          -1.0392925446223271,
          -1.2857261541825418,
          -0.18175222407249347,
          1.1471456825047024,
          2.302935046525213,
          -1.1653519184303127,
          0.7037332413417794,
          -0.3154171419840098,
          1.0465994577252105,
          -0.5043267981371093,
          0.3059399843978032,
          -1.0147173103491358,
          0.18734319364702906,
          1.0197870438206182,
          0.5698463723265904,
          0.847161738078466,
          -0.48838155083686113,
          -0.17571083683572822,
          -0.18323720410096794,
          1.1972873398163424,
          0.9806532259074543,
          -0.4917355934045084,
          -0.1343592196434194,
          0.2516622328478005,
          -0.27081241540746404,
          -1.0155616992979957,
          -0.0780064275372869,
          1.3613145488862313,
          -2.25481067807797,
          0.01340459400981535,
          1.034736325414299,
          -0.8796258441728192,
          -0.3292043045328106,
          -1.8624919231541441,
          1.1113931809407485
         ]
        },
        {
         "line": {
          "color": "rgba(128, 0, 128, 1.0)",
          "dash": "solid",
          "shape": "linear",
          "width": 1.3
         },
         "mode": "lines",
         "name": "D",
         "text": "",
         "type": "scatter",
         "x": [
          0,
          1,
          2,
          3,
          4,
          5,
          6,
          7,
          8,
          9,
          10,
          11,
          12,
          13,
          14,
          15,
          16,
          17,
          18,
          19,
          20,
          21,
          22,
          23,
          24,
          25,
          26,
          27,
          28,
          29,
          30,
          31,
          32,
          33,
          34,
          35,
          36,
          37,
          38,
          39,
          40,
          41,
          42,
          43,
          44,
          45,
          46,
          47,
          48,
          49,
          50,
          51,
          52,
          53,
          54,
          55,
          56,
          57,
          58,
          59,
          60,
          61,
          62,
          63,
          64,
          65,
          66,
          67,
          68,
          69,
          70,
          71,
          72,
          73,
          74,
          75,
          76,
          77,
          78,
          79,
          80,
          81,
          82,
          83,
          84,
          85,
          86,
          87,
          88,
          89,
          90,
          91,
          92,
          93,
          94,
          95,
          96,
          97,
          98,
          99
         ],
         "y": [
          -0.10163559002645582,
          -0.35572331833610316,
          0.9382633458937855,
          1.0365157491589996,
          -1.0839803625551319,
          -0.42444836826523763,
          -0.17434477607746782,
          -0.2503002221905484,
          -0.13298541736793706,
          0.8536540114980372,
          0.3743533125530419,
          -0.23019310723961844,
          -1.0877216415015756,
          0.8983283485049616,
          0.14188830675770078,
          0.22365165287099512,
          0.19462905516574389,
          0.0934357964967572,
          0.8335939366943298,
          -0.04921489580520027,
          1.0017436578627659,
          0.5833690545463516,
          0.5736816489166747,
          -0.24365567817680078,
          1.3488875965404792,
          0.1263712094019638,
          -0.06129280907415563,
          -0.2237010330630421,
          2.302720150283636,
          -1.2728458007605248,
          -0.9225462214792156,
          -0.83290355524013,
          0.9865001583080875,
          -0.47162702859165717,
          -0.2933254636166296,
          0.24279006201943384,
          0.9032069290402934,
          0.34250476808048,
          0.807733281761505,
          1.8166900939762636,
          -0.009455451023209618,
          -0.4963886136333983,
          -0.6358577813771843,
          0.3619657381092746,
          -0.8788873299867607,
          0.40135747633790053,
          0.5062831775326353,
          -0.020676125484085806,
          0.19948143467837848,
          0.34548083587927997,
          -0.5795092323886075,
          -1.7819736678538074,
          0.17033119871697325,
          -0.89129758144792,
          -0.1714054780010341,
          -1.0737098320560075,
          1.2900195720031598,
          1.2914077918767255,
          -0.24949588549061508,
          0.8369345762371713,
          1.135976461563747,
          -1.4428407997626485,
          0.9875439709348575,
          2.2035242636833,
          -0.5791487359503539,
          -2.521913338226039,
          -0.7184707278530241,
          -1.1639587985186035,
          -0.5687316557397463,
          -1.702610898906452,
          -0.12020102131074938,
          0.13080022513111286,
          -0.22034734250604682,
          -0.05716775746615135,
          0.28319930382775665,
          0.731825355886409,
          -0.32563379121427105,
          -0.0787710720033279,
          -1.3347357015730388,
          -1.6260320813219609,
          0.9013728332559842,
          -0.08563499946707838,
          -0.33884869313938376,
          -2.256272072962904,
          0.38836306652118646,
          -0.1299483070640521,
          0.835893038991054,
          0.5972407218225784,
          0.9662776762760077,
          -0.6501003773755782,
          -2.3648808383363713,
          0.6757352967860882,
          0.8668970165490616,
          -1.7444739905526931,
          0.9097302962435239,
          0.3895664821972121,
          -0.26932148950763357,
          -1.300053903639512,
          0.38751698856060934,
          -0.6130946474664536
         ]
        }
       ],
       "layout": {
        "legend": {
         "bgcolor": "#F5F6F9",
         "font": {
          "color": "#4D5663"
         }
        },
        "paper_bgcolor": "#F5F6F9",
        "plot_bgcolor": "#F5F6F9",
        "template": {
         "data": {
          "bar": [
           {
            "error_x": {
             "color": "#2a3f5f"
            },
            "error_y": {
             "color": "#2a3f5f"
            },
            "marker": {
             "line": {
              "color": "#E5ECF6",
              "width": 0.5
             },
             "pattern": {
              "fillmode": "overlay",
              "size": 10,
              "solidity": 0.2
             }
            },
            "type": "bar"
           }
          ],
          "barpolar": [
           {
            "marker": {
             "line": {
              "color": "#E5ECF6",
              "width": 0.5
             },
             "pattern": {
              "fillmode": "overlay",
              "size": 10,
              "solidity": 0.2
             }
            },
            "type": "barpolar"
           }
          ],
          "carpet": [
           {
            "aaxis": {
             "endlinecolor": "#2a3f5f",
             "gridcolor": "white",
             "linecolor": "white",
             "minorgridcolor": "white",
             "startlinecolor": "#2a3f5f"
            },
            "baxis": {
             "endlinecolor": "#2a3f5f",
             "gridcolor": "white",
             "linecolor": "white",
             "minorgridcolor": "white",
             "startlinecolor": "#2a3f5f"
            },
            "type": "carpet"
           }
          ],
          "choropleth": [
           {
            "colorbar": {
             "outlinewidth": 0,
             "ticks": ""
            },
            "type": "choropleth"
           }
          ],
          "contour": [
           {
            "colorbar": {
             "outlinewidth": 0,
             "ticks": ""
            },
            "colorscale": [
             [
              0,
              "#0d0887"
             ],
             [
              0.1111111111111111,
              "#46039f"
             ],
             [
              0.2222222222222222,
              "#7201a8"
             ],
             [
              0.3333333333333333,
              "#9c179e"
             ],
             [
              0.4444444444444444,
              "#bd3786"
             ],
             [
              0.5555555555555556,
              "#d8576b"
             ],
             [
              0.6666666666666666,
              "#ed7953"
             ],
             [
              0.7777777777777778,
              "#fb9f3a"
             ],
             [
              0.8888888888888888,
              "#fdca26"
             ],
             [
              1,
              "#f0f921"
             ]
            ],
            "type": "contour"
           }
          ],
          "contourcarpet": [
           {
            "colorbar": {
             "outlinewidth": 0,
             "ticks": ""
            },
            "type": "contourcarpet"
           }
          ],
          "heatmap": [
           {
            "colorbar": {
             "outlinewidth": 0,
             "ticks": ""
            },
            "colorscale": [
             [
              0,
              "#0d0887"
             ],
             [
              0.1111111111111111,
              "#46039f"
             ],
             [
              0.2222222222222222,
              "#7201a8"
             ],
             [
              0.3333333333333333,
              "#9c179e"
             ],
             [
              0.4444444444444444,
              "#bd3786"
             ],
             [
              0.5555555555555556,
              "#d8576b"
             ],
             [
              0.6666666666666666,
              "#ed7953"
             ],
             [
              0.7777777777777778,
              "#fb9f3a"
             ],
             [
              0.8888888888888888,
              "#fdca26"
             ],
             [
              1,
              "#f0f921"
             ]
            ],
            "type": "heatmap"
           }
          ],
          "heatmapgl": [
           {
            "colorbar": {
             "outlinewidth": 0,
             "ticks": ""
            },
            "colorscale": [
             [
              0,
              "#0d0887"
             ],
             [
              0.1111111111111111,
              "#46039f"
             ],
             [
              0.2222222222222222,
              "#7201a8"
             ],
             [
              0.3333333333333333,
              "#9c179e"
             ],
             [
              0.4444444444444444,
              "#bd3786"
             ],
             [
              0.5555555555555556,
              "#d8576b"
             ],
             [
              0.6666666666666666,
              "#ed7953"
             ],
             [
              0.7777777777777778,
              "#fb9f3a"
             ],
             [
              0.8888888888888888,
              "#fdca26"
             ],
             [
              1,
              "#f0f921"
             ]
            ],
            "type": "heatmapgl"
           }
          ],
          "histogram": [
           {
            "marker": {
             "pattern": {
              "fillmode": "overlay",
              "size": 10,
              "solidity": 0.2
             }
            },
            "type": "histogram"
           }
          ],
          "histogram2d": [
           {
            "colorbar": {
             "outlinewidth": 0,
             "ticks": ""
            },
            "colorscale": [
             [
              0,
              "#0d0887"
             ],
             [
              0.1111111111111111,
              "#46039f"
             ],
             [
              0.2222222222222222,
              "#7201a8"
             ],
             [
              0.3333333333333333,
              "#9c179e"
             ],
             [
              0.4444444444444444,
              "#bd3786"
             ],
             [
              0.5555555555555556,
              "#d8576b"
             ],
             [
              0.6666666666666666,
              "#ed7953"
             ],
             [
              0.7777777777777778,
              "#fb9f3a"
             ],
             [
              0.8888888888888888,
              "#fdca26"
             ],
             [
              1,
              "#f0f921"
             ]
            ],
            "type": "histogram2d"
           }
          ],
          "histogram2dcontour": [
           {
            "colorbar": {
             "outlinewidth": 0,
             "ticks": ""
            },
            "colorscale": [
             [
              0,
              "#0d0887"
             ],
             [
              0.1111111111111111,
              "#46039f"
             ],
             [
              0.2222222222222222,
              "#7201a8"
             ],
             [
              0.3333333333333333,
              "#9c179e"
             ],
             [
              0.4444444444444444,
              "#bd3786"
             ],
             [
              0.5555555555555556,
              "#d8576b"
             ],
             [
              0.6666666666666666,
              "#ed7953"
             ],
             [
              0.7777777777777778,
              "#fb9f3a"
             ],
             [
              0.8888888888888888,
              "#fdca26"
             ],
             [
              1,
              "#f0f921"
             ]
            ],
            "type": "histogram2dcontour"
           }
          ],
          "mesh3d": [
           {
            "colorbar": {
             "outlinewidth": 0,
             "ticks": ""
            },
            "type": "mesh3d"
           }
          ],
          "parcoords": [
           {
            "line": {
             "colorbar": {
              "outlinewidth": 0,
              "ticks": ""
             }
            },
            "type": "parcoords"
           }
          ],
          "pie": [
           {
            "automargin": true,
            "type": "pie"
           }
          ],
          "scatter": [
           {
            "fillpattern": {
             "fillmode": "overlay",
             "size": 10,
             "solidity": 0.2
            },
            "type": "scatter"
           }
          ],
          "scatter3d": [
           {
            "line": {
             "colorbar": {
              "outlinewidth": 0,
              "ticks": ""
             }
            },
            "marker": {
             "colorbar": {
              "outlinewidth": 0,
              "ticks": ""
             }
            },
            "type": "scatter3d"
           }
          ],
          "scattercarpet": [
           {
            "marker": {
             "colorbar": {
              "outlinewidth": 0,
              "ticks": ""
             }
            },
            "type": "scattercarpet"
           }
          ],
          "scattergeo": [
           {
            "marker": {
             "colorbar": {
              "outlinewidth": 0,
              "ticks": ""
             }
            },
            "type": "scattergeo"
           }
          ],
          "scattergl": [
           {
            "marker": {
             "colorbar": {
              "outlinewidth": 0,
              "ticks": ""
             }
            },
            "type": "scattergl"
           }
          ],
          "scattermapbox": [
           {
            "marker": {
             "colorbar": {
              "outlinewidth": 0,
              "ticks": ""
             }
            },
            "type": "scattermapbox"
           }
          ],
          "scatterpolar": [
           {
            "marker": {
             "colorbar": {
              "outlinewidth": 0,
              "ticks": ""
             }
            },
            "type": "scatterpolar"
           }
          ],
          "scatterpolargl": [
           {
            "marker": {
             "colorbar": {
              "outlinewidth": 0,
              "ticks": ""
             }
            },
            "type": "scatterpolargl"
           }
          ],
          "scatterternary": [
           {
            "marker": {
             "colorbar": {
              "outlinewidth": 0,
              "ticks": ""
             }
            },
            "type": "scatterternary"
           }
          ],
          "surface": [
           {
            "colorbar": {
             "outlinewidth": 0,
             "ticks": ""
            },
            "colorscale": [
             [
              0,
              "#0d0887"
             ],
             [
              0.1111111111111111,
              "#46039f"
             ],
             [
              0.2222222222222222,
              "#7201a8"
             ],
             [
              0.3333333333333333,
              "#9c179e"
             ],
             [
              0.4444444444444444,
              "#bd3786"
             ],
             [
              0.5555555555555556,
              "#d8576b"
             ],
             [
              0.6666666666666666,
              "#ed7953"
             ],
             [
              0.7777777777777778,
              "#fb9f3a"
             ],
             [
              0.8888888888888888,
              "#fdca26"
             ],
             [
              1,
              "#f0f921"
             ]
            ],
            "type": "surface"
           }
          ],
          "table": [
           {
            "cells": {
             "fill": {
              "color": "#EBF0F8"
             },
             "line": {
              "color": "white"
             }
            },
            "header": {
             "fill": {
              "color": "#C8D4E3"
             },
             "line": {
              "color": "white"
             }
            },
            "type": "table"
           }
          ]
         },
         "layout": {
          "annotationdefaults": {
           "arrowcolor": "#2a3f5f",
           "arrowhead": 0,
           "arrowwidth": 1
          },
          "autotypenumbers": "strict",
          "coloraxis": {
           "colorbar": {
            "outlinewidth": 0,
            "ticks": ""
           }
          },
          "colorscale": {
           "diverging": [
            [
             0,
             "#8e0152"
            ],
            [
             0.1,
             "#c51b7d"
            ],
            [
             0.2,
             "#de77ae"
            ],
            [
             0.3,
             "#f1b6da"
            ],
            [
             0.4,
             "#fde0ef"
            ],
            [
             0.5,
             "#f7f7f7"
            ],
            [
             0.6,
             "#e6f5d0"
            ],
            [
             0.7,
             "#b8e186"
            ],
            [
             0.8,
             "#7fbc41"
            ],
            [
             0.9,
             "#4d9221"
            ],
            [
             1,
             "#276419"
            ]
           ],
           "sequential": [
            [
             0,
             "#0d0887"
            ],
            [
             0.1111111111111111,
             "#46039f"
            ],
            [
             0.2222222222222222,
             "#7201a8"
            ],
            [
             0.3333333333333333,
             "#9c179e"
            ],
            [
             0.4444444444444444,
             "#bd3786"
            ],
            [
             0.5555555555555556,
             "#d8576b"
            ],
            [
             0.6666666666666666,
             "#ed7953"
            ],
            [
             0.7777777777777778,
             "#fb9f3a"
            ],
            [
             0.8888888888888888,
             "#fdca26"
            ],
            [
             1,
             "#f0f921"
            ]
           ],
           "sequentialminus": [
            [
             0,
             "#0d0887"
            ],
            [
             0.1111111111111111,
             "#46039f"
            ],
            [
             0.2222222222222222,
             "#7201a8"
            ],
            [
             0.3333333333333333,
             "#9c179e"
            ],
            [
             0.4444444444444444,
             "#bd3786"
            ],
            [
             0.5555555555555556,
             "#d8576b"
            ],
            [
             0.6666666666666666,
             "#ed7953"
            ],
            [
             0.7777777777777778,
             "#fb9f3a"
            ],
            [
             0.8888888888888888,
             "#fdca26"
            ],
            [
             1,
             "#f0f921"
            ]
           ]
          },
          "colorway": [
           "#636efa",
           "#EF553B",
           "#00cc96",
           "#ab63fa",
           "#FFA15A",
           "#19d3f3",
           "#FF6692",
           "#B6E880",
           "#FF97FF",
           "#FECB52"
          ],
          "font": {
           "color": "#2a3f5f"
          },
          "geo": {
           "bgcolor": "white",
           "lakecolor": "white",
           "landcolor": "#E5ECF6",
           "showlakes": true,
           "showland": true,
           "subunitcolor": "white"
          },
          "hoverlabel": {
           "align": "left"
          },
          "hovermode": "closest",
          "mapbox": {
           "style": "light"
          },
          "paper_bgcolor": "white",
          "plot_bgcolor": "#E5ECF6",
          "polar": {
           "angularaxis": {
            "gridcolor": "white",
            "linecolor": "white",
            "ticks": ""
           },
           "bgcolor": "#E5ECF6",
           "radialaxis": {
            "gridcolor": "white",
            "linecolor": "white",
            "ticks": ""
           }
          },
          "scene": {
           "xaxis": {
            "backgroundcolor": "#E5ECF6",
            "gridcolor": "white",
            "gridwidth": 2,
            "linecolor": "white",
            "showbackground": true,
            "ticks": "",
            "zerolinecolor": "white"
           },
           "yaxis": {
            "backgroundcolor": "#E5ECF6",
            "gridcolor": "white",
            "gridwidth": 2,
            "linecolor": "white",
            "showbackground": true,
            "ticks": "",
            "zerolinecolor": "white"
           },
           "zaxis": {
            "backgroundcolor": "#E5ECF6",
            "gridcolor": "white",
            "gridwidth": 2,
            "linecolor": "white",
            "showbackground": true,
            "ticks": "",
            "zerolinecolor": "white"
           }
          },
          "shapedefaults": {
           "line": {
            "color": "#2a3f5f"
           }
          },
          "ternary": {
           "aaxis": {
            "gridcolor": "white",
            "linecolor": "white",
            "ticks": ""
           },
           "baxis": {
            "gridcolor": "white",
            "linecolor": "white",
            "ticks": ""
           },
           "bgcolor": "#E5ECF6",
           "caxis": {
            "gridcolor": "white",
            "linecolor": "white",
            "ticks": ""
           }
          },
          "title": {
           "x": 0.05
          },
          "xaxis": {
           "automargin": true,
           "gridcolor": "white",
           "linecolor": "white",
           "ticks": "",
           "title": {
            "standoff": 15
           },
           "zerolinecolor": "white",
           "zerolinewidth": 2
          },
          "yaxis": {
           "automargin": true,
           "gridcolor": "white",
           "linecolor": "white",
           "ticks": "",
           "title": {
            "standoff": 15
           },
           "zerolinecolor": "white",
           "zerolinewidth": 2
          }
         }
        },
        "title": {
         "font": {
          "color": "#4D5663"
         }
        },
        "xaxis": {
         "gridcolor": "#E1E5ED",
         "showgrid": true,
         "tickfont": {
          "color": "#4D5663"
         },
         "title": {
          "font": {
           "color": "#4D5663"
          },
          "text": ""
         },
         "zerolinecolor": "#E1E5ED"
        },
        "yaxis": {
         "gridcolor": "#E1E5ED",
         "showgrid": true,
         "tickfont": {
          "color": "#4D5663"
         },
         "title": {
          "font": {
           "color": "#4D5663"
          },
          "text": ""
         },
         "zerolinecolor": "#E1E5ED"
        }
       }
      },
      "text/html": [
       "<div>                            <div id=\"1a12dfd4-c51e-4da0-986b-526a9d6dca84\" class=\"plotly-graph-div\" style=\"height:525px; width:100%;\"></div>            <script type=\"text/javascript\">                require([\"plotly\"], function(Plotly) {                    window.PLOTLYENV=window.PLOTLYENV || {};\n",
       "                    window.PLOTLYENV.BASE_URL='https://plot.ly';                                    if (document.getElementById(\"1a12dfd4-c51e-4da0-986b-526a9d6dca84\")) {                    Plotly.newPlot(                        \"1a12dfd4-c51e-4da0-986b-526a9d6dca84\",                        [{\"line\":{\"color\":\"rgba(255, 153, 51, 1.0)\",\"dash\":\"solid\",\"shape\":\"linear\",\"width\":1.3},\"mode\":\"lines\",\"name\":\"A\",\"text\":\"\",\"x\":[0,1,2,3,4,5,6,7,8,9,10,11,12,13,14,15,16,17,18,19,20,21,22,23,24,25,26,27,28,29,30,31,32,33,34,35,36,37,38,39,40,41,42,43,44,45,46,47,48,49,50,51,52,53,54,55,56,57,58,59,60,61,62,63,64,65,66,67,68,69,70,71,72,73,74,75,76,77,78,79,80,81,82,83,84,85,86,87,88,89,90,91,92,93,94,95,96,97,98,99],\"y\":[-0.5753426879256494,-0.2855850025875945,-0.0961869464912241,0.6103568764767965,-0.4025696750478465,0.4374070598595347,0.7852380548724863,0.5214648823245953,-0.00684583591222356,-0.5051783000764581,0.6530373694023148,0.8290643885983005,-0.16326941807355744,1.2946551885772357,0.3062829613096997,-0.40651524703456704,0.3896016631461653,-1.138922855036025,-0.7578633933957807,1.3509314503931424,-0.005010025924972767,-0.7973280566035829,-0.9426397821555511,0.7837430673863505,0.21275853925610655,-0.4223329495826686,-1.260774413115214,0.03781882593588207,0.46263467519767826,0.5546355561998378,-0.4842961772526561,0.4618702738864327,-0.26539049970315043,0.07173654988682814,1.2670586248816906,0.48257046492794947,0.8606764634836559,0.6828244703998747,0.2703051628152772,0.0908652995232409,1.3407457592744865,0.6876439459516805,-1.3694094056973394,-0.4335211415628346,-1.1267120131338622,1.3400799055072092,-0.1422947461813094,-1.248940584041396,-2.124104883981563,-1.3019259842261062,1.2253863790785309,-1.50671466014991,0.07538508733247389,1.2494402889239615,0.18255827197336624,-1.0105509243088642,-1.1891302933224321,-0.11628475166186489,-0.4734418847308924,0.8718766160831669,-0.35944283707649927,-0.6793897450131363,-0.18631676258814278,-1.2782273458212,1.4977187013693063,1.177236002604748,-1.0941913024273784,2.2404207802414633,-1.7525070260970546,0.216729499836274,-0.24615959069611515,-0.9566272104115014,-1.3354612997377038,0.22350132903717154,0.9938854360185605,-0.678036349363896,-1.269837301038907,0.023573204636028175,1.1893098288366686,0.3945672020711424,0.16556190679953686,1.0533923683620778,0.7980311950587345,-0.4648689451877062,-1.1224975907209203,0.5905563562444988,0.7187909232916364,0.001996256304215127,-0.5024319634754288,1.8039520156480824,-0.21920796816159593,-0.08410382918341316,0.7263457090750816,1.3527961859231261,-1.544852980293307,-0.2966107732450681,-0.11415615694751836,-0.12881703002004213,1.2741874708953127,1.1393830437473285],\"type\":\"scatter\"},{\"line\":{\"color\":\"rgba(55, 128, 191, 1.0)\",\"dash\":\"solid\",\"shape\":\"linear\",\"width\":1.3},\"mode\":\"lines\",\"name\":\"B\",\"text\":\"\",\"x\":[0,1,2,3,4,5,6,7,8,9,10,11,12,13,14,15,16,17,18,19,20,21,22,23,24,25,26,27,28,29,30,31,32,33,34,35,36,37,38,39,40,41,42,43,44,45,46,47,48,49,50,51,52,53,54,55,56,57,58,59,60,61,62,63,64,65,66,67,68,69,70,71,72,73,74,75,76,77,78,79,80,81,82,83,84,85,86,87,88,89,90,91,92,93,94,95,96,97,98,99],\"y\":[-0.5580704050672908,-0.44923515289336513,-0.7168931610192598,0.9830134247526778,1.6240683385906691,-0.40275289981153695,0.6112791218876015,-1.2803108479829148,-0.05808932824151311,-1.684712399154241,0.7009441493967767,1.2720970110310192,0.3689654180086758,-0.10972521230236329,-1.8715072885797777,-0.41072022373609,-2.222846437588777,-1.1915850756385813,0.9231330164233137,1.8669529912034164,-0.290221726325987,-0.648720943564726,-0.36177078386180883,-0.320582285809616,0.034000540804830316,-0.22176470456543523,0.29525848347628325,-0.9460745820077947,-0.40068026297055254,0.4106897541844773,-0.05309064552901487,1.1476677464913225,-0.6292502221798444,-0.6653930893895125,0.23844796985252587,0.1526908108190717,-0.4882637399023558,0.6095528940202006,1.7106600523326803,-0.6087185304180869,-0.14795323483741937,-0.9041735666641447,-0.2758124519817509,-0.6901891175196618,0.6644453330064052,0.7900367784741046,0.9187562121791123,0.8674138559764352,-0.2453438445025455,0.6793641868864831,-0.857948768868309,-0.9098665331960117,-0.6276702401871189,-1.9934794146042236,-0.364622445961039,1.441725222783407,0.7801273633492309,0.8618581629889228,-0.6880668392789634,-1.1699554311316747,0.4688674958261446,-0.3910846044592581,-0.9407200530603363,-1.5443525904104154,1.0384541197937691,-0.3226253863608884,0.9201172848030571,0.7657733729769911,-0.0895080157312864,-0.8583292937553912,-0.5909240948790668,-0.2866429338299557,0.3565715507880381,-0.8964384866866988,-0.5862356805821878,-0.9155134743418362,0.3015672501242637,0.5252427921756735,1.1163271687288974,0.14762362641226046,1.6270590095804507,-0.5035181944686434,-2.4300076126906753,-0.5269023436170583,1.9305638870047916,1.0182413139000828,-0.33799434650269927,1.046303567819808,1.2774037206763065,-0.33322567523426716,0.5210740638623935,-1.1545147289056945,-0.29028048645031423,-1.3789783825434538,0.12451934803869251,-0.06929895952401209,0.3449054115724372,-1.0596751060425036,1.622930397463581,1.2696505909551374],\"type\":\"scatter\"},{\"line\":{\"color\":\"rgba(50, 171, 96, 1.0)\",\"dash\":\"solid\",\"shape\":\"linear\",\"width\":1.3},\"mode\":\"lines\",\"name\":\"C\",\"text\":\"\",\"x\":[0,1,2,3,4,5,6,7,8,9,10,11,12,13,14,15,16,17,18,19,20,21,22,23,24,25,26,27,28,29,30,31,32,33,34,35,36,37,38,39,40,41,42,43,44,45,46,47,48,49,50,51,52,53,54,55,56,57,58,59,60,61,62,63,64,65,66,67,68,69,70,71,72,73,74,75,76,77,78,79,80,81,82,83,84,85,86,87,88,89,90,91,92,93,94,95,96,97,98,99],\"y\":[0.6114507672687999,-1.453118223435603,1.1827405880682482,-0.8915317989289957,-0.6965339089786392,1.3349453277892667,-0.012754426842266287,-1.8363884955952245,0.06320121054962571,-0.8054032151493444,-0.8680597817673879,0.15123933857148497,0.5123570213932661,-0.16037339958878402,1.2084982369733155,0.11675209300983791,-0.7352880428466906,-0.2791381389434401,-1.6768211825037311,0.2687358510113133,-0.08730828996841995,0.08011587984526237,0.5870365383920121,-0.45513157695040024,1.0477545780925943,-0.6122419200802369,0.9071051522559322,0.5288208716979997,1.7182043502896294,-1.037247362100533,1.2071706170444598,-0.09959896328078839,0.1378115413695539,-0.7628053068053268,-1.4628741580335396,-1.8115843574114259,0.48644122722049543,0.0812345794161359,1.1618829202520924,0.12227531103671242,-1.0286809844723226,-0.4199992929049847,-2.6587328254050435,-0.2024935070142835,-1.0654775595196992,1.7239918194244157,-0.88260958534823,1.6551781445421734,0.6507530317290405,-1.6654829806178402,0.9767781066008089,1.4101056253993747,-0.3795509935768535,0.5352685882282258,-0.07107715970154109,0.7354612283859392,-0.4782542749410208,0.2034575421519448,1.3429473000413061,0.44838858879270727,-1.5463440803120463,1.3497880948859498,0.14937510875119525,-0.8145611453142702,0.33798653977713,-1.0392925446223271,-1.2857261541825418,-0.18175222407249347,1.1471456825047024,2.302935046525213,-1.1653519184303127,0.7037332413417794,-0.3154171419840098,1.0465994577252105,-0.5043267981371093,0.3059399843978032,-1.0147173103491358,0.18734319364702906,1.0197870438206182,0.5698463723265904,0.847161738078466,-0.48838155083686113,-0.17571083683572822,-0.18323720410096794,1.1972873398163424,0.9806532259074543,-0.4917355934045084,-0.1343592196434194,0.2516622328478005,-0.27081241540746404,-1.0155616992979957,-0.0780064275372869,1.3613145488862313,-2.25481067807797,0.01340459400981535,1.034736325414299,-0.8796258441728192,-0.3292043045328106,-1.8624919231541441,1.1113931809407485],\"type\":\"scatter\"},{\"line\":{\"color\":\"rgba(128, 0, 128, 1.0)\",\"dash\":\"solid\",\"shape\":\"linear\",\"width\":1.3},\"mode\":\"lines\",\"name\":\"D\",\"text\":\"\",\"x\":[0,1,2,3,4,5,6,7,8,9,10,11,12,13,14,15,16,17,18,19,20,21,22,23,24,25,26,27,28,29,30,31,32,33,34,35,36,37,38,39,40,41,42,43,44,45,46,47,48,49,50,51,52,53,54,55,56,57,58,59,60,61,62,63,64,65,66,67,68,69,70,71,72,73,74,75,76,77,78,79,80,81,82,83,84,85,86,87,88,89,90,91,92,93,94,95,96,97,98,99],\"y\":[-0.10163559002645582,-0.35572331833610316,0.9382633458937855,1.0365157491589996,-1.0839803625551319,-0.42444836826523763,-0.17434477607746782,-0.2503002221905484,-0.13298541736793706,0.8536540114980372,0.3743533125530419,-0.23019310723961844,-1.0877216415015756,0.8983283485049616,0.14188830675770078,0.22365165287099512,0.19462905516574389,0.0934357964967572,0.8335939366943298,-0.04921489580520027,1.0017436578627659,0.5833690545463516,0.5736816489166747,-0.24365567817680078,1.3488875965404792,0.1263712094019638,-0.06129280907415563,-0.2237010330630421,2.302720150283636,-1.2728458007605248,-0.9225462214792156,-0.83290355524013,0.9865001583080875,-0.47162702859165717,-0.2933254636166296,0.24279006201943384,0.9032069290402934,0.34250476808048,0.807733281761505,1.8166900939762636,-0.009455451023209618,-0.4963886136333983,-0.6358577813771843,0.3619657381092746,-0.8788873299867607,0.40135747633790053,0.5062831775326353,-0.020676125484085806,0.19948143467837848,0.34548083587927997,-0.5795092323886075,-1.7819736678538074,0.17033119871697325,-0.89129758144792,-0.1714054780010341,-1.0737098320560075,1.2900195720031598,1.2914077918767255,-0.24949588549061508,0.8369345762371713,1.135976461563747,-1.4428407997626485,0.9875439709348575,2.2035242636833,-0.5791487359503539,-2.521913338226039,-0.7184707278530241,-1.1639587985186035,-0.5687316557397463,-1.702610898906452,-0.12020102131074938,0.13080022513111286,-0.22034734250604682,-0.05716775746615135,0.28319930382775665,0.731825355886409,-0.32563379121427105,-0.0787710720033279,-1.3347357015730388,-1.6260320813219609,0.9013728332559842,-0.08563499946707838,-0.33884869313938376,-2.256272072962904,0.38836306652118646,-0.1299483070640521,0.835893038991054,0.5972407218225784,0.9662776762760077,-0.6501003773755782,-2.3648808383363713,0.6757352967860882,0.8668970165490616,-1.7444739905526931,0.9097302962435239,0.3895664821972121,-0.26932148950763357,-1.300053903639512,0.38751698856060934,-0.6130946474664536],\"type\":\"scatter\"}],                        {\"legend\":{\"bgcolor\":\"#F5F6F9\",\"font\":{\"color\":\"#4D5663\"}},\"paper_bgcolor\":\"#F5F6F9\",\"plot_bgcolor\":\"#F5F6F9\",\"template\":{\"data\":{\"barpolar\":[{\"marker\":{\"line\":{\"color\":\"#E5ECF6\",\"width\":0.5},\"pattern\":{\"fillmode\":\"overlay\",\"size\":10,\"solidity\":0.2}},\"type\":\"barpolar\"}],\"bar\":[{\"error_x\":{\"color\":\"#2a3f5f\"},\"error_y\":{\"color\":\"#2a3f5f\"},\"marker\":{\"line\":{\"color\":\"#E5ECF6\",\"width\":0.5},\"pattern\":{\"fillmode\":\"overlay\",\"size\":10,\"solidity\":0.2}},\"type\":\"bar\"}],\"carpet\":[{\"aaxis\":{\"endlinecolor\":\"#2a3f5f\",\"gridcolor\":\"white\",\"linecolor\":\"white\",\"minorgridcolor\":\"white\",\"startlinecolor\":\"#2a3f5f\"},\"baxis\":{\"endlinecolor\":\"#2a3f5f\",\"gridcolor\":\"white\",\"linecolor\":\"white\",\"minorgridcolor\":\"white\",\"startlinecolor\":\"#2a3f5f\"},\"type\":\"carpet\"}],\"choropleth\":[{\"colorbar\":{\"outlinewidth\":0,\"ticks\":\"\"},\"type\":\"choropleth\"}],\"contourcarpet\":[{\"colorbar\":{\"outlinewidth\":0,\"ticks\":\"\"},\"type\":\"contourcarpet\"}],\"contour\":[{\"colorbar\":{\"outlinewidth\":0,\"ticks\":\"\"},\"colorscale\":[[0.0,\"#0d0887\"],[0.1111111111111111,\"#46039f\"],[0.2222222222222222,\"#7201a8\"],[0.3333333333333333,\"#9c179e\"],[0.4444444444444444,\"#bd3786\"],[0.5555555555555556,\"#d8576b\"],[0.6666666666666666,\"#ed7953\"],[0.7777777777777778,\"#fb9f3a\"],[0.8888888888888888,\"#fdca26\"],[1.0,\"#f0f921\"]],\"type\":\"contour\"}],\"heatmapgl\":[{\"colorbar\":{\"outlinewidth\":0,\"ticks\":\"\"},\"colorscale\":[[0.0,\"#0d0887\"],[0.1111111111111111,\"#46039f\"],[0.2222222222222222,\"#7201a8\"],[0.3333333333333333,\"#9c179e\"],[0.4444444444444444,\"#bd3786\"],[0.5555555555555556,\"#d8576b\"],[0.6666666666666666,\"#ed7953\"],[0.7777777777777778,\"#fb9f3a\"],[0.8888888888888888,\"#fdca26\"],[1.0,\"#f0f921\"]],\"type\":\"heatmapgl\"}],\"heatmap\":[{\"colorbar\":{\"outlinewidth\":0,\"ticks\":\"\"},\"colorscale\":[[0.0,\"#0d0887\"],[0.1111111111111111,\"#46039f\"],[0.2222222222222222,\"#7201a8\"],[0.3333333333333333,\"#9c179e\"],[0.4444444444444444,\"#bd3786\"],[0.5555555555555556,\"#d8576b\"],[0.6666666666666666,\"#ed7953\"],[0.7777777777777778,\"#fb9f3a\"],[0.8888888888888888,\"#fdca26\"],[1.0,\"#f0f921\"]],\"type\":\"heatmap\"}],\"histogram2dcontour\":[{\"colorbar\":{\"outlinewidth\":0,\"ticks\":\"\"},\"colorscale\":[[0.0,\"#0d0887\"],[0.1111111111111111,\"#46039f\"],[0.2222222222222222,\"#7201a8\"],[0.3333333333333333,\"#9c179e\"],[0.4444444444444444,\"#bd3786\"],[0.5555555555555556,\"#d8576b\"],[0.6666666666666666,\"#ed7953\"],[0.7777777777777778,\"#fb9f3a\"],[0.8888888888888888,\"#fdca26\"],[1.0,\"#f0f921\"]],\"type\":\"histogram2dcontour\"}],\"histogram2d\":[{\"colorbar\":{\"outlinewidth\":0,\"ticks\":\"\"},\"colorscale\":[[0.0,\"#0d0887\"],[0.1111111111111111,\"#46039f\"],[0.2222222222222222,\"#7201a8\"],[0.3333333333333333,\"#9c179e\"],[0.4444444444444444,\"#bd3786\"],[0.5555555555555556,\"#d8576b\"],[0.6666666666666666,\"#ed7953\"],[0.7777777777777778,\"#fb9f3a\"],[0.8888888888888888,\"#fdca26\"],[1.0,\"#f0f921\"]],\"type\":\"histogram2d\"}],\"histogram\":[{\"marker\":{\"pattern\":{\"fillmode\":\"overlay\",\"size\":10,\"solidity\":0.2}},\"type\":\"histogram\"}],\"mesh3d\":[{\"colorbar\":{\"outlinewidth\":0,\"ticks\":\"\"},\"type\":\"mesh3d\"}],\"parcoords\":[{\"line\":{\"colorbar\":{\"outlinewidth\":0,\"ticks\":\"\"}},\"type\":\"parcoords\"}],\"pie\":[{\"automargin\":true,\"type\":\"pie\"}],\"scatter3d\":[{\"line\":{\"colorbar\":{\"outlinewidth\":0,\"ticks\":\"\"}},\"marker\":{\"colorbar\":{\"outlinewidth\":0,\"ticks\":\"\"}},\"type\":\"scatter3d\"}],\"scattercarpet\":[{\"marker\":{\"colorbar\":{\"outlinewidth\":0,\"ticks\":\"\"}},\"type\":\"scattercarpet\"}],\"scattergeo\":[{\"marker\":{\"colorbar\":{\"outlinewidth\":0,\"ticks\":\"\"}},\"type\":\"scattergeo\"}],\"scattergl\":[{\"marker\":{\"colorbar\":{\"outlinewidth\":0,\"ticks\":\"\"}},\"type\":\"scattergl\"}],\"scattermapbox\":[{\"marker\":{\"colorbar\":{\"outlinewidth\":0,\"ticks\":\"\"}},\"type\":\"scattermapbox\"}],\"scatterpolargl\":[{\"marker\":{\"colorbar\":{\"outlinewidth\":0,\"ticks\":\"\"}},\"type\":\"scatterpolargl\"}],\"scatterpolar\":[{\"marker\":{\"colorbar\":{\"outlinewidth\":0,\"ticks\":\"\"}},\"type\":\"scatterpolar\"}],\"scatter\":[{\"fillpattern\":{\"fillmode\":\"overlay\",\"size\":10,\"solidity\":0.2},\"type\":\"scatter\"}],\"scatterternary\":[{\"marker\":{\"colorbar\":{\"outlinewidth\":0,\"ticks\":\"\"}},\"type\":\"scatterternary\"}],\"surface\":[{\"colorbar\":{\"outlinewidth\":0,\"ticks\":\"\"},\"colorscale\":[[0.0,\"#0d0887\"],[0.1111111111111111,\"#46039f\"],[0.2222222222222222,\"#7201a8\"],[0.3333333333333333,\"#9c179e\"],[0.4444444444444444,\"#bd3786\"],[0.5555555555555556,\"#d8576b\"],[0.6666666666666666,\"#ed7953\"],[0.7777777777777778,\"#fb9f3a\"],[0.8888888888888888,\"#fdca26\"],[1.0,\"#f0f921\"]],\"type\":\"surface\"}],\"table\":[{\"cells\":{\"fill\":{\"color\":\"#EBF0F8\"},\"line\":{\"color\":\"white\"}},\"header\":{\"fill\":{\"color\":\"#C8D4E3\"},\"line\":{\"color\":\"white\"}},\"type\":\"table\"}]},\"layout\":{\"annotationdefaults\":{\"arrowcolor\":\"#2a3f5f\",\"arrowhead\":0,\"arrowwidth\":1},\"autotypenumbers\":\"strict\",\"coloraxis\":{\"colorbar\":{\"outlinewidth\":0,\"ticks\":\"\"}},\"colorscale\":{\"diverging\":[[0,\"#8e0152\"],[0.1,\"#c51b7d\"],[0.2,\"#de77ae\"],[0.3,\"#f1b6da\"],[0.4,\"#fde0ef\"],[0.5,\"#f7f7f7\"],[0.6,\"#e6f5d0\"],[0.7,\"#b8e186\"],[0.8,\"#7fbc41\"],[0.9,\"#4d9221\"],[1,\"#276419\"]],\"sequential\":[[0.0,\"#0d0887\"],[0.1111111111111111,\"#46039f\"],[0.2222222222222222,\"#7201a8\"],[0.3333333333333333,\"#9c179e\"],[0.4444444444444444,\"#bd3786\"],[0.5555555555555556,\"#d8576b\"],[0.6666666666666666,\"#ed7953\"],[0.7777777777777778,\"#fb9f3a\"],[0.8888888888888888,\"#fdca26\"],[1.0,\"#f0f921\"]],\"sequentialminus\":[[0.0,\"#0d0887\"],[0.1111111111111111,\"#46039f\"],[0.2222222222222222,\"#7201a8\"],[0.3333333333333333,\"#9c179e\"],[0.4444444444444444,\"#bd3786\"],[0.5555555555555556,\"#d8576b\"],[0.6666666666666666,\"#ed7953\"],[0.7777777777777778,\"#fb9f3a\"],[0.8888888888888888,\"#fdca26\"],[1.0,\"#f0f921\"]]},\"colorway\":[\"#636efa\",\"#EF553B\",\"#00cc96\",\"#ab63fa\",\"#FFA15A\",\"#19d3f3\",\"#FF6692\",\"#B6E880\",\"#FF97FF\",\"#FECB52\"],\"font\":{\"color\":\"#2a3f5f\"},\"geo\":{\"bgcolor\":\"white\",\"lakecolor\":\"white\",\"landcolor\":\"#E5ECF6\",\"showlakes\":true,\"showland\":true,\"subunitcolor\":\"white\"},\"hoverlabel\":{\"align\":\"left\"},\"hovermode\":\"closest\",\"mapbox\":{\"style\":\"light\"},\"paper_bgcolor\":\"white\",\"plot_bgcolor\":\"#E5ECF6\",\"polar\":{\"angularaxis\":{\"gridcolor\":\"white\",\"linecolor\":\"white\",\"ticks\":\"\"},\"bgcolor\":\"#E5ECF6\",\"radialaxis\":{\"gridcolor\":\"white\",\"linecolor\":\"white\",\"ticks\":\"\"}},\"scene\":{\"xaxis\":{\"backgroundcolor\":\"#E5ECF6\",\"gridcolor\":\"white\",\"gridwidth\":2,\"linecolor\":\"white\",\"showbackground\":true,\"ticks\":\"\",\"zerolinecolor\":\"white\"},\"yaxis\":{\"backgroundcolor\":\"#E5ECF6\",\"gridcolor\":\"white\",\"gridwidth\":2,\"linecolor\":\"white\",\"showbackground\":true,\"ticks\":\"\",\"zerolinecolor\":\"white\"},\"zaxis\":{\"backgroundcolor\":\"#E5ECF6\",\"gridcolor\":\"white\",\"gridwidth\":2,\"linecolor\":\"white\",\"showbackground\":true,\"ticks\":\"\",\"zerolinecolor\":\"white\"}},\"shapedefaults\":{\"line\":{\"color\":\"#2a3f5f\"}},\"ternary\":{\"aaxis\":{\"gridcolor\":\"white\",\"linecolor\":\"white\",\"ticks\":\"\"},\"baxis\":{\"gridcolor\":\"white\",\"linecolor\":\"white\",\"ticks\":\"\"},\"bgcolor\":\"#E5ECF6\",\"caxis\":{\"gridcolor\":\"white\",\"linecolor\":\"white\",\"ticks\":\"\"}},\"title\":{\"x\":0.05},\"xaxis\":{\"automargin\":true,\"gridcolor\":\"white\",\"linecolor\":\"white\",\"ticks\":\"\",\"title\":{\"standoff\":15},\"zerolinecolor\":\"white\",\"zerolinewidth\":2},\"yaxis\":{\"automargin\":true,\"gridcolor\":\"white\",\"linecolor\":\"white\",\"ticks\":\"\",\"title\":{\"standoff\":15},\"zerolinecolor\":\"white\",\"zerolinewidth\":2}}},\"title\":{\"font\":{\"color\":\"#4D5663\"}},\"xaxis\":{\"gridcolor\":\"#E1E5ED\",\"showgrid\":true,\"tickfont\":{\"color\":\"#4D5663\"},\"title\":{\"font\":{\"color\":\"#4D5663\"},\"text\":\"\"},\"zerolinecolor\":\"#E1E5ED\"},\"yaxis\":{\"gridcolor\":\"#E1E5ED\",\"showgrid\":true,\"tickfont\":{\"color\":\"#4D5663\"},\"title\":{\"font\":{\"color\":\"#4D5663\"},\"text\":\"\"},\"zerolinecolor\":\"#E1E5ED\"}},                        {\"showLink\": true, \"linkText\": \"Export to plot.ly\", \"plotlyServerURL\": \"https://plot.ly\", \"responsive\": true}                    ).then(function(){\n",
       "                            \n",
       "var gd = document.getElementById('1a12dfd4-c51e-4da0-986b-526a9d6dca84');\n",
       "var x = new MutationObserver(function (mutations, observer) {{\n",
       "        var display = window.getComputedStyle(gd).display;\n",
       "        if (!display || display === 'none') {{\n",
       "            console.log([gd, 'removed!']);\n",
       "            Plotly.purge(gd);\n",
       "            observer.disconnect();\n",
       "        }}\n",
       "}});\n",
       "\n",
       "// Listen for the removal of the full notebook cells\n",
       "var notebookContainer = gd.closest('#notebook-container');\n",
       "if (notebookContainer) {{\n",
       "    x.observe(notebookContainer, {childList: true});\n",
       "}}\n",
       "\n",
       "// Listen for the clearing of the current output cell\n",
       "var outputEl = gd.closest('.output');\n",
       "if (outputEl) {{\n",
       "    x.observe(outputEl, {childList: true});\n",
       "}}\n",
       "\n",
       "                        })                };                });            </script>        </div>"
      ]
     },
     "metadata": {},
     "output_type": "display_data"
    }
   ],
   "source": [
    "df.iplot()"
   ]
  },
  {
   "cell_type": "markdown",
   "id": "b39690ec",
   "metadata": {},
   "source": [
    "# different types of interactive plots using iplot"
   ]
  },
  {
   "cell_type": "code",
   "execution_count": 29,
   "id": "96977844",
   "metadata": {},
   "outputs": [
    {
     "data": {
      "application/vnd.plotly.v1+json": {
       "config": {
        "linkText": "Export to plot.ly",
        "plotlyServerURL": "https://plot.ly",
        "showLink": true
       },
       "data": [
        {
         "line": {
          "color": "rgba(255, 153, 51, 1.0)",
          "dash": "solid",
          "shape": "linear",
          "width": 1.3
         },
         "mode": "lines",
         "name": "B",
         "text": "",
         "type": "scatter",
         "x": [
          -0.5753426879256494,
          -0.2855850025875945,
          -0.0961869464912241,
          0.6103568764767965,
          -0.4025696750478465,
          0.4374070598595347,
          0.7852380548724863,
          0.5214648823245953,
          -0.00684583591222356,
          -0.5051783000764581,
          0.6530373694023148,
          0.8290643885983005,
          -0.16326941807355744,
          1.2946551885772357,
          0.3062829613096997,
          -0.40651524703456704,
          0.3896016631461653,
          -1.138922855036025,
          -0.7578633933957807,
          1.3509314503931424,
          -0.005010025924972767,
          -0.7973280566035829,
          -0.9426397821555511,
          0.7837430673863505,
          0.21275853925610655,
          -0.4223329495826686,
          -1.260774413115214,
          0.03781882593588207,
          0.46263467519767826,
          0.5546355561998378,
          -0.4842961772526561,
          0.4618702738864327,
          -0.26539049970315043,
          0.07173654988682814,
          1.2670586248816906,
          0.48257046492794947,
          0.8606764634836559,
          0.6828244703998747,
          0.2703051628152772,
          0.0908652995232409,
          1.3407457592744865,
          0.6876439459516805,
          -1.3694094056973394,
          -0.4335211415628346,
          -1.1267120131338622,
          1.3400799055072092,
          -0.1422947461813094,
          -1.248940584041396,
          -2.124104883981563,
          -1.3019259842261062,
          1.2253863790785309,
          -1.50671466014991,
          0.07538508733247389,
          1.2494402889239615,
          0.18255827197336624,
          -1.0105509243088642,
          -1.1891302933224321,
          -0.11628475166186489,
          -0.4734418847308924,
          0.8718766160831669,
          -0.35944283707649927,
          -0.6793897450131363,
          -0.18631676258814278,
          -1.2782273458212,
          1.4977187013693063,
          1.177236002604748,
          -1.0941913024273784,
          2.2404207802414633,
          -1.7525070260970546,
          0.216729499836274,
          -0.24615959069611515,
          -0.9566272104115014,
          -1.3354612997377038,
          0.22350132903717154,
          0.9938854360185605,
          -0.678036349363896,
          -1.269837301038907,
          0.023573204636028175,
          1.1893098288366686,
          0.3945672020711424,
          0.16556190679953686,
          1.0533923683620778,
          0.7980311950587345,
          -0.4648689451877062,
          -1.1224975907209203,
          0.5905563562444988,
          0.7187909232916364,
          0.001996256304215127,
          -0.5024319634754288,
          1.8039520156480824,
          -0.21920796816159593,
          -0.08410382918341316,
          0.7263457090750816,
          1.3527961859231261,
          -1.544852980293307,
          -0.2966107732450681,
          -0.11415615694751836,
          -0.12881703002004213,
          1.2741874708953127,
          1.1393830437473285
         ],
         "y": [
          -0.5580704050672908,
          -0.44923515289336513,
          -0.7168931610192598,
          0.9830134247526778,
          1.6240683385906691,
          -0.40275289981153695,
          0.6112791218876015,
          -1.2803108479829148,
          -0.05808932824151311,
          -1.684712399154241,
          0.7009441493967767,
          1.2720970110310192,
          0.3689654180086758,
          -0.10972521230236329,
          -1.8715072885797777,
          -0.41072022373609,
          -2.222846437588777,
          -1.1915850756385813,
          0.9231330164233137,
          1.8669529912034164,
          -0.290221726325987,
          -0.648720943564726,
          -0.36177078386180883,
          -0.320582285809616,
          0.034000540804830316,
          -0.22176470456543523,
          0.29525848347628325,
          -0.9460745820077947,
          -0.40068026297055254,
          0.4106897541844773,
          -0.05309064552901487,
          1.1476677464913225,
          -0.6292502221798444,
          -0.6653930893895125,
          0.23844796985252587,
          0.1526908108190717,
          -0.4882637399023558,
          0.6095528940202006,
          1.7106600523326803,
          -0.6087185304180869,
          -0.14795323483741937,
          -0.9041735666641447,
          -0.2758124519817509,
          -0.6901891175196618,
          0.6644453330064052,
          0.7900367784741046,
          0.9187562121791123,
          0.8674138559764352,
          -0.2453438445025455,
          0.6793641868864831,
          -0.857948768868309,
          -0.9098665331960117,
          -0.6276702401871189,
          -1.9934794146042236,
          -0.364622445961039,
          1.441725222783407,
          0.7801273633492309,
          0.8618581629889228,
          -0.6880668392789634,
          -1.1699554311316747,
          0.4688674958261446,
          -0.3910846044592581,
          -0.9407200530603363,
          -1.5443525904104154,
          1.0384541197937691,
          -0.3226253863608884,
          0.9201172848030571,
          0.7657733729769911,
          -0.0895080157312864,
          -0.8583292937553912,
          -0.5909240948790668,
          -0.2866429338299557,
          0.3565715507880381,
          -0.8964384866866988,
          -0.5862356805821878,
          -0.9155134743418362,
          0.3015672501242637,
          0.5252427921756735,
          1.1163271687288974,
          0.14762362641226046,
          1.6270590095804507,
          -0.5035181944686434,
          -2.4300076126906753,
          -0.5269023436170583,
          1.9305638870047916,
          1.0182413139000828,
          -0.33799434650269927,
          1.046303567819808,
          1.2774037206763065,
          -0.33322567523426716,
          0.5210740638623935,
          -1.1545147289056945,
          -0.29028048645031423,
          -1.3789783825434538,
          0.12451934803869251,
          -0.06929895952401209,
          0.3449054115724372,
          -1.0596751060425036,
          1.622930397463581,
          1.2696505909551374
         ]
        }
       ],
       "layout": {
        "legend": {
         "bgcolor": "#F5F6F9",
         "font": {
          "color": "#4D5663"
         }
        },
        "paper_bgcolor": "#F5F6F9",
        "plot_bgcolor": "#F5F6F9",
        "template": {
         "data": {
          "bar": [
           {
            "error_x": {
             "color": "#2a3f5f"
            },
            "error_y": {
             "color": "#2a3f5f"
            },
            "marker": {
             "line": {
              "color": "#E5ECF6",
              "width": 0.5
             },
             "pattern": {
              "fillmode": "overlay",
              "size": 10,
              "solidity": 0.2
             }
            },
            "type": "bar"
           }
          ],
          "barpolar": [
           {
            "marker": {
             "line": {
              "color": "#E5ECF6",
              "width": 0.5
             },
             "pattern": {
              "fillmode": "overlay",
              "size": 10,
              "solidity": 0.2
             }
            },
            "type": "barpolar"
           }
          ],
          "carpet": [
           {
            "aaxis": {
             "endlinecolor": "#2a3f5f",
             "gridcolor": "white",
             "linecolor": "white",
             "minorgridcolor": "white",
             "startlinecolor": "#2a3f5f"
            },
            "baxis": {
             "endlinecolor": "#2a3f5f",
             "gridcolor": "white",
             "linecolor": "white",
             "minorgridcolor": "white",
             "startlinecolor": "#2a3f5f"
            },
            "type": "carpet"
           }
          ],
          "choropleth": [
           {
            "colorbar": {
             "outlinewidth": 0,
             "ticks": ""
            },
            "type": "choropleth"
           }
          ],
          "contour": [
           {
            "colorbar": {
             "outlinewidth": 0,
             "ticks": ""
            },
            "colorscale": [
             [
              0,
              "#0d0887"
             ],
             [
              0.1111111111111111,
              "#46039f"
             ],
             [
              0.2222222222222222,
              "#7201a8"
             ],
             [
              0.3333333333333333,
              "#9c179e"
             ],
             [
              0.4444444444444444,
              "#bd3786"
             ],
             [
              0.5555555555555556,
              "#d8576b"
             ],
             [
              0.6666666666666666,
              "#ed7953"
             ],
             [
              0.7777777777777778,
              "#fb9f3a"
             ],
             [
              0.8888888888888888,
              "#fdca26"
             ],
             [
              1,
              "#f0f921"
             ]
            ],
            "type": "contour"
           }
          ],
          "contourcarpet": [
           {
            "colorbar": {
             "outlinewidth": 0,
             "ticks": ""
            },
            "type": "contourcarpet"
           }
          ],
          "heatmap": [
           {
            "colorbar": {
             "outlinewidth": 0,
             "ticks": ""
            },
            "colorscale": [
             [
              0,
              "#0d0887"
             ],
             [
              0.1111111111111111,
              "#46039f"
             ],
             [
              0.2222222222222222,
              "#7201a8"
             ],
             [
              0.3333333333333333,
              "#9c179e"
             ],
             [
              0.4444444444444444,
              "#bd3786"
             ],
             [
              0.5555555555555556,
              "#d8576b"
             ],
             [
              0.6666666666666666,
              "#ed7953"
             ],
             [
              0.7777777777777778,
              "#fb9f3a"
             ],
             [
              0.8888888888888888,
              "#fdca26"
             ],
             [
              1,
              "#f0f921"
             ]
            ],
            "type": "heatmap"
           }
          ],
          "heatmapgl": [
           {
            "colorbar": {
             "outlinewidth": 0,
             "ticks": ""
            },
            "colorscale": [
             [
              0,
              "#0d0887"
             ],
             [
              0.1111111111111111,
              "#46039f"
             ],
             [
              0.2222222222222222,
              "#7201a8"
             ],
             [
              0.3333333333333333,
              "#9c179e"
             ],
             [
              0.4444444444444444,
              "#bd3786"
             ],
             [
              0.5555555555555556,
              "#d8576b"
             ],
             [
              0.6666666666666666,
              "#ed7953"
             ],
             [
              0.7777777777777778,
              "#fb9f3a"
             ],
             [
              0.8888888888888888,
              "#fdca26"
             ],
             [
              1,
              "#f0f921"
             ]
            ],
            "type": "heatmapgl"
           }
          ],
          "histogram": [
           {
            "marker": {
             "pattern": {
              "fillmode": "overlay",
              "size": 10,
              "solidity": 0.2
             }
            },
            "type": "histogram"
           }
          ],
          "histogram2d": [
           {
            "colorbar": {
             "outlinewidth": 0,
             "ticks": ""
            },
            "colorscale": [
             [
              0,
              "#0d0887"
             ],
             [
              0.1111111111111111,
              "#46039f"
             ],
             [
              0.2222222222222222,
              "#7201a8"
             ],
             [
              0.3333333333333333,
              "#9c179e"
             ],
             [
              0.4444444444444444,
              "#bd3786"
             ],
             [
              0.5555555555555556,
              "#d8576b"
             ],
             [
              0.6666666666666666,
              "#ed7953"
             ],
             [
              0.7777777777777778,
              "#fb9f3a"
             ],
             [
              0.8888888888888888,
              "#fdca26"
             ],
             [
              1,
              "#f0f921"
             ]
            ],
            "type": "histogram2d"
           }
          ],
          "histogram2dcontour": [
           {
            "colorbar": {
             "outlinewidth": 0,
             "ticks": ""
            },
            "colorscale": [
             [
              0,
              "#0d0887"
             ],
             [
              0.1111111111111111,
              "#46039f"
             ],
             [
              0.2222222222222222,
              "#7201a8"
             ],
             [
              0.3333333333333333,
              "#9c179e"
             ],
             [
              0.4444444444444444,
              "#bd3786"
             ],
             [
              0.5555555555555556,
              "#d8576b"
             ],
             [
              0.6666666666666666,
              "#ed7953"
             ],
             [
              0.7777777777777778,
              "#fb9f3a"
             ],
             [
              0.8888888888888888,
              "#fdca26"
             ],
             [
              1,
              "#f0f921"
             ]
            ],
            "type": "histogram2dcontour"
           }
          ],
          "mesh3d": [
           {
            "colorbar": {
             "outlinewidth": 0,
             "ticks": ""
            },
            "type": "mesh3d"
           }
          ],
          "parcoords": [
           {
            "line": {
             "colorbar": {
              "outlinewidth": 0,
              "ticks": ""
             }
            },
            "type": "parcoords"
           }
          ],
          "pie": [
           {
            "automargin": true,
            "type": "pie"
           }
          ],
          "scatter": [
           {
            "fillpattern": {
             "fillmode": "overlay",
             "size": 10,
             "solidity": 0.2
            },
            "type": "scatter"
           }
          ],
          "scatter3d": [
           {
            "line": {
             "colorbar": {
              "outlinewidth": 0,
              "ticks": ""
             }
            },
            "marker": {
             "colorbar": {
              "outlinewidth": 0,
              "ticks": ""
             }
            },
            "type": "scatter3d"
           }
          ],
          "scattercarpet": [
           {
            "marker": {
             "colorbar": {
              "outlinewidth": 0,
              "ticks": ""
             }
            },
            "type": "scattercarpet"
           }
          ],
          "scattergeo": [
           {
            "marker": {
             "colorbar": {
              "outlinewidth": 0,
              "ticks": ""
             }
            },
            "type": "scattergeo"
           }
          ],
          "scattergl": [
           {
            "marker": {
             "colorbar": {
              "outlinewidth": 0,
              "ticks": ""
             }
            },
            "type": "scattergl"
           }
          ],
          "scattermapbox": [
           {
            "marker": {
             "colorbar": {
              "outlinewidth": 0,
              "ticks": ""
             }
            },
            "type": "scattermapbox"
           }
          ],
          "scatterpolar": [
           {
            "marker": {
             "colorbar": {
              "outlinewidth": 0,
              "ticks": ""
             }
            },
            "type": "scatterpolar"
           }
          ],
          "scatterpolargl": [
           {
            "marker": {
             "colorbar": {
              "outlinewidth": 0,
              "ticks": ""
             }
            },
            "type": "scatterpolargl"
           }
          ],
          "scatterternary": [
           {
            "marker": {
             "colorbar": {
              "outlinewidth": 0,
              "ticks": ""
             }
            },
            "type": "scatterternary"
           }
          ],
          "surface": [
           {
            "colorbar": {
             "outlinewidth": 0,
             "ticks": ""
            },
            "colorscale": [
             [
              0,
              "#0d0887"
             ],
             [
              0.1111111111111111,
              "#46039f"
             ],
             [
              0.2222222222222222,
              "#7201a8"
             ],
             [
              0.3333333333333333,
              "#9c179e"
             ],
             [
              0.4444444444444444,
              "#bd3786"
             ],
             [
              0.5555555555555556,
              "#d8576b"
             ],
             [
              0.6666666666666666,
              "#ed7953"
             ],
             [
              0.7777777777777778,
              "#fb9f3a"
             ],
             [
              0.8888888888888888,
              "#fdca26"
             ],
             [
              1,
              "#f0f921"
             ]
            ],
            "type": "surface"
           }
          ],
          "table": [
           {
            "cells": {
             "fill": {
              "color": "#EBF0F8"
             },
             "line": {
              "color": "white"
             }
            },
            "header": {
             "fill": {
              "color": "#C8D4E3"
             },
             "line": {
              "color": "white"
             }
            },
            "type": "table"
           }
          ]
         },
         "layout": {
          "annotationdefaults": {
           "arrowcolor": "#2a3f5f",
           "arrowhead": 0,
           "arrowwidth": 1
          },
          "autotypenumbers": "strict",
          "coloraxis": {
           "colorbar": {
            "outlinewidth": 0,
            "ticks": ""
           }
          },
          "colorscale": {
           "diverging": [
            [
             0,
             "#8e0152"
            ],
            [
             0.1,
             "#c51b7d"
            ],
            [
             0.2,
             "#de77ae"
            ],
            [
             0.3,
             "#f1b6da"
            ],
            [
             0.4,
             "#fde0ef"
            ],
            [
             0.5,
             "#f7f7f7"
            ],
            [
             0.6,
             "#e6f5d0"
            ],
            [
             0.7,
             "#b8e186"
            ],
            [
             0.8,
             "#7fbc41"
            ],
            [
             0.9,
             "#4d9221"
            ],
            [
             1,
             "#276419"
            ]
           ],
           "sequential": [
            [
             0,
             "#0d0887"
            ],
            [
             0.1111111111111111,
             "#46039f"
            ],
            [
             0.2222222222222222,
             "#7201a8"
            ],
            [
             0.3333333333333333,
             "#9c179e"
            ],
            [
             0.4444444444444444,
             "#bd3786"
            ],
            [
             0.5555555555555556,
             "#d8576b"
            ],
            [
             0.6666666666666666,
             "#ed7953"
            ],
            [
             0.7777777777777778,
             "#fb9f3a"
            ],
            [
             0.8888888888888888,
             "#fdca26"
            ],
            [
             1,
             "#f0f921"
            ]
           ],
           "sequentialminus": [
            [
             0,
             "#0d0887"
            ],
            [
             0.1111111111111111,
             "#46039f"
            ],
            [
             0.2222222222222222,
             "#7201a8"
            ],
            [
             0.3333333333333333,
             "#9c179e"
            ],
            [
             0.4444444444444444,
             "#bd3786"
            ],
            [
             0.5555555555555556,
             "#d8576b"
            ],
            [
             0.6666666666666666,
             "#ed7953"
            ],
            [
             0.7777777777777778,
             "#fb9f3a"
            ],
            [
             0.8888888888888888,
             "#fdca26"
            ],
            [
             1,
             "#f0f921"
            ]
           ]
          },
          "colorway": [
           "#636efa",
           "#EF553B",
           "#00cc96",
           "#ab63fa",
           "#FFA15A",
           "#19d3f3",
           "#FF6692",
           "#B6E880",
           "#FF97FF",
           "#FECB52"
          ],
          "font": {
           "color": "#2a3f5f"
          },
          "geo": {
           "bgcolor": "white",
           "lakecolor": "white",
           "landcolor": "#E5ECF6",
           "showlakes": true,
           "showland": true,
           "subunitcolor": "white"
          },
          "hoverlabel": {
           "align": "left"
          },
          "hovermode": "closest",
          "mapbox": {
           "style": "light"
          },
          "paper_bgcolor": "white",
          "plot_bgcolor": "#E5ECF6",
          "polar": {
           "angularaxis": {
            "gridcolor": "white",
            "linecolor": "white",
            "ticks": ""
           },
           "bgcolor": "#E5ECF6",
           "radialaxis": {
            "gridcolor": "white",
            "linecolor": "white",
            "ticks": ""
           }
          },
          "scene": {
           "xaxis": {
            "backgroundcolor": "#E5ECF6",
            "gridcolor": "white",
            "gridwidth": 2,
            "linecolor": "white",
            "showbackground": true,
            "ticks": "",
            "zerolinecolor": "white"
           },
           "yaxis": {
            "backgroundcolor": "#E5ECF6",
            "gridcolor": "white",
            "gridwidth": 2,
            "linecolor": "white",
            "showbackground": true,
            "ticks": "",
            "zerolinecolor": "white"
           },
           "zaxis": {
            "backgroundcolor": "#E5ECF6",
            "gridcolor": "white",
            "gridwidth": 2,
            "linecolor": "white",
            "showbackground": true,
            "ticks": "",
            "zerolinecolor": "white"
           }
          },
          "shapedefaults": {
           "line": {
            "color": "#2a3f5f"
           }
          },
          "ternary": {
           "aaxis": {
            "gridcolor": "white",
            "linecolor": "white",
            "ticks": ""
           },
           "baxis": {
            "gridcolor": "white",
            "linecolor": "white",
            "ticks": ""
           },
           "bgcolor": "#E5ECF6",
           "caxis": {
            "gridcolor": "white",
            "linecolor": "white",
            "ticks": ""
           }
          },
          "title": {
           "x": 0.05
          },
          "xaxis": {
           "automargin": true,
           "gridcolor": "white",
           "linecolor": "white",
           "ticks": "",
           "title": {
            "standoff": 15
           },
           "zerolinecolor": "white",
           "zerolinewidth": 2
          },
          "yaxis": {
           "automargin": true,
           "gridcolor": "white",
           "linecolor": "white",
           "ticks": "",
           "title": {
            "standoff": 15
           },
           "zerolinecolor": "white",
           "zerolinewidth": 2
          }
         }
        },
        "title": {
         "font": {
          "color": "#4D5663"
         }
        },
        "xaxis": {
         "gridcolor": "#E1E5ED",
         "showgrid": true,
         "tickfont": {
          "color": "#4D5663"
         },
         "title": {
          "font": {
           "color": "#4D5663"
          },
          "text": ""
         },
         "zerolinecolor": "#E1E5ED"
        },
        "yaxis": {
         "gridcolor": "#E1E5ED",
         "showgrid": true,
         "tickfont": {
          "color": "#4D5663"
         },
         "title": {
          "font": {
           "color": "#4D5663"
          },
          "text": ""
         },
         "zerolinecolor": "#E1E5ED"
        }
       }
      },
      "text/html": [
       "<div>                            <div id=\"e29418ff-8abc-4a1f-9721-0f1e28ecfdff\" class=\"plotly-graph-div\" style=\"height:525px; width:100%;\"></div>            <script type=\"text/javascript\">                require([\"plotly\"], function(Plotly) {                    window.PLOTLYENV=window.PLOTLYENV || {};\n",
       "                    window.PLOTLYENV.BASE_URL='https://plot.ly';                                    if (document.getElementById(\"e29418ff-8abc-4a1f-9721-0f1e28ecfdff\")) {                    Plotly.newPlot(                        \"e29418ff-8abc-4a1f-9721-0f1e28ecfdff\",                        [{\"line\":{\"color\":\"rgba(255, 153, 51, 1.0)\",\"dash\":\"solid\",\"shape\":\"linear\",\"width\":1.3},\"mode\":\"lines\",\"name\":\"B\",\"text\":\"\",\"x\":[-0.5753426879256494,-0.2855850025875945,-0.0961869464912241,0.6103568764767965,-0.4025696750478465,0.4374070598595347,0.7852380548724863,0.5214648823245953,-0.00684583591222356,-0.5051783000764581,0.6530373694023148,0.8290643885983005,-0.16326941807355744,1.2946551885772357,0.3062829613096997,-0.40651524703456704,0.3896016631461653,-1.138922855036025,-0.7578633933957807,1.3509314503931424,-0.005010025924972767,-0.7973280566035829,-0.9426397821555511,0.7837430673863505,0.21275853925610655,-0.4223329495826686,-1.260774413115214,0.03781882593588207,0.46263467519767826,0.5546355561998378,-0.4842961772526561,0.4618702738864327,-0.26539049970315043,0.07173654988682814,1.2670586248816906,0.48257046492794947,0.8606764634836559,0.6828244703998747,0.2703051628152772,0.0908652995232409,1.3407457592744865,0.6876439459516805,-1.3694094056973394,-0.4335211415628346,-1.1267120131338622,1.3400799055072092,-0.1422947461813094,-1.248940584041396,-2.124104883981563,-1.3019259842261062,1.2253863790785309,-1.50671466014991,0.07538508733247389,1.2494402889239615,0.18255827197336624,-1.0105509243088642,-1.1891302933224321,-0.11628475166186489,-0.4734418847308924,0.8718766160831669,-0.35944283707649927,-0.6793897450131363,-0.18631676258814278,-1.2782273458212,1.4977187013693063,1.177236002604748,-1.0941913024273784,2.2404207802414633,-1.7525070260970546,0.216729499836274,-0.24615959069611515,-0.9566272104115014,-1.3354612997377038,0.22350132903717154,0.9938854360185605,-0.678036349363896,-1.269837301038907,0.023573204636028175,1.1893098288366686,0.3945672020711424,0.16556190679953686,1.0533923683620778,0.7980311950587345,-0.4648689451877062,-1.1224975907209203,0.5905563562444988,0.7187909232916364,0.001996256304215127,-0.5024319634754288,1.8039520156480824,-0.21920796816159593,-0.08410382918341316,0.7263457090750816,1.3527961859231261,-1.544852980293307,-0.2966107732450681,-0.11415615694751836,-0.12881703002004213,1.2741874708953127,1.1393830437473285],\"y\":[-0.5580704050672908,-0.44923515289336513,-0.7168931610192598,0.9830134247526778,1.6240683385906691,-0.40275289981153695,0.6112791218876015,-1.2803108479829148,-0.05808932824151311,-1.684712399154241,0.7009441493967767,1.2720970110310192,0.3689654180086758,-0.10972521230236329,-1.8715072885797777,-0.41072022373609,-2.222846437588777,-1.1915850756385813,0.9231330164233137,1.8669529912034164,-0.290221726325987,-0.648720943564726,-0.36177078386180883,-0.320582285809616,0.034000540804830316,-0.22176470456543523,0.29525848347628325,-0.9460745820077947,-0.40068026297055254,0.4106897541844773,-0.05309064552901487,1.1476677464913225,-0.6292502221798444,-0.6653930893895125,0.23844796985252587,0.1526908108190717,-0.4882637399023558,0.6095528940202006,1.7106600523326803,-0.6087185304180869,-0.14795323483741937,-0.9041735666641447,-0.2758124519817509,-0.6901891175196618,0.6644453330064052,0.7900367784741046,0.9187562121791123,0.8674138559764352,-0.2453438445025455,0.6793641868864831,-0.857948768868309,-0.9098665331960117,-0.6276702401871189,-1.9934794146042236,-0.364622445961039,1.441725222783407,0.7801273633492309,0.8618581629889228,-0.6880668392789634,-1.1699554311316747,0.4688674958261446,-0.3910846044592581,-0.9407200530603363,-1.5443525904104154,1.0384541197937691,-0.3226253863608884,0.9201172848030571,0.7657733729769911,-0.0895080157312864,-0.8583292937553912,-0.5909240948790668,-0.2866429338299557,0.3565715507880381,-0.8964384866866988,-0.5862356805821878,-0.9155134743418362,0.3015672501242637,0.5252427921756735,1.1163271687288974,0.14762362641226046,1.6270590095804507,-0.5035181944686434,-2.4300076126906753,-0.5269023436170583,1.9305638870047916,1.0182413139000828,-0.33799434650269927,1.046303567819808,1.2774037206763065,-0.33322567523426716,0.5210740638623935,-1.1545147289056945,-0.29028048645031423,-1.3789783825434538,0.12451934803869251,-0.06929895952401209,0.3449054115724372,-1.0596751060425036,1.622930397463581,1.2696505909551374],\"type\":\"scatter\"}],                        {\"legend\":{\"bgcolor\":\"#F5F6F9\",\"font\":{\"color\":\"#4D5663\"}},\"paper_bgcolor\":\"#F5F6F9\",\"plot_bgcolor\":\"#F5F6F9\",\"template\":{\"data\":{\"barpolar\":[{\"marker\":{\"line\":{\"color\":\"#E5ECF6\",\"width\":0.5},\"pattern\":{\"fillmode\":\"overlay\",\"size\":10,\"solidity\":0.2}},\"type\":\"barpolar\"}],\"bar\":[{\"error_x\":{\"color\":\"#2a3f5f\"},\"error_y\":{\"color\":\"#2a3f5f\"},\"marker\":{\"line\":{\"color\":\"#E5ECF6\",\"width\":0.5},\"pattern\":{\"fillmode\":\"overlay\",\"size\":10,\"solidity\":0.2}},\"type\":\"bar\"}],\"carpet\":[{\"aaxis\":{\"endlinecolor\":\"#2a3f5f\",\"gridcolor\":\"white\",\"linecolor\":\"white\",\"minorgridcolor\":\"white\",\"startlinecolor\":\"#2a3f5f\"},\"baxis\":{\"endlinecolor\":\"#2a3f5f\",\"gridcolor\":\"white\",\"linecolor\":\"white\",\"minorgridcolor\":\"white\",\"startlinecolor\":\"#2a3f5f\"},\"type\":\"carpet\"}],\"choropleth\":[{\"colorbar\":{\"outlinewidth\":0,\"ticks\":\"\"},\"type\":\"choropleth\"}],\"contourcarpet\":[{\"colorbar\":{\"outlinewidth\":0,\"ticks\":\"\"},\"type\":\"contourcarpet\"}],\"contour\":[{\"colorbar\":{\"outlinewidth\":0,\"ticks\":\"\"},\"colorscale\":[[0.0,\"#0d0887\"],[0.1111111111111111,\"#46039f\"],[0.2222222222222222,\"#7201a8\"],[0.3333333333333333,\"#9c179e\"],[0.4444444444444444,\"#bd3786\"],[0.5555555555555556,\"#d8576b\"],[0.6666666666666666,\"#ed7953\"],[0.7777777777777778,\"#fb9f3a\"],[0.8888888888888888,\"#fdca26\"],[1.0,\"#f0f921\"]],\"type\":\"contour\"}],\"heatmapgl\":[{\"colorbar\":{\"outlinewidth\":0,\"ticks\":\"\"},\"colorscale\":[[0.0,\"#0d0887\"],[0.1111111111111111,\"#46039f\"],[0.2222222222222222,\"#7201a8\"],[0.3333333333333333,\"#9c179e\"],[0.4444444444444444,\"#bd3786\"],[0.5555555555555556,\"#d8576b\"],[0.6666666666666666,\"#ed7953\"],[0.7777777777777778,\"#fb9f3a\"],[0.8888888888888888,\"#fdca26\"],[1.0,\"#f0f921\"]],\"type\":\"heatmapgl\"}],\"heatmap\":[{\"colorbar\":{\"outlinewidth\":0,\"ticks\":\"\"},\"colorscale\":[[0.0,\"#0d0887\"],[0.1111111111111111,\"#46039f\"],[0.2222222222222222,\"#7201a8\"],[0.3333333333333333,\"#9c179e\"],[0.4444444444444444,\"#bd3786\"],[0.5555555555555556,\"#d8576b\"],[0.6666666666666666,\"#ed7953\"],[0.7777777777777778,\"#fb9f3a\"],[0.8888888888888888,\"#fdca26\"],[1.0,\"#f0f921\"]],\"type\":\"heatmap\"}],\"histogram2dcontour\":[{\"colorbar\":{\"outlinewidth\":0,\"ticks\":\"\"},\"colorscale\":[[0.0,\"#0d0887\"],[0.1111111111111111,\"#46039f\"],[0.2222222222222222,\"#7201a8\"],[0.3333333333333333,\"#9c179e\"],[0.4444444444444444,\"#bd3786\"],[0.5555555555555556,\"#d8576b\"],[0.6666666666666666,\"#ed7953\"],[0.7777777777777778,\"#fb9f3a\"],[0.8888888888888888,\"#fdca26\"],[1.0,\"#f0f921\"]],\"type\":\"histogram2dcontour\"}],\"histogram2d\":[{\"colorbar\":{\"outlinewidth\":0,\"ticks\":\"\"},\"colorscale\":[[0.0,\"#0d0887\"],[0.1111111111111111,\"#46039f\"],[0.2222222222222222,\"#7201a8\"],[0.3333333333333333,\"#9c179e\"],[0.4444444444444444,\"#bd3786\"],[0.5555555555555556,\"#d8576b\"],[0.6666666666666666,\"#ed7953\"],[0.7777777777777778,\"#fb9f3a\"],[0.8888888888888888,\"#fdca26\"],[1.0,\"#f0f921\"]],\"type\":\"histogram2d\"}],\"histogram\":[{\"marker\":{\"pattern\":{\"fillmode\":\"overlay\",\"size\":10,\"solidity\":0.2}},\"type\":\"histogram\"}],\"mesh3d\":[{\"colorbar\":{\"outlinewidth\":0,\"ticks\":\"\"},\"type\":\"mesh3d\"}],\"parcoords\":[{\"line\":{\"colorbar\":{\"outlinewidth\":0,\"ticks\":\"\"}},\"type\":\"parcoords\"}],\"pie\":[{\"automargin\":true,\"type\":\"pie\"}],\"scatter3d\":[{\"line\":{\"colorbar\":{\"outlinewidth\":0,\"ticks\":\"\"}},\"marker\":{\"colorbar\":{\"outlinewidth\":0,\"ticks\":\"\"}},\"type\":\"scatter3d\"}],\"scattercarpet\":[{\"marker\":{\"colorbar\":{\"outlinewidth\":0,\"ticks\":\"\"}},\"type\":\"scattercarpet\"}],\"scattergeo\":[{\"marker\":{\"colorbar\":{\"outlinewidth\":0,\"ticks\":\"\"}},\"type\":\"scattergeo\"}],\"scattergl\":[{\"marker\":{\"colorbar\":{\"outlinewidth\":0,\"ticks\":\"\"}},\"type\":\"scattergl\"}],\"scattermapbox\":[{\"marker\":{\"colorbar\":{\"outlinewidth\":0,\"ticks\":\"\"}},\"type\":\"scattermapbox\"}],\"scatterpolargl\":[{\"marker\":{\"colorbar\":{\"outlinewidth\":0,\"ticks\":\"\"}},\"type\":\"scatterpolargl\"}],\"scatterpolar\":[{\"marker\":{\"colorbar\":{\"outlinewidth\":0,\"ticks\":\"\"}},\"type\":\"scatterpolar\"}],\"scatter\":[{\"fillpattern\":{\"fillmode\":\"overlay\",\"size\":10,\"solidity\":0.2},\"type\":\"scatter\"}],\"scatterternary\":[{\"marker\":{\"colorbar\":{\"outlinewidth\":0,\"ticks\":\"\"}},\"type\":\"scatterternary\"}],\"surface\":[{\"colorbar\":{\"outlinewidth\":0,\"ticks\":\"\"},\"colorscale\":[[0.0,\"#0d0887\"],[0.1111111111111111,\"#46039f\"],[0.2222222222222222,\"#7201a8\"],[0.3333333333333333,\"#9c179e\"],[0.4444444444444444,\"#bd3786\"],[0.5555555555555556,\"#d8576b\"],[0.6666666666666666,\"#ed7953\"],[0.7777777777777778,\"#fb9f3a\"],[0.8888888888888888,\"#fdca26\"],[1.0,\"#f0f921\"]],\"type\":\"surface\"}],\"table\":[{\"cells\":{\"fill\":{\"color\":\"#EBF0F8\"},\"line\":{\"color\":\"white\"}},\"header\":{\"fill\":{\"color\":\"#C8D4E3\"},\"line\":{\"color\":\"white\"}},\"type\":\"table\"}]},\"layout\":{\"annotationdefaults\":{\"arrowcolor\":\"#2a3f5f\",\"arrowhead\":0,\"arrowwidth\":1},\"autotypenumbers\":\"strict\",\"coloraxis\":{\"colorbar\":{\"outlinewidth\":0,\"ticks\":\"\"}},\"colorscale\":{\"diverging\":[[0,\"#8e0152\"],[0.1,\"#c51b7d\"],[0.2,\"#de77ae\"],[0.3,\"#f1b6da\"],[0.4,\"#fde0ef\"],[0.5,\"#f7f7f7\"],[0.6,\"#e6f5d0\"],[0.7,\"#b8e186\"],[0.8,\"#7fbc41\"],[0.9,\"#4d9221\"],[1,\"#276419\"]],\"sequential\":[[0.0,\"#0d0887\"],[0.1111111111111111,\"#46039f\"],[0.2222222222222222,\"#7201a8\"],[0.3333333333333333,\"#9c179e\"],[0.4444444444444444,\"#bd3786\"],[0.5555555555555556,\"#d8576b\"],[0.6666666666666666,\"#ed7953\"],[0.7777777777777778,\"#fb9f3a\"],[0.8888888888888888,\"#fdca26\"],[1.0,\"#f0f921\"]],\"sequentialminus\":[[0.0,\"#0d0887\"],[0.1111111111111111,\"#46039f\"],[0.2222222222222222,\"#7201a8\"],[0.3333333333333333,\"#9c179e\"],[0.4444444444444444,\"#bd3786\"],[0.5555555555555556,\"#d8576b\"],[0.6666666666666666,\"#ed7953\"],[0.7777777777777778,\"#fb9f3a\"],[0.8888888888888888,\"#fdca26\"],[1.0,\"#f0f921\"]]},\"colorway\":[\"#636efa\",\"#EF553B\",\"#00cc96\",\"#ab63fa\",\"#FFA15A\",\"#19d3f3\",\"#FF6692\",\"#B6E880\",\"#FF97FF\",\"#FECB52\"],\"font\":{\"color\":\"#2a3f5f\"},\"geo\":{\"bgcolor\":\"white\",\"lakecolor\":\"white\",\"landcolor\":\"#E5ECF6\",\"showlakes\":true,\"showland\":true,\"subunitcolor\":\"white\"},\"hoverlabel\":{\"align\":\"left\"},\"hovermode\":\"closest\",\"mapbox\":{\"style\":\"light\"},\"paper_bgcolor\":\"white\",\"plot_bgcolor\":\"#E5ECF6\",\"polar\":{\"angularaxis\":{\"gridcolor\":\"white\",\"linecolor\":\"white\",\"ticks\":\"\"},\"bgcolor\":\"#E5ECF6\",\"radialaxis\":{\"gridcolor\":\"white\",\"linecolor\":\"white\",\"ticks\":\"\"}},\"scene\":{\"xaxis\":{\"backgroundcolor\":\"#E5ECF6\",\"gridcolor\":\"white\",\"gridwidth\":2,\"linecolor\":\"white\",\"showbackground\":true,\"ticks\":\"\",\"zerolinecolor\":\"white\"},\"yaxis\":{\"backgroundcolor\":\"#E5ECF6\",\"gridcolor\":\"white\",\"gridwidth\":2,\"linecolor\":\"white\",\"showbackground\":true,\"ticks\":\"\",\"zerolinecolor\":\"white\"},\"zaxis\":{\"backgroundcolor\":\"#E5ECF6\",\"gridcolor\":\"white\",\"gridwidth\":2,\"linecolor\":\"white\",\"showbackground\":true,\"ticks\":\"\",\"zerolinecolor\":\"white\"}},\"shapedefaults\":{\"line\":{\"color\":\"#2a3f5f\"}},\"ternary\":{\"aaxis\":{\"gridcolor\":\"white\",\"linecolor\":\"white\",\"ticks\":\"\"},\"baxis\":{\"gridcolor\":\"white\",\"linecolor\":\"white\",\"ticks\":\"\"},\"bgcolor\":\"#E5ECF6\",\"caxis\":{\"gridcolor\":\"white\",\"linecolor\":\"white\",\"ticks\":\"\"}},\"title\":{\"x\":0.05},\"xaxis\":{\"automargin\":true,\"gridcolor\":\"white\",\"linecolor\":\"white\",\"ticks\":\"\",\"title\":{\"standoff\":15},\"zerolinecolor\":\"white\",\"zerolinewidth\":2},\"yaxis\":{\"automargin\":true,\"gridcolor\":\"white\",\"linecolor\":\"white\",\"ticks\":\"\",\"title\":{\"standoff\":15},\"zerolinecolor\":\"white\",\"zerolinewidth\":2}}},\"title\":{\"font\":{\"color\":\"#4D5663\"}},\"xaxis\":{\"gridcolor\":\"#E1E5ED\",\"showgrid\":true,\"tickfont\":{\"color\":\"#4D5663\"},\"title\":{\"font\":{\"color\":\"#4D5663\"},\"text\":\"\"},\"zerolinecolor\":\"#E1E5ED\"},\"yaxis\":{\"gridcolor\":\"#E1E5ED\",\"showgrid\":true,\"tickfont\":{\"color\":\"#4D5663\"},\"title\":{\"font\":{\"color\":\"#4D5663\"},\"text\":\"\"},\"zerolinecolor\":\"#E1E5ED\"}},                        {\"showLink\": true, \"linkText\": \"Export to plot.ly\", \"plotlyServerURL\": \"https://plot.ly\", \"responsive\": true}                    ).then(function(){\n",
       "                            \n",
       "var gd = document.getElementById('e29418ff-8abc-4a1f-9721-0f1e28ecfdff');\n",
       "var x = new MutationObserver(function (mutations, observer) {{\n",
       "        var display = window.getComputedStyle(gd).display;\n",
       "        if (!display || display === 'none') {{\n",
       "            console.log([gd, 'removed!']);\n",
       "            Plotly.purge(gd);\n",
       "            observer.disconnect();\n",
       "        }}\n",
       "}});\n",
       "\n",
       "// Listen for the removal of the full notebook cells\n",
       "var notebookContainer = gd.closest('#notebook-container');\n",
       "if (notebookContainer) {{\n",
       "    x.observe(notebookContainer, {childList: true});\n",
       "}}\n",
       "\n",
       "// Listen for the clearing of the current output cell\n",
       "var outputEl = gd.closest('.output');\n",
       "if (outputEl) {{\n",
       "    x.observe(outputEl, {childList: true});\n",
       "}}\n",
       "\n",
       "                        })                };                });            </script>        </div>"
      ]
     },
     "metadata": {},
     "output_type": "display_data"
    }
   ],
   "source": [
    "#scatter\n",
    "df.iplot(kind='scatter',x='A',y='B')"
   ]
  },
  {
   "cell_type": "code",
   "execution_count": 30,
   "id": "a129310a",
   "metadata": {},
   "outputs": [
    {
     "data": {
      "application/vnd.plotly.v1+json": {
       "config": {
        "linkText": "Export to plot.ly",
        "plotlyServerURL": "https://plot.ly",
        "showLink": true
       },
       "data": [
        {
         "line": {
          "color": "rgba(255, 153, 51, 1.0)",
          "dash": "solid",
          "shape": "linear",
          "width": 1.3
         },
         "marker": {
          "size": 12,
          "symbol": "circle"
         },
         "mode": "markers",
         "name": "B",
         "text": "",
         "type": "scatter",
         "x": [
          -0.5753426879256494,
          -0.2855850025875945,
          -0.0961869464912241,
          0.6103568764767965,
          -0.4025696750478465,
          0.4374070598595347,
          0.7852380548724863,
          0.5214648823245953,
          -0.00684583591222356,
          -0.5051783000764581,
          0.6530373694023148,
          0.8290643885983005,
          -0.16326941807355744,
          1.2946551885772357,
          0.3062829613096997,
          -0.40651524703456704,
          0.3896016631461653,
          -1.138922855036025,
          -0.7578633933957807,
          1.3509314503931424,
          -0.005010025924972767,
          -0.7973280566035829,
          -0.9426397821555511,
          0.7837430673863505,
          0.21275853925610655,
          -0.4223329495826686,
          -1.260774413115214,
          0.03781882593588207,
          0.46263467519767826,
          0.5546355561998378,
          -0.4842961772526561,
          0.4618702738864327,
          -0.26539049970315043,
          0.07173654988682814,
          1.2670586248816906,
          0.48257046492794947,
          0.8606764634836559,
          0.6828244703998747,
          0.2703051628152772,
          0.0908652995232409,
          1.3407457592744865,
          0.6876439459516805,
          -1.3694094056973394,
          -0.4335211415628346,
          -1.1267120131338622,
          1.3400799055072092,
          -0.1422947461813094,
          -1.248940584041396,
          -2.124104883981563,
          -1.3019259842261062,
          1.2253863790785309,
          -1.50671466014991,
          0.07538508733247389,
          1.2494402889239615,
          0.18255827197336624,
          -1.0105509243088642,
          -1.1891302933224321,
          -0.11628475166186489,
          -0.4734418847308924,
          0.8718766160831669,
          -0.35944283707649927,
          -0.6793897450131363,
          -0.18631676258814278,
          -1.2782273458212,
          1.4977187013693063,
          1.177236002604748,
          -1.0941913024273784,
          2.2404207802414633,
          -1.7525070260970546,
          0.216729499836274,
          -0.24615959069611515,
          -0.9566272104115014,
          -1.3354612997377038,
          0.22350132903717154,
          0.9938854360185605,
          -0.678036349363896,
          -1.269837301038907,
          0.023573204636028175,
          1.1893098288366686,
          0.3945672020711424,
          0.16556190679953686,
          1.0533923683620778,
          0.7980311950587345,
          -0.4648689451877062,
          -1.1224975907209203,
          0.5905563562444988,
          0.7187909232916364,
          0.001996256304215127,
          -0.5024319634754288,
          1.8039520156480824,
          -0.21920796816159593,
          -0.08410382918341316,
          0.7263457090750816,
          1.3527961859231261,
          -1.544852980293307,
          -0.2966107732450681,
          -0.11415615694751836,
          -0.12881703002004213,
          1.2741874708953127,
          1.1393830437473285
         ],
         "y": [
          -0.5580704050672908,
          -0.44923515289336513,
          -0.7168931610192598,
          0.9830134247526778,
          1.6240683385906691,
          -0.40275289981153695,
          0.6112791218876015,
          -1.2803108479829148,
          -0.05808932824151311,
          -1.684712399154241,
          0.7009441493967767,
          1.2720970110310192,
          0.3689654180086758,
          -0.10972521230236329,
          -1.8715072885797777,
          -0.41072022373609,
          -2.222846437588777,
          -1.1915850756385813,
          0.9231330164233137,
          1.8669529912034164,
          -0.290221726325987,
          -0.648720943564726,
          -0.36177078386180883,
          -0.320582285809616,
          0.034000540804830316,
          -0.22176470456543523,
          0.29525848347628325,
          -0.9460745820077947,
          -0.40068026297055254,
          0.4106897541844773,
          -0.05309064552901487,
          1.1476677464913225,
          -0.6292502221798444,
          -0.6653930893895125,
          0.23844796985252587,
          0.1526908108190717,
          -0.4882637399023558,
          0.6095528940202006,
          1.7106600523326803,
          -0.6087185304180869,
          -0.14795323483741937,
          -0.9041735666641447,
          -0.2758124519817509,
          -0.6901891175196618,
          0.6644453330064052,
          0.7900367784741046,
          0.9187562121791123,
          0.8674138559764352,
          -0.2453438445025455,
          0.6793641868864831,
          -0.857948768868309,
          -0.9098665331960117,
          -0.6276702401871189,
          -1.9934794146042236,
          -0.364622445961039,
          1.441725222783407,
          0.7801273633492309,
          0.8618581629889228,
          -0.6880668392789634,
          -1.1699554311316747,
          0.4688674958261446,
          -0.3910846044592581,
          -0.9407200530603363,
          -1.5443525904104154,
          1.0384541197937691,
          -0.3226253863608884,
          0.9201172848030571,
          0.7657733729769911,
          -0.0895080157312864,
          -0.8583292937553912,
          -0.5909240948790668,
          -0.2866429338299557,
          0.3565715507880381,
          -0.8964384866866988,
          -0.5862356805821878,
          -0.9155134743418362,
          0.3015672501242637,
          0.5252427921756735,
          1.1163271687288974,
          0.14762362641226046,
          1.6270590095804507,
          -0.5035181944686434,
          -2.4300076126906753,
          -0.5269023436170583,
          1.9305638870047916,
          1.0182413139000828,
          -0.33799434650269927,
          1.046303567819808,
          1.2774037206763065,
          -0.33322567523426716,
          0.5210740638623935,
          -1.1545147289056945,
          -0.29028048645031423,
          -1.3789783825434538,
          0.12451934803869251,
          -0.06929895952401209,
          0.3449054115724372,
          -1.0596751060425036,
          1.622930397463581,
          1.2696505909551374
         ]
        }
       ],
       "layout": {
        "legend": {
         "bgcolor": "#F5F6F9",
         "font": {
          "color": "#4D5663"
         }
        },
        "paper_bgcolor": "#F5F6F9",
        "plot_bgcolor": "#F5F6F9",
        "template": {
         "data": {
          "bar": [
           {
            "error_x": {
             "color": "#2a3f5f"
            },
            "error_y": {
             "color": "#2a3f5f"
            },
            "marker": {
             "line": {
              "color": "#E5ECF6",
              "width": 0.5
             },
             "pattern": {
              "fillmode": "overlay",
              "size": 10,
              "solidity": 0.2
             }
            },
            "type": "bar"
           }
          ],
          "barpolar": [
           {
            "marker": {
             "line": {
              "color": "#E5ECF6",
              "width": 0.5
             },
             "pattern": {
              "fillmode": "overlay",
              "size": 10,
              "solidity": 0.2
             }
            },
            "type": "barpolar"
           }
          ],
          "carpet": [
           {
            "aaxis": {
             "endlinecolor": "#2a3f5f",
             "gridcolor": "white",
             "linecolor": "white",
             "minorgridcolor": "white",
             "startlinecolor": "#2a3f5f"
            },
            "baxis": {
             "endlinecolor": "#2a3f5f",
             "gridcolor": "white",
             "linecolor": "white",
             "minorgridcolor": "white",
             "startlinecolor": "#2a3f5f"
            },
            "type": "carpet"
           }
          ],
          "choropleth": [
           {
            "colorbar": {
             "outlinewidth": 0,
             "ticks": ""
            },
            "type": "choropleth"
           }
          ],
          "contour": [
           {
            "colorbar": {
             "outlinewidth": 0,
             "ticks": ""
            },
            "colorscale": [
             [
              0,
              "#0d0887"
             ],
             [
              0.1111111111111111,
              "#46039f"
             ],
             [
              0.2222222222222222,
              "#7201a8"
             ],
             [
              0.3333333333333333,
              "#9c179e"
             ],
             [
              0.4444444444444444,
              "#bd3786"
             ],
             [
              0.5555555555555556,
              "#d8576b"
             ],
             [
              0.6666666666666666,
              "#ed7953"
             ],
             [
              0.7777777777777778,
              "#fb9f3a"
             ],
             [
              0.8888888888888888,
              "#fdca26"
             ],
             [
              1,
              "#f0f921"
             ]
            ],
            "type": "contour"
           }
          ],
          "contourcarpet": [
           {
            "colorbar": {
             "outlinewidth": 0,
             "ticks": ""
            },
            "type": "contourcarpet"
           }
          ],
          "heatmap": [
           {
            "colorbar": {
             "outlinewidth": 0,
             "ticks": ""
            },
            "colorscale": [
             [
              0,
              "#0d0887"
             ],
             [
              0.1111111111111111,
              "#46039f"
             ],
             [
              0.2222222222222222,
              "#7201a8"
             ],
             [
              0.3333333333333333,
              "#9c179e"
             ],
             [
              0.4444444444444444,
              "#bd3786"
             ],
             [
              0.5555555555555556,
              "#d8576b"
             ],
             [
              0.6666666666666666,
              "#ed7953"
             ],
             [
              0.7777777777777778,
              "#fb9f3a"
             ],
             [
              0.8888888888888888,
              "#fdca26"
             ],
             [
              1,
              "#f0f921"
             ]
            ],
            "type": "heatmap"
           }
          ],
          "heatmapgl": [
           {
            "colorbar": {
             "outlinewidth": 0,
             "ticks": ""
            },
            "colorscale": [
             [
              0,
              "#0d0887"
             ],
             [
              0.1111111111111111,
              "#46039f"
             ],
             [
              0.2222222222222222,
              "#7201a8"
             ],
             [
              0.3333333333333333,
              "#9c179e"
             ],
             [
              0.4444444444444444,
              "#bd3786"
             ],
             [
              0.5555555555555556,
              "#d8576b"
             ],
             [
              0.6666666666666666,
              "#ed7953"
             ],
             [
              0.7777777777777778,
              "#fb9f3a"
             ],
             [
              0.8888888888888888,
              "#fdca26"
             ],
             [
              1,
              "#f0f921"
             ]
            ],
            "type": "heatmapgl"
           }
          ],
          "histogram": [
           {
            "marker": {
             "pattern": {
              "fillmode": "overlay",
              "size": 10,
              "solidity": 0.2
             }
            },
            "type": "histogram"
           }
          ],
          "histogram2d": [
           {
            "colorbar": {
             "outlinewidth": 0,
             "ticks": ""
            },
            "colorscale": [
             [
              0,
              "#0d0887"
             ],
             [
              0.1111111111111111,
              "#46039f"
             ],
             [
              0.2222222222222222,
              "#7201a8"
             ],
             [
              0.3333333333333333,
              "#9c179e"
             ],
             [
              0.4444444444444444,
              "#bd3786"
             ],
             [
              0.5555555555555556,
              "#d8576b"
             ],
             [
              0.6666666666666666,
              "#ed7953"
             ],
             [
              0.7777777777777778,
              "#fb9f3a"
             ],
             [
              0.8888888888888888,
              "#fdca26"
             ],
             [
              1,
              "#f0f921"
             ]
            ],
            "type": "histogram2d"
           }
          ],
          "histogram2dcontour": [
           {
            "colorbar": {
             "outlinewidth": 0,
             "ticks": ""
            },
            "colorscale": [
             [
              0,
              "#0d0887"
             ],
             [
              0.1111111111111111,
              "#46039f"
             ],
             [
              0.2222222222222222,
              "#7201a8"
             ],
             [
              0.3333333333333333,
              "#9c179e"
             ],
             [
              0.4444444444444444,
              "#bd3786"
             ],
             [
              0.5555555555555556,
              "#d8576b"
             ],
             [
              0.6666666666666666,
              "#ed7953"
             ],
             [
              0.7777777777777778,
              "#fb9f3a"
             ],
             [
              0.8888888888888888,
              "#fdca26"
             ],
             [
              1,
              "#f0f921"
             ]
            ],
            "type": "histogram2dcontour"
           }
          ],
          "mesh3d": [
           {
            "colorbar": {
             "outlinewidth": 0,
             "ticks": ""
            },
            "type": "mesh3d"
           }
          ],
          "parcoords": [
           {
            "line": {
             "colorbar": {
              "outlinewidth": 0,
              "ticks": ""
             }
            },
            "type": "parcoords"
           }
          ],
          "pie": [
           {
            "automargin": true,
            "type": "pie"
           }
          ],
          "scatter": [
           {
            "fillpattern": {
             "fillmode": "overlay",
             "size": 10,
             "solidity": 0.2
            },
            "type": "scatter"
           }
          ],
          "scatter3d": [
           {
            "line": {
             "colorbar": {
              "outlinewidth": 0,
              "ticks": ""
             }
            },
            "marker": {
             "colorbar": {
              "outlinewidth": 0,
              "ticks": ""
             }
            },
            "type": "scatter3d"
           }
          ],
          "scattercarpet": [
           {
            "marker": {
             "colorbar": {
              "outlinewidth": 0,
              "ticks": ""
             }
            },
            "type": "scattercarpet"
           }
          ],
          "scattergeo": [
           {
            "marker": {
             "colorbar": {
              "outlinewidth": 0,
              "ticks": ""
             }
            },
            "type": "scattergeo"
           }
          ],
          "scattergl": [
           {
            "marker": {
             "colorbar": {
              "outlinewidth": 0,
              "ticks": ""
             }
            },
            "type": "scattergl"
           }
          ],
          "scattermapbox": [
           {
            "marker": {
             "colorbar": {
              "outlinewidth": 0,
              "ticks": ""
             }
            },
            "type": "scattermapbox"
           }
          ],
          "scatterpolar": [
           {
            "marker": {
             "colorbar": {
              "outlinewidth": 0,
              "ticks": ""
             }
            },
            "type": "scatterpolar"
           }
          ],
          "scatterpolargl": [
           {
            "marker": {
             "colorbar": {
              "outlinewidth": 0,
              "ticks": ""
             }
            },
            "type": "scatterpolargl"
           }
          ],
          "scatterternary": [
           {
            "marker": {
             "colorbar": {
              "outlinewidth": 0,
              "ticks": ""
             }
            },
            "type": "scatterternary"
           }
          ],
          "surface": [
           {
            "colorbar": {
             "outlinewidth": 0,
             "ticks": ""
            },
            "colorscale": [
             [
              0,
              "#0d0887"
             ],
             [
              0.1111111111111111,
              "#46039f"
             ],
             [
              0.2222222222222222,
              "#7201a8"
             ],
             [
              0.3333333333333333,
              "#9c179e"
             ],
             [
              0.4444444444444444,
              "#bd3786"
             ],
             [
              0.5555555555555556,
              "#d8576b"
             ],
             [
              0.6666666666666666,
              "#ed7953"
             ],
             [
              0.7777777777777778,
              "#fb9f3a"
             ],
             [
              0.8888888888888888,
              "#fdca26"
             ],
             [
              1,
              "#f0f921"
             ]
            ],
            "type": "surface"
           }
          ],
          "table": [
           {
            "cells": {
             "fill": {
              "color": "#EBF0F8"
             },
             "line": {
              "color": "white"
             }
            },
            "header": {
             "fill": {
              "color": "#C8D4E3"
             },
             "line": {
              "color": "white"
             }
            },
            "type": "table"
           }
          ]
         },
         "layout": {
          "annotationdefaults": {
           "arrowcolor": "#2a3f5f",
           "arrowhead": 0,
           "arrowwidth": 1
          },
          "autotypenumbers": "strict",
          "coloraxis": {
           "colorbar": {
            "outlinewidth": 0,
            "ticks": ""
           }
          },
          "colorscale": {
           "diverging": [
            [
             0,
             "#8e0152"
            ],
            [
             0.1,
             "#c51b7d"
            ],
            [
             0.2,
             "#de77ae"
            ],
            [
             0.3,
             "#f1b6da"
            ],
            [
             0.4,
             "#fde0ef"
            ],
            [
             0.5,
             "#f7f7f7"
            ],
            [
             0.6,
             "#e6f5d0"
            ],
            [
             0.7,
             "#b8e186"
            ],
            [
             0.8,
             "#7fbc41"
            ],
            [
             0.9,
             "#4d9221"
            ],
            [
             1,
             "#276419"
            ]
           ],
           "sequential": [
            [
             0,
             "#0d0887"
            ],
            [
             0.1111111111111111,
             "#46039f"
            ],
            [
             0.2222222222222222,
             "#7201a8"
            ],
            [
             0.3333333333333333,
             "#9c179e"
            ],
            [
             0.4444444444444444,
             "#bd3786"
            ],
            [
             0.5555555555555556,
             "#d8576b"
            ],
            [
             0.6666666666666666,
             "#ed7953"
            ],
            [
             0.7777777777777778,
             "#fb9f3a"
            ],
            [
             0.8888888888888888,
             "#fdca26"
            ],
            [
             1,
             "#f0f921"
            ]
           ],
           "sequentialminus": [
            [
             0,
             "#0d0887"
            ],
            [
             0.1111111111111111,
             "#46039f"
            ],
            [
             0.2222222222222222,
             "#7201a8"
            ],
            [
             0.3333333333333333,
             "#9c179e"
            ],
            [
             0.4444444444444444,
             "#bd3786"
            ],
            [
             0.5555555555555556,
             "#d8576b"
            ],
            [
             0.6666666666666666,
             "#ed7953"
            ],
            [
             0.7777777777777778,
             "#fb9f3a"
            ],
            [
             0.8888888888888888,
             "#fdca26"
            ],
            [
             1,
             "#f0f921"
            ]
           ]
          },
          "colorway": [
           "#636efa",
           "#EF553B",
           "#00cc96",
           "#ab63fa",
           "#FFA15A",
           "#19d3f3",
           "#FF6692",
           "#B6E880",
           "#FF97FF",
           "#FECB52"
          ],
          "font": {
           "color": "#2a3f5f"
          },
          "geo": {
           "bgcolor": "white",
           "lakecolor": "white",
           "landcolor": "#E5ECF6",
           "showlakes": true,
           "showland": true,
           "subunitcolor": "white"
          },
          "hoverlabel": {
           "align": "left"
          },
          "hovermode": "closest",
          "mapbox": {
           "style": "light"
          },
          "paper_bgcolor": "white",
          "plot_bgcolor": "#E5ECF6",
          "polar": {
           "angularaxis": {
            "gridcolor": "white",
            "linecolor": "white",
            "ticks": ""
           },
           "bgcolor": "#E5ECF6",
           "radialaxis": {
            "gridcolor": "white",
            "linecolor": "white",
            "ticks": ""
           }
          },
          "scene": {
           "xaxis": {
            "backgroundcolor": "#E5ECF6",
            "gridcolor": "white",
            "gridwidth": 2,
            "linecolor": "white",
            "showbackground": true,
            "ticks": "",
            "zerolinecolor": "white"
           },
           "yaxis": {
            "backgroundcolor": "#E5ECF6",
            "gridcolor": "white",
            "gridwidth": 2,
            "linecolor": "white",
            "showbackground": true,
            "ticks": "",
            "zerolinecolor": "white"
           },
           "zaxis": {
            "backgroundcolor": "#E5ECF6",
            "gridcolor": "white",
            "gridwidth": 2,
            "linecolor": "white",
            "showbackground": true,
            "ticks": "",
            "zerolinecolor": "white"
           }
          },
          "shapedefaults": {
           "line": {
            "color": "#2a3f5f"
           }
          },
          "ternary": {
           "aaxis": {
            "gridcolor": "white",
            "linecolor": "white",
            "ticks": ""
           },
           "baxis": {
            "gridcolor": "white",
            "linecolor": "white",
            "ticks": ""
           },
           "bgcolor": "#E5ECF6",
           "caxis": {
            "gridcolor": "white",
            "linecolor": "white",
            "ticks": ""
           }
          },
          "title": {
           "x": 0.05
          },
          "xaxis": {
           "automargin": true,
           "gridcolor": "white",
           "linecolor": "white",
           "ticks": "",
           "title": {
            "standoff": 15
           },
           "zerolinecolor": "white",
           "zerolinewidth": 2
          },
          "yaxis": {
           "automargin": true,
           "gridcolor": "white",
           "linecolor": "white",
           "ticks": "",
           "title": {
            "standoff": 15
           },
           "zerolinecolor": "white",
           "zerolinewidth": 2
          }
         }
        },
        "title": {
         "font": {
          "color": "#4D5663"
         }
        },
        "xaxis": {
         "gridcolor": "#E1E5ED",
         "showgrid": true,
         "tickfont": {
          "color": "#4D5663"
         },
         "title": {
          "font": {
           "color": "#4D5663"
          },
          "text": ""
         },
         "zerolinecolor": "#E1E5ED"
        },
        "yaxis": {
         "gridcolor": "#E1E5ED",
         "showgrid": true,
         "tickfont": {
          "color": "#4D5663"
         },
         "title": {
          "font": {
           "color": "#4D5663"
          },
          "text": ""
         },
         "zerolinecolor": "#E1E5ED"
        }
       }
      },
      "text/html": [
       "<div>                            <div id=\"1bc84fc6-0ff6-44c0-9719-c53c81913d4f\" class=\"plotly-graph-div\" style=\"height:525px; width:100%;\"></div>            <script type=\"text/javascript\">                require([\"plotly\"], function(Plotly) {                    window.PLOTLYENV=window.PLOTLYENV || {};\n",
       "                    window.PLOTLYENV.BASE_URL='https://plot.ly';                                    if (document.getElementById(\"1bc84fc6-0ff6-44c0-9719-c53c81913d4f\")) {                    Plotly.newPlot(                        \"1bc84fc6-0ff6-44c0-9719-c53c81913d4f\",                        [{\"line\":{\"color\":\"rgba(255, 153, 51, 1.0)\",\"dash\":\"solid\",\"shape\":\"linear\",\"width\":1.3},\"marker\":{\"size\":12,\"symbol\":\"circle\"},\"mode\":\"markers\",\"name\":\"B\",\"text\":\"\",\"x\":[-0.5753426879256494,-0.2855850025875945,-0.0961869464912241,0.6103568764767965,-0.4025696750478465,0.4374070598595347,0.7852380548724863,0.5214648823245953,-0.00684583591222356,-0.5051783000764581,0.6530373694023148,0.8290643885983005,-0.16326941807355744,1.2946551885772357,0.3062829613096997,-0.40651524703456704,0.3896016631461653,-1.138922855036025,-0.7578633933957807,1.3509314503931424,-0.005010025924972767,-0.7973280566035829,-0.9426397821555511,0.7837430673863505,0.21275853925610655,-0.4223329495826686,-1.260774413115214,0.03781882593588207,0.46263467519767826,0.5546355561998378,-0.4842961772526561,0.4618702738864327,-0.26539049970315043,0.07173654988682814,1.2670586248816906,0.48257046492794947,0.8606764634836559,0.6828244703998747,0.2703051628152772,0.0908652995232409,1.3407457592744865,0.6876439459516805,-1.3694094056973394,-0.4335211415628346,-1.1267120131338622,1.3400799055072092,-0.1422947461813094,-1.248940584041396,-2.124104883981563,-1.3019259842261062,1.2253863790785309,-1.50671466014991,0.07538508733247389,1.2494402889239615,0.18255827197336624,-1.0105509243088642,-1.1891302933224321,-0.11628475166186489,-0.4734418847308924,0.8718766160831669,-0.35944283707649927,-0.6793897450131363,-0.18631676258814278,-1.2782273458212,1.4977187013693063,1.177236002604748,-1.0941913024273784,2.2404207802414633,-1.7525070260970546,0.216729499836274,-0.24615959069611515,-0.9566272104115014,-1.3354612997377038,0.22350132903717154,0.9938854360185605,-0.678036349363896,-1.269837301038907,0.023573204636028175,1.1893098288366686,0.3945672020711424,0.16556190679953686,1.0533923683620778,0.7980311950587345,-0.4648689451877062,-1.1224975907209203,0.5905563562444988,0.7187909232916364,0.001996256304215127,-0.5024319634754288,1.8039520156480824,-0.21920796816159593,-0.08410382918341316,0.7263457090750816,1.3527961859231261,-1.544852980293307,-0.2966107732450681,-0.11415615694751836,-0.12881703002004213,1.2741874708953127,1.1393830437473285],\"y\":[-0.5580704050672908,-0.44923515289336513,-0.7168931610192598,0.9830134247526778,1.6240683385906691,-0.40275289981153695,0.6112791218876015,-1.2803108479829148,-0.05808932824151311,-1.684712399154241,0.7009441493967767,1.2720970110310192,0.3689654180086758,-0.10972521230236329,-1.8715072885797777,-0.41072022373609,-2.222846437588777,-1.1915850756385813,0.9231330164233137,1.8669529912034164,-0.290221726325987,-0.648720943564726,-0.36177078386180883,-0.320582285809616,0.034000540804830316,-0.22176470456543523,0.29525848347628325,-0.9460745820077947,-0.40068026297055254,0.4106897541844773,-0.05309064552901487,1.1476677464913225,-0.6292502221798444,-0.6653930893895125,0.23844796985252587,0.1526908108190717,-0.4882637399023558,0.6095528940202006,1.7106600523326803,-0.6087185304180869,-0.14795323483741937,-0.9041735666641447,-0.2758124519817509,-0.6901891175196618,0.6644453330064052,0.7900367784741046,0.9187562121791123,0.8674138559764352,-0.2453438445025455,0.6793641868864831,-0.857948768868309,-0.9098665331960117,-0.6276702401871189,-1.9934794146042236,-0.364622445961039,1.441725222783407,0.7801273633492309,0.8618581629889228,-0.6880668392789634,-1.1699554311316747,0.4688674958261446,-0.3910846044592581,-0.9407200530603363,-1.5443525904104154,1.0384541197937691,-0.3226253863608884,0.9201172848030571,0.7657733729769911,-0.0895080157312864,-0.8583292937553912,-0.5909240948790668,-0.2866429338299557,0.3565715507880381,-0.8964384866866988,-0.5862356805821878,-0.9155134743418362,0.3015672501242637,0.5252427921756735,1.1163271687288974,0.14762362641226046,1.6270590095804507,-0.5035181944686434,-2.4300076126906753,-0.5269023436170583,1.9305638870047916,1.0182413139000828,-0.33799434650269927,1.046303567819808,1.2774037206763065,-0.33322567523426716,0.5210740638623935,-1.1545147289056945,-0.29028048645031423,-1.3789783825434538,0.12451934803869251,-0.06929895952401209,0.3449054115724372,-1.0596751060425036,1.622930397463581,1.2696505909551374],\"type\":\"scatter\"}],                        {\"legend\":{\"bgcolor\":\"#F5F6F9\",\"font\":{\"color\":\"#4D5663\"}},\"paper_bgcolor\":\"#F5F6F9\",\"plot_bgcolor\":\"#F5F6F9\",\"template\":{\"data\":{\"barpolar\":[{\"marker\":{\"line\":{\"color\":\"#E5ECF6\",\"width\":0.5},\"pattern\":{\"fillmode\":\"overlay\",\"size\":10,\"solidity\":0.2}},\"type\":\"barpolar\"}],\"bar\":[{\"error_x\":{\"color\":\"#2a3f5f\"},\"error_y\":{\"color\":\"#2a3f5f\"},\"marker\":{\"line\":{\"color\":\"#E5ECF6\",\"width\":0.5},\"pattern\":{\"fillmode\":\"overlay\",\"size\":10,\"solidity\":0.2}},\"type\":\"bar\"}],\"carpet\":[{\"aaxis\":{\"endlinecolor\":\"#2a3f5f\",\"gridcolor\":\"white\",\"linecolor\":\"white\",\"minorgridcolor\":\"white\",\"startlinecolor\":\"#2a3f5f\"},\"baxis\":{\"endlinecolor\":\"#2a3f5f\",\"gridcolor\":\"white\",\"linecolor\":\"white\",\"minorgridcolor\":\"white\",\"startlinecolor\":\"#2a3f5f\"},\"type\":\"carpet\"}],\"choropleth\":[{\"colorbar\":{\"outlinewidth\":0,\"ticks\":\"\"},\"type\":\"choropleth\"}],\"contourcarpet\":[{\"colorbar\":{\"outlinewidth\":0,\"ticks\":\"\"},\"type\":\"contourcarpet\"}],\"contour\":[{\"colorbar\":{\"outlinewidth\":0,\"ticks\":\"\"},\"colorscale\":[[0.0,\"#0d0887\"],[0.1111111111111111,\"#46039f\"],[0.2222222222222222,\"#7201a8\"],[0.3333333333333333,\"#9c179e\"],[0.4444444444444444,\"#bd3786\"],[0.5555555555555556,\"#d8576b\"],[0.6666666666666666,\"#ed7953\"],[0.7777777777777778,\"#fb9f3a\"],[0.8888888888888888,\"#fdca26\"],[1.0,\"#f0f921\"]],\"type\":\"contour\"}],\"heatmapgl\":[{\"colorbar\":{\"outlinewidth\":0,\"ticks\":\"\"},\"colorscale\":[[0.0,\"#0d0887\"],[0.1111111111111111,\"#46039f\"],[0.2222222222222222,\"#7201a8\"],[0.3333333333333333,\"#9c179e\"],[0.4444444444444444,\"#bd3786\"],[0.5555555555555556,\"#d8576b\"],[0.6666666666666666,\"#ed7953\"],[0.7777777777777778,\"#fb9f3a\"],[0.8888888888888888,\"#fdca26\"],[1.0,\"#f0f921\"]],\"type\":\"heatmapgl\"}],\"heatmap\":[{\"colorbar\":{\"outlinewidth\":0,\"ticks\":\"\"},\"colorscale\":[[0.0,\"#0d0887\"],[0.1111111111111111,\"#46039f\"],[0.2222222222222222,\"#7201a8\"],[0.3333333333333333,\"#9c179e\"],[0.4444444444444444,\"#bd3786\"],[0.5555555555555556,\"#d8576b\"],[0.6666666666666666,\"#ed7953\"],[0.7777777777777778,\"#fb9f3a\"],[0.8888888888888888,\"#fdca26\"],[1.0,\"#f0f921\"]],\"type\":\"heatmap\"}],\"histogram2dcontour\":[{\"colorbar\":{\"outlinewidth\":0,\"ticks\":\"\"},\"colorscale\":[[0.0,\"#0d0887\"],[0.1111111111111111,\"#46039f\"],[0.2222222222222222,\"#7201a8\"],[0.3333333333333333,\"#9c179e\"],[0.4444444444444444,\"#bd3786\"],[0.5555555555555556,\"#d8576b\"],[0.6666666666666666,\"#ed7953\"],[0.7777777777777778,\"#fb9f3a\"],[0.8888888888888888,\"#fdca26\"],[1.0,\"#f0f921\"]],\"type\":\"histogram2dcontour\"}],\"histogram2d\":[{\"colorbar\":{\"outlinewidth\":0,\"ticks\":\"\"},\"colorscale\":[[0.0,\"#0d0887\"],[0.1111111111111111,\"#46039f\"],[0.2222222222222222,\"#7201a8\"],[0.3333333333333333,\"#9c179e\"],[0.4444444444444444,\"#bd3786\"],[0.5555555555555556,\"#d8576b\"],[0.6666666666666666,\"#ed7953\"],[0.7777777777777778,\"#fb9f3a\"],[0.8888888888888888,\"#fdca26\"],[1.0,\"#f0f921\"]],\"type\":\"histogram2d\"}],\"histogram\":[{\"marker\":{\"pattern\":{\"fillmode\":\"overlay\",\"size\":10,\"solidity\":0.2}},\"type\":\"histogram\"}],\"mesh3d\":[{\"colorbar\":{\"outlinewidth\":0,\"ticks\":\"\"},\"type\":\"mesh3d\"}],\"parcoords\":[{\"line\":{\"colorbar\":{\"outlinewidth\":0,\"ticks\":\"\"}},\"type\":\"parcoords\"}],\"pie\":[{\"automargin\":true,\"type\":\"pie\"}],\"scatter3d\":[{\"line\":{\"colorbar\":{\"outlinewidth\":0,\"ticks\":\"\"}},\"marker\":{\"colorbar\":{\"outlinewidth\":0,\"ticks\":\"\"}},\"type\":\"scatter3d\"}],\"scattercarpet\":[{\"marker\":{\"colorbar\":{\"outlinewidth\":0,\"ticks\":\"\"}},\"type\":\"scattercarpet\"}],\"scattergeo\":[{\"marker\":{\"colorbar\":{\"outlinewidth\":0,\"ticks\":\"\"}},\"type\":\"scattergeo\"}],\"scattergl\":[{\"marker\":{\"colorbar\":{\"outlinewidth\":0,\"ticks\":\"\"}},\"type\":\"scattergl\"}],\"scattermapbox\":[{\"marker\":{\"colorbar\":{\"outlinewidth\":0,\"ticks\":\"\"}},\"type\":\"scattermapbox\"}],\"scatterpolargl\":[{\"marker\":{\"colorbar\":{\"outlinewidth\":0,\"ticks\":\"\"}},\"type\":\"scatterpolargl\"}],\"scatterpolar\":[{\"marker\":{\"colorbar\":{\"outlinewidth\":0,\"ticks\":\"\"}},\"type\":\"scatterpolar\"}],\"scatter\":[{\"fillpattern\":{\"fillmode\":\"overlay\",\"size\":10,\"solidity\":0.2},\"type\":\"scatter\"}],\"scatterternary\":[{\"marker\":{\"colorbar\":{\"outlinewidth\":0,\"ticks\":\"\"}},\"type\":\"scatterternary\"}],\"surface\":[{\"colorbar\":{\"outlinewidth\":0,\"ticks\":\"\"},\"colorscale\":[[0.0,\"#0d0887\"],[0.1111111111111111,\"#46039f\"],[0.2222222222222222,\"#7201a8\"],[0.3333333333333333,\"#9c179e\"],[0.4444444444444444,\"#bd3786\"],[0.5555555555555556,\"#d8576b\"],[0.6666666666666666,\"#ed7953\"],[0.7777777777777778,\"#fb9f3a\"],[0.8888888888888888,\"#fdca26\"],[1.0,\"#f0f921\"]],\"type\":\"surface\"}],\"table\":[{\"cells\":{\"fill\":{\"color\":\"#EBF0F8\"},\"line\":{\"color\":\"white\"}},\"header\":{\"fill\":{\"color\":\"#C8D4E3\"},\"line\":{\"color\":\"white\"}},\"type\":\"table\"}]},\"layout\":{\"annotationdefaults\":{\"arrowcolor\":\"#2a3f5f\",\"arrowhead\":0,\"arrowwidth\":1},\"autotypenumbers\":\"strict\",\"coloraxis\":{\"colorbar\":{\"outlinewidth\":0,\"ticks\":\"\"}},\"colorscale\":{\"diverging\":[[0,\"#8e0152\"],[0.1,\"#c51b7d\"],[0.2,\"#de77ae\"],[0.3,\"#f1b6da\"],[0.4,\"#fde0ef\"],[0.5,\"#f7f7f7\"],[0.6,\"#e6f5d0\"],[0.7,\"#b8e186\"],[0.8,\"#7fbc41\"],[0.9,\"#4d9221\"],[1,\"#276419\"]],\"sequential\":[[0.0,\"#0d0887\"],[0.1111111111111111,\"#46039f\"],[0.2222222222222222,\"#7201a8\"],[0.3333333333333333,\"#9c179e\"],[0.4444444444444444,\"#bd3786\"],[0.5555555555555556,\"#d8576b\"],[0.6666666666666666,\"#ed7953\"],[0.7777777777777778,\"#fb9f3a\"],[0.8888888888888888,\"#fdca26\"],[1.0,\"#f0f921\"]],\"sequentialminus\":[[0.0,\"#0d0887\"],[0.1111111111111111,\"#46039f\"],[0.2222222222222222,\"#7201a8\"],[0.3333333333333333,\"#9c179e\"],[0.4444444444444444,\"#bd3786\"],[0.5555555555555556,\"#d8576b\"],[0.6666666666666666,\"#ed7953\"],[0.7777777777777778,\"#fb9f3a\"],[0.8888888888888888,\"#fdca26\"],[1.0,\"#f0f921\"]]},\"colorway\":[\"#636efa\",\"#EF553B\",\"#00cc96\",\"#ab63fa\",\"#FFA15A\",\"#19d3f3\",\"#FF6692\",\"#B6E880\",\"#FF97FF\",\"#FECB52\"],\"font\":{\"color\":\"#2a3f5f\"},\"geo\":{\"bgcolor\":\"white\",\"lakecolor\":\"white\",\"landcolor\":\"#E5ECF6\",\"showlakes\":true,\"showland\":true,\"subunitcolor\":\"white\"},\"hoverlabel\":{\"align\":\"left\"},\"hovermode\":\"closest\",\"mapbox\":{\"style\":\"light\"},\"paper_bgcolor\":\"white\",\"plot_bgcolor\":\"#E5ECF6\",\"polar\":{\"angularaxis\":{\"gridcolor\":\"white\",\"linecolor\":\"white\",\"ticks\":\"\"},\"bgcolor\":\"#E5ECF6\",\"radialaxis\":{\"gridcolor\":\"white\",\"linecolor\":\"white\",\"ticks\":\"\"}},\"scene\":{\"xaxis\":{\"backgroundcolor\":\"#E5ECF6\",\"gridcolor\":\"white\",\"gridwidth\":2,\"linecolor\":\"white\",\"showbackground\":true,\"ticks\":\"\",\"zerolinecolor\":\"white\"},\"yaxis\":{\"backgroundcolor\":\"#E5ECF6\",\"gridcolor\":\"white\",\"gridwidth\":2,\"linecolor\":\"white\",\"showbackground\":true,\"ticks\":\"\",\"zerolinecolor\":\"white\"},\"zaxis\":{\"backgroundcolor\":\"#E5ECF6\",\"gridcolor\":\"white\",\"gridwidth\":2,\"linecolor\":\"white\",\"showbackground\":true,\"ticks\":\"\",\"zerolinecolor\":\"white\"}},\"shapedefaults\":{\"line\":{\"color\":\"#2a3f5f\"}},\"ternary\":{\"aaxis\":{\"gridcolor\":\"white\",\"linecolor\":\"white\",\"ticks\":\"\"},\"baxis\":{\"gridcolor\":\"white\",\"linecolor\":\"white\",\"ticks\":\"\"},\"bgcolor\":\"#E5ECF6\",\"caxis\":{\"gridcolor\":\"white\",\"linecolor\":\"white\",\"ticks\":\"\"}},\"title\":{\"x\":0.05},\"xaxis\":{\"automargin\":true,\"gridcolor\":\"white\",\"linecolor\":\"white\",\"ticks\":\"\",\"title\":{\"standoff\":15},\"zerolinecolor\":\"white\",\"zerolinewidth\":2},\"yaxis\":{\"automargin\":true,\"gridcolor\":\"white\",\"linecolor\":\"white\",\"ticks\":\"\",\"title\":{\"standoff\":15},\"zerolinecolor\":\"white\",\"zerolinewidth\":2}}},\"title\":{\"font\":{\"color\":\"#4D5663\"}},\"xaxis\":{\"gridcolor\":\"#E1E5ED\",\"showgrid\":true,\"tickfont\":{\"color\":\"#4D5663\"},\"title\":{\"font\":{\"color\":\"#4D5663\"},\"text\":\"\"},\"zerolinecolor\":\"#E1E5ED\"},\"yaxis\":{\"gridcolor\":\"#E1E5ED\",\"showgrid\":true,\"tickfont\":{\"color\":\"#4D5663\"},\"title\":{\"font\":{\"color\":\"#4D5663\"},\"text\":\"\"},\"zerolinecolor\":\"#E1E5ED\"}},                        {\"showLink\": true, \"linkText\": \"Export to plot.ly\", \"plotlyServerURL\": \"https://plot.ly\", \"responsive\": true}                    ).then(function(){\n",
       "                            \n",
       "var gd = document.getElementById('1bc84fc6-0ff6-44c0-9719-c53c81913d4f');\n",
       "var x = new MutationObserver(function (mutations, observer) {{\n",
       "        var display = window.getComputedStyle(gd).display;\n",
       "        if (!display || display === 'none') {{\n",
       "            console.log([gd, 'removed!']);\n",
       "            Plotly.purge(gd);\n",
       "            observer.disconnect();\n",
       "        }}\n",
       "}});\n",
       "\n",
       "// Listen for the removal of the full notebook cells\n",
       "var notebookContainer = gd.closest('#notebook-container');\n",
       "if (notebookContainer) {{\n",
       "    x.observe(notebookContainer, {childList: true});\n",
       "}}\n",
       "\n",
       "// Listen for the clearing of the current output cell\n",
       "var outputEl = gd.closest('.output');\n",
       "if (outputEl) {{\n",
       "    x.observe(outputEl, {childList: true});\n",
       "}}\n",
       "\n",
       "                        })                };                });            </script>        </div>"
      ]
     },
     "metadata": {},
     "output_type": "display_data"
    }
   ],
   "source": [
    "#scatter\n",
    "df.iplot(kind='scatter',x='A',y='B', mode = 'markers')"
   ]
  },
  {
   "cell_type": "code",
   "execution_count": 31,
   "id": "e9534a87",
   "metadata": {},
   "outputs": [
    {
     "data": {
      "application/vnd.plotly.v1+json": {
       "config": {
        "linkText": "Export to plot.ly",
        "plotlyServerURL": "https://plot.ly",
        "showLink": true
       },
       "data": [
        {
         "line": {
          "color": "rgba(255, 153, 51, 1.0)",
          "dash": "solid",
          "shape": "linear",
          "width": 1.3
         },
         "marker": {
          "size": 20,
          "symbol": "circle"
         },
         "mode": "markers",
         "name": "B",
         "text": "",
         "type": "scatter",
         "x": [
          -0.5753426879256494,
          -0.2855850025875945,
          -0.0961869464912241,
          0.6103568764767965,
          -0.4025696750478465,
          0.4374070598595347,
          0.7852380548724863,
          0.5214648823245953,
          -0.00684583591222356,
          -0.5051783000764581,
          0.6530373694023148,
          0.8290643885983005,
          -0.16326941807355744,
          1.2946551885772357,
          0.3062829613096997,
          -0.40651524703456704,
          0.3896016631461653,
          -1.138922855036025,
          -0.7578633933957807,
          1.3509314503931424,
          -0.005010025924972767,
          -0.7973280566035829,
          -0.9426397821555511,
          0.7837430673863505,
          0.21275853925610655,
          -0.4223329495826686,
          -1.260774413115214,
          0.03781882593588207,
          0.46263467519767826,
          0.5546355561998378,
          -0.4842961772526561,
          0.4618702738864327,
          -0.26539049970315043,
          0.07173654988682814,
          1.2670586248816906,
          0.48257046492794947,
          0.8606764634836559,
          0.6828244703998747,
          0.2703051628152772,
          0.0908652995232409,
          1.3407457592744865,
          0.6876439459516805,
          -1.3694094056973394,
          -0.4335211415628346,
          -1.1267120131338622,
          1.3400799055072092,
          -0.1422947461813094,
          -1.248940584041396,
          -2.124104883981563,
          -1.3019259842261062,
          1.2253863790785309,
          -1.50671466014991,
          0.07538508733247389,
          1.2494402889239615,
          0.18255827197336624,
          -1.0105509243088642,
          -1.1891302933224321,
          -0.11628475166186489,
          -0.4734418847308924,
          0.8718766160831669,
          -0.35944283707649927,
          -0.6793897450131363,
          -0.18631676258814278,
          -1.2782273458212,
          1.4977187013693063,
          1.177236002604748,
          -1.0941913024273784,
          2.2404207802414633,
          -1.7525070260970546,
          0.216729499836274,
          -0.24615959069611515,
          -0.9566272104115014,
          -1.3354612997377038,
          0.22350132903717154,
          0.9938854360185605,
          -0.678036349363896,
          -1.269837301038907,
          0.023573204636028175,
          1.1893098288366686,
          0.3945672020711424,
          0.16556190679953686,
          1.0533923683620778,
          0.7980311950587345,
          -0.4648689451877062,
          -1.1224975907209203,
          0.5905563562444988,
          0.7187909232916364,
          0.001996256304215127,
          -0.5024319634754288,
          1.8039520156480824,
          -0.21920796816159593,
          -0.08410382918341316,
          0.7263457090750816,
          1.3527961859231261,
          -1.544852980293307,
          -0.2966107732450681,
          -0.11415615694751836,
          -0.12881703002004213,
          1.2741874708953127,
          1.1393830437473285
         ],
         "y": [
          -0.5580704050672908,
          -0.44923515289336513,
          -0.7168931610192598,
          0.9830134247526778,
          1.6240683385906691,
          -0.40275289981153695,
          0.6112791218876015,
          -1.2803108479829148,
          -0.05808932824151311,
          -1.684712399154241,
          0.7009441493967767,
          1.2720970110310192,
          0.3689654180086758,
          -0.10972521230236329,
          -1.8715072885797777,
          -0.41072022373609,
          -2.222846437588777,
          -1.1915850756385813,
          0.9231330164233137,
          1.8669529912034164,
          -0.290221726325987,
          -0.648720943564726,
          -0.36177078386180883,
          -0.320582285809616,
          0.034000540804830316,
          -0.22176470456543523,
          0.29525848347628325,
          -0.9460745820077947,
          -0.40068026297055254,
          0.4106897541844773,
          -0.05309064552901487,
          1.1476677464913225,
          -0.6292502221798444,
          -0.6653930893895125,
          0.23844796985252587,
          0.1526908108190717,
          -0.4882637399023558,
          0.6095528940202006,
          1.7106600523326803,
          -0.6087185304180869,
          -0.14795323483741937,
          -0.9041735666641447,
          -0.2758124519817509,
          -0.6901891175196618,
          0.6644453330064052,
          0.7900367784741046,
          0.9187562121791123,
          0.8674138559764352,
          -0.2453438445025455,
          0.6793641868864831,
          -0.857948768868309,
          -0.9098665331960117,
          -0.6276702401871189,
          -1.9934794146042236,
          -0.364622445961039,
          1.441725222783407,
          0.7801273633492309,
          0.8618581629889228,
          -0.6880668392789634,
          -1.1699554311316747,
          0.4688674958261446,
          -0.3910846044592581,
          -0.9407200530603363,
          -1.5443525904104154,
          1.0384541197937691,
          -0.3226253863608884,
          0.9201172848030571,
          0.7657733729769911,
          -0.0895080157312864,
          -0.8583292937553912,
          -0.5909240948790668,
          -0.2866429338299557,
          0.3565715507880381,
          -0.8964384866866988,
          -0.5862356805821878,
          -0.9155134743418362,
          0.3015672501242637,
          0.5252427921756735,
          1.1163271687288974,
          0.14762362641226046,
          1.6270590095804507,
          -0.5035181944686434,
          -2.4300076126906753,
          -0.5269023436170583,
          1.9305638870047916,
          1.0182413139000828,
          -0.33799434650269927,
          1.046303567819808,
          1.2774037206763065,
          -0.33322567523426716,
          0.5210740638623935,
          -1.1545147289056945,
          -0.29028048645031423,
          -1.3789783825434538,
          0.12451934803869251,
          -0.06929895952401209,
          0.3449054115724372,
          -1.0596751060425036,
          1.622930397463581,
          1.2696505909551374
         ]
        }
       ],
       "layout": {
        "legend": {
         "bgcolor": "#F5F6F9",
         "font": {
          "color": "#4D5663"
         }
        },
        "paper_bgcolor": "#F5F6F9",
        "plot_bgcolor": "#F5F6F9",
        "template": {
         "data": {
          "bar": [
           {
            "error_x": {
             "color": "#2a3f5f"
            },
            "error_y": {
             "color": "#2a3f5f"
            },
            "marker": {
             "line": {
              "color": "#E5ECF6",
              "width": 0.5
             },
             "pattern": {
              "fillmode": "overlay",
              "size": 10,
              "solidity": 0.2
             }
            },
            "type": "bar"
           }
          ],
          "barpolar": [
           {
            "marker": {
             "line": {
              "color": "#E5ECF6",
              "width": 0.5
             },
             "pattern": {
              "fillmode": "overlay",
              "size": 10,
              "solidity": 0.2
             }
            },
            "type": "barpolar"
           }
          ],
          "carpet": [
           {
            "aaxis": {
             "endlinecolor": "#2a3f5f",
             "gridcolor": "white",
             "linecolor": "white",
             "minorgridcolor": "white",
             "startlinecolor": "#2a3f5f"
            },
            "baxis": {
             "endlinecolor": "#2a3f5f",
             "gridcolor": "white",
             "linecolor": "white",
             "minorgridcolor": "white",
             "startlinecolor": "#2a3f5f"
            },
            "type": "carpet"
           }
          ],
          "choropleth": [
           {
            "colorbar": {
             "outlinewidth": 0,
             "ticks": ""
            },
            "type": "choropleth"
           }
          ],
          "contour": [
           {
            "colorbar": {
             "outlinewidth": 0,
             "ticks": ""
            },
            "colorscale": [
             [
              0,
              "#0d0887"
             ],
             [
              0.1111111111111111,
              "#46039f"
             ],
             [
              0.2222222222222222,
              "#7201a8"
             ],
             [
              0.3333333333333333,
              "#9c179e"
             ],
             [
              0.4444444444444444,
              "#bd3786"
             ],
             [
              0.5555555555555556,
              "#d8576b"
             ],
             [
              0.6666666666666666,
              "#ed7953"
             ],
             [
              0.7777777777777778,
              "#fb9f3a"
             ],
             [
              0.8888888888888888,
              "#fdca26"
             ],
             [
              1,
              "#f0f921"
             ]
            ],
            "type": "contour"
           }
          ],
          "contourcarpet": [
           {
            "colorbar": {
             "outlinewidth": 0,
             "ticks": ""
            },
            "type": "contourcarpet"
           }
          ],
          "heatmap": [
           {
            "colorbar": {
             "outlinewidth": 0,
             "ticks": ""
            },
            "colorscale": [
             [
              0,
              "#0d0887"
             ],
             [
              0.1111111111111111,
              "#46039f"
             ],
             [
              0.2222222222222222,
              "#7201a8"
             ],
             [
              0.3333333333333333,
              "#9c179e"
             ],
             [
              0.4444444444444444,
              "#bd3786"
             ],
             [
              0.5555555555555556,
              "#d8576b"
             ],
             [
              0.6666666666666666,
              "#ed7953"
             ],
             [
              0.7777777777777778,
              "#fb9f3a"
             ],
             [
              0.8888888888888888,
              "#fdca26"
             ],
             [
              1,
              "#f0f921"
             ]
            ],
            "type": "heatmap"
           }
          ],
          "heatmapgl": [
           {
            "colorbar": {
             "outlinewidth": 0,
             "ticks": ""
            },
            "colorscale": [
             [
              0,
              "#0d0887"
             ],
             [
              0.1111111111111111,
              "#46039f"
             ],
             [
              0.2222222222222222,
              "#7201a8"
             ],
             [
              0.3333333333333333,
              "#9c179e"
             ],
             [
              0.4444444444444444,
              "#bd3786"
             ],
             [
              0.5555555555555556,
              "#d8576b"
             ],
             [
              0.6666666666666666,
              "#ed7953"
             ],
             [
              0.7777777777777778,
              "#fb9f3a"
             ],
             [
              0.8888888888888888,
              "#fdca26"
             ],
             [
              1,
              "#f0f921"
             ]
            ],
            "type": "heatmapgl"
           }
          ],
          "histogram": [
           {
            "marker": {
             "pattern": {
              "fillmode": "overlay",
              "size": 10,
              "solidity": 0.2
             }
            },
            "type": "histogram"
           }
          ],
          "histogram2d": [
           {
            "colorbar": {
             "outlinewidth": 0,
             "ticks": ""
            },
            "colorscale": [
             [
              0,
              "#0d0887"
             ],
             [
              0.1111111111111111,
              "#46039f"
             ],
             [
              0.2222222222222222,
              "#7201a8"
             ],
             [
              0.3333333333333333,
              "#9c179e"
             ],
             [
              0.4444444444444444,
              "#bd3786"
             ],
             [
              0.5555555555555556,
              "#d8576b"
             ],
             [
              0.6666666666666666,
              "#ed7953"
             ],
             [
              0.7777777777777778,
              "#fb9f3a"
             ],
             [
              0.8888888888888888,
              "#fdca26"
             ],
             [
              1,
              "#f0f921"
             ]
            ],
            "type": "histogram2d"
           }
          ],
          "histogram2dcontour": [
           {
            "colorbar": {
             "outlinewidth": 0,
             "ticks": ""
            },
            "colorscale": [
             [
              0,
              "#0d0887"
             ],
             [
              0.1111111111111111,
              "#46039f"
             ],
             [
              0.2222222222222222,
              "#7201a8"
             ],
             [
              0.3333333333333333,
              "#9c179e"
             ],
             [
              0.4444444444444444,
              "#bd3786"
             ],
             [
              0.5555555555555556,
              "#d8576b"
             ],
             [
              0.6666666666666666,
              "#ed7953"
             ],
             [
              0.7777777777777778,
              "#fb9f3a"
             ],
             [
              0.8888888888888888,
              "#fdca26"
             ],
             [
              1,
              "#f0f921"
             ]
            ],
            "type": "histogram2dcontour"
           }
          ],
          "mesh3d": [
           {
            "colorbar": {
             "outlinewidth": 0,
             "ticks": ""
            },
            "type": "mesh3d"
           }
          ],
          "parcoords": [
           {
            "line": {
             "colorbar": {
              "outlinewidth": 0,
              "ticks": ""
             }
            },
            "type": "parcoords"
           }
          ],
          "pie": [
           {
            "automargin": true,
            "type": "pie"
           }
          ],
          "scatter": [
           {
            "fillpattern": {
             "fillmode": "overlay",
             "size": 10,
             "solidity": 0.2
            },
            "type": "scatter"
           }
          ],
          "scatter3d": [
           {
            "line": {
             "colorbar": {
              "outlinewidth": 0,
              "ticks": ""
             }
            },
            "marker": {
             "colorbar": {
              "outlinewidth": 0,
              "ticks": ""
             }
            },
            "type": "scatter3d"
           }
          ],
          "scattercarpet": [
           {
            "marker": {
             "colorbar": {
              "outlinewidth": 0,
              "ticks": ""
             }
            },
            "type": "scattercarpet"
           }
          ],
          "scattergeo": [
           {
            "marker": {
             "colorbar": {
              "outlinewidth": 0,
              "ticks": ""
             }
            },
            "type": "scattergeo"
           }
          ],
          "scattergl": [
           {
            "marker": {
             "colorbar": {
              "outlinewidth": 0,
              "ticks": ""
             }
            },
            "type": "scattergl"
           }
          ],
          "scattermapbox": [
           {
            "marker": {
             "colorbar": {
              "outlinewidth": 0,
              "ticks": ""
             }
            },
            "type": "scattermapbox"
           }
          ],
          "scatterpolar": [
           {
            "marker": {
             "colorbar": {
              "outlinewidth": 0,
              "ticks": ""
             }
            },
            "type": "scatterpolar"
           }
          ],
          "scatterpolargl": [
           {
            "marker": {
             "colorbar": {
              "outlinewidth": 0,
              "ticks": ""
             }
            },
            "type": "scatterpolargl"
           }
          ],
          "scatterternary": [
           {
            "marker": {
             "colorbar": {
              "outlinewidth": 0,
              "ticks": ""
             }
            },
            "type": "scatterternary"
           }
          ],
          "surface": [
           {
            "colorbar": {
             "outlinewidth": 0,
             "ticks": ""
            },
            "colorscale": [
             [
              0,
              "#0d0887"
             ],
             [
              0.1111111111111111,
              "#46039f"
             ],
             [
              0.2222222222222222,
              "#7201a8"
             ],
             [
              0.3333333333333333,
              "#9c179e"
             ],
             [
              0.4444444444444444,
              "#bd3786"
             ],
             [
              0.5555555555555556,
              "#d8576b"
             ],
             [
              0.6666666666666666,
              "#ed7953"
             ],
             [
              0.7777777777777778,
              "#fb9f3a"
             ],
             [
              0.8888888888888888,
              "#fdca26"
             ],
             [
              1,
              "#f0f921"
             ]
            ],
            "type": "surface"
           }
          ],
          "table": [
           {
            "cells": {
             "fill": {
              "color": "#EBF0F8"
             },
             "line": {
              "color": "white"
             }
            },
            "header": {
             "fill": {
              "color": "#C8D4E3"
             },
             "line": {
              "color": "white"
             }
            },
            "type": "table"
           }
          ]
         },
         "layout": {
          "annotationdefaults": {
           "arrowcolor": "#2a3f5f",
           "arrowhead": 0,
           "arrowwidth": 1
          },
          "autotypenumbers": "strict",
          "coloraxis": {
           "colorbar": {
            "outlinewidth": 0,
            "ticks": ""
           }
          },
          "colorscale": {
           "diverging": [
            [
             0,
             "#8e0152"
            ],
            [
             0.1,
             "#c51b7d"
            ],
            [
             0.2,
             "#de77ae"
            ],
            [
             0.3,
             "#f1b6da"
            ],
            [
             0.4,
             "#fde0ef"
            ],
            [
             0.5,
             "#f7f7f7"
            ],
            [
             0.6,
             "#e6f5d0"
            ],
            [
             0.7,
             "#b8e186"
            ],
            [
             0.8,
             "#7fbc41"
            ],
            [
             0.9,
             "#4d9221"
            ],
            [
             1,
             "#276419"
            ]
           ],
           "sequential": [
            [
             0,
             "#0d0887"
            ],
            [
             0.1111111111111111,
             "#46039f"
            ],
            [
             0.2222222222222222,
             "#7201a8"
            ],
            [
             0.3333333333333333,
             "#9c179e"
            ],
            [
             0.4444444444444444,
             "#bd3786"
            ],
            [
             0.5555555555555556,
             "#d8576b"
            ],
            [
             0.6666666666666666,
             "#ed7953"
            ],
            [
             0.7777777777777778,
             "#fb9f3a"
            ],
            [
             0.8888888888888888,
             "#fdca26"
            ],
            [
             1,
             "#f0f921"
            ]
           ],
           "sequentialminus": [
            [
             0,
             "#0d0887"
            ],
            [
             0.1111111111111111,
             "#46039f"
            ],
            [
             0.2222222222222222,
             "#7201a8"
            ],
            [
             0.3333333333333333,
             "#9c179e"
            ],
            [
             0.4444444444444444,
             "#bd3786"
            ],
            [
             0.5555555555555556,
             "#d8576b"
            ],
            [
             0.6666666666666666,
             "#ed7953"
            ],
            [
             0.7777777777777778,
             "#fb9f3a"
            ],
            [
             0.8888888888888888,
             "#fdca26"
            ],
            [
             1,
             "#f0f921"
            ]
           ]
          },
          "colorway": [
           "#636efa",
           "#EF553B",
           "#00cc96",
           "#ab63fa",
           "#FFA15A",
           "#19d3f3",
           "#FF6692",
           "#B6E880",
           "#FF97FF",
           "#FECB52"
          ],
          "font": {
           "color": "#2a3f5f"
          },
          "geo": {
           "bgcolor": "white",
           "lakecolor": "white",
           "landcolor": "#E5ECF6",
           "showlakes": true,
           "showland": true,
           "subunitcolor": "white"
          },
          "hoverlabel": {
           "align": "left"
          },
          "hovermode": "closest",
          "mapbox": {
           "style": "light"
          },
          "paper_bgcolor": "white",
          "plot_bgcolor": "#E5ECF6",
          "polar": {
           "angularaxis": {
            "gridcolor": "white",
            "linecolor": "white",
            "ticks": ""
           },
           "bgcolor": "#E5ECF6",
           "radialaxis": {
            "gridcolor": "white",
            "linecolor": "white",
            "ticks": ""
           }
          },
          "scene": {
           "xaxis": {
            "backgroundcolor": "#E5ECF6",
            "gridcolor": "white",
            "gridwidth": 2,
            "linecolor": "white",
            "showbackground": true,
            "ticks": "",
            "zerolinecolor": "white"
           },
           "yaxis": {
            "backgroundcolor": "#E5ECF6",
            "gridcolor": "white",
            "gridwidth": 2,
            "linecolor": "white",
            "showbackground": true,
            "ticks": "",
            "zerolinecolor": "white"
           },
           "zaxis": {
            "backgroundcolor": "#E5ECF6",
            "gridcolor": "white",
            "gridwidth": 2,
            "linecolor": "white",
            "showbackground": true,
            "ticks": "",
            "zerolinecolor": "white"
           }
          },
          "shapedefaults": {
           "line": {
            "color": "#2a3f5f"
           }
          },
          "ternary": {
           "aaxis": {
            "gridcolor": "white",
            "linecolor": "white",
            "ticks": ""
           },
           "baxis": {
            "gridcolor": "white",
            "linecolor": "white",
            "ticks": ""
           },
           "bgcolor": "#E5ECF6",
           "caxis": {
            "gridcolor": "white",
            "linecolor": "white",
            "ticks": ""
           }
          },
          "title": {
           "x": 0.05
          },
          "xaxis": {
           "automargin": true,
           "gridcolor": "white",
           "linecolor": "white",
           "ticks": "",
           "title": {
            "standoff": 15
           },
           "zerolinecolor": "white",
           "zerolinewidth": 2
          },
          "yaxis": {
           "automargin": true,
           "gridcolor": "white",
           "linecolor": "white",
           "ticks": "",
           "title": {
            "standoff": 15
           },
           "zerolinecolor": "white",
           "zerolinewidth": 2
          }
         }
        },
        "title": {
         "font": {
          "color": "#4D5663"
         }
        },
        "xaxis": {
         "gridcolor": "#E1E5ED",
         "showgrid": true,
         "tickfont": {
          "color": "#4D5663"
         },
         "title": {
          "font": {
           "color": "#4D5663"
          },
          "text": ""
         },
         "zerolinecolor": "#E1E5ED"
        },
        "yaxis": {
         "gridcolor": "#E1E5ED",
         "showgrid": true,
         "tickfont": {
          "color": "#4D5663"
         },
         "title": {
          "font": {
           "color": "#4D5663"
          },
          "text": ""
         },
         "zerolinecolor": "#E1E5ED"
        }
       }
      },
      "text/html": [
       "<div>                            <div id=\"be3875b0-0733-47e2-92d6-bcc5609607ba\" class=\"plotly-graph-div\" style=\"height:525px; width:100%;\"></div>            <script type=\"text/javascript\">                require([\"plotly\"], function(Plotly) {                    window.PLOTLYENV=window.PLOTLYENV || {};\n",
       "                    window.PLOTLYENV.BASE_URL='https://plot.ly';                                    if (document.getElementById(\"be3875b0-0733-47e2-92d6-bcc5609607ba\")) {                    Plotly.newPlot(                        \"be3875b0-0733-47e2-92d6-bcc5609607ba\",                        [{\"line\":{\"color\":\"rgba(255, 153, 51, 1.0)\",\"dash\":\"solid\",\"shape\":\"linear\",\"width\":1.3},\"marker\":{\"size\":20,\"symbol\":\"circle\"},\"mode\":\"markers\",\"name\":\"B\",\"text\":\"\",\"x\":[-0.5753426879256494,-0.2855850025875945,-0.0961869464912241,0.6103568764767965,-0.4025696750478465,0.4374070598595347,0.7852380548724863,0.5214648823245953,-0.00684583591222356,-0.5051783000764581,0.6530373694023148,0.8290643885983005,-0.16326941807355744,1.2946551885772357,0.3062829613096997,-0.40651524703456704,0.3896016631461653,-1.138922855036025,-0.7578633933957807,1.3509314503931424,-0.005010025924972767,-0.7973280566035829,-0.9426397821555511,0.7837430673863505,0.21275853925610655,-0.4223329495826686,-1.260774413115214,0.03781882593588207,0.46263467519767826,0.5546355561998378,-0.4842961772526561,0.4618702738864327,-0.26539049970315043,0.07173654988682814,1.2670586248816906,0.48257046492794947,0.8606764634836559,0.6828244703998747,0.2703051628152772,0.0908652995232409,1.3407457592744865,0.6876439459516805,-1.3694094056973394,-0.4335211415628346,-1.1267120131338622,1.3400799055072092,-0.1422947461813094,-1.248940584041396,-2.124104883981563,-1.3019259842261062,1.2253863790785309,-1.50671466014991,0.07538508733247389,1.2494402889239615,0.18255827197336624,-1.0105509243088642,-1.1891302933224321,-0.11628475166186489,-0.4734418847308924,0.8718766160831669,-0.35944283707649927,-0.6793897450131363,-0.18631676258814278,-1.2782273458212,1.4977187013693063,1.177236002604748,-1.0941913024273784,2.2404207802414633,-1.7525070260970546,0.216729499836274,-0.24615959069611515,-0.9566272104115014,-1.3354612997377038,0.22350132903717154,0.9938854360185605,-0.678036349363896,-1.269837301038907,0.023573204636028175,1.1893098288366686,0.3945672020711424,0.16556190679953686,1.0533923683620778,0.7980311950587345,-0.4648689451877062,-1.1224975907209203,0.5905563562444988,0.7187909232916364,0.001996256304215127,-0.5024319634754288,1.8039520156480824,-0.21920796816159593,-0.08410382918341316,0.7263457090750816,1.3527961859231261,-1.544852980293307,-0.2966107732450681,-0.11415615694751836,-0.12881703002004213,1.2741874708953127,1.1393830437473285],\"y\":[-0.5580704050672908,-0.44923515289336513,-0.7168931610192598,0.9830134247526778,1.6240683385906691,-0.40275289981153695,0.6112791218876015,-1.2803108479829148,-0.05808932824151311,-1.684712399154241,0.7009441493967767,1.2720970110310192,0.3689654180086758,-0.10972521230236329,-1.8715072885797777,-0.41072022373609,-2.222846437588777,-1.1915850756385813,0.9231330164233137,1.8669529912034164,-0.290221726325987,-0.648720943564726,-0.36177078386180883,-0.320582285809616,0.034000540804830316,-0.22176470456543523,0.29525848347628325,-0.9460745820077947,-0.40068026297055254,0.4106897541844773,-0.05309064552901487,1.1476677464913225,-0.6292502221798444,-0.6653930893895125,0.23844796985252587,0.1526908108190717,-0.4882637399023558,0.6095528940202006,1.7106600523326803,-0.6087185304180869,-0.14795323483741937,-0.9041735666641447,-0.2758124519817509,-0.6901891175196618,0.6644453330064052,0.7900367784741046,0.9187562121791123,0.8674138559764352,-0.2453438445025455,0.6793641868864831,-0.857948768868309,-0.9098665331960117,-0.6276702401871189,-1.9934794146042236,-0.364622445961039,1.441725222783407,0.7801273633492309,0.8618581629889228,-0.6880668392789634,-1.1699554311316747,0.4688674958261446,-0.3910846044592581,-0.9407200530603363,-1.5443525904104154,1.0384541197937691,-0.3226253863608884,0.9201172848030571,0.7657733729769911,-0.0895080157312864,-0.8583292937553912,-0.5909240948790668,-0.2866429338299557,0.3565715507880381,-0.8964384866866988,-0.5862356805821878,-0.9155134743418362,0.3015672501242637,0.5252427921756735,1.1163271687288974,0.14762362641226046,1.6270590095804507,-0.5035181944686434,-2.4300076126906753,-0.5269023436170583,1.9305638870047916,1.0182413139000828,-0.33799434650269927,1.046303567819808,1.2774037206763065,-0.33322567523426716,0.5210740638623935,-1.1545147289056945,-0.29028048645031423,-1.3789783825434538,0.12451934803869251,-0.06929895952401209,0.3449054115724372,-1.0596751060425036,1.622930397463581,1.2696505909551374],\"type\":\"scatter\"}],                        {\"legend\":{\"bgcolor\":\"#F5F6F9\",\"font\":{\"color\":\"#4D5663\"}},\"paper_bgcolor\":\"#F5F6F9\",\"plot_bgcolor\":\"#F5F6F9\",\"template\":{\"data\":{\"barpolar\":[{\"marker\":{\"line\":{\"color\":\"#E5ECF6\",\"width\":0.5},\"pattern\":{\"fillmode\":\"overlay\",\"size\":10,\"solidity\":0.2}},\"type\":\"barpolar\"}],\"bar\":[{\"error_x\":{\"color\":\"#2a3f5f\"},\"error_y\":{\"color\":\"#2a3f5f\"},\"marker\":{\"line\":{\"color\":\"#E5ECF6\",\"width\":0.5},\"pattern\":{\"fillmode\":\"overlay\",\"size\":10,\"solidity\":0.2}},\"type\":\"bar\"}],\"carpet\":[{\"aaxis\":{\"endlinecolor\":\"#2a3f5f\",\"gridcolor\":\"white\",\"linecolor\":\"white\",\"minorgridcolor\":\"white\",\"startlinecolor\":\"#2a3f5f\"},\"baxis\":{\"endlinecolor\":\"#2a3f5f\",\"gridcolor\":\"white\",\"linecolor\":\"white\",\"minorgridcolor\":\"white\",\"startlinecolor\":\"#2a3f5f\"},\"type\":\"carpet\"}],\"choropleth\":[{\"colorbar\":{\"outlinewidth\":0,\"ticks\":\"\"},\"type\":\"choropleth\"}],\"contourcarpet\":[{\"colorbar\":{\"outlinewidth\":0,\"ticks\":\"\"},\"type\":\"contourcarpet\"}],\"contour\":[{\"colorbar\":{\"outlinewidth\":0,\"ticks\":\"\"},\"colorscale\":[[0.0,\"#0d0887\"],[0.1111111111111111,\"#46039f\"],[0.2222222222222222,\"#7201a8\"],[0.3333333333333333,\"#9c179e\"],[0.4444444444444444,\"#bd3786\"],[0.5555555555555556,\"#d8576b\"],[0.6666666666666666,\"#ed7953\"],[0.7777777777777778,\"#fb9f3a\"],[0.8888888888888888,\"#fdca26\"],[1.0,\"#f0f921\"]],\"type\":\"contour\"}],\"heatmapgl\":[{\"colorbar\":{\"outlinewidth\":0,\"ticks\":\"\"},\"colorscale\":[[0.0,\"#0d0887\"],[0.1111111111111111,\"#46039f\"],[0.2222222222222222,\"#7201a8\"],[0.3333333333333333,\"#9c179e\"],[0.4444444444444444,\"#bd3786\"],[0.5555555555555556,\"#d8576b\"],[0.6666666666666666,\"#ed7953\"],[0.7777777777777778,\"#fb9f3a\"],[0.8888888888888888,\"#fdca26\"],[1.0,\"#f0f921\"]],\"type\":\"heatmapgl\"}],\"heatmap\":[{\"colorbar\":{\"outlinewidth\":0,\"ticks\":\"\"},\"colorscale\":[[0.0,\"#0d0887\"],[0.1111111111111111,\"#46039f\"],[0.2222222222222222,\"#7201a8\"],[0.3333333333333333,\"#9c179e\"],[0.4444444444444444,\"#bd3786\"],[0.5555555555555556,\"#d8576b\"],[0.6666666666666666,\"#ed7953\"],[0.7777777777777778,\"#fb9f3a\"],[0.8888888888888888,\"#fdca26\"],[1.0,\"#f0f921\"]],\"type\":\"heatmap\"}],\"histogram2dcontour\":[{\"colorbar\":{\"outlinewidth\":0,\"ticks\":\"\"},\"colorscale\":[[0.0,\"#0d0887\"],[0.1111111111111111,\"#46039f\"],[0.2222222222222222,\"#7201a8\"],[0.3333333333333333,\"#9c179e\"],[0.4444444444444444,\"#bd3786\"],[0.5555555555555556,\"#d8576b\"],[0.6666666666666666,\"#ed7953\"],[0.7777777777777778,\"#fb9f3a\"],[0.8888888888888888,\"#fdca26\"],[1.0,\"#f0f921\"]],\"type\":\"histogram2dcontour\"}],\"histogram2d\":[{\"colorbar\":{\"outlinewidth\":0,\"ticks\":\"\"},\"colorscale\":[[0.0,\"#0d0887\"],[0.1111111111111111,\"#46039f\"],[0.2222222222222222,\"#7201a8\"],[0.3333333333333333,\"#9c179e\"],[0.4444444444444444,\"#bd3786\"],[0.5555555555555556,\"#d8576b\"],[0.6666666666666666,\"#ed7953\"],[0.7777777777777778,\"#fb9f3a\"],[0.8888888888888888,\"#fdca26\"],[1.0,\"#f0f921\"]],\"type\":\"histogram2d\"}],\"histogram\":[{\"marker\":{\"pattern\":{\"fillmode\":\"overlay\",\"size\":10,\"solidity\":0.2}},\"type\":\"histogram\"}],\"mesh3d\":[{\"colorbar\":{\"outlinewidth\":0,\"ticks\":\"\"},\"type\":\"mesh3d\"}],\"parcoords\":[{\"line\":{\"colorbar\":{\"outlinewidth\":0,\"ticks\":\"\"}},\"type\":\"parcoords\"}],\"pie\":[{\"automargin\":true,\"type\":\"pie\"}],\"scatter3d\":[{\"line\":{\"colorbar\":{\"outlinewidth\":0,\"ticks\":\"\"}},\"marker\":{\"colorbar\":{\"outlinewidth\":0,\"ticks\":\"\"}},\"type\":\"scatter3d\"}],\"scattercarpet\":[{\"marker\":{\"colorbar\":{\"outlinewidth\":0,\"ticks\":\"\"}},\"type\":\"scattercarpet\"}],\"scattergeo\":[{\"marker\":{\"colorbar\":{\"outlinewidth\":0,\"ticks\":\"\"}},\"type\":\"scattergeo\"}],\"scattergl\":[{\"marker\":{\"colorbar\":{\"outlinewidth\":0,\"ticks\":\"\"}},\"type\":\"scattergl\"}],\"scattermapbox\":[{\"marker\":{\"colorbar\":{\"outlinewidth\":0,\"ticks\":\"\"}},\"type\":\"scattermapbox\"}],\"scatterpolargl\":[{\"marker\":{\"colorbar\":{\"outlinewidth\":0,\"ticks\":\"\"}},\"type\":\"scatterpolargl\"}],\"scatterpolar\":[{\"marker\":{\"colorbar\":{\"outlinewidth\":0,\"ticks\":\"\"}},\"type\":\"scatterpolar\"}],\"scatter\":[{\"fillpattern\":{\"fillmode\":\"overlay\",\"size\":10,\"solidity\":0.2},\"type\":\"scatter\"}],\"scatterternary\":[{\"marker\":{\"colorbar\":{\"outlinewidth\":0,\"ticks\":\"\"}},\"type\":\"scatterternary\"}],\"surface\":[{\"colorbar\":{\"outlinewidth\":0,\"ticks\":\"\"},\"colorscale\":[[0.0,\"#0d0887\"],[0.1111111111111111,\"#46039f\"],[0.2222222222222222,\"#7201a8\"],[0.3333333333333333,\"#9c179e\"],[0.4444444444444444,\"#bd3786\"],[0.5555555555555556,\"#d8576b\"],[0.6666666666666666,\"#ed7953\"],[0.7777777777777778,\"#fb9f3a\"],[0.8888888888888888,\"#fdca26\"],[1.0,\"#f0f921\"]],\"type\":\"surface\"}],\"table\":[{\"cells\":{\"fill\":{\"color\":\"#EBF0F8\"},\"line\":{\"color\":\"white\"}},\"header\":{\"fill\":{\"color\":\"#C8D4E3\"},\"line\":{\"color\":\"white\"}},\"type\":\"table\"}]},\"layout\":{\"annotationdefaults\":{\"arrowcolor\":\"#2a3f5f\",\"arrowhead\":0,\"arrowwidth\":1},\"autotypenumbers\":\"strict\",\"coloraxis\":{\"colorbar\":{\"outlinewidth\":0,\"ticks\":\"\"}},\"colorscale\":{\"diverging\":[[0,\"#8e0152\"],[0.1,\"#c51b7d\"],[0.2,\"#de77ae\"],[0.3,\"#f1b6da\"],[0.4,\"#fde0ef\"],[0.5,\"#f7f7f7\"],[0.6,\"#e6f5d0\"],[0.7,\"#b8e186\"],[0.8,\"#7fbc41\"],[0.9,\"#4d9221\"],[1,\"#276419\"]],\"sequential\":[[0.0,\"#0d0887\"],[0.1111111111111111,\"#46039f\"],[0.2222222222222222,\"#7201a8\"],[0.3333333333333333,\"#9c179e\"],[0.4444444444444444,\"#bd3786\"],[0.5555555555555556,\"#d8576b\"],[0.6666666666666666,\"#ed7953\"],[0.7777777777777778,\"#fb9f3a\"],[0.8888888888888888,\"#fdca26\"],[1.0,\"#f0f921\"]],\"sequentialminus\":[[0.0,\"#0d0887\"],[0.1111111111111111,\"#46039f\"],[0.2222222222222222,\"#7201a8\"],[0.3333333333333333,\"#9c179e\"],[0.4444444444444444,\"#bd3786\"],[0.5555555555555556,\"#d8576b\"],[0.6666666666666666,\"#ed7953\"],[0.7777777777777778,\"#fb9f3a\"],[0.8888888888888888,\"#fdca26\"],[1.0,\"#f0f921\"]]},\"colorway\":[\"#636efa\",\"#EF553B\",\"#00cc96\",\"#ab63fa\",\"#FFA15A\",\"#19d3f3\",\"#FF6692\",\"#B6E880\",\"#FF97FF\",\"#FECB52\"],\"font\":{\"color\":\"#2a3f5f\"},\"geo\":{\"bgcolor\":\"white\",\"lakecolor\":\"white\",\"landcolor\":\"#E5ECF6\",\"showlakes\":true,\"showland\":true,\"subunitcolor\":\"white\"},\"hoverlabel\":{\"align\":\"left\"},\"hovermode\":\"closest\",\"mapbox\":{\"style\":\"light\"},\"paper_bgcolor\":\"white\",\"plot_bgcolor\":\"#E5ECF6\",\"polar\":{\"angularaxis\":{\"gridcolor\":\"white\",\"linecolor\":\"white\",\"ticks\":\"\"},\"bgcolor\":\"#E5ECF6\",\"radialaxis\":{\"gridcolor\":\"white\",\"linecolor\":\"white\",\"ticks\":\"\"}},\"scene\":{\"xaxis\":{\"backgroundcolor\":\"#E5ECF6\",\"gridcolor\":\"white\",\"gridwidth\":2,\"linecolor\":\"white\",\"showbackground\":true,\"ticks\":\"\",\"zerolinecolor\":\"white\"},\"yaxis\":{\"backgroundcolor\":\"#E5ECF6\",\"gridcolor\":\"white\",\"gridwidth\":2,\"linecolor\":\"white\",\"showbackground\":true,\"ticks\":\"\",\"zerolinecolor\":\"white\"},\"zaxis\":{\"backgroundcolor\":\"#E5ECF6\",\"gridcolor\":\"white\",\"gridwidth\":2,\"linecolor\":\"white\",\"showbackground\":true,\"ticks\":\"\",\"zerolinecolor\":\"white\"}},\"shapedefaults\":{\"line\":{\"color\":\"#2a3f5f\"}},\"ternary\":{\"aaxis\":{\"gridcolor\":\"white\",\"linecolor\":\"white\",\"ticks\":\"\"},\"baxis\":{\"gridcolor\":\"white\",\"linecolor\":\"white\",\"ticks\":\"\"},\"bgcolor\":\"#E5ECF6\",\"caxis\":{\"gridcolor\":\"white\",\"linecolor\":\"white\",\"ticks\":\"\"}},\"title\":{\"x\":0.05},\"xaxis\":{\"automargin\":true,\"gridcolor\":\"white\",\"linecolor\":\"white\",\"ticks\":\"\",\"title\":{\"standoff\":15},\"zerolinecolor\":\"white\",\"zerolinewidth\":2},\"yaxis\":{\"automargin\":true,\"gridcolor\":\"white\",\"linecolor\":\"white\",\"ticks\":\"\",\"title\":{\"standoff\":15},\"zerolinecolor\":\"white\",\"zerolinewidth\":2}}},\"title\":{\"font\":{\"color\":\"#4D5663\"}},\"xaxis\":{\"gridcolor\":\"#E1E5ED\",\"showgrid\":true,\"tickfont\":{\"color\":\"#4D5663\"},\"title\":{\"font\":{\"color\":\"#4D5663\"},\"text\":\"\"},\"zerolinecolor\":\"#E1E5ED\"},\"yaxis\":{\"gridcolor\":\"#E1E5ED\",\"showgrid\":true,\"tickfont\":{\"color\":\"#4D5663\"},\"title\":{\"font\":{\"color\":\"#4D5663\"},\"text\":\"\"},\"zerolinecolor\":\"#E1E5ED\"}},                        {\"showLink\": true, \"linkText\": \"Export to plot.ly\", \"plotlyServerURL\": \"https://plot.ly\", \"responsive\": true}                    ).then(function(){\n",
       "                            \n",
       "var gd = document.getElementById('be3875b0-0733-47e2-92d6-bcc5609607ba');\n",
       "var x = new MutationObserver(function (mutations, observer) {{\n",
       "        var display = window.getComputedStyle(gd).display;\n",
       "        if (!display || display === 'none') {{\n",
       "            console.log([gd, 'removed!']);\n",
       "            Plotly.purge(gd);\n",
       "            observer.disconnect();\n",
       "        }}\n",
       "}});\n",
       "\n",
       "// Listen for the removal of the full notebook cells\n",
       "var notebookContainer = gd.closest('#notebook-container');\n",
       "if (notebookContainer) {{\n",
       "    x.observe(notebookContainer, {childList: true});\n",
       "}}\n",
       "\n",
       "// Listen for the clearing of the current output cell\n",
       "var outputEl = gd.closest('.output');\n",
       "if (outputEl) {{\n",
       "    x.observe(outputEl, {childList: true});\n",
       "}}\n",
       "\n",
       "                        })                };                });            </script>        </div>"
      ]
     },
     "metadata": {},
     "output_type": "display_data"
    }
   ],
   "source": [
    "#scatter\n",
    "df.iplot(kind='scatter',x='A',y='B', mode = 'markers', size=20)"
   ]
  },
  {
   "cell_type": "code",
   "execution_count": 34,
   "id": "4f711777",
   "metadata": {},
   "outputs": [
    {
     "data": {
      "application/vnd.plotly.v1+json": {
       "config": {
        "linkText": "Export to plot.ly",
        "plotlyServerURL": "https://plot.ly",
        "showLink": true
       },
       "data": [
        {
         "marker": {
          "color": "rgba(255, 153, 51, 0.6)",
          "line": {
           "color": "rgba(255, 153, 51, 1.0)",
           "width": 1
          }
         },
         "name": "Values",
         "orientation": "v",
         "text": "",
         "type": "bar",
         "x": [
          "A",
          "B",
          "C"
         ],
         "y": [
          32,
          43,
          50
         ]
        }
       ],
       "layout": {
        "legend": {
         "bgcolor": "#F5F6F9",
         "font": {
          "color": "#4D5663"
         }
        },
        "paper_bgcolor": "#F5F6F9",
        "plot_bgcolor": "#F5F6F9",
        "template": {
         "data": {
          "bar": [
           {
            "error_x": {
             "color": "#2a3f5f"
            },
            "error_y": {
             "color": "#2a3f5f"
            },
            "marker": {
             "line": {
              "color": "#E5ECF6",
              "width": 0.5
             },
             "pattern": {
              "fillmode": "overlay",
              "size": 10,
              "solidity": 0.2
             }
            },
            "type": "bar"
           }
          ],
          "barpolar": [
           {
            "marker": {
             "line": {
              "color": "#E5ECF6",
              "width": 0.5
             },
             "pattern": {
              "fillmode": "overlay",
              "size": 10,
              "solidity": 0.2
             }
            },
            "type": "barpolar"
           }
          ],
          "carpet": [
           {
            "aaxis": {
             "endlinecolor": "#2a3f5f",
             "gridcolor": "white",
             "linecolor": "white",
             "minorgridcolor": "white",
             "startlinecolor": "#2a3f5f"
            },
            "baxis": {
             "endlinecolor": "#2a3f5f",
             "gridcolor": "white",
             "linecolor": "white",
             "minorgridcolor": "white",
             "startlinecolor": "#2a3f5f"
            },
            "type": "carpet"
           }
          ],
          "choropleth": [
           {
            "colorbar": {
             "outlinewidth": 0,
             "ticks": ""
            },
            "type": "choropleth"
           }
          ],
          "contour": [
           {
            "colorbar": {
             "outlinewidth": 0,
             "ticks": ""
            },
            "colorscale": [
             [
              0,
              "#0d0887"
             ],
             [
              0.1111111111111111,
              "#46039f"
             ],
             [
              0.2222222222222222,
              "#7201a8"
             ],
             [
              0.3333333333333333,
              "#9c179e"
             ],
             [
              0.4444444444444444,
              "#bd3786"
             ],
             [
              0.5555555555555556,
              "#d8576b"
             ],
             [
              0.6666666666666666,
              "#ed7953"
             ],
             [
              0.7777777777777778,
              "#fb9f3a"
             ],
             [
              0.8888888888888888,
              "#fdca26"
             ],
             [
              1,
              "#f0f921"
             ]
            ],
            "type": "contour"
           }
          ],
          "contourcarpet": [
           {
            "colorbar": {
             "outlinewidth": 0,
             "ticks": ""
            },
            "type": "contourcarpet"
           }
          ],
          "heatmap": [
           {
            "colorbar": {
             "outlinewidth": 0,
             "ticks": ""
            },
            "colorscale": [
             [
              0,
              "#0d0887"
             ],
             [
              0.1111111111111111,
              "#46039f"
             ],
             [
              0.2222222222222222,
              "#7201a8"
             ],
             [
              0.3333333333333333,
              "#9c179e"
             ],
             [
              0.4444444444444444,
              "#bd3786"
             ],
             [
              0.5555555555555556,
              "#d8576b"
             ],
             [
              0.6666666666666666,
              "#ed7953"
             ],
             [
              0.7777777777777778,
              "#fb9f3a"
             ],
             [
              0.8888888888888888,
              "#fdca26"
             ],
             [
              1,
              "#f0f921"
             ]
            ],
            "type": "heatmap"
           }
          ],
          "heatmapgl": [
           {
            "colorbar": {
             "outlinewidth": 0,
             "ticks": ""
            },
            "colorscale": [
             [
              0,
              "#0d0887"
             ],
             [
              0.1111111111111111,
              "#46039f"
             ],
             [
              0.2222222222222222,
              "#7201a8"
             ],
             [
              0.3333333333333333,
              "#9c179e"
             ],
             [
              0.4444444444444444,
              "#bd3786"
             ],
             [
              0.5555555555555556,
              "#d8576b"
             ],
             [
              0.6666666666666666,
              "#ed7953"
             ],
             [
              0.7777777777777778,
              "#fb9f3a"
             ],
             [
              0.8888888888888888,
              "#fdca26"
             ],
             [
              1,
              "#f0f921"
             ]
            ],
            "type": "heatmapgl"
           }
          ],
          "histogram": [
           {
            "marker": {
             "pattern": {
              "fillmode": "overlay",
              "size": 10,
              "solidity": 0.2
             }
            },
            "type": "histogram"
           }
          ],
          "histogram2d": [
           {
            "colorbar": {
             "outlinewidth": 0,
             "ticks": ""
            },
            "colorscale": [
             [
              0,
              "#0d0887"
             ],
             [
              0.1111111111111111,
              "#46039f"
             ],
             [
              0.2222222222222222,
              "#7201a8"
             ],
             [
              0.3333333333333333,
              "#9c179e"
             ],
             [
              0.4444444444444444,
              "#bd3786"
             ],
             [
              0.5555555555555556,
              "#d8576b"
             ],
             [
              0.6666666666666666,
              "#ed7953"
             ],
             [
              0.7777777777777778,
              "#fb9f3a"
             ],
             [
              0.8888888888888888,
              "#fdca26"
             ],
             [
              1,
              "#f0f921"
             ]
            ],
            "type": "histogram2d"
           }
          ],
          "histogram2dcontour": [
           {
            "colorbar": {
             "outlinewidth": 0,
             "ticks": ""
            },
            "colorscale": [
             [
              0,
              "#0d0887"
             ],
             [
              0.1111111111111111,
              "#46039f"
             ],
             [
              0.2222222222222222,
              "#7201a8"
             ],
             [
              0.3333333333333333,
              "#9c179e"
             ],
             [
              0.4444444444444444,
              "#bd3786"
             ],
             [
              0.5555555555555556,
              "#d8576b"
             ],
             [
              0.6666666666666666,
              "#ed7953"
             ],
             [
              0.7777777777777778,
              "#fb9f3a"
             ],
             [
              0.8888888888888888,
              "#fdca26"
             ],
             [
              1,
              "#f0f921"
             ]
            ],
            "type": "histogram2dcontour"
           }
          ],
          "mesh3d": [
           {
            "colorbar": {
             "outlinewidth": 0,
             "ticks": ""
            },
            "type": "mesh3d"
           }
          ],
          "parcoords": [
           {
            "line": {
             "colorbar": {
              "outlinewidth": 0,
              "ticks": ""
             }
            },
            "type": "parcoords"
           }
          ],
          "pie": [
           {
            "automargin": true,
            "type": "pie"
           }
          ],
          "scatter": [
           {
            "fillpattern": {
             "fillmode": "overlay",
             "size": 10,
             "solidity": 0.2
            },
            "type": "scatter"
           }
          ],
          "scatter3d": [
           {
            "line": {
             "colorbar": {
              "outlinewidth": 0,
              "ticks": ""
             }
            },
            "marker": {
             "colorbar": {
              "outlinewidth": 0,
              "ticks": ""
             }
            },
            "type": "scatter3d"
           }
          ],
          "scattercarpet": [
           {
            "marker": {
             "colorbar": {
              "outlinewidth": 0,
              "ticks": ""
             }
            },
            "type": "scattercarpet"
           }
          ],
          "scattergeo": [
           {
            "marker": {
             "colorbar": {
              "outlinewidth": 0,
              "ticks": ""
             }
            },
            "type": "scattergeo"
           }
          ],
          "scattergl": [
           {
            "marker": {
             "colorbar": {
              "outlinewidth": 0,
              "ticks": ""
             }
            },
            "type": "scattergl"
           }
          ],
          "scattermapbox": [
           {
            "marker": {
             "colorbar": {
              "outlinewidth": 0,
              "ticks": ""
             }
            },
            "type": "scattermapbox"
           }
          ],
          "scatterpolar": [
           {
            "marker": {
             "colorbar": {
              "outlinewidth": 0,
              "ticks": ""
             }
            },
            "type": "scatterpolar"
           }
          ],
          "scatterpolargl": [
           {
            "marker": {
             "colorbar": {
              "outlinewidth": 0,
              "ticks": ""
             }
            },
            "type": "scatterpolargl"
           }
          ],
          "scatterternary": [
           {
            "marker": {
             "colorbar": {
              "outlinewidth": 0,
              "ticks": ""
             }
            },
            "type": "scatterternary"
           }
          ],
          "surface": [
           {
            "colorbar": {
             "outlinewidth": 0,
             "ticks": ""
            },
            "colorscale": [
             [
              0,
              "#0d0887"
             ],
             [
              0.1111111111111111,
              "#46039f"
             ],
             [
              0.2222222222222222,
              "#7201a8"
             ],
             [
              0.3333333333333333,
              "#9c179e"
             ],
             [
              0.4444444444444444,
              "#bd3786"
             ],
             [
              0.5555555555555556,
              "#d8576b"
             ],
             [
              0.6666666666666666,
              "#ed7953"
             ],
             [
              0.7777777777777778,
              "#fb9f3a"
             ],
             [
              0.8888888888888888,
              "#fdca26"
             ],
             [
              1,
              "#f0f921"
             ]
            ],
            "type": "surface"
           }
          ],
          "table": [
           {
            "cells": {
             "fill": {
              "color": "#EBF0F8"
             },
             "line": {
              "color": "white"
             }
            },
            "header": {
             "fill": {
              "color": "#C8D4E3"
             },
             "line": {
              "color": "white"
             }
            },
            "type": "table"
           }
          ]
         },
         "layout": {
          "annotationdefaults": {
           "arrowcolor": "#2a3f5f",
           "arrowhead": 0,
           "arrowwidth": 1
          },
          "autotypenumbers": "strict",
          "coloraxis": {
           "colorbar": {
            "outlinewidth": 0,
            "ticks": ""
           }
          },
          "colorscale": {
           "diverging": [
            [
             0,
             "#8e0152"
            ],
            [
             0.1,
             "#c51b7d"
            ],
            [
             0.2,
             "#de77ae"
            ],
            [
             0.3,
             "#f1b6da"
            ],
            [
             0.4,
             "#fde0ef"
            ],
            [
             0.5,
             "#f7f7f7"
            ],
            [
             0.6,
             "#e6f5d0"
            ],
            [
             0.7,
             "#b8e186"
            ],
            [
             0.8,
             "#7fbc41"
            ],
            [
             0.9,
             "#4d9221"
            ],
            [
             1,
             "#276419"
            ]
           ],
           "sequential": [
            [
             0,
             "#0d0887"
            ],
            [
             0.1111111111111111,
             "#46039f"
            ],
            [
             0.2222222222222222,
             "#7201a8"
            ],
            [
             0.3333333333333333,
             "#9c179e"
            ],
            [
             0.4444444444444444,
             "#bd3786"
            ],
            [
             0.5555555555555556,
             "#d8576b"
            ],
            [
             0.6666666666666666,
             "#ed7953"
            ],
            [
             0.7777777777777778,
             "#fb9f3a"
            ],
            [
             0.8888888888888888,
             "#fdca26"
            ],
            [
             1,
             "#f0f921"
            ]
           ],
           "sequentialminus": [
            [
             0,
             "#0d0887"
            ],
            [
             0.1111111111111111,
             "#46039f"
            ],
            [
             0.2222222222222222,
             "#7201a8"
            ],
            [
             0.3333333333333333,
             "#9c179e"
            ],
            [
             0.4444444444444444,
             "#bd3786"
            ],
            [
             0.5555555555555556,
             "#d8576b"
            ],
            [
             0.6666666666666666,
             "#ed7953"
            ],
            [
             0.7777777777777778,
             "#fb9f3a"
            ],
            [
             0.8888888888888888,
             "#fdca26"
            ],
            [
             1,
             "#f0f921"
            ]
           ]
          },
          "colorway": [
           "#636efa",
           "#EF553B",
           "#00cc96",
           "#ab63fa",
           "#FFA15A",
           "#19d3f3",
           "#FF6692",
           "#B6E880",
           "#FF97FF",
           "#FECB52"
          ],
          "font": {
           "color": "#2a3f5f"
          },
          "geo": {
           "bgcolor": "white",
           "lakecolor": "white",
           "landcolor": "#E5ECF6",
           "showlakes": true,
           "showland": true,
           "subunitcolor": "white"
          },
          "hoverlabel": {
           "align": "left"
          },
          "hovermode": "closest",
          "mapbox": {
           "style": "light"
          },
          "paper_bgcolor": "white",
          "plot_bgcolor": "#E5ECF6",
          "polar": {
           "angularaxis": {
            "gridcolor": "white",
            "linecolor": "white",
            "ticks": ""
           },
           "bgcolor": "#E5ECF6",
           "radialaxis": {
            "gridcolor": "white",
            "linecolor": "white",
            "ticks": ""
           }
          },
          "scene": {
           "xaxis": {
            "backgroundcolor": "#E5ECF6",
            "gridcolor": "white",
            "gridwidth": 2,
            "linecolor": "white",
            "showbackground": true,
            "ticks": "",
            "zerolinecolor": "white"
           },
           "yaxis": {
            "backgroundcolor": "#E5ECF6",
            "gridcolor": "white",
            "gridwidth": 2,
            "linecolor": "white",
            "showbackground": true,
            "ticks": "",
            "zerolinecolor": "white"
           },
           "zaxis": {
            "backgroundcolor": "#E5ECF6",
            "gridcolor": "white",
            "gridwidth": 2,
            "linecolor": "white",
            "showbackground": true,
            "ticks": "",
            "zerolinecolor": "white"
           }
          },
          "shapedefaults": {
           "line": {
            "color": "#2a3f5f"
           }
          },
          "ternary": {
           "aaxis": {
            "gridcolor": "white",
            "linecolor": "white",
            "ticks": ""
           },
           "baxis": {
            "gridcolor": "white",
            "linecolor": "white",
            "ticks": ""
           },
           "bgcolor": "#E5ECF6",
           "caxis": {
            "gridcolor": "white",
            "linecolor": "white",
            "ticks": ""
           }
          },
          "title": {
           "x": 0.05
          },
          "xaxis": {
           "automargin": true,
           "gridcolor": "white",
           "linecolor": "white",
           "ticks": "",
           "title": {
            "standoff": 15
           },
           "zerolinecolor": "white",
           "zerolinewidth": 2
          },
          "yaxis": {
           "automargin": true,
           "gridcolor": "white",
           "linecolor": "white",
           "ticks": "",
           "title": {
            "standoff": 15
           },
           "zerolinecolor": "white",
           "zerolinewidth": 2
          }
         }
        },
        "title": {
         "font": {
          "color": "#4D5663"
         }
        },
        "xaxis": {
         "gridcolor": "#E1E5ED",
         "showgrid": true,
         "tickfont": {
          "color": "#4D5663"
         },
         "title": {
          "font": {
           "color": "#4D5663"
          },
          "text": ""
         },
         "zerolinecolor": "#E1E5ED"
        },
        "yaxis": {
         "gridcolor": "#E1E5ED",
         "showgrid": true,
         "tickfont": {
          "color": "#4D5663"
         },
         "title": {
          "font": {
           "color": "#4D5663"
          },
          "text": ""
         },
         "zerolinecolor": "#E1E5ED"
        }
       }
      },
      "text/html": [
       "<div>                            <div id=\"1ea98033-3b49-495c-89d3-2b920657668f\" class=\"plotly-graph-div\" style=\"height:525px; width:100%;\"></div>            <script type=\"text/javascript\">                require([\"plotly\"], function(Plotly) {                    window.PLOTLYENV=window.PLOTLYENV || {};\n",
       "                    window.PLOTLYENV.BASE_URL='https://plot.ly';                                    if (document.getElementById(\"1ea98033-3b49-495c-89d3-2b920657668f\")) {                    Plotly.newPlot(                        \"1ea98033-3b49-495c-89d3-2b920657668f\",                        [{\"marker\":{\"color\":\"rgba(255, 153, 51, 0.6)\",\"line\":{\"color\":\"rgba(255, 153, 51, 1.0)\",\"width\":1}},\"name\":\"Values\",\"orientation\":\"v\",\"text\":\"\",\"x\":[\"A\",\"B\",\"C\"],\"y\":[32,43,50],\"type\":\"bar\"}],                        {\"legend\":{\"bgcolor\":\"#F5F6F9\",\"font\":{\"color\":\"#4D5663\"}},\"paper_bgcolor\":\"#F5F6F9\",\"plot_bgcolor\":\"#F5F6F9\",\"template\":{\"data\":{\"barpolar\":[{\"marker\":{\"line\":{\"color\":\"#E5ECF6\",\"width\":0.5},\"pattern\":{\"fillmode\":\"overlay\",\"size\":10,\"solidity\":0.2}},\"type\":\"barpolar\"}],\"bar\":[{\"error_x\":{\"color\":\"#2a3f5f\"},\"error_y\":{\"color\":\"#2a3f5f\"},\"marker\":{\"line\":{\"color\":\"#E5ECF6\",\"width\":0.5},\"pattern\":{\"fillmode\":\"overlay\",\"size\":10,\"solidity\":0.2}},\"type\":\"bar\"}],\"carpet\":[{\"aaxis\":{\"endlinecolor\":\"#2a3f5f\",\"gridcolor\":\"white\",\"linecolor\":\"white\",\"minorgridcolor\":\"white\",\"startlinecolor\":\"#2a3f5f\"},\"baxis\":{\"endlinecolor\":\"#2a3f5f\",\"gridcolor\":\"white\",\"linecolor\":\"white\",\"minorgridcolor\":\"white\",\"startlinecolor\":\"#2a3f5f\"},\"type\":\"carpet\"}],\"choropleth\":[{\"colorbar\":{\"outlinewidth\":0,\"ticks\":\"\"},\"type\":\"choropleth\"}],\"contourcarpet\":[{\"colorbar\":{\"outlinewidth\":0,\"ticks\":\"\"},\"type\":\"contourcarpet\"}],\"contour\":[{\"colorbar\":{\"outlinewidth\":0,\"ticks\":\"\"},\"colorscale\":[[0.0,\"#0d0887\"],[0.1111111111111111,\"#46039f\"],[0.2222222222222222,\"#7201a8\"],[0.3333333333333333,\"#9c179e\"],[0.4444444444444444,\"#bd3786\"],[0.5555555555555556,\"#d8576b\"],[0.6666666666666666,\"#ed7953\"],[0.7777777777777778,\"#fb9f3a\"],[0.8888888888888888,\"#fdca26\"],[1.0,\"#f0f921\"]],\"type\":\"contour\"}],\"heatmapgl\":[{\"colorbar\":{\"outlinewidth\":0,\"ticks\":\"\"},\"colorscale\":[[0.0,\"#0d0887\"],[0.1111111111111111,\"#46039f\"],[0.2222222222222222,\"#7201a8\"],[0.3333333333333333,\"#9c179e\"],[0.4444444444444444,\"#bd3786\"],[0.5555555555555556,\"#d8576b\"],[0.6666666666666666,\"#ed7953\"],[0.7777777777777778,\"#fb9f3a\"],[0.8888888888888888,\"#fdca26\"],[1.0,\"#f0f921\"]],\"type\":\"heatmapgl\"}],\"heatmap\":[{\"colorbar\":{\"outlinewidth\":0,\"ticks\":\"\"},\"colorscale\":[[0.0,\"#0d0887\"],[0.1111111111111111,\"#46039f\"],[0.2222222222222222,\"#7201a8\"],[0.3333333333333333,\"#9c179e\"],[0.4444444444444444,\"#bd3786\"],[0.5555555555555556,\"#d8576b\"],[0.6666666666666666,\"#ed7953\"],[0.7777777777777778,\"#fb9f3a\"],[0.8888888888888888,\"#fdca26\"],[1.0,\"#f0f921\"]],\"type\":\"heatmap\"}],\"histogram2dcontour\":[{\"colorbar\":{\"outlinewidth\":0,\"ticks\":\"\"},\"colorscale\":[[0.0,\"#0d0887\"],[0.1111111111111111,\"#46039f\"],[0.2222222222222222,\"#7201a8\"],[0.3333333333333333,\"#9c179e\"],[0.4444444444444444,\"#bd3786\"],[0.5555555555555556,\"#d8576b\"],[0.6666666666666666,\"#ed7953\"],[0.7777777777777778,\"#fb9f3a\"],[0.8888888888888888,\"#fdca26\"],[1.0,\"#f0f921\"]],\"type\":\"histogram2dcontour\"}],\"histogram2d\":[{\"colorbar\":{\"outlinewidth\":0,\"ticks\":\"\"},\"colorscale\":[[0.0,\"#0d0887\"],[0.1111111111111111,\"#46039f\"],[0.2222222222222222,\"#7201a8\"],[0.3333333333333333,\"#9c179e\"],[0.4444444444444444,\"#bd3786\"],[0.5555555555555556,\"#d8576b\"],[0.6666666666666666,\"#ed7953\"],[0.7777777777777778,\"#fb9f3a\"],[0.8888888888888888,\"#fdca26\"],[1.0,\"#f0f921\"]],\"type\":\"histogram2d\"}],\"histogram\":[{\"marker\":{\"pattern\":{\"fillmode\":\"overlay\",\"size\":10,\"solidity\":0.2}},\"type\":\"histogram\"}],\"mesh3d\":[{\"colorbar\":{\"outlinewidth\":0,\"ticks\":\"\"},\"type\":\"mesh3d\"}],\"parcoords\":[{\"line\":{\"colorbar\":{\"outlinewidth\":0,\"ticks\":\"\"}},\"type\":\"parcoords\"}],\"pie\":[{\"automargin\":true,\"type\":\"pie\"}],\"scatter3d\":[{\"line\":{\"colorbar\":{\"outlinewidth\":0,\"ticks\":\"\"}},\"marker\":{\"colorbar\":{\"outlinewidth\":0,\"ticks\":\"\"}},\"type\":\"scatter3d\"}],\"scattercarpet\":[{\"marker\":{\"colorbar\":{\"outlinewidth\":0,\"ticks\":\"\"}},\"type\":\"scattercarpet\"}],\"scattergeo\":[{\"marker\":{\"colorbar\":{\"outlinewidth\":0,\"ticks\":\"\"}},\"type\":\"scattergeo\"}],\"scattergl\":[{\"marker\":{\"colorbar\":{\"outlinewidth\":0,\"ticks\":\"\"}},\"type\":\"scattergl\"}],\"scattermapbox\":[{\"marker\":{\"colorbar\":{\"outlinewidth\":0,\"ticks\":\"\"}},\"type\":\"scattermapbox\"}],\"scatterpolargl\":[{\"marker\":{\"colorbar\":{\"outlinewidth\":0,\"ticks\":\"\"}},\"type\":\"scatterpolargl\"}],\"scatterpolar\":[{\"marker\":{\"colorbar\":{\"outlinewidth\":0,\"ticks\":\"\"}},\"type\":\"scatterpolar\"}],\"scatter\":[{\"fillpattern\":{\"fillmode\":\"overlay\",\"size\":10,\"solidity\":0.2},\"type\":\"scatter\"}],\"scatterternary\":[{\"marker\":{\"colorbar\":{\"outlinewidth\":0,\"ticks\":\"\"}},\"type\":\"scatterternary\"}],\"surface\":[{\"colorbar\":{\"outlinewidth\":0,\"ticks\":\"\"},\"colorscale\":[[0.0,\"#0d0887\"],[0.1111111111111111,\"#46039f\"],[0.2222222222222222,\"#7201a8\"],[0.3333333333333333,\"#9c179e\"],[0.4444444444444444,\"#bd3786\"],[0.5555555555555556,\"#d8576b\"],[0.6666666666666666,\"#ed7953\"],[0.7777777777777778,\"#fb9f3a\"],[0.8888888888888888,\"#fdca26\"],[1.0,\"#f0f921\"]],\"type\":\"surface\"}],\"table\":[{\"cells\":{\"fill\":{\"color\":\"#EBF0F8\"},\"line\":{\"color\":\"white\"}},\"header\":{\"fill\":{\"color\":\"#C8D4E3\"},\"line\":{\"color\":\"white\"}},\"type\":\"table\"}]},\"layout\":{\"annotationdefaults\":{\"arrowcolor\":\"#2a3f5f\",\"arrowhead\":0,\"arrowwidth\":1},\"autotypenumbers\":\"strict\",\"coloraxis\":{\"colorbar\":{\"outlinewidth\":0,\"ticks\":\"\"}},\"colorscale\":{\"diverging\":[[0,\"#8e0152\"],[0.1,\"#c51b7d\"],[0.2,\"#de77ae\"],[0.3,\"#f1b6da\"],[0.4,\"#fde0ef\"],[0.5,\"#f7f7f7\"],[0.6,\"#e6f5d0\"],[0.7,\"#b8e186\"],[0.8,\"#7fbc41\"],[0.9,\"#4d9221\"],[1,\"#276419\"]],\"sequential\":[[0.0,\"#0d0887\"],[0.1111111111111111,\"#46039f\"],[0.2222222222222222,\"#7201a8\"],[0.3333333333333333,\"#9c179e\"],[0.4444444444444444,\"#bd3786\"],[0.5555555555555556,\"#d8576b\"],[0.6666666666666666,\"#ed7953\"],[0.7777777777777778,\"#fb9f3a\"],[0.8888888888888888,\"#fdca26\"],[1.0,\"#f0f921\"]],\"sequentialminus\":[[0.0,\"#0d0887\"],[0.1111111111111111,\"#46039f\"],[0.2222222222222222,\"#7201a8\"],[0.3333333333333333,\"#9c179e\"],[0.4444444444444444,\"#bd3786\"],[0.5555555555555556,\"#d8576b\"],[0.6666666666666666,\"#ed7953\"],[0.7777777777777778,\"#fb9f3a\"],[0.8888888888888888,\"#fdca26\"],[1.0,\"#f0f921\"]]},\"colorway\":[\"#636efa\",\"#EF553B\",\"#00cc96\",\"#ab63fa\",\"#FFA15A\",\"#19d3f3\",\"#FF6692\",\"#B6E880\",\"#FF97FF\",\"#FECB52\"],\"font\":{\"color\":\"#2a3f5f\"},\"geo\":{\"bgcolor\":\"white\",\"lakecolor\":\"white\",\"landcolor\":\"#E5ECF6\",\"showlakes\":true,\"showland\":true,\"subunitcolor\":\"white\"},\"hoverlabel\":{\"align\":\"left\"},\"hovermode\":\"closest\",\"mapbox\":{\"style\":\"light\"},\"paper_bgcolor\":\"white\",\"plot_bgcolor\":\"#E5ECF6\",\"polar\":{\"angularaxis\":{\"gridcolor\":\"white\",\"linecolor\":\"white\",\"ticks\":\"\"},\"bgcolor\":\"#E5ECF6\",\"radialaxis\":{\"gridcolor\":\"white\",\"linecolor\":\"white\",\"ticks\":\"\"}},\"scene\":{\"xaxis\":{\"backgroundcolor\":\"#E5ECF6\",\"gridcolor\":\"white\",\"gridwidth\":2,\"linecolor\":\"white\",\"showbackground\":true,\"ticks\":\"\",\"zerolinecolor\":\"white\"},\"yaxis\":{\"backgroundcolor\":\"#E5ECF6\",\"gridcolor\":\"white\",\"gridwidth\":2,\"linecolor\":\"white\",\"showbackground\":true,\"ticks\":\"\",\"zerolinecolor\":\"white\"},\"zaxis\":{\"backgroundcolor\":\"#E5ECF6\",\"gridcolor\":\"white\",\"gridwidth\":2,\"linecolor\":\"white\",\"showbackground\":true,\"ticks\":\"\",\"zerolinecolor\":\"white\"}},\"shapedefaults\":{\"line\":{\"color\":\"#2a3f5f\"}},\"ternary\":{\"aaxis\":{\"gridcolor\":\"white\",\"linecolor\":\"white\",\"ticks\":\"\"},\"baxis\":{\"gridcolor\":\"white\",\"linecolor\":\"white\",\"ticks\":\"\"},\"bgcolor\":\"#E5ECF6\",\"caxis\":{\"gridcolor\":\"white\",\"linecolor\":\"white\",\"ticks\":\"\"}},\"title\":{\"x\":0.05},\"xaxis\":{\"automargin\":true,\"gridcolor\":\"white\",\"linecolor\":\"white\",\"ticks\":\"\",\"title\":{\"standoff\":15},\"zerolinecolor\":\"white\",\"zerolinewidth\":2},\"yaxis\":{\"automargin\":true,\"gridcolor\":\"white\",\"linecolor\":\"white\",\"ticks\":\"\",\"title\":{\"standoff\":15},\"zerolinecolor\":\"white\",\"zerolinewidth\":2}}},\"title\":{\"font\":{\"color\":\"#4D5663\"}},\"xaxis\":{\"gridcolor\":\"#E1E5ED\",\"showgrid\":true,\"tickfont\":{\"color\":\"#4D5663\"},\"title\":{\"font\":{\"color\":\"#4D5663\"},\"text\":\"\"},\"zerolinecolor\":\"#E1E5ED\"},\"yaxis\":{\"gridcolor\":\"#E1E5ED\",\"showgrid\":true,\"tickfont\":{\"color\":\"#4D5663\"},\"title\":{\"font\":{\"color\":\"#4D5663\"},\"text\":\"\"},\"zerolinecolor\":\"#E1E5ED\"}},                        {\"showLink\": true, \"linkText\": \"Export to plot.ly\", \"plotlyServerURL\": \"https://plot.ly\", \"responsive\": true}                    ).then(function(){\n",
       "                            \n",
       "var gd = document.getElementById('1ea98033-3b49-495c-89d3-2b920657668f');\n",
       "var x = new MutationObserver(function (mutations, observer) {{\n",
       "        var display = window.getComputedStyle(gd).display;\n",
       "        if (!display || display === 'none') {{\n",
       "            console.log([gd, 'removed!']);\n",
       "            Plotly.purge(gd);\n",
       "            observer.disconnect();\n",
       "        }}\n",
       "}});\n",
       "\n",
       "// Listen for the removal of the full notebook cells\n",
       "var notebookContainer = gd.closest('#notebook-container');\n",
       "if (notebookContainer) {{\n",
       "    x.observe(notebookContainer, {childList: true});\n",
       "}}\n",
       "\n",
       "// Listen for the clearing of the current output cell\n",
       "var outputEl = gd.closest('.output');\n",
       "if (outputEl) {{\n",
       "    x.observe(outputEl, {childList: true});\n",
       "}}\n",
       "\n",
       "                        })                };                });            </script>        </div>"
      ]
     },
     "metadata": {},
     "output_type": "display_data"
    }
   ],
   "source": [
    "#barplot\n",
    "df2.iplot(kind='bar',x='Category',y='Values')"
   ]
  },
  {
   "cell_type": "code",
   "execution_count": 35,
   "id": "da58d555",
   "metadata": {},
   "outputs": [
    {
     "data": {
      "text/html": [
       "<div>\n",
       "<style scoped>\n",
       "    .dataframe tbody tr th:only-of-type {\n",
       "        vertical-align: middle;\n",
       "    }\n",
       "\n",
       "    .dataframe tbody tr th {\n",
       "        vertical-align: top;\n",
       "    }\n",
       "\n",
       "    .dataframe thead th {\n",
       "        text-align: right;\n",
       "    }\n",
       "</style>\n",
       "<table border=\"1\" class=\"dataframe\">\n",
       "  <thead>\n",
       "    <tr style=\"text-align: right;\">\n",
       "      <th></th>\n",
       "      <th>A</th>\n",
       "      <th>B</th>\n",
       "      <th>C</th>\n",
       "      <th>D</th>\n",
       "    </tr>\n",
       "  </thead>\n",
       "  <tbody>\n",
       "    <tr>\n",
       "      <th>0</th>\n",
       "      <td>-0.575343</td>\n",
       "      <td>-0.558070</td>\n",
       "      <td>0.611451</td>\n",
       "      <td>-0.101636</td>\n",
       "    </tr>\n",
       "    <tr>\n",
       "      <th>1</th>\n",
       "      <td>-0.285585</td>\n",
       "      <td>-0.449235</td>\n",
       "      <td>-1.453118</td>\n",
       "      <td>-0.355723</td>\n",
       "    </tr>\n",
       "    <tr>\n",
       "      <th>2</th>\n",
       "      <td>-0.096187</td>\n",
       "      <td>-0.716893</td>\n",
       "      <td>1.182741</td>\n",
       "      <td>0.938263</td>\n",
       "    </tr>\n",
       "    <tr>\n",
       "      <th>3</th>\n",
       "      <td>0.610357</td>\n",
       "      <td>0.983013</td>\n",
       "      <td>-0.891532</td>\n",
       "      <td>1.036516</td>\n",
       "    </tr>\n",
       "    <tr>\n",
       "      <th>4</th>\n",
       "      <td>-0.402570</td>\n",
       "      <td>1.624068</td>\n",
       "      <td>-0.696534</td>\n",
       "      <td>-1.083980</td>\n",
       "    </tr>\n",
       "    <tr>\n",
       "      <th>...</th>\n",
       "      <td>...</td>\n",
       "      <td>...</td>\n",
       "      <td>...</td>\n",
       "      <td>...</td>\n",
       "    </tr>\n",
       "    <tr>\n",
       "      <th>95</th>\n",
       "      <td>-0.296611</td>\n",
       "      <td>-0.069299</td>\n",
       "      <td>1.034736</td>\n",
       "      <td>0.389566</td>\n",
       "    </tr>\n",
       "    <tr>\n",
       "      <th>96</th>\n",
       "      <td>-0.114156</td>\n",
       "      <td>0.344905</td>\n",
       "      <td>-0.879626</td>\n",
       "      <td>-0.269321</td>\n",
       "    </tr>\n",
       "    <tr>\n",
       "      <th>97</th>\n",
       "      <td>-0.128817</td>\n",
       "      <td>-1.059675</td>\n",
       "      <td>-0.329204</td>\n",
       "      <td>-1.300054</td>\n",
       "    </tr>\n",
       "    <tr>\n",
       "      <th>98</th>\n",
       "      <td>1.274187</td>\n",
       "      <td>1.622930</td>\n",
       "      <td>-1.862492</td>\n",
       "      <td>0.387517</td>\n",
       "    </tr>\n",
       "    <tr>\n",
       "      <th>99</th>\n",
       "      <td>1.139383</td>\n",
       "      <td>1.269651</td>\n",
       "      <td>1.111393</td>\n",
       "      <td>-0.613095</td>\n",
       "    </tr>\n",
       "  </tbody>\n",
       "</table>\n",
       "<p>100 rows × 4 columns</p>\n",
       "</div>"
      ],
      "text/plain": [
       "           A         B         C         D\n",
       "0  -0.575343 -0.558070  0.611451 -0.101636\n",
       "1  -0.285585 -0.449235 -1.453118 -0.355723\n",
       "2  -0.096187 -0.716893  1.182741  0.938263\n",
       "3   0.610357  0.983013 -0.891532  1.036516\n",
       "4  -0.402570  1.624068 -0.696534 -1.083980\n",
       "..       ...       ...       ...       ...\n",
       "95 -0.296611 -0.069299  1.034736  0.389566\n",
       "96 -0.114156  0.344905 -0.879626 -0.269321\n",
       "97 -0.128817 -1.059675 -0.329204 -1.300054\n",
       "98  1.274187  1.622930 -1.862492  0.387517\n",
       "99  1.139383  1.269651  1.111393 -0.613095\n",
       "\n",
       "[100 rows x 4 columns]"
      ]
     },
     "execution_count": 35,
     "metadata": {},
     "output_type": "execute_result"
    }
   ],
   "source": [
    "df"
   ]
  },
  {
   "cell_type": "code",
   "execution_count": 36,
   "id": "f861dea3",
   "metadata": {},
   "outputs": [
    {
     "data": {
      "application/vnd.plotly.v1+json": {
       "config": {
        "linkText": "Export to plot.ly",
        "plotlyServerURL": "https://plot.ly",
        "showLink": true
       },
       "data": [
        {
         "marker": {
          "color": "rgba(255, 153, 51, 0.6)",
          "line": {
           "color": "rgba(255, 153, 51, 1.0)",
           "width": 1
          }
         },
         "name": "A",
         "orientation": "v",
         "text": "",
         "type": "bar",
         "x": [
          0,
          1,
          2,
          3,
          4,
          5,
          6,
          7,
          8,
          9,
          10,
          11,
          12,
          13,
          14,
          15,
          16,
          17,
          18,
          19,
          20,
          21,
          22,
          23,
          24,
          25,
          26,
          27,
          28,
          29,
          30,
          31,
          32,
          33,
          34,
          35,
          36,
          37,
          38,
          39,
          40,
          41,
          42,
          43,
          44,
          45,
          46,
          47,
          48,
          49,
          50,
          51,
          52,
          53,
          54,
          55,
          56,
          57,
          58,
          59,
          60,
          61,
          62,
          63,
          64,
          65,
          66,
          67,
          68,
          69,
          70,
          71,
          72,
          73,
          74,
          75,
          76,
          77,
          78,
          79,
          80,
          81,
          82,
          83,
          84,
          85,
          86,
          87,
          88,
          89,
          90,
          91,
          92,
          93,
          94,
          95,
          96,
          97,
          98,
          99
         ],
         "y": [
          -0.5753426879256494,
          -0.2855850025875945,
          -0.0961869464912241,
          0.6103568764767965,
          -0.4025696750478465,
          0.4374070598595347,
          0.7852380548724863,
          0.5214648823245953,
          -0.00684583591222356,
          -0.5051783000764581,
          0.6530373694023148,
          0.8290643885983005,
          -0.16326941807355744,
          1.2946551885772357,
          0.3062829613096997,
          -0.40651524703456704,
          0.3896016631461653,
          -1.138922855036025,
          -0.7578633933957807,
          1.3509314503931424,
          -0.005010025924972767,
          -0.7973280566035829,
          -0.9426397821555511,
          0.7837430673863505,
          0.21275853925610655,
          -0.4223329495826686,
          -1.260774413115214,
          0.03781882593588207,
          0.46263467519767826,
          0.5546355561998378,
          -0.4842961772526561,
          0.4618702738864327,
          -0.26539049970315043,
          0.07173654988682814,
          1.2670586248816906,
          0.48257046492794947,
          0.8606764634836559,
          0.6828244703998747,
          0.2703051628152772,
          0.0908652995232409,
          1.3407457592744865,
          0.6876439459516805,
          -1.3694094056973394,
          -0.4335211415628346,
          -1.1267120131338622,
          1.3400799055072092,
          -0.1422947461813094,
          -1.248940584041396,
          -2.124104883981563,
          -1.3019259842261062,
          1.2253863790785309,
          -1.50671466014991,
          0.07538508733247389,
          1.2494402889239615,
          0.18255827197336624,
          -1.0105509243088642,
          -1.1891302933224321,
          -0.11628475166186489,
          -0.4734418847308924,
          0.8718766160831669,
          -0.35944283707649927,
          -0.6793897450131363,
          -0.18631676258814278,
          -1.2782273458212,
          1.4977187013693063,
          1.177236002604748,
          -1.0941913024273784,
          2.2404207802414633,
          -1.7525070260970546,
          0.216729499836274,
          -0.24615959069611515,
          -0.9566272104115014,
          -1.3354612997377038,
          0.22350132903717154,
          0.9938854360185605,
          -0.678036349363896,
          -1.269837301038907,
          0.023573204636028175,
          1.1893098288366686,
          0.3945672020711424,
          0.16556190679953686,
          1.0533923683620778,
          0.7980311950587345,
          -0.4648689451877062,
          -1.1224975907209203,
          0.5905563562444988,
          0.7187909232916364,
          0.001996256304215127,
          -0.5024319634754288,
          1.8039520156480824,
          -0.21920796816159593,
          -0.08410382918341316,
          0.7263457090750816,
          1.3527961859231261,
          -1.544852980293307,
          -0.2966107732450681,
          -0.11415615694751836,
          -0.12881703002004213,
          1.2741874708953127,
          1.1393830437473285
         ]
        },
        {
         "marker": {
          "color": "rgba(55, 128, 191, 0.6)",
          "line": {
           "color": "rgba(55, 128, 191, 1.0)",
           "width": 1
          }
         },
         "name": "B",
         "orientation": "v",
         "text": "",
         "type": "bar",
         "x": [
          0,
          1,
          2,
          3,
          4,
          5,
          6,
          7,
          8,
          9,
          10,
          11,
          12,
          13,
          14,
          15,
          16,
          17,
          18,
          19,
          20,
          21,
          22,
          23,
          24,
          25,
          26,
          27,
          28,
          29,
          30,
          31,
          32,
          33,
          34,
          35,
          36,
          37,
          38,
          39,
          40,
          41,
          42,
          43,
          44,
          45,
          46,
          47,
          48,
          49,
          50,
          51,
          52,
          53,
          54,
          55,
          56,
          57,
          58,
          59,
          60,
          61,
          62,
          63,
          64,
          65,
          66,
          67,
          68,
          69,
          70,
          71,
          72,
          73,
          74,
          75,
          76,
          77,
          78,
          79,
          80,
          81,
          82,
          83,
          84,
          85,
          86,
          87,
          88,
          89,
          90,
          91,
          92,
          93,
          94,
          95,
          96,
          97,
          98,
          99
         ],
         "y": [
          -0.5580704050672908,
          -0.44923515289336513,
          -0.7168931610192598,
          0.9830134247526778,
          1.6240683385906691,
          -0.40275289981153695,
          0.6112791218876015,
          -1.2803108479829148,
          -0.05808932824151311,
          -1.684712399154241,
          0.7009441493967767,
          1.2720970110310192,
          0.3689654180086758,
          -0.10972521230236329,
          -1.8715072885797777,
          -0.41072022373609,
          -2.222846437588777,
          -1.1915850756385813,
          0.9231330164233137,
          1.8669529912034164,
          -0.290221726325987,
          -0.648720943564726,
          -0.36177078386180883,
          -0.320582285809616,
          0.034000540804830316,
          -0.22176470456543523,
          0.29525848347628325,
          -0.9460745820077947,
          -0.40068026297055254,
          0.4106897541844773,
          -0.05309064552901487,
          1.1476677464913225,
          -0.6292502221798444,
          -0.6653930893895125,
          0.23844796985252587,
          0.1526908108190717,
          -0.4882637399023558,
          0.6095528940202006,
          1.7106600523326803,
          -0.6087185304180869,
          -0.14795323483741937,
          -0.9041735666641447,
          -0.2758124519817509,
          -0.6901891175196618,
          0.6644453330064052,
          0.7900367784741046,
          0.9187562121791123,
          0.8674138559764352,
          -0.2453438445025455,
          0.6793641868864831,
          -0.857948768868309,
          -0.9098665331960117,
          -0.6276702401871189,
          -1.9934794146042236,
          -0.364622445961039,
          1.441725222783407,
          0.7801273633492309,
          0.8618581629889228,
          -0.6880668392789634,
          -1.1699554311316747,
          0.4688674958261446,
          -0.3910846044592581,
          -0.9407200530603363,
          -1.5443525904104154,
          1.0384541197937691,
          -0.3226253863608884,
          0.9201172848030571,
          0.7657733729769911,
          -0.0895080157312864,
          -0.8583292937553912,
          -0.5909240948790668,
          -0.2866429338299557,
          0.3565715507880381,
          -0.8964384866866988,
          -0.5862356805821878,
          -0.9155134743418362,
          0.3015672501242637,
          0.5252427921756735,
          1.1163271687288974,
          0.14762362641226046,
          1.6270590095804507,
          -0.5035181944686434,
          -2.4300076126906753,
          -0.5269023436170583,
          1.9305638870047916,
          1.0182413139000828,
          -0.33799434650269927,
          1.046303567819808,
          1.2774037206763065,
          -0.33322567523426716,
          0.5210740638623935,
          -1.1545147289056945,
          -0.29028048645031423,
          -1.3789783825434538,
          0.12451934803869251,
          -0.06929895952401209,
          0.3449054115724372,
          -1.0596751060425036,
          1.622930397463581,
          1.2696505909551374
         ]
        },
        {
         "marker": {
          "color": "rgba(50, 171, 96, 0.6)",
          "line": {
           "color": "rgba(50, 171, 96, 1.0)",
           "width": 1
          }
         },
         "name": "C",
         "orientation": "v",
         "text": "",
         "type": "bar",
         "x": [
          0,
          1,
          2,
          3,
          4,
          5,
          6,
          7,
          8,
          9,
          10,
          11,
          12,
          13,
          14,
          15,
          16,
          17,
          18,
          19,
          20,
          21,
          22,
          23,
          24,
          25,
          26,
          27,
          28,
          29,
          30,
          31,
          32,
          33,
          34,
          35,
          36,
          37,
          38,
          39,
          40,
          41,
          42,
          43,
          44,
          45,
          46,
          47,
          48,
          49,
          50,
          51,
          52,
          53,
          54,
          55,
          56,
          57,
          58,
          59,
          60,
          61,
          62,
          63,
          64,
          65,
          66,
          67,
          68,
          69,
          70,
          71,
          72,
          73,
          74,
          75,
          76,
          77,
          78,
          79,
          80,
          81,
          82,
          83,
          84,
          85,
          86,
          87,
          88,
          89,
          90,
          91,
          92,
          93,
          94,
          95,
          96,
          97,
          98,
          99
         ],
         "y": [
          0.6114507672687999,
          -1.453118223435603,
          1.1827405880682482,
          -0.8915317989289957,
          -0.6965339089786392,
          1.3349453277892667,
          -0.012754426842266287,
          -1.8363884955952245,
          0.06320121054962571,
          -0.8054032151493444,
          -0.8680597817673879,
          0.15123933857148497,
          0.5123570213932661,
          -0.16037339958878402,
          1.2084982369733155,
          0.11675209300983791,
          -0.7352880428466906,
          -0.2791381389434401,
          -1.6768211825037311,
          0.2687358510113133,
          -0.08730828996841995,
          0.08011587984526237,
          0.5870365383920121,
          -0.45513157695040024,
          1.0477545780925943,
          -0.6122419200802369,
          0.9071051522559322,
          0.5288208716979997,
          1.7182043502896294,
          -1.037247362100533,
          1.2071706170444598,
          -0.09959896328078839,
          0.1378115413695539,
          -0.7628053068053268,
          -1.4628741580335396,
          -1.8115843574114259,
          0.48644122722049543,
          0.0812345794161359,
          1.1618829202520924,
          0.12227531103671242,
          -1.0286809844723226,
          -0.4199992929049847,
          -2.6587328254050435,
          -0.2024935070142835,
          -1.0654775595196992,
          1.7239918194244157,
          -0.88260958534823,
          1.6551781445421734,
          0.6507530317290405,
          -1.6654829806178402,
          0.9767781066008089,
          1.4101056253993747,
          -0.3795509935768535,
          0.5352685882282258,
          -0.07107715970154109,
          0.7354612283859392,
          -0.4782542749410208,
          0.2034575421519448,
          1.3429473000413061,
          0.44838858879270727,
          -1.5463440803120463,
          1.3497880948859498,
          0.14937510875119525,
          -0.8145611453142702,
          0.33798653977713,
          -1.0392925446223271,
          -1.2857261541825418,
          -0.18175222407249347,
          1.1471456825047024,
          2.302935046525213,
          -1.1653519184303127,
          0.7037332413417794,
          -0.3154171419840098,
          1.0465994577252105,
          -0.5043267981371093,
          0.3059399843978032,
          -1.0147173103491358,
          0.18734319364702906,
          1.0197870438206182,
          0.5698463723265904,
          0.847161738078466,
          -0.48838155083686113,
          -0.17571083683572822,
          -0.18323720410096794,
          1.1972873398163424,
          0.9806532259074543,
          -0.4917355934045084,
          -0.1343592196434194,
          0.2516622328478005,
          -0.27081241540746404,
          -1.0155616992979957,
          -0.0780064275372869,
          1.3613145488862313,
          -2.25481067807797,
          0.01340459400981535,
          1.034736325414299,
          -0.8796258441728192,
          -0.3292043045328106,
          -1.8624919231541441,
          1.1113931809407485
         ]
        },
        {
         "marker": {
          "color": "rgba(128, 0, 128, 0.6)",
          "line": {
           "color": "rgba(128, 0, 128, 1.0)",
           "width": 1
          }
         },
         "name": "D",
         "orientation": "v",
         "text": "",
         "type": "bar",
         "x": [
          0,
          1,
          2,
          3,
          4,
          5,
          6,
          7,
          8,
          9,
          10,
          11,
          12,
          13,
          14,
          15,
          16,
          17,
          18,
          19,
          20,
          21,
          22,
          23,
          24,
          25,
          26,
          27,
          28,
          29,
          30,
          31,
          32,
          33,
          34,
          35,
          36,
          37,
          38,
          39,
          40,
          41,
          42,
          43,
          44,
          45,
          46,
          47,
          48,
          49,
          50,
          51,
          52,
          53,
          54,
          55,
          56,
          57,
          58,
          59,
          60,
          61,
          62,
          63,
          64,
          65,
          66,
          67,
          68,
          69,
          70,
          71,
          72,
          73,
          74,
          75,
          76,
          77,
          78,
          79,
          80,
          81,
          82,
          83,
          84,
          85,
          86,
          87,
          88,
          89,
          90,
          91,
          92,
          93,
          94,
          95,
          96,
          97,
          98,
          99
         ],
         "y": [
          -0.10163559002645582,
          -0.35572331833610316,
          0.9382633458937855,
          1.0365157491589996,
          -1.0839803625551319,
          -0.42444836826523763,
          -0.17434477607746782,
          -0.2503002221905484,
          -0.13298541736793706,
          0.8536540114980372,
          0.3743533125530419,
          -0.23019310723961844,
          -1.0877216415015756,
          0.8983283485049616,
          0.14188830675770078,
          0.22365165287099512,
          0.19462905516574389,
          0.0934357964967572,
          0.8335939366943298,
          -0.04921489580520027,
          1.0017436578627659,
          0.5833690545463516,
          0.5736816489166747,
          -0.24365567817680078,
          1.3488875965404792,
          0.1263712094019638,
          -0.06129280907415563,
          -0.2237010330630421,
          2.302720150283636,
          -1.2728458007605248,
          -0.9225462214792156,
          -0.83290355524013,
          0.9865001583080875,
          -0.47162702859165717,
          -0.2933254636166296,
          0.24279006201943384,
          0.9032069290402934,
          0.34250476808048,
          0.807733281761505,
          1.8166900939762636,
          -0.009455451023209618,
          -0.4963886136333983,
          -0.6358577813771843,
          0.3619657381092746,
          -0.8788873299867607,
          0.40135747633790053,
          0.5062831775326353,
          -0.020676125484085806,
          0.19948143467837848,
          0.34548083587927997,
          -0.5795092323886075,
          -1.7819736678538074,
          0.17033119871697325,
          -0.89129758144792,
          -0.1714054780010341,
          -1.0737098320560075,
          1.2900195720031598,
          1.2914077918767255,
          -0.24949588549061508,
          0.8369345762371713,
          1.135976461563747,
          -1.4428407997626485,
          0.9875439709348575,
          2.2035242636833,
          -0.5791487359503539,
          -2.521913338226039,
          -0.7184707278530241,
          -1.1639587985186035,
          -0.5687316557397463,
          -1.702610898906452,
          -0.12020102131074938,
          0.13080022513111286,
          -0.22034734250604682,
          -0.05716775746615135,
          0.28319930382775665,
          0.731825355886409,
          -0.32563379121427105,
          -0.0787710720033279,
          -1.3347357015730388,
          -1.6260320813219609,
          0.9013728332559842,
          -0.08563499946707838,
          -0.33884869313938376,
          -2.256272072962904,
          0.38836306652118646,
          -0.1299483070640521,
          0.835893038991054,
          0.5972407218225784,
          0.9662776762760077,
          -0.6501003773755782,
          -2.3648808383363713,
          0.6757352967860882,
          0.8668970165490616,
          -1.7444739905526931,
          0.9097302962435239,
          0.3895664821972121,
          -0.26932148950763357,
          -1.300053903639512,
          0.38751698856060934,
          -0.6130946474664536
         ]
        }
       ],
       "layout": {
        "legend": {
         "bgcolor": "#F5F6F9",
         "font": {
          "color": "#4D5663"
         }
        },
        "paper_bgcolor": "#F5F6F9",
        "plot_bgcolor": "#F5F6F9",
        "template": {
         "data": {
          "bar": [
           {
            "error_x": {
             "color": "#2a3f5f"
            },
            "error_y": {
             "color": "#2a3f5f"
            },
            "marker": {
             "line": {
              "color": "#E5ECF6",
              "width": 0.5
             },
             "pattern": {
              "fillmode": "overlay",
              "size": 10,
              "solidity": 0.2
             }
            },
            "type": "bar"
           }
          ],
          "barpolar": [
           {
            "marker": {
             "line": {
              "color": "#E5ECF6",
              "width": 0.5
             },
             "pattern": {
              "fillmode": "overlay",
              "size": 10,
              "solidity": 0.2
             }
            },
            "type": "barpolar"
           }
          ],
          "carpet": [
           {
            "aaxis": {
             "endlinecolor": "#2a3f5f",
             "gridcolor": "white",
             "linecolor": "white",
             "minorgridcolor": "white",
             "startlinecolor": "#2a3f5f"
            },
            "baxis": {
             "endlinecolor": "#2a3f5f",
             "gridcolor": "white",
             "linecolor": "white",
             "minorgridcolor": "white",
             "startlinecolor": "#2a3f5f"
            },
            "type": "carpet"
           }
          ],
          "choropleth": [
           {
            "colorbar": {
             "outlinewidth": 0,
             "ticks": ""
            },
            "type": "choropleth"
           }
          ],
          "contour": [
           {
            "colorbar": {
             "outlinewidth": 0,
             "ticks": ""
            },
            "colorscale": [
             [
              0,
              "#0d0887"
             ],
             [
              0.1111111111111111,
              "#46039f"
             ],
             [
              0.2222222222222222,
              "#7201a8"
             ],
             [
              0.3333333333333333,
              "#9c179e"
             ],
             [
              0.4444444444444444,
              "#bd3786"
             ],
             [
              0.5555555555555556,
              "#d8576b"
             ],
             [
              0.6666666666666666,
              "#ed7953"
             ],
             [
              0.7777777777777778,
              "#fb9f3a"
             ],
             [
              0.8888888888888888,
              "#fdca26"
             ],
             [
              1,
              "#f0f921"
             ]
            ],
            "type": "contour"
           }
          ],
          "contourcarpet": [
           {
            "colorbar": {
             "outlinewidth": 0,
             "ticks": ""
            },
            "type": "contourcarpet"
           }
          ],
          "heatmap": [
           {
            "colorbar": {
             "outlinewidth": 0,
             "ticks": ""
            },
            "colorscale": [
             [
              0,
              "#0d0887"
             ],
             [
              0.1111111111111111,
              "#46039f"
             ],
             [
              0.2222222222222222,
              "#7201a8"
             ],
             [
              0.3333333333333333,
              "#9c179e"
             ],
             [
              0.4444444444444444,
              "#bd3786"
             ],
             [
              0.5555555555555556,
              "#d8576b"
             ],
             [
              0.6666666666666666,
              "#ed7953"
             ],
             [
              0.7777777777777778,
              "#fb9f3a"
             ],
             [
              0.8888888888888888,
              "#fdca26"
             ],
             [
              1,
              "#f0f921"
             ]
            ],
            "type": "heatmap"
           }
          ],
          "heatmapgl": [
           {
            "colorbar": {
             "outlinewidth": 0,
             "ticks": ""
            },
            "colorscale": [
             [
              0,
              "#0d0887"
             ],
             [
              0.1111111111111111,
              "#46039f"
             ],
             [
              0.2222222222222222,
              "#7201a8"
             ],
             [
              0.3333333333333333,
              "#9c179e"
             ],
             [
              0.4444444444444444,
              "#bd3786"
             ],
             [
              0.5555555555555556,
              "#d8576b"
             ],
             [
              0.6666666666666666,
              "#ed7953"
             ],
             [
              0.7777777777777778,
              "#fb9f3a"
             ],
             [
              0.8888888888888888,
              "#fdca26"
             ],
             [
              1,
              "#f0f921"
             ]
            ],
            "type": "heatmapgl"
           }
          ],
          "histogram": [
           {
            "marker": {
             "pattern": {
              "fillmode": "overlay",
              "size": 10,
              "solidity": 0.2
             }
            },
            "type": "histogram"
           }
          ],
          "histogram2d": [
           {
            "colorbar": {
             "outlinewidth": 0,
             "ticks": ""
            },
            "colorscale": [
             [
              0,
              "#0d0887"
             ],
             [
              0.1111111111111111,
              "#46039f"
             ],
             [
              0.2222222222222222,
              "#7201a8"
             ],
             [
              0.3333333333333333,
              "#9c179e"
             ],
             [
              0.4444444444444444,
              "#bd3786"
             ],
             [
              0.5555555555555556,
              "#d8576b"
             ],
             [
              0.6666666666666666,
              "#ed7953"
             ],
             [
              0.7777777777777778,
              "#fb9f3a"
             ],
             [
              0.8888888888888888,
              "#fdca26"
             ],
             [
              1,
              "#f0f921"
             ]
            ],
            "type": "histogram2d"
           }
          ],
          "histogram2dcontour": [
           {
            "colorbar": {
             "outlinewidth": 0,
             "ticks": ""
            },
            "colorscale": [
             [
              0,
              "#0d0887"
             ],
             [
              0.1111111111111111,
              "#46039f"
             ],
             [
              0.2222222222222222,
              "#7201a8"
             ],
             [
              0.3333333333333333,
              "#9c179e"
             ],
             [
              0.4444444444444444,
              "#bd3786"
             ],
             [
              0.5555555555555556,
              "#d8576b"
             ],
             [
              0.6666666666666666,
              "#ed7953"
             ],
             [
              0.7777777777777778,
              "#fb9f3a"
             ],
             [
              0.8888888888888888,
              "#fdca26"
             ],
             [
              1,
              "#f0f921"
             ]
            ],
            "type": "histogram2dcontour"
           }
          ],
          "mesh3d": [
           {
            "colorbar": {
             "outlinewidth": 0,
             "ticks": ""
            },
            "type": "mesh3d"
           }
          ],
          "parcoords": [
           {
            "line": {
             "colorbar": {
              "outlinewidth": 0,
              "ticks": ""
             }
            },
            "type": "parcoords"
           }
          ],
          "pie": [
           {
            "automargin": true,
            "type": "pie"
           }
          ],
          "scatter": [
           {
            "fillpattern": {
             "fillmode": "overlay",
             "size": 10,
             "solidity": 0.2
            },
            "type": "scatter"
           }
          ],
          "scatter3d": [
           {
            "line": {
             "colorbar": {
              "outlinewidth": 0,
              "ticks": ""
             }
            },
            "marker": {
             "colorbar": {
              "outlinewidth": 0,
              "ticks": ""
             }
            },
            "type": "scatter3d"
           }
          ],
          "scattercarpet": [
           {
            "marker": {
             "colorbar": {
              "outlinewidth": 0,
              "ticks": ""
             }
            },
            "type": "scattercarpet"
           }
          ],
          "scattergeo": [
           {
            "marker": {
             "colorbar": {
              "outlinewidth": 0,
              "ticks": ""
             }
            },
            "type": "scattergeo"
           }
          ],
          "scattergl": [
           {
            "marker": {
             "colorbar": {
              "outlinewidth": 0,
              "ticks": ""
             }
            },
            "type": "scattergl"
           }
          ],
          "scattermapbox": [
           {
            "marker": {
             "colorbar": {
              "outlinewidth": 0,
              "ticks": ""
             }
            },
            "type": "scattermapbox"
           }
          ],
          "scatterpolar": [
           {
            "marker": {
             "colorbar": {
              "outlinewidth": 0,
              "ticks": ""
             }
            },
            "type": "scatterpolar"
           }
          ],
          "scatterpolargl": [
           {
            "marker": {
             "colorbar": {
              "outlinewidth": 0,
              "ticks": ""
             }
            },
            "type": "scatterpolargl"
           }
          ],
          "scatterternary": [
           {
            "marker": {
             "colorbar": {
              "outlinewidth": 0,
              "ticks": ""
             }
            },
            "type": "scatterternary"
           }
          ],
          "surface": [
           {
            "colorbar": {
             "outlinewidth": 0,
             "ticks": ""
            },
            "colorscale": [
             [
              0,
              "#0d0887"
             ],
             [
              0.1111111111111111,
              "#46039f"
             ],
             [
              0.2222222222222222,
              "#7201a8"
             ],
             [
              0.3333333333333333,
              "#9c179e"
             ],
             [
              0.4444444444444444,
              "#bd3786"
             ],
             [
              0.5555555555555556,
              "#d8576b"
             ],
             [
              0.6666666666666666,
              "#ed7953"
             ],
             [
              0.7777777777777778,
              "#fb9f3a"
             ],
             [
              0.8888888888888888,
              "#fdca26"
             ],
             [
              1,
              "#f0f921"
             ]
            ],
            "type": "surface"
           }
          ],
          "table": [
           {
            "cells": {
             "fill": {
              "color": "#EBF0F8"
             },
             "line": {
              "color": "white"
             }
            },
            "header": {
             "fill": {
              "color": "#C8D4E3"
             },
             "line": {
              "color": "white"
             }
            },
            "type": "table"
           }
          ]
         },
         "layout": {
          "annotationdefaults": {
           "arrowcolor": "#2a3f5f",
           "arrowhead": 0,
           "arrowwidth": 1
          },
          "autotypenumbers": "strict",
          "coloraxis": {
           "colorbar": {
            "outlinewidth": 0,
            "ticks": ""
           }
          },
          "colorscale": {
           "diverging": [
            [
             0,
             "#8e0152"
            ],
            [
             0.1,
             "#c51b7d"
            ],
            [
             0.2,
             "#de77ae"
            ],
            [
             0.3,
             "#f1b6da"
            ],
            [
             0.4,
             "#fde0ef"
            ],
            [
             0.5,
             "#f7f7f7"
            ],
            [
             0.6,
             "#e6f5d0"
            ],
            [
             0.7,
             "#b8e186"
            ],
            [
             0.8,
             "#7fbc41"
            ],
            [
             0.9,
             "#4d9221"
            ],
            [
             1,
             "#276419"
            ]
           ],
           "sequential": [
            [
             0,
             "#0d0887"
            ],
            [
             0.1111111111111111,
             "#46039f"
            ],
            [
             0.2222222222222222,
             "#7201a8"
            ],
            [
             0.3333333333333333,
             "#9c179e"
            ],
            [
             0.4444444444444444,
             "#bd3786"
            ],
            [
             0.5555555555555556,
             "#d8576b"
            ],
            [
             0.6666666666666666,
             "#ed7953"
            ],
            [
             0.7777777777777778,
             "#fb9f3a"
            ],
            [
             0.8888888888888888,
             "#fdca26"
            ],
            [
             1,
             "#f0f921"
            ]
           ],
           "sequentialminus": [
            [
             0,
             "#0d0887"
            ],
            [
             0.1111111111111111,
             "#46039f"
            ],
            [
             0.2222222222222222,
             "#7201a8"
            ],
            [
             0.3333333333333333,
             "#9c179e"
            ],
            [
             0.4444444444444444,
             "#bd3786"
            ],
            [
             0.5555555555555556,
             "#d8576b"
            ],
            [
             0.6666666666666666,
             "#ed7953"
            ],
            [
             0.7777777777777778,
             "#fb9f3a"
            ],
            [
             0.8888888888888888,
             "#fdca26"
            ],
            [
             1,
             "#f0f921"
            ]
           ]
          },
          "colorway": [
           "#636efa",
           "#EF553B",
           "#00cc96",
           "#ab63fa",
           "#FFA15A",
           "#19d3f3",
           "#FF6692",
           "#B6E880",
           "#FF97FF",
           "#FECB52"
          ],
          "font": {
           "color": "#2a3f5f"
          },
          "geo": {
           "bgcolor": "white",
           "lakecolor": "white",
           "landcolor": "#E5ECF6",
           "showlakes": true,
           "showland": true,
           "subunitcolor": "white"
          },
          "hoverlabel": {
           "align": "left"
          },
          "hovermode": "closest",
          "mapbox": {
           "style": "light"
          },
          "paper_bgcolor": "white",
          "plot_bgcolor": "#E5ECF6",
          "polar": {
           "angularaxis": {
            "gridcolor": "white",
            "linecolor": "white",
            "ticks": ""
           },
           "bgcolor": "#E5ECF6",
           "radialaxis": {
            "gridcolor": "white",
            "linecolor": "white",
            "ticks": ""
           }
          },
          "scene": {
           "xaxis": {
            "backgroundcolor": "#E5ECF6",
            "gridcolor": "white",
            "gridwidth": 2,
            "linecolor": "white",
            "showbackground": true,
            "ticks": "",
            "zerolinecolor": "white"
           },
           "yaxis": {
            "backgroundcolor": "#E5ECF6",
            "gridcolor": "white",
            "gridwidth": 2,
            "linecolor": "white",
            "showbackground": true,
            "ticks": "",
            "zerolinecolor": "white"
           },
           "zaxis": {
            "backgroundcolor": "#E5ECF6",
            "gridcolor": "white",
            "gridwidth": 2,
            "linecolor": "white",
            "showbackground": true,
            "ticks": "",
            "zerolinecolor": "white"
           }
          },
          "shapedefaults": {
           "line": {
            "color": "#2a3f5f"
           }
          },
          "ternary": {
           "aaxis": {
            "gridcolor": "white",
            "linecolor": "white",
            "ticks": ""
           },
           "baxis": {
            "gridcolor": "white",
            "linecolor": "white",
            "ticks": ""
           },
           "bgcolor": "#E5ECF6",
           "caxis": {
            "gridcolor": "white",
            "linecolor": "white",
            "ticks": ""
           }
          },
          "title": {
           "x": 0.05
          },
          "xaxis": {
           "automargin": true,
           "gridcolor": "white",
           "linecolor": "white",
           "ticks": "",
           "title": {
            "standoff": 15
           },
           "zerolinecolor": "white",
           "zerolinewidth": 2
          },
          "yaxis": {
           "automargin": true,
           "gridcolor": "white",
           "linecolor": "white",
           "ticks": "",
           "title": {
            "standoff": 15
           },
           "zerolinecolor": "white",
           "zerolinewidth": 2
          }
         }
        },
        "title": {
         "font": {
          "color": "#4D5663"
         }
        },
        "xaxis": {
         "gridcolor": "#E1E5ED",
         "showgrid": true,
         "tickfont": {
          "color": "#4D5663"
         },
         "title": {
          "font": {
           "color": "#4D5663"
          },
          "text": ""
         },
         "zerolinecolor": "#E1E5ED"
        },
        "yaxis": {
         "gridcolor": "#E1E5ED",
         "showgrid": true,
         "tickfont": {
          "color": "#4D5663"
         },
         "title": {
          "font": {
           "color": "#4D5663"
          },
          "text": ""
         },
         "zerolinecolor": "#E1E5ED"
        }
       }
      },
      "text/html": [
       "<div>                            <div id=\"ebf61d60-32b3-4e31-97d5-1c502102a97a\" class=\"plotly-graph-div\" style=\"height:525px; width:100%;\"></div>            <script type=\"text/javascript\">                require([\"plotly\"], function(Plotly) {                    window.PLOTLYENV=window.PLOTLYENV || {};\n",
       "                    window.PLOTLYENV.BASE_URL='https://plot.ly';                                    if (document.getElementById(\"ebf61d60-32b3-4e31-97d5-1c502102a97a\")) {                    Plotly.newPlot(                        \"ebf61d60-32b3-4e31-97d5-1c502102a97a\",                        [{\"marker\":{\"color\":\"rgba(255, 153, 51, 0.6)\",\"line\":{\"color\":\"rgba(255, 153, 51, 1.0)\",\"width\":1}},\"name\":\"A\",\"orientation\":\"v\",\"text\":\"\",\"x\":[0,1,2,3,4,5,6,7,8,9,10,11,12,13,14,15,16,17,18,19,20,21,22,23,24,25,26,27,28,29,30,31,32,33,34,35,36,37,38,39,40,41,42,43,44,45,46,47,48,49,50,51,52,53,54,55,56,57,58,59,60,61,62,63,64,65,66,67,68,69,70,71,72,73,74,75,76,77,78,79,80,81,82,83,84,85,86,87,88,89,90,91,92,93,94,95,96,97,98,99],\"y\":[-0.5753426879256494,-0.2855850025875945,-0.0961869464912241,0.6103568764767965,-0.4025696750478465,0.4374070598595347,0.7852380548724863,0.5214648823245953,-0.00684583591222356,-0.5051783000764581,0.6530373694023148,0.8290643885983005,-0.16326941807355744,1.2946551885772357,0.3062829613096997,-0.40651524703456704,0.3896016631461653,-1.138922855036025,-0.7578633933957807,1.3509314503931424,-0.005010025924972767,-0.7973280566035829,-0.9426397821555511,0.7837430673863505,0.21275853925610655,-0.4223329495826686,-1.260774413115214,0.03781882593588207,0.46263467519767826,0.5546355561998378,-0.4842961772526561,0.4618702738864327,-0.26539049970315043,0.07173654988682814,1.2670586248816906,0.48257046492794947,0.8606764634836559,0.6828244703998747,0.2703051628152772,0.0908652995232409,1.3407457592744865,0.6876439459516805,-1.3694094056973394,-0.4335211415628346,-1.1267120131338622,1.3400799055072092,-0.1422947461813094,-1.248940584041396,-2.124104883981563,-1.3019259842261062,1.2253863790785309,-1.50671466014991,0.07538508733247389,1.2494402889239615,0.18255827197336624,-1.0105509243088642,-1.1891302933224321,-0.11628475166186489,-0.4734418847308924,0.8718766160831669,-0.35944283707649927,-0.6793897450131363,-0.18631676258814278,-1.2782273458212,1.4977187013693063,1.177236002604748,-1.0941913024273784,2.2404207802414633,-1.7525070260970546,0.216729499836274,-0.24615959069611515,-0.9566272104115014,-1.3354612997377038,0.22350132903717154,0.9938854360185605,-0.678036349363896,-1.269837301038907,0.023573204636028175,1.1893098288366686,0.3945672020711424,0.16556190679953686,1.0533923683620778,0.7980311950587345,-0.4648689451877062,-1.1224975907209203,0.5905563562444988,0.7187909232916364,0.001996256304215127,-0.5024319634754288,1.8039520156480824,-0.21920796816159593,-0.08410382918341316,0.7263457090750816,1.3527961859231261,-1.544852980293307,-0.2966107732450681,-0.11415615694751836,-0.12881703002004213,1.2741874708953127,1.1393830437473285],\"type\":\"bar\"},{\"marker\":{\"color\":\"rgba(55, 128, 191, 0.6)\",\"line\":{\"color\":\"rgba(55, 128, 191, 1.0)\",\"width\":1}},\"name\":\"B\",\"orientation\":\"v\",\"text\":\"\",\"x\":[0,1,2,3,4,5,6,7,8,9,10,11,12,13,14,15,16,17,18,19,20,21,22,23,24,25,26,27,28,29,30,31,32,33,34,35,36,37,38,39,40,41,42,43,44,45,46,47,48,49,50,51,52,53,54,55,56,57,58,59,60,61,62,63,64,65,66,67,68,69,70,71,72,73,74,75,76,77,78,79,80,81,82,83,84,85,86,87,88,89,90,91,92,93,94,95,96,97,98,99],\"y\":[-0.5580704050672908,-0.44923515289336513,-0.7168931610192598,0.9830134247526778,1.6240683385906691,-0.40275289981153695,0.6112791218876015,-1.2803108479829148,-0.05808932824151311,-1.684712399154241,0.7009441493967767,1.2720970110310192,0.3689654180086758,-0.10972521230236329,-1.8715072885797777,-0.41072022373609,-2.222846437588777,-1.1915850756385813,0.9231330164233137,1.8669529912034164,-0.290221726325987,-0.648720943564726,-0.36177078386180883,-0.320582285809616,0.034000540804830316,-0.22176470456543523,0.29525848347628325,-0.9460745820077947,-0.40068026297055254,0.4106897541844773,-0.05309064552901487,1.1476677464913225,-0.6292502221798444,-0.6653930893895125,0.23844796985252587,0.1526908108190717,-0.4882637399023558,0.6095528940202006,1.7106600523326803,-0.6087185304180869,-0.14795323483741937,-0.9041735666641447,-0.2758124519817509,-0.6901891175196618,0.6644453330064052,0.7900367784741046,0.9187562121791123,0.8674138559764352,-0.2453438445025455,0.6793641868864831,-0.857948768868309,-0.9098665331960117,-0.6276702401871189,-1.9934794146042236,-0.364622445961039,1.441725222783407,0.7801273633492309,0.8618581629889228,-0.6880668392789634,-1.1699554311316747,0.4688674958261446,-0.3910846044592581,-0.9407200530603363,-1.5443525904104154,1.0384541197937691,-0.3226253863608884,0.9201172848030571,0.7657733729769911,-0.0895080157312864,-0.8583292937553912,-0.5909240948790668,-0.2866429338299557,0.3565715507880381,-0.8964384866866988,-0.5862356805821878,-0.9155134743418362,0.3015672501242637,0.5252427921756735,1.1163271687288974,0.14762362641226046,1.6270590095804507,-0.5035181944686434,-2.4300076126906753,-0.5269023436170583,1.9305638870047916,1.0182413139000828,-0.33799434650269927,1.046303567819808,1.2774037206763065,-0.33322567523426716,0.5210740638623935,-1.1545147289056945,-0.29028048645031423,-1.3789783825434538,0.12451934803869251,-0.06929895952401209,0.3449054115724372,-1.0596751060425036,1.622930397463581,1.2696505909551374],\"type\":\"bar\"},{\"marker\":{\"color\":\"rgba(50, 171, 96, 0.6)\",\"line\":{\"color\":\"rgba(50, 171, 96, 1.0)\",\"width\":1}},\"name\":\"C\",\"orientation\":\"v\",\"text\":\"\",\"x\":[0,1,2,3,4,5,6,7,8,9,10,11,12,13,14,15,16,17,18,19,20,21,22,23,24,25,26,27,28,29,30,31,32,33,34,35,36,37,38,39,40,41,42,43,44,45,46,47,48,49,50,51,52,53,54,55,56,57,58,59,60,61,62,63,64,65,66,67,68,69,70,71,72,73,74,75,76,77,78,79,80,81,82,83,84,85,86,87,88,89,90,91,92,93,94,95,96,97,98,99],\"y\":[0.6114507672687999,-1.453118223435603,1.1827405880682482,-0.8915317989289957,-0.6965339089786392,1.3349453277892667,-0.012754426842266287,-1.8363884955952245,0.06320121054962571,-0.8054032151493444,-0.8680597817673879,0.15123933857148497,0.5123570213932661,-0.16037339958878402,1.2084982369733155,0.11675209300983791,-0.7352880428466906,-0.2791381389434401,-1.6768211825037311,0.2687358510113133,-0.08730828996841995,0.08011587984526237,0.5870365383920121,-0.45513157695040024,1.0477545780925943,-0.6122419200802369,0.9071051522559322,0.5288208716979997,1.7182043502896294,-1.037247362100533,1.2071706170444598,-0.09959896328078839,0.1378115413695539,-0.7628053068053268,-1.4628741580335396,-1.8115843574114259,0.48644122722049543,0.0812345794161359,1.1618829202520924,0.12227531103671242,-1.0286809844723226,-0.4199992929049847,-2.6587328254050435,-0.2024935070142835,-1.0654775595196992,1.7239918194244157,-0.88260958534823,1.6551781445421734,0.6507530317290405,-1.6654829806178402,0.9767781066008089,1.4101056253993747,-0.3795509935768535,0.5352685882282258,-0.07107715970154109,0.7354612283859392,-0.4782542749410208,0.2034575421519448,1.3429473000413061,0.44838858879270727,-1.5463440803120463,1.3497880948859498,0.14937510875119525,-0.8145611453142702,0.33798653977713,-1.0392925446223271,-1.2857261541825418,-0.18175222407249347,1.1471456825047024,2.302935046525213,-1.1653519184303127,0.7037332413417794,-0.3154171419840098,1.0465994577252105,-0.5043267981371093,0.3059399843978032,-1.0147173103491358,0.18734319364702906,1.0197870438206182,0.5698463723265904,0.847161738078466,-0.48838155083686113,-0.17571083683572822,-0.18323720410096794,1.1972873398163424,0.9806532259074543,-0.4917355934045084,-0.1343592196434194,0.2516622328478005,-0.27081241540746404,-1.0155616992979957,-0.0780064275372869,1.3613145488862313,-2.25481067807797,0.01340459400981535,1.034736325414299,-0.8796258441728192,-0.3292043045328106,-1.8624919231541441,1.1113931809407485],\"type\":\"bar\"},{\"marker\":{\"color\":\"rgba(128, 0, 128, 0.6)\",\"line\":{\"color\":\"rgba(128, 0, 128, 1.0)\",\"width\":1}},\"name\":\"D\",\"orientation\":\"v\",\"text\":\"\",\"x\":[0,1,2,3,4,5,6,7,8,9,10,11,12,13,14,15,16,17,18,19,20,21,22,23,24,25,26,27,28,29,30,31,32,33,34,35,36,37,38,39,40,41,42,43,44,45,46,47,48,49,50,51,52,53,54,55,56,57,58,59,60,61,62,63,64,65,66,67,68,69,70,71,72,73,74,75,76,77,78,79,80,81,82,83,84,85,86,87,88,89,90,91,92,93,94,95,96,97,98,99],\"y\":[-0.10163559002645582,-0.35572331833610316,0.9382633458937855,1.0365157491589996,-1.0839803625551319,-0.42444836826523763,-0.17434477607746782,-0.2503002221905484,-0.13298541736793706,0.8536540114980372,0.3743533125530419,-0.23019310723961844,-1.0877216415015756,0.8983283485049616,0.14188830675770078,0.22365165287099512,0.19462905516574389,0.0934357964967572,0.8335939366943298,-0.04921489580520027,1.0017436578627659,0.5833690545463516,0.5736816489166747,-0.24365567817680078,1.3488875965404792,0.1263712094019638,-0.06129280907415563,-0.2237010330630421,2.302720150283636,-1.2728458007605248,-0.9225462214792156,-0.83290355524013,0.9865001583080875,-0.47162702859165717,-0.2933254636166296,0.24279006201943384,0.9032069290402934,0.34250476808048,0.807733281761505,1.8166900939762636,-0.009455451023209618,-0.4963886136333983,-0.6358577813771843,0.3619657381092746,-0.8788873299867607,0.40135747633790053,0.5062831775326353,-0.020676125484085806,0.19948143467837848,0.34548083587927997,-0.5795092323886075,-1.7819736678538074,0.17033119871697325,-0.89129758144792,-0.1714054780010341,-1.0737098320560075,1.2900195720031598,1.2914077918767255,-0.24949588549061508,0.8369345762371713,1.135976461563747,-1.4428407997626485,0.9875439709348575,2.2035242636833,-0.5791487359503539,-2.521913338226039,-0.7184707278530241,-1.1639587985186035,-0.5687316557397463,-1.702610898906452,-0.12020102131074938,0.13080022513111286,-0.22034734250604682,-0.05716775746615135,0.28319930382775665,0.731825355886409,-0.32563379121427105,-0.0787710720033279,-1.3347357015730388,-1.6260320813219609,0.9013728332559842,-0.08563499946707838,-0.33884869313938376,-2.256272072962904,0.38836306652118646,-0.1299483070640521,0.835893038991054,0.5972407218225784,0.9662776762760077,-0.6501003773755782,-2.3648808383363713,0.6757352967860882,0.8668970165490616,-1.7444739905526931,0.9097302962435239,0.3895664821972121,-0.26932148950763357,-1.300053903639512,0.38751698856060934,-0.6130946474664536],\"type\":\"bar\"}],                        {\"legend\":{\"bgcolor\":\"#F5F6F9\",\"font\":{\"color\":\"#4D5663\"}},\"paper_bgcolor\":\"#F5F6F9\",\"plot_bgcolor\":\"#F5F6F9\",\"template\":{\"data\":{\"barpolar\":[{\"marker\":{\"line\":{\"color\":\"#E5ECF6\",\"width\":0.5},\"pattern\":{\"fillmode\":\"overlay\",\"size\":10,\"solidity\":0.2}},\"type\":\"barpolar\"}],\"bar\":[{\"error_x\":{\"color\":\"#2a3f5f\"},\"error_y\":{\"color\":\"#2a3f5f\"},\"marker\":{\"line\":{\"color\":\"#E5ECF6\",\"width\":0.5},\"pattern\":{\"fillmode\":\"overlay\",\"size\":10,\"solidity\":0.2}},\"type\":\"bar\"}],\"carpet\":[{\"aaxis\":{\"endlinecolor\":\"#2a3f5f\",\"gridcolor\":\"white\",\"linecolor\":\"white\",\"minorgridcolor\":\"white\",\"startlinecolor\":\"#2a3f5f\"},\"baxis\":{\"endlinecolor\":\"#2a3f5f\",\"gridcolor\":\"white\",\"linecolor\":\"white\",\"minorgridcolor\":\"white\",\"startlinecolor\":\"#2a3f5f\"},\"type\":\"carpet\"}],\"choropleth\":[{\"colorbar\":{\"outlinewidth\":0,\"ticks\":\"\"},\"type\":\"choropleth\"}],\"contourcarpet\":[{\"colorbar\":{\"outlinewidth\":0,\"ticks\":\"\"},\"type\":\"contourcarpet\"}],\"contour\":[{\"colorbar\":{\"outlinewidth\":0,\"ticks\":\"\"},\"colorscale\":[[0.0,\"#0d0887\"],[0.1111111111111111,\"#46039f\"],[0.2222222222222222,\"#7201a8\"],[0.3333333333333333,\"#9c179e\"],[0.4444444444444444,\"#bd3786\"],[0.5555555555555556,\"#d8576b\"],[0.6666666666666666,\"#ed7953\"],[0.7777777777777778,\"#fb9f3a\"],[0.8888888888888888,\"#fdca26\"],[1.0,\"#f0f921\"]],\"type\":\"contour\"}],\"heatmapgl\":[{\"colorbar\":{\"outlinewidth\":0,\"ticks\":\"\"},\"colorscale\":[[0.0,\"#0d0887\"],[0.1111111111111111,\"#46039f\"],[0.2222222222222222,\"#7201a8\"],[0.3333333333333333,\"#9c179e\"],[0.4444444444444444,\"#bd3786\"],[0.5555555555555556,\"#d8576b\"],[0.6666666666666666,\"#ed7953\"],[0.7777777777777778,\"#fb9f3a\"],[0.8888888888888888,\"#fdca26\"],[1.0,\"#f0f921\"]],\"type\":\"heatmapgl\"}],\"heatmap\":[{\"colorbar\":{\"outlinewidth\":0,\"ticks\":\"\"},\"colorscale\":[[0.0,\"#0d0887\"],[0.1111111111111111,\"#46039f\"],[0.2222222222222222,\"#7201a8\"],[0.3333333333333333,\"#9c179e\"],[0.4444444444444444,\"#bd3786\"],[0.5555555555555556,\"#d8576b\"],[0.6666666666666666,\"#ed7953\"],[0.7777777777777778,\"#fb9f3a\"],[0.8888888888888888,\"#fdca26\"],[1.0,\"#f0f921\"]],\"type\":\"heatmap\"}],\"histogram2dcontour\":[{\"colorbar\":{\"outlinewidth\":0,\"ticks\":\"\"},\"colorscale\":[[0.0,\"#0d0887\"],[0.1111111111111111,\"#46039f\"],[0.2222222222222222,\"#7201a8\"],[0.3333333333333333,\"#9c179e\"],[0.4444444444444444,\"#bd3786\"],[0.5555555555555556,\"#d8576b\"],[0.6666666666666666,\"#ed7953\"],[0.7777777777777778,\"#fb9f3a\"],[0.8888888888888888,\"#fdca26\"],[1.0,\"#f0f921\"]],\"type\":\"histogram2dcontour\"}],\"histogram2d\":[{\"colorbar\":{\"outlinewidth\":0,\"ticks\":\"\"},\"colorscale\":[[0.0,\"#0d0887\"],[0.1111111111111111,\"#46039f\"],[0.2222222222222222,\"#7201a8\"],[0.3333333333333333,\"#9c179e\"],[0.4444444444444444,\"#bd3786\"],[0.5555555555555556,\"#d8576b\"],[0.6666666666666666,\"#ed7953\"],[0.7777777777777778,\"#fb9f3a\"],[0.8888888888888888,\"#fdca26\"],[1.0,\"#f0f921\"]],\"type\":\"histogram2d\"}],\"histogram\":[{\"marker\":{\"pattern\":{\"fillmode\":\"overlay\",\"size\":10,\"solidity\":0.2}},\"type\":\"histogram\"}],\"mesh3d\":[{\"colorbar\":{\"outlinewidth\":0,\"ticks\":\"\"},\"type\":\"mesh3d\"}],\"parcoords\":[{\"line\":{\"colorbar\":{\"outlinewidth\":0,\"ticks\":\"\"}},\"type\":\"parcoords\"}],\"pie\":[{\"automargin\":true,\"type\":\"pie\"}],\"scatter3d\":[{\"line\":{\"colorbar\":{\"outlinewidth\":0,\"ticks\":\"\"}},\"marker\":{\"colorbar\":{\"outlinewidth\":0,\"ticks\":\"\"}},\"type\":\"scatter3d\"}],\"scattercarpet\":[{\"marker\":{\"colorbar\":{\"outlinewidth\":0,\"ticks\":\"\"}},\"type\":\"scattercarpet\"}],\"scattergeo\":[{\"marker\":{\"colorbar\":{\"outlinewidth\":0,\"ticks\":\"\"}},\"type\":\"scattergeo\"}],\"scattergl\":[{\"marker\":{\"colorbar\":{\"outlinewidth\":0,\"ticks\":\"\"}},\"type\":\"scattergl\"}],\"scattermapbox\":[{\"marker\":{\"colorbar\":{\"outlinewidth\":0,\"ticks\":\"\"}},\"type\":\"scattermapbox\"}],\"scatterpolargl\":[{\"marker\":{\"colorbar\":{\"outlinewidth\":0,\"ticks\":\"\"}},\"type\":\"scatterpolargl\"}],\"scatterpolar\":[{\"marker\":{\"colorbar\":{\"outlinewidth\":0,\"ticks\":\"\"}},\"type\":\"scatterpolar\"}],\"scatter\":[{\"fillpattern\":{\"fillmode\":\"overlay\",\"size\":10,\"solidity\":0.2},\"type\":\"scatter\"}],\"scatterternary\":[{\"marker\":{\"colorbar\":{\"outlinewidth\":0,\"ticks\":\"\"}},\"type\":\"scatterternary\"}],\"surface\":[{\"colorbar\":{\"outlinewidth\":0,\"ticks\":\"\"},\"colorscale\":[[0.0,\"#0d0887\"],[0.1111111111111111,\"#46039f\"],[0.2222222222222222,\"#7201a8\"],[0.3333333333333333,\"#9c179e\"],[0.4444444444444444,\"#bd3786\"],[0.5555555555555556,\"#d8576b\"],[0.6666666666666666,\"#ed7953\"],[0.7777777777777778,\"#fb9f3a\"],[0.8888888888888888,\"#fdca26\"],[1.0,\"#f0f921\"]],\"type\":\"surface\"}],\"table\":[{\"cells\":{\"fill\":{\"color\":\"#EBF0F8\"},\"line\":{\"color\":\"white\"}},\"header\":{\"fill\":{\"color\":\"#C8D4E3\"},\"line\":{\"color\":\"white\"}},\"type\":\"table\"}]},\"layout\":{\"annotationdefaults\":{\"arrowcolor\":\"#2a3f5f\",\"arrowhead\":0,\"arrowwidth\":1},\"autotypenumbers\":\"strict\",\"coloraxis\":{\"colorbar\":{\"outlinewidth\":0,\"ticks\":\"\"}},\"colorscale\":{\"diverging\":[[0,\"#8e0152\"],[0.1,\"#c51b7d\"],[0.2,\"#de77ae\"],[0.3,\"#f1b6da\"],[0.4,\"#fde0ef\"],[0.5,\"#f7f7f7\"],[0.6,\"#e6f5d0\"],[0.7,\"#b8e186\"],[0.8,\"#7fbc41\"],[0.9,\"#4d9221\"],[1,\"#276419\"]],\"sequential\":[[0.0,\"#0d0887\"],[0.1111111111111111,\"#46039f\"],[0.2222222222222222,\"#7201a8\"],[0.3333333333333333,\"#9c179e\"],[0.4444444444444444,\"#bd3786\"],[0.5555555555555556,\"#d8576b\"],[0.6666666666666666,\"#ed7953\"],[0.7777777777777778,\"#fb9f3a\"],[0.8888888888888888,\"#fdca26\"],[1.0,\"#f0f921\"]],\"sequentialminus\":[[0.0,\"#0d0887\"],[0.1111111111111111,\"#46039f\"],[0.2222222222222222,\"#7201a8\"],[0.3333333333333333,\"#9c179e\"],[0.4444444444444444,\"#bd3786\"],[0.5555555555555556,\"#d8576b\"],[0.6666666666666666,\"#ed7953\"],[0.7777777777777778,\"#fb9f3a\"],[0.8888888888888888,\"#fdca26\"],[1.0,\"#f0f921\"]]},\"colorway\":[\"#636efa\",\"#EF553B\",\"#00cc96\",\"#ab63fa\",\"#FFA15A\",\"#19d3f3\",\"#FF6692\",\"#B6E880\",\"#FF97FF\",\"#FECB52\"],\"font\":{\"color\":\"#2a3f5f\"},\"geo\":{\"bgcolor\":\"white\",\"lakecolor\":\"white\",\"landcolor\":\"#E5ECF6\",\"showlakes\":true,\"showland\":true,\"subunitcolor\":\"white\"},\"hoverlabel\":{\"align\":\"left\"},\"hovermode\":\"closest\",\"mapbox\":{\"style\":\"light\"},\"paper_bgcolor\":\"white\",\"plot_bgcolor\":\"#E5ECF6\",\"polar\":{\"angularaxis\":{\"gridcolor\":\"white\",\"linecolor\":\"white\",\"ticks\":\"\"},\"bgcolor\":\"#E5ECF6\",\"radialaxis\":{\"gridcolor\":\"white\",\"linecolor\":\"white\",\"ticks\":\"\"}},\"scene\":{\"xaxis\":{\"backgroundcolor\":\"#E5ECF6\",\"gridcolor\":\"white\",\"gridwidth\":2,\"linecolor\":\"white\",\"showbackground\":true,\"ticks\":\"\",\"zerolinecolor\":\"white\"},\"yaxis\":{\"backgroundcolor\":\"#E5ECF6\",\"gridcolor\":\"white\",\"gridwidth\":2,\"linecolor\":\"white\",\"showbackground\":true,\"ticks\":\"\",\"zerolinecolor\":\"white\"},\"zaxis\":{\"backgroundcolor\":\"#E5ECF6\",\"gridcolor\":\"white\",\"gridwidth\":2,\"linecolor\":\"white\",\"showbackground\":true,\"ticks\":\"\",\"zerolinecolor\":\"white\"}},\"shapedefaults\":{\"line\":{\"color\":\"#2a3f5f\"}},\"ternary\":{\"aaxis\":{\"gridcolor\":\"white\",\"linecolor\":\"white\",\"ticks\":\"\"},\"baxis\":{\"gridcolor\":\"white\",\"linecolor\":\"white\",\"ticks\":\"\"},\"bgcolor\":\"#E5ECF6\",\"caxis\":{\"gridcolor\":\"white\",\"linecolor\":\"white\",\"ticks\":\"\"}},\"title\":{\"x\":0.05},\"xaxis\":{\"automargin\":true,\"gridcolor\":\"white\",\"linecolor\":\"white\",\"ticks\":\"\",\"title\":{\"standoff\":15},\"zerolinecolor\":\"white\",\"zerolinewidth\":2},\"yaxis\":{\"automargin\":true,\"gridcolor\":\"white\",\"linecolor\":\"white\",\"ticks\":\"\",\"title\":{\"standoff\":15},\"zerolinecolor\":\"white\",\"zerolinewidth\":2}}},\"title\":{\"font\":{\"color\":\"#4D5663\"}},\"xaxis\":{\"gridcolor\":\"#E1E5ED\",\"showgrid\":true,\"tickfont\":{\"color\":\"#4D5663\"},\"title\":{\"font\":{\"color\":\"#4D5663\"},\"text\":\"\"},\"zerolinecolor\":\"#E1E5ED\"},\"yaxis\":{\"gridcolor\":\"#E1E5ED\",\"showgrid\":true,\"tickfont\":{\"color\":\"#4D5663\"},\"title\":{\"font\":{\"color\":\"#4D5663\"},\"text\":\"\"},\"zerolinecolor\":\"#E1E5ED\"}},                        {\"showLink\": true, \"linkText\": \"Export to plot.ly\", \"plotlyServerURL\": \"https://plot.ly\", \"responsive\": true}                    ).then(function(){\n",
       "                            \n",
       "var gd = document.getElementById('ebf61d60-32b3-4e31-97d5-1c502102a97a');\n",
       "var x = new MutationObserver(function (mutations, observer) {{\n",
       "        var display = window.getComputedStyle(gd).display;\n",
       "        if (!display || display === 'none') {{\n",
       "            console.log([gd, 'removed!']);\n",
       "            Plotly.purge(gd);\n",
       "            observer.disconnect();\n",
       "        }}\n",
       "}});\n",
       "\n",
       "// Listen for the removal of the full notebook cells\n",
       "var notebookContainer = gd.closest('#notebook-container');\n",
       "if (notebookContainer) {{\n",
       "    x.observe(notebookContainer, {childList: true});\n",
       "}}\n",
       "\n",
       "// Listen for the clearing of the current output cell\n",
       "var outputEl = gd.closest('.output');\n",
       "if (outputEl) {{\n",
       "    x.observe(outputEl, {childList: true});\n",
       "}}\n",
       "\n",
       "                        })                };                });            </script>        </div>"
      ]
     },
     "metadata": {},
     "output_type": "display_data"
    }
   ],
   "source": [
    "df.iplot(kind='bar')"
   ]
  },
  {
   "cell_type": "code",
   "execution_count": 39,
   "id": "7e1cd2a9",
   "metadata": {},
   "outputs": [
    {
     "data": {
      "application/vnd.plotly.v1+json": {
       "config": {
        "linkText": "Export to plot.ly",
        "plotlyServerURL": "https://plot.ly",
        "showLink": true
       },
       "data": [
        {
         "marker": {
          "color": "rgba(255, 153, 51, 0.6)",
          "line": {
           "color": "rgba(255, 153, 51, 1.0)",
           "width": 1
          }
         },
         "name": "None",
         "orientation": "v",
         "text": "",
         "type": "bar",
         "x": [
          "A",
          "B",
          "C",
          "D"
         ],
         "y": [
          100,
          100,
          100,
          100
         ]
        }
       ],
       "layout": {
        "legend": {
         "bgcolor": "#F5F6F9",
         "font": {
          "color": "#4D5663"
         }
        },
        "paper_bgcolor": "#F5F6F9",
        "plot_bgcolor": "#F5F6F9",
        "template": {
         "data": {
          "bar": [
           {
            "error_x": {
             "color": "#2a3f5f"
            },
            "error_y": {
             "color": "#2a3f5f"
            },
            "marker": {
             "line": {
              "color": "#E5ECF6",
              "width": 0.5
             },
             "pattern": {
              "fillmode": "overlay",
              "size": 10,
              "solidity": 0.2
             }
            },
            "type": "bar"
           }
          ],
          "barpolar": [
           {
            "marker": {
             "line": {
              "color": "#E5ECF6",
              "width": 0.5
             },
             "pattern": {
              "fillmode": "overlay",
              "size": 10,
              "solidity": 0.2
             }
            },
            "type": "barpolar"
           }
          ],
          "carpet": [
           {
            "aaxis": {
             "endlinecolor": "#2a3f5f",
             "gridcolor": "white",
             "linecolor": "white",
             "minorgridcolor": "white",
             "startlinecolor": "#2a3f5f"
            },
            "baxis": {
             "endlinecolor": "#2a3f5f",
             "gridcolor": "white",
             "linecolor": "white",
             "minorgridcolor": "white",
             "startlinecolor": "#2a3f5f"
            },
            "type": "carpet"
           }
          ],
          "choropleth": [
           {
            "colorbar": {
             "outlinewidth": 0,
             "ticks": ""
            },
            "type": "choropleth"
           }
          ],
          "contour": [
           {
            "colorbar": {
             "outlinewidth": 0,
             "ticks": ""
            },
            "colorscale": [
             [
              0,
              "#0d0887"
             ],
             [
              0.1111111111111111,
              "#46039f"
             ],
             [
              0.2222222222222222,
              "#7201a8"
             ],
             [
              0.3333333333333333,
              "#9c179e"
             ],
             [
              0.4444444444444444,
              "#bd3786"
             ],
             [
              0.5555555555555556,
              "#d8576b"
             ],
             [
              0.6666666666666666,
              "#ed7953"
             ],
             [
              0.7777777777777778,
              "#fb9f3a"
             ],
             [
              0.8888888888888888,
              "#fdca26"
             ],
             [
              1,
              "#f0f921"
             ]
            ],
            "type": "contour"
           }
          ],
          "contourcarpet": [
           {
            "colorbar": {
             "outlinewidth": 0,
             "ticks": ""
            },
            "type": "contourcarpet"
           }
          ],
          "heatmap": [
           {
            "colorbar": {
             "outlinewidth": 0,
             "ticks": ""
            },
            "colorscale": [
             [
              0,
              "#0d0887"
             ],
             [
              0.1111111111111111,
              "#46039f"
             ],
             [
              0.2222222222222222,
              "#7201a8"
             ],
             [
              0.3333333333333333,
              "#9c179e"
             ],
             [
              0.4444444444444444,
              "#bd3786"
             ],
             [
              0.5555555555555556,
              "#d8576b"
             ],
             [
              0.6666666666666666,
              "#ed7953"
             ],
             [
              0.7777777777777778,
              "#fb9f3a"
             ],
             [
              0.8888888888888888,
              "#fdca26"
             ],
             [
              1,
              "#f0f921"
             ]
            ],
            "type": "heatmap"
           }
          ],
          "heatmapgl": [
           {
            "colorbar": {
             "outlinewidth": 0,
             "ticks": ""
            },
            "colorscale": [
             [
              0,
              "#0d0887"
             ],
             [
              0.1111111111111111,
              "#46039f"
             ],
             [
              0.2222222222222222,
              "#7201a8"
             ],
             [
              0.3333333333333333,
              "#9c179e"
             ],
             [
              0.4444444444444444,
              "#bd3786"
             ],
             [
              0.5555555555555556,
              "#d8576b"
             ],
             [
              0.6666666666666666,
              "#ed7953"
             ],
             [
              0.7777777777777778,
              "#fb9f3a"
             ],
             [
              0.8888888888888888,
              "#fdca26"
             ],
             [
              1,
              "#f0f921"
             ]
            ],
            "type": "heatmapgl"
           }
          ],
          "histogram": [
           {
            "marker": {
             "pattern": {
              "fillmode": "overlay",
              "size": 10,
              "solidity": 0.2
             }
            },
            "type": "histogram"
           }
          ],
          "histogram2d": [
           {
            "colorbar": {
             "outlinewidth": 0,
             "ticks": ""
            },
            "colorscale": [
             [
              0,
              "#0d0887"
             ],
             [
              0.1111111111111111,
              "#46039f"
             ],
             [
              0.2222222222222222,
              "#7201a8"
             ],
             [
              0.3333333333333333,
              "#9c179e"
             ],
             [
              0.4444444444444444,
              "#bd3786"
             ],
             [
              0.5555555555555556,
              "#d8576b"
             ],
             [
              0.6666666666666666,
              "#ed7953"
             ],
             [
              0.7777777777777778,
              "#fb9f3a"
             ],
             [
              0.8888888888888888,
              "#fdca26"
             ],
             [
              1,
              "#f0f921"
             ]
            ],
            "type": "histogram2d"
           }
          ],
          "histogram2dcontour": [
           {
            "colorbar": {
             "outlinewidth": 0,
             "ticks": ""
            },
            "colorscale": [
             [
              0,
              "#0d0887"
             ],
             [
              0.1111111111111111,
              "#46039f"
             ],
             [
              0.2222222222222222,
              "#7201a8"
             ],
             [
              0.3333333333333333,
              "#9c179e"
             ],
             [
              0.4444444444444444,
              "#bd3786"
             ],
             [
              0.5555555555555556,
              "#d8576b"
             ],
             [
              0.6666666666666666,
              "#ed7953"
             ],
             [
              0.7777777777777778,
              "#fb9f3a"
             ],
             [
              0.8888888888888888,
              "#fdca26"
             ],
             [
              1,
              "#f0f921"
             ]
            ],
            "type": "histogram2dcontour"
           }
          ],
          "mesh3d": [
           {
            "colorbar": {
             "outlinewidth": 0,
             "ticks": ""
            },
            "type": "mesh3d"
           }
          ],
          "parcoords": [
           {
            "line": {
             "colorbar": {
              "outlinewidth": 0,
              "ticks": ""
             }
            },
            "type": "parcoords"
           }
          ],
          "pie": [
           {
            "automargin": true,
            "type": "pie"
           }
          ],
          "scatter": [
           {
            "fillpattern": {
             "fillmode": "overlay",
             "size": 10,
             "solidity": 0.2
            },
            "type": "scatter"
           }
          ],
          "scatter3d": [
           {
            "line": {
             "colorbar": {
              "outlinewidth": 0,
              "ticks": ""
             }
            },
            "marker": {
             "colorbar": {
              "outlinewidth": 0,
              "ticks": ""
             }
            },
            "type": "scatter3d"
           }
          ],
          "scattercarpet": [
           {
            "marker": {
             "colorbar": {
              "outlinewidth": 0,
              "ticks": ""
             }
            },
            "type": "scattercarpet"
           }
          ],
          "scattergeo": [
           {
            "marker": {
             "colorbar": {
              "outlinewidth": 0,
              "ticks": ""
             }
            },
            "type": "scattergeo"
           }
          ],
          "scattergl": [
           {
            "marker": {
             "colorbar": {
              "outlinewidth": 0,
              "ticks": ""
             }
            },
            "type": "scattergl"
           }
          ],
          "scattermapbox": [
           {
            "marker": {
             "colorbar": {
              "outlinewidth": 0,
              "ticks": ""
             }
            },
            "type": "scattermapbox"
           }
          ],
          "scatterpolar": [
           {
            "marker": {
             "colorbar": {
              "outlinewidth": 0,
              "ticks": ""
             }
            },
            "type": "scatterpolar"
           }
          ],
          "scatterpolargl": [
           {
            "marker": {
             "colorbar": {
              "outlinewidth": 0,
              "ticks": ""
             }
            },
            "type": "scatterpolargl"
           }
          ],
          "scatterternary": [
           {
            "marker": {
             "colorbar": {
              "outlinewidth": 0,
              "ticks": ""
             }
            },
            "type": "scatterternary"
           }
          ],
          "surface": [
           {
            "colorbar": {
             "outlinewidth": 0,
             "ticks": ""
            },
            "colorscale": [
             [
              0,
              "#0d0887"
             ],
             [
              0.1111111111111111,
              "#46039f"
             ],
             [
              0.2222222222222222,
              "#7201a8"
             ],
             [
              0.3333333333333333,
              "#9c179e"
             ],
             [
              0.4444444444444444,
              "#bd3786"
             ],
             [
              0.5555555555555556,
              "#d8576b"
             ],
             [
              0.6666666666666666,
              "#ed7953"
             ],
             [
              0.7777777777777778,
              "#fb9f3a"
             ],
             [
              0.8888888888888888,
              "#fdca26"
             ],
             [
              1,
              "#f0f921"
             ]
            ],
            "type": "surface"
           }
          ],
          "table": [
           {
            "cells": {
             "fill": {
              "color": "#EBF0F8"
             },
             "line": {
              "color": "white"
             }
            },
            "header": {
             "fill": {
              "color": "#C8D4E3"
             },
             "line": {
              "color": "white"
             }
            },
            "type": "table"
           }
          ]
         },
         "layout": {
          "annotationdefaults": {
           "arrowcolor": "#2a3f5f",
           "arrowhead": 0,
           "arrowwidth": 1
          },
          "autotypenumbers": "strict",
          "coloraxis": {
           "colorbar": {
            "outlinewidth": 0,
            "ticks": ""
           }
          },
          "colorscale": {
           "diverging": [
            [
             0,
             "#8e0152"
            ],
            [
             0.1,
             "#c51b7d"
            ],
            [
             0.2,
             "#de77ae"
            ],
            [
             0.3,
             "#f1b6da"
            ],
            [
             0.4,
             "#fde0ef"
            ],
            [
             0.5,
             "#f7f7f7"
            ],
            [
             0.6,
             "#e6f5d0"
            ],
            [
             0.7,
             "#b8e186"
            ],
            [
             0.8,
             "#7fbc41"
            ],
            [
             0.9,
             "#4d9221"
            ],
            [
             1,
             "#276419"
            ]
           ],
           "sequential": [
            [
             0,
             "#0d0887"
            ],
            [
             0.1111111111111111,
             "#46039f"
            ],
            [
             0.2222222222222222,
             "#7201a8"
            ],
            [
             0.3333333333333333,
             "#9c179e"
            ],
            [
             0.4444444444444444,
             "#bd3786"
            ],
            [
             0.5555555555555556,
             "#d8576b"
            ],
            [
             0.6666666666666666,
             "#ed7953"
            ],
            [
             0.7777777777777778,
             "#fb9f3a"
            ],
            [
             0.8888888888888888,
             "#fdca26"
            ],
            [
             1,
             "#f0f921"
            ]
           ],
           "sequentialminus": [
            [
             0,
             "#0d0887"
            ],
            [
             0.1111111111111111,
             "#46039f"
            ],
            [
             0.2222222222222222,
             "#7201a8"
            ],
            [
             0.3333333333333333,
             "#9c179e"
            ],
            [
             0.4444444444444444,
             "#bd3786"
            ],
            [
             0.5555555555555556,
             "#d8576b"
            ],
            [
             0.6666666666666666,
             "#ed7953"
            ],
            [
             0.7777777777777778,
             "#fb9f3a"
            ],
            [
             0.8888888888888888,
             "#fdca26"
            ],
            [
             1,
             "#f0f921"
            ]
           ]
          },
          "colorway": [
           "#636efa",
           "#EF553B",
           "#00cc96",
           "#ab63fa",
           "#FFA15A",
           "#19d3f3",
           "#FF6692",
           "#B6E880",
           "#FF97FF",
           "#FECB52"
          ],
          "font": {
           "color": "#2a3f5f"
          },
          "geo": {
           "bgcolor": "white",
           "lakecolor": "white",
           "landcolor": "#E5ECF6",
           "showlakes": true,
           "showland": true,
           "subunitcolor": "white"
          },
          "hoverlabel": {
           "align": "left"
          },
          "hovermode": "closest",
          "mapbox": {
           "style": "light"
          },
          "paper_bgcolor": "white",
          "plot_bgcolor": "#E5ECF6",
          "polar": {
           "angularaxis": {
            "gridcolor": "white",
            "linecolor": "white",
            "ticks": ""
           },
           "bgcolor": "#E5ECF6",
           "radialaxis": {
            "gridcolor": "white",
            "linecolor": "white",
            "ticks": ""
           }
          },
          "scene": {
           "xaxis": {
            "backgroundcolor": "#E5ECF6",
            "gridcolor": "white",
            "gridwidth": 2,
            "linecolor": "white",
            "showbackground": true,
            "ticks": "",
            "zerolinecolor": "white"
           },
           "yaxis": {
            "backgroundcolor": "#E5ECF6",
            "gridcolor": "white",
            "gridwidth": 2,
            "linecolor": "white",
            "showbackground": true,
            "ticks": "",
            "zerolinecolor": "white"
           },
           "zaxis": {
            "backgroundcolor": "#E5ECF6",
            "gridcolor": "white",
            "gridwidth": 2,
            "linecolor": "white",
            "showbackground": true,
            "ticks": "",
            "zerolinecolor": "white"
           }
          },
          "shapedefaults": {
           "line": {
            "color": "#2a3f5f"
           }
          },
          "ternary": {
           "aaxis": {
            "gridcolor": "white",
            "linecolor": "white",
            "ticks": ""
           },
           "baxis": {
            "gridcolor": "white",
            "linecolor": "white",
            "ticks": ""
           },
           "bgcolor": "#E5ECF6",
           "caxis": {
            "gridcolor": "white",
            "linecolor": "white",
            "ticks": ""
           }
          },
          "title": {
           "x": 0.05
          },
          "xaxis": {
           "automargin": true,
           "gridcolor": "white",
           "linecolor": "white",
           "ticks": "",
           "title": {
            "standoff": 15
           },
           "zerolinecolor": "white",
           "zerolinewidth": 2
          },
          "yaxis": {
           "automargin": true,
           "gridcolor": "white",
           "linecolor": "white",
           "ticks": "",
           "title": {
            "standoff": 15
           },
           "zerolinecolor": "white",
           "zerolinewidth": 2
          }
         }
        },
        "title": {
         "font": {
          "color": "#4D5663"
         }
        },
        "xaxis": {
         "gridcolor": "#E1E5ED",
         "showgrid": true,
         "tickfont": {
          "color": "#4D5663"
         },
         "title": {
          "font": {
           "color": "#4D5663"
          },
          "text": ""
         },
         "zerolinecolor": "#E1E5ED"
        },
        "yaxis": {
         "gridcolor": "#E1E5ED",
         "showgrid": true,
         "tickfont": {
          "color": "#4D5663"
         },
         "title": {
          "font": {
           "color": "#4D5663"
          },
          "text": ""
         },
         "zerolinecolor": "#E1E5ED"
        }
       }
      },
      "text/html": [
       "<div>                            <div id=\"bc402383-eb45-47ee-b3b0-ea405a7b4966\" class=\"plotly-graph-div\" style=\"height:525px; width:100%;\"></div>            <script type=\"text/javascript\">                require([\"plotly\"], function(Plotly) {                    window.PLOTLYENV=window.PLOTLYENV || {};\n",
       "                    window.PLOTLYENV.BASE_URL='https://plot.ly';                                    if (document.getElementById(\"bc402383-eb45-47ee-b3b0-ea405a7b4966\")) {                    Plotly.newPlot(                        \"bc402383-eb45-47ee-b3b0-ea405a7b4966\",                        [{\"marker\":{\"color\":\"rgba(255, 153, 51, 0.6)\",\"line\":{\"color\":\"rgba(255, 153, 51, 1.0)\",\"width\":1}},\"name\":\"None\",\"orientation\":\"v\",\"text\":\"\",\"x\":[\"A\",\"B\",\"C\",\"D\"],\"y\":[100,100,100,100],\"type\":\"bar\"}],                        {\"legend\":{\"bgcolor\":\"#F5F6F9\",\"font\":{\"color\":\"#4D5663\"}},\"paper_bgcolor\":\"#F5F6F9\",\"plot_bgcolor\":\"#F5F6F9\",\"template\":{\"data\":{\"barpolar\":[{\"marker\":{\"line\":{\"color\":\"#E5ECF6\",\"width\":0.5},\"pattern\":{\"fillmode\":\"overlay\",\"size\":10,\"solidity\":0.2}},\"type\":\"barpolar\"}],\"bar\":[{\"error_x\":{\"color\":\"#2a3f5f\"},\"error_y\":{\"color\":\"#2a3f5f\"},\"marker\":{\"line\":{\"color\":\"#E5ECF6\",\"width\":0.5},\"pattern\":{\"fillmode\":\"overlay\",\"size\":10,\"solidity\":0.2}},\"type\":\"bar\"}],\"carpet\":[{\"aaxis\":{\"endlinecolor\":\"#2a3f5f\",\"gridcolor\":\"white\",\"linecolor\":\"white\",\"minorgridcolor\":\"white\",\"startlinecolor\":\"#2a3f5f\"},\"baxis\":{\"endlinecolor\":\"#2a3f5f\",\"gridcolor\":\"white\",\"linecolor\":\"white\",\"minorgridcolor\":\"white\",\"startlinecolor\":\"#2a3f5f\"},\"type\":\"carpet\"}],\"choropleth\":[{\"colorbar\":{\"outlinewidth\":0,\"ticks\":\"\"},\"type\":\"choropleth\"}],\"contourcarpet\":[{\"colorbar\":{\"outlinewidth\":0,\"ticks\":\"\"},\"type\":\"contourcarpet\"}],\"contour\":[{\"colorbar\":{\"outlinewidth\":0,\"ticks\":\"\"},\"colorscale\":[[0.0,\"#0d0887\"],[0.1111111111111111,\"#46039f\"],[0.2222222222222222,\"#7201a8\"],[0.3333333333333333,\"#9c179e\"],[0.4444444444444444,\"#bd3786\"],[0.5555555555555556,\"#d8576b\"],[0.6666666666666666,\"#ed7953\"],[0.7777777777777778,\"#fb9f3a\"],[0.8888888888888888,\"#fdca26\"],[1.0,\"#f0f921\"]],\"type\":\"contour\"}],\"heatmapgl\":[{\"colorbar\":{\"outlinewidth\":0,\"ticks\":\"\"},\"colorscale\":[[0.0,\"#0d0887\"],[0.1111111111111111,\"#46039f\"],[0.2222222222222222,\"#7201a8\"],[0.3333333333333333,\"#9c179e\"],[0.4444444444444444,\"#bd3786\"],[0.5555555555555556,\"#d8576b\"],[0.6666666666666666,\"#ed7953\"],[0.7777777777777778,\"#fb9f3a\"],[0.8888888888888888,\"#fdca26\"],[1.0,\"#f0f921\"]],\"type\":\"heatmapgl\"}],\"heatmap\":[{\"colorbar\":{\"outlinewidth\":0,\"ticks\":\"\"},\"colorscale\":[[0.0,\"#0d0887\"],[0.1111111111111111,\"#46039f\"],[0.2222222222222222,\"#7201a8\"],[0.3333333333333333,\"#9c179e\"],[0.4444444444444444,\"#bd3786\"],[0.5555555555555556,\"#d8576b\"],[0.6666666666666666,\"#ed7953\"],[0.7777777777777778,\"#fb9f3a\"],[0.8888888888888888,\"#fdca26\"],[1.0,\"#f0f921\"]],\"type\":\"heatmap\"}],\"histogram2dcontour\":[{\"colorbar\":{\"outlinewidth\":0,\"ticks\":\"\"},\"colorscale\":[[0.0,\"#0d0887\"],[0.1111111111111111,\"#46039f\"],[0.2222222222222222,\"#7201a8\"],[0.3333333333333333,\"#9c179e\"],[0.4444444444444444,\"#bd3786\"],[0.5555555555555556,\"#d8576b\"],[0.6666666666666666,\"#ed7953\"],[0.7777777777777778,\"#fb9f3a\"],[0.8888888888888888,\"#fdca26\"],[1.0,\"#f0f921\"]],\"type\":\"histogram2dcontour\"}],\"histogram2d\":[{\"colorbar\":{\"outlinewidth\":0,\"ticks\":\"\"},\"colorscale\":[[0.0,\"#0d0887\"],[0.1111111111111111,\"#46039f\"],[0.2222222222222222,\"#7201a8\"],[0.3333333333333333,\"#9c179e\"],[0.4444444444444444,\"#bd3786\"],[0.5555555555555556,\"#d8576b\"],[0.6666666666666666,\"#ed7953\"],[0.7777777777777778,\"#fb9f3a\"],[0.8888888888888888,\"#fdca26\"],[1.0,\"#f0f921\"]],\"type\":\"histogram2d\"}],\"histogram\":[{\"marker\":{\"pattern\":{\"fillmode\":\"overlay\",\"size\":10,\"solidity\":0.2}},\"type\":\"histogram\"}],\"mesh3d\":[{\"colorbar\":{\"outlinewidth\":0,\"ticks\":\"\"},\"type\":\"mesh3d\"}],\"parcoords\":[{\"line\":{\"colorbar\":{\"outlinewidth\":0,\"ticks\":\"\"}},\"type\":\"parcoords\"}],\"pie\":[{\"automargin\":true,\"type\":\"pie\"}],\"scatter3d\":[{\"line\":{\"colorbar\":{\"outlinewidth\":0,\"ticks\":\"\"}},\"marker\":{\"colorbar\":{\"outlinewidth\":0,\"ticks\":\"\"}},\"type\":\"scatter3d\"}],\"scattercarpet\":[{\"marker\":{\"colorbar\":{\"outlinewidth\":0,\"ticks\":\"\"}},\"type\":\"scattercarpet\"}],\"scattergeo\":[{\"marker\":{\"colorbar\":{\"outlinewidth\":0,\"ticks\":\"\"}},\"type\":\"scattergeo\"}],\"scattergl\":[{\"marker\":{\"colorbar\":{\"outlinewidth\":0,\"ticks\":\"\"}},\"type\":\"scattergl\"}],\"scattermapbox\":[{\"marker\":{\"colorbar\":{\"outlinewidth\":0,\"ticks\":\"\"}},\"type\":\"scattermapbox\"}],\"scatterpolargl\":[{\"marker\":{\"colorbar\":{\"outlinewidth\":0,\"ticks\":\"\"}},\"type\":\"scatterpolargl\"}],\"scatterpolar\":[{\"marker\":{\"colorbar\":{\"outlinewidth\":0,\"ticks\":\"\"}},\"type\":\"scatterpolar\"}],\"scatter\":[{\"fillpattern\":{\"fillmode\":\"overlay\",\"size\":10,\"solidity\":0.2},\"type\":\"scatter\"}],\"scatterternary\":[{\"marker\":{\"colorbar\":{\"outlinewidth\":0,\"ticks\":\"\"}},\"type\":\"scatterternary\"}],\"surface\":[{\"colorbar\":{\"outlinewidth\":0,\"ticks\":\"\"},\"colorscale\":[[0.0,\"#0d0887\"],[0.1111111111111111,\"#46039f\"],[0.2222222222222222,\"#7201a8\"],[0.3333333333333333,\"#9c179e\"],[0.4444444444444444,\"#bd3786\"],[0.5555555555555556,\"#d8576b\"],[0.6666666666666666,\"#ed7953\"],[0.7777777777777778,\"#fb9f3a\"],[0.8888888888888888,\"#fdca26\"],[1.0,\"#f0f921\"]],\"type\":\"surface\"}],\"table\":[{\"cells\":{\"fill\":{\"color\":\"#EBF0F8\"},\"line\":{\"color\":\"white\"}},\"header\":{\"fill\":{\"color\":\"#C8D4E3\"},\"line\":{\"color\":\"white\"}},\"type\":\"table\"}]},\"layout\":{\"annotationdefaults\":{\"arrowcolor\":\"#2a3f5f\",\"arrowhead\":0,\"arrowwidth\":1},\"autotypenumbers\":\"strict\",\"coloraxis\":{\"colorbar\":{\"outlinewidth\":0,\"ticks\":\"\"}},\"colorscale\":{\"diverging\":[[0,\"#8e0152\"],[0.1,\"#c51b7d\"],[0.2,\"#de77ae\"],[0.3,\"#f1b6da\"],[0.4,\"#fde0ef\"],[0.5,\"#f7f7f7\"],[0.6,\"#e6f5d0\"],[0.7,\"#b8e186\"],[0.8,\"#7fbc41\"],[0.9,\"#4d9221\"],[1,\"#276419\"]],\"sequential\":[[0.0,\"#0d0887\"],[0.1111111111111111,\"#46039f\"],[0.2222222222222222,\"#7201a8\"],[0.3333333333333333,\"#9c179e\"],[0.4444444444444444,\"#bd3786\"],[0.5555555555555556,\"#d8576b\"],[0.6666666666666666,\"#ed7953\"],[0.7777777777777778,\"#fb9f3a\"],[0.8888888888888888,\"#fdca26\"],[1.0,\"#f0f921\"]],\"sequentialminus\":[[0.0,\"#0d0887\"],[0.1111111111111111,\"#46039f\"],[0.2222222222222222,\"#7201a8\"],[0.3333333333333333,\"#9c179e\"],[0.4444444444444444,\"#bd3786\"],[0.5555555555555556,\"#d8576b\"],[0.6666666666666666,\"#ed7953\"],[0.7777777777777778,\"#fb9f3a\"],[0.8888888888888888,\"#fdca26\"],[1.0,\"#f0f921\"]]},\"colorway\":[\"#636efa\",\"#EF553B\",\"#00cc96\",\"#ab63fa\",\"#FFA15A\",\"#19d3f3\",\"#FF6692\",\"#B6E880\",\"#FF97FF\",\"#FECB52\"],\"font\":{\"color\":\"#2a3f5f\"},\"geo\":{\"bgcolor\":\"white\",\"lakecolor\":\"white\",\"landcolor\":\"#E5ECF6\",\"showlakes\":true,\"showland\":true,\"subunitcolor\":\"white\"},\"hoverlabel\":{\"align\":\"left\"},\"hovermode\":\"closest\",\"mapbox\":{\"style\":\"light\"},\"paper_bgcolor\":\"white\",\"plot_bgcolor\":\"#E5ECF6\",\"polar\":{\"angularaxis\":{\"gridcolor\":\"white\",\"linecolor\":\"white\",\"ticks\":\"\"},\"bgcolor\":\"#E5ECF6\",\"radialaxis\":{\"gridcolor\":\"white\",\"linecolor\":\"white\",\"ticks\":\"\"}},\"scene\":{\"xaxis\":{\"backgroundcolor\":\"#E5ECF6\",\"gridcolor\":\"white\",\"gridwidth\":2,\"linecolor\":\"white\",\"showbackground\":true,\"ticks\":\"\",\"zerolinecolor\":\"white\"},\"yaxis\":{\"backgroundcolor\":\"#E5ECF6\",\"gridcolor\":\"white\",\"gridwidth\":2,\"linecolor\":\"white\",\"showbackground\":true,\"ticks\":\"\",\"zerolinecolor\":\"white\"},\"zaxis\":{\"backgroundcolor\":\"#E5ECF6\",\"gridcolor\":\"white\",\"gridwidth\":2,\"linecolor\":\"white\",\"showbackground\":true,\"ticks\":\"\",\"zerolinecolor\":\"white\"}},\"shapedefaults\":{\"line\":{\"color\":\"#2a3f5f\"}},\"ternary\":{\"aaxis\":{\"gridcolor\":\"white\",\"linecolor\":\"white\",\"ticks\":\"\"},\"baxis\":{\"gridcolor\":\"white\",\"linecolor\":\"white\",\"ticks\":\"\"},\"bgcolor\":\"#E5ECF6\",\"caxis\":{\"gridcolor\":\"white\",\"linecolor\":\"white\",\"ticks\":\"\"}},\"title\":{\"x\":0.05},\"xaxis\":{\"automargin\":true,\"gridcolor\":\"white\",\"linecolor\":\"white\",\"ticks\":\"\",\"title\":{\"standoff\":15},\"zerolinecolor\":\"white\",\"zerolinewidth\":2},\"yaxis\":{\"automargin\":true,\"gridcolor\":\"white\",\"linecolor\":\"white\",\"ticks\":\"\",\"title\":{\"standoff\":15},\"zerolinecolor\":\"white\",\"zerolinewidth\":2}}},\"title\":{\"font\":{\"color\":\"#4D5663\"}},\"xaxis\":{\"gridcolor\":\"#E1E5ED\",\"showgrid\":true,\"tickfont\":{\"color\":\"#4D5663\"},\"title\":{\"font\":{\"color\":\"#4D5663\"},\"text\":\"\"},\"zerolinecolor\":\"#E1E5ED\"},\"yaxis\":{\"gridcolor\":\"#E1E5ED\",\"showgrid\":true,\"tickfont\":{\"color\":\"#4D5663\"},\"title\":{\"font\":{\"color\":\"#4D5663\"},\"text\":\"\"},\"zerolinecolor\":\"#E1E5ED\"}},                        {\"showLink\": true, \"linkText\": \"Export to plot.ly\", \"plotlyServerURL\": \"https://plot.ly\", \"responsive\": true}                    ).then(function(){\n",
       "                            \n",
       "var gd = document.getElementById('bc402383-eb45-47ee-b3b0-ea405a7b4966');\n",
       "var x = new MutationObserver(function (mutations, observer) {{\n",
       "        var display = window.getComputedStyle(gd).display;\n",
       "        if (!display || display === 'none') {{\n",
       "            console.log([gd, 'removed!']);\n",
       "            Plotly.purge(gd);\n",
       "            observer.disconnect();\n",
       "        }}\n",
       "}});\n",
       "\n",
       "// Listen for the removal of the full notebook cells\n",
       "var notebookContainer = gd.closest('#notebook-container');\n",
       "if (notebookContainer) {{\n",
       "    x.observe(notebookContainer, {childList: true});\n",
       "}}\n",
       "\n",
       "// Listen for the clearing of the current output cell\n",
       "var outputEl = gd.closest('.output');\n",
       "if (outputEl) {{\n",
       "    x.observe(outputEl, {childList: true});\n",
       "}}\n",
       "\n",
       "                        })                };                });            </script>        </div>"
      ]
     },
     "metadata": {},
     "output_type": "display_data"
    }
   ],
   "source": [
    "df.count().iplot(kind='bar')"
   ]
  },
  {
   "cell_type": "code",
   "execution_count": 40,
   "id": "c03a3def",
   "metadata": {},
   "outputs": [
    {
     "data": {
      "application/vnd.plotly.v1+json": {
       "config": {
        "linkText": "Export to plot.ly",
        "plotlyServerURL": "https://plot.ly",
        "showLink": true
       },
       "data": [
        {
         "marker": {
          "color": "rgba(255, 153, 51, 0.6)",
          "line": {
           "color": "rgba(255, 153, 51, 1.0)",
           "width": 1
          }
         },
         "name": "None",
         "orientation": "v",
         "text": "",
         "type": "bar",
         "x": [
          "A",
          "B",
          "C",
          "D"
         ],
         "y": [
          3.0997629924433103,
          -4.596487475927534,
          -1.5117917986704665,
          -2.7950583840398617
         ]
        }
       ],
       "layout": {
        "legend": {
         "bgcolor": "#F5F6F9",
         "font": {
          "color": "#4D5663"
         }
        },
        "paper_bgcolor": "#F5F6F9",
        "plot_bgcolor": "#F5F6F9",
        "template": {
         "data": {
          "bar": [
           {
            "error_x": {
             "color": "#2a3f5f"
            },
            "error_y": {
             "color": "#2a3f5f"
            },
            "marker": {
             "line": {
              "color": "#E5ECF6",
              "width": 0.5
             },
             "pattern": {
              "fillmode": "overlay",
              "size": 10,
              "solidity": 0.2
             }
            },
            "type": "bar"
           }
          ],
          "barpolar": [
           {
            "marker": {
             "line": {
              "color": "#E5ECF6",
              "width": 0.5
             },
             "pattern": {
              "fillmode": "overlay",
              "size": 10,
              "solidity": 0.2
             }
            },
            "type": "barpolar"
           }
          ],
          "carpet": [
           {
            "aaxis": {
             "endlinecolor": "#2a3f5f",
             "gridcolor": "white",
             "linecolor": "white",
             "minorgridcolor": "white",
             "startlinecolor": "#2a3f5f"
            },
            "baxis": {
             "endlinecolor": "#2a3f5f",
             "gridcolor": "white",
             "linecolor": "white",
             "minorgridcolor": "white",
             "startlinecolor": "#2a3f5f"
            },
            "type": "carpet"
           }
          ],
          "choropleth": [
           {
            "colorbar": {
             "outlinewidth": 0,
             "ticks": ""
            },
            "type": "choropleth"
           }
          ],
          "contour": [
           {
            "colorbar": {
             "outlinewidth": 0,
             "ticks": ""
            },
            "colorscale": [
             [
              0,
              "#0d0887"
             ],
             [
              0.1111111111111111,
              "#46039f"
             ],
             [
              0.2222222222222222,
              "#7201a8"
             ],
             [
              0.3333333333333333,
              "#9c179e"
             ],
             [
              0.4444444444444444,
              "#bd3786"
             ],
             [
              0.5555555555555556,
              "#d8576b"
             ],
             [
              0.6666666666666666,
              "#ed7953"
             ],
             [
              0.7777777777777778,
              "#fb9f3a"
             ],
             [
              0.8888888888888888,
              "#fdca26"
             ],
             [
              1,
              "#f0f921"
             ]
            ],
            "type": "contour"
           }
          ],
          "contourcarpet": [
           {
            "colorbar": {
             "outlinewidth": 0,
             "ticks": ""
            },
            "type": "contourcarpet"
           }
          ],
          "heatmap": [
           {
            "colorbar": {
             "outlinewidth": 0,
             "ticks": ""
            },
            "colorscale": [
             [
              0,
              "#0d0887"
             ],
             [
              0.1111111111111111,
              "#46039f"
             ],
             [
              0.2222222222222222,
              "#7201a8"
             ],
             [
              0.3333333333333333,
              "#9c179e"
             ],
             [
              0.4444444444444444,
              "#bd3786"
             ],
             [
              0.5555555555555556,
              "#d8576b"
             ],
             [
              0.6666666666666666,
              "#ed7953"
             ],
             [
              0.7777777777777778,
              "#fb9f3a"
             ],
             [
              0.8888888888888888,
              "#fdca26"
             ],
             [
              1,
              "#f0f921"
             ]
            ],
            "type": "heatmap"
           }
          ],
          "heatmapgl": [
           {
            "colorbar": {
             "outlinewidth": 0,
             "ticks": ""
            },
            "colorscale": [
             [
              0,
              "#0d0887"
             ],
             [
              0.1111111111111111,
              "#46039f"
             ],
             [
              0.2222222222222222,
              "#7201a8"
             ],
             [
              0.3333333333333333,
              "#9c179e"
             ],
             [
              0.4444444444444444,
              "#bd3786"
             ],
             [
              0.5555555555555556,
              "#d8576b"
             ],
             [
              0.6666666666666666,
              "#ed7953"
             ],
             [
              0.7777777777777778,
              "#fb9f3a"
             ],
             [
              0.8888888888888888,
              "#fdca26"
             ],
             [
              1,
              "#f0f921"
             ]
            ],
            "type": "heatmapgl"
           }
          ],
          "histogram": [
           {
            "marker": {
             "pattern": {
              "fillmode": "overlay",
              "size": 10,
              "solidity": 0.2
             }
            },
            "type": "histogram"
           }
          ],
          "histogram2d": [
           {
            "colorbar": {
             "outlinewidth": 0,
             "ticks": ""
            },
            "colorscale": [
             [
              0,
              "#0d0887"
             ],
             [
              0.1111111111111111,
              "#46039f"
             ],
             [
              0.2222222222222222,
              "#7201a8"
             ],
             [
              0.3333333333333333,
              "#9c179e"
             ],
             [
              0.4444444444444444,
              "#bd3786"
             ],
             [
              0.5555555555555556,
              "#d8576b"
             ],
             [
              0.6666666666666666,
              "#ed7953"
             ],
             [
              0.7777777777777778,
              "#fb9f3a"
             ],
             [
              0.8888888888888888,
              "#fdca26"
             ],
             [
              1,
              "#f0f921"
             ]
            ],
            "type": "histogram2d"
           }
          ],
          "histogram2dcontour": [
           {
            "colorbar": {
             "outlinewidth": 0,
             "ticks": ""
            },
            "colorscale": [
             [
              0,
              "#0d0887"
             ],
             [
              0.1111111111111111,
              "#46039f"
             ],
             [
              0.2222222222222222,
              "#7201a8"
             ],
             [
              0.3333333333333333,
              "#9c179e"
             ],
             [
              0.4444444444444444,
              "#bd3786"
             ],
             [
              0.5555555555555556,
              "#d8576b"
             ],
             [
              0.6666666666666666,
              "#ed7953"
             ],
             [
              0.7777777777777778,
              "#fb9f3a"
             ],
             [
              0.8888888888888888,
              "#fdca26"
             ],
             [
              1,
              "#f0f921"
             ]
            ],
            "type": "histogram2dcontour"
           }
          ],
          "mesh3d": [
           {
            "colorbar": {
             "outlinewidth": 0,
             "ticks": ""
            },
            "type": "mesh3d"
           }
          ],
          "parcoords": [
           {
            "line": {
             "colorbar": {
              "outlinewidth": 0,
              "ticks": ""
             }
            },
            "type": "parcoords"
           }
          ],
          "pie": [
           {
            "automargin": true,
            "type": "pie"
           }
          ],
          "scatter": [
           {
            "fillpattern": {
             "fillmode": "overlay",
             "size": 10,
             "solidity": 0.2
            },
            "type": "scatter"
           }
          ],
          "scatter3d": [
           {
            "line": {
             "colorbar": {
              "outlinewidth": 0,
              "ticks": ""
             }
            },
            "marker": {
             "colorbar": {
              "outlinewidth": 0,
              "ticks": ""
             }
            },
            "type": "scatter3d"
           }
          ],
          "scattercarpet": [
           {
            "marker": {
             "colorbar": {
              "outlinewidth": 0,
              "ticks": ""
             }
            },
            "type": "scattercarpet"
           }
          ],
          "scattergeo": [
           {
            "marker": {
             "colorbar": {
              "outlinewidth": 0,
              "ticks": ""
             }
            },
            "type": "scattergeo"
           }
          ],
          "scattergl": [
           {
            "marker": {
             "colorbar": {
              "outlinewidth": 0,
              "ticks": ""
             }
            },
            "type": "scattergl"
           }
          ],
          "scattermapbox": [
           {
            "marker": {
             "colorbar": {
              "outlinewidth": 0,
              "ticks": ""
             }
            },
            "type": "scattermapbox"
           }
          ],
          "scatterpolar": [
           {
            "marker": {
             "colorbar": {
              "outlinewidth": 0,
              "ticks": ""
             }
            },
            "type": "scatterpolar"
           }
          ],
          "scatterpolargl": [
           {
            "marker": {
             "colorbar": {
              "outlinewidth": 0,
              "ticks": ""
             }
            },
            "type": "scatterpolargl"
           }
          ],
          "scatterternary": [
           {
            "marker": {
             "colorbar": {
              "outlinewidth": 0,
              "ticks": ""
             }
            },
            "type": "scatterternary"
           }
          ],
          "surface": [
           {
            "colorbar": {
             "outlinewidth": 0,
             "ticks": ""
            },
            "colorscale": [
             [
              0,
              "#0d0887"
             ],
             [
              0.1111111111111111,
              "#46039f"
             ],
             [
              0.2222222222222222,
              "#7201a8"
             ],
             [
              0.3333333333333333,
              "#9c179e"
             ],
             [
              0.4444444444444444,
              "#bd3786"
             ],
             [
              0.5555555555555556,
              "#d8576b"
             ],
             [
              0.6666666666666666,
              "#ed7953"
             ],
             [
              0.7777777777777778,
              "#fb9f3a"
             ],
             [
              0.8888888888888888,
              "#fdca26"
             ],
             [
              1,
              "#f0f921"
             ]
            ],
            "type": "surface"
           }
          ],
          "table": [
           {
            "cells": {
             "fill": {
              "color": "#EBF0F8"
             },
             "line": {
              "color": "white"
             }
            },
            "header": {
             "fill": {
              "color": "#C8D4E3"
             },
             "line": {
              "color": "white"
             }
            },
            "type": "table"
           }
          ]
         },
         "layout": {
          "annotationdefaults": {
           "arrowcolor": "#2a3f5f",
           "arrowhead": 0,
           "arrowwidth": 1
          },
          "autotypenumbers": "strict",
          "coloraxis": {
           "colorbar": {
            "outlinewidth": 0,
            "ticks": ""
           }
          },
          "colorscale": {
           "diverging": [
            [
             0,
             "#8e0152"
            ],
            [
             0.1,
             "#c51b7d"
            ],
            [
             0.2,
             "#de77ae"
            ],
            [
             0.3,
             "#f1b6da"
            ],
            [
             0.4,
             "#fde0ef"
            ],
            [
             0.5,
             "#f7f7f7"
            ],
            [
             0.6,
             "#e6f5d0"
            ],
            [
             0.7,
             "#b8e186"
            ],
            [
             0.8,
             "#7fbc41"
            ],
            [
             0.9,
             "#4d9221"
            ],
            [
             1,
             "#276419"
            ]
           ],
           "sequential": [
            [
             0,
             "#0d0887"
            ],
            [
             0.1111111111111111,
             "#46039f"
            ],
            [
             0.2222222222222222,
             "#7201a8"
            ],
            [
             0.3333333333333333,
             "#9c179e"
            ],
            [
             0.4444444444444444,
             "#bd3786"
            ],
            [
             0.5555555555555556,
             "#d8576b"
            ],
            [
             0.6666666666666666,
             "#ed7953"
            ],
            [
             0.7777777777777778,
             "#fb9f3a"
            ],
            [
             0.8888888888888888,
             "#fdca26"
            ],
            [
             1,
             "#f0f921"
            ]
           ],
           "sequentialminus": [
            [
             0,
             "#0d0887"
            ],
            [
             0.1111111111111111,
             "#46039f"
            ],
            [
             0.2222222222222222,
             "#7201a8"
            ],
            [
             0.3333333333333333,
             "#9c179e"
            ],
            [
             0.4444444444444444,
             "#bd3786"
            ],
            [
             0.5555555555555556,
             "#d8576b"
            ],
            [
             0.6666666666666666,
             "#ed7953"
            ],
            [
             0.7777777777777778,
             "#fb9f3a"
            ],
            [
             0.8888888888888888,
             "#fdca26"
            ],
            [
             1,
             "#f0f921"
            ]
           ]
          },
          "colorway": [
           "#636efa",
           "#EF553B",
           "#00cc96",
           "#ab63fa",
           "#FFA15A",
           "#19d3f3",
           "#FF6692",
           "#B6E880",
           "#FF97FF",
           "#FECB52"
          ],
          "font": {
           "color": "#2a3f5f"
          },
          "geo": {
           "bgcolor": "white",
           "lakecolor": "white",
           "landcolor": "#E5ECF6",
           "showlakes": true,
           "showland": true,
           "subunitcolor": "white"
          },
          "hoverlabel": {
           "align": "left"
          },
          "hovermode": "closest",
          "mapbox": {
           "style": "light"
          },
          "paper_bgcolor": "white",
          "plot_bgcolor": "#E5ECF6",
          "polar": {
           "angularaxis": {
            "gridcolor": "white",
            "linecolor": "white",
            "ticks": ""
           },
           "bgcolor": "#E5ECF6",
           "radialaxis": {
            "gridcolor": "white",
            "linecolor": "white",
            "ticks": ""
           }
          },
          "scene": {
           "xaxis": {
            "backgroundcolor": "#E5ECF6",
            "gridcolor": "white",
            "gridwidth": 2,
            "linecolor": "white",
            "showbackground": true,
            "ticks": "",
            "zerolinecolor": "white"
           },
           "yaxis": {
            "backgroundcolor": "#E5ECF6",
            "gridcolor": "white",
            "gridwidth": 2,
            "linecolor": "white",
            "showbackground": true,
            "ticks": "",
            "zerolinecolor": "white"
           },
           "zaxis": {
            "backgroundcolor": "#E5ECF6",
            "gridcolor": "white",
            "gridwidth": 2,
            "linecolor": "white",
            "showbackground": true,
            "ticks": "",
            "zerolinecolor": "white"
           }
          },
          "shapedefaults": {
           "line": {
            "color": "#2a3f5f"
           }
          },
          "ternary": {
           "aaxis": {
            "gridcolor": "white",
            "linecolor": "white",
            "ticks": ""
           },
           "baxis": {
            "gridcolor": "white",
            "linecolor": "white",
            "ticks": ""
           },
           "bgcolor": "#E5ECF6",
           "caxis": {
            "gridcolor": "white",
            "linecolor": "white",
            "ticks": ""
           }
          },
          "title": {
           "x": 0.05
          },
          "xaxis": {
           "automargin": true,
           "gridcolor": "white",
           "linecolor": "white",
           "ticks": "",
           "title": {
            "standoff": 15
           },
           "zerolinecolor": "white",
           "zerolinewidth": 2
          },
          "yaxis": {
           "automargin": true,
           "gridcolor": "white",
           "linecolor": "white",
           "ticks": "",
           "title": {
            "standoff": 15
           },
           "zerolinecolor": "white",
           "zerolinewidth": 2
          }
         }
        },
        "title": {
         "font": {
          "color": "#4D5663"
         }
        },
        "xaxis": {
         "gridcolor": "#E1E5ED",
         "showgrid": true,
         "tickfont": {
          "color": "#4D5663"
         },
         "title": {
          "font": {
           "color": "#4D5663"
          },
          "text": ""
         },
         "zerolinecolor": "#E1E5ED"
        },
        "yaxis": {
         "gridcolor": "#E1E5ED",
         "showgrid": true,
         "tickfont": {
          "color": "#4D5663"
         },
         "title": {
          "font": {
           "color": "#4D5663"
          },
          "text": ""
         },
         "zerolinecolor": "#E1E5ED"
        }
       }
      },
      "text/html": [
       "<div>                            <div id=\"5728cf5e-97c8-44a0-bc0e-4a82aff7538c\" class=\"plotly-graph-div\" style=\"height:525px; width:100%;\"></div>            <script type=\"text/javascript\">                require([\"plotly\"], function(Plotly) {                    window.PLOTLYENV=window.PLOTLYENV || {};\n",
       "                    window.PLOTLYENV.BASE_URL='https://plot.ly';                                    if (document.getElementById(\"5728cf5e-97c8-44a0-bc0e-4a82aff7538c\")) {                    Plotly.newPlot(                        \"5728cf5e-97c8-44a0-bc0e-4a82aff7538c\",                        [{\"marker\":{\"color\":\"rgba(255, 153, 51, 0.6)\",\"line\":{\"color\":\"rgba(255, 153, 51, 1.0)\",\"width\":1}},\"name\":\"None\",\"orientation\":\"v\",\"text\":\"\",\"x\":[\"A\",\"B\",\"C\",\"D\"],\"y\":[3.0997629924433103,-4.596487475927534,-1.5117917986704665,-2.7950583840398617],\"type\":\"bar\"}],                        {\"legend\":{\"bgcolor\":\"#F5F6F9\",\"font\":{\"color\":\"#4D5663\"}},\"paper_bgcolor\":\"#F5F6F9\",\"plot_bgcolor\":\"#F5F6F9\",\"template\":{\"data\":{\"barpolar\":[{\"marker\":{\"line\":{\"color\":\"#E5ECF6\",\"width\":0.5},\"pattern\":{\"fillmode\":\"overlay\",\"size\":10,\"solidity\":0.2}},\"type\":\"barpolar\"}],\"bar\":[{\"error_x\":{\"color\":\"#2a3f5f\"},\"error_y\":{\"color\":\"#2a3f5f\"},\"marker\":{\"line\":{\"color\":\"#E5ECF6\",\"width\":0.5},\"pattern\":{\"fillmode\":\"overlay\",\"size\":10,\"solidity\":0.2}},\"type\":\"bar\"}],\"carpet\":[{\"aaxis\":{\"endlinecolor\":\"#2a3f5f\",\"gridcolor\":\"white\",\"linecolor\":\"white\",\"minorgridcolor\":\"white\",\"startlinecolor\":\"#2a3f5f\"},\"baxis\":{\"endlinecolor\":\"#2a3f5f\",\"gridcolor\":\"white\",\"linecolor\":\"white\",\"minorgridcolor\":\"white\",\"startlinecolor\":\"#2a3f5f\"},\"type\":\"carpet\"}],\"choropleth\":[{\"colorbar\":{\"outlinewidth\":0,\"ticks\":\"\"},\"type\":\"choropleth\"}],\"contourcarpet\":[{\"colorbar\":{\"outlinewidth\":0,\"ticks\":\"\"},\"type\":\"contourcarpet\"}],\"contour\":[{\"colorbar\":{\"outlinewidth\":0,\"ticks\":\"\"},\"colorscale\":[[0.0,\"#0d0887\"],[0.1111111111111111,\"#46039f\"],[0.2222222222222222,\"#7201a8\"],[0.3333333333333333,\"#9c179e\"],[0.4444444444444444,\"#bd3786\"],[0.5555555555555556,\"#d8576b\"],[0.6666666666666666,\"#ed7953\"],[0.7777777777777778,\"#fb9f3a\"],[0.8888888888888888,\"#fdca26\"],[1.0,\"#f0f921\"]],\"type\":\"contour\"}],\"heatmapgl\":[{\"colorbar\":{\"outlinewidth\":0,\"ticks\":\"\"},\"colorscale\":[[0.0,\"#0d0887\"],[0.1111111111111111,\"#46039f\"],[0.2222222222222222,\"#7201a8\"],[0.3333333333333333,\"#9c179e\"],[0.4444444444444444,\"#bd3786\"],[0.5555555555555556,\"#d8576b\"],[0.6666666666666666,\"#ed7953\"],[0.7777777777777778,\"#fb9f3a\"],[0.8888888888888888,\"#fdca26\"],[1.0,\"#f0f921\"]],\"type\":\"heatmapgl\"}],\"heatmap\":[{\"colorbar\":{\"outlinewidth\":0,\"ticks\":\"\"},\"colorscale\":[[0.0,\"#0d0887\"],[0.1111111111111111,\"#46039f\"],[0.2222222222222222,\"#7201a8\"],[0.3333333333333333,\"#9c179e\"],[0.4444444444444444,\"#bd3786\"],[0.5555555555555556,\"#d8576b\"],[0.6666666666666666,\"#ed7953\"],[0.7777777777777778,\"#fb9f3a\"],[0.8888888888888888,\"#fdca26\"],[1.0,\"#f0f921\"]],\"type\":\"heatmap\"}],\"histogram2dcontour\":[{\"colorbar\":{\"outlinewidth\":0,\"ticks\":\"\"},\"colorscale\":[[0.0,\"#0d0887\"],[0.1111111111111111,\"#46039f\"],[0.2222222222222222,\"#7201a8\"],[0.3333333333333333,\"#9c179e\"],[0.4444444444444444,\"#bd3786\"],[0.5555555555555556,\"#d8576b\"],[0.6666666666666666,\"#ed7953\"],[0.7777777777777778,\"#fb9f3a\"],[0.8888888888888888,\"#fdca26\"],[1.0,\"#f0f921\"]],\"type\":\"histogram2dcontour\"}],\"histogram2d\":[{\"colorbar\":{\"outlinewidth\":0,\"ticks\":\"\"},\"colorscale\":[[0.0,\"#0d0887\"],[0.1111111111111111,\"#46039f\"],[0.2222222222222222,\"#7201a8\"],[0.3333333333333333,\"#9c179e\"],[0.4444444444444444,\"#bd3786\"],[0.5555555555555556,\"#d8576b\"],[0.6666666666666666,\"#ed7953\"],[0.7777777777777778,\"#fb9f3a\"],[0.8888888888888888,\"#fdca26\"],[1.0,\"#f0f921\"]],\"type\":\"histogram2d\"}],\"histogram\":[{\"marker\":{\"pattern\":{\"fillmode\":\"overlay\",\"size\":10,\"solidity\":0.2}},\"type\":\"histogram\"}],\"mesh3d\":[{\"colorbar\":{\"outlinewidth\":0,\"ticks\":\"\"},\"type\":\"mesh3d\"}],\"parcoords\":[{\"line\":{\"colorbar\":{\"outlinewidth\":0,\"ticks\":\"\"}},\"type\":\"parcoords\"}],\"pie\":[{\"automargin\":true,\"type\":\"pie\"}],\"scatter3d\":[{\"line\":{\"colorbar\":{\"outlinewidth\":0,\"ticks\":\"\"}},\"marker\":{\"colorbar\":{\"outlinewidth\":0,\"ticks\":\"\"}},\"type\":\"scatter3d\"}],\"scattercarpet\":[{\"marker\":{\"colorbar\":{\"outlinewidth\":0,\"ticks\":\"\"}},\"type\":\"scattercarpet\"}],\"scattergeo\":[{\"marker\":{\"colorbar\":{\"outlinewidth\":0,\"ticks\":\"\"}},\"type\":\"scattergeo\"}],\"scattergl\":[{\"marker\":{\"colorbar\":{\"outlinewidth\":0,\"ticks\":\"\"}},\"type\":\"scattergl\"}],\"scattermapbox\":[{\"marker\":{\"colorbar\":{\"outlinewidth\":0,\"ticks\":\"\"}},\"type\":\"scattermapbox\"}],\"scatterpolargl\":[{\"marker\":{\"colorbar\":{\"outlinewidth\":0,\"ticks\":\"\"}},\"type\":\"scatterpolargl\"}],\"scatterpolar\":[{\"marker\":{\"colorbar\":{\"outlinewidth\":0,\"ticks\":\"\"}},\"type\":\"scatterpolar\"}],\"scatter\":[{\"fillpattern\":{\"fillmode\":\"overlay\",\"size\":10,\"solidity\":0.2},\"type\":\"scatter\"}],\"scatterternary\":[{\"marker\":{\"colorbar\":{\"outlinewidth\":0,\"ticks\":\"\"}},\"type\":\"scatterternary\"}],\"surface\":[{\"colorbar\":{\"outlinewidth\":0,\"ticks\":\"\"},\"colorscale\":[[0.0,\"#0d0887\"],[0.1111111111111111,\"#46039f\"],[0.2222222222222222,\"#7201a8\"],[0.3333333333333333,\"#9c179e\"],[0.4444444444444444,\"#bd3786\"],[0.5555555555555556,\"#d8576b\"],[0.6666666666666666,\"#ed7953\"],[0.7777777777777778,\"#fb9f3a\"],[0.8888888888888888,\"#fdca26\"],[1.0,\"#f0f921\"]],\"type\":\"surface\"}],\"table\":[{\"cells\":{\"fill\":{\"color\":\"#EBF0F8\"},\"line\":{\"color\":\"white\"}},\"header\":{\"fill\":{\"color\":\"#C8D4E3\"},\"line\":{\"color\":\"white\"}},\"type\":\"table\"}]},\"layout\":{\"annotationdefaults\":{\"arrowcolor\":\"#2a3f5f\",\"arrowhead\":0,\"arrowwidth\":1},\"autotypenumbers\":\"strict\",\"coloraxis\":{\"colorbar\":{\"outlinewidth\":0,\"ticks\":\"\"}},\"colorscale\":{\"diverging\":[[0,\"#8e0152\"],[0.1,\"#c51b7d\"],[0.2,\"#de77ae\"],[0.3,\"#f1b6da\"],[0.4,\"#fde0ef\"],[0.5,\"#f7f7f7\"],[0.6,\"#e6f5d0\"],[0.7,\"#b8e186\"],[0.8,\"#7fbc41\"],[0.9,\"#4d9221\"],[1,\"#276419\"]],\"sequential\":[[0.0,\"#0d0887\"],[0.1111111111111111,\"#46039f\"],[0.2222222222222222,\"#7201a8\"],[0.3333333333333333,\"#9c179e\"],[0.4444444444444444,\"#bd3786\"],[0.5555555555555556,\"#d8576b\"],[0.6666666666666666,\"#ed7953\"],[0.7777777777777778,\"#fb9f3a\"],[0.8888888888888888,\"#fdca26\"],[1.0,\"#f0f921\"]],\"sequentialminus\":[[0.0,\"#0d0887\"],[0.1111111111111111,\"#46039f\"],[0.2222222222222222,\"#7201a8\"],[0.3333333333333333,\"#9c179e\"],[0.4444444444444444,\"#bd3786\"],[0.5555555555555556,\"#d8576b\"],[0.6666666666666666,\"#ed7953\"],[0.7777777777777778,\"#fb9f3a\"],[0.8888888888888888,\"#fdca26\"],[1.0,\"#f0f921\"]]},\"colorway\":[\"#636efa\",\"#EF553B\",\"#00cc96\",\"#ab63fa\",\"#FFA15A\",\"#19d3f3\",\"#FF6692\",\"#B6E880\",\"#FF97FF\",\"#FECB52\"],\"font\":{\"color\":\"#2a3f5f\"},\"geo\":{\"bgcolor\":\"white\",\"lakecolor\":\"white\",\"landcolor\":\"#E5ECF6\",\"showlakes\":true,\"showland\":true,\"subunitcolor\":\"white\"},\"hoverlabel\":{\"align\":\"left\"},\"hovermode\":\"closest\",\"mapbox\":{\"style\":\"light\"},\"paper_bgcolor\":\"white\",\"plot_bgcolor\":\"#E5ECF6\",\"polar\":{\"angularaxis\":{\"gridcolor\":\"white\",\"linecolor\":\"white\",\"ticks\":\"\"},\"bgcolor\":\"#E5ECF6\",\"radialaxis\":{\"gridcolor\":\"white\",\"linecolor\":\"white\",\"ticks\":\"\"}},\"scene\":{\"xaxis\":{\"backgroundcolor\":\"#E5ECF6\",\"gridcolor\":\"white\",\"gridwidth\":2,\"linecolor\":\"white\",\"showbackground\":true,\"ticks\":\"\",\"zerolinecolor\":\"white\"},\"yaxis\":{\"backgroundcolor\":\"#E5ECF6\",\"gridcolor\":\"white\",\"gridwidth\":2,\"linecolor\":\"white\",\"showbackground\":true,\"ticks\":\"\",\"zerolinecolor\":\"white\"},\"zaxis\":{\"backgroundcolor\":\"#E5ECF6\",\"gridcolor\":\"white\",\"gridwidth\":2,\"linecolor\":\"white\",\"showbackground\":true,\"ticks\":\"\",\"zerolinecolor\":\"white\"}},\"shapedefaults\":{\"line\":{\"color\":\"#2a3f5f\"}},\"ternary\":{\"aaxis\":{\"gridcolor\":\"white\",\"linecolor\":\"white\",\"ticks\":\"\"},\"baxis\":{\"gridcolor\":\"white\",\"linecolor\":\"white\",\"ticks\":\"\"},\"bgcolor\":\"#E5ECF6\",\"caxis\":{\"gridcolor\":\"white\",\"linecolor\":\"white\",\"ticks\":\"\"}},\"title\":{\"x\":0.05},\"xaxis\":{\"automargin\":true,\"gridcolor\":\"white\",\"linecolor\":\"white\",\"ticks\":\"\",\"title\":{\"standoff\":15},\"zerolinecolor\":\"white\",\"zerolinewidth\":2},\"yaxis\":{\"automargin\":true,\"gridcolor\":\"white\",\"linecolor\":\"white\",\"ticks\":\"\",\"title\":{\"standoff\":15},\"zerolinecolor\":\"white\",\"zerolinewidth\":2}}},\"title\":{\"font\":{\"color\":\"#4D5663\"}},\"xaxis\":{\"gridcolor\":\"#E1E5ED\",\"showgrid\":true,\"tickfont\":{\"color\":\"#4D5663\"},\"title\":{\"font\":{\"color\":\"#4D5663\"},\"text\":\"\"},\"zerolinecolor\":\"#E1E5ED\"},\"yaxis\":{\"gridcolor\":\"#E1E5ED\",\"showgrid\":true,\"tickfont\":{\"color\":\"#4D5663\"},\"title\":{\"font\":{\"color\":\"#4D5663\"},\"text\":\"\"},\"zerolinecolor\":\"#E1E5ED\"}},                        {\"showLink\": true, \"linkText\": \"Export to plot.ly\", \"plotlyServerURL\": \"https://plot.ly\", \"responsive\": true}                    ).then(function(){\n",
       "                            \n",
       "var gd = document.getElementById('5728cf5e-97c8-44a0-bc0e-4a82aff7538c');\n",
       "var x = new MutationObserver(function (mutations, observer) {{\n",
       "        var display = window.getComputedStyle(gd).display;\n",
       "        if (!display || display === 'none') {{\n",
       "            console.log([gd, 'removed!']);\n",
       "            Plotly.purge(gd);\n",
       "            observer.disconnect();\n",
       "        }}\n",
       "}});\n",
       "\n",
       "// Listen for the removal of the full notebook cells\n",
       "var notebookContainer = gd.closest('#notebook-container');\n",
       "if (notebookContainer) {{\n",
       "    x.observe(notebookContainer, {childList: true});\n",
       "}}\n",
       "\n",
       "// Listen for the clearing of the current output cell\n",
       "var outputEl = gd.closest('.output');\n",
       "if (outputEl) {{\n",
       "    x.observe(outputEl, {childList: true});\n",
       "}}\n",
       "\n",
       "                        })                };                });            </script>        </div>"
      ]
     },
     "metadata": {},
     "output_type": "display_data"
    }
   ],
   "source": [
    "df.sum().iplot(kind='bar')"
   ]
  },
  {
   "cell_type": "code",
   "execution_count": 41,
   "id": "f3927460",
   "metadata": {},
   "outputs": [
    {
     "data": {
      "application/vnd.plotly.v1+json": {
       "config": {
        "linkText": "Export to plot.ly",
        "plotlyServerURL": "https://plot.ly",
        "showLink": true
       },
       "data": [
        {
         "boxpoints": false,
         "line": {
          "width": 1.3
         },
         "marker": {
          "color": "rgba(255, 153, 51, 1.0)"
         },
         "name": "A",
         "orientation": "v",
         "type": "box",
         "y": [
          -0.5753426879256494,
          -0.2855850025875945,
          -0.0961869464912241,
          0.6103568764767965,
          -0.4025696750478465,
          0.4374070598595347,
          0.7852380548724863,
          0.5214648823245953,
          -0.00684583591222356,
          -0.5051783000764581,
          0.6530373694023148,
          0.8290643885983005,
          -0.16326941807355744,
          1.2946551885772357,
          0.3062829613096997,
          -0.40651524703456704,
          0.3896016631461653,
          -1.138922855036025,
          -0.7578633933957807,
          1.3509314503931424,
          -0.005010025924972767,
          -0.7973280566035829,
          -0.9426397821555511,
          0.7837430673863505,
          0.21275853925610655,
          -0.4223329495826686,
          -1.260774413115214,
          0.03781882593588207,
          0.46263467519767826,
          0.5546355561998378,
          -0.4842961772526561,
          0.4618702738864327,
          -0.26539049970315043,
          0.07173654988682814,
          1.2670586248816906,
          0.48257046492794947,
          0.8606764634836559,
          0.6828244703998747,
          0.2703051628152772,
          0.0908652995232409,
          1.3407457592744865,
          0.6876439459516805,
          -1.3694094056973394,
          -0.4335211415628346,
          -1.1267120131338622,
          1.3400799055072092,
          -0.1422947461813094,
          -1.248940584041396,
          -2.124104883981563,
          -1.3019259842261062,
          1.2253863790785309,
          -1.50671466014991,
          0.07538508733247389,
          1.2494402889239615,
          0.18255827197336624,
          -1.0105509243088642,
          -1.1891302933224321,
          -0.11628475166186489,
          -0.4734418847308924,
          0.8718766160831669,
          -0.35944283707649927,
          -0.6793897450131363,
          -0.18631676258814278,
          -1.2782273458212,
          1.4977187013693063,
          1.177236002604748,
          -1.0941913024273784,
          2.2404207802414633,
          -1.7525070260970546,
          0.216729499836274,
          -0.24615959069611515,
          -0.9566272104115014,
          -1.3354612997377038,
          0.22350132903717154,
          0.9938854360185605,
          -0.678036349363896,
          -1.269837301038907,
          0.023573204636028175,
          1.1893098288366686,
          0.3945672020711424,
          0.16556190679953686,
          1.0533923683620778,
          0.7980311950587345,
          -0.4648689451877062,
          -1.1224975907209203,
          0.5905563562444988,
          0.7187909232916364,
          0.001996256304215127,
          -0.5024319634754288,
          1.8039520156480824,
          -0.21920796816159593,
          -0.08410382918341316,
          0.7263457090750816,
          1.3527961859231261,
          -1.544852980293307,
          -0.2966107732450681,
          -0.11415615694751836,
          -0.12881703002004213,
          1.2741874708953127,
          1.1393830437473285
         ]
        },
        {
         "boxpoints": false,
         "line": {
          "width": 1.3
         },
         "marker": {
          "color": "rgba(55, 128, 191, 1.0)"
         },
         "name": "B",
         "orientation": "v",
         "type": "box",
         "y": [
          -0.5580704050672908,
          -0.44923515289336513,
          -0.7168931610192598,
          0.9830134247526778,
          1.6240683385906691,
          -0.40275289981153695,
          0.6112791218876015,
          -1.2803108479829148,
          -0.05808932824151311,
          -1.684712399154241,
          0.7009441493967767,
          1.2720970110310192,
          0.3689654180086758,
          -0.10972521230236329,
          -1.8715072885797777,
          -0.41072022373609,
          -2.222846437588777,
          -1.1915850756385813,
          0.9231330164233137,
          1.8669529912034164,
          -0.290221726325987,
          -0.648720943564726,
          -0.36177078386180883,
          -0.320582285809616,
          0.034000540804830316,
          -0.22176470456543523,
          0.29525848347628325,
          -0.9460745820077947,
          -0.40068026297055254,
          0.4106897541844773,
          -0.05309064552901487,
          1.1476677464913225,
          -0.6292502221798444,
          -0.6653930893895125,
          0.23844796985252587,
          0.1526908108190717,
          -0.4882637399023558,
          0.6095528940202006,
          1.7106600523326803,
          -0.6087185304180869,
          -0.14795323483741937,
          -0.9041735666641447,
          -0.2758124519817509,
          -0.6901891175196618,
          0.6644453330064052,
          0.7900367784741046,
          0.9187562121791123,
          0.8674138559764352,
          -0.2453438445025455,
          0.6793641868864831,
          -0.857948768868309,
          -0.9098665331960117,
          -0.6276702401871189,
          -1.9934794146042236,
          -0.364622445961039,
          1.441725222783407,
          0.7801273633492309,
          0.8618581629889228,
          -0.6880668392789634,
          -1.1699554311316747,
          0.4688674958261446,
          -0.3910846044592581,
          -0.9407200530603363,
          -1.5443525904104154,
          1.0384541197937691,
          -0.3226253863608884,
          0.9201172848030571,
          0.7657733729769911,
          -0.0895080157312864,
          -0.8583292937553912,
          -0.5909240948790668,
          -0.2866429338299557,
          0.3565715507880381,
          -0.8964384866866988,
          -0.5862356805821878,
          -0.9155134743418362,
          0.3015672501242637,
          0.5252427921756735,
          1.1163271687288974,
          0.14762362641226046,
          1.6270590095804507,
          -0.5035181944686434,
          -2.4300076126906753,
          -0.5269023436170583,
          1.9305638870047916,
          1.0182413139000828,
          -0.33799434650269927,
          1.046303567819808,
          1.2774037206763065,
          -0.33322567523426716,
          0.5210740638623935,
          -1.1545147289056945,
          -0.29028048645031423,
          -1.3789783825434538,
          0.12451934803869251,
          -0.06929895952401209,
          0.3449054115724372,
          -1.0596751060425036,
          1.622930397463581,
          1.2696505909551374
         ]
        },
        {
         "boxpoints": false,
         "line": {
          "width": 1.3
         },
         "marker": {
          "color": "rgba(50, 171, 96, 1.0)"
         },
         "name": "C",
         "orientation": "v",
         "type": "box",
         "y": [
          0.6114507672687999,
          -1.453118223435603,
          1.1827405880682482,
          -0.8915317989289957,
          -0.6965339089786392,
          1.3349453277892667,
          -0.012754426842266287,
          -1.8363884955952245,
          0.06320121054962571,
          -0.8054032151493444,
          -0.8680597817673879,
          0.15123933857148497,
          0.5123570213932661,
          -0.16037339958878402,
          1.2084982369733155,
          0.11675209300983791,
          -0.7352880428466906,
          -0.2791381389434401,
          -1.6768211825037311,
          0.2687358510113133,
          -0.08730828996841995,
          0.08011587984526237,
          0.5870365383920121,
          -0.45513157695040024,
          1.0477545780925943,
          -0.6122419200802369,
          0.9071051522559322,
          0.5288208716979997,
          1.7182043502896294,
          -1.037247362100533,
          1.2071706170444598,
          -0.09959896328078839,
          0.1378115413695539,
          -0.7628053068053268,
          -1.4628741580335396,
          -1.8115843574114259,
          0.48644122722049543,
          0.0812345794161359,
          1.1618829202520924,
          0.12227531103671242,
          -1.0286809844723226,
          -0.4199992929049847,
          -2.6587328254050435,
          -0.2024935070142835,
          -1.0654775595196992,
          1.7239918194244157,
          -0.88260958534823,
          1.6551781445421734,
          0.6507530317290405,
          -1.6654829806178402,
          0.9767781066008089,
          1.4101056253993747,
          -0.3795509935768535,
          0.5352685882282258,
          -0.07107715970154109,
          0.7354612283859392,
          -0.4782542749410208,
          0.2034575421519448,
          1.3429473000413061,
          0.44838858879270727,
          -1.5463440803120463,
          1.3497880948859498,
          0.14937510875119525,
          -0.8145611453142702,
          0.33798653977713,
          -1.0392925446223271,
          -1.2857261541825418,
          -0.18175222407249347,
          1.1471456825047024,
          2.302935046525213,
          -1.1653519184303127,
          0.7037332413417794,
          -0.3154171419840098,
          1.0465994577252105,
          -0.5043267981371093,
          0.3059399843978032,
          -1.0147173103491358,
          0.18734319364702906,
          1.0197870438206182,
          0.5698463723265904,
          0.847161738078466,
          -0.48838155083686113,
          -0.17571083683572822,
          -0.18323720410096794,
          1.1972873398163424,
          0.9806532259074543,
          -0.4917355934045084,
          -0.1343592196434194,
          0.2516622328478005,
          -0.27081241540746404,
          -1.0155616992979957,
          -0.0780064275372869,
          1.3613145488862313,
          -2.25481067807797,
          0.01340459400981535,
          1.034736325414299,
          -0.8796258441728192,
          -0.3292043045328106,
          -1.8624919231541441,
          1.1113931809407485
         ]
        },
        {
         "boxpoints": false,
         "line": {
          "width": 1.3
         },
         "marker": {
          "color": "rgba(128, 0, 128, 1.0)"
         },
         "name": "D",
         "orientation": "v",
         "type": "box",
         "y": [
          -0.10163559002645582,
          -0.35572331833610316,
          0.9382633458937855,
          1.0365157491589996,
          -1.0839803625551319,
          -0.42444836826523763,
          -0.17434477607746782,
          -0.2503002221905484,
          -0.13298541736793706,
          0.8536540114980372,
          0.3743533125530419,
          -0.23019310723961844,
          -1.0877216415015756,
          0.8983283485049616,
          0.14188830675770078,
          0.22365165287099512,
          0.19462905516574389,
          0.0934357964967572,
          0.8335939366943298,
          -0.04921489580520027,
          1.0017436578627659,
          0.5833690545463516,
          0.5736816489166747,
          -0.24365567817680078,
          1.3488875965404792,
          0.1263712094019638,
          -0.06129280907415563,
          -0.2237010330630421,
          2.302720150283636,
          -1.2728458007605248,
          -0.9225462214792156,
          -0.83290355524013,
          0.9865001583080875,
          -0.47162702859165717,
          -0.2933254636166296,
          0.24279006201943384,
          0.9032069290402934,
          0.34250476808048,
          0.807733281761505,
          1.8166900939762636,
          -0.009455451023209618,
          -0.4963886136333983,
          -0.6358577813771843,
          0.3619657381092746,
          -0.8788873299867607,
          0.40135747633790053,
          0.5062831775326353,
          -0.020676125484085806,
          0.19948143467837848,
          0.34548083587927997,
          -0.5795092323886075,
          -1.7819736678538074,
          0.17033119871697325,
          -0.89129758144792,
          -0.1714054780010341,
          -1.0737098320560075,
          1.2900195720031598,
          1.2914077918767255,
          -0.24949588549061508,
          0.8369345762371713,
          1.135976461563747,
          -1.4428407997626485,
          0.9875439709348575,
          2.2035242636833,
          -0.5791487359503539,
          -2.521913338226039,
          -0.7184707278530241,
          -1.1639587985186035,
          -0.5687316557397463,
          -1.702610898906452,
          -0.12020102131074938,
          0.13080022513111286,
          -0.22034734250604682,
          -0.05716775746615135,
          0.28319930382775665,
          0.731825355886409,
          -0.32563379121427105,
          -0.0787710720033279,
          -1.3347357015730388,
          -1.6260320813219609,
          0.9013728332559842,
          -0.08563499946707838,
          -0.33884869313938376,
          -2.256272072962904,
          0.38836306652118646,
          -0.1299483070640521,
          0.835893038991054,
          0.5972407218225784,
          0.9662776762760077,
          -0.6501003773755782,
          -2.3648808383363713,
          0.6757352967860882,
          0.8668970165490616,
          -1.7444739905526931,
          0.9097302962435239,
          0.3895664821972121,
          -0.26932148950763357,
          -1.300053903639512,
          0.38751698856060934,
          -0.6130946474664536
         ]
        }
       ],
       "layout": {
        "legend": {
         "bgcolor": "#F5F6F9",
         "font": {
          "color": "#4D5663"
         }
        },
        "paper_bgcolor": "#F5F6F9",
        "plot_bgcolor": "#F5F6F9",
        "template": {
         "data": {
          "bar": [
           {
            "error_x": {
             "color": "#2a3f5f"
            },
            "error_y": {
             "color": "#2a3f5f"
            },
            "marker": {
             "line": {
              "color": "#E5ECF6",
              "width": 0.5
             },
             "pattern": {
              "fillmode": "overlay",
              "size": 10,
              "solidity": 0.2
             }
            },
            "type": "bar"
           }
          ],
          "barpolar": [
           {
            "marker": {
             "line": {
              "color": "#E5ECF6",
              "width": 0.5
             },
             "pattern": {
              "fillmode": "overlay",
              "size": 10,
              "solidity": 0.2
             }
            },
            "type": "barpolar"
           }
          ],
          "carpet": [
           {
            "aaxis": {
             "endlinecolor": "#2a3f5f",
             "gridcolor": "white",
             "linecolor": "white",
             "minorgridcolor": "white",
             "startlinecolor": "#2a3f5f"
            },
            "baxis": {
             "endlinecolor": "#2a3f5f",
             "gridcolor": "white",
             "linecolor": "white",
             "minorgridcolor": "white",
             "startlinecolor": "#2a3f5f"
            },
            "type": "carpet"
           }
          ],
          "choropleth": [
           {
            "colorbar": {
             "outlinewidth": 0,
             "ticks": ""
            },
            "type": "choropleth"
           }
          ],
          "contour": [
           {
            "colorbar": {
             "outlinewidth": 0,
             "ticks": ""
            },
            "colorscale": [
             [
              0,
              "#0d0887"
             ],
             [
              0.1111111111111111,
              "#46039f"
             ],
             [
              0.2222222222222222,
              "#7201a8"
             ],
             [
              0.3333333333333333,
              "#9c179e"
             ],
             [
              0.4444444444444444,
              "#bd3786"
             ],
             [
              0.5555555555555556,
              "#d8576b"
             ],
             [
              0.6666666666666666,
              "#ed7953"
             ],
             [
              0.7777777777777778,
              "#fb9f3a"
             ],
             [
              0.8888888888888888,
              "#fdca26"
             ],
             [
              1,
              "#f0f921"
             ]
            ],
            "type": "contour"
           }
          ],
          "contourcarpet": [
           {
            "colorbar": {
             "outlinewidth": 0,
             "ticks": ""
            },
            "type": "contourcarpet"
           }
          ],
          "heatmap": [
           {
            "colorbar": {
             "outlinewidth": 0,
             "ticks": ""
            },
            "colorscale": [
             [
              0,
              "#0d0887"
             ],
             [
              0.1111111111111111,
              "#46039f"
             ],
             [
              0.2222222222222222,
              "#7201a8"
             ],
             [
              0.3333333333333333,
              "#9c179e"
             ],
             [
              0.4444444444444444,
              "#bd3786"
             ],
             [
              0.5555555555555556,
              "#d8576b"
             ],
             [
              0.6666666666666666,
              "#ed7953"
             ],
             [
              0.7777777777777778,
              "#fb9f3a"
             ],
             [
              0.8888888888888888,
              "#fdca26"
             ],
             [
              1,
              "#f0f921"
             ]
            ],
            "type": "heatmap"
           }
          ],
          "heatmapgl": [
           {
            "colorbar": {
             "outlinewidth": 0,
             "ticks": ""
            },
            "colorscale": [
             [
              0,
              "#0d0887"
             ],
             [
              0.1111111111111111,
              "#46039f"
             ],
             [
              0.2222222222222222,
              "#7201a8"
             ],
             [
              0.3333333333333333,
              "#9c179e"
             ],
             [
              0.4444444444444444,
              "#bd3786"
             ],
             [
              0.5555555555555556,
              "#d8576b"
             ],
             [
              0.6666666666666666,
              "#ed7953"
             ],
             [
              0.7777777777777778,
              "#fb9f3a"
             ],
             [
              0.8888888888888888,
              "#fdca26"
             ],
             [
              1,
              "#f0f921"
             ]
            ],
            "type": "heatmapgl"
           }
          ],
          "histogram": [
           {
            "marker": {
             "pattern": {
              "fillmode": "overlay",
              "size": 10,
              "solidity": 0.2
             }
            },
            "type": "histogram"
           }
          ],
          "histogram2d": [
           {
            "colorbar": {
             "outlinewidth": 0,
             "ticks": ""
            },
            "colorscale": [
             [
              0,
              "#0d0887"
             ],
             [
              0.1111111111111111,
              "#46039f"
             ],
             [
              0.2222222222222222,
              "#7201a8"
             ],
             [
              0.3333333333333333,
              "#9c179e"
             ],
             [
              0.4444444444444444,
              "#bd3786"
             ],
             [
              0.5555555555555556,
              "#d8576b"
             ],
             [
              0.6666666666666666,
              "#ed7953"
             ],
             [
              0.7777777777777778,
              "#fb9f3a"
             ],
             [
              0.8888888888888888,
              "#fdca26"
             ],
             [
              1,
              "#f0f921"
             ]
            ],
            "type": "histogram2d"
           }
          ],
          "histogram2dcontour": [
           {
            "colorbar": {
             "outlinewidth": 0,
             "ticks": ""
            },
            "colorscale": [
             [
              0,
              "#0d0887"
             ],
             [
              0.1111111111111111,
              "#46039f"
             ],
             [
              0.2222222222222222,
              "#7201a8"
             ],
             [
              0.3333333333333333,
              "#9c179e"
             ],
             [
              0.4444444444444444,
              "#bd3786"
             ],
             [
              0.5555555555555556,
              "#d8576b"
             ],
             [
              0.6666666666666666,
              "#ed7953"
             ],
             [
              0.7777777777777778,
              "#fb9f3a"
             ],
             [
              0.8888888888888888,
              "#fdca26"
             ],
             [
              1,
              "#f0f921"
             ]
            ],
            "type": "histogram2dcontour"
           }
          ],
          "mesh3d": [
           {
            "colorbar": {
             "outlinewidth": 0,
             "ticks": ""
            },
            "type": "mesh3d"
           }
          ],
          "parcoords": [
           {
            "line": {
             "colorbar": {
              "outlinewidth": 0,
              "ticks": ""
             }
            },
            "type": "parcoords"
           }
          ],
          "pie": [
           {
            "automargin": true,
            "type": "pie"
           }
          ],
          "scatter": [
           {
            "fillpattern": {
             "fillmode": "overlay",
             "size": 10,
             "solidity": 0.2
            },
            "type": "scatter"
           }
          ],
          "scatter3d": [
           {
            "line": {
             "colorbar": {
              "outlinewidth": 0,
              "ticks": ""
             }
            },
            "marker": {
             "colorbar": {
              "outlinewidth": 0,
              "ticks": ""
             }
            },
            "type": "scatter3d"
           }
          ],
          "scattercarpet": [
           {
            "marker": {
             "colorbar": {
              "outlinewidth": 0,
              "ticks": ""
             }
            },
            "type": "scattercarpet"
           }
          ],
          "scattergeo": [
           {
            "marker": {
             "colorbar": {
              "outlinewidth": 0,
              "ticks": ""
             }
            },
            "type": "scattergeo"
           }
          ],
          "scattergl": [
           {
            "marker": {
             "colorbar": {
              "outlinewidth": 0,
              "ticks": ""
             }
            },
            "type": "scattergl"
           }
          ],
          "scattermapbox": [
           {
            "marker": {
             "colorbar": {
              "outlinewidth": 0,
              "ticks": ""
             }
            },
            "type": "scattermapbox"
           }
          ],
          "scatterpolar": [
           {
            "marker": {
             "colorbar": {
              "outlinewidth": 0,
              "ticks": ""
             }
            },
            "type": "scatterpolar"
           }
          ],
          "scatterpolargl": [
           {
            "marker": {
             "colorbar": {
              "outlinewidth": 0,
              "ticks": ""
             }
            },
            "type": "scatterpolargl"
           }
          ],
          "scatterternary": [
           {
            "marker": {
             "colorbar": {
              "outlinewidth": 0,
              "ticks": ""
             }
            },
            "type": "scatterternary"
           }
          ],
          "surface": [
           {
            "colorbar": {
             "outlinewidth": 0,
             "ticks": ""
            },
            "colorscale": [
             [
              0,
              "#0d0887"
             ],
             [
              0.1111111111111111,
              "#46039f"
             ],
             [
              0.2222222222222222,
              "#7201a8"
             ],
             [
              0.3333333333333333,
              "#9c179e"
             ],
             [
              0.4444444444444444,
              "#bd3786"
             ],
             [
              0.5555555555555556,
              "#d8576b"
             ],
             [
              0.6666666666666666,
              "#ed7953"
             ],
             [
              0.7777777777777778,
              "#fb9f3a"
             ],
             [
              0.8888888888888888,
              "#fdca26"
             ],
             [
              1,
              "#f0f921"
             ]
            ],
            "type": "surface"
           }
          ],
          "table": [
           {
            "cells": {
             "fill": {
              "color": "#EBF0F8"
             },
             "line": {
              "color": "white"
             }
            },
            "header": {
             "fill": {
              "color": "#C8D4E3"
             },
             "line": {
              "color": "white"
             }
            },
            "type": "table"
           }
          ]
         },
         "layout": {
          "annotationdefaults": {
           "arrowcolor": "#2a3f5f",
           "arrowhead": 0,
           "arrowwidth": 1
          },
          "autotypenumbers": "strict",
          "coloraxis": {
           "colorbar": {
            "outlinewidth": 0,
            "ticks": ""
           }
          },
          "colorscale": {
           "diverging": [
            [
             0,
             "#8e0152"
            ],
            [
             0.1,
             "#c51b7d"
            ],
            [
             0.2,
             "#de77ae"
            ],
            [
             0.3,
             "#f1b6da"
            ],
            [
             0.4,
             "#fde0ef"
            ],
            [
             0.5,
             "#f7f7f7"
            ],
            [
             0.6,
             "#e6f5d0"
            ],
            [
             0.7,
             "#b8e186"
            ],
            [
             0.8,
             "#7fbc41"
            ],
            [
             0.9,
             "#4d9221"
            ],
            [
             1,
             "#276419"
            ]
           ],
           "sequential": [
            [
             0,
             "#0d0887"
            ],
            [
             0.1111111111111111,
             "#46039f"
            ],
            [
             0.2222222222222222,
             "#7201a8"
            ],
            [
             0.3333333333333333,
             "#9c179e"
            ],
            [
             0.4444444444444444,
             "#bd3786"
            ],
            [
             0.5555555555555556,
             "#d8576b"
            ],
            [
             0.6666666666666666,
             "#ed7953"
            ],
            [
             0.7777777777777778,
             "#fb9f3a"
            ],
            [
             0.8888888888888888,
             "#fdca26"
            ],
            [
             1,
             "#f0f921"
            ]
           ],
           "sequentialminus": [
            [
             0,
             "#0d0887"
            ],
            [
             0.1111111111111111,
             "#46039f"
            ],
            [
             0.2222222222222222,
             "#7201a8"
            ],
            [
             0.3333333333333333,
             "#9c179e"
            ],
            [
             0.4444444444444444,
             "#bd3786"
            ],
            [
             0.5555555555555556,
             "#d8576b"
            ],
            [
             0.6666666666666666,
             "#ed7953"
            ],
            [
             0.7777777777777778,
             "#fb9f3a"
            ],
            [
             0.8888888888888888,
             "#fdca26"
            ],
            [
             1,
             "#f0f921"
            ]
           ]
          },
          "colorway": [
           "#636efa",
           "#EF553B",
           "#00cc96",
           "#ab63fa",
           "#FFA15A",
           "#19d3f3",
           "#FF6692",
           "#B6E880",
           "#FF97FF",
           "#FECB52"
          ],
          "font": {
           "color": "#2a3f5f"
          },
          "geo": {
           "bgcolor": "white",
           "lakecolor": "white",
           "landcolor": "#E5ECF6",
           "showlakes": true,
           "showland": true,
           "subunitcolor": "white"
          },
          "hoverlabel": {
           "align": "left"
          },
          "hovermode": "closest",
          "mapbox": {
           "style": "light"
          },
          "paper_bgcolor": "white",
          "plot_bgcolor": "#E5ECF6",
          "polar": {
           "angularaxis": {
            "gridcolor": "white",
            "linecolor": "white",
            "ticks": ""
           },
           "bgcolor": "#E5ECF6",
           "radialaxis": {
            "gridcolor": "white",
            "linecolor": "white",
            "ticks": ""
           }
          },
          "scene": {
           "xaxis": {
            "backgroundcolor": "#E5ECF6",
            "gridcolor": "white",
            "gridwidth": 2,
            "linecolor": "white",
            "showbackground": true,
            "ticks": "",
            "zerolinecolor": "white"
           },
           "yaxis": {
            "backgroundcolor": "#E5ECF6",
            "gridcolor": "white",
            "gridwidth": 2,
            "linecolor": "white",
            "showbackground": true,
            "ticks": "",
            "zerolinecolor": "white"
           },
           "zaxis": {
            "backgroundcolor": "#E5ECF6",
            "gridcolor": "white",
            "gridwidth": 2,
            "linecolor": "white",
            "showbackground": true,
            "ticks": "",
            "zerolinecolor": "white"
           }
          },
          "shapedefaults": {
           "line": {
            "color": "#2a3f5f"
           }
          },
          "ternary": {
           "aaxis": {
            "gridcolor": "white",
            "linecolor": "white",
            "ticks": ""
           },
           "baxis": {
            "gridcolor": "white",
            "linecolor": "white",
            "ticks": ""
           },
           "bgcolor": "#E5ECF6",
           "caxis": {
            "gridcolor": "white",
            "linecolor": "white",
            "ticks": ""
           }
          },
          "title": {
           "x": 0.05
          },
          "xaxis": {
           "automargin": true,
           "gridcolor": "white",
           "linecolor": "white",
           "ticks": "",
           "title": {
            "standoff": 15
           },
           "zerolinecolor": "white",
           "zerolinewidth": 2
          },
          "yaxis": {
           "automargin": true,
           "gridcolor": "white",
           "linecolor": "white",
           "ticks": "",
           "title": {
            "standoff": 15
           },
           "zerolinecolor": "white",
           "zerolinewidth": 2
          }
         }
        },
        "title": {
         "font": {
          "color": "#4D5663"
         }
        },
        "xaxis": {
         "gridcolor": "#E1E5ED",
         "showgrid": true,
         "tickfont": {
          "color": "#4D5663"
         },
         "title": {
          "font": {
           "color": "#4D5663"
          },
          "text": ""
         },
         "zerolinecolor": "#E1E5ED"
        },
        "yaxis": {
         "gridcolor": "#E1E5ED",
         "showgrid": true,
         "tickfont": {
          "color": "#4D5663"
         },
         "title": {
          "font": {
           "color": "#4D5663"
          },
          "text": ""
         },
         "zerolinecolor": "#E1E5ED"
        }
       }
      },
      "text/html": [
       "<div>                            <div id=\"cd50131b-2975-4178-b977-aaa521670c17\" class=\"plotly-graph-div\" style=\"height:525px; width:100%;\"></div>            <script type=\"text/javascript\">                require([\"plotly\"], function(Plotly) {                    window.PLOTLYENV=window.PLOTLYENV || {};\n",
       "                    window.PLOTLYENV.BASE_URL='https://plot.ly';                                    if (document.getElementById(\"cd50131b-2975-4178-b977-aaa521670c17\")) {                    Plotly.newPlot(                        \"cd50131b-2975-4178-b977-aaa521670c17\",                        [{\"boxpoints\":false,\"line\":{\"width\":1.3},\"marker\":{\"color\":\"rgba(255, 153, 51, 1.0)\"},\"name\":\"A\",\"orientation\":\"v\",\"y\":[-0.5753426879256494,-0.2855850025875945,-0.0961869464912241,0.6103568764767965,-0.4025696750478465,0.4374070598595347,0.7852380548724863,0.5214648823245953,-0.00684583591222356,-0.5051783000764581,0.6530373694023148,0.8290643885983005,-0.16326941807355744,1.2946551885772357,0.3062829613096997,-0.40651524703456704,0.3896016631461653,-1.138922855036025,-0.7578633933957807,1.3509314503931424,-0.005010025924972767,-0.7973280566035829,-0.9426397821555511,0.7837430673863505,0.21275853925610655,-0.4223329495826686,-1.260774413115214,0.03781882593588207,0.46263467519767826,0.5546355561998378,-0.4842961772526561,0.4618702738864327,-0.26539049970315043,0.07173654988682814,1.2670586248816906,0.48257046492794947,0.8606764634836559,0.6828244703998747,0.2703051628152772,0.0908652995232409,1.3407457592744865,0.6876439459516805,-1.3694094056973394,-0.4335211415628346,-1.1267120131338622,1.3400799055072092,-0.1422947461813094,-1.248940584041396,-2.124104883981563,-1.3019259842261062,1.2253863790785309,-1.50671466014991,0.07538508733247389,1.2494402889239615,0.18255827197336624,-1.0105509243088642,-1.1891302933224321,-0.11628475166186489,-0.4734418847308924,0.8718766160831669,-0.35944283707649927,-0.6793897450131363,-0.18631676258814278,-1.2782273458212,1.4977187013693063,1.177236002604748,-1.0941913024273784,2.2404207802414633,-1.7525070260970546,0.216729499836274,-0.24615959069611515,-0.9566272104115014,-1.3354612997377038,0.22350132903717154,0.9938854360185605,-0.678036349363896,-1.269837301038907,0.023573204636028175,1.1893098288366686,0.3945672020711424,0.16556190679953686,1.0533923683620778,0.7980311950587345,-0.4648689451877062,-1.1224975907209203,0.5905563562444988,0.7187909232916364,0.001996256304215127,-0.5024319634754288,1.8039520156480824,-0.21920796816159593,-0.08410382918341316,0.7263457090750816,1.3527961859231261,-1.544852980293307,-0.2966107732450681,-0.11415615694751836,-0.12881703002004213,1.2741874708953127,1.1393830437473285],\"type\":\"box\"},{\"boxpoints\":false,\"line\":{\"width\":1.3},\"marker\":{\"color\":\"rgba(55, 128, 191, 1.0)\"},\"name\":\"B\",\"orientation\":\"v\",\"y\":[-0.5580704050672908,-0.44923515289336513,-0.7168931610192598,0.9830134247526778,1.6240683385906691,-0.40275289981153695,0.6112791218876015,-1.2803108479829148,-0.05808932824151311,-1.684712399154241,0.7009441493967767,1.2720970110310192,0.3689654180086758,-0.10972521230236329,-1.8715072885797777,-0.41072022373609,-2.222846437588777,-1.1915850756385813,0.9231330164233137,1.8669529912034164,-0.290221726325987,-0.648720943564726,-0.36177078386180883,-0.320582285809616,0.034000540804830316,-0.22176470456543523,0.29525848347628325,-0.9460745820077947,-0.40068026297055254,0.4106897541844773,-0.05309064552901487,1.1476677464913225,-0.6292502221798444,-0.6653930893895125,0.23844796985252587,0.1526908108190717,-0.4882637399023558,0.6095528940202006,1.7106600523326803,-0.6087185304180869,-0.14795323483741937,-0.9041735666641447,-0.2758124519817509,-0.6901891175196618,0.6644453330064052,0.7900367784741046,0.9187562121791123,0.8674138559764352,-0.2453438445025455,0.6793641868864831,-0.857948768868309,-0.9098665331960117,-0.6276702401871189,-1.9934794146042236,-0.364622445961039,1.441725222783407,0.7801273633492309,0.8618581629889228,-0.6880668392789634,-1.1699554311316747,0.4688674958261446,-0.3910846044592581,-0.9407200530603363,-1.5443525904104154,1.0384541197937691,-0.3226253863608884,0.9201172848030571,0.7657733729769911,-0.0895080157312864,-0.8583292937553912,-0.5909240948790668,-0.2866429338299557,0.3565715507880381,-0.8964384866866988,-0.5862356805821878,-0.9155134743418362,0.3015672501242637,0.5252427921756735,1.1163271687288974,0.14762362641226046,1.6270590095804507,-0.5035181944686434,-2.4300076126906753,-0.5269023436170583,1.9305638870047916,1.0182413139000828,-0.33799434650269927,1.046303567819808,1.2774037206763065,-0.33322567523426716,0.5210740638623935,-1.1545147289056945,-0.29028048645031423,-1.3789783825434538,0.12451934803869251,-0.06929895952401209,0.3449054115724372,-1.0596751060425036,1.622930397463581,1.2696505909551374],\"type\":\"box\"},{\"boxpoints\":false,\"line\":{\"width\":1.3},\"marker\":{\"color\":\"rgba(50, 171, 96, 1.0)\"},\"name\":\"C\",\"orientation\":\"v\",\"y\":[0.6114507672687999,-1.453118223435603,1.1827405880682482,-0.8915317989289957,-0.6965339089786392,1.3349453277892667,-0.012754426842266287,-1.8363884955952245,0.06320121054962571,-0.8054032151493444,-0.8680597817673879,0.15123933857148497,0.5123570213932661,-0.16037339958878402,1.2084982369733155,0.11675209300983791,-0.7352880428466906,-0.2791381389434401,-1.6768211825037311,0.2687358510113133,-0.08730828996841995,0.08011587984526237,0.5870365383920121,-0.45513157695040024,1.0477545780925943,-0.6122419200802369,0.9071051522559322,0.5288208716979997,1.7182043502896294,-1.037247362100533,1.2071706170444598,-0.09959896328078839,0.1378115413695539,-0.7628053068053268,-1.4628741580335396,-1.8115843574114259,0.48644122722049543,0.0812345794161359,1.1618829202520924,0.12227531103671242,-1.0286809844723226,-0.4199992929049847,-2.6587328254050435,-0.2024935070142835,-1.0654775595196992,1.7239918194244157,-0.88260958534823,1.6551781445421734,0.6507530317290405,-1.6654829806178402,0.9767781066008089,1.4101056253993747,-0.3795509935768535,0.5352685882282258,-0.07107715970154109,0.7354612283859392,-0.4782542749410208,0.2034575421519448,1.3429473000413061,0.44838858879270727,-1.5463440803120463,1.3497880948859498,0.14937510875119525,-0.8145611453142702,0.33798653977713,-1.0392925446223271,-1.2857261541825418,-0.18175222407249347,1.1471456825047024,2.302935046525213,-1.1653519184303127,0.7037332413417794,-0.3154171419840098,1.0465994577252105,-0.5043267981371093,0.3059399843978032,-1.0147173103491358,0.18734319364702906,1.0197870438206182,0.5698463723265904,0.847161738078466,-0.48838155083686113,-0.17571083683572822,-0.18323720410096794,1.1972873398163424,0.9806532259074543,-0.4917355934045084,-0.1343592196434194,0.2516622328478005,-0.27081241540746404,-1.0155616992979957,-0.0780064275372869,1.3613145488862313,-2.25481067807797,0.01340459400981535,1.034736325414299,-0.8796258441728192,-0.3292043045328106,-1.8624919231541441,1.1113931809407485],\"type\":\"box\"},{\"boxpoints\":false,\"line\":{\"width\":1.3},\"marker\":{\"color\":\"rgba(128, 0, 128, 1.0)\"},\"name\":\"D\",\"orientation\":\"v\",\"y\":[-0.10163559002645582,-0.35572331833610316,0.9382633458937855,1.0365157491589996,-1.0839803625551319,-0.42444836826523763,-0.17434477607746782,-0.2503002221905484,-0.13298541736793706,0.8536540114980372,0.3743533125530419,-0.23019310723961844,-1.0877216415015756,0.8983283485049616,0.14188830675770078,0.22365165287099512,0.19462905516574389,0.0934357964967572,0.8335939366943298,-0.04921489580520027,1.0017436578627659,0.5833690545463516,0.5736816489166747,-0.24365567817680078,1.3488875965404792,0.1263712094019638,-0.06129280907415563,-0.2237010330630421,2.302720150283636,-1.2728458007605248,-0.9225462214792156,-0.83290355524013,0.9865001583080875,-0.47162702859165717,-0.2933254636166296,0.24279006201943384,0.9032069290402934,0.34250476808048,0.807733281761505,1.8166900939762636,-0.009455451023209618,-0.4963886136333983,-0.6358577813771843,0.3619657381092746,-0.8788873299867607,0.40135747633790053,0.5062831775326353,-0.020676125484085806,0.19948143467837848,0.34548083587927997,-0.5795092323886075,-1.7819736678538074,0.17033119871697325,-0.89129758144792,-0.1714054780010341,-1.0737098320560075,1.2900195720031598,1.2914077918767255,-0.24949588549061508,0.8369345762371713,1.135976461563747,-1.4428407997626485,0.9875439709348575,2.2035242636833,-0.5791487359503539,-2.521913338226039,-0.7184707278530241,-1.1639587985186035,-0.5687316557397463,-1.702610898906452,-0.12020102131074938,0.13080022513111286,-0.22034734250604682,-0.05716775746615135,0.28319930382775665,0.731825355886409,-0.32563379121427105,-0.0787710720033279,-1.3347357015730388,-1.6260320813219609,0.9013728332559842,-0.08563499946707838,-0.33884869313938376,-2.256272072962904,0.38836306652118646,-0.1299483070640521,0.835893038991054,0.5972407218225784,0.9662776762760077,-0.6501003773755782,-2.3648808383363713,0.6757352967860882,0.8668970165490616,-1.7444739905526931,0.9097302962435239,0.3895664821972121,-0.26932148950763357,-1.300053903639512,0.38751698856060934,-0.6130946474664536],\"type\":\"box\"}],                        {\"legend\":{\"bgcolor\":\"#F5F6F9\",\"font\":{\"color\":\"#4D5663\"}},\"paper_bgcolor\":\"#F5F6F9\",\"plot_bgcolor\":\"#F5F6F9\",\"template\":{\"data\":{\"barpolar\":[{\"marker\":{\"line\":{\"color\":\"#E5ECF6\",\"width\":0.5},\"pattern\":{\"fillmode\":\"overlay\",\"size\":10,\"solidity\":0.2}},\"type\":\"barpolar\"}],\"bar\":[{\"error_x\":{\"color\":\"#2a3f5f\"},\"error_y\":{\"color\":\"#2a3f5f\"},\"marker\":{\"line\":{\"color\":\"#E5ECF6\",\"width\":0.5},\"pattern\":{\"fillmode\":\"overlay\",\"size\":10,\"solidity\":0.2}},\"type\":\"bar\"}],\"carpet\":[{\"aaxis\":{\"endlinecolor\":\"#2a3f5f\",\"gridcolor\":\"white\",\"linecolor\":\"white\",\"minorgridcolor\":\"white\",\"startlinecolor\":\"#2a3f5f\"},\"baxis\":{\"endlinecolor\":\"#2a3f5f\",\"gridcolor\":\"white\",\"linecolor\":\"white\",\"minorgridcolor\":\"white\",\"startlinecolor\":\"#2a3f5f\"},\"type\":\"carpet\"}],\"choropleth\":[{\"colorbar\":{\"outlinewidth\":0,\"ticks\":\"\"},\"type\":\"choropleth\"}],\"contourcarpet\":[{\"colorbar\":{\"outlinewidth\":0,\"ticks\":\"\"},\"type\":\"contourcarpet\"}],\"contour\":[{\"colorbar\":{\"outlinewidth\":0,\"ticks\":\"\"},\"colorscale\":[[0.0,\"#0d0887\"],[0.1111111111111111,\"#46039f\"],[0.2222222222222222,\"#7201a8\"],[0.3333333333333333,\"#9c179e\"],[0.4444444444444444,\"#bd3786\"],[0.5555555555555556,\"#d8576b\"],[0.6666666666666666,\"#ed7953\"],[0.7777777777777778,\"#fb9f3a\"],[0.8888888888888888,\"#fdca26\"],[1.0,\"#f0f921\"]],\"type\":\"contour\"}],\"heatmapgl\":[{\"colorbar\":{\"outlinewidth\":0,\"ticks\":\"\"},\"colorscale\":[[0.0,\"#0d0887\"],[0.1111111111111111,\"#46039f\"],[0.2222222222222222,\"#7201a8\"],[0.3333333333333333,\"#9c179e\"],[0.4444444444444444,\"#bd3786\"],[0.5555555555555556,\"#d8576b\"],[0.6666666666666666,\"#ed7953\"],[0.7777777777777778,\"#fb9f3a\"],[0.8888888888888888,\"#fdca26\"],[1.0,\"#f0f921\"]],\"type\":\"heatmapgl\"}],\"heatmap\":[{\"colorbar\":{\"outlinewidth\":0,\"ticks\":\"\"},\"colorscale\":[[0.0,\"#0d0887\"],[0.1111111111111111,\"#46039f\"],[0.2222222222222222,\"#7201a8\"],[0.3333333333333333,\"#9c179e\"],[0.4444444444444444,\"#bd3786\"],[0.5555555555555556,\"#d8576b\"],[0.6666666666666666,\"#ed7953\"],[0.7777777777777778,\"#fb9f3a\"],[0.8888888888888888,\"#fdca26\"],[1.0,\"#f0f921\"]],\"type\":\"heatmap\"}],\"histogram2dcontour\":[{\"colorbar\":{\"outlinewidth\":0,\"ticks\":\"\"},\"colorscale\":[[0.0,\"#0d0887\"],[0.1111111111111111,\"#46039f\"],[0.2222222222222222,\"#7201a8\"],[0.3333333333333333,\"#9c179e\"],[0.4444444444444444,\"#bd3786\"],[0.5555555555555556,\"#d8576b\"],[0.6666666666666666,\"#ed7953\"],[0.7777777777777778,\"#fb9f3a\"],[0.8888888888888888,\"#fdca26\"],[1.0,\"#f0f921\"]],\"type\":\"histogram2dcontour\"}],\"histogram2d\":[{\"colorbar\":{\"outlinewidth\":0,\"ticks\":\"\"},\"colorscale\":[[0.0,\"#0d0887\"],[0.1111111111111111,\"#46039f\"],[0.2222222222222222,\"#7201a8\"],[0.3333333333333333,\"#9c179e\"],[0.4444444444444444,\"#bd3786\"],[0.5555555555555556,\"#d8576b\"],[0.6666666666666666,\"#ed7953\"],[0.7777777777777778,\"#fb9f3a\"],[0.8888888888888888,\"#fdca26\"],[1.0,\"#f0f921\"]],\"type\":\"histogram2d\"}],\"histogram\":[{\"marker\":{\"pattern\":{\"fillmode\":\"overlay\",\"size\":10,\"solidity\":0.2}},\"type\":\"histogram\"}],\"mesh3d\":[{\"colorbar\":{\"outlinewidth\":0,\"ticks\":\"\"},\"type\":\"mesh3d\"}],\"parcoords\":[{\"line\":{\"colorbar\":{\"outlinewidth\":0,\"ticks\":\"\"}},\"type\":\"parcoords\"}],\"pie\":[{\"automargin\":true,\"type\":\"pie\"}],\"scatter3d\":[{\"line\":{\"colorbar\":{\"outlinewidth\":0,\"ticks\":\"\"}},\"marker\":{\"colorbar\":{\"outlinewidth\":0,\"ticks\":\"\"}},\"type\":\"scatter3d\"}],\"scattercarpet\":[{\"marker\":{\"colorbar\":{\"outlinewidth\":0,\"ticks\":\"\"}},\"type\":\"scattercarpet\"}],\"scattergeo\":[{\"marker\":{\"colorbar\":{\"outlinewidth\":0,\"ticks\":\"\"}},\"type\":\"scattergeo\"}],\"scattergl\":[{\"marker\":{\"colorbar\":{\"outlinewidth\":0,\"ticks\":\"\"}},\"type\":\"scattergl\"}],\"scattermapbox\":[{\"marker\":{\"colorbar\":{\"outlinewidth\":0,\"ticks\":\"\"}},\"type\":\"scattermapbox\"}],\"scatterpolargl\":[{\"marker\":{\"colorbar\":{\"outlinewidth\":0,\"ticks\":\"\"}},\"type\":\"scatterpolargl\"}],\"scatterpolar\":[{\"marker\":{\"colorbar\":{\"outlinewidth\":0,\"ticks\":\"\"}},\"type\":\"scatterpolar\"}],\"scatter\":[{\"fillpattern\":{\"fillmode\":\"overlay\",\"size\":10,\"solidity\":0.2},\"type\":\"scatter\"}],\"scatterternary\":[{\"marker\":{\"colorbar\":{\"outlinewidth\":0,\"ticks\":\"\"}},\"type\":\"scatterternary\"}],\"surface\":[{\"colorbar\":{\"outlinewidth\":0,\"ticks\":\"\"},\"colorscale\":[[0.0,\"#0d0887\"],[0.1111111111111111,\"#46039f\"],[0.2222222222222222,\"#7201a8\"],[0.3333333333333333,\"#9c179e\"],[0.4444444444444444,\"#bd3786\"],[0.5555555555555556,\"#d8576b\"],[0.6666666666666666,\"#ed7953\"],[0.7777777777777778,\"#fb9f3a\"],[0.8888888888888888,\"#fdca26\"],[1.0,\"#f0f921\"]],\"type\":\"surface\"}],\"table\":[{\"cells\":{\"fill\":{\"color\":\"#EBF0F8\"},\"line\":{\"color\":\"white\"}},\"header\":{\"fill\":{\"color\":\"#C8D4E3\"},\"line\":{\"color\":\"white\"}},\"type\":\"table\"}]},\"layout\":{\"annotationdefaults\":{\"arrowcolor\":\"#2a3f5f\",\"arrowhead\":0,\"arrowwidth\":1},\"autotypenumbers\":\"strict\",\"coloraxis\":{\"colorbar\":{\"outlinewidth\":0,\"ticks\":\"\"}},\"colorscale\":{\"diverging\":[[0,\"#8e0152\"],[0.1,\"#c51b7d\"],[0.2,\"#de77ae\"],[0.3,\"#f1b6da\"],[0.4,\"#fde0ef\"],[0.5,\"#f7f7f7\"],[0.6,\"#e6f5d0\"],[0.7,\"#b8e186\"],[0.8,\"#7fbc41\"],[0.9,\"#4d9221\"],[1,\"#276419\"]],\"sequential\":[[0.0,\"#0d0887\"],[0.1111111111111111,\"#46039f\"],[0.2222222222222222,\"#7201a8\"],[0.3333333333333333,\"#9c179e\"],[0.4444444444444444,\"#bd3786\"],[0.5555555555555556,\"#d8576b\"],[0.6666666666666666,\"#ed7953\"],[0.7777777777777778,\"#fb9f3a\"],[0.8888888888888888,\"#fdca26\"],[1.0,\"#f0f921\"]],\"sequentialminus\":[[0.0,\"#0d0887\"],[0.1111111111111111,\"#46039f\"],[0.2222222222222222,\"#7201a8\"],[0.3333333333333333,\"#9c179e\"],[0.4444444444444444,\"#bd3786\"],[0.5555555555555556,\"#d8576b\"],[0.6666666666666666,\"#ed7953\"],[0.7777777777777778,\"#fb9f3a\"],[0.8888888888888888,\"#fdca26\"],[1.0,\"#f0f921\"]]},\"colorway\":[\"#636efa\",\"#EF553B\",\"#00cc96\",\"#ab63fa\",\"#FFA15A\",\"#19d3f3\",\"#FF6692\",\"#B6E880\",\"#FF97FF\",\"#FECB52\"],\"font\":{\"color\":\"#2a3f5f\"},\"geo\":{\"bgcolor\":\"white\",\"lakecolor\":\"white\",\"landcolor\":\"#E5ECF6\",\"showlakes\":true,\"showland\":true,\"subunitcolor\":\"white\"},\"hoverlabel\":{\"align\":\"left\"},\"hovermode\":\"closest\",\"mapbox\":{\"style\":\"light\"},\"paper_bgcolor\":\"white\",\"plot_bgcolor\":\"#E5ECF6\",\"polar\":{\"angularaxis\":{\"gridcolor\":\"white\",\"linecolor\":\"white\",\"ticks\":\"\"},\"bgcolor\":\"#E5ECF6\",\"radialaxis\":{\"gridcolor\":\"white\",\"linecolor\":\"white\",\"ticks\":\"\"}},\"scene\":{\"xaxis\":{\"backgroundcolor\":\"#E5ECF6\",\"gridcolor\":\"white\",\"gridwidth\":2,\"linecolor\":\"white\",\"showbackground\":true,\"ticks\":\"\",\"zerolinecolor\":\"white\"},\"yaxis\":{\"backgroundcolor\":\"#E5ECF6\",\"gridcolor\":\"white\",\"gridwidth\":2,\"linecolor\":\"white\",\"showbackground\":true,\"ticks\":\"\",\"zerolinecolor\":\"white\"},\"zaxis\":{\"backgroundcolor\":\"#E5ECF6\",\"gridcolor\":\"white\",\"gridwidth\":2,\"linecolor\":\"white\",\"showbackground\":true,\"ticks\":\"\",\"zerolinecolor\":\"white\"}},\"shapedefaults\":{\"line\":{\"color\":\"#2a3f5f\"}},\"ternary\":{\"aaxis\":{\"gridcolor\":\"white\",\"linecolor\":\"white\",\"ticks\":\"\"},\"baxis\":{\"gridcolor\":\"white\",\"linecolor\":\"white\",\"ticks\":\"\"},\"bgcolor\":\"#E5ECF6\",\"caxis\":{\"gridcolor\":\"white\",\"linecolor\":\"white\",\"ticks\":\"\"}},\"title\":{\"x\":0.05},\"xaxis\":{\"automargin\":true,\"gridcolor\":\"white\",\"linecolor\":\"white\",\"ticks\":\"\",\"title\":{\"standoff\":15},\"zerolinecolor\":\"white\",\"zerolinewidth\":2},\"yaxis\":{\"automargin\":true,\"gridcolor\":\"white\",\"linecolor\":\"white\",\"ticks\":\"\",\"title\":{\"standoff\":15},\"zerolinecolor\":\"white\",\"zerolinewidth\":2}}},\"title\":{\"font\":{\"color\":\"#4D5663\"}},\"xaxis\":{\"gridcolor\":\"#E1E5ED\",\"showgrid\":true,\"tickfont\":{\"color\":\"#4D5663\"},\"title\":{\"font\":{\"color\":\"#4D5663\"},\"text\":\"\"},\"zerolinecolor\":\"#E1E5ED\"},\"yaxis\":{\"gridcolor\":\"#E1E5ED\",\"showgrid\":true,\"tickfont\":{\"color\":\"#4D5663\"},\"title\":{\"font\":{\"color\":\"#4D5663\"},\"text\":\"\"},\"zerolinecolor\":\"#E1E5ED\"}},                        {\"showLink\": true, \"linkText\": \"Export to plot.ly\", \"plotlyServerURL\": \"https://plot.ly\", \"responsive\": true}                    ).then(function(){\n",
       "                            \n",
       "var gd = document.getElementById('cd50131b-2975-4178-b977-aaa521670c17');\n",
       "var x = new MutationObserver(function (mutations, observer) {{\n",
       "        var display = window.getComputedStyle(gd).display;\n",
       "        if (!display || display === 'none') {{\n",
       "            console.log([gd, 'removed!']);\n",
       "            Plotly.purge(gd);\n",
       "            observer.disconnect();\n",
       "        }}\n",
       "}});\n",
       "\n",
       "// Listen for the removal of the full notebook cells\n",
       "var notebookContainer = gd.closest('#notebook-container');\n",
       "if (notebookContainer) {{\n",
       "    x.observe(notebookContainer, {childList: true});\n",
       "}}\n",
       "\n",
       "// Listen for the clearing of the current output cell\n",
       "var outputEl = gd.closest('.output');\n",
       "if (outputEl) {{\n",
       "    x.observe(outputEl, {childList: true});\n",
       "}}\n",
       "\n",
       "                        })                };                });            </script>        </div>"
      ]
     },
     "metadata": {},
     "output_type": "display_data"
    }
   ],
   "source": [
    "#boxplots\n",
    "df.iplot(kind='box')"
   ]
  },
  {
   "cell_type": "code",
   "execution_count": 42,
   "id": "e91f8247",
   "metadata": {},
   "outputs": [],
   "source": [
    "df3=pd.DataFrame({'x':[1,2,3,4,5],'y':[10,20,30,20,10],'z':[500,400,300,200,100]})"
   ]
  },
  {
   "cell_type": "code",
   "execution_count": 44,
   "id": "54d30b0e",
   "metadata": {},
   "outputs": [
    {
     "data": {
      "text/html": [
       "<div>\n",
       "<style scoped>\n",
       "    .dataframe tbody tr th:only-of-type {\n",
       "        vertical-align: middle;\n",
       "    }\n",
       "\n",
       "    .dataframe tbody tr th {\n",
       "        vertical-align: top;\n",
       "    }\n",
       "\n",
       "    .dataframe thead th {\n",
       "        text-align: right;\n",
       "    }\n",
       "</style>\n",
       "<table border=\"1\" class=\"dataframe\">\n",
       "  <thead>\n",
       "    <tr style=\"text-align: right;\">\n",
       "      <th></th>\n",
       "      <th>x</th>\n",
       "      <th>y</th>\n",
       "      <th>z</th>\n",
       "    </tr>\n",
       "  </thead>\n",
       "  <tbody>\n",
       "    <tr>\n",
       "      <th>0</th>\n",
       "      <td>1</td>\n",
       "      <td>10</td>\n",
       "      <td>500</td>\n",
       "    </tr>\n",
       "    <tr>\n",
       "      <th>1</th>\n",
       "      <td>2</td>\n",
       "      <td>20</td>\n",
       "      <td>400</td>\n",
       "    </tr>\n",
       "    <tr>\n",
       "      <th>2</th>\n",
       "      <td>3</td>\n",
       "      <td>30</td>\n",
       "      <td>300</td>\n",
       "    </tr>\n",
       "    <tr>\n",
       "      <th>3</th>\n",
       "      <td>4</td>\n",
       "      <td>20</td>\n",
       "      <td>200</td>\n",
       "    </tr>\n",
       "    <tr>\n",
       "      <th>4</th>\n",
       "      <td>5</td>\n",
       "      <td>10</td>\n",
       "      <td>100</td>\n",
       "    </tr>\n",
       "  </tbody>\n",
       "</table>\n",
       "</div>"
      ],
      "text/plain": [
       "   x   y    z\n",
       "0  1  10  500\n",
       "1  2  20  400\n",
       "2  3  30  300\n",
       "3  4  20  200\n",
       "4  5  10  100"
      ]
     },
     "execution_count": 44,
     "metadata": {},
     "output_type": "execute_result"
    }
   ],
   "source": [
    "df3"
   ]
  },
  {
   "cell_type": "code",
   "execution_count": 45,
   "id": "93203984",
   "metadata": {
    "scrolled": false
   },
   "outputs": [
    {
     "data": {
      "application/vnd.plotly.v1+json": {
       "config": {
        "linkText": "Export to plot.ly",
        "plotlyServerURL": "https://plot.ly",
        "showLink": true
       },
       "data": [
        {
         "colorscale": [
          [
           0,
           "rgb(255, 153, 51)"
          ],
          [
           0.1111111111111111,
           "rgb(55, 128, 191)"
          ],
          [
           0.2222222222222222,
           "rgb(50, 171, 96)"
          ],
          [
           0.3333333333333333,
           "rgb(128, 0, 128)"
          ],
          [
           0.4444444444444444,
           "rgb(219, 64, 82)"
          ],
          [
           0.5555555555555556,
           "rgb(0, 128, 128)"
          ],
          [
           0.6666666666666666,
           "rgb(255, 255, 51)"
          ],
          [
           0.7777777777777778,
           "rgb(128, 128, 0)"
          ],
          [
           0.8888888888888888,
           "rgb(251, 128, 114)"
          ],
          [
           1,
           "rgb(128, 177, 211)"
          ]
         ],
         "type": "surface",
         "x": [
          0,
          1,
          2,
          3,
          4
         ],
         "y": [
          "x",
          "y",
          "z"
         ],
         "z": [
          [
           1,
           2,
           3,
           4,
           5
          ],
          [
           10,
           20,
           30,
           20,
           10
          ],
          [
           500,
           400,
           300,
           200,
           100
          ]
         ]
        }
       ],
       "layout": {
        "legend": {
         "bgcolor": "#F5F6F9",
         "font": {
          "color": "#4D5663"
         }
        },
        "paper_bgcolor": "#F5F6F9",
        "plot_bgcolor": "#F5F6F9",
        "template": {
         "data": {
          "bar": [
           {
            "error_x": {
             "color": "#2a3f5f"
            },
            "error_y": {
             "color": "#2a3f5f"
            },
            "marker": {
             "line": {
              "color": "#E5ECF6",
              "width": 0.5
             },
             "pattern": {
              "fillmode": "overlay",
              "size": 10,
              "solidity": 0.2
             }
            },
            "type": "bar"
           }
          ],
          "barpolar": [
           {
            "marker": {
             "line": {
              "color": "#E5ECF6",
              "width": 0.5
             },
             "pattern": {
              "fillmode": "overlay",
              "size": 10,
              "solidity": 0.2
             }
            },
            "type": "barpolar"
           }
          ],
          "carpet": [
           {
            "aaxis": {
             "endlinecolor": "#2a3f5f",
             "gridcolor": "white",
             "linecolor": "white",
             "minorgridcolor": "white",
             "startlinecolor": "#2a3f5f"
            },
            "baxis": {
             "endlinecolor": "#2a3f5f",
             "gridcolor": "white",
             "linecolor": "white",
             "minorgridcolor": "white",
             "startlinecolor": "#2a3f5f"
            },
            "type": "carpet"
           }
          ],
          "choropleth": [
           {
            "colorbar": {
             "outlinewidth": 0,
             "ticks": ""
            },
            "type": "choropleth"
           }
          ],
          "contour": [
           {
            "colorbar": {
             "outlinewidth": 0,
             "ticks": ""
            },
            "colorscale": [
             [
              0,
              "#0d0887"
             ],
             [
              0.1111111111111111,
              "#46039f"
             ],
             [
              0.2222222222222222,
              "#7201a8"
             ],
             [
              0.3333333333333333,
              "#9c179e"
             ],
             [
              0.4444444444444444,
              "#bd3786"
             ],
             [
              0.5555555555555556,
              "#d8576b"
             ],
             [
              0.6666666666666666,
              "#ed7953"
             ],
             [
              0.7777777777777778,
              "#fb9f3a"
             ],
             [
              0.8888888888888888,
              "#fdca26"
             ],
             [
              1,
              "#f0f921"
             ]
            ],
            "type": "contour"
           }
          ],
          "contourcarpet": [
           {
            "colorbar": {
             "outlinewidth": 0,
             "ticks": ""
            },
            "type": "contourcarpet"
           }
          ],
          "heatmap": [
           {
            "colorbar": {
             "outlinewidth": 0,
             "ticks": ""
            },
            "colorscale": [
             [
              0,
              "#0d0887"
             ],
             [
              0.1111111111111111,
              "#46039f"
             ],
             [
              0.2222222222222222,
              "#7201a8"
             ],
             [
              0.3333333333333333,
              "#9c179e"
             ],
             [
              0.4444444444444444,
              "#bd3786"
             ],
             [
              0.5555555555555556,
              "#d8576b"
             ],
             [
              0.6666666666666666,
              "#ed7953"
             ],
             [
              0.7777777777777778,
              "#fb9f3a"
             ],
             [
              0.8888888888888888,
              "#fdca26"
             ],
             [
              1,
              "#f0f921"
             ]
            ],
            "type": "heatmap"
           }
          ],
          "heatmapgl": [
           {
            "colorbar": {
             "outlinewidth": 0,
             "ticks": ""
            },
            "colorscale": [
             [
              0,
              "#0d0887"
             ],
             [
              0.1111111111111111,
              "#46039f"
             ],
             [
              0.2222222222222222,
              "#7201a8"
             ],
             [
              0.3333333333333333,
              "#9c179e"
             ],
             [
              0.4444444444444444,
              "#bd3786"
             ],
             [
              0.5555555555555556,
              "#d8576b"
             ],
             [
              0.6666666666666666,
              "#ed7953"
             ],
             [
              0.7777777777777778,
              "#fb9f3a"
             ],
             [
              0.8888888888888888,
              "#fdca26"
             ],
             [
              1,
              "#f0f921"
             ]
            ],
            "type": "heatmapgl"
           }
          ],
          "histogram": [
           {
            "marker": {
             "pattern": {
              "fillmode": "overlay",
              "size": 10,
              "solidity": 0.2
             }
            },
            "type": "histogram"
           }
          ],
          "histogram2d": [
           {
            "colorbar": {
             "outlinewidth": 0,
             "ticks": ""
            },
            "colorscale": [
             [
              0,
              "#0d0887"
             ],
             [
              0.1111111111111111,
              "#46039f"
             ],
             [
              0.2222222222222222,
              "#7201a8"
             ],
             [
              0.3333333333333333,
              "#9c179e"
             ],
             [
              0.4444444444444444,
              "#bd3786"
             ],
             [
              0.5555555555555556,
              "#d8576b"
             ],
             [
              0.6666666666666666,
              "#ed7953"
             ],
             [
              0.7777777777777778,
              "#fb9f3a"
             ],
             [
              0.8888888888888888,
              "#fdca26"
             ],
             [
              1,
              "#f0f921"
             ]
            ],
            "type": "histogram2d"
           }
          ],
          "histogram2dcontour": [
           {
            "colorbar": {
             "outlinewidth": 0,
             "ticks": ""
            },
            "colorscale": [
             [
              0,
              "#0d0887"
             ],
             [
              0.1111111111111111,
              "#46039f"
             ],
             [
              0.2222222222222222,
              "#7201a8"
             ],
             [
              0.3333333333333333,
              "#9c179e"
             ],
             [
              0.4444444444444444,
              "#bd3786"
             ],
             [
              0.5555555555555556,
              "#d8576b"
             ],
             [
              0.6666666666666666,
              "#ed7953"
             ],
             [
              0.7777777777777778,
              "#fb9f3a"
             ],
             [
              0.8888888888888888,
              "#fdca26"
             ],
             [
              1,
              "#f0f921"
             ]
            ],
            "type": "histogram2dcontour"
           }
          ],
          "mesh3d": [
           {
            "colorbar": {
             "outlinewidth": 0,
             "ticks": ""
            },
            "type": "mesh3d"
           }
          ],
          "parcoords": [
           {
            "line": {
             "colorbar": {
              "outlinewidth": 0,
              "ticks": ""
             }
            },
            "type": "parcoords"
           }
          ],
          "pie": [
           {
            "automargin": true,
            "type": "pie"
           }
          ],
          "scatter": [
           {
            "fillpattern": {
             "fillmode": "overlay",
             "size": 10,
             "solidity": 0.2
            },
            "type": "scatter"
           }
          ],
          "scatter3d": [
           {
            "line": {
             "colorbar": {
              "outlinewidth": 0,
              "ticks": ""
             }
            },
            "marker": {
             "colorbar": {
              "outlinewidth": 0,
              "ticks": ""
             }
            },
            "type": "scatter3d"
           }
          ],
          "scattercarpet": [
           {
            "marker": {
             "colorbar": {
              "outlinewidth": 0,
              "ticks": ""
             }
            },
            "type": "scattercarpet"
           }
          ],
          "scattergeo": [
           {
            "marker": {
             "colorbar": {
              "outlinewidth": 0,
              "ticks": ""
             }
            },
            "type": "scattergeo"
           }
          ],
          "scattergl": [
           {
            "marker": {
             "colorbar": {
              "outlinewidth": 0,
              "ticks": ""
             }
            },
            "type": "scattergl"
           }
          ],
          "scattermapbox": [
           {
            "marker": {
             "colorbar": {
              "outlinewidth": 0,
              "ticks": ""
             }
            },
            "type": "scattermapbox"
           }
          ],
          "scatterpolar": [
           {
            "marker": {
             "colorbar": {
              "outlinewidth": 0,
              "ticks": ""
             }
            },
            "type": "scatterpolar"
           }
          ],
          "scatterpolargl": [
           {
            "marker": {
             "colorbar": {
              "outlinewidth": 0,
              "ticks": ""
             }
            },
            "type": "scatterpolargl"
           }
          ],
          "scatterternary": [
           {
            "marker": {
             "colorbar": {
              "outlinewidth": 0,
              "ticks": ""
             }
            },
            "type": "scatterternary"
           }
          ],
          "surface": [
           {
            "colorbar": {
             "outlinewidth": 0,
             "ticks": ""
            },
            "colorscale": [
             [
              0,
              "#0d0887"
             ],
             [
              0.1111111111111111,
              "#46039f"
             ],
             [
              0.2222222222222222,
              "#7201a8"
             ],
             [
              0.3333333333333333,
              "#9c179e"
             ],
             [
              0.4444444444444444,
              "#bd3786"
             ],
             [
              0.5555555555555556,
              "#d8576b"
             ],
             [
              0.6666666666666666,
              "#ed7953"
             ],
             [
              0.7777777777777778,
              "#fb9f3a"
             ],
             [
              0.8888888888888888,
              "#fdca26"
             ],
             [
              1,
              "#f0f921"
             ]
            ],
            "type": "surface"
           }
          ],
          "table": [
           {
            "cells": {
             "fill": {
              "color": "#EBF0F8"
             },
             "line": {
              "color": "white"
             }
            },
            "header": {
             "fill": {
              "color": "#C8D4E3"
             },
             "line": {
              "color": "white"
             }
            },
            "type": "table"
           }
          ]
         },
         "layout": {
          "annotationdefaults": {
           "arrowcolor": "#2a3f5f",
           "arrowhead": 0,
           "arrowwidth": 1
          },
          "autotypenumbers": "strict",
          "coloraxis": {
           "colorbar": {
            "outlinewidth": 0,
            "ticks": ""
           }
          },
          "colorscale": {
           "diverging": [
            [
             0,
             "#8e0152"
            ],
            [
             0.1,
             "#c51b7d"
            ],
            [
             0.2,
             "#de77ae"
            ],
            [
             0.3,
             "#f1b6da"
            ],
            [
             0.4,
             "#fde0ef"
            ],
            [
             0.5,
             "#f7f7f7"
            ],
            [
             0.6,
             "#e6f5d0"
            ],
            [
             0.7,
             "#b8e186"
            ],
            [
             0.8,
             "#7fbc41"
            ],
            [
             0.9,
             "#4d9221"
            ],
            [
             1,
             "#276419"
            ]
           ],
           "sequential": [
            [
             0,
             "#0d0887"
            ],
            [
             0.1111111111111111,
             "#46039f"
            ],
            [
             0.2222222222222222,
             "#7201a8"
            ],
            [
             0.3333333333333333,
             "#9c179e"
            ],
            [
             0.4444444444444444,
             "#bd3786"
            ],
            [
             0.5555555555555556,
             "#d8576b"
            ],
            [
             0.6666666666666666,
             "#ed7953"
            ],
            [
             0.7777777777777778,
             "#fb9f3a"
            ],
            [
             0.8888888888888888,
             "#fdca26"
            ],
            [
             1,
             "#f0f921"
            ]
           ],
           "sequentialminus": [
            [
             0,
             "#0d0887"
            ],
            [
             0.1111111111111111,
             "#46039f"
            ],
            [
             0.2222222222222222,
             "#7201a8"
            ],
            [
             0.3333333333333333,
             "#9c179e"
            ],
            [
             0.4444444444444444,
             "#bd3786"
            ],
            [
             0.5555555555555556,
             "#d8576b"
            ],
            [
             0.6666666666666666,
             "#ed7953"
            ],
            [
             0.7777777777777778,
             "#fb9f3a"
            ],
            [
             0.8888888888888888,
             "#fdca26"
            ],
            [
             1,
             "#f0f921"
            ]
           ]
          },
          "colorway": [
           "#636efa",
           "#EF553B",
           "#00cc96",
           "#ab63fa",
           "#FFA15A",
           "#19d3f3",
           "#FF6692",
           "#B6E880",
           "#FF97FF",
           "#FECB52"
          ],
          "font": {
           "color": "#2a3f5f"
          },
          "geo": {
           "bgcolor": "white",
           "lakecolor": "white",
           "landcolor": "#E5ECF6",
           "showlakes": true,
           "showland": true,
           "subunitcolor": "white"
          },
          "hoverlabel": {
           "align": "left"
          },
          "hovermode": "closest",
          "mapbox": {
           "style": "light"
          },
          "paper_bgcolor": "white",
          "plot_bgcolor": "#E5ECF6",
          "polar": {
           "angularaxis": {
            "gridcolor": "white",
            "linecolor": "white",
            "ticks": ""
           },
           "bgcolor": "#E5ECF6",
           "radialaxis": {
            "gridcolor": "white",
            "linecolor": "white",
            "ticks": ""
           }
          },
          "scene": {
           "xaxis": {
            "backgroundcolor": "#E5ECF6",
            "gridcolor": "white",
            "gridwidth": 2,
            "linecolor": "white",
            "showbackground": true,
            "ticks": "",
            "zerolinecolor": "white"
           },
           "yaxis": {
            "backgroundcolor": "#E5ECF6",
            "gridcolor": "white",
            "gridwidth": 2,
            "linecolor": "white",
            "showbackground": true,
            "ticks": "",
            "zerolinecolor": "white"
           },
           "zaxis": {
            "backgroundcolor": "#E5ECF6",
            "gridcolor": "white",
            "gridwidth": 2,
            "linecolor": "white",
            "showbackground": true,
            "ticks": "",
            "zerolinecolor": "white"
           }
          },
          "shapedefaults": {
           "line": {
            "color": "#2a3f5f"
           }
          },
          "ternary": {
           "aaxis": {
            "gridcolor": "white",
            "linecolor": "white",
            "ticks": ""
           },
           "baxis": {
            "gridcolor": "white",
            "linecolor": "white",
            "ticks": ""
           },
           "bgcolor": "#E5ECF6",
           "caxis": {
            "gridcolor": "white",
            "linecolor": "white",
            "ticks": ""
           }
          },
          "title": {
           "x": 0.05
          },
          "xaxis": {
           "automargin": true,
           "gridcolor": "white",
           "linecolor": "white",
           "ticks": "",
           "title": {
            "standoff": 15
           },
           "zerolinecolor": "white",
           "zerolinewidth": 2
          },
          "yaxis": {
           "automargin": true,
           "gridcolor": "white",
           "linecolor": "white",
           "ticks": "",
           "title": {
            "standoff": 15
           },
           "zerolinecolor": "white",
           "zerolinewidth": 2
          }
         }
        },
        "title": {
         "font": {
          "color": "#4D5663"
         }
        },
        "xaxis": {
         "gridcolor": "#E1E5ED",
         "showgrid": true,
         "tickfont": {
          "color": "#4D5663"
         },
         "title": {
          "font": {
           "color": "#4D5663"
          },
          "text": ""
         },
         "zerolinecolor": "#E1E5ED"
        },
        "yaxis": {
         "gridcolor": "#E1E5ED",
         "showgrid": true,
         "tickfont": {
          "color": "#4D5663"
         },
         "title": {
          "font": {
           "color": "#4D5663"
          },
          "text": ""
         },
         "zerolinecolor": "#E1E5ED"
        }
       }
      },
      "text/html": [
       "<div>                            <div id=\"14a2dfb2-9869-43b2-90d1-09bd1f396a3a\" class=\"plotly-graph-div\" style=\"height:525px; width:100%;\"></div>            <script type=\"text/javascript\">                require([\"plotly\"], function(Plotly) {                    window.PLOTLYENV=window.PLOTLYENV || {};\n",
       "                    window.PLOTLYENV.BASE_URL='https://plot.ly';                                    if (document.getElementById(\"14a2dfb2-9869-43b2-90d1-09bd1f396a3a\")) {                    Plotly.newPlot(                        \"14a2dfb2-9869-43b2-90d1-09bd1f396a3a\",                        [{\"colorscale\":[[0.0,\"rgb(255, 153, 51)\"],[0.1111111111111111,\"rgb(55, 128, 191)\"],[0.2222222222222222,\"rgb(50, 171, 96)\"],[0.3333333333333333,\"rgb(128, 0, 128)\"],[0.4444444444444444,\"rgb(219, 64, 82)\"],[0.5555555555555556,\"rgb(0, 128, 128)\"],[0.6666666666666666,\"rgb(255, 255, 51)\"],[0.7777777777777778,\"rgb(128, 128, 0)\"],[0.8888888888888888,\"rgb(251, 128, 114)\"],[1.0,\"rgb(128, 177, 211)\"]],\"x\":[0,1,2,3,4],\"y\":[\"x\",\"y\",\"z\"],\"z\":[[1,2,3,4,5],[10,20,30,20,10],[500,400,300,200,100]],\"type\":\"surface\"}],                        {\"legend\":{\"bgcolor\":\"#F5F6F9\",\"font\":{\"color\":\"#4D5663\"}},\"paper_bgcolor\":\"#F5F6F9\",\"plot_bgcolor\":\"#F5F6F9\",\"template\":{\"data\":{\"barpolar\":[{\"marker\":{\"line\":{\"color\":\"#E5ECF6\",\"width\":0.5},\"pattern\":{\"fillmode\":\"overlay\",\"size\":10,\"solidity\":0.2}},\"type\":\"barpolar\"}],\"bar\":[{\"error_x\":{\"color\":\"#2a3f5f\"},\"error_y\":{\"color\":\"#2a3f5f\"},\"marker\":{\"line\":{\"color\":\"#E5ECF6\",\"width\":0.5},\"pattern\":{\"fillmode\":\"overlay\",\"size\":10,\"solidity\":0.2}},\"type\":\"bar\"}],\"carpet\":[{\"aaxis\":{\"endlinecolor\":\"#2a3f5f\",\"gridcolor\":\"white\",\"linecolor\":\"white\",\"minorgridcolor\":\"white\",\"startlinecolor\":\"#2a3f5f\"},\"baxis\":{\"endlinecolor\":\"#2a3f5f\",\"gridcolor\":\"white\",\"linecolor\":\"white\",\"minorgridcolor\":\"white\",\"startlinecolor\":\"#2a3f5f\"},\"type\":\"carpet\"}],\"choropleth\":[{\"colorbar\":{\"outlinewidth\":0,\"ticks\":\"\"},\"type\":\"choropleth\"}],\"contourcarpet\":[{\"colorbar\":{\"outlinewidth\":0,\"ticks\":\"\"},\"type\":\"contourcarpet\"}],\"contour\":[{\"colorbar\":{\"outlinewidth\":0,\"ticks\":\"\"},\"colorscale\":[[0.0,\"#0d0887\"],[0.1111111111111111,\"#46039f\"],[0.2222222222222222,\"#7201a8\"],[0.3333333333333333,\"#9c179e\"],[0.4444444444444444,\"#bd3786\"],[0.5555555555555556,\"#d8576b\"],[0.6666666666666666,\"#ed7953\"],[0.7777777777777778,\"#fb9f3a\"],[0.8888888888888888,\"#fdca26\"],[1.0,\"#f0f921\"]],\"type\":\"contour\"}],\"heatmapgl\":[{\"colorbar\":{\"outlinewidth\":0,\"ticks\":\"\"},\"colorscale\":[[0.0,\"#0d0887\"],[0.1111111111111111,\"#46039f\"],[0.2222222222222222,\"#7201a8\"],[0.3333333333333333,\"#9c179e\"],[0.4444444444444444,\"#bd3786\"],[0.5555555555555556,\"#d8576b\"],[0.6666666666666666,\"#ed7953\"],[0.7777777777777778,\"#fb9f3a\"],[0.8888888888888888,\"#fdca26\"],[1.0,\"#f0f921\"]],\"type\":\"heatmapgl\"}],\"heatmap\":[{\"colorbar\":{\"outlinewidth\":0,\"ticks\":\"\"},\"colorscale\":[[0.0,\"#0d0887\"],[0.1111111111111111,\"#46039f\"],[0.2222222222222222,\"#7201a8\"],[0.3333333333333333,\"#9c179e\"],[0.4444444444444444,\"#bd3786\"],[0.5555555555555556,\"#d8576b\"],[0.6666666666666666,\"#ed7953\"],[0.7777777777777778,\"#fb9f3a\"],[0.8888888888888888,\"#fdca26\"],[1.0,\"#f0f921\"]],\"type\":\"heatmap\"}],\"histogram2dcontour\":[{\"colorbar\":{\"outlinewidth\":0,\"ticks\":\"\"},\"colorscale\":[[0.0,\"#0d0887\"],[0.1111111111111111,\"#46039f\"],[0.2222222222222222,\"#7201a8\"],[0.3333333333333333,\"#9c179e\"],[0.4444444444444444,\"#bd3786\"],[0.5555555555555556,\"#d8576b\"],[0.6666666666666666,\"#ed7953\"],[0.7777777777777778,\"#fb9f3a\"],[0.8888888888888888,\"#fdca26\"],[1.0,\"#f0f921\"]],\"type\":\"histogram2dcontour\"}],\"histogram2d\":[{\"colorbar\":{\"outlinewidth\":0,\"ticks\":\"\"},\"colorscale\":[[0.0,\"#0d0887\"],[0.1111111111111111,\"#46039f\"],[0.2222222222222222,\"#7201a8\"],[0.3333333333333333,\"#9c179e\"],[0.4444444444444444,\"#bd3786\"],[0.5555555555555556,\"#d8576b\"],[0.6666666666666666,\"#ed7953\"],[0.7777777777777778,\"#fb9f3a\"],[0.8888888888888888,\"#fdca26\"],[1.0,\"#f0f921\"]],\"type\":\"histogram2d\"}],\"histogram\":[{\"marker\":{\"pattern\":{\"fillmode\":\"overlay\",\"size\":10,\"solidity\":0.2}},\"type\":\"histogram\"}],\"mesh3d\":[{\"colorbar\":{\"outlinewidth\":0,\"ticks\":\"\"},\"type\":\"mesh3d\"}],\"parcoords\":[{\"line\":{\"colorbar\":{\"outlinewidth\":0,\"ticks\":\"\"}},\"type\":\"parcoords\"}],\"pie\":[{\"automargin\":true,\"type\":\"pie\"}],\"scatter3d\":[{\"line\":{\"colorbar\":{\"outlinewidth\":0,\"ticks\":\"\"}},\"marker\":{\"colorbar\":{\"outlinewidth\":0,\"ticks\":\"\"}},\"type\":\"scatter3d\"}],\"scattercarpet\":[{\"marker\":{\"colorbar\":{\"outlinewidth\":0,\"ticks\":\"\"}},\"type\":\"scattercarpet\"}],\"scattergeo\":[{\"marker\":{\"colorbar\":{\"outlinewidth\":0,\"ticks\":\"\"}},\"type\":\"scattergeo\"}],\"scattergl\":[{\"marker\":{\"colorbar\":{\"outlinewidth\":0,\"ticks\":\"\"}},\"type\":\"scattergl\"}],\"scattermapbox\":[{\"marker\":{\"colorbar\":{\"outlinewidth\":0,\"ticks\":\"\"}},\"type\":\"scattermapbox\"}],\"scatterpolargl\":[{\"marker\":{\"colorbar\":{\"outlinewidth\":0,\"ticks\":\"\"}},\"type\":\"scatterpolargl\"}],\"scatterpolar\":[{\"marker\":{\"colorbar\":{\"outlinewidth\":0,\"ticks\":\"\"}},\"type\":\"scatterpolar\"}],\"scatter\":[{\"fillpattern\":{\"fillmode\":\"overlay\",\"size\":10,\"solidity\":0.2},\"type\":\"scatter\"}],\"scatterternary\":[{\"marker\":{\"colorbar\":{\"outlinewidth\":0,\"ticks\":\"\"}},\"type\":\"scatterternary\"}],\"surface\":[{\"colorbar\":{\"outlinewidth\":0,\"ticks\":\"\"},\"colorscale\":[[0.0,\"#0d0887\"],[0.1111111111111111,\"#46039f\"],[0.2222222222222222,\"#7201a8\"],[0.3333333333333333,\"#9c179e\"],[0.4444444444444444,\"#bd3786\"],[0.5555555555555556,\"#d8576b\"],[0.6666666666666666,\"#ed7953\"],[0.7777777777777778,\"#fb9f3a\"],[0.8888888888888888,\"#fdca26\"],[1.0,\"#f0f921\"]],\"type\":\"surface\"}],\"table\":[{\"cells\":{\"fill\":{\"color\":\"#EBF0F8\"},\"line\":{\"color\":\"white\"}},\"header\":{\"fill\":{\"color\":\"#C8D4E3\"},\"line\":{\"color\":\"white\"}},\"type\":\"table\"}]},\"layout\":{\"annotationdefaults\":{\"arrowcolor\":\"#2a3f5f\",\"arrowhead\":0,\"arrowwidth\":1},\"autotypenumbers\":\"strict\",\"coloraxis\":{\"colorbar\":{\"outlinewidth\":0,\"ticks\":\"\"}},\"colorscale\":{\"diverging\":[[0,\"#8e0152\"],[0.1,\"#c51b7d\"],[0.2,\"#de77ae\"],[0.3,\"#f1b6da\"],[0.4,\"#fde0ef\"],[0.5,\"#f7f7f7\"],[0.6,\"#e6f5d0\"],[0.7,\"#b8e186\"],[0.8,\"#7fbc41\"],[0.9,\"#4d9221\"],[1,\"#276419\"]],\"sequential\":[[0.0,\"#0d0887\"],[0.1111111111111111,\"#46039f\"],[0.2222222222222222,\"#7201a8\"],[0.3333333333333333,\"#9c179e\"],[0.4444444444444444,\"#bd3786\"],[0.5555555555555556,\"#d8576b\"],[0.6666666666666666,\"#ed7953\"],[0.7777777777777778,\"#fb9f3a\"],[0.8888888888888888,\"#fdca26\"],[1.0,\"#f0f921\"]],\"sequentialminus\":[[0.0,\"#0d0887\"],[0.1111111111111111,\"#46039f\"],[0.2222222222222222,\"#7201a8\"],[0.3333333333333333,\"#9c179e\"],[0.4444444444444444,\"#bd3786\"],[0.5555555555555556,\"#d8576b\"],[0.6666666666666666,\"#ed7953\"],[0.7777777777777778,\"#fb9f3a\"],[0.8888888888888888,\"#fdca26\"],[1.0,\"#f0f921\"]]},\"colorway\":[\"#636efa\",\"#EF553B\",\"#00cc96\",\"#ab63fa\",\"#FFA15A\",\"#19d3f3\",\"#FF6692\",\"#B6E880\",\"#FF97FF\",\"#FECB52\"],\"font\":{\"color\":\"#2a3f5f\"},\"geo\":{\"bgcolor\":\"white\",\"lakecolor\":\"white\",\"landcolor\":\"#E5ECF6\",\"showlakes\":true,\"showland\":true,\"subunitcolor\":\"white\"},\"hoverlabel\":{\"align\":\"left\"},\"hovermode\":\"closest\",\"mapbox\":{\"style\":\"light\"},\"paper_bgcolor\":\"white\",\"plot_bgcolor\":\"#E5ECF6\",\"polar\":{\"angularaxis\":{\"gridcolor\":\"white\",\"linecolor\":\"white\",\"ticks\":\"\"},\"bgcolor\":\"#E5ECF6\",\"radialaxis\":{\"gridcolor\":\"white\",\"linecolor\":\"white\",\"ticks\":\"\"}},\"scene\":{\"xaxis\":{\"backgroundcolor\":\"#E5ECF6\",\"gridcolor\":\"white\",\"gridwidth\":2,\"linecolor\":\"white\",\"showbackground\":true,\"ticks\":\"\",\"zerolinecolor\":\"white\"},\"yaxis\":{\"backgroundcolor\":\"#E5ECF6\",\"gridcolor\":\"white\",\"gridwidth\":2,\"linecolor\":\"white\",\"showbackground\":true,\"ticks\":\"\",\"zerolinecolor\":\"white\"},\"zaxis\":{\"backgroundcolor\":\"#E5ECF6\",\"gridcolor\":\"white\",\"gridwidth\":2,\"linecolor\":\"white\",\"showbackground\":true,\"ticks\":\"\",\"zerolinecolor\":\"white\"}},\"shapedefaults\":{\"line\":{\"color\":\"#2a3f5f\"}},\"ternary\":{\"aaxis\":{\"gridcolor\":\"white\",\"linecolor\":\"white\",\"ticks\":\"\"},\"baxis\":{\"gridcolor\":\"white\",\"linecolor\":\"white\",\"ticks\":\"\"},\"bgcolor\":\"#E5ECF6\",\"caxis\":{\"gridcolor\":\"white\",\"linecolor\":\"white\",\"ticks\":\"\"}},\"title\":{\"x\":0.05},\"xaxis\":{\"automargin\":true,\"gridcolor\":\"white\",\"linecolor\":\"white\",\"ticks\":\"\",\"title\":{\"standoff\":15},\"zerolinecolor\":\"white\",\"zerolinewidth\":2},\"yaxis\":{\"automargin\":true,\"gridcolor\":\"white\",\"linecolor\":\"white\",\"ticks\":\"\",\"title\":{\"standoff\":15},\"zerolinecolor\":\"white\",\"zerolinewidth\":2}}},\"title\":{\"font\":{\"color\":\"#4D5663\"}},\"xaxis\":{\"gridcolor\":\"#E1E5ED\",\"showgrid\":true,\"tickfont\":{\"color\":\"#4D5663\"},\"title\":{\"font\":{\"color\":\"#4D5663\"},\"text\":\"\"},\"zerolinecolor\":\"#E1E5ED\"},\"yaxis\":{\"gridcolor\":\"#E1E5ED\",\"showgrid\":true,\"tickfont\":{\"color\":\"#4D5663\"},\"title\":{\"font\":{\"color\":\"#4D5663\"},\"text\":\"\"},\"zerolinecolor\":\"#E1E5ED\"}},                        {\"showLink\": true, \"linkText\": \"Export to plot.ly\", \"plotlyServerURL\": \"https://plot.ly\", \"responsive\": true}                    ).then(function(){\n",
       "                            \n",
       "var gd = document.getElementById('14a2dfb2-9869-43b2-90d1-09bd1f396a3a');\n",
       "var x = new MutationObserver(function (mutations, observer) {{\n",
       "        var display = window.getComputedStyle(gd).display;\n",
       "        if (!display || display === 'none') {{\n",
       "            console.log([gd, 'removed!']);\n",
       "            Plotly.purge(gd);\n",
       "            observer.disconnect();\n",
       "        }}\n",
       "}});\n",
       "\n",
       "// Listen for the removal of the full notebook cells\n",
       "var notebookContainer = gd.closest('#notebook-container');\n",
       "if (notebookContainer) {{\n",
       "    x.observe(notebookContainer, {childList: true});\n",
       "}}\n",
       "\n",
       "// Listen for the clearing of the current output cell\n",
       "var outputEl = gd.closest('.output');\n",
       "if (outputEl) {{\n",
       "    x.observe(outputEl, {childList: true});\n",
       "}}\n",
       "\n",
       "                        })                };                });            </script>        </div>"
      ]
     },
     "metadata": {},
     "output_type": "display_data"
    }
   ],
   "source": [
    "#surfaceplot\n",
    "df3.iplot(kind='surface')"
   ]
  },
  {
   "cell_type": "code",
   "execution_count": 46,
   "id": "310f0bf8",
   "metadata": {},
   "outputs": [],
   "source": [
    "df4=pd.DataFrame({'x':[1,2,3,4,5],'y':[10,20,30,20,10],'z':[5,4,3,2,1]})"
   ]
  },
  {
   "cell_type": "code",
   "execution_count": 48,
   "id": "9e53b844",
   "metadata": {},
   "outputs": [
    {
     "data": {
      "application/vnd.plotly.v1+json": {
       "config": {
        "linkText": "Export to plot.ly",
        "plotlyServerURL": "https://plot.ly",
        "showLink": true
       },
       "data": [
        {
         "colorscale": [
          [
           0,
           "rgb(165,0,38)"
          ],
          [
           0.1,
           "rgb(215,48,39)"
          ],
          [
           0.2,
           "rgb(244,109,67)"
          ],
          [
           0.3,
           "rgb(253,174,97)"
          ],
          [
           0.4,
           "rgb(254,224,144)"
          ],
          [
           0.5,
           "rgb(255,255,191)"
          ],
          [
           0.6,
           "rgb(224,243,248)"
          ],
          [
           0.7,
           "rgb(171,217,233)"
          ],
          [
           0.8,
           "rgb(116,173,209)"
          ],
          [
           0.9,
           "rgb(69,117,180)"
          ],
          [
           1,
           "rgb(49,54,149)"
          ]
         ],
         "type": "surface",
         "x": [
          0,
          1,
          2,
          3,
          4
         ],
         "y": [
          "x",
          "y",
          "z"
         ],
         "z": [
          [
           1,
           2,
           3,
           4,
           5
          ],
          [
           10,
           20,
           30,
           20,
           10
          ],
          [
           5,
           4,
           3,
           2,
           1
          ]
         ]
        }
       ],
       "layout": {
        "legend": {
         "bgcolor": "#F5F6F9",
         "font": {
          "color": "#4D5663"
         }
        },
        "paper_bgcolor": "#F5F6F9",
        "plot_bgcolor": "#F5F6F9",
        "template": {
         "data": {
          "bar": [
           {
            "error_x": {
             "color": "#2a3f5f"
            },
            "error_y": {
             "color": "#2a3f5f"
            },
            "marker": {
             "line": {
              "color": "#E5ECF6",
              "width": 0.5
             },
             "pattern": {
              "fillmode": "overlay",
              "size": 10,
              "solidity": 0.2
             }
            },
            "type": "bar"
           }
          ],
          "barpolar": [
           {
            "marker": {
             "line": {
              "color": "#E5ECF6",
              "width": 0.5
             },
             "pattern": {
              "fillmode": "overlay",
              "size": 10,
              "solidity": 0.2
             }
            },
            "type": "barpolar"
           }
          ],
          "carpet": [
           {
            "aaxis": {
             "endlinecolor": "#2a3f5f",
             "gridcolor": "white",
             "linecolor": "white",
             "minorgridcolor": "white",
             "startlinecolor": "#2a3f5f"
            },
            "baxis": {
             "endlinecolor": "#2a3f5f",
             "gridcolor": "white",
             "linecolor": "white",
             "minorgridcolor": "white",
             "startlinecolor": "#2a3f5f"
            },
            "type": "carpet"
           }
          ],
          "choropleth": [
           {
            "colorbar": {
             "outlinewidth": 0,
             "ticks": ""
            },
            "type": "choropleth"
           }
          ],
          "contour": [
           {
            "colorbar": {
             "outlinewidth": 0,
             "ticks": ""
            },
            "colorscale": [
             [
              0,
              "#0d0887"
             ],
             [
              0.1111111111111111,
              "#46039f"
             ],
             [
              0.2222222222222222,
              "#7201a8"
             ],
             [
              0.3333333333333333,
              "#9c179e"
             ],
             [
              0.4444444444444444,
              "#bd3786"
             ],
             [
              0.5555555555555556,
              "#d8576b"
             ],
             [
              0.6666666666666666,
              "#ed7953"
             ],
             [
              0.7777777777777778,
              "#fb9f3a"
             ],
             [
              0.8888888888888888,
              "#fdca26"
             ],
             [
              1,
              "#f0f921"
             ]
            ],
            "type": "contour"
           }
          ],
          "contourcarpet": [
           {
            "colorbar": {
             "outlinewidth": 0,
             "ticks": ""
            },
            "type": "contourcarpet"
           }
          ],
          "heatmap": [
           {
            "colorbar": {
             "outlinewidth": 0,
             "ticks": ""
            },
            "colorscale": [
             [
              0,
              "#0d0887"
             ],
             [
              0.1111111111111111,
              "#46039f"
             ],
             [
              0.2222222222222222,
              "#7201a8"
             ],
             [
              0.3333333333333333,
              "#9c179e"
             ],
             [
              0.4444444444444444,
              "#bd3786"
             ],
             [
              0.5555555555555556,
              "#d8576b"
             ],
             [
              0.6666666666666666,
              "#ed7953"
             ],
             [
              0.7777777777777778,
              "#fb9f3a"
             ],
             [
              0.8888888888888888,
              "#fdca26"
             ],
             [
              1,
              "#f0f921"
             ]
            ],
            "type": "heatmap"
           }
          ],
          "heatmapgl": [
           {
            "colorbar": {
             "outlinewidth": 0,
             "ticks": ""
            },
            "colorscale": [
             [
              0,
              "#0d0887"
             ],
             [
              0.1111111111111111,
              "#46039f"
             ],
             [
              0.2222222222222222,
              "#7201a8"
             ],
             [
              0.3333333333333333,
              "#9c179e"
             ],
             [
              0.4444444444444444,
              "#bd3786"
             ],
             [
              0.5555555555555556,
              "#d8576b"
             ],
             [
              0.6666666666666666,
              "#ed7953"
             ],
             [
              0.7777777777777778,
              "#fb9f3a"
             ],
             [
              0.8888888888888888,
              "#fdca26"
             ],
             [
              1,
              "#f0f921"
             ]
            ],
            "type": "heatmapgl"
           }
          ],
          "histogram": [
           {
            "marker": {
             "pattern": {
              "fillmode": "overlay",
              "size": 10,
              "solidity": 0.2
             }
            },
            "type": "histogram"
           }
          ],
          "histogram2d": [
           {
            "colorbar": {
             "outlinewidth": 0,
             "ticks": ""
            },
            "colorscale": [
             [
              0,
              "#0d0887"
             ],
             [
              0.1111111111111111,
              "#46039f"
             ],
             [
              0.2222222222222222,
              "#7201a8"
             ],
             [
              0.3333333333333333,
              "#9c179e"
             ],
             [
              0.4444444444444444,
              "#bd3786"
             ],
             [
              0.5555555555555556,
              "#d8576b"
             ],
             [
              0.6666666666666666,
              "#ed7953"
             ],
             [
              0.7777777777777778,
              "#fb9f3a"
             ],
             [
              0.8888888888888888,
              "#fdca26"
             ],
             [
              1,
              "#f0f921"
             ]
            ],
            "type": "histogram2d"
           }
          ],
          "histogram2dcontour": [
           {
            "colorbar": {
             "outlinewidth": 0,
             "ticks": ""
            },
            "colorscale": [
             [
              0,
              "#0d0887"
             ],
             [
              0.1111111111111111,
              "#46039f"
             ],
             [
              0.2222222222222222,
              "#7201a8"
             ],
             [
              0.3333333333333333,
              "#9c179e"
             ],
             [
              0.4444444444444444,
              "#bd3786"
             ],
             [
              0.5555555555555556,
              "#d8576b"
             ],
             [
              0.6666666666666666,
              "#ed7953"
             ],
             [
              0.7777777777777778,
              "#fb9f3a"
             ],
             [
              0.8888888888888888,
              "#fdca26"
             ],
             [
              1,
              "#f0f921"
             ]
            ],
            "type": "histogram2dcontour"
           }
          ],
          "mesh3d": [
           {
            "colorbar": {
             "outlinewidth": 0,
             "ticks": ""
            },
            "type": "mesh3d"
           }
          ],
          "parcoords": [
           {
            "line": {
             "colorbar": {
              "outlinewidth": 0,
              "ticks": ""
             }
            },
            "type": "parcoords"
           }
          ],
          "pie": [
           {
            "automargin": true,
            "type": "pie"
           }
          ],
          "scatter": [
           {
            "fillpattern": {
             "fillmode": "overlay",
             "size": 10,
             "solidity": 0.2
            },
            "type": "scatter"
           }
          ],
          "scatter3d": [
           {
            "line": {
             "colorbar": {
              "outlinewidth": 0,
              "ticks": ""
             }
            },
            "marker": {
             "colorbar": {
              "outlinewidth": 0,
              "ticks": ""
             }
            },
            "type": "scatter3d"
           }
          ],
          "scattercarpet": [
           {
            "marker": {
             "colorbar": {
              "outlinewidth": 0,
              "ticks": ""
             }
            },
            "type": "scattercarpet"
           }
          ],
          "scattergeo": [
           {
            "marker": {
             "colorbar": {
              "outlinewidth": 0,
              "ticks": ""
             }
            },
            "type": "scattergeo"
           }
          ],
          "scattergl": [
           {
            "marker": {
             "colorbar": {
              "outlinewidth": 0,
              "ticks": ""
             }
            },
            "type": "scattergl"
           }
          ],
          "scattermapbox": [
           {
            "marker": {
             "colorbar": {
              "outlinewidth": 0,
              "ticks": ""
             }
            },
            "type": "scattermapbox"
           }
          ],
          "scatterpolar": [
           {
            "marker": {
             "colorbar": {
              "outlinewidth": 0,
              "ticks": ""
             }
            },
            "type": "scatterpolar"
           }
          ],
          "scatterpolargl": [
           {
            "marker": {
             "colorbar": {
              "outlinewidth": 0,
              "ticks": ""
             }
            },
            "type": "scatterpolargl"
           }
          ],
          "scatterternary": [
           {
            "marker": {
             "colorbar": {
              "outlinewidth": 0,
              "ticks": ""
             }
            },
            "type": "scatterternary"
           }
          ],
          "surface": [
           {
            "colorbar": {
             "outlinewidth": 0,
             "ticks": ""
            },
            "colorscale": [
             [
              0,
              "#0d0887"
             ],
             [
              0.1111111111111111,
              "#46039f"
             ],
             [
              0.2222222222222222,
              "#7201a8"
             ],
             [
              0.3333333333333333,
              "#9c179e"
             ],
             [
              0.4444444444444444,
              "#bd3786"
             ],
             [
              0.5555555555555556,
              "#d8576b"
             ],
             [
              0.6666666666666666,
              "#ed7953"
             ],
             [
              0.7777777777777778,
              "#fb9f3a"
             ],
             [
              0.8888888888888888,
              "#fdca26"
             ],
             [
              1,
              "#f0f921"
             ]
            ],
            "type": "surface"
           }
          ],
          "table": [
           {
            "cells": {
             "fill": {
              "color": "#EBF0F8"
             },
             "line": {
              "color": "white"
             }
            },
            "header": {
             "fill": {
              "color": "#C8D4E3"
             },
             "line": {
              "color": "white"
             }
            },
            "type": "table"
           }
          ]
         },
         "layout": {
          "annotationdefaults": {
           "arrowcolor": "#2a3f5f",
           "arrowhead": 0,
           "arrowwidth": 1
          },
          "autotypenumbers": "strict",
          "coloraxis": {
           "colorbar": {
            "outlinewidth": 0,
            "ticks": ""
           }
          },
          "colorscale": {
           "diverging": [
            [
             0,
             "#8e0152"
            ],
            [
             0.1,
             "#c51b7d"
            ],
            [
             0.2,
             "#de77ae"
            ],
            [
             0.3,
             "#f1b6da"
            ],
            [
             0.4,
             "#fde0ef"
            ],
            [
             0.5,
             "#f7f7f7"
            ],
            [
             0.6,
             "#e6f5d0"
            ],
            [
             0.7,
             "#b8e186"
            ],
            [
             0.8,
             "#7fbc41"
            ],
            [
             0.9,
             "#4d9221"
            ],
            [
             1,
             "#276419"
            ]
           ],
           "sequential": [
            [
             0,
             "#0d0887"
            ],
            [
             0.1111111111111111,
             "#46039f"
            ],
            [
             0.2222222222222222,
             "#7201a8"
            ],
            [
             0.3333333333333333,
             "#9c179e"
            ],
            [
             0.4444444444444444,
             "#bd3786"
            ],
            [
             0.5555555555555556,
             "#d8576b"
            ],
            [
             0.6666666666666666,
             "#ed7953"
            ],
            [
             0.7777777777777778,
             "#fb9f3a"
            ],
            [
             0.8888888888888888,
             "#fdca26"
            ],
            [
             1,
             "#f0f921"
            ]
           ],
           "sequentialminus": [
            [
             0,
             "#0d0887"
            ],
            [
             0.1111111111111111,
             "#46039f"
            ],
            [
             0.2222222222222222,
             "#7201a8"
            ],
            [
             0.3333333333333333,
             "#9c179e"
            ],
            [
             0.4444444444444444,
             "#bd3786"
            ],
            [
             0.5555555555555556,
             "#d8576b"
            ],
            [
             0.6666666666666666,
             "#ed7953"
            ],
            [
             0.7777777777777778,
             "#fb9f3a"
            ],
            [
             0.8888888888888888,
             "#fdca26"
            ],
            [
             1,
             "#f0f921"
            ]
           ]
          },
          "colorway": [
           "#636efa",
           "#EF553B",
           "#00cc96",
           "#ab63fa",
           "#FFA15A",
           "#19d3f3",
           "#FF6692",
           "#B6E880",
           "#FF97FF",
           "#FECB52"
          ],
          "font": {
           "color": "#2a3f5f"
          },
          "geo": {
           "bgcolor": "white",
           "lakecolor": "white",
           "landcolor": "#E5ECF6",
           "showlakes": true,
           "showland": true,
           "subunitcolor": "white"
          },
          "hoverlabel": {
           "align": "left"
          },
          "hovermode": "closest",
          "mapbox": {
           "style": "light"
          },
          "paper_bgcolor": "white",
          "plot_bgcolor": "#E5ECF6",
          "polar": {
           "angularaxis": {
            "gridcolor": "white",
            "linecolor": "white",
            "ticks": ""
           },
           "bgcolor": "#E5ECF6",
           "radialaxis": {
            "gridcolor": "white",
            "linecolor": "white",
            "ticks": ""
           }
          },
          "scene": {
           "xaxis": {
            "backgroundcolor": "#E5ECF6",
            "gridcolor": "white",
            "gridwidth": 2,
            "linecolor": "white",
            "showbackground": true,
            "ticks": "",
            "zerolinecolor": "white"
           },
           "yaxis": {
            "backgroundcolor": "#E5ECF6",
            "gridcolor": "white",
            "gridwidth": 2,
            "linecolor": "white",
            "showbackground": true,
            "ticks": "",
            "zerolinecolor": "white"
           },
           "zaxis": {
            "backgroundcolor": "#E5ECF6",
            "gridcolor": "white",
            "gridwidth": 2,
            "linecolor": "white",
            "showbackground": true,
            "ticks": "",
            "zerolinecolor": "white"
           }
          },
          "shapedefaults": {
           "line": {
            "color": "#2a3f5f"
           }
          },
          "ternary": {
           "aaxis": {
            "gridcolor": "white",
            "linecolor": "white",
            "ticks": ""
           },
           "baxis": {
            "gridcolor": "white",
            "linecolor": "white",
            "ticks": ""
           },
           "bgcolor": "#E5ECF6",
           "caxis": {
            "gridcolor": "white",
            "linecolor": "white",
            "ticks": ""
           }
          },
          "title": {
           "x": 0.05
          },
          "xaxis": {
           "automargin": true,
           "gridcolor": "white",
           "linecolor": "white",
           "ticks": "",
           "title": {
            "standoff": 15
           },
           "zerolinecolor": "white",
           "zerolinewidth": 2
          },
          "yaxis": {
           "automargin": true,
           "gridcolor": "white",
           "linecolor": "white",
           "ticks": "",
           "title": {
            "standoff": 15
           },
           "zerolinecolor": "white",
           "zerolinewidth": 2
          }
         }
        },
        "title": {
         "font": {
          "color": "#4D5663"
         }
        },
        "xaxis": {
         "gridcolor": "#E1E5ED",
         "showgrid": true,
         "tickfont": {
          "color": "#4D5663"
         },
         "title": {
          "font": {
           "color": "#4D5663"
          },
          "text": ""
         },
         "zerolinecolor": "#E1E5ED"
        },
        "yaxis": {
         "gridcolor": "#E1E5ED",
         "showgrid": true,
         "tickfont": {
          "color": "#4D5663"
         },
         "title": {
          "font": {
           "color": "#4D5663"
          },
          "text": ""
         },
         "zerolinecolor": "#E1E5ED"
        }
       }
      },
      "text/html": [
       "<div>                            <div id=\"8a7391d0-005d-4319-8abe-40ab6413be40\" class=\"plotly-graph-div\" style=\"height:525px; width:100%;\"></div>            <script type=\"text/javascript\">                require([\"plotly\"], function(Plotly) {                    window.PLOTLYENV=window.PLOTLYENV || {};\n",
       "                    window.PLOTLYENV.BASE_URL='https://plot.ly';                                    if (document.getElementById(\"8a7391d0-005d-4319-8abe-40ab6413be40\")) {                    Plotly.newPlot(                        \"8a7391d0-005d-4319-8abe-40ab6413be40\",                        [{\"colorscale\":[[0.0,\"rgb(165,0,38)\"],[0.1,\"rgb(215,48,39)\"],[0.2,\"rgb(244,109,67)\"],[0.3,\"rgb(253,174,97)\"],[0.4,\"rgb(254,224,144)\"],[0.5,\"rgb(255,255,191)\"],[0.6,\"rgb(224,243,248)\"],[0.7,\"rgb(171,217,233)\"],[0.8,\"rgb(116,173,209)\"],[0.9,\"rgb(69,117,180)\"],[1.0,\"rgb(49,54,149)\"]],\"x\":[0,1,2,3,4],\"y\":[\"x\",\"y\",\"z\"],\"z\":[[1,2,3,4,5],[10,20,30,20,10],[5,4,3,2,1]],\"type\":\"surface\"}],                        {\"legend\":{\"bgcolor\":\"#F5F6F9\",\"font\":{\"color\":\"#4D5663\"}},\"paper_bgcolor\":\"#F5F6F9\",\"plot_bgcolor\":\"#F5F6F9\",\"template\":{\"data\":{\"barpolar\":[{\"marker\":{\"line\":{\"color\":\"#E5ECF6\",\"width\":0.5},\"pattern\":{\"fillmode\":\"overlay\",\"size\":10,\"solidity\":0.2}},\"type\":\"barpolar\"}],\"bar\":[{\"error_x\":{\"color\":\"#2a3f5f\"},\"error_y\":{\"color\":\"#2a3f5f\"},\"marker\":{\"line\":{\"color\":\"#E5ECF6\",\"width\":0.5},\"pattern\":{\"fillmode\":\"overlay\",\"size\":10,\"solidity\":0.2}},\"type\":\"bar\"}],\"carpet\":[{\"aaxis\":{\"endlinecolor\":\"#2a3f5f\",\"gridcolor\":\"white\",\"linecolor\":\"white\",\"minorgridcolor\":\"white\",\"startlinecolor\":\"#2a3f5f\"},\"baxis\":{\"endlinecolor\":\"#2a3f5f\",\"gridcolor\":\"white\",\"linecolor\":\"white\",\"minorgridcolor\":\"white\",\"startlinecolor\":\"#2a3f5f\"},\"type\":\"carpet\"}],\"choropleth\":[{\"colorbar\":{\"outlinewidth\":0,\"ticks\":\"\"},\"type\":\"choropleth\"}],\"contourcarpet\":[{\"colorbar\":{\"outlinewidth\":0,\"ticks\":\"\"},\"type\":\"contourcarpet\"}],\"contour\":[{\"colorbar\":{\"outlinewidth\":0,\"ticks\":\"\"},\"colorscale\":[[0.0,\"#0d0887\"],[0.1111111111111111,\"#46039f\"],[0.2222222222222222,\"#7201a8\"],[0.3333333333333333,\"#9c179e\"],[0.4444444444444444,\"#bd3786\"],[0.5555555555555556,\"#d8576b\"],[0.6666666666666666,\"#ed7953\"],[0.7777777777777778,\"#fb9f3a\"],[0.8888888888888888,\"#fdca26\"],[1.0,\"#f0f921\"]],\"type\":\"contour\"}],\"heatmapgl\":[{\"colorbar\":{\"outlinewidth\":0,\"ticks\":\"\"},\"colorscale\":[[0.0,\"#0d0887\"],[0.1111111111111111,\"#46039f\"],[0.2222222222222222,\"#7201a8\"],[0.3333333333333333,\"#9c179e\"],[0.4444444444444444,\"#bd3786\"],[0.5555555555555556,\"#d8576b\"],[0.6666666666666666,\"#ed7953\"],[0.7777777777777778,\"#fb9f3a\"],[0.8888888888888888,\"#fdca26\"],[1.0,\"#f0f921\"]],\"type\":\"heatmapgl\"}],\"heatmap\":[{\"colorbar\":{\"outlinewidth\":0,\"ticks\":\"\"},\"colorscale\":[[0.0,\"#0d0887\"],[0.1111111111111111,\"#46039f\"],[0.2222222222222222,\"#7201a8\"],[0.3333333333333333,\"#9c179e\"],[0.4444444444444444,\"#bd3786\"],[0.5555555555555556,\"#d8576b\"],[0.6666666666666666,\"#ed7953\"],[0.7777777777777778,\"#fb9f3a\"],[0.8888888888888888,\"#fdca26\"],[1.0,\"#f0f921\"]],\"type\":\"heatmap\"}],\"histogram2dcontour\":[{\"colorbar\":{\"outlinewidth\":0,\"ticks\":\"\"},\"colorscale\":[[0.0,\"#0d0887\"],[0.1111111111111111,\"#46039f\"],[0.2222222222222222,\"#7201a8\"],[0.3333333333333333,\"#9c179e\"],[0.4444444444444444,\"#bd3786\"],[0.5555555555555556,\"#d8576b\"],[0.6666666666666666,\"#ed7953\"],[0.7777777777777778,\"#fb9f3a\"],[0.8888888888888888,\"#fdca26\"],[1.0,\"#f0f921\"]],\"type\":\"histogram2dcontour\"}],\"histogram2d\":[{\"colorbar\":{\"outlinewidth\":0,\"ticks\":\"\"},\"colorscale\":[[0.0,\"#0d0887\"],[0.1111111111111111,\"#46039f\"],[0.2222222222222222,\"#7201a8\"],[0.3333333333333333,\"#9c179e\"],[0.4444444444444444,\"#bd3786\"],[0.5555555555555556,\"#d8576b\"],[0.6666666666666666,\"#ed7953\"],[0.7777777777777778,\"#fb9f3a\"],[0.8888888888888888,\"#fdca26\"],[1.0,\"#f0f921\"]],\"type\":\"histogram2d\"}],\"histogram\":[{\"marker\":{\"pattern\":{\"fillmode\":\"overlay\",\"size\":10,\"solidity\":0.2}},\"type\":\"histogram\"}],\"mesh3d\":[{\"colorbar\":{\"outlinewidth\":0,\"ticks\":\"\"},\"type\":\"mesh3d\"}],\"parcoords\":[{\"line\":{\"colorbar\":{\"outlinewidth\":0,\"ticks\":\"\"}},\"type\":\"parcoords\"}],\"pie\":[{\"automargin\":true,\"type\":\"pie\"}],\"scatter3d\":[{\"line\":{\"colorbar\":{\"outlinewidth\":0,\"ticks\":\"\"}},\"marker\":{\"colorbar\":{\"outlinewidth\":0,\"ticks\":\"\"}},\"type\":\"scatter3d\"}],\"scattercarpet\":[{\"marker\":{\"colorbar\":{\"outlinewidth\":0,\"ticks\":\"\"}},\"type\":\"scattercarpet\"}],\"scattergeo\":[{\"marker\":{\"colorbar\":{\"outlinewidth\":0,\"ticks\":\"\"}},\"type\":\"scattergeo\"}],\"scattergl\":[{\"marker\":{\"colorbar\":{\"outlinewidth\":0,\"ticks\":\"\"}},\"type\":\"scattergl\"}],\"scattermapbox\":[{\"marker\":{\"colorbar\":{\"outlinewidth\":0,\"ticks\":\"\"}},\"type\":\"scattermapbox\"}],\"scatterpolargl\":[{\"marker\":{\"colorbar\":{\"outlinewidth\":0,\"ticks\":\"\"}},\"type\":\"scatterpolargl\"}],\"scatterpolar\":[{\"marker\":{\"colorbar\":{\"outlinewidth\":0,\"ticks\":\"\"}},\"type\":\"scatterpolar\"}],\"scatter\":[{\"fillpattern\":{\"fillmode\":\"overlay\",\"size\":10,\"solidity\":0.2},\"type\":\"scatter\"}],\"scatterternary\":[{\"marker\":{\"colorbar\":{\"outlinewidth\":0,\"ticks\":\"\"}},\"type\":\"scatterternary\"}],\"surface\":[{\"colorbar\":{\"outlinewidth\":0,\"ticks\":\"\"},\"colorscale\":[[0.0,\"#0d0887\"],[0.1111111111111111,\"#46039f\"],[0.2222222222222222,\"#7201a8\"],[0.3333333333333333,\"#9c179e\"],[0.4444444444444444,\"#bd3786\"],[0.5555555555555556,\"#d8576b\"],[0.6666666666666666,\"#ed7953\"],[0.7777777777777778,\"#fb9f3a\"],[0.8888888888888888,\"#fdca26\"],[1.0,\"#f0f921\"]],\"type\":\"surface\"}],\"table\":[{\"cells\":{\"fill\":{\"color\":\"#EBF0F8\"},\"line\":{\"color\":\"white\"}},\"header\":{\"fill\":{\"color\":\"#C8D4E3\"},\"line\":{\"color\":\"white\"}},\"type\":\"table\"}]},\"layout\":{\"annotationdefaults\":{\"arrowcolor\":\"#2a3f5f\",\"arrowhead\":0,\"arrowwidth\":1},\"autotypenumbers\":\"strict\",\"coloraxis\":{\"colorbar\":{\"outlinewidth\":0,\"ticks\":\"\"}},\"colorscale\":{\"diverging\":[[0,\"#8e0152\"],[0.1,\"#c51b7d\"],[0.2,\"#de77ae\"],[0.3,\"#f1b6da\"],[0.4,\"#fde0ef\"],[0.5,\"#f7f7f7\"],[0.6,\"#e6f5d0\"],[0.7,\"#b8e186\"],[0.8,\"#7fbc41\"],[0.9,\"#4d9221\"],[1,\"#276419\"]],\"sequential\":[[0.0,\"#0d0887\"],[0.1111111111111111,\"#46039f\"],[0.2222222222222222,\"#7201a8\"],[0.3333333333333333,\"#9c179e\"],[0.4444444444444444,\"#bd3786\"],[0.5555555555555556,\"#d8576b\"],[0.6666666666666666,\"#ed7953\"],[0.7777777777777778,\"#fb9f3a\"],[0.8888888888888888,\"#fdca26\"],[1.0,\"#f0f921\"]],\"sequentialminus\":[[0.0,\"#0d0887\"],[0.1111111111111111,\"#46039f\"],[0.2222222222222222,\"#7201a8\"],[0.3333333333333333,\"#9c179e\"],[0.4444444444444444,\"#bd3786\"],[0.5555555555555556,\"#d8576b\"],[0.6666666666666666,\"#ed7953\"],[0.7777777777777778,\"#fb9f3a\"],[0.8888888888888888,\"#fdca26\"],[1.0,\"#f0f921\"]]},\"colorway\":[\"#636efa\",\"#EF553B\",\"#00cc96\",\"#ab63fa\",\"#FFA15A\",\"#19d3f3\",\"#FF6692\",\"#B6E880\",\"#FF97FF\",\"#FECB52\"],\"font\":{\"color\":\"#2a3f5f\"},\"geo\":{\"bgcolor\":\"white\",\"lakecolor\":\"white\",\"landcolor\":\"#E5ECF6\",\"showlakes\":true,\"showland\":true,\"subunitcolor\":\"white\"},\"hoverlabel\":{\"align\":\"left\"},\"hovermode\":\"closest\",\"mapbox\":{\"style\":\"light\"},\"paper_bgcolor\":\"white\",\"plot_bgcolor\":\"#E5ECF6\",\"polar\":{\"angularaxis\":{\"gridcolor\":\"white\",\"linecolor\":\"white\",\"ticks\":\"\"},\"bgcolor\":\"#E5ECF6\",\"radialaxis\":{\"gridcolor\":\"white\",\"linecolor\":\"white\",\"ticks\":\"\"}},\"scene\":{\"xaxis\":{\"backgroundcolor\":\"#E5ECF6\",\"gridcolor\":\"white\",\"gridwidth\":2,\"linecolor\":\"white\",\"showbackground\":true,\"ticks\":\"\",\"zerolinecolor\":\"white\"},\"yaxis\":{\"backgroundcolor\":\"#E5ECF6\",\"gridcolor\":\"white\",\"gridwidth\":2,\"linecolor\":\"white\",\"showbackground\":true,\"ticks\":\"\",\"zerolinecolor\":\"white\"},\"zaxis\":{\"backgroundcolor\":\"#E5ECF6\",\"gridcolor\":\"white\",\"gridwidth\":2,\"linecolor\":\"white\",\"showbackground\":true,\"ticks\":\"\",\"zerolinecolor\":\"white\"}},\"shapedefaults\":{\"line\":{\"color\":\"#2a3f5f\"}},\"ternary\":{\"aaxis\":{\"gridcolor\":\"white\",\"linecolor\":\"white\",\"ticks\":\"\"},\"baxis\":{\"gridcolor\":\"white\",\"linecolor\":\"white\",\"ticks\":\"\"},\"bgcolor\":\"#E5ECF6\",\"caxis\":{\"gridcolor\":\"white\",\"linecolor\":\"white\",\"ticks\":\"\"}},\"title\":{\"x\":0.05},\"xaxis\":{\"automargin\":true,\"gridcolor\":\"white\",\"linecolor\":\"white\",\"ticks\":\"\",\"title\":{\"standoff\":15},\"zerolinecolor\":\"white\",\"zerolinewidth\":2},\"yaxis\":{\"automargin\":true,\"gridcolor\":\"white\",\"linecolor\":\"white\",\"ticks\":\"\",\"title\":{\"standoff\":15},\"zerolinecolor\":\"white\",\"zerolinewidth\":2}}},\"title\":{\"font\":{\"color\":\"#4D5663\"}},\"xaxis\":{\"gridcolor\":\"#E1E5ED\",\"showgrid\":true,\"tickfont\":{\"color\":\"#4D5663\"},\"title\":{\"font\":{\"color\":\"#4D5663\"},\"text\":\"\"},\"zerolinecolor\":\"#E1E5ED\"},\"yaxis\":{\"gridcolor\":\"#E1E5ED\",\"showgrid\":true,\"tickfont\":{\"color\":\"#4D5663\"},\"title\":{\"font\":{\"color\":\"#4D5663\"},\"text\":\"\"},\"zerolinecolor\":\"#E1E5ED\"}},                        {\"showLink\": true, \"linkText\": \"Export to plot.ly\", \"plotlyServerURL\": \"https://plot.ly\", \"responsive\": true}                    ).then(function(){\n",
       "                            \n",
       "var gd = document.getElementById('8a7391d0-005d-4319-8abe-40ab6413be40');\n",
       "var x = new MutationObserver(function (mutations, observer) {{\n",
       "        var display = window.getComputedStyle(gd).display;\n",
       "        if (!display || display === 'none') {{\n",
       "            console.log([gd, 'removed!']);\n",
       "            Plotly.purge(gd);\n",
       "            observer.disconnect();\n",
       "        }}\n",
       "}});\n",
       "\n",
       "// Listen for the removal of the full notebook cells\n",
       "var notebookContainer = gd.closest('#notebook-container');\n",
       "if (notebookContainer) {{\n",
       "    x.observe(notebookContainer, {childList: true});\n",
       "}}\n",
       "\n",
       "// Listen for the clearing of the current output cell\n",
       "var outputEl = gd.closest('.output');\n",
       "if (outputEl) {{\n",
       "    x.observe(outputEl, {childList: true});\n",
       "}}\n",
       "\n",
       "                        })                };                });            </script>        </div>"
      ]
     },
     "metadata": {},
     "output_type": "display_data"
    }
   ],
   "source": [
    "#surfaceplot\n",
    "df4.iplot(kind='surface', colorscale='rdylbu')"
   ]
  },
  {
   "cell_type": "code",
   "execution_count": 51,
   "id": "81b5fb9a",
   "metadata": {},
   "outputs": [
    {
     "data": {
      "application/vnd.plotly.v1+json": {
       "config": {
        "linkText": "Export to plot.ly",
        "plotlyServerURL": "https://plot.ly",
        "showLink": true
       },
       "data": [
        {
         "histfunc": "count",
         "histnorm": "",
         "marker": {
          "color": "rgba(255, 153, 51, 1.0)",
          "line": {
           "color": "#4D5663",
           "width": 1.3
          }
         },
         "name": "A",
         "nbinsx": 50,
         "opacity": 0.8,
         "orientation": "v",
         "type": "histogram",
         "x": [
          -0.5753426879256494,
          -0.2855850025875945,
          -0.0961869464912241,
          0.6103568764767965,
          -0.4025696750478465,
          0.4374070598595347,
          0.7852380548724863,
          0.5214648823245953,
          -0.00684583591222356,
          -0.5051783000764581,
          0.6530373694023148,
          0.8290643885983005,
          -0.16326941807355744,
          1.2946551885772357,
          0.3062829613096997,
          -0.40651524703456704,
          0.3896016631461653,
          -1.138922855036025,
          -0.7578633933957807,
          1.3509314503931424,
          -0.005010025924972767,
          -0.7973280566035829,
          -0.9426397821555511,
          0.7837430673863505,
          0.21275853925610655,
          -0.4223329495826686,
          -1.260774413115214,
          0.03781882593588207,
          0.46263467519767826,
          0.5546355561998378,
          -0.4842961772526561,
          0.4618702738864327,
          -0.26539049970315043,
          0.07173654988682814,
          1.2670586248816906,
          0.48257046492794947,
          0.8606764634836559,
          0.6828244703998747,
          0.2703051628152772,
          0.0908652995232409,
          1.3407457592744865,
          0.6876439459516805,
          -1.3694094056973394,
          -0.4335211415628346,
          -1.1267120131338622,
          1.3400799055072092,
          -0.1422947461813094,
          -1.248940584041396,
          -2.124104883981563,
          -1.3019259842261062,
          1.2253863790785309,
          -1.50671466014991,
          0.07538508733247389,
          1.2494402889239615,
          0.18255827197336624,
          -1.0105509243088642,
          -1.1891302933224321,
          -0.11628475166186489,
          -0.4734418847308924,
          0.8718766160831669,
          -0.35944283707649927,
          -0.6793897450131363,
          -0.18631676258814278,
          -1.2782273458212,
          1.4977187013693063,
          1.177236002604748,
          -1.0941913024273784,
          2.2404207802414633,
          -1.7525070260970546,
          0.216729499836274,
          -0.24615959069611515,
          -0.9566272104115014,
          -1.3354612997377038,
          0.22350132903717154,
          0.9938854360185605,
          -0.678036349363896,
          -1.269837301038907,
          0.023573204636028175,
          1.1893098288366686,
          0.3945672020711424,
          0.16556190679953686,
          1.0533923683620778,
          0.7980311950587345,
          -0.4648689451877062,
          -1.1224975907209203,
          0.5905563562444988,
          0.7187909232916364,
          0.001996256304215127,
          -0.5024319634754288,
          1.8039520156480824,
          -0.21920796816159593,
          -0.08410382918341316,
          0.7263457090750816,
          1.3527961859231261,
          -1.544852980293307,
          -0.2966107732450681,
          -0.11415615694751836,
          -0.12881703002004213,
          1.2741874708953127,
          1.1393830437473285
         ]
        }
       ],
       "layout": {
        "barmode": "overlay",
        "legend": {
         "bgcolor": "#F5F6F9",
         "font": {
          "color": "#4D5663"
         }
        },
        "paper_bgcolor": "#F5F6F9",
        "plot_bgcolor": "#F5F6F9",
        "template": {
         "data": {
          "bar": [
           {
            "error_x": {
             "color": "#2a3f5f"
            },
            "error_y": {
             "color": "#2a3f5f"
            },
            "marker": {
             "line": {
              "color": "#E5ECF6",
              "width": 0.5
             },
             "pattern": {
              "fillmode": "overlay",
              "size": 10,
              "solidity": 0.2
             }
            },
            "type": "bar"
           }
          ],
          "barpolar": [
           {
            "marker": {
             "line": {
              "color": "#E5ECF6",
              "width": 0.5
             },
             "pattern": {
              "fillmode": "overlay",
              "size": 10,
              "solidity": 0.2
             }
            },
            "type": "barpolar"
           }
          ],
          "carpet": [
           {
            "aaxis": {
             "endlinecolor": "#2a3f5f",
             "gridcolor": "white",
             "linecolor": "white",
             "minorgridcolor": "white",
             "startlinecolor": "#2a3f5f"
            },
            "baxis": {
             "endlinecolor": "#2a3f5f",
             "gridcolor": "white",
             "linecolor": "white",
             "minorgridcolor": "white",
             "startlinecolor": "#2a3f5f"
            },
            "type": "carpet"
           }
          ],
          "choropleth": [
           {
            "colorbar": {
             "outlinewidth": 0,
             "ticks": ""
            },
            "type": "choropleth"
           }
          ],
          "contour": [
           {
            "colorbar": {
             "outlinewidth": 0,
             "ticks": ""
            },
            "colorscale": [
             [
              0,
              "#0d0887"
             ],
             [
              0.1111111111111111,
              "#46039f"
             ],
             [
              0.2222222222222222,
              "#7201a8"
             ],
             [
              0.3333333333333333,
              "#9c179e"
             ],
             [
              0.4444444444444444,
              "#bd3786"
             ],
             [
              0.5555555555555556,
              "#d8576b"
             ],
             [
              0.6666666666666666,
              "#ed7953"
             ],
             [
              0.7777777777777778,
              "#fb9f3a"
             ],
             [
              0.8888888888888888,
              "#fdca26"
             ],
             [
              1,
              "#f0f921"
             ]
            ],
            "type": "contour"
           }
          ],
          "contourcarpet": [
           {
            "colorbar": {
             "outlinewidth": 0,
             "ticks": ""
            },
            "type": "contourcarpet"
           }
          ],
          "heatmap": [
           {
            "colorbar": {
             "outlinewidth": 0,
             "ticks": ""
            },
            "colorscale": [
             [
              0,
              "#0d0887"
             ],
             [
              0.1111111111111111,
              "#46039f"
             ],
             [
              0.2222222222222222,
              "#7201a8"
             ],
             [
              0.3333333333333333,
              "#9c179e"
             ],
             [
              0.4444444444444444,
              "#bd3786"
             ],
             [
              0.5555555555555556,
              "#d8576b"
             ],
             [
              0.6666666666666666,
              "#ed7953"
             ],
             [
              0.7777777777777778,
              "#fb9f3a"
             ],
             [
              0.8888888888888888,
              "#fdca26"
             ],
             [
              1,
              "#f0f921"
             ]
            ],
            "type": "heatmap"
           }
          ],
          "heatmapgl": [
           {
            "colorbar": {
             "outlinewidth": 0,
             "ticks": ""
            },
            "colorscale": [
             [
              0,
              "#0d0887"
             ],
             [
              0.1111111111111111,
              "#46039f"
             ],
             [
              0.2222222222222222,
              "#7201a8"
             ],
             [
              0.3333333333333333,
              "#9c179e"
             ],
             [
              0.4444444444444444,
              "#bd3786"
             ],
             [
              0.5555555555555556,
              "#d8576b"
             ],
             [
              0.6666666666666666,
              "#ed7953"
             ],
             [
              0.7777777777777778,
              "#fb9f3a"
             ],
             [
              0.8888888888888888,
              "#fdca26"
             ],
             [
              1,
              "#f0f921"
             ]
            ],
            "type": "heatmapgl"
           }
          ],
          "histogram": [
           {
            "marker": {
             "pattern": {
              "fillmode": "overlay",
              "size": 10,
              "solidity": 0.2
             }
            },
            "type": "histogram"
           }
          ],
          "histogram2d": [
           {
            "colorbar": {
             "outlinewidth": 0,
             "ticks": ""
            },
            "colorscale": [
             [
              0,
              "#0d0887"
             ],
             [
              0.1111111111111111,
              "#46039f"
             ],
             [
              0.2222222222222222,
              "#7201a8"
             ],
             [
              0.3333333333333333,
              "#9c179e"
             ],
             [
              0.4444444444444444,
              "#bd3786"
             ],
             [
              0.5555555555555556,
              "#d8576b"
             ],
             [
              0.6666666666666666,
              "#ed7953"
             ],
             [
              0.7777777777777778,
              "#fb9f3a"
             ],
             [
              0.8888888888888888,
              "#fdca26"
             ],
             [
              1,
              "#f0f921"
             ]
            ],
            "type": "histogram2d"
           }
          ],
          "histogram2dcontour": [
           {
            "colorbar": {
             "outlinewidth": 0,
             "ticks": ""
            },
            "colorscale": [
             [
              0,
              "#0d0887"
             ],
             [
              0.1111111111111111,
              "#46039f"
             ],
             [
              0.2222222222222222,
              "#7201a8"
             ],
             [
              0.3333333333333333,
              "#9c179e"
             ],
             [
              0.4444444444444444,
              "#bd3786"
             ],
             [
              0.5555555555555556,
              "#d8576b"
             ],
             [
              0.6666666666666666,
              "#ed7953"
             ],
             [
              0.7777777777777778,
              "#fb9f3a"
             ],
             [
              0.8888888888888888,
              "#fdca26"
             ],
             [
              1,
              "#f0f921"
             ]
            ],
            "type": "histogram2dcontour"
           }
          ],
          "mesh3d": [
           {
            "colorbar": {
             "outlinewidth": 0,
             "ticks": ""
            },
            "type": "mesh3d"
           }
          ],
          "parcoords": [
           {
            "line": {
             "colorbar": {
              "outlinewidth": 0,
              "ticks": ""
             }
            },
            "type": "parcoords"
           }
          ],
          "pie": [
           {
            "automargin": true,
            "type": "pie"
           }
          ],
          "scatter": [
           {
            "fillpattern": {
             "fillmode": "overlay",
             "size": 10,
             "solidity": 0.2
            },
            "type": "scatter"
           }
          ],
          "scatter3d": [
           {
            "line": {
             "colorbar": {
              "outlinewidth": 0,
              "ticks": ""
             }
            },
            "marker": {
             "colorbar": {
              "outlinewidth": 0,
              "ticks": ""
             }
            },
            "type": "scatter3d"
           }
          ],
          "scattercarpet": [
           {
            "marker": {
             "colorbar": {
              "outlinewidth": 0,
              "ticks": ""
             }
            },
            "type": "scattercarpet"
           }
          ],
          "scattergeo": [
           {
            "marker": {
             "colorbar": {
              "outlinewidth": 0,
              "ticks": ""
             }
            },
            "type": "scattergeo"
           }
          ],
          "scattergl": [
           {
            "marker": {
             "colorbar": {
              "outlinewidth": 0,
              "ticks": ""
             }
            },
            "type": "scattergl"
           }
          ],
          "scattermapbox": [
           {
            "marker": {
             "colorbar": {
              "outlinewidth": 0,
              "ticks": ""
             }
            },
            "type": "scattermapbox"
           }
          ],
          "scatterpolar": [
           {
            "marker": {
             "colorbar": {
              "outlinewidth": 0,
              "ticks": ""
             }
            },
            "type": "scatterpolar"
           }
          ],
          "scatterpolargl": [
           {
            "marker": {
             "colorbar": {
              "outlinewidth": 0,
              "ticks": ""
             }
            },
            "type": "scatterpolargl"
           }
          ],
          "scatterternary": [
           {
            "marker": {
             "colorbar": {
              "outlinewidth": 0,
              "ticks": ""
             }
            },
            "type": "scatterternary"
           }
          ],
          "surface": [
           {
            "colorbar": {
             "outlinewidth": 0,
             "ticks": ""
            },
            "colorscale": [
             [
              0,
              "#0d0887"
             ],
             [
              0.1111111111111111,
              "#46039f"
             ],
             [
              0.2222222222222222,
              "#7201a8"
             ],
             [
              0.3333333333333333,
              "#9c179e"
             ],
             [
              0.4444444444444444,
              "#bd3786"
             ],
             [
              0.5555555555555556,
              "#d8576b"
             ],
             [
              0.6666666666666666,
              "#ed7953"
             ],
             [
              0.7777777777777778,
              "#fb9f3a"
             ],
             [
              0.8888888888888888,
              "#fdca26"
             ],
             [
              1,
              "#f0f921"
             ]
            ],
            "type": "surface"
           }
          ],
          "table": [
           {
            "cells": {
             "fill": {
              "color": "#EBF0F8"
             },
             "line": {
              "color": "white"
             }
            },
            "header": {
             "fill": {
              "color": "#C8D4E3"
             },
             "line": {
              "color": "white"
             }
            },
            "type": "table"
           }
          ]
         },
         "layout": {
          "annotationdefaults": {
           "arrowcolor": "#2a3f5f",
           "arrowhead": 0,
           "arrowwidth": 1
          },
          "autotypenumbers": "strict",
          "coloraxis": {
           "colorbar": {
            "outlinewidth": 0,
            "ticks": ""
           }
          },
          "colorscale": {
           "diverging": [
            [
             0,
             "#8e0152"
            ],
            [
             0.1,
             "#c51b7d"
            ],
            [
             0.2,
             "#de77ae"
            ],
            [
             0.3,
             "#f1b6da"
            ],
            [
             0.4,
             "#fde0ef"
            ],
            [
             0.5,
             "#f7f7f7"
            ],
            [
             0.6,
             "#e6f5d0"
            ],
            [
             0.7,
             "#b8e186"
            ],
            [
             0.8,
             "#7fbc41"
            ],
            [
             0.9,
             "#4d9221"
            ],
            [
             1,
             "#276419"
            ]
           ],
           "sequential": [
            [
             0,
             "#0d0887"
            ],
            [
             0.1111111111111111,
             "#46039f"
            ],
            [
             0.2222222222222222,
             "#7201a8"
            ],
            [
             0.3333333333333333,
             "#9c179e"
            ],
            [
             0.4444444444444444,
             "#bd3786"
            ],
            [
             0.5555555555555556,
             "#d8576b"
            ],
            [
             0.6666666666666666,
             "#ed7953"
            ],
            [
             0.7777777777777778,
             "#fb9f3a"
            ],
            [
             0.8888888888888888,
             "#fdca26"
            ],
            [
             1,
             "#f0f921"
            ]
           ],
           "sequentialminus": [
            [
             0,
             "#0d0887"
            ],
            [
             0.1111111111111111,
             "#46039f"
            ],
            [
             0.2222222222222222,
             "#7201a8"
            ],
            [
             0.3333333333333333,
             "#9c179e"
            ],
            [
             0.4444444444444444,
             "#bd3786"
            ],
            [
             0.5555555555555556,
             "#d8576b"
            ],
            [
             0.6666666666666666,
             "#ed7953"
            ],
            [
             0.7777777777777778,
             "#fb9f3a"
            ],
            [
             0.8888888888888888,
             "#fdca26"
            ],
            [
             1,
             "#f0f921"
            ]
           ]
          },
          "colorway": [
           "#636efa",
           "#EF553B",
           "#00cc96",
           "#ab63fa",
           "#FFA15A",
           "#19d3f3",
           "#FF6692",
           "#B6E880",
           "#FF97FF",
           "#FECB52"
          ],
          "font": {
           "color": "#2a3f5f"
          },
          "geo": {
           "bgcolor": "white",
           "lakecolor": "white",
           "landcolor": "#E5ECF6",
           "showlakes": true,
           "showland": true,
           "subunitcolor": "white"
          },
          "hoverlabel": {
           "align": "left"
          },
          "hovermode": "closest",
          "mapbox": {
           "style": "light"
          },
          "paper_bgcolor": "white",
          "plot_bgcolor": "#E5ECF6",
          "polar": {
           "angularaxis": {
            "gridcolor": "white",
            "linecolor": "white",
            "ticks": ""
           },
           "bgcolor": "#E5ECF6",
           "radialaxis": {
            "gridcolor": "white",
            "linecolor": "white",
            "ticks": ""
           }
          },
          "scene": {
           "xaxis": {
            "backgroundcolor": "#E5ECF6",
            "gridcolor": "white",
            "gridwidth": 2,
            "linecolor": "white",
            "showbackground": true,
            "ticks": "",
            "zerolinecolor": "white"
           },
           "yaxis": {
            "backgroundcolor": "#E5ECF6",
            "gridcolor": "white",
            "gridwidth": 2,
            "linecolor": "white",
            "showbackground": true,
            "ticks": "",
            "zerolinecolor": "white"
           },
           "zaxis": {
            "backgroundcolor": "#E5ECF6",
            "gridcolor": "white",
            "gridwidth": 2,
            "linecolor": "white",
            "showbackground": true,
            "ticks": "",
            "zerolinecolor": "white"
           }
          },
          "shapedefaults": {
           "line": {
            "color": "#2a3f5f"
           }
          },
          "ternary": {
           "aaxis": {
            "gridcolor": "white",
            "linecolor": "white",
            "ticks": ""
           },
           "baxis": {
            "gridcolor": "white",
            "linecolor": "white",
            "ticks": ""
           },
           "bgcolor": "#E5ECF6",
           "caxis": {
            "gridcolor": "white",
            "linecolor": "white",
            "ticks": ""
           }
          },
          "title": {
           "x": 0.05
          },
          "xaxis": {
           "automargin": true,
           "gridcolor": "white",
           "linecolor": "white",
           "ticks": "",
           "title": {
            "standoff": 15
           },
           "zerolinecolor": "white",
           "zerolinewidth": 2
          },
          "yaxis": {
           "automargin": true,
           "gridcolor": "white",
           "linecolor": "white",
           "ticks": "",
           "title": {
            "standoff": 15
           },
           "zerolinecolor": "white",
           "zerolinewidth": 2
          }
         }
        },
        "title": {
         "font": {
          "color": "#4D5663"
         }
        },
        "xaxis": {
         "gridcolor": "#E1E5ED",
         "showgrid": true,
         "tickfont": {
          "color": "#4D5663"
         },
         "title": {
          "font": {
           "color": "#4D5663"
          },
          "text": ""
         },
         "zerolinecolor": "#E1E5ED"
        },
        "yaxis": {
         "gridcolor": "#E1E5ED",
         "showgrid": true,
         "tickfont": {
          "color": "#4D5663"
         },
         "title": {
          "font": {
           "color": "#4D5663"
          },
          "text": ""
         },
         "zerolinecolor": "#E1E5ED"
        }
       }
      },
      "text/html": [
       "<div>                            <div id=\"64c6c369-89a2-4b96-b870-823d431240e6\" class=\"plotly-graph-div\" style=\"height:525px; width:100%;\"></div>            <script type=\"text/javascript\">                require([\"plotly\"], function(Plotly) {                    window.PLOTLYENV=window.PLOTLYENV || {};\n",
       "                    window.PLOTLYENV.BASE_URL='https://plot.ly';                                    if (document.getElementById(\"64c6c369-89a2-4b96-b870-823d431240e6\")) {                    Plotly.newPlot(                        \"64c6c369-89a2-4b96-b870-823d431240e6\",                        [{\"histfunc\":\"count\",\"histnorm\":\"\",\"marker\":{\"color\":\"rgba(255, 153, 51, 1.0)\",\"line\":{\"color\":\"#4D5663\",\"width\":1.3}},\"name\":\"A\",\"nbinsx\":50,\"opacity\":0.8,\"orientation\":\"v\",\"x\":[-0.5753426879256494,-0.2855850025875945,-0.0961869464912241,0.6103568764767965,-0.4025696750478465,0.4374070598595347,0.7852380548724863,0.5214648823245953,-0.00684583591222356,-0.5051783000764581,0.6530373694023148,0.8290643885983005,-0.16326941807355744,1.2946551885772357,0.3062829613096997,-0.40651524703456704,0.3896016631461653,-1.138922855036025,-0.7578633933957807,1.3509314503931424,-0.005010025924972767,-0.7973280566035829,-0.9426397821555511,0.7837430673863505,0.21275853925610655,-0.4223329495826686,-1.260774413115214,0.03781882593588207,0.46263467519767826,0.5546355561998378,-0.4842961772526561,0.4618702738864327,-0.26539049970315043,0.07173654988682814,1.2670586248816906,0.48257046492794947,0.8606764634836559,0.6828244703998747,0.2703051628152772,0.0908652995232409,1.3407457592744865,0.6876439459516805,-1.3694094056973394,-0.4335211415628346,-1.1267120131338622,1.3400799055072092,-0.1422947461813094,-1.248940584041396,-2.124104883981563,-1.3019259842261062,1.2253863790785309,-1.50671466014991,0.07538508733247389,1.2494402889239615,0.18255827197336624,-1.0105509243088642,-1.1891302933224321,-0.11628475166186489,-0.4734418847308924,0.8718766160831669,-0.35944283707649927,-0.6793897450131363,-0.18631676258814278,-1.2782273458212,1.4977187013693063,1.177236002604748,-1.0941913024273784,2.2404207802414633,-1.7525070260970546,0.216729499836274,-0.24615959069611515,-0.9566272104115014,-1.3354612997377038,0.22350132903717154,0.9938854360185605,-0.678036349363896,-1.269837301038907,0.023573204636028175,1.1893098288366686,0.3945672020711424,0.16556190679953686,1.0533923683620778,0.7980311950587345,-0.4648689451877062,-1.1224975907209203,0.5905563562444988,0.7187909232916364,0.001996256304215127,-0.5024319634754288,1.8039520156480824,-0.21920796816159593,-0.08410382918341316,0.7263457090750816,1.3527961859231261,-1.544852980293307,-0.2966107732450681,-0.11415615694751836,-0.12881703002004213,1.2741874708953127,1.1393830437473285],\"type\":\"histogram\"}],                        {\"barmode\":\"overlay\",\"legend\":{\"bgcolor\":\"#F5F6F9\",\"font\":{\"color\":\"#4D5663\"}},\"paper_bgcolor\":\"#F5F6F9\",\"plot_bgcolor\":\"#F5F6F9\",\"template\":{\"data\":{\"barpolar\":[{\"marker\":{\"line\":{\"color\":\"#E5ECF6\",\"width\":0.5},\"pattern\":{\"fillmode\":\"overlay\",\"size\":10,\"solidity\":0.2}},\"type\":\"barpolar\"}],\"bar\":[{\"error_x\":{\"color\":\"#2a3f5f\"},\"error_y\":{\"color\":\"#2a3f5f\"},\"marker\":{\"line\":{\"color\":\"#E5ECF6\",\"width\":0.5},\"pattern\":{\"fillmode\":\"overlay\",\"size\":10,\"solidity\":0.2}},\"type\":\"bar\"}],\"carpet\":[{\"aaxis\":{\"endlinecolor\":\"#2a3f5f\",\"gridcolor\":\"white\",\"linecolor\":\"white\",\"minorgridcolor\":\"white\",\"startlinecolor\":\"#2a3f5f\"},\"baxis\":{\"endlinecolor\":\"#2a3f5f\",\"gridcolor\":\"white\",\"linecolor\":\"white\",\"minorgridcolor\":\"white\",\"startlinecolor\":\"#2a3f5f\"},\"type\":\"carpet\"}],\"choropleth\":[{\"colorbar\":{\"outlinewidth\":0,\"ticks\":\"\"},\"type\":\"choropleth\"}],\"contourcarpet\":[{\"colorbar\":{\"outlinewidth\":0,\"ticks\":\"\"},\"type\":\"contourcarpet\"}],\"contour\":[{\"colorbar\":{\"outlinewidth\":0,\"ticks\":\"\"},\"colorscale\":[[0.0,\"#0d0887\"],[0.1111111111111111,\"#46039f\"],[0.2222222222222222,\"#7201a8\"],[0.3333333333333333,\"#9c179e\"],[0.4444444444444444,\"#bd3786\"],[0.5555555555555556,\"#d8576b\"],[0.6666666666666666,\"#ed7953\"],[0.7777777777777778,\"#fb9f3a\"],[0.8888888888888888,\"#fdca26\"],[1.0,\"#f0f921\"]],\"type\":\"contour\"}],\"heatmapgl\":[{\"colorbar\":{\"outlinewidth\":0,\"ticks\":\"\"},\"colorscale\":[[0.0,\"#0d0887\"],[0.1111111111111111,\"#46039f\"],[0.2222222222222222,\"#7201a8\"],[0.3333333333333333,\"#9c179e\"],[0.4444444444444444,\"#bd3786\"],[0.5555555555555556,\"#d8576b\"],[0.6666666666666666,\"#ed7953\"],[0.7777777777777778,\"#fb9f3a\"],[0.8888888888888888,\"#fdca26\"],[1.0,\"#f0f921\"]],\"type\":\"heatmapgl\"}],\"heatmap\":[{\"colorbar\":{\"outlinewidth\":0,\"ticks\":\"\"},\"colorscale\":[[0.0,\"#0d0887\"],[0.1111111111111111,\"#46039f\"],[0.2222222222222222,\"#7201a8\"],[0.3333333333333333,\"#9c179e\"],[0.4444444444444444,\"#bd3786\"],[0.5555555555555556,\"#d8576b\"],[0.6666666666666666,\"#ed7953\"],[0.7777777777777778,\"#fb9f3a\"],[0.8888888888888888,\"#fdca26\"],[1.0,\"#f0f921\"]],\"type\":\"heatmap\"}],\"histogram2dcontour\":[{\"colorbar\":{\"outlinewidth\":0,\"ticks\":\"\"},\"colorscale\":[[0.0,\"#0d0887\"],[0.1111111111111111,\"#46039f\"],[0.2222222222222222,\"#7201a8\"],[0.3333333333333333,\"#9c179e\"],[0.4444444444444444,\"#bd3786\"],[0.5555555555555556,\"#d8576b\"],[0.6666666666666666,\"#ed7953\"],[0.7777777777777778,\"#fb9f3a\"],[0.8888888888888888,\"#fdca26\"],[1.0,\"#f0f921\"]],\"type\":\"histogram2dcontour\"}],\"histogram2d\":[{\"colorbar\":{\"outlinewidth\":0,\"ticks\":\"\"},\"colorscale\":[[0.0,\"#0d0887\"],[0.1111111111111111,\"#46039f\"],[0.2222222222222222,\"#7201a8\"],[0.3333333333333333,\"#9c179e\"],[0.4444444444444444,\"#bd3786\"],[0.5555555555555556,\"#d8576b\"],[0.6666666666666666,\"#ed7953\"],[0.7777777777777778,\"#fb9f3a\"],[0.8888888888888888,\"#fdca26\"],[1.0,\"#f0f921\"]],\"type\":\"histogram2d\"}],\"histogram\":[{\"marker\":{\"pattern\":{\"fillmode\":\"overlay\",\"size\":10,\"solidity\":0.2}},\"type\":\"histogram\"}],\"mesh3d\":[{\"colorbar\":{\"outlinewidth\":0,\"ticks\":\"\"},\"type\":\"mesh3d\"}],\"parcoords\":[{\"line\":{\"colorbar\":{\"outlinewidth\":0,\"ticks\":\"\"}},\"type\":\"parcoords\"}],\"pie\":[{\"automargin\":true,\"type\":\"pie\"}],\"scatter3d\":[{\"line\":{\"colorbar\":{\"outlinewidth\":0,\"ticks\":\"\"}},\"marker\":{\"colorbar\":{\"outlinewidth\":0,\"ticks\":\"\"}},\"type\":\"scatter3d\"}],\"scattercarpet\":[{\"marker\":{\"colorbar\":{\"outlinewidth\":0,\"ticks\":\"\"}},\"type\":\"scattercarpet\"}],\"scattergeo\":[{\"marker\":{\"colorbar\":{\"outlinewidth\":0,\"ticks\":\"\"}},\"type\":\"scattergeo\"}],\"scattergl\":[{\"marker\":{\"colorbar\":{\"outlinewidth\":0,\"ticks\":\"\"}},\"type\":\"scattergl\"}],\"scattermapbox\":[{\"marker\":{\"colorbar\":{\"outlinewidth\":0,\"ticks\":\"\"}},\"type\":\"scattermapbox\"}],\"scatterpolargl\":[{\"marker\":{\"colorbar\":{\"outlinewidth\":0,\"ticks\":\"\"}},\"type\":\"scatterpolargl\"}],\"scatterpolar\":[{\"marker\":{\"colorbar\":{\"outlinewidth\":0,\"ticks\":\"\"}},\"type\":\"scatterpolar\"}],\"scatter\":[{\"fillpattern\":{\"fillmode\":\"overlay\",\"size\":10,\"solidity\":0.2},\"type\":\"scatter\"}],\"scatterternary\":[{\"marker\":{\"colorbar\":{\"outlinewidth\":0,\"ticks\":\"\"}},\"type\":\"scatterternary\"}],\"surface\":[{\"colorbar\":{\"outlinewidth\":0,\"ticks\":\"\"},\"colorscale\":[[0.0,\"#0d0887\"],[0.1111111111111111,\"#46039f\"],[0.2222222222222222,\"#7201a8\"],[0.3333333333333333,\"#9c179e\"],[0.4444444444444444,\"#bd3786\"],[0.5555555555555556,\"#d8576b\"],[0.6666666666666666,\"#ed7953\"],[0.7777777777777778,\"#fb9f3a\"],[0.8888888888888888,\"#fdca26\"],[1.0,\"#f0f921\"]],\"type\":\"surface\"}],\"table\":[{\"cells\":{\"fill\":{\"color\":\"#EBF0F8\"},\"line\":{\"color\":\"white\"}},\"header\":{\"fill\":{\"color\":\"#C8D4E3\"},\"line\":{\"color\":\"white\"}},\"type\":\"table\"}]},\"layout\":{\"annotationdefaults\":{\"arrowcolor\":\"#2a3f5f\",\"arrowhead\":0,\"arrowwidth\":1},\"autotypenumbers\":\"strict\",\"coloraxis\":{\"colorbar\":{\"outlinewidth\":0,\"ticks\":\"\"}},\"colorscale\":{\"diverging\":[[0,\"#8e0152\"],[0.1,\"#c51b7d\"],[0.2,\"#de77ae\"],[0.3,\"#f1b6da\"],[0.4,\"#fde0ef\"],[0.5,\"#f7f7f7\"],[0.6,\"#e6f5d0\"],[0.7,\"#b8e186\"],[0.8,\"#7fbc41\"],[0.9,\"#4d9221\"],[1,\"#276419\"]],\"sequential\":[[0.0,\"#0d0887\"],[0.1111111111111111,\"#46039f\"],[0.2222222222222222,\"#7201a8\"],[0.3333333333333333,\"#9c179e\"],[0.4444444444444444,\"#bd3786\"],[0.5555555555555556,\"#d8576b\"],[0.6666666666666666,\"#ed7953\"],[0.7777777777777778,\"#fb9f3a\"],[0.8888888888888888,\"#fdca26\"],[1.0,\"#f0f921\"]],\"sequentialminus\":[[0.0,\"#0d0887\"],[0.1111111111111111,\"#46039f\"],[0.2222222222222222,\"#7201a8\"],[0.3333333333333333,\"#9c179e\"],[0.4444444444444444,\"#bd3786\"],[0.5555555555555556,\"#d8576b\"],[0.6666666666666666,\"#ed7953\"],[0.7777777777777778,\"#fb9f3a\"],[0.8888888888888888,\"#fdca26\"],[1.0,\"#f0f921\"]]},\"colorway\":[\"#636efa\",\"#EF553B\",\"#00cc96\",\"#ab63fa\",\"#FFA15A\",\"#19d3f3\",\"#FF6692\",\"#B6E880\",\"#FF97FF\",\"#FECB52\"],\"font\":{\"color\":\"#2a3f5f\"},\"geo\":{\"bgcolor\":\"white\",\"lakecolor\":\"white\",\"landcolor\":\"#E5ECF6\",\"showlakes\":true,\"showland\":true,\"subunitcolor\":\"white\"},\"hoverlabel\":{\"align\":\"left\"},\"hovermode\":\"closest\",\"mapbox\":{\"style\":\"light\"},\"paper_bgcolor\":\"white\",\"plot_bgcolor\":\"#E5ECF6\",\"polar\":{\"angularaxis\":{\"gridcolor\":\"white\",\"linecolor\":\"white\",\"ticks\":\"\"},\"bgcolor\":\"#E5ECF6\",\"radialaxis\":{\"gridcolor\":\"white\",\"linecolor\":\"white\",\"ticks\":\"\"}},\"scene\":{\"xaxis\":{\"backgroundcolor\":\"#E5ECF6\",\"gridcolor\":\"white\",\"gridwidth\":2,\"linecolor\":\"white\",\"showbackground\":true,\"ticks\":\"\",\"zerolinecolor\":\"white\"},\"yaxis\":{\"backgroundcolor\":\"#E5ECF6\",\"gridcolor\":\"white\",\"gridwidth\":2,\"linecolor\":\"white\",\"showbackground\":true,\"ticks\":\"\",\"zerolinecolor\":\"white\"},\"zaxis\":{\"backgroundcolor\":\"#E5ECF6\",\"gridcolor\":\"white\",\"gridwidth\":2,\"linecolor\":\"white\",\"showbackground\":true,\"ticks\":\"\",\"zerolinecolor\":\"white\"}},\"shapedefaults\":{\"line\":{\"color\":\"#2a3f5f\"}},\"ternary\":{\"aaxis\":{\"gridcolor\":\"white\",\"linecolor\":\"white\",\"ticks\":\"\"},\"baxis\":{\"gridcolor\":\"white\",\"linecolor\":\"white\",\"ticks\":\"\"},\"bgcolor\":\"#E5ECF6\",\"caxis\":{\"gridcolor\":\"white\",\"linecolor\":\"white\",\"ticks\":\"\"}},\"title\":{\"x\":0.05},\"xaxis\":{\"automargin\":true,\"gridcolor\":\"white\",\"linecolor\":\"white\",\"ticks\":\"\",\"title\":{\"standoff\":15},\"zerolinecolor\":\"white\",\"zerolinewidth\":2},\"yaxis\":{\"automargin\":true,\"gridcolor\":\"white\",\"linecolor\":\"white\",\"ticks\":\"\",\"title\":{\"standoff\":15},\"zerolinecolor\":\"white\",\"zerolinewidth\":2}}},\"title\":{\"font\":{\"color\":\"#4D5663\"}},\"xaxis\":{\"gridcolor\":\"#E1E5ED\",\"showgrid\":true,\"tickfont\":{\"color\":\"#4D5663\"},\"title\":{\"font\":{\"color\":\"#4D5663\"},\"text\":\"\"},\"zerolinecolor\":\"#E1E5ED\"},\"yaxis\":{\"gridcolor\":\"#E1E5ED\",\"showgrid\":true,\"tickfont\":{\"color\":\"#4D5663\"},\"title\":{\"font\":{\"color\":\"#4D5663\"},\"text\":\"\"},\"zerolinecolor\":\"#E1E5ED\"}},                        {\"showLink\": true, \"linkText\": \"Export to plot.ly\", \"plotlyServerURL\": \"https://plot.ly\", \"responsive\": true}                    ).then(function(){\n",
       "                            \n",
       "var gd = document.getElementById('64c6c369-89a2-4b96-b870-823d431240e6');\n",
       "var x = new MutationObserver(function (mutations, observer) {{\n",
       "        var display = window.getComputedStyle(gd).display;\n",
       "        if (!display || display === 'none') {{\n",
       "            console.log([gd, 'removed!']);\n",
       "            Plotly.purge(gd);\n",
       "            observer.disconnect();\n",
       "        }}\n",
       "}});\n",
       "\n",
       "// Listen for the removal of the full notebook cells\n",
       "var notebookContainer = gd.closest('#notebook-container');\n",
       "if (notebookContainer) {{\n",
       "    x.observe(notebookContainer, {childList: true});\n",
       "}}\n",
       "\n",
       "// Listen for the clearing of the current output cell\n",
       "var outputEl = gd.closest('.output');\n",
       "if (outputEl) {{\n",
       "    x.observe(outputEl, {childList: true});\n",
       "}}\n",
       "\n",
       "                        })                };                });            </script>        </div>"
      ]
     },
     "metadata": {},
     "output_type": "display_data"
    }
   ],
   "source": [
    "#histogram\n",
    "df['A'].iplot(kind='hist', bins=50)"
   ]
  },
  {
   "cell_type": "code",
   "execution_count": 52,
   "id": "338d38de",
   "metadata": {},
   "outputs": [
    {
     "data": {
      "application/vnd.plotly.v1+json": {
       "config": {
        "linkText": "Export to plot.ly",
        "plotlyServerURL": "https://plot.ly",
        "showLink": true
       },
       "data": [
        {
         "histfunc": "count",
         "histnorm": "",
         "marker": {
          "color": "rgba(255, 153, 51, 1.0)",
          "line": {
           "color": "#4D5663",
           "width": 1.3
          }
         },
         "name": "A",
         "opacity": 0.8,
         "orientation": "v",
         "type": "histogram",
         "x": [
          -0.5753426879256494,
          -0.2855850025875945,
          -0.0961869464912241,
          0.6103568764767965,
          -0.4025696750478465,
          0.4374070598595347,
          0.7852380548724863,
          0.5214648823245953,
          -0.00684583591222356,
          -0.5051783000764581,
          0.6530373694023148,
          0.8290643885983005,
          -0.16326941807355744,
          1.2946551885772357,
          0.3062829613096997,
          -0.40651524703456704,
          0.3896016631461653,
          -1.138922855036025,
          -0.7578633933957807,
          1.3509314503931424,
          -0.005010025924972767,
          -0.7973280566035829,
          -0.9426397821555511,
          0.7837430673863505,
          0.21275853925610655,
          -0.4223329495826686,
          -1.260774413115214,
          0.03781882593588207,
          0.46263467519767826,
          0.5546355561998378,
          -0.4842961772526561,
          0.4618702738864327,
          -0.26539049970315043,
          0.07173654988682814,
          1.2670586248816906,
          0.48257046492794947,
          0.8606764634836559,
          0.6828244703998747,
          0.2703051628152772,
          0.0908652995232409,
          1.3407457592744865,
          0.6876439459516805,
          -1.3694094056973394,
          -0.4335211415628346,
          -1.1267120131338622,
          1.3400799055072092,
          -0.1422947461813094,
          -1.248940584041396,
          -2.124104883981563,
          -1.3019259842261062,
          1.2253863790785309,
          -1.50671466014991,
          0.07538508733247389,
          1.2494402889239615,
          0.18255827197336624,
          -1.0105509243088642,
          -1.1891302933224321,
          -0.11628475166186489,
          -0.4734418847308924,
          0.8718766160831669,
          -0.35944283707649927,
          -0.6793897450131363,
          -0.18631676258814278,
          -1.2782273458212,
          1.4977187013693063,
          1.177236002604748,
          -1.0941913024273784,
          2.2404207802414633,
          -1.7525070260970546,
          0.216729499836274,
          -0.24615959069611515,
          -0.9566272104115014,
          -1.3354612997377038,
          0.22350132903717154,
          0.9938854360185605,
          -0.678036349363896,
          -1.269837301038907,
          0.023573204636028175,
          1.1893098288366686,
          0.3945672020711424,
          0.16556190679953686,
          1.0533923683620778,
          0.7980311950587345,
          -0.4648689451877062,
          -1.1224975907209203,
          0.5905563562444988,
          0.7187909232916364,
          0.001996256304215127,
          -0.5024319634754288,
          1.8039520156480824,
          -0.21920796816159593,
          -0.08410382918341316,
          0.7263457090750816,
          1.3527961859231261,
          -1.544852980293307,
          -0.2966107732450681,
          -0.11415615694751836,
          -0.12881703002004213,
          1.2741874708953127,
          1.1393830437473285
         ]
        },
        {
         "histfunc": "count",
         "histnorm": "",
         "marker": {
          "color": "rgba(55, 128, 191, 1.0)",
          "line": {
           "color": "#4D5663",
           "width": 1.3
          }
         },
         "name": "B",
         "opacity": 0.8,
         "orientation": "v",
         "type": "histogram",
         "x": [
          -0.5580704050672908,
          -0.44923515289336513,
          -0.7168931610192598,
          0.9830134247526778,
          1.6240683385906691,
          -0.40275289981153695,
          0.6112791218876015,
          -1.2803108479829148,
          -0.05808932824151311,
          -1.684712399154241,
          0.7009441493967767,
          1.2720970110310192,
          0.3689654180086758,
          -0.10972521230236329,
          -1.8715072885797777,
          -0.41072022373609,
          -2.222846437588777,
          -1.1915850756385813,
          0.9231330164233137,
          1.8669529912034164,
          -0.290221726325987,
          -0.648720943564726,
          -0.36177078386180883,
          -0.320582285809616,
          0.034000540804830316,
          -0.22176470456543523,
          0.29525848347628325,
          -0.9460745820077947,
          -0.40068026297055254,
          0.4106897541844773,
          -0.05309064552901487,
          1.1476677464913225,
          -0.6292502221798444,
          -0.6653930893895125,
          0.23844796985252587,
          0.1526908108190717,
          -0.4882637399023558,
          0.6095528940202006,
          1.7106600523326803,
          -0.6087185304180869,
          -0.14795323483741937,
          -0.9041735666641447,
          -0.2758124519817509,
          -0.6901891175196618,
          0.6644453330064052,
          0.7900367784741046,
          0.9187562121791123,
          0.8674138559764352,
          -0.2453438445025455,
          0.6793641868864831,
          -0.857948768868309,
          -0.9098665331960117,
          -0.6276702401871189,
          -1.9934794146042236,
          -0.364622445961039,
          1.441725222783407,
          0.7801273633492309,
          0.8618581629889228,
          -0.6880668392789634,
          -1.1699554311316747,
          0.4688674958261446,
          -0.3910846044592581,
          -0.9407200530603363,
          -1.5443525904104154,
          1.0384541197937691,
          -0.3226253863608884,
          0.9201172848030571,
          0.7657733729769911,
          -0.0895080157312864,
          -0.8583292937553912,
          -0.5909240948790668,
          -0.2866429338299557,
          0.3565715507880381,
          -0.8964384866866988,
          -0.5862356805821878,
          -0.9155134743418362,
          0.3015672501242637,
          0.5252427921756735,
          1.1163271687288974,
          0.14762362641226046,
          1.6270590095804507,
          -0.5035181944686434,
          -2.4300076126906753,
          -0.5269023436170583,
          1.9305638870047916,
          1.0182413139000828,
          -0.33799434650269927,
          1.046303567819808,
          1.2774037206763065,
          -0.33322567523426716,
          0.5210740638623935,
          -1.1545147289056945,
          -0.29028048645031423,
          -1.3789783825434538,
          0.12451934803869251,
          -0.06929895952401209,
          0.3449054115724372,
          -1.0596751060425036,
          1.622930397463581,
          1.2696505909551374
         ]
        },
        {
         "histfunc": "count",
         "histnorm": "",
         "marker": {
          "color": "rgba(50, 171, 96, 1.0)",
          "line": {
           "color": "#4D5663",
           "width": 1.3
          }
         },
         "name": "C",
         "opacity": 0.8,
         "orientation": "v",
         "type": "histogram",
         "x": [
          0.6114507672687999,
          -1.453118223435603,
          1.1827405880682482,
          -0.8915317989289957,
          -0.6965339089786392,
          1.3349453277892667,
          -0.012754426842266287,
          -1.8363884955952245,
          0.06320121054962571,
          -0.8054032151493444,
          -0.8680597817673879,
          0.15123933857148497,
          0.5123570213932661,
          -0.16037339958878402,
          1.2084982369733155,
          0.11675209300983791,
          -0.7352880428466906,
          -0.2791381389434401,
          -1.6768211825037311,
          0.2687358510113133,
          -0.08730828996841995,
          0.08011587984526237,
          0.5870365383920121,
          -0.45513157695040024,
          1.0477545780925943,
          -0.6122419200802369,
          0.9071051522559322,
          0.5288208716979997,
          1.7182043502896294,
          -1.037247362100533,
          1.2071706170444598,
          -0.09959896328078839,
          0.1378115413695539,
          -0.7628053068053268,
          -1.4628741580335396,
          -1.8115843574114259,
          0.48644122722049543,
          0.0812345794161359,
          1.1618829202520924,
          0.12227531103671242,
          -1.0286809844723226,
          -0.4199992929049847,
          -2.6587328254050435,
          -0.2024935070142835,
          -1.0654775595196992,
          1.7239918194244157,
          -0.88260958534823,
          1.6551781445421734,
          0.6507530317290405,
          -1.6654829806178402,
          0.9767781066008089,
          1.4101056253993747,
          -0.3795509935768535,
          0.5352685882282258,
          -0.07107715970154109,
          0.7354612283859392,
          -0.4782542749410208,
          0.2034575421519448,
          1.3429473000413061,
          0.44838858879270727,
          -1.5463440803120463,
          1.3497880948859498,
          0.14937510875119525,
          -0.8145611453142702,
          0.33798653977713,
          -1.0392925446223271,
          -1.2857261541825418,
          -0.18175222407249347,
          1.1471456825047024,
          2.302935046525213,
          -1.1653519184303127,
          0.7037332413417794,
          -0.3154171419840098,
          1.0465994577252105,
          -0.5043267981371093,
          0.3059399843978032,
          -1.0147173103491358,
          0.18734319364702906,
          1.0197870438206182,
          0.5698463723265904,
          0.847161738078466,
          -0.48838155083686113,
          -0.17571083683572822,
          -0.18323720410096794,
          1.1972873398163424,
          0.9806532259074543,
          -0.4917355934045084,
          -0.1343592196434194,
          0.2516622328478005,
          -0.27081241540746404,
          -1.0155616992979957,
          -0.0780064275372869,
          1.3613145488862313,
          -2.25481067807797,
          0.01340459400981535,
          1.034736325414299,
          -0.8796258441728192,
          -0.3292043045328106,
          -1.8624919231541441,
          1.1113931809407485
         ]
        },
        {
         "histfunc": "count",
         "histnorm": "",
         "marker": {
          "color": "rgba(128, 0, 128, 1.0)",
          "line": {
           "color": "#4D5663",
           "width": 1.3
          }
         },
         "name": "D",
         "opacity": 0.8,
         "orientation": "v",
         "type": "histogram",
         "x": [
          -0.10163559002645582,
          -0.35572331833610316,
          0.9382633458937855,
          1.0365157491589996,
          -1.0839803625551319,
          -0.42444836826523763,
          -0.17434477607746782,
          -0.2503002221905484,
          -0.13298541736793706,
          0.8536540114980372,
          0.3743533125530419,
          -0.23019310723961844,
          -1.0877216415015756,
          0.8983283485049616,
          0.14188830675770078,
          0.22365165287099512,
          0.19462905516574389,
          0.0934357964967572,
          0.8335939366943298,
          -0.04921489580520027,
          1.0017436578627659,
          0.5833690545463516,
          0.5736816489166747,
          -0.24365567817680078,
          1.3488875965404792,
          0.1263712094019638,
          -0.06129280907415563,
          -0.2237010330630421,
          2.302720150283636,
          -1.2728458007605248,
          -0.9225462214792156,
          -0.83290355524013,
          0.9865001583080875,
          -0.47162702859165717,
          -0.2933254636166296,
          0.24279006201943384,
          0.9032069290402934,
          0.34250476808048,
          0.807733281761505,
          1.8166900939762636,
          -0.009455451023209618,
          -0.4963886136333983,
          -0.6358577813771843,
          0.3619657381092746,
          -0.8788873299867607,
          0.40135747633790053,
          0.5062831775326353,
          -0.020676125484085806,
          0.19948143467837848,
          0.34548083587927997,
          -0.5795092323886075,
          -1.7819736678538074,
          0.17033119871697325,
          -0.89129758144792,
          -0.1714054780010341,
          -1.0737098320560075,
          1.2900195720031598,
          1.2914077918767255,
          -0.24949588549061508,
          0.8369345762371713,
          1.135976461563747,
          -1.4428407997626485,
          0.9875439709348575,
          2.2035242636833,
          -0.5791487359503539,
          -2.521913338226039,
          -0.7184707278530241,
          -1.1639587985186035,
          -0.5687316557397463,
          -1.702610898906452,
          -0.12020102131074938,
          0.13080022513111286,
          -0.22034734250604682,
          -0.05716775746615135,
          0.28319930382775665,
          0.731825355886409,
          -0.32563379121427105,
          -0.0787710720033279,
          -1.3347357015730388,
          -1.6260320813219609,
          0.9013728332559842,
          -0.08563499946707838,
          -0.33884869313938376,
          -2.256272072962904,
          0.38836306652118646,
          -0.1299483070640521,
          0.835893038991054,
          0.5972407218225784,
          0.9662776762760077,
          -0.6501003773755782,
          -2.3648808383363713,
          0.6757352967860882,
          0.8668970165490616,
          -1.7444739905526931,
          0.9097302962435239,
          0.3895664821972121,
          -0.26932148950763357,
          -1.300053903639512,
          0.38751698856060934,
          -0.6130946474664536
         ]
        }
       ],
       "layout": {
        "barmode": "overlay",
        "legend": {
         "bgcolor": "#F5F6F9",
         "font": {
          "color": "#4D5663"
         }
        },
        "paper_bgcolor": "#F5F6F9",
        "plot_bgcolor": "#F5F6F9",
        "template": {
         "data": {
          "bar": [
           {
            "error_x": {
             "color": "#2a3f5f"
            },
            "error_y": {
             "color": "#2a3f5f"
            },
            "marker": {
             "line": {
              "color": "#E5ECF6",
              "width": 0.5
             },
             "pattern": {
              "fillmode": "overlay",
              "size": 10,
              "solidity": 0.2
             }
            },
            "type": "bar"
           }
          ],
          "barpolar": [
           {
            "marker": {
             "line": {
              "color": "#E5ECF6",
              "width": 0.5
             },
             "pattern": {
              "fillmode": "overlay",
              "size": 10,
              "solidity": 0.2
             }
            },
            "type": "barpolar"
           }
          ],
          "carpet": [
           {
            "aaxis": {
             "endlinecolor": "#2a3f5f",
             "gridcolor": "white",
             "linecolor": "white",
             "minorgridcolor": "white",
             "startlinecolor": "#2a3f5f"
            },
            "baxis": {
             "endlinecolor": "#2a3f5f",
             "gridcolor": "white",
             "linecolor": "white",
             "minorgridcolor": "white",
             "startlinecolor": "#2a3f5f"
            },
            "type": "carpet"
           }
          ],
          "choropleth": [
           {
            "colorbar": {
             "outlinewidth": 0,
             "ticks": ""
            },
            "type": "choropleth"
           }
          ],
          "contour": [
           {
            "colorbar": {
             "outlinewidth": 0,
             "ticks": ""
            },
            "colorscale": [
             [
              0,
              "#0d0887"
             ],
             [
              0.1111111111111111,
              "#46039f"
             ],
             [
              0.2222222222222222,
              "#7201a8"
             ],
             [
              0.3333333333333333,
              "#9c179e"
             ],
             [
              0.4444444444444444,
              "#bd3786"
             ],
             [
              0.5555555555555556,
              "#d8576b"
             ],
             [
              0.6666666666666666,
              "#ed7953"
             ],
             [
              0.7777777777777778,
              "#fb9f3a"
             ],
             [
              0.8888888888888888,
              "#fdca26"
             ],
             [
              1,
              "#f0f921"
             ]
            ],
            "type": "contour"
           }
          ],
          "contourcarpet": [
           {
            "colorbar": {
             "outlinewidth": 0,
             "ticks": ""
            },
            "type": "contourcarpet"
           }
          ],
          "heatmap": [
           {
            "colorbar": {
             "outlinewidth": 0,
             "ticks": ""
            },
            "colorscale": [
             [
              0,
              "#0d0887"
             ],
             [
              0.1111111111111111,
              "#46039f"
             ],
             [
              0.2222222222222222,
              "#7201a8"
             ],
             [
              0.3333333333333333,
              "#9c179e"
             ],
             [
              0.4444444444444444,
              "#bd3786"
             ],
             [
              0.5555555555555556,
              "#d8576b"
             ],
             [
              0.6666666666666666,
              "#ed7953"
             ],
             [
              0.7777777777777778,
              "#fb9f3a"
             ],
             [
              0.8888888888888888,
              "#fdca26"
             ],
             [
              1,
              "#f0f921"
             ]
            ],
            "type": "heatmap"
           }
          ],
          "heatmapgl": [
           {
            "colorbar": {
             "outlinewidth": 0,
             "ticks": ""
            },
            "colorscale": [
             [
              0,
              "#0d0887"
             ],
             [
              0.1111111111111111,
              "#46039f"
             ],
             [
              0.2222222222222222,
              "#7201a8"
             ],
             [
              0.3333333333333333,
              "#9c179e"
             ],
             [
              0.4444444444444444,
              "#bd3786"
             ],
             [
              0.5555555555555556,
              "#d8576b"
             ],
             [
              0.6666666666666666,
              "#ed7953"
             ],
             [
              0.7777777777777778,
              "#fb9f3a"
             ],
             [
              0.8888888888888888,
              "#fdca26"
             ],
             [
              1,
              "#f0f921"
             ]
            ],
            "type": "heatmapgl"
           }
          ],
          "histogram": [
           {
            "marker": {
             "pattern": {
              "fillmode": "overlay",
              "size": 10,
              "solidity": 0.2
             }
            },
            "type": "histogram"
           }
          ],
          "histogram2d": [
           {
            "colorbar": {
             "outlinewidth": 0,
             "ticks": ""
            },
            "colorscale": [
             [
              0,
              "#0d0887"
             ],
             [
              0.1111111111111111,
              "#46039f"
             ],
             [
              0.2222222222222222,
              "#7201a8"
             ],
             [
              0.3333333333333333,
              "#9c179e"
             ],
             [
              0.4444444444444444,
              "#bd3786"
             ],
             [
              0.5555555555555556,
              "#d8576b"
             ],
             [
              0.6666666666666666,
              "#ed7953"
             ],
             [
              0.7777777777777778,
              "#fb9f3a"
             ],
             [
              0.8888888888888888,
              "#fdca26"
             ],
             [
              1,
              "#f0f921"
             ]
            ],
            "type": "histogram2d"
           }
          ],
          "histogram2dcontour": [
           {
            "colorbar": {
             "outlinewidth": 0,
             "ticks": ""
            },
            "colorscale": [
             [
              0,
              "#0d0887"
             ],
             [
              0.1111111111111111,
              "#46039f"
             ],
             [
              0.2222222222222222,
              "#7201a8"
             ],
             [
              0.3333333333333333,
              "#9c179e"
             ],
             [
              0.4444444444444444,
              "#bd3786"
             ],
             [
              0.5555555555555556,
              "#d8576b"
             ],
             [
              0.6666666666666666,
              "#ed7953"
             ],
             [
              0.7777777777777778,
              "#fb9f3a"
             ],
             [
              0.8888888888888888,
              "#fdca26"
             ],
             [
              1,
              "#f0f921"
             ]
            ],
            "type": "histogram2dcontour"
           }
          ],
          "mesh3d": [
           {
            "colorbar": {
             "outlinewidth": 0,
             "ticks": ""
            },
            "type": "mesh3d"
           }
          ],
          "parcoords": [
           {
            "line": {
             "colorbar": {
              "outlinewidth": 0,
              "ticks": ""
             }
            },
            "type": "parcoords"
           }
          ],
          "pie": [
           {
            "automargin": true,
            "type": "pie"
           }
          ],
          "scatter": [
           {
            "fillpattern": {
             "fillmode": "overlay",
             "size": 10,
             "solidity": 0.2
            },
            "type": "scatter"
           }
          ],
          "scatter3d": [
           {
            "line": {
             "colorbar": {
              "outlinewidth": 0,
              "ticks": ""
             }
            },
            "marker": {
             "colorbar": {
              "outlinewidth": 0,
              "ticks": ""
             }
            },
            "type": "scatter3d"
           }
          ],
          "scattercarpet": [
           {
            "marker": {
             "colorbar": {
              "outlinewidth": 0,
              "ticks": ""
             }
            },
            "type": "scattercarpet"
           }
          ],
          "scattergeo": [
           {
            "marker": {
             "colorbar": {
              "outlinewidth": 0,
              "ticks": ""
             }
            },
            "type": "scattergeo"
           }
          ],
          "scattergl": [
           {
            "marker": {
             "colorbar": {
              "outlinewidth": 0,
              "ticks": ""
             }
            },
            "type": "scattergl"
           }
          ],
          "scattermapbox": [
           {
            "marker": {
             "colorbar": {
              "outlinewidth": 0,
              "ticks": ""
             }
            },
            "type": "scattermapbox"
           }
          ],
          "scatterpolar": [
           {
            "marker": {
             "colorbar": {
              "outlinewidth": 0,
              "ticks": ""
             }
            },
            "type": "scatterpolar"
           }
          ],
          "scatterpolargl": [
           {
            "marker": {
             "colorbar": {
              "outlinewidth": 0,
              "ticks": ""
             }
            },
            "type": "scatterpolargl"
           }
          ],
          "scatterternary": [
           {
            "marker": {
             "colorbar": {
              "outlinewidth": 0,
              "ticks": ""
             }
            },
            "type": "scatterternary"
           }
          ],
          "surface": [
           {
            "colorbar": {
             "outlinewidth": 0,
             "ticks": ""
            },
            "colorscale": [
             [
              0,
              "#0d0887"
             ],
             [
              0.1111111111111111,
              "#46039f"
             ],
             [
              0.2222222222222222,
              "#7201a8"
             ],
             [
              0.3333333333333333,
              "#9c179e"
             ],
             [
              0.4444444444444444,
              "#bd3786"
             ],
             [
              0.5555555555555556,
              "#d8576b"
             ],
             [
              0.6666666666666666,
              "#ed7953"
             ],
             [
              0.7777777777777778,
              "#fb9f3a"
             ],
             [
              0.8888888888888888,
              "#fdca26"
             ],
             [
              1,
              "#f0f921"
             ]
            ],
            "type": "surface"
           }
          ],
          "table": [
           {
            "cells": {
             "fill": {
              "color": "#EBF0F8"
             },
             "line": {
              "color": "white"
             }
            },
            "header": {
             "fill": {
              "color": "#C8D4E3"
             },
             "line": {
              "color": "white"
             }
            },
            "type": "table"
           }
          ]
         },
         "layout": {
          "annotationdefaults": {
           "arrowcolor": "#2a3f5f",
           "arrowhead": 0,
           "arrowwidth": 1
          },
          "autotypenumbers": "strict",
          "coloraxis": {
           "colorbar": {
            "outlinewidth": 0,
            "ticks": ""
           }
          },
          "colorscale": {
           "diverging": [
            [
             0,
             "#8e0152"
            ],
            [
             0.1,
             "#c51b7d"
            ],
            [
             0.2,
             "#de77ae"
            ],
            [
             0.3,
             "#f1b6da"
            ],
            [
             0.4,
             "#fde0ef"
            ],
            [
             0.5,
             "#f7f7f7"
            ],
            [
             0.6,
             "#e6f5d0"
            ],
            [
             0.7,
             "#b8e186"
            ],
            [
             0.8,
             "#7fbc41"
            ],
            [
             0.9,
             "#4d9221"
            ],
            [
             1,
             "#276419"
            ]
           ],
           "sequential": [
            [
             0,
             "#0d0887"
            ],
            [
             0.1111111111111111,
             "#46039f"
            ],
            [
             0.2222222222222222,
             "#7201a8"
            ],
            [
             0.3333333333333333,
             "#9c179e"
            ],
            [
             0.4444444444444444,
             "#bd3786"
            ],
            [
             0.5555555555555556,
             "#d8576b"
            ],
            [
             0.6666666666666666,
             "#ed7953"
            ],
            [
             0.7777777777777778,
             "#fb9f3a"
            ],
            [
             0.8888888888888888,
             "#fdca26"
            ],
            [
             1,
             "#f0f921"
            ]
           ],
           "sequentialminus": [
            [
             0,
             "#0d0887"
            ],
            [
             0.1111111111111111,
             "#46039f"
            ],
            [
             0.2222222222222222,
             "#7201a8"
            ],
            [
             0.3333333333333333,
             "#9c179e"
            ],
            [
             0.4444444444444444,
             "#bd3786"
            ],
            [
             0.5555555555555556,
             "#d8576b"
            ],
            [
             0.6666666666666666,
             "#ed7953"
            ],
            [
             0.7777777777777778,
             "#fb9f3a"
            ],
            [
             0.8888888888888888,
             "#fdca26"
            ],
            [
             1,
             "#f0f921"
            ]
           ]
          },
          "colorway": [
           "#636efa",
           "#EF553B",
           "#00cc96",
           "#ab63fa",
           "#FFA15A",
           "#19d3f3",
           "#FF6692",
           "#B6E880",
           "#FF97FF",
           "#FECB52"
          ],
          "font": {
           "color": "#2a3f5f"
          },
          "geo": {
           "bgcolor": "white",
           "lakecolor": "white",
           "landcolor": "#E5ECF6",
           "showlakes": true,
           "showland": true,
           "subunitcolor": "white"
          },
          "hoverlabel": {
           "align": "left"
          },
          "hovermode": "closest",
          "mapbox": {
           "style": "light"
          },
          "paper_bgcolor": "white",
          "plot_bgcolor": "#E5ECF6",
          "polar": {
           "angularaxis": {
            "gridcolor": "white",
            "linecolor": "white",
            "ticks": ""
           },
           "bgcolor": "#E5ECF6",
           "radialaxis": {
            "gridcolor": "white",
            "linecolor": "white",
            "ticks": ""
           }
          },
          "scene": {
           "xaxis": {
            "backgroundcolor": "#E5ECF6",
            "gridcolor": "white",
            "gridwidth": 2,
            "linecolor": "white",
            "showbackground": true,
            "ticks": "",
            "zerolinecolor": "white"
           },
           "yaxis": {
            "backgroundcolor": "#E5ECF6",
            "gridcolor": "white",
            "gridwidth": 2,
            "linecolor": "white",
            "showbackground": true,
            "ticks": "",
            "zerolinecolor": "white"
           },
           "zaxis": {
            "backgroundcolor": "#E5ECF6",
            "gridcolor": "white",
            "gridwidth": 2,
            "linecolor": "white",
            "showbackground": true,
            "ticks": "",
            "zerolinecolor": "white"
           }
          },
          "shapedefaults": {
           "line": {
            "color": "#2a3f5f"
           }
          },
          "ternary": {
           "aaxis": {
            "gridcolor": "white",
            "linecolor": "white",
            "ticks": ""
           },
           "baxis": {
            "gridcolor": "white",
            "linecolor": "white",
            "ticks": ""
           },
           "bgcolor": "#E5ECF6",
           "caxis": {
            "gridcolor": "white",
            "linecolor": "white",
            "ticks": ""
           }
          },
          "title": {
           "x": 0.05
          },
          "xaxis": {
           "automargin": true,
           "gridcolor": "white",
           "linecolor": "white",
           "ticks": "",
           "title": {
            "standoff": 15
           },
           "zerolinecolor": "white",
           "zerolinewidth": 2
          },
          "yaxis": {
           "automargin": true,
           "gridcolor": "white",
           "linecolor": "white",
           "ticks": "",
           "title": {
            "standoff": 15
           },
           "zerolinecolor": "white",
           "zerolinewidth": 2
          }
         }
        },
        "title": {
         "font": {
          "color": "#4D5663"
         }
        },
        "xaxis": {
         "gridcolor": "#E1E5ED",
         "showgrid": true,
         "tickfont": {
          "color": "#4D5663"
         },
         "title": {
          "font": {
           "color": "#4D5663"
          },
          "text": ""
         },
         "zerolinecolor": "#E1E5ED"
        },
        "yaxis": {
         "gridcolor": "#E1E5ED",
         "showgrid": true,
         "tickfont": {
          "color": "#4D5663"
         },
         "title": {
          "font": {
           "color": "#4D5663"
          },
          "text": ""
         },
         "zerolinecolor": "#E1E5ED"
        }
       }
      },
      "text/html": [
       "<div>                            <div id=\"1ebcbce5-a8da-4d39-aa80-ce3f74f20994\" class=\"plotly-graph-div\" style=\"height:525px; width:100%;\"></div>            <script type=\"text/javascript\">                require([\"plotly\"], function(Plotly) {                    window.PLOTLYENV=window.PLOTLYENV || {};\n",
       "                    window.PLOTLYENV.BASE_URL='https://plot.ly';                                    if (document.getElementById(\"1ebcbce5-a8da-4d39-aa80-ce3f74f20994\")) {                    Plotly.newPlot(                        \"1ebcbce5-a8da-4d39-aa80-ce3f74f20994\",                        [{\"histfunc\":\"count\",\"histnorm\":\"\",\"marker\":{\"color\":\"rgba(255, 153, 51, 1.0)\",\"line\":{\"color\":\"#4D5663\",\"width\":1.3}},\"name\":\"A\",\"opacity\":0.8,\"orientation\":\"v\",\"x\":[-0.5753426879256494,-0.2855850025875945,-0.0961869464912241,0.6103568764767965,-0.4025696750478465,0.4374070598595347,0.7852380548724863,0.5214648823245953,-0.00684583591222356,-0.5051783000764581,0.6530373694023148,0.8290643885983005,-0.16326941807355744,1.2946551885772357,0.3062829613096997,-0.40651524703456704,0.3896016631461653,-1.138922855036025,-0.7578633933957807,1.3509314503931424,-0.005010025924972767,-0.7973280566035829,-0.9426397821555511,0.7837430673863505,0.21275853925610655,-0.4223329495826686,-1.260774413115214,0.03781882593588207,0.46263467519767826,0.5546355561998378,-0.4842961772526561,0.4618702738864327,-0.26539049970315043,0.07173654988682814,1.2670586248816906,0.48257046492794947,0.8606764634836559,0.6828244703998747,0.2703051628152772,0.0908652995232409,1.3407457592744865,0.6876439459516805,-1.3694094056973394,-0.4335211415628346,-1.1267120131338622,1.3400799055072092,-0.1422947461813094,-1.248940584041396,-2.124104883981563,-1.3019259842261062,1.2253863790785309,-1.50671466014991,0.07538508733247389,1.2494402889239615,0.18255827197336624,-1.0105509243088642,-1.1891302933224321,-0.11628475166186489,-0.4734418847308924,0.8718766160831669,-0.35944283707649927,-0.6793897450131363,-0.18631676258814278,-1.2782273458212,1.4977187013693063,1.177236002604748,-1.0941913024273784,2.2404207802414633,-1.7525070260970546,0.216729499836274,-0.24615959069611515,-0.9566272104115014,-1.3354612997377038,0.22350132903717154,0.9938854360185605,-0.678036349363896,-1.269837301038907,0.023573204636028175,1.1893098288366686,0.3945672020711424,0.16556190679953686,1.0533923683620778,0.7980311950587345,-0.4648689451877062,-1.1224975907209203,0.5905563562444988,0.7187909232916364,0.001996256304215127,-0.5024319634754288,1.8039520156480824,-0.21920796816159593,-0.08410382918341316,0.7263457090750816,1.3527961859231261,-1.544852980293307,-0.2966107732450681,-0.11415615694751836,-0.12881703002004213,1.2741874708953127,1.1393830437473285],\"type\":\"histogram\"},{\"histfunc\":\"count\",\"histnorm\":\"\",\"marker\":{\"color\":\"rgba(55, 128, 191, 1.0)\",\"line\":{\"color\":\"#4D5663\",\"width\":1.3}},\"name\":\"B\",\"opacity\":0.8,\"orientation\":\"v\",\"x\":[-0.5580704050672908,-0.44923515289336513,-0.7168931610192598,0.9830134247526778,1.6240683385906691,-0.40275289981153695,0.6112791218876015,-1.2803108479829148,-0.05808932824151311,-1.684712399154241,0.7009441493967767,1.2720970110310192,0.3689654180086758,-0.10972521230236329,-1.8715072885797777,-0.41072022373609,-2.222846437588777,-1.1915850756385813,0.9231330164233137,1.8669529912034164,-0.290221726325987,-0.648720943564726,-0.36177078386180883,-0.320582285809616,0.034000540804830316,-0.22176470456543523,0.29525848347628325,-0.9460745820077947,-0.40068026297055254,0.4106897541844773,-0.05309064552901487,1.1476677464913225,-0.6292502221798444,-0.6653930893895125,0.23844796985252587,0.1526908108190717,-0.4882637399023558,0.6095528940202006,1.7106600523326803,-0.6087185304180869,-0.14795323483741937,-0.9041735666641447,-0.2758124519817509,-0.6901891175196618,0.6644453330064052,0.7900367784741046,0.9187562121791123,0.8674138559764352,-0.2453438445025455,0.6793641868864831,-0.857948768868309,-0.9098665331960117,-0.6276702401871189,-1.9934794146042236,-0.364622445961039,1.441725222783407,0.7801273633492309,0.8618581629889228,-0.6880668392789634,-1.1699554311316747,0.4688674958261446,-0.3910846044592581,-0.9407200530603363,-1.5443525904104154,1.0384541197937691,-0.3226253863608884,0.9201172848030571,0.7657733729769911,-0.0895080157312864,-0.8583292937553912,-0.5909240948790668,-0.2866429338299557,0.3565715507880381,-0.8964384866866988,-0.5862356805821878,-0.9155134743418362,0.3015672501242637,0.5252427921756735,1.1163271687288974,0.14762362641226046,1.6270590095804507,-0.5035181944686434,-2.4300076126906753,-0.5269023436170583,1.9305638870047916,1.0182413139000828,-0.33799434650269927,1.046303567819808,1.2774037206763065,-0.33322567523426716,0.5210740638623935,-1.1545147289056945,-0.29028048645031423,-1.3789783825434538,0.12451934803869251,-0.06929895952401209,0.3449054115724372,-1.0596751060425036,1.622930397463581,1.2696505909551374],\"type\":\"histogram\"},{\"histfunc\":\"count\",\"histnorm\":\"\",\"marker\":{\"color\":\"rgba(50, 171, 96, 1.0)\",\"line\":{\"color\":\"#4D5663\",\"width\":1.3}},\"name\":\"C\",\"opacity\":0.8,\"orientation\":\"v\",\"x\":[0.6114507672687999,-1.453118223435603,1.1827405880682482,-0.8915317989289957,-0.6965339089786392,1.3349453277892667,-0.012754426842266287,-1.8363884955952245,0.06320121054962571,-0.8054032151493444,-0.8680597817673879,0.15123933857148497,0.5123570213932661,-0.16037339958878402,1.2084982369733155,0.11675209300983791,-0.7352880428466906,-0.2791381389434401,-1.6768211825037311,0.2687358510113133,-0.08730828996841995,0.08011587984526237,0.5870365383920121,-0.45513157695040024,1.0477545780925943,-0.6122419200802369,0.9071051522559322,0.5288208716979997,1.7182043502896294,-1.037247362100533,1.2071706170444598,-0.09959896328078839,0.1378115413695539,-0.7628053068053268,-1.4628741580335396,-1.8115843574114259,0.48644122722049543,0.0812345794161359,1.1618829202520924,0.12227531103671242,-1.0286809844723226,-0.4199992929049847,-2.6587328254050435,-0.2024935070142835,-1.0654775595196992,1.7239918194244157,-0.88260958534823,1.6551781445421734,0.6507530317290405,-1.6654829806178402,0.9767781066008089,1.4101056253993747,-0.3795509935768535,0.5352685882282258,-0.07107715970154109,0.7354612283859392,-0.4782542749410208,0.2034575421519448,1.3429473000413061,0.44838858879270727,-1.5463440803120463,1.3497880948859498,0.14937510875119525,-0.8145611453142702,0.33798653977713,-1.0392925446223271,-1.2857261541825418,-0.18175222407249347,1.1471456825047024,2.302935046525213,-1.1653519184303127,0.7037332413417794,-0.3154171419840098,1.0465994577252105,-0.5043267981371093,0.3059399843978032,-1.0147173103491358,0.18734319364702906,1.0197870438206182,0.5698463723265904,0.847161738078466,-0.48838155083686113,-0.17571083683572822,-0.18323720410096794,1.1972873398163424,0.9806532259074543,-0.4917355934045084,-0.1343592196434194,0.2516622328478005,-0.27081241540746404,-1.0155616992979957,-0.0780064275372869,1.3613145488862313,-2.25481067807797,0.01340459400981535,1.034736325414299,-0.8796258441728192,-0.3292043045328106,-1.8624919231541441,1.1113931809407485],\"type\":\"histogram\"},{\"histfunc\":\"count\",\"histnorm\":\"\",\"marker\":{\"color\":\"rgba(128, 0, 128, 1.0)\",\"line\":{\"color\":\"#4D5663\",\"width\":1.3}},\"name\":\"D\",\"opacity\":0.8,\"orientation\":\"v\",\"x\":[-0.10163559002645582,-0.35572331833610316,0.9382633458937855,1.0365157491589996,-1.0839803625551319,-0.42444836826523763,-0.17434477607746782,-0.2503002221905484,-0.13298541736793706,0.8536540114980372,0.3743533125530419,-0.23019310723961844,-1.0877216415015756,0.8983283485049616,0.14188830675770078,0.22365165287099512,0.19462905516574389,0.0934357964967572,0.8335939366943298,-0.04921489580520027,1.0017436578627659,0.5833690545463516,0.5736816489166747,-0.24365567817680078,1.3488875965404792,0.1263712094019638,-0.06129280907415563,-0.2237010330630421,2.302720150283636,-1.2728458007605248,-0.9225462214792156,-0.83290355524013,0.9865001583080875,-0.47162702859165717,-0.2933254636166296,0.24279006201943384,0.9032069290402934,0.34250476808048,0.807733281761505,1.8166900939762636,-0.009455451023209618,-0.4963886136333983,-0.6358577813771843,0.3619657381092746,-0.8788873299867607,0.40135747633790053,0.5062831775326353,-0.020676125484085806,0.19948143467837848,0.34548083587927997,-0.5795092323886075,-1.7819736678538074,0.17033119871697325,-0.89129758144792,-0.1714054780010341,-1.0737098320560075,1.2900195720031598,1.2914077918767255,-0.24949588549061508,0.8369345762371713,1.135976461563747,-1.4428407997626485,0.9875439709348575,2.2035242636833,-0.5791487359503539,-2.521913338226039,-0.7184707278530241,-1.1639587985186035,-0.5687316557397463,-1.702610898906452,-0.12020102131074938,0.13080022513111286,-0.22034734250604682,-0.05716775746615135,0.28319930382775665,0.731825355886409,-0.32563379121427105,-0.0787710720033279,-1.3347357015730388,-1.6260320813219609,0.9013728332559842,-0.08563499946707838,-0.33884869313938376,-2.256272072962904,0.38836306652118646,-0.1299483070640521,0.835893038991054,0.5972407218225784,0.9662776762760077,-0.6501003773755782,-2.3648808383363713,0.6757352967860882,0.8668970165490616,-1.7444739905526931,0.9097302962435239,0.3895664821972121,-0.26932148950763357,-1.300053903639512,0.38751698856060934,-0.6130946474664536],\"type\":\"histogram\"}],                        {\"barmode\":\"overlay\",\"legend\":{\"bgcolor\":\"#F5F6F9\",\"font\":{\"color\":\"#4D5663\"}},\"paper_bgcolor\":\"#F5F6F9\",\"plot_bgcolor\":\"#F5F6F9\",\"template\":{\"data\":{\"barpolar\":[{\"marker\":{\"line\":{\"color\":\"#E5ECF6\",\"width\":0.5},\"pattern\":{\"fillmode\":\"overlay\",\"size\":10,\"solidity\":0.2}},\"type\":\"barpolar\"}],\"bar\":[{\"error_x\":{\"color\":\"#2a3f5f\"},\"error_y\":{\"color\":\"#2a3f5f\"},\"marker\":{\"line\":{\"color\":\"#E5ECF6\",\"width\":0.5},\"pattern\":{\"fillmode\":\"overlay\",\"size\":10,\"solidity\":0.2}},\"type\":\"bar\"}],\"carpet\":[{\"aaxis\":{\"endlinecolor\":\"#2a3f5f\",\"gridcolor\":\"white\",\"linecolor\":\"white\",\"minorgridcolor\":\"white\",\"startlinecolor\":\"#2a3f5f\"},\"baxis\":{\"endlinecolor\":\"#2a3f5f\",\"gridcolor\":\"white\",\"linecolor\":\"white\",\"minorgridcolor\":\"white\",\"startlinecolor\":\"#2a3f5f\"},\"type\":\"carpet\"}],\"choropleth\":[{\"colorbar\":{\"outlinewidth\":0,\"ticks\":\"\"},\"type\":\"choropleth\"}],\"contourcarpet\":[{\"colorbar\":{\"outlinewidth\":0,\"ticks\":\"\"},\"type\":\"contourcarpet\"}],\"contour\":[{\"colorbar\":{\"outlinewidth\":0,\"ticks\":\"\"},\"colorscale\":[[0.0,\"#0d0887\"],[0.1111111111111111,\"#46039f\"],[0.2222222222222222,\"#7201a8\"],[0.3333333333333333,\"#9c179e\"],[0.4444444444444444,\"#bd3786\"],[0.5555555555555556,\"#d8576b\"],[0.6666666666666666,\"#ed7953\"],[0.7777777777777778,\"#fb9f3a\"],[0.8888888888888888,\"#fdca26\"],[1.0,\"#f0f921\"]],\"type\":\"contour\"}],\"heatmapgl\":[{\"colorbar\":{\"outlinewidth\":0,\"ticks\":\"\"},\"colorscale\":[[0.0,\"#0d0887\"],[0.1111111111111111,\"#46039f\"],[0.2222222222222222,\"#7201a8\"],[0.3333333333333333,\"#9c179e\"],[0.4444444444444444,\"#bd3786\"],[0.5555555555555556,\"#d8576b\"],[0.6666666666666666,\"#ed7953\"],[0.7777777777777778,\"#fb9f3a\"],[0.8888888888888888,\"#fdca26\"],[1.0,\"#f0f921\"]],\"type\":\"heatmapgl\"}],\"heatmap\":[{\"colorbar\":{\"outlinewidth\":0,\"ticks\":\"\"},\"colorscale\":[[0.0,\"#0d0887\"],[0.1111111111111111,\"#46039f\"],[0.2222222222222222,\"#7201a8\"],[0.3333333333333333,\"#9c179e\"],[0.4444444444444444,\"#bd3786\"],[0.5555555555555556,\"#d8576b\"],[0.6666666666666666,\"#ed7953\"],[0.7777777777777778,\"#fb9f3a\"],[0.8888888888888888,\"#fdca26\"],[1.0,\"#f0f921\"]],\"type\":\"heatmap\"}],\"histogram2dcontour\":[{\"colorbar\":{\"outlinewidth\":0,\"ticks\":\"\"},\"colorscale\":[[0.0,\"#0d0887\"],[0.1111111111111111,\"#46039f\"],[0.2222222222222222,\"#7201a8\"],[0.3333333333333333,\"#9c179e\"],[0.4444444444444444,\"#bd3786\"],[0.5555555555555556,\"#d8576b\"],[0.6666666666666666,\"#ed7953\"],[0.7777777777777778,\"#fb9f3a\"],[0.8888888888888888,\"#fdca26\"],[1.0,\"#f0f921\"]],\"type\":\"histogram2dcontour\"}],\"histogram2d\":[{\"colorbar\":{\"outlinewidth\":0,\"ticks\":\"\"},\"colorscale\":[[0.0,\"#0d0887\"],[0.1111111111111111,\"#46039f\"],[0.2222222222222222,\"#7201a8\"],[0.3333333333333333,\"#9c179e\"],[0.4444444444444444,\"#bd3786\"],[0.5555555555555556,\"#d8576b\"],[0.6666666666666666,\"#ed7953\"],[0.7777777777777778,\"#fb9f3a\"],[0.8888888888888888,\"#fdca26\"],[1.0,\"#f0f921\"]],\"type\":\"histogram2d\"}],\"histogram\":[{\"marker\":{\"pattern\":{\"fillmode\":\"overlay\",\"size\":10,\"solidity\":0.2}},\"type\":\"histogram\"}],\"mesh3d\":[{\"colorbar\":{\"outlinewidth\":0,\"ticks\":\"\"},\"type\":\"mesh3d\"}],\"parcoords\":[{\"line\":{\"colorbar\":{\"outlinewidth\":0,\"ticks\":\"\"}},\"type\":\"parcoords\"}],\"pie\":[{\"automargin\":true,\"type\":\"pie\"}],\"scatter3d\":[{\"line\":{\"colorbar\":{\"outlinewidth\":0,\"ticks\":\"\"}},\"marker\":{\"colorbar\":{\"outlinewidth\":0,\"ticks\":\"\"}},\"type\":\"scatter3d\"}],\"scattercarpet\":[{\"marker\":{\"colorbar\":{\"outlinewidth\":0,\"ticks\":\"\"}},\"type\":\"scattercarpet\"}],\"scattergeo\":[{\"marker\":{\"colorbar\":{\"outlinewidth\":0,\"ticks\":\"\"}},\"type\":\"scattergeo\"}],\"scattergl\":[{\"marker\":{\"colorbar\":{\"outlinewidth\":0,\"ticks\":\"\"}},\"type\":\"scattergl\"}],\"scattermapbox\":[{\"marker\":{\"colorbar\":{\"outlinewidth\":0,\"ticks\":\"\"}},\"type\":\"scattermapbox\"}],\"scatterpolargl\":[{\"marker\":{\"colorbar\":{\"outlinewidth\":0,\"ticks\":\"\"}},\"type\":\"scatterpolargl\"}],\"scatterpolar\":[{\"marker\":{\"colorbar\":{\"outlinewidth\":0,\"ticks\":\"\"}},\"type\":\"scatterpolar\"}],\"scatter\":[{\"fillpattern\":{\"fillmode\":\"overlay\",\"size\":10,\"solidity\":0.2},\"type\":\"scatter\"}],\"scatterternary\":[{\"marker\":{\"colorbar\":{\"outlinewidth\":0,\"ticks\":\"\"}},\"type\":\"scatterternary\"}],\"surface\":[{\"colorbar\":{\"outlinewidth\":0,\"ticks\":\"\"},\"colorscale\":[[0.0,\"#0d0887\"],[0.1111111111111111,\"#46039f\"],[0.2222222222222222,\"#7201a8\"],[0.3333333333333333,\"#9c179e\"],[0.4444444444444444,\"#bd3786\"],[0.5555555555555556,\"#d8576b\"],[0.6666666666666666,\"#ed7953\"],[0.7777777777777778,\"#fb9f3a\"],[0.8888888888888888,\"#fdca26\"],[1.0,\"#f0f921\"]],\"type\":\"surface\"}],\"table\":[{\"cells\":{\"fill\":{\"color\":\"#EBF0F8\"},\"line\":{\"color\":\"white\"}},\"header\":{\"fill\":{\"color\":\"#C8D4E3\"},\"line\":{\"color\":\"white\"}},\"type\":\"table\"}]},\"layout\":{\"annotationdefaults\":{\"arrowcolor\":\"#2a3f5f\",\"arrowhead\":0,\"arrowwidth\":1},\"autotypenumbers\":\"strict\",\"coloraxis\":{\"colorbar\":{\"outlinewidth\":0,\"ticks\":\"\"}},\"colorscale\":{\"diverging\":[[0,\"#8e0152\"],[0.1,\"#c51b7d\"],[0.2,\"#de77ae\"],[0.3,\"#f1b6da\"],[0.4,\"#fde0ef\"],[0.5,\"#f7f7f7\"],[0.6,\"#e6f5d0\"],[0.7,\"#b8e186\"],[0.8,\"#7fbc41\"],[0.9,\"#4d9221\"],[1,\"#276419\"]],\"sequential\":[[0.0,\"#0d0887\"],[0.1111111111111111,\"#46039f\"],[0.2222222222222222,\"#7201a8\"],[0.3333333333333333,\"#9c179e\"],[0.4444444444444444,\"#bd3786\"],[0.5555555555555556,\"#d8576b\"],[0.6666666666666666,\"#ed7953\"],[0.7777777777777778,\"#fb9f3a\"],[0.8888888888888888,\"#fdca26\"],[1.0,\"#f0f921\"]],\"sequentialminus\":[[0.0,\"#0d0887\"],[0.1111111111111111,\"#46039f\"],[0.2222222222222222,\"#7201a8\"],[0.3333333333333333,\"#9c179e\"],[0.4444444444444444,\"#bd3786\"],[0.5555555555555556,\"#d8576b\"],[0.6666666666666666,\"#ed7953\"],[0.7777777777777778,\"#fb9f3a\"],[0.8888888888888888,\"#fdca26\"],[1.0,\"#f0f921\"]]},\"colorway\":[\"#636efa\",\"#EF553B\",\"#00cc96\",\"#ab63fa\",\"#FFA15A\",\"#19d3f3\",\"#FF6692\",\"#B6E880\",\"#FF97FF\",\"#FECB52\"],\"font\":{\"color\":\"#2a3f5f\"},\"geo\":{\"bgcolor\":\"white\",\"lakecolor\":\"white\",\"landcolor\":\"#E5ECF6\",\"showlakes\":true,\"showland\":true,\"subunitcolor\":\"white\"},\"hoverlabel\":{\"align\":\"left\"},\"hovermode\":\"closest\",\"mapbox\":{\"style\":\"light\"},\"paper_bgcolor\":\"white\",\"plot_bgcolor\":\"#E5ECF6\",\"polar\":{\"angularaxis\":{\"gridcolor\":\"white\",\"linecolor\":\"white\",\"ticks\":\"\"},\"bgcolor\":\"#E5ECF6\",\"radialaxis\":{\"gridcolor\":\"white\",\"linecolor\":\"white\",\"ticks\":\"\"}},\"scene\":{\"xaxis\":{\"backgroundcolor\":\"#E5ECF6\",\"gridcolor\":\"white\",\"gridwidth\":2,\"linecolor\":\"white\",\"showbackground\":true,\"ticks\":\"\",\"zerolinecolor\":\"white\"},\"yaxis\":{\"backgroundcolor\":\"#E5ECF6\",\"gridcolor\":\"white\",\"gridwidth\":2,\"linecolor\":\"white\",\"showbackground\":true,\"ticks\":\"\",\"zerolinecolor\":\"white\"},\"zaxis\":{\"backgroundcolor\":\"#E5ECF6\",\"gridcolor\":\"white\",\"gridwidth\":2,\"linecolor\":\"white\",\"showbackground\":true,\"ticks\":\"\",\"zerolinecolor\":\"white\"}},\"shapedefaults\":{\"line\":{\"color\":\"#2a3f5f\"}},\"ternary\":{\"aaxis\":{\"gridcolor\":\"white\",\"linecolor\":\"white\",\"ticks\":\"\"},\"baxis\":{\"gridcolor\":\"white\",\"linecolor\":\"white\",\"ticks\":\"\"},\"bgcolor\":\"#E5ECF6\",\"caxis\":{\"gridcolor\":\"white\",\"linecolor\":\"white\",\"ticks\":\"\"}},\"title\":{\"x\":0.05},\"xaxis\":{\"automargin\":true,\"gridcolor\":\"white\",\"linecolor\":\"white\",\"ticks\":\"\",\"title\":{\"standoff\":15},\"zerolinecolor\":\"white\",\"zerolinewidth\":2},\"yaxis\":{\"automargin\":true,\"gridcolor\":\"white\",\"linecolor\":\"white\",\"ticks\":\"\",\"title\":{\"standoff\":15},\"zerolinecolor\":\"white\",\"zerolinewidth\":2}}},\"title\":{\"font\":{\"color\":\"#4D5663\"}},\"xaxis\":{\"gridcolor\":\"#E1E5ED\",\"showgrid\":true,\"tickfont\":{\"color\":\"#4D5663\"},\"title\":{\"font\":{\"color\":\"#4D5663\"},\"text\":\"\"},\"zerolinecolor\":\"#E1E5ED\"},\"yaxis\":{\"gridcolor\":\"#E1E5ED\",\"showgrid\":true,\"tickfont\":{\"color\":\"#4D5663\"},\"title\":{\"font\":{\"color\":\"#4D5663\"},\"text\":\"\"},\"zerolinecolor\":\"#E1E5ED\"}},                        {\"showLink\": true, \"linkText\": \"Export to plot.ly\", \"plotlyServerURL\": \"https://plot.ly\", \"responsive\": true}                    ).then(function(){\n",
       "                            \n",
       "var gd = document.getElementById('1ebcbce5-a8da-4d39-aa80-ce3f74f20994');\n",
       "var x = new MutationObserver(function (mutations, observer) {{\n",
       "        var display = window.getComputedStyle(gd).display;\n",
       "        if (!display || display === 'none') {{\n",
       "            console.log([gd, 'removed!']);\n",
       "            Plotly.purge(gd);\n",
       "            observer.disconnect();\n",
       "        }}\n",
       "}});\n",
       "\n",
       "// Listen for the removal of the full notebook cells\n",
       "var notebookContainer = gd.closest('#notebook-container');\n",
       "if (notebookContainer) {{\n",
       "    x.observe(notebookContainer, {childList: true});\n",
       "}}\n",
       "\n",
       "// Listen for the clearing of the current output cell\n",
       "var outputEl = gd.closest('.output');\n",
       "if (outputEl) {{\n",
       "    x.observe(outputEl, {childList: true});\n",
       "}}\n",
       "\n",
       "                        })                };                });            </script>        </div>"
      ]
     },
     "metadata": {},
     "output_type": "display_data"
    }
   ],
   "source": [
    "df.iplot(kind='hist')"
   ]
  },
  {
   "cell_type": "code",
   "execution_count": 53,
   "id": "0eb6ce68",
   "metadata": {},
   "outputs": [
    {
     "data": {
      "text/html": [
       "<div>\n",
       "<style scoped>\n",
       "    .dataframe tbody tr th:only-of-type {\n",
       "        vertical-align: middle;\n",
       "    }\n",
       "\n",
       "    .dataframe tbody tr th {\n",
       "        vertical-align: top;\n",
       "    }\n",
       "\n",
       "    .dataframe thead th {\n",
       "        text-align: right;\n",
       "    }\n",
       "</style>\n",
       "<table border=\"1\" class=\"dataframe\">\n",
       "  <thead>\n",
       "    <tr style=\"text-align: right;\">\n",
       "      <th></th>\n",
       "      <th>A</th>\n",
       "      <th>B</th>\n",
       "    </tr>\n",
       "  </thead>\n",
       "  <tbody>\n",
       "    <tr>\n",
       "      <th>0</th>\n",
       "      <td>-0.575343</td>\n",
       "      <td>-0.558070</td>\n",
       "    </tr>\n",
       "    <tr>\n",
       "      <th>1</th>\n",
       "      <td>-0.285585</td>\n",
       "      <td>-0.449235</td>\n",
       "    </tr>\n",
       "    <tr>\n",
       "      <th>2</th>\n",
       "      <td>-0.096187</td>\n",
       "      <td>-0.716893</td>\n",
       "    </tr>\n",
       "    <tr>\n",
       "      <th>3</th>\n",
       "      <td>0.610357</td>\n",
       "      <td>0.983013</td>\n",
       "    </tr>\n",
       "    <tr>\n",
       "      <th>4</th>\n",
       "      <td>-0.402570</td>\n",
       "      <td>1.624068</td>\n",
       "    </tr>\n",
       "    <tr>\n",
       "      <th>...</th>\n",
       "      <td>...</td>\n",
       "      <td>...</td>\n",
       "    </tr>\n",
       "    <tr>\n",
       "      <th>95</th>\n",
       "      <td>-0.296611</td>\n",
       "      <td>-0.069299</td>\n",
       "    </tr>\n",
       "    <tr>\n",
       "      <th>96</th>\n",
       "      <td>-0.114156</td>\n",
       "      <td>0.344905</td>\n",
       "    </tr>\n",
       "    <tr>\n",
       "      <th>97</th>\n",
       "      <td>-0.128817</td>\n",
       "      <td>-1.059675</td>\n",
       "    </tr>\n",
       "    <tr>\n",
       "      <th>98</th>\n",
       "      <td>1.274187</td>\n",
       "      <td>1.622930</td>\n",
       "    </tr>\n",
       "    <tr>\n",
       "      <th>99</th>\n",
       "      <td>1.139383</td>\n",
       "      <td>1.269651</td>\n",
       "    </tr>\n",
       "  </tbody>\n",
       "</table>\n",
       "<p>100 rows × 2 columns</p>\n",
       "</div>"
      ],
      "text/plain": [
       "           A         B\n",
       "0  -0.575343 -0.558070\n",
       "1  -0.285585 -0.449235\n",
       "2  -0.096187 -0.716893\n",
       "3   0.610357  0.983013\n",
       "4  -0.402570  1.624068\n",
       "..       ...       ...\n",
       "95 -0.296611 -0.069299\n",
       "96 -0.114156  0.344905\n",
       "97 -0.128817 -1.059675\n",
       "98  1.274187  1.622930\n",
       "99  1.139383  1.269651\n",
       "\n",
       "[100 rows x 2 columns]"
      ]
     },
     "execution_count": 53,
     "metadata": {},
     "output_type": "execute_result"
    }
   ],
   "source": [
    "#spread\n",
    "df[['A','B']]"
   ]
  },
  {
   "cell_type": "code",
   "execution_count": 54,
   "id": "ffa4e649",
   "metadata": {},
   "outputs": [
    {
     "name": "stderr",
     "output_type": "stream",
     "text": [
      "C:\\Users\\areus\\anaconda3\\envs\\base2\\lib\\site-packages\\cufflinks\\plotlytools.py:849: FutureWarning:\n",
      "\n",
      "The pandas.np module is deprecated and will be removed from pandas in a future version. Import numpy directly instead\n",
      "\n",
      "C:\\Users\\areus\\anaconda3\\envs\\base2\\lib\\site-packages\\cufflinks\\plotlytools.py:850: FutureWarning:\n",
      "\n",
      "The pandas.np module is deprecated and will be removed from pandas in a future version. Import numpy directly instead\n",
      "\n"
     ]
    },
    {
     "data": {
      "application/vnd.plotly.v1+json": {
       "config": {
        "linkText": "Export to plot.ly",
        "plotlyServerURL": "https://plot.ly",
        "showLink": true
       },
       "data": [
        {
         "line": {
          "color": "rgba(255, 153, 51, 1.0)",
          "dash": "solid",
          "shape": "linear",
          "width": 1.3
         },
         "mode": "lines",
         "name": "A",
         "text": "",
         "type": "scatter",
         "x": [
          0,
          1,
          2,
          3,
          4,
          5,
          6,
          7,
          8,
          9,
          10,
          11,
          12,
          13,
          14,
          15,
          16,
          17,
          18,
          19,
          20,
          21,
          22,
          23,
          24,
          25,
          26,
          27,
          28,
          29,
          30,
          31,
          32,
          33,
          34,
          35,
          36,
          37,
          38,
          39,
          40,
          41,
          42,
          43,
          44,
          45,
          46,
          47,
          48,
          49,
          50,
          51,
          52,
          53,
          54,
          55,
          56,
          57,
          58,
          59,
          60,
          61,
          62,
          63,
          64,
          65,
          66,
          67,
          68,
          69,
          70,
          71,
          72,
          73,
          74,
          75,
          76,
          77,
          78,
          79,
          80,
          81,
          82,
          83,
          84,
          85,
          86,
          87,
          88,
          89,
          90,
          91,
          92,
          93,
          94,
          95,
          96,
          97,
          98,
          99
         ],
         "y": [
          -0.5753426879256494,
          -0.2855850025875945,
          -0.0961869464912241,
          0.6103568764767965,
          -0.4025696750478465,
          0.4374070598595347,
          0.7852380548724863,
          0.5214648823245953,
          -0.00684583591222356,
          -0.5051783000764581,
          0.6530373694023148,
          0.8290643885983005,
          -0.16326941807355744,
          1.2946551885772357,
          0.3062829613096997,
          -0.40651524703456704,
          0.3896016631461653,
          -1.138922855036025,
          -0.7578633933957807,
          1.3509314503931424,
          -0.005010025924972767,
          -0.7973280566035829,
          -0.9426397821555511,
          0.7837430673863505,
          0.21275853925610655,
          -0.4223329495826686,
          -1.260774413115214,
          0.03781882593588207,
          0.46263467519767826,
          0.5546355561998378,
          -0.4842961772526561,
          0.4618702738864327,
          -0.26539049970315043,
          0.07173654988682814,
          1.2670586248816906,
          0.48257046492794947,
          0.8606764634836559,
          0.6828244703998747,
          0.2703051628152772,
          0.0908652995232409,
          1.3407457592744865,
          0.6876439459516805,
          -1.3694094056973394,
          -0.4335211415628346,
          -1.1267120131338622,
          1.3400799055072092,
          -0.1422947461813094,
          -1.248940584041396,
          -2.124104883981563,
          -1.3019259842261062,
          1.2253863790785309,
          -1.50671466014991,
          0.07538508733247389,
          1.2494402889239615,
          0.18255827197336624,
          -1.0105509243088642,
          -1.1891302933224321,
          -0.11628475166186489,
          -0.4734418847308924,
          0.8718766160831669,
          -0.35944283707649927,
          -0.6793897450131363,
          -0.18631676258814278,
          -1.2782273458212,
          1.4977187013693063,
          1.177236002604748,
          -1.0941913024273784,
          2.2404207802414633,
          -1.7525070260970546,
          0.216729499836274,
          -0.24615959069611515,
          -0.9566272104115014,
          -1.3354612997377038,
          0.22350132903717154,
          0.9938854360185605,
          -0.678036349363896,
          -1.269837301038907,
          0.023573204636028175,
          1.1893098288366686,
          0.3945672020711424,
          0.16556190679953686,
          1.0533923683620778,
          0.7980311950587345,
          -0.4648689451877062,
          -1.1224975907209203,
          0.5905563562444988,
          0.7187909232916364,
          0.001996256304215127,
          -0.5024319634754288,
          1.8039520156480824,
          -0.21920796816159593,
          -0.08410382918341316,
          0.7263457090750816,
          1.3527961859231261,
          -1.544852980293307,
          -0.2966107732450681,
          -0.11415615694751836,
          -0.12881703002004213,
          1.2741874708953127,
          1.1393830437473285
         ]
        },
        {
         "line": {
          "color": "rgba(55, 128, 191, 1.0)",
          "dash": "solid",
          "shape": "linear",
          "width": 1.3
         },
         "mode": "lines",
         "name": "B",
         "text": "",
         "type": "scatter",
         "x": [
          0,
          1,
          2,
          3,
          4,
          5,
          6,
          7,
          8,
          9,
          10,
          11,
          12,
          13,
          14,
          15,
          16,
          17,
          18,
          19,
          20,
          21,
          22,
          23,
          24,
          25,
          26,
          27,
          28,
          29,
          30,
          31,
          32,
          33,
          34,
          35,
          36,
          37,
          38,
          39,
          40,
          41,
          42,
          43,
          44,
          45,
          46,
          47,
          48,
          49,
          50,
          51,
          52,
          53,
          54,
          55,
          56,
          57,
          58,
          59,
          60,
          61,
          62,
          63,
          64,
          65,
          66,
          67,
          68,
          69,
          70,
          71,
          72,
          73,
          74,
          75,
          76,
          77,
          78,
          79,
          80,
          81,
          82,
          83,
          84,
          85,
          86,
          87,
          88,
          89,
          90,
          91,
          92,
          93,
          94,
          95,
          96,
          97,
          98,
          99
         ],
         "y": [
          -0.5580704050672908,
          -0.44923515289336513,
          -0.7168931610192598,
          0.9830134247526778,
          1.6240683385906691,
          -0.40275289981153695,
          0.6112791218876015,
          -1.2803108479829148,
          -0.05808932824151311,
          -1.684712399154241,
          0.7009441493967767,
          1.2720970110310192,
          0.3689654180086758,
          -0.10972521230236329,
          -1.8715072885797777,
          -0.41072022373609,
          -2.222846437588777,
          -1.1915850756385813,
          0.9231330164233137,
          1.8669529912034164,
          -0.290221726325987,
          -0.648720943564726,
          -0.36177078386180883,
          -0.320582285809616,
          0.034000540804830316,
          -0.22176470456543523,
          0.29525848347628325,
          -0.9460745820077947,
          -0.40068026297055254,
          0.4106897541844773,
          -0.05309064552901487,
          1.1476677464913225,
          -0.6292502221798444,
          -0.6653930893895125,
          0.23844796985252587,
          0.1526908108190717,
          -0.4882637399023558,
          0.6095528940202006,
          1.7106600523326803,
          -0.6087185304180869,
          -0.14795323483741937,
          -0.9041735666641447,
          -0.2758124519817509,
          -0.6901891175196618,
          0.6644453330064052,
          0.7900367784741046,
          0.9187562121791123,
          0.8674138559764352,
          -0.2453438445025455,
          0.6793641868864831,
          -0.857948768868309,
          -0.9098665331960117,
          -0.6276702401871189,
          -1.9934794146042236,
          -0.364622445961039,
          1.441725222783407,
          0.7801273633492309,
          0.8618581629889228,
          -0.6880668392789634,
          -1.1699554311316747,
          0.4688674958261446,
          -0.3910846044592581,
          -0.9407200530603363,
          -1.5443525904104154,
          1.0384541197937691,
          -0.3226253863608884,
          0.9201172848030571,
          0.7657733729769911,
          -0.0895080157312864,
          -0.8583292937553912,
          -0.5909240948790668,
          -0.2866429338299557,
          0.3565715507880381,
          -0.8964384866866988,
          -0.5862356805821878,
          -0.9155134743418362,
          0.3015672501242637,
          0.5252427921756735,
          1.1163271687288974,
          0.14762362641226046,
          1.6270590095804507,
          -0.5035181944686434,
          -2.4300076126906753,
          -0.5269023436170583,
          1.9305638870047916,
          1.0182413139000828,
          -0.33799434650269927,
          1.046303567819808,
          1.2774037206763065,
          -0.33322567523426716,
          0.5210740638623935,
          -1.1545147289056945,
          -0.29028048645031423,
          -1.3789783825434538,
          0.12451934803869251,
          -0.06929895952401209,
          0.3449054115724372,
          -1.0596751060425036,
          1.622930397463581,
          1.2696505909551374
         ]
        },
        {
         "connectgaps": false,
         "fill": "tozeroy",
         "line": {
          "color": "green",
          "dash": "solid",
          "shape": "linear",
          "width": 0.5
         },
         "mode": "lines",
         "name": "Spread",
         "showlegend": false,
         "type": "scatter",
         "x": [
          0,
          1,
          2,
          3,
          4,
          5,
          6,
          7,
          8,
          9,
          10,
          11,
          12,
          13,
          14,
          15,
          16,
          17,
          18,
          19,
          20,
          21,
          22,
          23,
          24,
          25,
          26,
          27,
          28,
          29,
          30,
          31,
          32,
          33,
          34,
          35,
          36,
          37,
          38,
          39,
          40,
          41,
          42,
          43,
          44,
          45,
          46,
          47,
          48,
          49,
          50,
          51,
          52,
          53,
          54,
          55,
          56,
          57,
          58,
          59,
          60,
          61,
          62,
          63,
          64,
          65,
          66,
          67,
          68,
          69,
          70,
          71,
          72,
          73,
          74,
          75,
          76,
          77,
          78,
          79,
          80,
          81,
          82,
          83,
          84,
          85,
          86,
          87,
          88,
          89,
          90,
          91,
          92,
          93,
          94,
          95,
          96,
          97,
          98,
          99
         ],
         "xaxis": "x2",
         "y": [
          "",
          0.16365015030577063,
          0.6207062145280358,
          "",
          "",
          0.8401599596710716,
          0.17395893298488485,
          1.8017757303075101,
          0.05124349232928955,
          1.1795340990777827,
          "",
          "",
          "",
          1.404380400879599,
          2.1777902498894774,
          0.004204976701522978,
          2.6124481007349423,
          0.05266222060255621,
          "",
          "",
          0.2852117004010142,
          "",
          "",
          1.1043253531959665,
          0.17875799845127624,
          "",
          "",
          0.9838934079436767,
          0.8633149381682308,
          0.14394580201536056,
          "",
          "",
          0.36385972247669396,
          0.7371296392763406,
          1.0286106550291647,
          0.32987965410887776,
          1.3489402033860116,
          0.07327157637967407,
          "",
          0.6995838299413277,
          1.4886989941119058,
          1.5918175126158252,
          "",
          0.2566679759568272,
          "",
          0.5500431270331047,
          "",
          "",
          "",
          "",
          2.0833351479468396,
          "",
          0.7030553275195928,
          3.242919703528185,
          0.5471807179344053,
          "",
          "",
          "",
          0.214624954548071,
          2.0418320472148417,
          "",
          "",
          0.7544032904721936,
          0.2661252445892155,
          0.4592645815755372,
          1.4998613889656363,
          "",
          1.4746474072644722,
          "",
          1.0750587935916651,
          0.3447645041829517,
          "",
          "",
          1.1199398157238702,
          1.5801211166007483,
          0.23747712497794016,
          "",
          "",
          0.07298266010777121,
          0.24694357565888192,
          "",
          1.5569105628307214,
          3.2280388077494098,
          0.06203339842935213,
          "",
          "",
          1.0567852697943356,
          "",
          "",
          2.1371776908823494,
          "",
          1.0704108997222814,
          1.016626195525396,
          2.73177456846658,
          "",
          "",
          "",
          0.9308580760224614,
          "",
          ""
         ],
         "yaxis": "y2"
        },
        {
         "connectgaps": false,
         "fill": "tozeroy",
         "line": {
          "color": "red",
          "dash": "solid",
          "shape": "linear",
          "width": 0.5
         },
         "mode": "lines",
         "name": "Spread",
         "showlegend": false,
         "type": "scatter",
         "x": [
          0,
          1,
          2,
          3,
          4,
          5,
          6,
          7,
          8,
          9,
          10,
          11,
          12,
          13,
          14,
          15,
          16,
          17,
          18,
          19,
          20,
          21,
          22,
          23,
          24,
          25,
          26,
          27,
          28,
          29,
          30,
          31,
          32,
          33,
          34,
          35,
          36,
          37,
          38,
          39,
          40,
          41,
          42,
          43,
          44,
          45,
          46,
          47,
          48,
          49,
          50,
          51,
          52,
          53,
          54,
          55,
          56,
          57,
          58,
          59,
          60,
          61,
          62,
          63,
          64,
          65,
          66,
          67,
          68,
          69,
          70,
          71,
          72,
          73,
          74,
          75,
          76,
          77,
          78,
          79,
          80,
          81,
          82,
          83,
          84,
          85,
          86,
          87,
          88,
          89,
          90,
          91,
          92,
          93,
          94,
          95,
          96,
          97,
          98,
          99
         ],
         "xaxis": "x2",
         "y": [
          -0.01727228285835858,
          "",
          "",
          -0.37265654827588135,
          -2.026638013638516,
          "",
          "",
          "",
          "",
          "",
          -0.04790677999446191,
          -0.4430326224327188,
          -0.5322348360822333,
          "",
          "",
          "",
          "",
          "",
          -1.6809964098190944,
          -0.516021540810274,
          "",
          -0.14860711303885688,
          -0.5808689982937423,
          "",
          "",
          -0.20056824501723336,
          -1.5560328965914973,
          "",
          "",
          "",
          -0.43120553172364123,
          -0.6857974726048899,
          "",
          "",
          "",
          "",
          "",
          "",
          -1.440354889517403,
          "",
          "",
          "",
          -1.0935969537155885,
          "",
          -1.7911573461402672,
          "",
          -1.0610509583604217,
          -2.1163544400178314,
          -1.8787610394790175,
          -1.9812901711125894,
          "",
          -0.5968481269538982,
          "",
          "",
          "",
          -2.452276147092271,
          -1.969257656671663,
          -0.9781429146507877,
          "",
          "",
          -0.8283103329026439,
          -0.28830514055387824,
          "",
          "",
          "",
          "",
          -2.0143085872304356,
          "",
          -1.6629990103657681,
          "",
          "",
          -0.6699842765815458,
          -1.6920328505257418,
          "",
          "",
          "",
          -1.5714045511631707,
          -0.5016695875396453,
          "",
          "",
          -1.4614971027809138,
          "",
          "",
          "",
          -3.053061477725712,
          -0.427684957655584,
          "",
          -1.044307311515593,
          -1.7798356841517353,
          "",
          -0.7402820320239895,
          "",
          "",
          "",
          -1.6693723283319997,
          -0.22731181372105602,
          -0.45906156851995555,
          "",
          -0.3487429265682682,
          -0.13026754720780898
         ],
         "yaxis": "y2"
        }
       ],
       "layout": {
        "hovermode": "x",
        "legend": {
         "bgcolor": "#F5F6F9",
         "font": {
          "color": "#4D5663"
         }
        },
        "paper_bgcolor": "#F5F6F9",
        "plot_bgcolor": "#F5F6F9",
        "template": {
         "data": {
          "bar": [
           {
            "error_x": {
             "color": "#2a3f5f"
            },
            "error_y": {
             "color": "#2a3f5f"
            },
            "marker": {
             "line": {
              "color": "#E5ECF6",
              "width": 0.5
             },
             "pattern": {
              "fillmode": "overlay",
              "size": 10,
              "solidity": 0.2
             }
            },
            "type": "bar"
           }
          ],
          "barpolar": [
           {
            "marker": {
             "line": {
              "color": "#E5ECF6",
              "width": 0.5
             },
             "pattern": {
              "fillmode": "overlay",
              "size": 10,
              "solidity": 0.2
             }
            },
            "type": "barpolar"
           }
          ],
          "carpet": [
           {
            "aaxis": {
             "endlinecolor": "#2a3f5f",
             "gridcolor": "white",
             "linecolor": "white",
             "minorgridcolor": "white",
             "startlinecolor": "#2a3f5f"
            },
            "baxis": {
             "endlinecolor": "#2a3f5f",
             "gridcolor": "white",
             "linecolor": "white",
             "minorgridcolor": "white",
             "startlinecolor": "#2a3f5f"
            },
            "type": "carpet"
           }
          ],
          "choropleth": [
           {
            "colorbar": {
             "outlinewidth": 0,
             "ticks": ""
            },
            "type": "choropleth"
           }
          ],
          "contour": [
           {
            "colorbar": {
             "outlinewidth": 0,
             "ticks": ""
            },
            "colorscale": [
             [
              0,
              "#0d0887"
             ],
             [
              0.1111111111111111,
              "#46039f"
             ],
             [
              0.2222222222222222,
              "#7201a8"
             ],
             [
              0.3333333333333333,
              "#9c179e"
             ],
             [
              0.4444444444444444,
              "#bd3786"
             ],
             [
              0.5555555555555556,
              "#d8576b"
             ],
             [
              0.6666666666666666,
              "#ed7953"
             ],
             [
              0.7777777777777778,
              "#fb9f3a"
             ],
             [
              0.8888888888888888,
              "#fdca26"
             ],
             [
              1,
              "#f0f921"
             ]
            ],
            "type": "contour"
           }
          ],
          "contourcarpet": [
           {
            "colorbar": {
             "outlinewidth": 0,
             "ticks": ""
            },
            "type": "contourcarpet"
           }
          ],
          "heatmap": [
           {
            "colorbar": {
             "outlinewidth": 0,
             "ticks": ""
            },
            "colorscale": [
             [
              0,
              "#0d0887"
             ],
             [
              0.1111111111111111,
              "#46039f"
             ],
             [
              0.2222222222222222,
              "#7201a8"
             ],
             [
              0.3333333333333333,
              "#9c179e"
             ],
             [
              0.4444444444444444,
              "#bd3786"
             ],
             [
              0.5555555555555556,
              "#d8576b"
             ],
             [
              0.6666666666666666,
              "#ed7953"
             ],
             [
              0.7777777777777778,
              "#fb9f3a"
             ],
             [
              0.8888888888888888,
              "#fdca26"
             ],
             [
              1,
              "#f0f921"
             ]
            ],
            "type": "heatmap"
           }
          ],
          "heatmapgl": [
           {
            "colorbar": {
             "outlinewidth": 0,
             "ticks": ""
            },
            "colorscale": [
             [
              0,
              "#0d0887"
             ],
             [
              0.1111111111111111,
              "#46039f"
             ],
             [
              0.2222222222222222,
              "#7201a8"
             ],
             [
              0.3333333333333333,
              "#9c179e"
             ],
             [
              0.4444444444444444,
              "#bd3786"
             ],
             [
              0.5555555555555556,
              "#d8576b"
             ],
             [
              0.6666666666666666,
              "#ed7953"
             ],
             [
              0.7777777777777778,
              "#fb9f3a"
             ],
             [
              0.8888888888888888,
              "#fdca26"
             ],
             [
              1,
              "#f0f921"
             ]
            ],
            "type": "heatmapgl"
           }
          ],
          "histogram": [
           {
            "marker": {
             "pattern": {
              "fillmode": "overlay",
              "size": 10,
              "solidity": 0.2
             }
            },
            "type": "histogram"
           }
          ],
          "histogram2d": [
           {
            "colorbar": {
             "outlinewidth": 0,
             "ticks": ""
            },
            "colorscale": [
             [
              0,
              "#0d0887"
             ],
             [
              0.1111111111111111,
              "#46039f"
             ],
             [
              0.2222222222222222,
              "#7201a8"
             ],
             [
              0.3333333333333333,
              "#9c179e"
             ],
             [
              0.4444444444444444,
              "#bd3786"
             ],
             [
              0.5555555555555556,
              "#d8576b"
             ],
             [
              0.6666666666666666,
              "#ed7953"
             ],
             [
              0.7777777777777778,
              "#fb9f3a"
             ],
             [
              0.8888888888888888,
              "#fdca26"
             ],
             [
              1,
              "#f0f921"
             ]
            ],
            "type": "histogram2d"
           }
          ],
          "histogram2dcontour": [
           {
            "colorbar": {
             "outlinewidth": 0,
             "ticks": ""
            },
            "colorscale": [
             [
              0,
              "#0d0887"
             ],
             [
              0.1111111111111111,
              "#46039f"
             ],
             [
              0.2222222222222222,
              "#7201a8"
             ],
             [
              0.3333333333333333,
              "#9c179e"
             ],
             [
              0.4444444444444444,
              "#bd3786"
             ],
             [
              0.5555555555555556,
              "#d8576b"
             ],
             [
              0.6666666666666666,
              "#ed7953"
             ],
             [
              0.7777777777777778,
              "#fb9f3a"
             ],
             [
              0.8888888888888888,
              "#fdca26"
             ],
             [
              1,
              "#f0f921"
             ]
            ],
            "type": "histogram2dcontour"
           }
          ],
          "mesh3d": [
           {
            "colorbar": {
             "outlinewidth": 0,
             "ticks": ""
            },
            "type": "mesh3d"
           }
          ],
          "parcoords": [
           {
            "line": {
             "colorbar": {
              "outlinewidth": 0,
              "ticks": ""
             }
            },
            "type": "parcoords"
           }
          ],
          "pie": [
           {
            "automargin": true,
            "type": "pie"
           }
          ],
          "scatter": [
           {
            "fillpattern": {
             "fillmode": "overlay",
             "size": 10,
             "solidity": 0.2
            },
            "type": "scatter"
           }
          ],
          "scatter3d": [
           {
            "line": {
             "colorbar": {
              "outlinewidth": 0,
              "ticks": ""
             }
            },
            "marker": {
             "colorbar": {
              "outlinewidth": 0,
              "ticks": ""
             }
            },
            "type": "scatter3d"
           }
          ],
          "scattercarpet": [
           {
            "marker": {
             "colorbar": {
              "outlinewidth": 0,
              "ticks": ""
             }
            },
            "type": "scattercarpet"
           }
          ],
          "scattergeo": [
           {
            "marker": {
             "colorbar": {
              "outlinewidth": 0,
              "ticks": ""
             }
            },
            "type": "scattergeo"
           }
          ],
          "scattergl": [
           {
            "marker": {
             "colorbar": {
              "outlinewidth": 0,
              "ticks": ""
             }
            },
            "type": "scattergl"
           }
          ],
          "scattermapbox": [
           {
            "marker": {
             "colorbar": {
              "outlinewidth": 0,
              "ticks": ""
             }
            },
            "type": "scattermapbox"
           }
          ],
          "scatterpolar": [
           {
            "marker": {
             "colorbar": {
              "outlinewidth": 0,
              "ticks": ""
             }
            },
            "type": "scatterpolar"
           }
          ],
          "scatterpolargl": [
           {
            "marker": {
             "colorbar": {
              "outlinewidth": 0,
              "ticks": ""
             }
            },
            "type": "scatterpolargl"
           }
          ],
          "scatterternary": [
           {
            "marker": {
             "colorbar": {
              "outlinewidth": 0,
              "ticks": ""
             }
            },
            "type": "scatterternary"
           }
          ],
          "surface": [
           {
            "colorbar": {
             "outlinewidth": 0,
             "ticks": ""
            },
            "colorscale": [
             [
              0,
              "#0d0887"
             ],
             [
              0.1111111111111111,
              "#46039f"
             ],
             [
              0.2222222222222222,
              "#7201a8"
             ],
             [
              0.3333333333333333,
              "#9c179e"
             ],
             [
              0.4444444444444444,
              "#bd3786"
             ],
             [
              0.5555555555555556,
              "#d8576b"
             ],
             [
              0.6666666666666666,
              "#ed7953"
             ],
             [
              0.7777777777777778,
              "#fb9f3a"
             ],
             [
              0.8888888888888888,
              "#fdca26"
             ],
             [
              1,
              "#f0f921"
             ]
            ],
            "type": "surface"
           }
          ],
          "table": [
           {
            "cells": {
             "fill": {
              "color": "#EBF0F8"
             },
             "line": {
              "color": "white"
             }
            },
            "header": {
             "fill": {
              "color": "#C8D4E3"
             },
             "line": {
              "color": "white"
             }
            },
            "type": "table"
           }
          ]
         },
         "layout": {
          "annotationdefaults": {
           "arrowcolor": "#2a3f5f",
           "arrowhead": 0,
           "arrowwidth": 1
          },
          "autotypenumbers": "strict",
          "coloraxis": {
           "colorbar": {
            "outlinewidth": 0,
            "ticks": ""
           }
          },
          "colorscale": {
           "diverging": [
            [
             0,
             "#8e0152"
            ],
            [
             0.1,
             "#c51b7d"
            ],
            [
             0.2,
             "#de77ae"
            ],
            [
             0.3,
             "#f1b6da"
            ],
            [
             0.4,
             "#fde0ef"
            ],
            [
             0.5,
             "#f7f7f7"
            ],
            [
             0.6,
             "#e6f5d0"
            ],
            [
             0.7,
             "#b8e186"
            ],
            [
             0.8,
             "#7fbc41"
            ],
            [
             0.9,
             "#4d9221"
            ],
            [
             1,
             "#276419"
            ]
           ],
           "sequential": [
            [
             0,
             "#0d0887"
            ],
            [
             0.1111111111111111,
             "#46039f"
            ],
            [
             0.2222222222222222,
             "#7201a8"
            ],
            [
             0.3333333333333333,
             "#9c179e"
            ],
            [
             0.4444444444444444,
             "#bd3786"
            ],
            [
             0.5555555555555556,
             "#d8576b"
            ],
            [
             0.6666666666666666,
             "#ed7953"
            ],
            [
             0.7777777777777778,
             "#fb9f3a"
            ],
            [
             0.8888888888888888,
             "#fdca26"
            ],
            [
             1,
             "#f0f921"
            ]
           ],
           "sequentialminus": [
            [
             0,
             "#0d0887"
            ],
            [
             0.1111111111111111,
             "#46039f"
            ],
            [
             0.2222222222222222,
             "#7201a8"
            ],
            [
             0.3333333333333333,
             "#9c179e"
            ],
            [
             0.4444444444444444,
             "#bd3786"
            ],
            [
             0.5555555555555556,
             "#d8576b"
            ],
            [
             0.6666666666666666,
             "#ed7953"
            ],
            [
             0.7777777777777778,
             "#fb9f3a"
            ],
            [
             0.8888888888888888,
             "#fdca26"
            ],
            [
             1,
             "#f0f921"
            ]
           ]
          },
          "colorway": [
           "#636efa",
           "#EF553B",
           "#00cc96",
           "#ab63fa",
           "#FFA15A",
           "#19d3f3",
           "#FF6692",
           "#B6E880",
           "#FF97FF",
           "#FECB52"
          ],
          "font": {
           "color": "#2a3f5f"
          },
          "geo": {
           "bgcolor": "white",
           "lakecolor": "white",
           "landcolor": "#E5ECF6",
           "showlakes": true,
           "showland": true,
           "subunitcolor": "white"
          },
          "hoverlabel": {
           "align": "left"
          },
          "hovermode": "closest",
          "mapbox": {
           "style": "light"
          },
          "paper_bgcolor": "white",
          "plot_bgcolor": "#E5ECF6",
          "polar": {
           "angularaxis": {
            "gridcolor": "white",
            "linecolor": "white",
            "ticks": ""
           },
           "bgcolor": "#E5ECF6",
           "radialaxis": {
            "gridcolor": "white",
            "linecolor": "white",
            "ticks": ""
           }
          },
          "scene": {
           "xaxis": {
            "backgroundcolor": "#E5ECF6",
            "gridcolor": "white",
            "gridwidth": 2,
            "linecolor": "white",
            "showbackground": true,
            "ticks": "",
            "zerolinecolor": "white"
           },
           "yaxis": {
            "backgroundcolor": "#E5ECF6",
            "gridcolor": "white",
            "gridwidth": 2,
            "linecolor": "white",
            "showbackground": true,
            "ticks": "",
            "zerolinecolor": "white"
           },
           "zaxis": {
            "backgroundcolor": "#E5ECF6",
            "gridcolor": "white",
            "gridwidth": 2,
            "linecolor": "white",
            "showbackground": true,
            "ticks": "",
            "zerolinecolor": "white"
           }
          },
          "shapedefaults": {
           "line": {
            "color": "#2a3f5f"
           }
          },
          "ternary": {
           "aaxis": {
            "gridcolor": "white",
            "linecolor": "white",
            "ticks": ""
           },
           "baxis": {
            "gridcolor": "white",
            "linecolor": "white",
            "ticks": ""
           },
           "bgcolor": "#E5ECF6",
           "caxis": {
            "gridcolor": "white",
            "linecolor": "white",
            "ticks": ""
           }
          },
          "title": {
           "x": 0.05
          },
          "xaxis": {
           "automargin": true,
           "gridcolor": "white",
           "linecolor": "white",
           "ticks": "",
           "title": {
            "standoff": 15
           },
           "zerolinecolor": "white",
           "zerolinewidth": 2
          },
          "yaxis": {
           "automargin": true,
           "gridcolor": "white",
           "linecolor": "white",
           "ticks": "",
           "title": {
            "standoff": 15
           },
           "zerolinecolor": "white",
           "zerolinewidth": 2
          }
         }
        },
        "title": {
         "font": {
          "color": "#4D5663"
         }
        },
        "xaxis": {
         "gridcolor": "#E1E5ED",
         "showgrid": true,
         "tickfont": {
          "color": "#4D5663"
         },
         "title": {
          "font": {
           "color": "#4D5663"
          },
          "text": ""
         },
         "zerolinecolor": "#E1E5ED"
        },
        "xaxis2": {
         "anchor": "y2",
         "gridcolor": "#E1E5ED",
         "showgrid": true,
         "showticklabels": false,
         "tickfont": {
          "color": "#4D5663"
         },
         "title": {
          "font": {
           "color": "#4D5663"
          },
          "text": ""
         },
         "zerolinecolor": "#E1E5ED"
        },
        "yaxis": {
         "domain": [
          0.3,
          1
         ],
         "gridcolor": "#E1E5ED",
         "showgrid": true,
         "tickfont": {
          "color": "#4D5663"
         },
         "title": {
          "font": {
           "color": "#4D5663"
          },
          "text": ""
         },
         "zerolinecolor": "#E1E5ED"
        },
        "yaxis2": {
         "domain": [
          0,
          0.25
         ],
         "gridcolor": "#E1E5ED",
         "showgrid": true,
         "tickfont": {
          "color": "#4D5663"
         },
         "title": {
          "font": {
           "color": "#4D5663"
          },
          "text": "Spread"
         },
         "zerolinecolor": "#E1E5ED"
        }
       }
      },
      "text/html": [
       "<div>                            <div id=\"7313c3dc-bd95-4e3e-b632-bee298ab627f\" class=\"plotly-graph-div\" style=\"height:525px; width:100%;\"></div>            <script type=\"text/javascript\">                require([\"plotly\"], function(Plotly) {                    window.PLOTLYENV=window.PLOTLYENV || {};\n",
       "                    window.PLOTLYENV.BASE_URL='https://plot.ly';                                    if (document.getElementById(\"7313c3dc-bd95-4e3e-b632-bee298ab627f\")) {                    Plotly.newPlot(                        \"7313c3dc-bd95-4e3e-b632-bee298ab627f\",                        [{\"line\":{\"color\":\"rgba(255, 153, 51, 1.0)\",\"dash\":\"solid\",\"shape\":\"linear\",\"width\":1.3},\"mode\":\"lines\",\"name\":\"A\",\"text\":\"\",\"x\":[0,1,2,3,4,5,6,7,8,9,10,11,12,13,14,15,16,17,18,19,20,21,22,23,24,25,26,27,28,29,30,31,32,33,34,35,36,37,38,39,40,41,42,43,44,45,46,47,48,49,50,51,52,53,54,55,56,57,58,59,60,61,62,63,64,65,66,67,68,69,70,71,72,73,74,75,76,77,78,79,80,81,82,83,84,85,86,87,88,89,90,91,92,93,94,95,96,97,98,99],\"y\":[-0.5753426879256494,-0.2855850025875945,-0.0961869464912241,0.6103568764767965,-0.4025696750478465,0.4374070598595347,0.7852380548724863,0.5214648823245953,-0.00684583591222356,-0.5051783000764581,0.6530373694023148,0.8290643885983005,-0.16326941807355744,1.2946551885772357,0.3062829613096997,-0.40651524703456704,0.3896016631461653,-1.138922855036025,-0.7578633933957807,1.3509314503931424,-0.005010025924972767,-0.7973280566035829,-0.9426397821555511,0.7837430673863505,0.21275853925610655,-0.4223329495826686,-1.260774413115214,0.03781882593588207,0.46263467519767826,0.5546355561998378,-0.4842961772526561,0.4618702738864327,-0.26539049970315043,0.07173654988682814,1.2670586248816906,0.48257046492794947,0.8606764634836559,0.6828244703998747,0.2703051628152772,0.0908652995232409,1.3407457592744865,0.6876439459516805,-1.3694094056973394,-0.4335211415628346,-1.1267120131338622,1.3400799055072092,-0.1422947461813094,-1.248940584041396,-2.124104883981563,-1.3019259842261062,1.2253863790785309,-1.50671466014991,0.07538508733247389,1.2494402889239615,0.18255827197336624,-1.0105509243088642,-1.1891302933224321,-0.11628475166186489,-0.4734418847308924,0.8718766160831669,-0.35944283707649927,-0.6793897450131363,-0.18631676258814278,-1.2782273458212,1.4977187013693063,1.177236002604748,-1.0941913024273784,2.2404207802414633,-1.7525070260970546,0.216729499836274,-0.24615959069611515,-0.9566272104115014,-1.3354612997377038,0.22350132903717154,0.9938854360185605,-0.678036349363896,-1.269837301038907,0.023573204636028175,1.1893098288366686,0.3945672020711424,0.16556190679953686,1.0533923683620778,0.7980311950587345,-0.4648689451877062,-1.1224975907209203,0.5905563562444988,0.7187909232916364,0.001996256304215127,-0.5024319634754288,1.8039520156480824,-0.21920796816159593,-0.08410382918341316,0.7263457090750816,1.3527961859231261,-1.544852980293307,-0.2966107732450681,-0.11415615694751836,-0.12881703002004213,1.2741874708953127,1.1393830437473285],\"type\":\"scatter\"},{\"line\":{\"color\":\"rgba(55, 128, 191, 1.0)\",\"dash\":\"solid\",\"shape\":\"linear\",\"width\":1.3},\"mode\":\"lines\",\"name\":\"B\",\"text\":\"\",\"x\":[0,1,2,3,4,5,6,7,8,9,10,11,12,13,14,15,16,17,18,19,20,21,22,23,24,25,26,27,28,29,30,31,32,33,34,35,36,37,38,39,40,41,42,43,44,45,46,47,48,49,50,51,52,53,54,55,56,57,58,59,60,61,62,63,64,65,66,67,68,69,70,71,72,73,74,75,76,77,78,79,80,81,82,83,84,85,86,87,88,89,90,91,92,93,94,95,96,97,98,99],\"y\":[-0.5580704050672908,-0.44923515289336513,-0.7168931610192598,0.9830134247526778,1.6240683385906691,-0.40275289981153695,0.6112791218876015,-1.2803108479829148,-0.05808932824151311,-1.684712399154241,0.7009441493967767,1.2720970110310192,0.3689654180086758,-0.10972521230236329,-1.8715072885797777,-0.41072022373609,-2.222846437588777,-1.1915850756385813,0.9231330164233137,1.8669529912034164,-0.290221726325987,-0.648720943564726,-0.36177078386180883,-0.320582285809616,0.034000540804830316,-0.22176470456543523,0.29525848347628325,-0.9460745820077947,-0.40068026297055254,0.4106897541844773,-0.05309064552901487,1.1476677464913225,-0.6292502221798444,-0.6653930893895125,0.23844796985252587,0.1526908108190717,-0.4882637399023558,0.6095528940202006,1.7106600523326803,-0.6087185304180869,-0.14795323483741937,-0.9041735666641447,-0.2758124519817509,-0.6901891175196618,0.6644453330064052,0.7900367784741046,0.9187562121791123,0.8674138559764352,-0.2453438445025455,0.6793641868864831,-0.857948768868309,-0.9098665331960117,-0.6276702401871189,-1.9934794146042236,-0.364622445961039,1.441725222783407,0.7801273633492309,0.8618581629889228,-0.6880668392789634,-1.1699554311316747,0.4688674958261446,-0.3910846044592581,-0.9407200530603363,-1.5443525904104154,1.0384541197937691,-0.3226253863608884,0.9201172848030571,0.7657733729769911,-0.0895080157312864,-0.8583292937553912,-0.5909240948790668,-0.2866429338299557,0.3565715507880381,-0.8964384866866988,-0.5862356805821878,-0.9155134743418362,0.3015672501242637,0.5252427921756735,1.1163271687288974,0.14762362641226046,1.6270590095804507,-0.5035181944686434,-2.4300076126906753,-0.5269023436170583,1.9305638870047916,1.0182413139000828,-0.33799434650269927,1.046303567819808,1.2774037206763065,-0.33322567523426716,0.5210740638623935,-1.1545147289056945,-0.29028048645031423,-1.3789783825434538,0.12451934803869251,-0.06929895952401209,0.3449054115724372,-1.0596751060425036,1.622930397463581,1.2696505909551374],\"type\":\"scatter\"},{\"connectgaps\":false,\"fill\":\"tozeroy\",\"line\":{\"color\":\"green\",\"dash\":\"solid\",\"shape\":\"linear\",\"width\":0.5},\"mode\":\"lines\",\"name\":\"Spread\",\"showlegend\":false,\"x\":[0,1,2,3,4,5,6,7,8,9,10,11,12,13,14,15,16,17,18,19,20,21,22,23,24,25,26,27,28,29,30,31,32,33,34,35,36,37,38,39,40,41,42,43,44,45,46,47,48,49,50,51,52,53,54,55,56,57,58,59,60,61,62,63,64,65,66,67,68,69,70,71,72,73,74,75,76,77,78,79,80,81,82,83,84,85,86,87,88,89,90,91,92,93,94,95,96,97,98,99],\"xaxis\":\"x2\",\"y\":[\"\",0.16365015030577063,0.6207062145280358,\"\",\"\",0.8401599596710716,0.17395893298488485,1.8017757303075101,0.05124349232928955,1.1795340990777827,\"\",\"\",\"\",1.404380400879599,2.1777902498894774,0.004204976701522978,2.6124481007349423,0.05266222060255621,\"\",\"\",0.2852117004010142,\"\",\"\",1.1043253531959665,0.17875799845127624,\"\",\"\",0.9838934079436767,0.8633149381682308,0.14394580201536056,\"\",\"\",0.36385972247669396,0.7371296392763406,1.0286106550291647,0.32987965410887776,1.3489402033860116,0.07327157637967407,\"\",0.6995838299413277,1.4886989941119058,1.5918175126158252,\"\",0.2566679759568272,\"\",0.5500431270331047,\"\",\"\",\"\",\"\",2.0833351479468396,\"\",0.7030553275195928,3.242919703528185,0.5471807179344053,\"\",\"\",\"\",0.214624954548071,2.0418320472148417,\"\",\"\",0.7544032904721936,0.2661252445892155,0.4592645815755372,1.4998613889656363,\"\",1.4746474072644722,\"\",1.0750587935916651,0.3447645041829517,\"\",\"\",1.1199398157238702,1.5801211166007483,0.23747712497794016,\"\",\"\",0.07298266010777121,0.24694357565888192,\"\",1.5569105628307214,3.2280388077494098,0.06203339842935213,\"\",\"\",1.0567852697943356,\"\",\"\",2.1371776908823494,\"\",1.0704108997222814,1.016626195525396,2.73177456846658,\"\",\"\",\"\",0.9308580760224614,\"\",\"\"],\"yaxis\":\"y2\",\"type\":\"scatter\"},{\"connectgaps\":false,\"fill\":\"tozeroy\",\"line\":{\"color\":\"red\",\"dash\":\"solid\",\"shape\":\"linear\",\"width\":0.5},\"mode\":\"lines\",\"name\":\"Spread\",\"showlegend\":false,\"x\":[0,1,2,3,4,5,6,7,8,9,10,11,12,13,14,15,16,17,18,19,20,21,22,23,24,25,26,27,28,29,30,31,32,33,34,35,36,37,38,39,40,41,42,43,44,45,46,47,48,49,50,51,52,53,54,55,56,57,58,59,60,61,62,63,64,65,66,67,68,69,70,71,72,73,74,75,76,77,78,79,80,81,82,83,84,85,86,87,88,89,90,91,92,93,94,95,96,97,98,99],\"xaxis\":\"x2\",\"y\":[-0.01727228285835858,\"\",\"\",-0.37265654827588135,-2.026638013638516,\"\",\"\",\"\",\"\",\"\",-0.04790677999446191,-0.4430326224327188,-0.5322348360822333,\"\",\"\",\"\",\"\",\"\",-1.6809964098190944,-0.516021540810274,\"\",-0.14860711303885688,-0.5808689982937423,\"\",\"\",-0.20056824501723336,-1.5560328965914973,\"\",\"\",\"\",-0.43120553172364123,-0.6857974726048899,\"\",\"\",\"\",\"\",\"\",\"\",-1.440354889517403,\"\",\"\",\"\",-1.0935969537155885,\"\",-1.7911573461402672,\"\",-1.0610509583604217,-2.1163544400178314,-1.8787610394790175,-1.9812901711125894,\"\",-0.5968481269538982,\"\",\"\",\"\",-2.452276147092271,-1.969257656671663,-0.9781429146507877,\"\",\"\",-0.8283103329026439,-0.28830514055387824,\"\",\"\",\"\",\"\",-2.0143085872304356,\"\",-1.6629990103657681,\"\",\"\",-0.6699842765815458,-1.6920328505257418,\"\",\"\",\"\",-1.5714045511631707,-0.5016695875396453,\"\",\"\",-1.4614971027809138,\"\",\"\",\"\",-3.053061477725712,-0.427684957655584,\"\",-1.044307311515593,-1.7798356841517353,\"\",-0.7402820320239895,\"\",\"\",\"\",-1.6693723283319997,-0.22731181372105602,-0.45906156851995555,\"\",-0.3487429265682682,-0.13026754720780898],\"yaxis\":\"y2\",\"type\":\"scatter\"}],                        {\"hovermode\":\"x\",\"legend\":{\"bgcolor\":\"#F5F6F9\",\"font\":{\"color\":\"#4D5663\"}},\"paper_bgcolor\":\"#F5F6F9\",\"plot_bgcolor\":\"#F5F6F9\",\"template\":{\"data\":{\"barpolar\":[{\"marker\":{\"line\":{\"color\":\"#E5ECF6\",\"width\":0.5},\"pattern\":{\"fillmode\":\"overlay\",\"size\":10,\"solidity\":0.2}},\"type\":\"barpolar\"}],\"bar\":[{\"error_x\":{\"color\":\"#2a3f5f\"},\"error_y\":{\"color\":\"#2a3f5f\"},\"marker\":{\"line\":{\"color\":\"#E5ECF6\",\"width\":0.5},\"pattern\":{\"fillmode\":\"overlay\",\"size\":10,\"solidity\":0.2}},\"type\":\"bar\"}],\"carpet\":[{\"aaxis\":{\"endlinecolor\":\"#2a3f5f\",\"gridcolor\":\"white\",\"linecolor\":\"white\",\"minorgridcolor\":\"white\",\"startlinecolor\":\"#2a3f5f\"},\"baxis\":{\"endlinecolor\":\"#2a3f5f\",\"gridcolor\":\"white\",\"linecolor\":\"white\",\"minorgridcolor\":\"white\",\"startlinecolor\":\"#2a3f5f\"},\"type\":\"carpet\"}],\"choropleth\":[{\"colorbar\":{\"outlinewidth\":0,\"ticks\":\"\"},\"type\":\"choropleth\"}],\"contourcarpet\":[{\"colorbar\":{\"outlinewidth\":0,\"ticks\":\"\"},\"type\":\"contourcarpet\"}],\"contour\":[{\"colorbar\":{\"outlinewidth\":0,\"ticks\":\"\"},\"colorscale\":[[0.0,\"#0d0887\"],[0.1111111111111111,\"#46039f\"],[0.2222222222222222,\"#7201a8\"],[0.3333333333333333,\"#9c179e\"],[0.4444444444444444,\"#bd3786\"],[0.5555555555555556,\"#d8576b\"],[0.6666666666666666,\"#ed7953\"],[0.7777777777777778,\"#fb9f3a\"],[0.8888888888888888,\"#fdca26\"],[1.0,\"#f0f921\"]],\"type\":\"contour\"}],\"heatmapgl\":[{\"colorbar\":{\"outlinewidth\":0,\"ticks\":\"\"},\"colorscale\":[[0.0,\"#0d0887\"],[0.1111111111111111,\"#46039f\"],[0.2222222222222222,\"#7201a8\"],[0.3333333333333333,\"#9c179e\"],[0.4444444444444444,\"#bd3786\"],[0.5555555555555556,\"#d8576b\"],[0.6666666666666666,\"#ed7953\"],[0.7777777777777778,\"#fb9f3a\"],[0.8888888888888888,\"#fdca26\"],[1.0,\"#f0f921\"]],\"type\":\"heatmapgl\"}],\"heatmap\":[{\"colorbar\":{\"outlinewidth\":0,\"ticks\":\"\"},\"colorscale\":[[0.0,\"#0d0887\"],[0.1111111111111111,\"#46039f\"],[0.2222222222222222,\"#7201a8\"],[0.3333333333333333,\"#9c179e\"],[0.4444444444444444,\"#bd3786\"],[0.5555555555555556,\"#d8576b\"],[0.6666666666666666,\"#ed7953\"],[0.7777777777777778,\"#fb9f3a\"],[0.8888888888888888,\"#fdca26\"],[1.0,\"#f0f921\"]],\"type\":\"heatmap\"}],\"histogram2dcontour\":[{\"colorbar\":{\"outlinewidth\":0,\"ticks\":\"\"},\"colorscale\":[[0.0,\"#0d0887\"],[0.1111111111111111,\"#46039f\"],[0.2222222222222222,\"#7201a8\"],[0.3333333333333333,\"#9c179e\"],[0.4444444444444444,\"#bd3786\"],[0.5555555555555556,\"#d8576b\"],[0.6666666666666666,\"#ed7953\"],[0.7777777777777778,\"#fb9f3a\"],[0.8888888888888888,\"#fdca26\"],[1.0,\"#f0f921\"]],\"type\":\"histogram2dcontour\"}],\"histogram2d\":[{\"colorbar\":{\"outlinewidth\":0,\"ticks\":\"\"},\"colorscale\":[[0.0,\"#0d0887\"],[0.1111111111111111,\"#46039f\"],[0.2222222222222222,\"#7201a8\"],[0.3333333333333333,\"#9c179e\"],[0.4444444444444444,\"#bd3786\"],[0.5555555555555556,\"#d8576b\"],[0.6666666666666666,\"#ed7953\"],[0.7777777777777778,\"#fb9f3a\"],[0.8888888888888888,\"#fdca26\"],[1.0,\"#f0f921\"]],\"type\":\"histogram2d\"}],\"histogram\":[{\"marker\":{\"pattern\":{\"fillmode\":\"overlay\",\"size\":10,\"solidity\":0.2}},\"type\":\"histogram\"}],\"mesh3d\":[{\"colorbar\":{\"outlinewidth\":0,\"ticks\":\"\"},\"type\":\"mesh3d\"}],\"parcoords\":[{\"line\":{\"colorbar\":{\"outlinewidth\":0,\"ticks\":\"\"}},\"type\":\"parcoords\"}],\"pie\":[{\"automargin\":true,\"type\":\"pie\"}],\"scatter3d\":[{\"line\":{\"colorbar\":{\"outlinewidth\":0,\"ticks\":\"\"}},\"marker\":{\"colorbar\":{\"outlinewidth\":0,\"ticks\":\"\"}},\"type\":\"scatter3d\"}],\"scattercarpet\":[{\"marker\":{\"colorbar\":{\"outlinewidth\":0,\"ticks\":\"\"}},\"type\":\"scattercarpet\"}],\"scattergeo\":[{\"marker\":{\"colorbar\":{\"outlinewidth\":0,\"ticks\":\"\"}},\"type\":\"scattergeo\"}],\"scattergl\":[{\"marker\":{\"colorbar\":{\"outlinewidth\":0,\"ticks\":\"\"}},\"type\":\"scattergl\"}],\"scattermapbox\":[{\"marker\":{\"colorbar\":{\"outlinewidth\":0,\"ticks\":\"\"}},\"type\":\"scattermapbox\"}],\"scatterpolargl\":[{\"marker\":{\"colorbar\":{\"outlinewidth\":0,\"ticks\":\"\"}},\"type\":\"scatterpolargl\"}],\"scatterpolar\":[{\"marker\":{\"colorbar\":{\"outlinewidth\":0,\"ticks\":\"\"}},\"type\":\"scatterpolar\"}],\"scatter\":[{\"fillpattern\":{\"fillmode\":\"overlay\",\"size\":10,\"solidity\":0.2},\"type\":\"scatter\"}],\"scatterternary\":[{\"marker\":{\"colorbar\":{\"outlinewidth\":0,\"ticks\":\"\"}},\"type\":\"scatterternary\"}],\"surface\":[{\"colorbar\":{\"outlinewidth\":0,\"ticks\":\"\"},\"colorscale\":[[0.0,\"#0d0887\"],[0.1111111111111111,\"#46039f\"],[0.2222222222222222,\"#7201a8\"],[0.3333333333333333,\"#9c179e\"],[0.4444444444444444,\"#bd3786\"],[0.5555555555555556,\"#d8576b\"],[0.6666666666666666,\"#ed7953\"],[0.7777777777777778,\"#fb9f3a\"],[0.8888888888888888,\"#fdca26\"],[1.0,\"#f0f921\"]],\"type\":\"surface\"}],\"table\":[{\"cells\":{\"fill\":{\"color\":\"#EBF0F8\"},\"line\":{\"color\":\"white\"}},\"header\":{\"fill\":{\"color\":\"#C8D4E3\"},\"line\":{\"color\":\"white\"}},\"type\":\"table\"}]},\"layout\":{\"annotationdefaults\":{\"arrowcolor\":\"#2a3f5f\",\"arrowhead\":0,\"arrowwidth\":1},\"autotypenumbers\":\"strict\",\"coloraxis\":{\"colorbar\":{\"outlinewidth\":0,\"ticks\":\"\"}},\"colorscale\":{\"diverging\":[[0,\"#8e0152\"],[0.1,\"#c51b7d\"],[0.2,\"#de77ae\"],[0.3,\"#f1b6da\"],[0.4,\"#fde0ef\"],[0.5,\"#f7f7f7\"],[0.6,\"#e6f5d0\"],[0.7,\"#b8e186\"],[0.8,\"#7fbc41\"],[0.9,\"#4d9221\"],[1,\"#276419\"]],\"sequential\":[[0.0,\"#0d0887\"],[0.1111111111111111,\"#46039f\"],[0.2222222222222222,\"#7201a8\"],[0.3333333333333333,\"#9c179e\"],[0.4444444444444444,\"#bd3786\"],[0.5555555555555556,\"#d8576b\"],[0.6666666666666666,\"#ed7953\"],[0.7777777777777778,\"#fb9f3a\"],[0.8888888888888888,\"#fdca26\"],[1.0,\"#f0f921\"]],\"sequentialminus\":[[0.0,\"#0d0887\"],[0.1111111111111111,\"#46039f\"],[0.2222222222222222,\"#7201a8\"],[0.3333333333333333,\"#9c179e\"],[0.4444444444444444,\"#bd3786\"],[0.5555555555555556,\"#d8576b\"],[0.6666666666666666,\"#ed7953\"],[0.7777777777777778,\"#fb9f3a\"],[0.8888888888888888,\"#fdca26\"],[1.0,\"#f0f921\"]]},\"colorway\":[\"#636efa\",\"#EF553B\",\"#00cc96\",\"#ab63fa\",\"#FFA15A\",\"#19d3f3\",\"#FF6692\",\"#B6E880\",\"#FF97FF\",\"#FECB52\"],\"font\":{\"color\":\"#2a3f5f\"},\"geo\":{\"bgcolor\":\"white\",\"lakecolor\":\"white\",\"landcolor\":\"#E5ECF6\",\"showlakes\":true,\"showland\":true,\"subunitcolor\":\"white\"},\"hoverlabel\":{\"align\":\"left\"},\"hovermode\":\"closest\",\"mapbox\":{\"style\":\"light\"},\"paper_bgcolor\":\"white\",\"plot_bgcolor\":\"#E5ECF6\",\"polar\":{\"angularaxis\":{\"gridcolor\":\"white\",\"linecolor\":\"white\",\"ticks\":\"\"},\"bgcolor\":\"#E5ECF6\",\"radialaxis\":{\"gridcolor\":\"white\",\"linecolor\":\"white\",\"ticks\":\"\"}},\"scene\":{\"xaxis\":{\"backgroundcolor\":\"#E5ECF6\",\"gridcolor\":\"white\",\"gridwidth\":2,\"linecolor\":\"white\",\"showbackground\":true,\"ticks\":\"\",\"zerolinecolor\":\"white\"},\"yaxis\":{\"backgroundcolor\":\"#E5ECF6\",\"gridcolor\":\"white\",\"gridwidth\":2,\"linecolor\":\"white\",\"showbackground\":true,\"ticks\":\"\",\"zerolinecolor\":\"white\"},\"zaxis\":{\"backgroundcolor\":\"#E5ECF6\",\"gridcolor\":\"white\",\"gridwidth\":2,\"linecolor\":\"white\",\"showbackground\":true,\"ticks\":\"\",\"zerolinecolor\":\"white\"}},\"shapedefaults\":{\"line\":{\"color\":\"#2a3f5f\"}},\"ternary\":{\"aaxis\":{\"gridcolor\":\"white\",\"linecolor\":\"white\",\"ticks\":\"\"},\"baxis\":{\"gridcolor\":\"white\",\"linecolor\":\"white\",\"ticks\":\"\"},\"bgcolor\":\"#E5ECF6\",\"caxis\":{\"gridcolor\":\"white\",\"linecolor\":\"white\",\"ticks\":\"\"}},\"title\":{\"x\":0.05},\"xaxis\":{\"automargin\":true,\"gridcolor\":\"white\",\"linecolor\":\"white\",\"ticks\":\"\",\"title\":{\"standoff\":15},\"zerolinecolor\":\"white\",\"zerolinewidth\":2},\"yaxis\":{\"automargin\":true,\"gridcolor\":\"white\",\"linecolor\":\"white\",\"ticks\":\"\",\"title\":{\"standoff\":15},\"zerolinecolor\":\"white\",\"zerolinewidth\":2}}},\"title\":{\"font\":{\"color\":\"#4D5663\"}},\"xaxis\":{\"gridcolor\":\"#E1E5ED\",\"showgrid\":true,\"tickfont\":{\"color\":\"#4D5663\"},\"title\":{\"font\":{\"color\":\"#4D5663\"},\"text\":\"\"},\"zerolinecolor\":\"#E1E5ED\"},\"yaxis\":{\"domain\":[0.3,1],\"gridcolor\":\"#E1E5ED\",\"showgrid\":true,\"tickfont\":{\"color\":\"#4D5663\"},\"title\":{\"font\":{\"color\":\"#4D5663\"},\"text\":\"\"},\"zerolinecolor\":\"#E1E5ED\"},\"yaxis2\":{\"domain\":[0,0.25],\"gridcolor\":\"#E1E5ED\",\"showgrid\":true,\"tickfont\":{\"color\":\"#4D5663\"},\"title\":{\"font\":{\"color\":\"#4D5663\"},\"text\":\"Spread\"},\"zerolinecolor\":\"#E1E5ED\"},\"xaxis2\":{\"anchor\":\"y2\",\"gridcolor\":\"#E1E5ED\",\"showgrid\":true,\"showticklabels\":false,\"tickfont\":{\"color\":\"#4D5663\"},\"title\":{\"font\":{\"color\":\"#4D5663\"},\"text\":\"\"},\"zerolinecolor\":\"#E1E5ED\"}},                        {\"showLink\": true, \"linkText\": \"Export to plot.ly\", \"plotlyServerURL\": \"https://plot.ly\", \"responsive\": true}                    ).then(function(){\n",
       "                            \n",
       "var gd = document.getElementById('7313c3dc-bd95-4e3e-b632-bee298ab627f');\n",
       "var x = new MutationObserver(function (mutations, observer) {{\n",
       "        var display = window.getComputedStyle(gd).display;\n",
       "        if (!display || display === 'none') {{\n",
       "            console.log([gd, 'removed!']);\n",
       "            Plotly.purge(gd);\n",
       "            observer.disconnect();\n",
       "        }}\n",
       "}});\n",
       "\n",
       "// Listen for the removal of the full notebook cells\n",
       "var notebookContainer = gd.closest('#notebook-container');\n",
       "if (notebookContainer) {{\n",
       "    x.observe(notebookContainer, {childList: true});\n",
       "}}\n",
       "\n",
       "// Listen for the clearing of the current output cell\n",
       "var outputEl = gd.closest('.output');\n",
       "if (outputEl) {{\n",
       "    x.observe(outputEl, {childList: true});\n",
       "}}\n",
       "\n",
       "                        })                };                });            </script>        </div>"
      ]
     },
     "metadata": {},
     "output_type": "display_data"
    }
   ],
   "source": [
    "#spread\n",
    "df[['A','B']].iplot(kind='spread')"
   ]
  },
  {
   "cell_type": "code",
   "execution_count": 55,
   "id": "fb2a9fec",
   "metadata": {},
   "outputs": [
    {
     "data": {
      "application/vnd.plotly.v1+json": {
       "config": {
        "linkText": "Export to plot.ly",
        "plotlyServerURL": "https://plot.ly",
        "showLink": true
       },
       "data": [
        {
         "marker": {
          "color": [
           "rgb(255, 153, 51)",
           "rgb(55, 128, 191)",
           "rgb(50, 171, 96)",
           "rgb(128, 0, 128)",
           "rgb(219, 64, 82)",
           "rgb(0, 128, 128)",
           "rgb(255, 255, 51)",
           "rgb(128, 128, 0)",
           "rgb(251, 128, 114)",
           "rgb(128, 177, 211)"
          ],
          "line": {
           "width": 1.3
          },
          "size": [
           77,
           36,
           89,
           47,
           51,
           92,
           65,
           28,
           66,
           49,
           48,
           68,
           75,
           62,
           89,
           67,
           50,
           59,
           31,
           71,
           63,
           67,
           77,
           56,
           86,
           53,
           83,
           76,
           100,
           44,
           89,
           63,
           68,
           50,
           36,
           29,
           75,
           67,
           89,
           68,
           44,
           57,
           12,
           61,
           44,
           100,
           47,
           98,
           78,
           32,
           85,
           94,
           57,
           76,
           64,
           80,
           55,
           69,
           92,
           74,
           34,
           92,
           68,
           49,
           72,
           44,
           39,
           61,
           88,
           112,
           42,
           79,
           59,
           86,
           55,
           71,
           45,
           69,
           86,
           77,
           82,
           55,
           62,
           61,
           89,
           85,
           55,
           62,
           70,
           60,
           45,
           64,
           93,
           20,
           65,
           86,
           47,
           58,
           28,
           87
          ],
          "symbol": "circle"
         },
         "mode": "markers",
         "text": "",
         "type": "scatter",
         "x": [
          -0.5753426879256494,
          -0.2855850025875945,
          -0.0961869464912241,
          0.6103568764767965,
          -0.4025696750478465,
          0.4374070598595347,
          0.7852380548724863,
          0.5214648823245953,
          -0.00684583591222356,
          -0.5051783000764581,
          0.6530373694023148,
          0.8290643885983005,
          -0.16326941807355744,
          1.2946551885772357,
          0.3062829613096997,
          -0.40651524703456704,
          0.3896016631461653,
          -1.138922855036025,
          -0.7578633933957807,
          1.3509314503931424,
          -0.005010025924972767,
          -0.7973280566035829,
          -0.9426397821555511,
          0.7837430673863505,
          0.21275853925610655,
          -0.4223329495826686,
          -1.260774413115214,
          0.03781882593588207,
          0.46263467519767826,
          0.5546355561998378,
          -0.4842961772526561,
          0.4618702738864327,
          -0.26539049970315043,
          0.07173654988682814,
          1.2670586248816906,
          0.48257046492794947,
          0.8606764634836559,
          0.6828244703998747,
          0.2703051628152772,
          0.0908652995232409,
          1.3407457592744865,
          0.6876439459516805,
          -1.3694094056973394,
          -0.4335211415628346,
          -1.1267120131338622,
          1.3400799055072092,
          -0.1422947461813094,
          -1.248940584041396,
          -2.124104883981563,
          -1.3019259842261062,
          1.2253863790785309,
          -1.50671466014991,
          0.07538508733247389,
          1.2494402889239615,
          0.18255827197336624,
          -1.0105509243088642,
          -1.1891302933224321,
          -0.11628475166186489,
          -0.4734418847308924,
          0.8718766160831669,
          -0.35944283707649927,
          -0.6793897450131363,
          -0.18631676258814278,
          -1.2782273458212,
          1.4977187013693063,
          1.177236002604748,
          -1.0941913024273784,
          2.2404207802414633,
          -1.7525070260970546,
          0.216729499836274,
          -0.24615959069611515,
          -0.9566272104115014,
          -1.3354612997377038,
          0.22350132903717154,
          0.9938854360185605,
          -0.678036349363896,
          -1.269837301038907,
          0.023573204636028175,
          1.1893098288366686,
          0.3945672020711424,
          0.16556190679953686,
          1.0533923683620778,
          0.7980311950587345,
          -0.4648689451877062,
          -1.1224975907209203,
          0.5905563562444988,
          0.7187909232916364,
          0.001996256304215127,
          -0.5024319634754288,
          1.8039520156480824,
          -0.21920796816159593,
          -0.08410382918341316,
          0.7263457090750816,
          1.3527961859231261,
          -1.544852980293307,
          -0.2966107732450681,
          -0.11415615694751836,
          -0.12881703002004213,
          1.2741874708953127,
          1.1393830437473285
         ],
         "y": [
          -0.5580704050672908,
          -0.44923515289336513,
          -0.7168931610192598,
          0.9830134247526778,
          1.6240683385906691,
          -0.40275289981153695,
          0.6112791218876015,
          -1.2803108479829148,
          -0.05808932824151311,
          -1.684712399154241,
          0.7009441493967767,
          1.2720970110310192,
          0.3689654180086758,
          -0.10972521230236329,
          -1.8715072885797777,
          -0.41072022373609,
          -2.222846437588777,
          -1.1915850756385813,
          0.9231330164233137,
          1.8669529912034164,
          -0.290221726325987,
          -0.648720943564726,
          -0.36177078386180883,
          -0.320582285809616,
          0.034000540804830316,
          -0.22176470456543523,
          0.29525848347628325,
          -0.9460745820077947,
          -0.40068026297055254,
          0.4106897541844773,
          -0.05309064552901487,
          1.1476677464913225,
          -0.6292502221798444,
          -0.6653930893895125,
          0.23844796985252587,
          0.1526908108190717,
          -0.4882637399023558,
          0.6095528940202006,
          1.7106600523326803,
          -0.6087185304180869,
          -0.14795323483741937,
          -0.9041735666641447,
          -0.2758124519817509,
          -0.6901891175196618,
          0.6644453330064052,
          0.7900367784741046,
          0.9187562121791123,
          0.8674138559764352,
          -0.2453438445025455,
          0.6793641868864831,
          -0.857948768868309,
          -0.9098665331960117,
          -0.6276702401871189,
          -1.9934794146042236,
          -0.364622445961039,
          1.441725222783407,
          0.7801273633492309,
          0.8618581629889228,
          -0.6880668392789634,
          -1.1699554311316747,
          0.4688674958261446,
          -0.3910846044592581,
          -0.9407200530603363,
          -1.5443525904104154,
          1.0384541197937691,
          -0.3226253863608884,
          0.9201172848030571,
          0.7657733729769911,
          -0.0895080157312864,
          -0.8583292937553912,
          -0.5909240948790668,
          -0.2866429338299557,
          0.3565715507880381,
          -0.8964384866866988,
          -0.5862356805821878,
          -0.9155134743418362,
          0.3015672501242637,
          0.5252427921756735,
          1.1163271687288974,
          0.14762362641226046,
          1.6270590095804507,
          -0.5035181944686434,
          -2.4300076126906753,
          -0.5269023436170583,
          1.9305638870047916,
          1.0182413139000828,
          -0.33799434650269927,
          1.046303567819808,
          1.2774037206763065,
          -0.33322567523426716,
          0.5210740638623935,
          -1.1545147289056945,
          -0.29028048645031423,
          -1.3789783825434538,
          0.12451934803869251,
          -0.06929895952401209,
          0.3449054115724372,
          -1.0596751060425036,
          1.622930397463581,
          1.2696505909551374
         ]
        }
       ],
       "layout": {
        "legend": {
         "bgcolor": "#F5F6F9",
         "font": {
          "color": "#4D5663"
         }
        },
        "paper_bgcolor": "#F5F6F9",
        "plot_bgcolor": "#F5F6F9",
        "template": {
         "data": {
          "bar": [
           {
            "error_x": {
             "color": "#2a3f5f"
            },
            "error_y": {
             "color": "#2a3f5f"
            },
            "marker": {
             "line": {
              "color": "#E5ECF6",
              "width": 0.5
             },
             "pattern": {
              "fillmode": "overlay",
              "size": 10,
              "solidity": 0.2
             }
            },
            "type": "bar"
           }
          ],
          "barpolar": [
           {
            "marker": {
             "line": {
              "color": "#E5ECF6",
              "width": 0.5
             },
             "pattern": {
              "fillmode": "overlay",
              "size": 10,
              "solidity": 0.2
             }
            },
            "type": "barpolar"
           }
          ],
          "carpet": [
           {
            "aaxis": {
             "endlinecolor": "#2a3f5f",
             "gridcolor": "white",
             "linecolor": "white",
             "minorgridcolor": "white",
             "startlinecolor": "#2a3f5f"
            },
            "baxis": {
             "endlinecolor": "#2a3f5f",
             "gridcolor": "white",
             "linecolor": "white",
             "minorgridcolor": "white",
             "startlinecolor": "#2a3f5f"
            },
            "type": "carpet"
           }
          ],
          "choropleth": [
           {
            "colorbar": {
             "outlinewidth": 0,
             "ticks": ""
            },
            "type": "choropleth"
           }
          ],
          "contour": [
           {
            "colorbar": {
             "outlinewidth": 0,
             "ticks": ""
            },
            "colorscale": [
             [
              0,
              "#0d0887"
             ],
             [
              0.1111111111111111,
              "#46039f"
             ],
             [
              0.2222222222222222,
              "#7201a8"
             ],
             [
              0.3333333333333333,
              "#9c179e"
             ],
             [
              0.4444444444444444,
              "#bd3786"
             ],
             [
              0.5555555555555556,
              "#d8576b"
             ],
             [
              0.6666666666666666,
              "#ed7953"
             ],
             [
              0.7777777777777778,
              "#fb9f3a"
             ],
             [
              0.8888888888888888,
              "#fdca26"
             ],
             [
              1,
              "#f0f921"
             ]
            ],
            "type": "contour"
           }
          ],
          "contourcarpet": [
           {
            "colorbar": {
             "outlinewidth": 0,
             "ticks": ""
            },
            "type": "contourcarpet"
           }
          ],
          "heatmap": [
           {
            "colorbar": {
             "outlinewidth": 0,
             "ticks": ""
            },
            "colorscale": [
             [
              0,
              "#0d0887"
             ],
             [
              0.1111111111111111,
              "#46039f"
             ],
             [
              0.2222222222222222,
              "#7201a8"
             ],
             [
              0.3333333333333333,
              "#9c179e"
             ],
             [
              0.4444444444444444,
              "#bd3786"
             ],
             [
              0.5555555555555556,
              "#d8576b"
             ],
             [
              0.6666666666666666,
              "#ed7953"
             ],
             [
              0.7777777777777778,
              "#fb9f3a"
             ],
             [
              0.8888888888888888,
              "#fdca26"
             ],
             [
              1,
              "#f0f921"
             ]
            ],
            "type": "heatmap"
           }
          ],
          "heatmapgl": [
           {
            "colorbar": {
             "outlinewidth": 0,
             "ticks": ""
            },
            "colorscale": [
             [
              0,
              "#0d0887"
             ],
             [
              0.1111111111111111,
              "#46039f"
             ],
             [
              0.2222222222222222,
              "#7201a8"
             ],
             [
              0.3333333333333333,
              "#9c179e"
             ],
             [
              0.4444444444444444,
              "#bd3786"
             ],
             [
              0.5555555555555556,
              "#d8576b"
             ],
             [
              0.6666666666666666,
              "#ed7953"
             ],
             [
              0.7777777777777778,
              "#fb9f3a"
             ],
             [
              0.8888888888888888,
              "#fdca26"
             ],
             [
              1,
              "#f0f921"
             ]
            ],
            "type": "heatmapgl"
           }
          ],
          "histogram": [
           {
            "marker": {
             "pattern": {
              "fillmode": "overlay",
              "size": 10,
              "solidity": 0.2
             }
            },
            "type": "histogram"
           }
          ],
          "histogram2d": [
           {
            "colorbar": {
             "outlinewidth": 0,
             "ticks": ""
            },
            "colorscale": [
             [
              0,
              "#0d0887"
             ],
             [
              0.1111111111111111,
              "#46039f"
             ],
             [
              0.2222222222222222,
              "#7201a8"
             ],
             [
              0.3333333333333333,
              "#9c179e"
             ],
             [
              0.4444444444444444,
              "#bd3786"
             ],
             [
              0.5555555555555556,
              "#d8576b"
             ],
             [
              0.6666666666666666,
              "#ed7953"
             ],
             [
              0.7777777777777778,
              "#fb9f3a"
             ],
             [
              0.8888888888888888,
              "#fdca26"
             ],
             [
              1,
              "#f0f921"
             ]
            ],
            "type": "histogram2d"
           }
          ],
          "histogram2dcontour": [
           {
            "colorbar": {
             "outlinewidth": 0,
             "ticks": ""
            },
            "colorscale": [
             [
              0,
              "#0d0887"
             ],
             [
              0.1111111111111111,
              "#46039f"
             ],
             [
              0.2222222222222222,
              "#7201a8"
             ],
             [
              0.3333333333333333,
              "#9c179e"
             ],
             [
              0.4444444444444444,
              "#bd3786"
             ],
             [
              0.5555555555555556,
              "#d8576b"
             ],
             [
              0.6666666666666666,
              "#ed7953"
             ],
             [
              0.7777777777777778,
              "#fb9f3a"
             ],
             [
              0.8888888888888888,
              "#fdca26"
             ],
             [
              1,
              "#f0f921"
             ]
            ],
            "type": "histogram2dcontour"
           }
          ],
          "mesh3d": [
           {
            "colorbar": {
             "outlinewidth": 0,
             "ticks": ""
            },
            "type": "mesh3d"
           }
          ],
          "parcoords": [
           {
            "line": {
             "colorbar": {
              "outlinewidth": 0,
              "ticks": ""
             }
            },
            "type": "parcoords"
           }
          ],
          "pie": [
           {
            "automargin": true,
            "type": "pie"
           }
          ],
          "scatter": [
           {
            "fillpattern": {
             "fillmode": "overlay",
             "size": 10,
             "solidity": 0.2
            },
            "type": "scatter"
           }
          ],
          "scatter3d": [
           {
            "line": {
             "colorbar": {
              "outlinewidth": 0,
              "ticks": ""
             }
            },
            "marker": {
             "colorbar": {
              "outlinewidth": 0,
              "ticks": ""
             }
            },
            "type": "scatter3d"
           }
          ],
          "scattercarpet": [
           {
            "marker": {
             "colorbar": {
              "outlinewidth": 0,
              "ticks": ""
             }
            },
            "type": "scattercarpet"
           }
          ],
          "scattergeo": [
           {
            "marker": {
             "colorbar": {
              "outlinewidth": 0,
              "ticks": ""
             }
            },
            "type": "scattergeo"
           }
          ],
          "scattergl": [
           {
            "marker": {
             "colorbar": {
              "outlinewidth": 0,
              "ticks": ""
             }
            },
            "type": "scattergl"
           }
          ],
          "scattermapbox": [
           {
            "marker": {
             "colorbar": {
              "outlinewidth": 0,
              "ticks": ""
             }
            },
            "type": "scattermapbox"
           }
          ],
          "scatterpolar": [
           {
            "marker": {
             "colorbar": {
              "outlinewidth": 0,
              "ticks": ""
             }
            },
            "type": "scatterpolar"
           }
          ],
          "scatterpolargl": [
           {
            "marker": {
             "colorbar": {
              "outlinewidth": 0,
              "ticks": ""
             }
            },
            "type": "scatterpolargl"
           }
          ],
          "scatterternary": [
           {
            "marker": {
             "colorbar": {
              "outlinewidth": 0,
              "ticks": ""
             }
            },
            "type": "scatterternary"
           }
          ],
          "surface": [
           {
            "colorbar": {
             "outlinewidth": 0,
             "ticks": ""
            },
            "colorscale": [
             [
              0,
              "#0d0887"
             ],
             [
              0.1111111111111111,
              "#46039f"
             ],
             [
              0.2222222222222222,
              "#7201a8"
             ],
             [
              0.3333333333333333,
              "#9c179e"
             ],
             [
              0.4444444444444444,
              "#bd3786"
             ],
             [
              0.5555555555555556,
              "#d8576b"
             ],
             [
              0.6666666666666666,
              "#ed7953"
             ],
             [
              0.7777777777777778,
              "#fb9f3a"
             ],
             [
              0.8888888888888888,
              "#fdca26"
             ],
             [
              1,
              "#f0f921"
             ]
            ],
            "type": "surface"
           }
          ],
          "table": [
           {
            "cells": {
             "fill": {
              "color": "#EBF0F8"
             },
             "line": {
              "color": "white"
             }
            },
            "header": {
             "fill": {
              "color": "#C8D4E3"
             },
             "line": {
              "color": "white"
             }
            },
            "type": "table"
           }
          ]
         },
         "layout": {
          "annotationdefaults": {
           "arrowcolor": "#2a3f5f",
           "arrowhead": 0,
           "arrowwidth": 1
          },
          "autotypenumbers": "strict",
          "coloraxis": {
           "colorbar": {
            "outlinewidth": 0,
            "ticks": ""
           }
          },
          "colorscale": {
           "diverging": [
            [
             0,
             "#8e0152"
            ],
            [
             0.1,
             "#c51b7d"
            ],
            [
             0.2,
             "#de77ae"
            ],
            [
             0.3,
             "#f1b6da"
            ],
            [
             0.4,
             "#fde0ef"
            ],
            [
             0.5,
             "#f7f7f7"
            ],
            [
             0.6,
             "#e6f5d0"
            ],
            [
             0.7,
             "#b8e186"
            ],
            [
             0.8,
             "#7fbc41"
            ],
            [
             0.9,
             "#4d9221"
            ],
            [
             1,
             "#276419"
            ]
           ],
           "sequential": [
            [
             0,
             "#0d0887"
            ],
            [
             0.1111111111111111,
             "#46039f"
            ],
            [
             0.2222222222222222,
             "#7201a8"
            ],
            [
             0.3333333333333333,
             "#9c179e"
            ],
            [
             0.4444444444444444,
             "#bd3786"
            ],
            [
             0.5555555555555556,
             "#d8576b"
            ],
            [
             0.6666666666666666,
             "#ed7953"
            ],
            [
             0.7777777777777778,
             "#fb9f3a"
            ],
            [
             0.8888888888888888,
             "#fdca26"
            ],
            [
             1,
             "#f0f921"
            ]
           ],
           "sequentialminus": [
            [
             0,
             "#0d0887"
            ],
            [
             0.1111111111111111,
             "#46039f"
            ],
            [
             0.2222222222222222,
             "#7201a8"
            ],
            [
             0.3333333333333333,
             "#9c179e"
            ],
            [
             0.4444444444444444,
             "#bd3786"
            ],
            [
             0.5555555555555556,
             "#d8576b"
            ],
            [
             0.6666666666666666,
             "#ed7953"
            ],
            [
             0.7777777777777778,
             "#fb9f3a"
            ],
            [
             0.8888888888888888,
             "#fdca26"
            ],
            [
             1,
             "#f0f921"
            ]
           ]
          },
          "colorway": [
           "#636efa",
           "#EF553B",
           "#00cc96",
           "#ab63fa",
           "#FFA15A",
           "#19d3f3",
           "#FF6692",
           "#B6E880",
           "#FF97FF",
           "#FECB52"
          ],
          "font": {
           "color": "#2a3f5f"
          },
          "geo": {
           "bgcolor": "white",
           "lakecolor": "white",
           "landcolor": "#E5ECF6",
           "showlakes": true,
           "showland": true,
           "subunitcolor": "white"
          },
          "hoverlabel": {
           "align": "left"
          },
          "hovermode": "closest",
          "mapbox": {
           "style": "light"
          },
          "paper_bgcolor": "white",
          "plot_bgcolor": "#E5ECF6",
          "polar": {
           "angularaxis": {
            "gridcolor": "white",
            "linecolor": "white",
            "ticks": ""
           },
           "bgcolor": "#E5ECF6",
           "radialaxis": {
            "gridcolor": "white",
            "linecolor": "white",
            "ticks": ""
           }
          },
          "scene": {
           "xaxis": {
            "backgroundcolor": "#E5ECF6",
            "gridcolor": "white",
            "gridwidth": 2,
            "linecolor": "white",
            "showbackground": true,
            "ticks": "",
            "zerolinecolor": "white"
           },
           "yaxis": {
            "backgroundcolor": "#E5ECF6",
            "gridcolor": "white",
            "gridwidth": 2,
            "linecolor": "white",
            "showbackground": true,
            "ticks": "",
            "zerolinecolor": "white"
           },
           "zaxis": {
            "backgroundcolor": "#E5ECF6",
            "gridcolor": "white",
            "gridwidth": 2,
            "linecolor": "white",
            "showbackground": true,
            "ticks": "",
            "zerolinecolor": "white"
           }
          },
          "shapedefaults": {
           "line": {
            "color": "#2a3f5f"
           }
          },
          "ternary": {
           "aaxis": {
            "gridcolor": "white",
            "linecolor": "white",
            "ticks": ""
           },
           "baxis": {
            "gridcolor": "white",
            "linecolor": "white",
            "ticks": ""
           },
           "bgcolor": "#E5ECF6",
           "caxis": {
            "gridcolor": "white",
            "linecolor": "white",
            "ticks": ""
           }
          },
          "title": {
           "x": 0.05
          },
          "xaxis": {
           "automargin": true,
           "gridcolor": "white",
           "linecolor": "white",
           "ticks": "",
           "title": {
            "standoff": 15
           },
           "zerolinecolor": "white",
           "zerolinewidth": 2
          },
          "yaxis": {
           "automargin": true,
           "gridcolor": "white",
           "linecolor": "white",
           "ticks": "",
           "title": {
            "standoff": 15
           },
           "zerolinecolor": "white",
           "zerolinewidth": 2
          }
         }
        },
        "title": {
         "font": {
          "color": "#4D5663"
         }
        },
        "xaxis": {
         "gridcolor": "#E1E5ED",
         "showgrid": true,
         "tickfont": {
          "color": "#4D5663"
         },
         "title": {
          "font": {
           "color": "#4D5663"
          },
          "text": ""
         },
         "zerolinecolor": "#E1E5ED"
        },
        "yaxis": {
         "gridcolor": "#E1E5ED",
         "showgrid": true,
         "tickfont": {
          "color": "#4D5663"
         },
         "title": {
          "font": {
           "color": "#4D5663"
          },
          "text": ""
         },
         "zerolinecolor": "#E1E5ED"
        }
       }
      },
      "text/html": [
       "<div>                            <div id=\"6dfffbf4-0da0-427d-ac38-07a7032746de\" class=\"plotly-graph-div\" style=\"height:525px; width:100%;\"></div>            <script type=\"text/javascript\">                require([\"plotly\"], function(Plotly) {                    window.PLOTLYENV=window.PLOTLYENV || {};\n",
       "                    window.PLOTLYENV.BASE_URL='https://plot.ly';                                    if (document.getElementById(\"6dfffbf4-0da0-427d-ac38-07a7032746de\")) {                    Plotly.newPlot(                        \"6dfffbf4-0da0-427d-ac38-07a7032746de\",                        [{\"marker\":{\"color\":[\"rgb(255, 153, 51)\",\"rgb(55, 128, 191)\",\"rgb(50, 171, 96)\",\"rgb(128, 0, 128)\",\"rgb(219, 64, 82)\",\"rgb(0, 128, 128)\",\"rgb(255, 255, 51)\",\"rgb(128, 128, 0)\",\"rgb(251, 128, 114)\",\"rgb(128, 177, 211)\"],\"line\":{\"width\":1.3},\"size\":[77,36,89,47,51,92,65,28,66,49,48,68,75,62,89,67,50,59,31,71,63,67,77,56,86,53,83,76,100,44,89,63,68,50,36,29,75,67,89,68,44,57,12,61,44,100,47,98,78,32,85,94,57,76,64,80,55,69,92,74,34,92,68,49,72,44,39,61,88,112,42,79,59,86,55,71,45,69,86,77,82,55,62,61,89,85,55,62,70,60,45,64,93,20,65,86,47,58,28,87],\"symbol\":\"circle\"},\"mode\":\"markers\",\"text\":\"\",\"x\":[-0.5753426879256494,-0.2855850025875945,-0.0961869464912241,0.6103568764767965,-0.4025696750478465,0.4374070598595347,0.7852380548724863,0.5214648823245953,-0.00684583591222356,-0.5051783000764581,0.6530373694023148,0.8290643885983005,-0.16326941807355744,1.2946551885772357,0.3062829613096997,-0.40651524703456704,0.3896016631461653,-1.138922855036025,-0.7578633933957807,1.3509314503931424,-0.005010025924972767,-0.7973280566035829,-0.9426397821555511,0.7837430673863505,0.21275853925610655,-0.4223329495826686,-1.260774413115214,0.03781882593588207,0.46263467519767826,0.5546355561998378,-0.4842961772526561,0.4618702738864327,-0.26539049970315043,0.07173654988682814,1.2670586248816906,0.48257046492794947,0.8606764634836559,0.6828244703998747,0.2703051628152772,0.0908652995232409,1.3407457592744865,0.6876439459516805,-1.3694094056973394,-0.4335211415628346,-1.1267120131338622,1.3400799055072092,-0.1422947461813094,-1.248940584041396,-2.124104883981563,-1.3019259842261062,1.2253863790785309,-1.50671466014991,0.07538508733247389,1.2494402889239615,0.18255827197336624,-1.0105509243088642,-1.1891302933224321,-0.11628475166186489,-0.4734418847308924,0.8718766160831669,-0.35944283707649927,-0.6793897450131363,-0.18631676258814278,-1.2782273458212,1.4977187013693063,1.177236002604748,-1.0941913024273784,2.2404207802414633,-1.7525070260970546,0.216729499836274,-0.24615959069611515,-0.9566272104115014,-1.3354612997377038,0.22350132903717154,0.9938854360185605,-0.678036349363896,-1.269837301038907,0.023573204636028175,1.1893098288366686,0.3945672020711424,0.16556190679953686,1.0533923683620778,0.7980311950587345,-0.4648689451877062,-1.1224975907209203,0.5905563562444988,0.7187909232916364,0.001996256304215127,-0.5024319634754288,1.8039520156480824,-0.21920796816159593,-0.08410382918341316,0.7263457090750816,1.3527961859231261,-1.544852980293307,-0.2966107732450681,-0.11415615694751836,-0.12881703002004213,1.2741874708953127,1.1393830437473285],\"y\":[-0.5580704050672908,-0.44923515289336513,-0.7168931610192598,0.9830134247526778,1.6240683385906691,-0.40275289981153695,0.6112791218876015,-1.2803108479829148,-0.05808932824151311,-1.684712399154241,0.7009441493967767,1.2720970110310192,0.3689654180086758,-0.10972521230236329,-1.8715072885797777,-0.41072022373609,-2.222846437588777,-1.1915850756385813,0.9231330164233137,1.8669529912034164,-0.290221726325987,-0.648720943564726,-0.36177078386180883,-0.320582285809616,0.034000540804830316,-0.22176470456543523,0.29525848347628325,-0.9460745820077947,-0.40068026297055254,0.4106897541844773,-0.05309064552901487,1.1476677464913225,-0.6292502221798444,-0.6653930893895125,0.23844796985252587,0.1526908108190717,-0.4882637399023558,0.6095528940202006,1.7106600523326803,-0.6087185304180869,-0.14795323483741937,-0.9041735666641447,-0.2758124519817509,-0.6901891175196618,0.6644453330064052,0.7900367784741046,0.9187562121791123,0.8674138559764352,-0.2453438445025455,0.6793641868864831,-0.857948768868309,-0.9098665331960117,-0.6276702401871189,-1.9934794146042236,-0.364622445961039,1.441725222783407,0.7801273633492309,0.8618581629889228,-0.6880668392789634,-1.1699554311316747,0.4688674958261446,-0.3910846044592581,-0.9407200530603363,-1.5443525904104154,1.0384541197937691,-0.3226253863608884,0.9201172848030571,0.7657733729769911,-0.0895080157312864,-0.8583292937553912,-0.5909240948790668,-0.2866429338299557,0.3565715507880381,-0.8964384866866988,-0.5862356805821878,-0.9155134743418362,0.3015672501242637,0.5252427921756735,1.1163271687288974,0.14762362641226046,1.6270590095804507,-0.5035181944686434,-2.4300076126906753,-0.5269023436170583,1.9305638870047916,1.0182413139000828,-0.33799434650269927,1.046303567819808,1.2774037206763065,-0.33322567523426716,0.5210740638623935,-1.1545147289056945,-0.29028048645031423,-1.3789783825434538,0.12451934803869251,-0.06929895952401209,0.3449054115724372,-1.0596751060425036,1.622930397463581,1.2696505909551374],\"type\":\"scatter\"}],                        {\"legend\":{\"bgcolor\":\"#F5F6F9\",\"font\":{\"color\":\"#4D5663\"}},\"paper_bgcolor\":\"#F5F6F9\",\"plot_bgcolor\":\"#F5F6F9\",\"template\":{\"data\":{\"barpolar\":[{\"marker\":{\"line\":{\"color\":\"#E5ECF6\",\"width\":0.5},\"pattern\":{\"fillmode\":\"overlay\",\"size\":10,\"solidity\":0.2}},\"type\":\"barpolar\"}],\"bar\":[{\"error_x\":{\"color\":\"#2a3f5f\"},\"error_y\":{\"color\":\"#2a3f5f\"},\"marker\":{\"line\":{\"color\":\"#E5ECF6\",\"width\":0.5},\"pattern\":{\"fillmode\":\"overlay\",\"size\":10,\"solidity\":0.2}},\"type\":\"bar\"}],\"carpet\":[{\"aaxis\":{\"endlinecolor\":\"#2a3f5f\",\"gridcolor\":\"white\",\"linecolor\":\"white\",\"minorgridcolor\":\"white\",\"startlinecolor\":\"#2a3f5f\"},\"baxis\":{\"endlinecolor\":\"#2a3f5f\",\"gridcolor\":\"white\",\"linecolor\":\"white\",\"minorgridcolor\":\"white\",\"startlinecolor\":\"#2a3f5f\"},\"type\":\"carpet\"}],\"choropleth\":[{\"colorbar\":{\"outlinewidth\":0,\"ticks\":\"\"},\"type\":\"choropleth\"}],\"contourcarpet\":[{\"colorbar\":{\"outlinewidth\":0,\"ticks\":\"\"},\"type\":\"contourcarpet\"}],\"contour\":[{\"colorbar\":{\"outlinewidth\":0,\"ticks\":\"\"},\"colorscale\":[[0.0,\"#0d0887\"],[0.1111111111111111,\"#46039f\"],[0.2222222222222222,\"#7201a8\"],[0.3333333333333333,\"#9c179e\"],[0.4444444444444444,\"#bd3786\"],[0.5555555555555556,\"#d8576b\"],[0.6666666666666666,\"#ed7953\"],[0.7777777777777778,\"#fb9f3a\"],[0.8888888888888888,\"#fdca26\"],[1.0,\"#f0f921\"]],\"type\":\"contour\"}],\"heatmapgl\":[{\"colorbar\":{\"outlinewidth\":0,\"ticks\":\"\"},\"colorscale\":[[0.0,\"#0d0887\"],[0.1111111111111111,\"#46039f\"],[0.2222222222222222,\"#7201a8\"],[0.3333333333333333,\"#9c179e\"],[0.4444444444444444,\"#bd3786\"],[0.5555555555555556,\"#d8576b\"],[0.6666666666666666,\"#ed7953\"],[0.7777777777777778,\"#fb9f3a\"],[0.8888888888888888,\"#fdca26\"],[1.0,\"#f0f921\"]],\"type\":\"heatmapgl\"}],\"heatmap\":[{\"colorbar\":{\"outlinewidth\":0,\"ticks\":\"\"},\"colorscale\":[[0.0,\"#0d0887\"],[0.1111111111111111,\"#46039f\"],[0.2222222222222222,\"#7201a8\"],[0.3333333333333333,\"#9c179e\"],[0.4444444444444444,\"#bd3786\"],[0.5555555555555556,\"#d8576b\"],[0.6666666666666666,\"#ed7953\"],[0.7777777777777778,\"#fb9f3a\"],[0.8888888888888888,\"#fdca26\"],[1.0,\"#f0f921\"]],\"type\":\"heatmap\"}],\"histogram2dcontour\":[{\"colorbar\":{\"outlinewidth\":0,\"ticks\":\"\"},\"colorscale\":[[0.0,\"#0d0887\"],[0.1111111111111111,\"#46039f\"],[0.2222222222222222,\"#7201a8\"],[0.3333333333333333,\"#9c179e\"],[0.4444444444444444,\"#bd3786\"],[0.5555555555555556,\"#d8576b\"],[0.6666666666666666,\"#ed7953\"],[0.7777777777777778,\"#fb9f3a\"],[0.8888888888888888,\"#fdca26\"],[1.0,\"#f0f921\"]],\"type\":\"histogram2dcontour\"}],\"histogram2d\":[{\"colorbar\":{\"outlinewidth\":0,\"ticks\":\"\"},\"colorscale\":[[0.0,\"#0d0887\"],[0.1111111111111111,\"#46039f\"],[0.2222222222222222,\"#7201a8\"],[0.3333333333333333,\"#9c179e\"],[0.4444444444444444,\"#bd3786\"],[0.5555555555555556,\"#d8576b\"],[0.6666666666666666,\"#ed7953\"],[0.7777777777777778,\"#fb9f3a\"],[0.8888888888888888,\"#fdca26\"],[1.0,\"#f0f921\"]],\"type\":\"histogram2d\"}],\"histogram\":[{\"marker\":{\"pattern\":{\"fillmode\":\"overlay\",\"size\":10,\"solidity\":0.2}},\"type\":\"histogram\"}],\"mesh3d\":[{\"colorbar\":{\"outlinewidth\":0,\"ticks\":\"\"},\"type\":\"mesh3d\"}],\"parcoords\":[{\"line\":{\"colorbar\":{\"outlinewidth\":0,\"ticks\":\"\"}},\"type\":\"parcoords\"}],\"pie\":[{\"automargin\":true,\"type\":\"pie\"}],\"scatter3d\":[{\"line\":{\"colorbar\":{\"outlinewidth\":0,\"ticks\":\"\"}},\"marker\":{\"colorbar\":{\"outlinewidth\":0,\"ticks\":\"\"}},\"type\":\"scatter3d\"}],\"scattercarpet\":[{\"marker\":{\"colorbar\":{\"outlinewidth\":0,\"ticks\":\"\"}},\"type\":\"scattercarpet\"}],\"scattergeo\":[{\"marker\":{\"colorbar\":{\"outlinewidth\":0,\"ticks\":\"\"}},\"type\":\"scattergeo\"}],\"scattergl\":[{\"marker\":{\"colorbar\":{\"outlinewidth\":0,\"ticks\":\"\"}},\"type\":\"scattergl\"}],\"scattermapbox\":[{\"marker\":{\"colorbar\":{\"outlinewidth\":0,\"ticks\":\"\"}},\"type\":\"scattermapbox\"}],\"scatterpolargl\":[{\"marker\":{\"colorbar\":{\"outlinewidth\":0,\"ticks\":\"\"}},\"type\":\"scatterpolargl\"}],\"scatterpolar\":[{\"marker\":{\"colorbar\":{\"outlinewidth\":0,\"ticks\":\"\"}},\"type\":\"scatterpolar\"}],\"scatter\":[{\"fillpattern\":{\"fillmode\":\"overlay\",\"size\":10,\"solidity\":0.2},\"type\":\"scatter\"}],\"scatterternary\":[{\"marker\":{\"colorbar\":{\"outlinewidth\":0,\"ticks\":\"\"}},\"type\":\"scatterternary\"}],\"surface\":[{\"colorbar\":{\"outlinewidth\":0,\"ticks\":\"\"},\"colorscale\":[[0.0,\"#0d0887\"],[0.1111111111111111,\"#46039f\"],[0.2222222222222222,\"#7201a8\"],[0.3333333333333333,\"#9c179e\"],[0.4444444444444444,\"#bd3786\"],[0.5555555555555556,\"#d8576b\"],[0.6666666666666666,\"#ed7953\"],[0.7777777777777778,\"#fb9f3a\"],[0.8888888888888888,\"#fdca26\"],[1.0,\"#f0f921\"]],\"type\":\"surface\"}],\"table\":[{\"cells\":{\"fill\":{\"color\":\"#EBF0F8\"},\"line\":{\"color\":\"white\"}},\"header\":{\"fill\":{\"color\":\"#C8D4E3\"},\"line\":{\"color\":\"white\"}},\"type\":\"table\"}]},\"layout\":{\"annotationdefaults\":{\"arrowcolor\":\"#2a3f5f\",\"arrowhead\":0,\"arrowwidth\":1},\"autotypenumbers\":\"strict\",\"coloraxis\":{\"colorbar\":{\"outlinewidth\":0,\"ticks\":\"\"}},\"colorscale\":{\"diverging\":[[0,\"#8e0152\"],[0.1,\"#c51b7d\"],[0.2,\"#de77ae\"],[0.3,\"#f1b6da\"],[0.4,\"#fde0ef\"],[0.5,\"#f7f7f7\"],[0.6,\"#e6f5d0\"],[0.7,\"#b8e186\"],[0.8,\"#7fbc41\"],[0.9,\"#4d9221\"],[1,\"#276419\"]],\"sequential\":[[0.0,\"#0d0887\"],[0.1111111111111111,\"#46039f\"],[0.2222222222222222,\"#7201a8\"],[0.3333333333333333,\"#9c179e\"],[0.4444444444444444,\"#bd3786\"],[0.5555555555555556,\"#d8576b\"],[0.6666666666666666,\"#ed7953\"],[0.7777777777777778,\"#fb9f3a\"],[0.8888888888888888,\"#fdca26\"],[1.0,\"#f0f921\"]],\"sequentialminus\":[[0.0,\"#0d0887\"],[0.1111111111111111,\"#46039f\"],[0.2222222222222222,\"#7201a8\"],[0.3333333333333333,\"#9c179e\"],[0.4444444444444444,\"#bd3786\"],[0.5555555555555556,\"#d8576b\"],[0.6666666666666666,\"#ed7953\"],[0.7777777777777778,\"#fb9f3a\"],[0.8888888888888888,\"#fdca26\"],[1.0,\"#f0f921\"]]},\"colorway\":[\"#636efa\",\"#EF553B\",\"#00cc96\",\"#ab63fa\",\"#FFA15A\",\"#19d3f3\",\"#FF6692\",\"#B6E880\",\"#FF97FF\",\"#FECB52\"],\"font\":{\"color\":\"#2a3f5f\"},\"geo\":{\"bgcolor\":\"white\",\"lakecolor\":\"white\",\"landcolor\":\"#E5ECF6\",\"showlakes\":true,\"showland\":true,\"subunitcolor\":\"white\"},\"hoverlabel\":{\"align\":\"left\"},\"hovermode\":\"closest\",\"mapbox\":{\"style\":\"light\"},\"paper_bgcolor\":\"white\",\"plot_bgcolor\":\"#E5ECF6\",\"polar\":{\"angularaxis\":{\"gridcolor\":\"white\",\"linecolor\":\"white\",\"ticks\":\"\"},\"bgcolor\":\"#E5ECF6\",\"radialaxis\":{\"gridcolor\":\"white\",\"linecolor\":\"white\",\"ticks\":\"\"}},\"scene\":{\"xaxis\":{\"backgroundcolor\":\"#E5ECF6\",\"gridcolor\":\"white\",\"gridwidth\":2,\"linecolor\":\"white\",\"showbackground\":true,\"ticks\":\"\",\"zerolinecolor\":\"white\"},\"yaxis\":{\"backgroundcolor\":\"#E5ECF6\",\"gridcolor\":\"white\",\"gridwidth\":2,\"linecolor\":\"white\",\"showbackground\":true,\"ticks\":\"\",\"zerolinecolor\":\"white\"},\"zaxis\":{\"backgroundcolor\":\"#E5ECF6\",\"gridcolor\":\"white\",\"gridwidth\":2,\"linecolor\":\"white\",\"showbackground\":true,\"ticks\":\"\",\"zerolinecolor\":\"white\"}},\"shapedefaults\":{\"line\":{\"color\":\"#2a3f5f\"}},\"ternary\":{\"aaxis\":{\"gridcolor\":\"white\",\"linecolor\":\"white\",\"ticks\":\"\"},\"baxis\":{\"gridcolor\":\"white\",\"linecolor\":\"white\",\"ticks\":\"\"},\"bgcolor\":\"#E5ECF6\",\"caxis\":{\"gridcolor\":\"white\",\"linecolor\":\"white\",\"ticks\":\"\"}},\"title\":{\"x\":0.05},\"xaxis\":{\"automargin\":true,\"gridcolor\":\"white\",\"linecolor\":\"white\",\"ticks\":\"\",\"title\":{\"standoff\":15},\"zerolinecolor\":\"white\",\"zerolinewidth\":2},\"yaxis\":{\"automargin\":true,\"gridcolor\":\"white\",\"linecolor\":\"white\",\"ticks\":\"\",\"title\":{\"standoff\":15},\"zerolinecolor\":\"white\",\"zerolinewidth\":2}}},\"title\":{\"font\":{\"color\":\"#4D5663\"}},\"xaxis\":{\"gridcolor\":\"#E1E5ED\",\"showgrid\":true,\"tickfont\":{\"color\":\"#4D5663\"},\"title\":{\"font\":{\"color\":\"#4D5663\"},\"text\":\"\"},\"zerolinecolor\":\"#E1E5ED\"},\"yaxis\":{\"gridcolor\":\"#E1E5ED\",\"showgrid\":true,\"tickfont\":{\"color\":\"#4D5663\"},\"title\":{\"font\":{\"color\":\"#4D5663\"},\"text\":\"\"},\"zerolinecolor\":\"#E1E5ED\"}},                        {\"showLink\": true, \"linkText\": \"Export to plot.ly\", \"plotlyServerURL\": \"https://plot.ly\", \"responsive\": true}                    ).then(function(){\n",
       "                            \n",
       "var gd = document.getElementById('6dfffbf4-0da0-427d-ac38-07a7032746de');\n",
       "var x = new MutationObserver(function (mutations, observer) {{\n",
       "        var display = window.getComputedStyle(gd).display;\n",
       "        if (!display || display === 'none') {{\n",
       "            console.log([gd, 'removed!']);\n",
       "            Plotly.purge(gd);\n",
       "            observer.disconnect();\n",
       "        }}\n",
       "}});\n",
       "\n",
       "// Listen for the removal of the full notebook cells\n",
       "var notebookContainer = gd.closest('#notebook-container');\n",
       "if (notebookContainer) {{\n",
       "    x.observe(notebookContainer, {childList: true});\n",
       "}}\n",
       "\n",
       "// Listen for the clearing of the current output cell\n",
       "var outputEl = gd.closest('.output');\n",
       "if (outputEl) {{\n",
       "    x.observe(outputEl, {childList: true});\n",
       "}}\n",
       "\n",
       "                        })                };                });            </script>        </div>"
      ]
     },
     "metadata": {},
     "output_type": "display_data"
    }
   ],
   "source": [
    "#bubbleplot\n",
    "df.iplot(kind='bubble', x='A',y='B',size='C')"
   ]
  },
  {
   "cell_type": "code",
   "execution_count": 56,
   "id": "abc79ed2",
   "metadata": {},
   "outputs": [
    {
     "data": {
      "application/vnd.plotly.v1+json": {
       "config": {
        "linkText": "Export to plot.ly",
        "plotlyServerURL": "https://plot.ly",
        "showLink": true
       },
       "data": [
        {
         "histfunc": "count",
         "histnorm": "",
         "marker": {
          "color": "rgba(255, 153, 51, 1.0)",
          "line": {
           "color": "#4D5663",
           "width": 1.3
          }
         },
         "name": "A",
         "nbinsx": 10,
         "opacity": 0.8,
         "orientation": "v",
         "type": "histogram",
         "x": [
          -0.5753426879256494,
          -0.2855850025875945,
          -0.0961869464912241,
          0.6103568764767965,
          -0.4025696750478465,
          0.4374070598595347,
          0.7852380548724863,
          0.5214648823245953,
          -0.00684583591222356,
          -0.5051783000764581,
          0.6530373694023148,
          0.8290643885983005,
          -0.16326941807355744,
          1.2946551885772357,
          0.3062829613096997,
          -0.40651524703456704,
          0.3896016631461653,
          -1.138922855036025,
          -0.7578633933957807,
          1.3509314503931424,
          -0.005010025924972767,
          -0.7973280566035829,
          -0.9426397821555511,
          0.7837430673863505,
          0.21275853925610655,
          -0.4223329495826686,
          -1.260774413115214,
          0.03781882593588207,
          0.46263467519767826,
          0.5546355561998378,
          -0.4842961772526561,
          0.4618702738864327,
          -0.26539049970315043,
          0.07173654988682814,
          1.2670586248816906,
          0.48257046492794947,
          0.8606764634836559,
          0.6828244703998747,
          0.2703051628152772,
          0.0908652995232409,
          1.3407457592744865,
          0.6876439459516805,
          -1.3694094056973394,
          -0.4335211415628346,
          -1.1267120131338622,
          1.3400799055072092,
          -0.1422947461813094,
          -1.248940584041396,
          -2.124104883981563,
          -1.3019259842261062,
          1.2253863790785309,
          -1.50671466014991,
          0.07538508733247389,
          1.2494402889239615,
          0.18255827197336624,
          -1.0105509243088642,
          -1.1891302933224321,
          -0.11628475166186489,
          -0.4734418847308924,
          0.8718766160831669,
          -0.35944283707649927,
          -0.6793897450131363,
          -0.18631676258814278,
          -1.2782273458212,
          1.4977187013693063,
          1.177236002604748,
          -1.0941913024273784,
          2.2404207802414633,
          -1.7525070260970546,
          0.216729499836274,
          -0.24615959069611515,
          -0.9566272104115014,
          -1.3354612997377038,
          0.22350132903717154,
          0.9938854360185605,
          -0.678036349363896,
          -1.269837301038907,
          0.023573204636028175,
          1.1893098288366686,
          0.3945672020711424,
          0.16556190679953686,
          1.0533923683620778,
          0.7980311950587345,
          -0.4648689451877062,
          -1.1224975907209203,
          0.5905563562444988,
          0.7187909232916364,
          0.001996256304215127,
          -0.5024319634754288,
          1.8039520156480824,
          -0.21920796816159593,
          -0.08410382918341316,
          0.7263457090750816,
          1.3527961859231261,
          -1.544852980293307,
          -0.2966107732450681,
          -0.11415615694751836,
          -0.12881703002004213,
          1.2741874708953127,
          1.1393830437473285
         ],
         "xaxis": "x",
         "yaxis": "y"
        },
        {
         "line": {
          "color": "rgba(128, 128, 128, 1.0)",
          "dash": "solid",
          "shape": "linear",
          "width": 1.3
         },
         "marker": {
          "size": 2,
          "symbol": "circle"
         },
         "mode": "markers",
         "name": "A",
         "text": "",
         "type": "scatter",
         "x": [
          -0.5580704050672908,
          -0.44923515289336513,
          -0.7168931610192598,
          0.9830134247526778,
          1.6240683385906691,
          -0.40275289981153695,
          0.6112791218876015,
          -1.2803108479829148,
          -0.05808932824151311,
          -1.684712399154241,
          0.7009441493967767,
          1.2720970110310192,
          0.3689654180086758,
          -0.10972521230236329,
          -1.8715072885797777,
          -0.41072022373609,
          -2.222846437588777,
          -1.1915850756385813,
          0.9231330164233137,
          1.8669529912034164,
          -0.290221726325987,
          -0.648720943564726,
          -0.36177078386180883,
          -0.320582285809616,
          0.034000540804830316,
          -0.22176470456543523,
          0.29525848347628325,
          -0.9460745820077947,
          -0.40068026297055254,
          0.4106897541844773,
          -0.05309064552901487,
          1.1476677464913225,
          -0.6292502221798444,
          -0.6653930893895125,
          0.23844796985252587,
          0.1526908108190717,
          -0.4882637399023558,
          0.6095528940202006,
          1.7106600523326803,
          -0.6087185304180869,
          -0.14795323483741937,
          -0.9041735666641447,
          -0.2758124519817509,
          -0.6901891175196618,
          0.6644453330064052,
          0.7900367784741046,
          0.9187562121791123,
          0.8674138559764352,
          -0.2453438445025455,
          0.6793641868864831,
          -0.857948768868309,
          -0.9098665331960117,
          -0.6276702401871189,
          -1.9934794146042236,
          -0.364622445961039,
          1.441725222783407,
          0.7801273633492309,
          0.8618581629889228,
          -0.6880668392789634,
          -1.1699554311316747,
          0.4688674958261446,
          -0.3910846044592581,
          -0.9407200530603363,
          -1.5443525904104154,
          1.0384541197937691,
          -0.3226253863608884,
          0.9201172848030571,
          0.7657733729769911,
          -0.0895080157312864,
          -0.8583292937553912,
          -0.5909240948790668,
          -0.2866429338299557,
          0.3565715507880381,
          -0.8964384866866988,
          -0.5862356805821878,
          -0.9155134743418362,
          0.3015672501242637,
          0.5252427921756735,
          1.1163271687288974,
          0.14762362641226046,
          1.6270590095804507,
          -0.5035181944686434,
          -2.4300076126906753,
          -0.5269023436170583,
          1.9305638870047916,
          1.0182413139000828,
          -0.33799434650269927,
          1.046303567819808,
          1.2774037206763065,
          -0.33322567523426716,
          0.5210740638623935,
          -1.1545147289056945,
          -0.29028048645031423,
          -1.3789783825434538,
          0.12451934803869251,
          -0.06929895952401209,
          0.3449054115724372,
          -1.0596751060425036,
          1.622930397463581,
          1.2696505909551374
         ],
         "xaxis": "x2",
         "y": [
          -0.5753426879256494,
          -0.2855850025875945,
          -0.0961869464912241,
          0.6103568764767965,
          -0.4025696750478465,
          0.4374070598595347,
          0.7852380548724863,
          0.5214648823245953,
          -0.00684583591222356,
          -0.5051783000764581,
          0.6530373694023148,
          0.8290643885983005,
          -0.16326941807355744,
          1.2946551885772357,
          0.3062829613096997,
          -0.40651524703456704,
          0.3896016631461653,
          -1.138922855036025,
          -0.7578633933957807,
          1.3509314503931424,
          -0.005010025924972767,
          -0.7973280566035829,
          -0.9426397821555511,
          0.7837430673863505,
          0.21275853925610655,
          -0.4223329495826686,
          -1.260774413115214,
          0.03781882593588207,
          0.46263467519767826,
          0.5546355561998378,
          -0.4842961772526561,
          0.4618702738864327,
          -0.26539049970315043,
          0.07173654988682814,
          1.2670586248816906,
          0.48257046492794947,
          0.8606764634836559,
          0.6828244703998747,
          0.2703051628152772,
          0.0908652995232409,
          1.3407457592744865,
          0.6876439459516805,
          -1.3694094056973394,
          -0.4335211415628346,
          -1.1267120131338622,
          1.3400799055072092,
          -0.1422947461813094,
          -1.248940584041396,
          -2.124104883981563,
          -1.3019259842261062,
          1.2253863790785309,
          -1.50671466014991,
          0.07538508733247389,
          1.2494402889239615,
          0.18255827197336624,
          -1.0105509243088642,
          -1.1891302933224321,
          -0.11628475166186489,
          -0.4734418847308924,
          0.8718766160831669,
          -0.35944283707649927,
          -0.6793897450131363,
          -0.18631676258814278,
          -1.2782273458212,
          1.4977187013693063,
          1.177236002604748,
          -1.0941913024273784,
          2.2404207802414633,
          -1.7525070260970546,
          0.216729499836274,
          -0.24615959069611515,
          -0.9566272104115014,
          -1.3354612997377038,
          0.22350132903717154,
          0.9938854360185605,
          -0.678036349363896,
          -1.269837301038907,
          0.023573204636028175,
          1.1893098288366686,
          0.3945672020711424,
          0.16556190679953686,
          1.0533923683620778,
          0.7980311950587345,
          -0.4648689451877062,
          -1.1224975907209203,
          0.5905563562444988,
          0.7187909232916364,
          0.001996256304215127,
          -0.5024319634754288,
          1.8039520156480824,
          -0.21920796816159593,
          -0.08410382918341316,
          0.7263457090750816,
          1.3527961859231261,
          -1.544852980293307,
          -0.2966107732450681,
          -0.11415615694751836,
          -0.12881703002004213,
          1.2741874708953127,
          1.1393830437473285
         ],
         "yaxis": "y2"
        },
        {
         "line": {
          "color": "rgba(128, 128, 128, 1.0)",
          "dash": "solid",
          "shape": "linear",
          "width": 1.3
         },
         "marker": {
          "size": 2,
          "symbol": "circle"
         },
         "mode": "markers",
         "name": "A",
         "text": "",
         "type": "scatter",
         "x": [
          0.6114507672687999,
          -1.453118223435603,
          1.1827405880682482,
          -0.8915317989289957,
          -0.6965339089786392,
          1.3349453277892667,
          -0.012754426842266287,
          -1.8363884955952245,
          0.06320121054962571,
          -0.8054032151493444,
          -0.8680597817673879,
          0.15123933857148497,
          0.5123570213932661,
          -0.16037339958878402,
          1.2084982369733155,
          0.11675209300983791,
          -0.7352880428466906,
          -0.2791381389434401,
          -1.6768211825037311,
          0.2687358510113133,
          -0.08730828996841995,
          0.08011587984526237,
          0.5870365383920121,
          -0.45513157695040024,
          1.0477545780925943,
          -0.6122419200802369,
          0.9071051522559322,
          0.5288208716979997,
          1.7182043502896294,
          -1.037247362100533,
          1.2071706170444598,
          -0.09959896328078839,
          0.1378115413695539,
          -0.7628053068053268,
          -1.4628741580335396,
          -1.8115843574114259,
          0.48644122722049543,
          0.0812345794161359,
          1.1618829202520924,
          0.12227531103671242,
          -1.0286809844723226,
          -0.4199992929049847,
          -2.6587328254050435,
          -0.2024935070142835,
          -1.0654775595196992,
          1.7239918194244157,
          -0.88260958534823,
          1.6551781445421734,
          0.6507530317290405,
          -1.6654829806178402,
          0.9767781066008089,
          1.4101056253993747,
          -0.3795509935768535,
          0.5352685882282258,
          -0.07107715970154109,
          0.7354612283859392,
          -0.4782542749410208,
          0.2034575421519448,
          1.3429473000413061,
          0.44838858879270727,
          -1.5463440803120463,
          1.3497880948859498,
          0.14937510875119525,
          -0.8145611453142702,
          0.33798653977713,
          -1.0392925446223271,
          -1.2857261541825418,
          -0.18175222407249347,
          1.1471456825047024,
          2.302935046525213,
          -1.1653519184303127,
          0.7037332413417794,
          -0.3154171419840098,
          1.0465994577252105,
          -0.5043267981371093,
          0.3059399843978032,
          -1.0147173103491358,
          0.18734319364702906,
          1.0197870438206182,
          0.5698463723265904,
          0.847161738078466,
          -0.48838155083686113,
          -0.17571083683572822,
          -0.18323720410096794,
          1.1972873398163424,
          0.9806532259074543,
          -0.4917355934045084,
          -0.1343592196434194,
          0.2516622328478005,
          -0.27081241540746404,
          -1.0155616992979957,
          -0.0780064275372869,
          1.3613145488862313,
          -2.25481067807797,
          0.01340459400981535,
          1.034736325414299,
          -0.8796258441728192,
          -0.3292043045328106,
          -1.8624919231541441,
          1.1113931809407485
         ],
         "xaxis": "x3",
         "y": [
          -0.5753426879256494,
          -0.2855850025875945,
          -0.0961869464912241,
          0.6103568764767965,
          -0.4025696750478465,
          0.4374070598595347,
          0.7852380548724863,
          0.5214648823245953,
          -0.00684583591222356,
          -0.5051783000764581,
          0.6530373694023148,
          0.8290643885983005,
          -0.16326941807355744,
          1.2946551885772357,
          0.3062829613096997,
          -0.40651524703456704,
          0.3896016631461653,
          -1.138922855036025,
          -0.7578633933957807,
          1.3509314503931424,
          -0.005010025924972767,
          -0.7973280566035829,
          -0.9426397821555511,
          0.7837430673863505,
          0.21275853925610655,
          -0.4223329495826686,
          -1.260774413115214,
          0.03781882593588207,
          0.46263467519767826,
          0.5546355561998378,
          -0.4842961772526561,
          0.4618702738864327,
          -0.26539049970315043,
          0.07173654988682814,
          1.2670586248816906,
          0.48257046492794947,
          0.8606764634836559,
          0.6828244703998747,
          0.2703051628152772,
          0.0908652995232409,
          1.3407457592744865,
          0.6876439459516805,
          -1.3694094056973394,
          -0.4335211415628346,
          -1.1267120131338622,
          1.3400799055072092,
          -0.1422947461813094,
          -1.248940584041396,
          -2.124104883981563,
          -1.3019259842261062,
          1.2253863790785309,
          -1.50671466014991,
          0.07538508733247389,
          1.2494402889239615,
          0.18255827197336624,
          -1.0105509243088642,
          -1.1891302933224321,
          -0.11628475166186489,
          -0.4734418847308924,
          0.8718766160831669,
          -0.35944283707649927,
          -0.6793897450131363,
          -0.18631676258814278,
          -1.2782273458212,
          1.4977187013693063,
          1.177236002604748,
          -1.0941913024273784,
          2.2404207802414633,
          -1.7525070260970546,
          0.216729499836274,
          -0.24615959069611515,
          -0.9566272104115014,
          -1.3354612997377038,
          0.22350132903717154,
          0.9938854360185605,
          -0.678036349363896,
          -1.269837301038907,
          0.023573204636028175,
          1.1893098288366686,
          0.3945672020711424,
          0.16556190679953686,
          1.0533923683620778,
          0.7980311950587345,
          -0.4648689451877062,
          -1.1224975907209203,
          0.5905563562444988,
          0.7187909232916364,
          0.001996256304215127,
          -0.5024319634754288,
          1.8039520156480824,
          -0.21920796816159593,
          -0.08410382918341316,
          0.7263457090750816,
          1.3527961859231261,
          -1.544852980293307,
          -0.2966107732450681,
          -0.11415615694751836,
          -0.12881703002004213,
          1.2741874708953127,
          1.1393830437473285
         ],
         "yaxis": "y3"
        },
        {
         "line": {
          "color": "rgba(128, 128, 128, 1.0)",
          "dash": "solid",
          "shape": "linear",
          "width": 1.3
         },
         "marker": {
          "size": 2,
          "symbol": "circle"
         },
         "mode": "markers",
         "name": "A",
         "text": "",
         "type": "scatter",
         "x": [
          -0.10163559002645582,
          -0.35572331833610316,
          0.9382633458937855,
          1.0365157491589996,
          -1.0839803625551319,
          -0.42444836826523763,
          -0.17434477607746782,
          -0.2503002221905484,
          -0.13298541736793706,
          0.8536540114980372,
          0.3743533125530419,
          -0.23019310723961844,
          -1.0877216415015756,
          0.8983283485049616,
          0.14188830675770078,
          0.22365165287099512,
          0.19462905516574389,
          0.0934357964967572,
          0.8335939366943298,
          -0.04921489580520027,
          1.0017436578627659,
          0.5833690545463516,
          0.5736816489166747,
          -0.24365567817680078,
          1.3488875965404792,
          0.1263712094019638,
          -0.06129280907415563,
          -0.2237010330630421,
          2.302720150283636,
          -1.2728458007605248,
          -0.9225462214792156,
          -0.83290355524013,
          0.9865001583080875,
          -0.47162702859165717,
          -0.2933254636166296,
          0.24279006201943384,
          0.9032069290402934,
          0.34250476808048,
          0.807733281761505,
          1.8166900939762636,
          -0.009455451023209618,
          -0.4963886136333983,
          -0.6358577813771843,
          0.3619657381092746,
          -0.8788873299867607,
          0.40135747633790053,
          0.5062831775326353,
          -0.020676125484085806,
          0.19948143467837848,
          0.34548083587927997,
          -0.5795092323886075,
          -1.7819736678538074,
          0.17033119871697325,
          -0.89129758144792,
          -0.1714054780010341,
          -1.0737098320560075,
          1.2900195720031598,
          1.2914077918767255,
          -0.24949588549061508,
          0.8369345762371713,
          1.135976461563747,
          -1.4428407997626485,
          0.9875439709348575,
          2.2035242636833,
          -0.5791487359503539,
          -2.521913338226039,
          -0.7184707278530241,
          -1.1639587985186035,
          -0.5687316557397463,
          -1.702610898906452,
          -0.12020102131074938,
          0.13080022513111286,
          -0.22034734250604682,
          -0.05716775746615135,
          0.28319930382775665,
          0.731825355886409,
          -0.32563379121427105,
          -0.0787710720033279,
          -1.3347357015730388,
          -1.6260320813219609,
          0.9013728332559842,
          -0.08563499946707838,
          -0.33884869313938376,
          -2.256272072962904,
          0.38836306652118646,
          -0.1299483070640521,
          0.835893038991054,
          0.5972407218225784,
          0.9662776762760077,
          -0.6501003773755782,
          -2.3648808383363713,
          0.6757352967860882,
          0.8668970165490616,
          -1.7444739905526931,
          0.9097302962435239,
          0.3895664821972121,
          -0.26932148950763357,
          -1.300053903639512,
          0.38751698856060934,
          -0.6130946474664536
         ],
         "xaxis": "x4",
         "y": [
          -0.5753426879256494,
          -0.2855850025875945,
          -0.0961869464912241,
          0.6103568764767965,
          -0.4025696750478465,
          0.4374070598595347,
          0.7852380548724863,
          0.5214648823245953,
          -0.00684583591222356,
          -0.5051783000764581,
          0.6530373694023148,
          0.8290643885983005,
          -0.16326941807355744,
          1.2946551885772357,
          0.3062829613096997,
          -0.40651524703456704,
          0.3896016631461653,
          -1.138922855036025,
          -0.7578633933957807,
          1.3509314503931424,
          -0.005010025924972767,
          -0.7973280566035829,
          -0.9426397821555511,
          0.7837430673863505,
          0.21275853925610655,
          -0.4223329495826686,
          -1.260774413115214,
          0.03781882593588207,
          0.46263467519767826,
          0.5546355561998378,
          -0.4842961772526561,
          0.4618702738864327,
          -0.26539049970315043,
          0.07173654988682814,
          1.2670586248816906,
          0.48257046492794947,
          0.8606764634836559,
          0.6828244703998747,
          0.2703051628152772,
          0.0908652995232409,
          1.3407457592744865,
          0.6876439459516805,
          -1.3694094056973394,
          -0.4335211415628346,
          -1.1267120131338622,
          1.3400799055072092,
          -0.1422947461813094,
          -1.248940584041396,
          -2.124104883981563,
          -1.3019259842261062,
          1.2253863790785309,
          -1.50671466014991,
          0.07538508733247389,
          1.2494402889239615,
          0.18255827197336624,
          -1.0105509243088642,
          -1.1891302933224321,
          -0.11628475166186489,
          -0.4734418847308924,
          0.8718766160831669,
          -0.35944283707649927,
          -0.6793897450131363,
          -0.18631676258814278,
          -1.2782273458212,
          1.4977187013693063,
          1.177236002604748,
          -1.0941913024273784,
          2.2404207802414633,
          -1.7525070260970546,
          0.216729499836274,
          -0.24615959069611515,
          -0.9566272104115014,
          -1.3354612997377038,
          0.22350132903717154,
          0.9938854360185605,
          -0.678036349363896,
          -1.269837301038907,
          0.023573204636028175,
          1.1893098288366686,
          0.3945672020711424,
          0.16556190679953686,
          1.0533923683620778,
          0.7980311950587345,
          -0.4648689451877062,
          -1.1224975907209203,
          0.5905563562444988,
          0.7187909232916364,
          0.001996256304215127,
          -0.5024319634754288,
          1.8039520156480824,
          -0.21920796816159593,
          -0.08410382918341316,
          0.7263457090750816,
          1.3527961859231261,
          -1.544852980293307,
          -0.2966107732450681,
          -0.11415615694751836,
          -0.12881703002004213,
          1.2741874708953127,
          1.1393830437473285
         ],
         "yaxis": "y4"
        },
        {
         "line": {
          "color": "rgba(128, 128, 128, 1.0)",
          "dash": "solid",
          "shape": "linear",
          "width": 1.3
         },
         "marker": {
          "size": 2,
          "symbol": "circle"
         },
         "mode": "markers",
         "name": "B",
         "text": "",
         "type": "scatter",
         "x": [
          -0.5753426879256494,
          -0.2855850025875945,
          -0.0961869464912241,
          0.6103568764767965,
          -0.4025696750478465,
          0.4374070598595347,
          0.7852380548724863,
          0.5214648823245953,
          -0.00684583591222356,
          -0.5051783000764581,
          0.6530373694023148,
          0.8290643885983005,
          -0.16326941807355744,
          1.2946551885772357,
          0.3062829613096997,
          -0.40651524703456704,
          0.3896016631461653,
          -1.138922855036025,
          -0.7578633933957807,
          1.3509314503931424,
          -0.005010025924972767,
          -0.7973280566035829,
          -0.9426397821555511,
          0.7837430673863505,
          0.21275853925610655,
          -0.4223329495826686,
          -1.260774413115214,
          0.03781882593588207,
          0.46263467519767826,
          0.5546355561998378,
          -0.4842961772526561,
          0.4618702738864327,
          -0.26539049970315043,
          0.07173654988682814,
          1.2670586248816906,
          0.48257046492794947,
          0.8606764634836559,
          0.6828244703998747,
          0.2703051628152772,
          0.0908652995232409,
          1.3407457592744865,
          0.6876439459516805,
          -1.3694094056973394,
          -0.4335211415628346,
          -1.1267120131338622,
          1.3400799055072092,
          -0.1422947461813094,
          -1.248940584041396,
          -2.124104883981563,
          -1.3019259842261062,
          1.2253863790785309,
          -1.50671466014991,
          0.07538508733247389,
          1.2494402889239615,
          0.18255827197336624,
          -1.0105509243088642,
          -1.1891302933224321,
          -0.11628475166186489,
          -0.4734418847308924,
          0.8718766160831669,
          -0.35944283707649927,
          -0.6793897450131363,
          -0.18631676258814278,
          -1.2782273458212,
          1.4977187013693063,
          1.177236002604748,
          -1.0941913024273784,
          2.2404207802414633,
          -1.7525070260970546,
          0.216729499836274,
          -0.24615959069611515,
          -0.9566272104115014,
          -1.3354612997377038,
          0.22350132903717154,
          0.9938854360185605,
          -0.678036349363896,
          -1.269837301038907,
          0.023573204636028175,
          1.1893098288366686,
          0.3945672020711424,
          0.16556190679953686,
          1.0533923683620778,
          0.7980311950587345,
          -0.4648689451877062,
          -1.1224975907209203,
          0.5905563562444988,
          0.7187909232916364,
          0.001996256304215127,
          -0.5024319634754288,
          1.8039520156480824,
          -0.21920796816159593,
          -0.08410382918341316,
          0.7263457090750816,
          1.3527961859231261,
          -1.544852980293307,
          -0.2966107732450681,
          -0.11415615694751836,
          -0.12881703002004213,
          1.2741874708953127,
          1.1393830437473285
         ],
         "xaxis": "x5",
         "y": [
          -0.5580704050672908,
          -0.44923515289336513,
          -0.7168931610192598,
          0.9830134247526778,
          1.6240683385906691,
          -0.40275289981153695,
          0.6112791218876015,
          -1.2803108479829148,
          -0.05808932824151311,
          -1.684712399154241,
          0.7009441493967767,
          1.2720970110310192,
          0.3689654180086758,
          -0.10972521230236329,
          -1.8715072885797777,
          -0.41072022373609,
          -2.222846437588777,
          -1.1915850756385813,
          0.9231330164233137,
          1.8669529912034164,
          -0.290221726325987,
          -0.648720943564726,
          -0.36177078386180883,
          -0.320582285809616,
          0.034000540804830316,
          -0.22176470456543523,
          0.29525848347628325,
          -0.9460745820077947,
          -0.40068026297055254,
          0.4106897541844773,
          -0.05309064552901487,
          1.1476677464913225,
          -0.6292502221798444,
          -0.6653930893895125,
          0.23844796985252587,
          0.1526908108190717,
          -0.4882637399023558,
          0.6095528940202006,
          1.7106600523326803,
          -0.6087185304180869,
          -0.14795323483741937,
          -0.9041735666641447,
          -0.2758124519817509,
          -0.6901891175196618,
          0.6644453330064052,
          0.7900367784741046,
          0.9187562121791123,
          0.8674138559764352,
          -0.2453438445025455,
          0.6793641868864831,
          -0.857948768868309,
          -0.9098665331960117,
          -0.6276702401871189,
          -1.9934794146042236,
          -0.364622445961039,
          1.441725222783407,
          0.7801273633492309,
          0.8618581629889228,
          -0.6880668392789634,
          -1.1699554311316747,
          0.4688674958261446,
          -0.3910846044592581,
          -0.9407200530603363,
          -1.5443525904104154,
          1.0384541197937691,
          -0.3226253863608884,
          0.9201172848030571,
          0.7657733729769911,
          -0.0895080157312864,
          -0.8583292937553912,
          -0.5909240948790668,
          -0.2866429338299557,
          0.3565715507880381,
          -0.8964384866866988,
          -0.5862356805821878,
          -0.9155134743418362,
          0.3015672501242637,
          0.5252427921756735,
          1.1163271687288974,
          0.14762362641226046,
          1.6270590095804507,
          -0.5035181944686434,
          -2.4300076126906753,
          -0.5269023436170583,
          1.9305638870047916,
          1.0182413139000828,
          -0.33799434650269927,
          1.046303567819808,
          1.2774037206763065,
          -0.33322567523426716,
          0.5210740638623935,
          -1.1545147289056945,
          -0.29028048645031423,
          -1.3789783825434538,
          0.12451934803869251,
          -0.06929895952401209,
          0.3449054115724372,
          -1.0596751060425036,
          1.622930397463581,
          1.2696505909551374
         ],
         "yaxis": "y5"
        },
        {
         "histfunc": "count",
         "histnorm": "",
         "marker": {
          "color": "rgba(55, 128, 191, 1.0)",
          "line": {
           "color": "#4D5663",
           "width": 1.3
          }
         },
         "name": "B",
         "nbinsx": 10,
         "opacity": 0.8,
         "orientation": "v",
         "type": "histogram",
         "x": [
          -0.5580704050672908,
          -0.44923515289336513,
          -0.7168931610192598,
          0.9830134247526778,
          1.6240683385906691,
          -0.40275289981153695,
          0.6112791218876015,
          -1.2803108479829148,
          -0.05808932824151311,
          -1.684712399154241,
          0.7009441493967767,
          1.2720970110310192,
          0.3689654180086758,
          -0.10972521230236329,
          -1.8715072885797777,
          -0.41072022373609,
          -2.222846437588777,
          -1.1915850756385813,
          0.9231330164233137,
          1.8669529912034164,
          -0.290221726325987,
          -0.648720943564726,
          -0.36177078386180883,
          -0.320582285809616,
          0.034000540804830316,
          -0.22176470456543523,
          0.29525848347628325,
          -0.9460745820077947,
          -0.40068026297055254,
          0.4106897541844773,
          -0.05309064552901487,
          1.1476677464913225,
          -0.6292502221798444,
          -0.6653930893895125,
          0.23844796985252587,
          0.1526908108190717,
          -0.4882637399023558,
          0.6095528940202006,
          1.7106600523326803,
          -0.6087185304180869,
          -0.14795323483741937,
          -0.9041735666641447,
          -0.2758124519817509,
          -0.6901891175196618,
          0.6644453330064052,
          0.7900367784741046,
          0.9187562121791123,
          0.8674138559764352,
          -0.2453438445025455,
          0.6793641868864831,
          -0.857948768868309,
          -0.9098665331960117,
          -0.6276702401871189,
          -1.9934794146042236,
          -0.364622445961039,
          1.441725222783407,
          0.7801273633492309,
          0.8618581629889228,
          -0.6880668392789634,
          -1.1699554311316747,
          0.4688674958261446,
          -0.3910846044592581,
          -0.9407200530603363,
          -1.5443525904104154,
          1.0384541197937691,
          -0.3226253863608884,
          0.9201172848030571,
          0.7657733729769911,
          -0.0895080157312864,
          -0.8583292937553912,
          -0.5909240948790668,
          -0.2866429338299557,
          0.3565715507880381,
          -0.8964384866866988,
          -0.5862356805821878,
          -0.9155134743418362,
          0.3015672501242637,
          0.5252427921756735,
          1.1163271687288974,
          0.14762362641226046,
          1.6270590095804507,
          -0.5035181944686434,
          -2.4300076126906753,
          -0.5269023436170583,
          1.9305638870047916,
          1.0182413139000828,
          -0.33799434650269927,
          1.046303567819808,
          1.2774037206763065,
          -0.33322567523426716,
          0.5210740638623935,
          -1.1545147289056945,
          -0.29028048645031423,
          -1.3789783825434538,
          0.12451934803869251,
          -0.06929895952401209,
          0.3449054115724372,
          -1.0596751060425036,
          1.622930397463581,
          1.2696505909551374
         ],
         "xaxis": "x6",
         "yaxis": "y6"
        },
        {
         "line": {
          "color": "rgba(128, 128, 128, 1.0)",
          "dash": "solid",
          "shape": "linear",
          "width": 1.3
         },
         "marker": {
          "size": 2,
          "symbol": "circle"
         },
         "mode": "markers",
         "name": "B",
         "text": "",
         "type": "scatter",
         "x": [
          0.6114507672687999,
          -1.453118223435603,
          1.1827405880682482,
          -0.8915317989289957,
          -0.6965339089786392,
          1.3349453277892667,
          -0.012754426842266287,
          -1.8363884955952245,
          0.06320121054962571,
          -0.8054032151493444,
          -0.8680597817673879,
          0.15123933857148497,
          0.5123570213932661,
          -0.16037339958878402,
          1.2084982369733155,
          0.11675209300983791,
          -0.7352880428466906,
          -0.2791381389434401,
          -1.6768211825037311,
          0.2687358510113133,
          -0.08730828996841995,
          0.08011587984526237,
          0.5870365383920121,
          -0.45513157695040024,
          1.0477545780925943,
          -0.6122419200802369,
          0.9071051522559322,
          0.5288208716979997,
          1.7182043502896294,
          -1.037247362100533,
          1.2071706170444598,
          -0.09959896328078839,
          0.1378115413695539,
          -0.7628053068053268,
          -1.4628741580335396,
          -1.8115843574114259,
          0.48644122722049543,
          0.0812345794161359,
          1.1618829202520924,
          0.12227531103671242,
          -1.0286809844723226,
          -0.4199992929049847,
          -2.6587328254050435,
          -0.2024935070142835,
          -1.0654775595196992,
          1.7239918194244157,
          -0.88260958534823,
          1.6551781445421734,
          0.6507530317290405,
          -1.6654829806178402,
          0.9767781066008089,
          1.4101056253993747,
          -0.3795509935768535,
          0.5352685882282258,
          -0.07107715970154109,
          0.7354612283859392,
          -0.4782542749410208,
          0.2034575421519448,
          1.3429473000413061,
          0.44838858879270727,
          -1.5463440803120463,
          1.3497880948859498,
          0.14937510875119525,
          -0.8145611453142702,
          0.33798653977713,
          -1.0392925446223271,
          -1.2857261541825418,
          -0.18175222407249347,
          1.1471456825047024,
          2.302935046525213,
          -1.1653519184303127,
          0.7037332413417794,
          -0.3154171419840098,
          1.0465994577252105,
          -0.5043267981371093,
          0.3059399843978032,
          -1.0147173103491358,
          0.18734319364702906,
          1.0197870438206182,
          0.5698463723265904,
          0.847161738078466,
          -0.48838155083686113,
          -0.17571083683572822,
          -0.18323720410096794,
          1.1972873398163424,
          0.9806532259074543,
          -0.4917355934045084,
          -0.1343592196434194,
          0.2516622328478005,
          -0.27081241540746404,
          -1.0155616992979957,
          -0.0780064275372869,
          1.3613145488862313,
          -2.25481067807797,
          0.01340459400981535,
          1.034736325414299,
          -0.8796258441728192,
          -0.3292043045328106,
          -1.8624919231541441,
          1.1113931809407485
         ],
         "xaxis": "x7",
         "y": [
          -0.5580704050672908,
          -0.44923515289336513,
          -0.7168931610192598,
          0.9830134247526778,
          1.6240683385906691,
          -0.40275289981153695,
          0.6112791218876015,
          -1.2803108479829148,
          -0.05808932824151311,
          -1.684712399154241,
          0.7009441493967767,
          1.2720970110310192,
          0.3689654180086758,
          -0.10972521230236329,
          -1.8715072885797777,
          -0.41072022373609,
          -2.222846437588777,
          -1.1915850756385813,
          0.9231330164233137,
          1.8669529912034164,
          -0.290221726325987,
          -0.648720943564726,
          -0.36177078386180883,
          -0.320582285809616,
          0.034000540804830316,
          -0.22176470456543523,
          0.29525848347628325,
          -0.9460745820077947,
          -0.40068026297055254,
          0.4106897541844773,
          -0.05309064552901487,
          1.1476677464913225,
          -0.6292502221798444,
          -0.6653930893895125,
          0.23844796985252587,
          0.1526908108190717,
          -0.4882637399023558,
          0.6095528940202006,
          1.7106600523326803,
          -0.6087185304180869,
          -0.14795323483741937,
          -0.9041735666641447,
          -0.2758124519817509,
          -0.6901891175196618,
          0.6644453330064052,
          0.7900367784741046,
          0.9187562121791123,
          0.8674138559764352,
          -0.2453438445025455,
          0.6793641868864831,
          -0.857948768868309,
          -0.9098665331960117,
          -0.6276702401871189,
          -1.9934794146042236,
          -0.364622445961039,
          1.441725222783407,
          0.7801273633492309,
          0.8618581629889228,
          -0.6880668392789634,
          -1.1699554311316747,
          0.4688674958261446,
          -0.3910846044592581,
          -0.9407200530603363,
          -1.5443525904104154,
          1.0384541197937691,
          -0.3226253863608884,
          0.9201172848030571,
          0.7657733729769911,
          -0.0895080157312864,
          -0.8583292937553912,
          -0.5909240948790668,
          -0.2866429338299557,
          0.3565715507880381,
          -0.8964384866866988,
          -0.5862356805821878,
          -0.9155134743418362,
          0.3015672501242637,
          0.5252427921756735,
          1.1163271687288974,
          0.14762362641226046,
          1.6270590095804507,
          -0.5035181944686434,
          -2.4300076126906753,
          -0.5269023436170583,
          1.9305638870047916,
          1.0182413139000828,
          -0.33799434650269927,
          1.046303567819808,
          1.2774037206763065,
          -0.33322567523426716,
          0.5210740638623935,
          -1.1545147289056945,
          -0.29028048645031423,
          -1.3789783825434538,
          0.12451934803869251,
          -0.06929895952401209,
          0.3449054115724372,
          -1.0596751060425036,
          1.622930397463581,
          1.2696505909551374
         ],
         "yaxis": "y7"
        },
        {
         "line": {
          "color": "rgba(128, 128, 128, 1.0)",
          "dash": "solid",
          "shape": "linear",
          "width": 1.3
         },
         "marker": {
          "size": 2,
          "symbol": "circle"
         },
         "mode": "markers",
         "name": "B",
         "text": "",
         "type": "scatter",
         "x": [
          -0.10163559002645582,
          -0.35572331833610316,
          0.9382633458937855,
          1.0365157491589996,
          -1.0839803625551319,
          -0.42444836826523763,
          -0.17434477607746782,
          -0.2503002221905484,
          -0.13298541736793706,
          0.8536540114980372,
          0.3743533125530419,
          -0.23019310723961844,
          -1.0877216415015756,
          0.8983283485049616,
          0.14188830675770078,
          0.22365165287099512,
          0.19462905516574389,
          0.0934357964967572,
          0.8335939366943298,
          -0.04921489580520027,
          1.0017436578627659,
          0.5833690545463516,
          0.5736816489166747,
          -0.24365567817680078,
          1.3488875965404792,
          0.1263712094019638,
          -0.06129280907415563,
          -0.2237010330630421,
          2.302720150283636,
          -1.2728458007605248,
          -0.9225462214792156,
          -0.83290355524013,
          0.9865001583080875,
          -0.47162702859165717,
          -0.2933254636166296,
          0.24279006201943384,
          0.9032069290402934,
          0.34250476808048,
          0.807733281761505,
          1.8166900939762636,
          -0.009455451023209618,
          -0.4963886136333983,
          -0.6358577813771843,
          0.3619657381092746,
          -0.8788873299867607,
          0.40135747633790053,
          0.5062831775326353,
          -0.020676125484085806,
          0.19948143467837848,
          0.34548083587927997,
          -0.5795092323886075,
          -1.7819736678538074,
          0.17033119871697325,
          -0.89129758144792,
          -0.1714054780010341,
          -1.0737098320560075,
          1.2900195720031598,
          1.2914077918767255,
          -0.24949588549061508,
          0.8369345762371713,
          1.135976461563747,
          -1.4428407997626485,
          0.9875439709348575,
          2.2035242636833,
          -0.5791487359503539,
          -2.521913338226039,
          -0.7184707278530241,
          -1.1639587985186035,
          -0.5687316557397463,
          -1.702610898906452,
          -0.12020102131074938,
          0.13080022513111286,
          -0.22034734250604682,
          -0.05716775746615135,
          0.28319930382775665,
          0.731825355886409,
          -0.32563379121427105,
          -0.0787710720033279,
          -1.3347357015730388,
          -1.6260320813219609,
          0.9013728332559842,
          -0.08563499946707838,
          -0.33884869313938376,
          -2.256272072962904,
          0.38836306652118646,
          -0.1299483070640521,
          0.835893038991054,
          0.5972407218225784,
          0.9662776762760077,
          -0.6501003773755782,
          -2.3648808383363713,
          0.6757352967860882,
          0.8668970165490616,
          -1.7444739905526931,
          0.9097302962435239,
          0.3895664821972121,
          -0.26932148950763357,
          -1.300053903639512,
          0.38751698856060934,
          -0.6130946474664536
         ],
         "xaxis": "x8",
         "y": [
          -0.5580704050672908,
          -0.44923515289336513,
          -0.7168931610192598,
          0.9830134247526778,
          1.6240683385906691,
          -0.40275289981153695,
          0.6112791218876015,
          -1.2803108479829148,
          -0.05808932824151311,
          -1.684712399154241,
          0.7009441493967767,
          1.2720970110310192,
          0.3689654180086758,
          -0.10972521230236329,
          -1.8715072885797777,
          -0.41072022373609,
          -2.222846437588777,
          -1.1915850756385813,
          0.9231330164233137,
          1.8669529912034164,
          -0.290221726325987,
          -0.648720943564726,
          -0.36177078386180883,
          -0.320582285809616,
          0.034000540804830316,
          -0.22176470456543523,
          0.29525848347628325,
          -0.9460745820077947,
          -0.40068026297055254,
          0.4106897541844773,
          -0.05309064552901487,
          1.1476677464913225,
          -0.6292502221798444,
          -0.6653930893895125,
          0.23844796985252587,
          0.1526908108190717,
          -0.4882637399023558,
          0.6095528940202006,
          1.7106600523326803,
          -0.6087185304180869,
          -0.14795323483741937,
          -0.9041735666641447,
          -0.2758124519817509,
          -0.6901891175196618,
          0.6644453330064052,
          0.7900367784741046,
          0.9187562121791123,
          0.8674138559764352,
          -0.2453438445025455,
          0.6793641868864831,
          -0.857948768868309,
          -0.9098665331960117,
          -0.6276702401871189,
          -1.9934794146042236,
          -0.364622445961039,
          1.441725222783407,
          0.7801273633492309,
          0.8618581629889228,
          -0.6880668392789634,
          -1.1699554311316747,
          0.4688674958261446,
          -0.3910846044592581,
          -0.9407200530603363,
          -1.5443525904104154,
          1.0384541197937691,
          -0.3226253863608884,
          0.9201172848030571,
          0.7657733729769911,
          -0.0895080157312864,
          -0.8583292937553912,
          -0.5909240948790668,
          -0.2866429338299557,
          0.3565715507880381,
          -0.8964384866866988,
          -0.5862356805821878,
          -0.9155134743418362,
          0.3015672501242637,
          0.5252427921756735,
          1.1163271687288974,
          0.14762362641226046,
          1.6270590095804507,
          -0.5035181944686434,
          -2.4300076126906753,
          -0.5269023436170583,
          1.9305638870047916,
          1.0182413139000828,
          -0.33799434650269927,
          1.046303567819808,
          1.2774037206763065,
          -0.33322567523426716,
          0.5210740638623935,
          -1.1545147289056945,
          -0.29028048645031423,
          -1.3789783825434538,
          0.12451934803869251,
          -0.06929895952401209,
          0.3449054115724372,
          -1.0596751060425036,
          1.622930397463581,
          1.2696505909551374
         ],
         "yaxis": "y8"
        },
        {
         "line": {
          "color": "rgba(128, 128, 128, 1.0)",
          "dash": "solid",
          "shape": "linear",
          "width": 1.3
         },
         "marker": {
          "size": 2,
          "symbol": "circle"
         },
         "mode": "markers",
         "name": "C",
         "text": "",
         "type": "scatter",
         "x": [
          -0.5753426879256494,
          -0.2855850025875945,
          -0.0961869464912241,
          0.6103568764767965,
          -0.4025696750478465,
          0.4374070598595347,
          0.7852380548724863,
          0.5214648823245953,
          -0.00684583591222356,
          -0.5051783000764581,
          0.6530373694023148,
          0.8290643885983005,
          -0.16326941807355744,
          1.2946551885772357,
          0.3062829613096997,
          -0.40651524703456704,
          0.3896016631461653,
          -1.138922855036025,
          -0.7578633933957807,
          1.3509314503931424,
          -0.005010025924972767,
          -0.7973280566035829,
          -0.9426397821555511,
          0.7837430673863505,
          0.21275853925610655,
          -0.4223329495826686,
          -1.260774413115214,
          0.03781882593588207,
          0.46263467519767826,
          0.5546355561998378,
          -0.4842961772526561,
          0.4618702738864327,
          -0.26539049970315043,
          0.07173654988682814,
          1.2670586248816906,
          0.48257046492794947,
          0.8606764634836559,
          0.6828244703998747,
          0.2703051628152772,
          0.0908652995232409,
          1.3407457592744865,
          0.6876439459516805,
          -1.3694094056973394,
          -0.4335211415628346,
          -1.1267120131338622,
          1.3400799055072092,
          -0.1422947461813094,
          -1.248940584041396,
          -2.124104883981563,
          -1.3019259842261062,
          1.2253863790785309,
          -1.50671466014991,
          0.07538508733247389,
          1.2494402889239615,
          0.18255827197336624,
          -1.0105509243088642,
          -1.1891302933224321,
          -0.11628475166186489,
          -0.4734418847308924,
          0.8718766160831669,
          -0.35944283707649927,
          -0.6793897450131363,
          -0.18631676258814278,
          -1.2782273458212,
          1.4977187013693063,
          1.177236002604748,
          -1.0941913024273784,
          2.2404207802414633,
          -1.7525070260970546,
          0.216729499836274,
          -0.24615959069611515,
          -0.9566272104115014,
          -1.3354612997377038,
          0.22350132903717154,
          0.9938854360185605,
          -0.678036349363896,
          -1.269837301038907,
          0.023573204636028175,
          1.1893098288366686,
          0.3945672020711424,
          0.16556190679953686,
          1.0533923683620778,
          0.7980311950587345,
          -0.4648689451877062,
          -1.1224975907209203,
          0.5905563562444988,
          0.7187909232916364,
          0.001996256304215127,
          -0.5024319634754288,
          1.8039520156480824,
          -0.21920796816159593,
          -0.08410382918341316,
          0.7263457090750816,
          1.3527961859231261,
          -1.544852980293307,
          -0.2966107732450681,
          -0.11415615694751836,
          -0.12881703002004213,
          1.2741874708953127,
          1.1393830437473285
         ],
         "xaxis": "x9",
         "y": [
          0.6114507672687999,
          -1.453118223435603,
          1.1827405880682482,
          -0.8915317989289957,
          -0.6965339089786392,
          1.3349453277892667,
          -0.012754426842266287,
          -1.8363884955952245,
          0.06320121054962571,
          -0.8054032151493444,
          -0.8680597817673879,
          0.15123933857148497,
          0.5123570213932661,
          -0.16037339958878402,
          1.2084982369733155,
          0.11675209300983791,
          -0.7352880428466906,
          -0.2791381389434401,
          -1.6768211825037311,
          0.2687358510113133,
          -0.08730828996841995,
          0.08011587984526237,
          0.5870365383920121,
          -0.45513157695040024,
          1.0477545780925943,
          -0.6122419200802369,
          0.9071051522559322,
          0.5288208716979997,
          1.7182043502896294,
          -1.037247362100533,
          1.2071706170444598,
          -0.09959896328078839,
          0.1378115413695539,
          -0.7628053068053268,
          -1.4628741580335396,
          -1.8115843574114259,
          0.48644122722049543,
          0.0812345794161359,
          1.1618829202520924,
          0.12227531103671242,
          -1.0286809844723226,
          -0.4199992929049847,
          -2.6587328254050435,
          -0.2024935070142835,
          -1.0654775595196992,
          1.7239918194244157,
          -0.88260958534823,
          1.6551781445421734,
          0.6507530317290405,
          -1.6654829806178402,
          0.9767781066008089,
          1.4101056253993747,
          -0.3795509935768535,
          0.5352685882282258,
          -0.07107715970154109,
          0.7354612283859392,
          -0.4782542749410208,
          0.2034575421519448,
          1.3429473000413061,
          0.44838858879270727,
          -1.5463440803120463,
          1.3497880948859498,
          0.14937510875119525,
          -0.8145611453142702,
          0.33798653977713,
          -1.0392925446223271,
          -1.2857261541825418,
          -0.18175222407249347,
          1.1471456825047024,
          2.302935046525213,
          -1.1653519184303127,
          0.7037332413417794,
          -0.3154171419840098,
          1.0465994577252105,
          -0.5043267981371093,
          0.3059399843978032,
          -1.0147173103491358,
          0.18734319364702906,
          1.0197870438206182,
          0.5698463723265904,
          0.847161738078466,
          -0.48838155083686113,
          -0.17571083683572822,
          -0.18323720410096794,
          1.1972873398163424,
          0.9806532259074543,
          -0.4917355934045084,
          -0.1343592196434194,
          0.2516622328478005,
          -0.27081241540746404,
          -1.0155616992979957,
          -0.0780064275372869,
          1.3613145488862313,
          -2.25481067807797,
          0.01340459400981535,
          1.034736325414299,
          -0.8796258441728192,
          -0.3292043045328106,
          -1.8624919231541441,
          1.1113931809407485
         ],
         "yaxis": "y9"
        },
        {
         "line": {
          "color": "rgba(128, 128, 128, 1.0)",
          "dash": "solid",
          "shape": "linear",
          "width": 1.3
         },
         "marker": {
          "size": 2,
          "symbol": "circle"
         },
         "mode": "markers",
         "name": "C",
         "text": "",
         "type": "scatter",
         "x": [
          -0.5580704050672908,
          -0.44923515289336513,
          -0.7168931610192598,
          0.9830134247526778,
          1.6240683385906691,
          -0.40275289981153695,
          0.6112791218876015,
          -1.2803108479829148,
          -0.05808932824151311,
          -1.684712399154241,
          0.7009441493967767,
          1.2720970110310192,
          0.3689654180086758,
          -0.10972521230236329,
          -1.8715072885797777,
          -0.41072022373609,
          -2.222846437588777,
          -1.1915850756385813,
          0.9231330164233137,
          1.8669529912034164,
          -0.290221726325987,
          -0.648720943564726,
          -0.36177078386180883,
          -0.320582285809616,
          0.034000540804830316,
          -0.22176470456543523,
          0.29525848347628325,
          -0.9460745820077947,
          -0.40068026297055254,
          0.4106897541844773,
          -0.05309064552901487,
          1.1476677464913225,
          -0.6292502221798444,
          -0.6653930893895125,
          0.23844796985252587,
          0.1526908108190717,
          -0.4882637399023558,
          0.6095528940202006,
          1.7106600523326803,
          -0.6087185304180869,
          -0.14795323483741937,
          -0.9041735666641447,
          -0.2758124519817509,
          -0.6901891175196618,
          0.6644453330064052,
          0.7900367784741046,
          0.9187562121791123,
          0.8674138559764352,
          -0.2453438445025455,
          0.6793641868864831,
          -0.857948768868309,
          -0.9098665331960117,
          -0.6276702401871189,
          -1.9934794146042236,
          -0.364622445961039,
          1.441725222783407,
          0.7801273633492309,
          0.8618581629889228,
          -0.6880668392789634,
          -1.1699554311316747,
          0.4688674958261446,
          -0.3910846044592581,
          -0.9407200530603363,
          -1.5443525904104154,
          1.0384541197937691,
          -0.3226253863608884,
          0.9201172848030571,
          0.7657733729769911,
          -0.0895080157312864,
          -0.8583292937553912,
          -0.5909240948790668,
          -0.2866429338299557,
          0.3565715507880381,
          -0.8964384866866988,
          -0.5862356805821878,
          -0.9155134743418362,
          0.3015672501242637,
          0.5252427921756735,
          1.1163271687288974,
          0.14762362641226046,
          1.6270590095804507,
          -0.5035181944686434,
          -2.4300076126906753,
          -0.5269023436170583,
          1.9305638870047916,
          1.0182413139000828,
          -0.33799434650269927,
          1.046303567819808,
          1.2774037206763065,
          -0.33322567523426716,
          0.5210740638623935,
          -1.1545147289056945,
          -0.29028048645031423,
          -1.3789783825434538,
          0.12451934803869251,
          -0.06929895952401209,
          0.3449054115724372,
          -1.0596751060425036,
          1.622930397463581,
          1.2696505909551374
         ],
         "xaxis": "x10",
         "y": [
          0.6114507672687999,
          -1.453118223435603,
          1.1827405880682482,
          -0.8915317989289957,
          -0.6965339089786392,
          1.3349453277892667,
          -0.012754426842266287,
          -1.8363884955952245,
          0.06320121054962571,
          -0.8054032151493444,
          -0.8680597817673879,
          0.15123933857148497,
          0.5123570213932661,
          -0.16037339958878402,
          1.2084982369733155,
          0.11675209300983791,
          -0.7352880428466906,
          -0.2791381389434401,
          -1.6768211825037311,
          0.2687358510113133,
          -0.08730828996841995,
          0.08011587984526237,
          0.5870365383920121,
          -0.45513157695040024,
          1.0477545780925943,
          -0.6122419200802369,
          0.9071051522559322,
          0.5288208716979997,
          1.7182043502896294,
          -1.037247362100533,
          1.2071706170444598,
          -0.09959896328078839,
          0.1378115413695539,
          -0.7628053068053268,
          -1.4628741580335396,
          -1.8115843574114259,
          0.48644122722049543,
          0.0812345794161359,
          1.1618829202520924,
          0.12227531103671242,
          -1.0286809844723226,
          -0.4199992929049847,
          -2.6587328254050435,
          -0.2024935070142835,
          -1.0654775595196992,
          1.7239918194244157,
          -0.88260958534823,
          1.6551781445421734,
          0.6507530317290405,
          -1.6654829806178402,
          0.9767781066008089,
          1.4101056253993747,
          -0.3795509935768535,
          0.5352685882282258,
          -0.07107715970154109,
          0.7354612283859392,
          -0.4782542749410208,
          0.2034575421519448,
          1.3429473000413061,
          0.44838858879270727,
          -1.5463440803120463,
          1.3497880948859498,
          0.14937510875119525,
          -0.8145611453142702,
          0.33798653977713,
          -1.0392925446223271,
          -1.2857261541825418,
          -0.18175222407249347,
          1.1471456825047024,
          2.302935046525213,
          -1.1653519184303127,
          0.7037332413417794,
          -0.3154171419840098,
          1.0465994577252105,
          -0.5043267981371093,
          0.3059399843978032,
          -1.0147173103491358,
          0.18734319364702906,
          1.0197870438206182,
          0.5698463723265904,
          0.847161738078466,
          -0.48838155083686113,
          -0.17571083683572822,
          -0.18323720410096794,
          1.1972873398163424,
          0.9806532259074543,
          -0.4917355934045084,
          -0.1343592196434194,
          0.2516622328478005,
          -0.27081241540746404,
          -1.0155616992979957,
          -0.0780064275372869,
          1.3613145488862313,
          -2.25481067807797,
          0.01340459400981535,
          1.034736325414299,
          -0.8796258441728192,
          -0.3292043045328106,
          -1.8624919231541441,
          1.1113931809407485
         ],
         "yaxis": "y10"
        },
        {
         "histfunc": "count",
         "histnorm": "",
         "marker": {
          "color": "rgba(50, 171, 96, 1.0)",
          "line": {
           "color": "#4D5663",
           "width": 1.3
          }
         },
         "name": "C",
         "nbinsx": 10,
         "opacity": 0.8,
         "orientation": "v",
         "type": "histogram",
         "x": [
          0.6114507672687999,
          -1.453118223435603,
          1.1827405880682482,
          -0.8915317989289957,
          -0.6965339089786392,
          1.3349453277892667,
          -0.012754426842266287,
          -1.8363884955952245,
          0.06320121054962571,
          -0.8054032151493444,
          -0.8680597817673879,
          0.15123933857148497,
          0.5123570213932661,
          -0.16037339958878402,
          1.2084982369733155,
          0.11675209300983791,
          -0.7352880428466906,
          -0.2791381389434401,
          -1.6768211825037311,
          0.2687358510113133,
          -0.08730828996841995,
          0.08011587984526237,
          0.5870365383920121,
          -0.45513157695040024,
          1.0477545780925943,
          -0.6122419200802369,
          0.9071051522559322,
          0.5288208716979997,
          1.7182043502896294,
          -1.037247362100533,
          1.2071706170444598,
          -0.09959896328078839,
          0.1378115413695539,
          -0.7628053068053268,
          -1.4628741580335396,
          -1.8115843574114259,
          0.48644122722049543,
          0.0812345794161359,
          1.1618829202520924,
          0.12227531103671242,
          -1.0286809844723226,
          -0.4199992929049847,
          -2.6587328254050435,
          -0.2024935070142835,
          -1.0654775595196992,
          1.7239918194244157,
          -0.88260958534823,
          1.6551781445421734,
          0.6507530317290405,
          -1.6654829806178402,
          0.9767781066008089,
          1.4101056253993747,
          -0.3795509935768535,
          0.5352685882282258,
          -0.07107715970154109,
          0.7354612283859392,
          -0.4782542749410208,
          0.2034575421519448,
          1.3429473000413061,
          0.44838858879270727,
          -1.5463440803120463,
          1.3497880948859498,
          0.14937510875119525,
          -0.8145611453142702,
          0.33798653977713,
          -1.0392925446223271,
          -1.2857261541825418,
          -0.18175222407249347,
          1.1471456825047024,
          2.302935046525213,
          -1.1653519184303127,
          0.7037332413417794,
          -0.3154171419840098,
          1.0465994577252105,
          -0.5043267981371093,
          0.3059399843978032,
          -1.0147173103491358,
          0.18734319364702906,
          1.0197870438206182,
          0.5698463723265904,
          0.847161738078466,
          -0.48838155083686113,
          -0.17571083683572822,
          -0.18323720410096794,
          1.1972873398163424,
          0.9806532259074543,
          -0.4917355934045084,
          -0.1343592196434194,
          0.2516622328478005,
          -0.27081241540746404,
          -1.0155616992979957,
          -0.0780064275372869,
          1.3613145488862313,
          -2.25481067807797,
          0.01340459400981535,
          1.034736325414299,
          -0.8796258441728192,
          -0.3292043045328106,
          -1.8624919231541441,
          1.1113931809407485
         ],
         "xaxis": "x11",
         "yaxis": "y11"
        },
        {
         "line": {
          "color": "rgba(128, 128, 128, 1.0)",
          "dash": "solid",
          "shape": "linear",
          "width": 1.3
         },
         "marker": {
          "size": 2,
          "symbol": "circle"
         },
         "mode": "markers",
         "name": "C",
         "text": "",
         "type": "scatter",
         "x": [
          -0.10163559002645582,
          -0.35572331833610316,
          0.9382633458937855,
          1.0365157491589996,
          -1.0839803625551319,
          -0.42444836826523763,
          -0.17434477607746782,
          -0.2503002221905484,
          -0.13298541736793706,
          0.8536540114980372,
          0.3743533125530419,
          -0.23019310723961844,
          -1.0877216415015756,
          0.8983283485049616,
          0.14188830675770078,
          0.22365165287099512,
          0.19462905516574389,
          0.0934357964967572,
          0.8335939366943298,
          -0.04921489580520027,
          1.0017436578627659,
          0.5833690545463516,
          0.5736816489166747,
          -0.24365567817680078,
          1.3488875965404792,
          0.1263712094019638,
          -0.06129280907415563,
          -0.2237010330630421,
          2.302720150283636,
          -1.2728458007605248,
          -0.9225462214792156,
          -0.83290355524013,
          0.9865001583080875,
          -0.47162702859165717,
          -0.2933254636166296,
          0.24279006201943384,
          0.9032069290402934,
          0.34250476808048,
          0.807733281761505,
          1.8166900939762636,
          -0.009455451023209618,
          -0.4963886136333983,
          -0.6358577813771843,
          0.3619657381092746,
          -0.8788873299867607,
          0.40135747633790053,
          0.5062831775326353,
          -0.020676125484085806,
          0.19948143467837848,
          0.34548083587927997,
          -0.5795092323886075,
          -1.7819736678538074,
          0.17033119871697325,
          -0.89129758144792,
          -0.1714054780010341,
          -1.0737098320560075,
          1.2900195720031598,
          1.2914077918767255,
          -0.24949588549061508,
          0.8369345762371713,
          1.135976461563747,
          -1.4428407997626485,
          0.9875439709348575,
          2.2035242636833,
          -0.5791487359503539,
          -2.521913338226039,
          -0.7184707278530241,
          -1.1639587985186035,
          -0.5687316557397463,
          -1.702610898906452,
          -0.12020102131074938,
          0.13080022513111286,
          -0.22034734250604682,
          -0.05716775746615135,
          0.28319930382775665,
          0.731825355886409,
          -0.32563379121427105,
          -0.0787710720033279,
          -1.3347357015730388,
          -1.6260320813219609,
          0.9013728332559842,
          -0.08563499946707838,
          -0.33884869313938376,
          -2.256272072962904,
          0.38836306652118646,
          -0.1299483070640521,
          0.835893038991054,
          0.5972407218225784,
          0.9662776762760077,
          -0.6501003773755782,
          -2.3648808383363713,
          0.6757352967860882,
          0.8668970165490616,
          -1.7444739905526931,
          0.9097302962435239,
          0.3895664821972121,
          -0.26932148950763357,
          -1.300053903639512,
          0.38751698856060934,
          -0.6130946474664536
         ],
         "xaxis": "x12",
         "y": [
          0.6114507672687999,
          -1.453118223435603,
          1.1827405880682482,
          -0.8915317989289957,
          -0.6965339089786392,
          1.3349453277892667,
          -0.012754426842266287,
          -1.8363884955952245,
          0.06320121054962571,
          -0.8054032151493444,
          -0.8680597817673879,
          0.15123933857148497,
          0.5123570213932661,
          -0.16037339958878402,
          1.2084982369733155,
          0.11675209300983791,
          -0.7352880428466906,
          -0.2791381389434401,
          -1.6768211825037311,
          0.2687358510113133,
          -0.08730828996841995,
          0.08011587984526237,
          0.5870365383920121,
          -0.45513157695040024,
          1.0477545780925943,
          -0.6122419200802369,
          0.9071051522559322,
          0.5288208716979997,
          1.7182043502896294,
          -1.037247362100533,
          1.2071706170444598,
          -0.09959896328078839,
          0.1378115413695539,
          -0.7628053068053268,
          -1.4628741580335396,
          -1.8115843574114259,
          0.48644122722049543,
          0.0812345794161359,
          1.1618829202520924,
          0.12227531103671242,
          -1.0286809844723226,
          -0.4199992929049847,
          -2.6587328254050435,
          -0.2024935070142835,
          -1.0654775595196992,
          1.7239918194244157,
          -0.88260958534823,
          1.6551781445421734,
          0.6507530317290405,
          -1.6654829806178402,
          0.9767781066008089,
          1.4101056253993747,
          -0.3795509935768535,
          0.5352685882282258,
          -0.07107715970154109,
          0.7354612283859392,
          -0.4782542749410208,
          0.2034575421519448,
          1.3429473000413061,
          0.44838858879270727,
          -1.5463440803120463,
          1.3497880948859498,
          0.14937510875119525,
          -0.8145611453142702,
          0.33798653977713,
          -1.0392925446223271,
          -1.2857261541825418,
          -0.18175222407249347,
          1.1471456825047024,
          2.302935046525213,
          -1.1653519184303127,
          0.7037332413417794,
          -0.3154171419840098,
          1.0465994577252105,
          -0.5043267981371093,
          0.3059399843978032,
          -1.0147173103491358,
          0.18734319364702906,
          1.0197870438206182,
          0.5698463723265904,
          0.847161738078466,
          -0.48838155083686113,
          -0.17571083683572822,
          -0.18323720410096794,
          1.1972873398163424,
          0.9806532259074543,
          -0.4917355934045084,
          -0.1343592196434194,
          0.2516622328478005,
          -0.27081241540746404,
          -1.0155616992979957,
          -0.0780064275372869,
          1.3613145488862313,
          -2.25481067807797,
          0.01340459400981535,
          1.034736325414299,
          -0.8796258441728192,
          -0.3292043045328106,
          -1.8624919231541441,
          1.1113931809407485
         ],
         "yaxis": "y12"
        },
        {
         "line": {
          "color": "rgba(128, 128, 128, 1.0)",
          "dash": "solid",
          "shape": "linear",
          "width": 1.3
         },
         "marker": {
          "size": 2,
          "symbol": "circle"
         },
         "mode": "markers",
         "name": "D",
         "text": "",
         "type": "scatter",
         "x": [
          -0.5753426879256494,
          -0.2855850025875945,
          -0.0961869464912241,
          0.6103568764767965,
          -0.4025696750478465,
          0.4374070598595347,
          0.7852380548724863,
          0.5214648823245953,
          -0.00684583591222356,
          -0.5051783000764581,
          0.6530373694023148,
          0.8290643885983005,
          -0.16326941807355744,
          1.2946551885772357,
          0.3062829613096997,
          -0.40651524703456704,
          0.3896016631461653,
          -1.138922855036025,
          -0.7578633933957807,
          1.3509314503931424,
          -0.005010025924972767,
          -0.7973280566035829,
          -0.9426397821555511,
          0.7837430673863505,
          0.21275853925610655,
          -0.4223329495826686,
          -1.260774413115214,
          0.03781882593588207,
          0.46263467519767826,
          0.5546355561998378,
          -0.4842961772526561,
          0.4618702738864327,
          -0.26539049970315043,
          0.07173654988682814,
          1.2670586248816906,
          0.48257046492794947,
          0.8606764634836559,
          0.6828244703998747,
          0.2703051628152772,
          0.0908652995232409,
          1.3407457592744865,
          0.6876439459516805,
          -1.3694094056973394,
          -0.4335211415628346,
          -1.1267120131338622,
          1.3400799055072092,
          -0.1422947461813094,
          -1.248940584041396,
          -2.124104883981563,
          -1.3019259842261062,
          1.2253863790785309,
          -1.50671466014991,
          0.07538508733247389,
          1.2494402889239615,
          0.18255827197336624,
          -1.0105509243088642,
          -1.1891302933224321,
          -0.11628475166186489,
          -0.4734418847308924,
          0.8718766160831669,
          -0.35944283707649927,
          -0.6793897450131363,
          -0.18631676258814278,
          -1.2782273458212,
          1.4977187013693063,
          1.177236002604748,
          -1.0941913024273784,
          2.2404207802414633,
          -1.7525070260970546,
          0.216729499836274,
          -0.24615959069611515,
          -0.9566272104115014,
          -1.3354612997377038,
          0.22350132903717154,
          0.9938854360185605,
          -0.678036349363896,
          -1.269837301038907,
          0.023573204636028175,
          1.1893098288366686,
          0.3945672020711424,
          0.16556190679953686,
          1.0533923683620778,
          0.7980311950587345,
          -0.4648689451877062,
          -1.1224975907209203,
          0.5905563562444988,
          0.7187909232916364,
          0.001996256304215127,
          -0.5024319634754288,
          1.8039520156480824,
          -0.21920796816159593,
          -0.08410382918341316,
          0.7263457090750816,
          1.3527961859231261,
          -1.544852980293307,
          -0.2966107732450681,
          -0.11415615694751836,
          -0.12881703002004213,
          1.2741874708953127,
          1.1393830437473285
         ],
         "xaxis": "x13",
         "y": [
          -0.10163559002645582,
          -0.35572331833610316,
          0.9382633458937855,
          1.0365157491589996,
          -1.0839803625551319,
          -0.42444836826523763,
          -0.17434477607746782,
          -0.2503002221905484,
          -0.13298541736793706,
          0.8536540114980372,
          0.3743533125530419,
          -0.23019310723961844,
          -1.0877216415015756,
          0.8983283485049616,
          0.14188830675770078,
          0.22365165287099512,
          0.19462905516574389,
          0.0934357964967572,
          0.8335939366943298,
          -0.04921489580520027,
          1.0017436578627659,
          0.5833690545463516,
          0.5736816489166747,
          -0.24365567817680078,
          1.3488875965404792,
          0.1263712094019638,
          -0.06129280907415563,
          -0.2237010330630421,
          2.302720150283636,
          -1.2728458007605248,
          -0.9225462214792156,
          -0.83290355524013,
          0.9865001583080875,
          -0.47162702859165717,
          -0.2933254636166296,
          0.24279006201943384,
          0.9032069290402934,
          0.34250476808048,
          0.807733281761505,
          1.8166900939762636,
          -0.009455451023209618,
          -0.4963886136333983,
          -0.6358577813771843,
          0.3619657381092746,
          -0.8788873299867607,
          0.40135747633790053,
          0.5062831775326353,
          -0.020676125484085806,
          0.19948143467837848,
          0.34548083587927997,
          -0.5795092323886075,
          -1.7819736678538074,
          0.17033119871697325,
          -0.89129758144792,
          -0.1714054780010341,
          -1.0737098320560075,
          1.2900195720031598,
          1.2914077918767255,
          -0.24949588549061508,
          0.8369345762371713,
          1.135976461563747,
          -1.4428407997626485,
          0.9875439709348575,
          2.2035242636833,
          -0.5791487359503539,
          -2.521913338226039,
          -0.7184707278530241,
          -1.1639587985186035,
          -0.5687316557397463,
          -1.702610898906452,
          -0.12020102131074938,
          0.13080022513111286,
          -0.22034734250604682,
          -0.05716775746615135,
          0.28319930382775665,
          0.731825355886409,
          -0.32563379121427105,
          -0.0787710720033279,
          -1.3347357015730388,
          -1.6260320813219609,
          0.9013728332559842,
          -0.08563499946707838,
          -0.33884869313938376,
          -2.256272072962904,
          0.38836306652118646,
          -0.1299483070640521,
          0.835893038991054,
          0.5972407218225784,
          0.9662776762760077,
          -0.6501003773755782,
          -2.3648808383363713,
          0.6757352967860882,
          0.8668970165490616,
          -1.7444739905526931,
          0.9097302962435239,
          0.3895664821972121,
          -0.26932148950763357,
          -1.300053903639512,
          0.38751698856060934,
          -0.6130946474664536
         ],
         "yaxis": "y13"
        },
        {
         "line": {
          "color": "rgba(128, 128, 128, 1.0)",
          "dash": "solid",
          "shape": "linear",
          "width": 1.3
         },
         "marker": {
          "size": 2,
          "symbol": "circle"
         },
         "mode": "markers",
         "name": "D",
         "text": "",
         "type": "scatter",
         "x": [
          -0.5580704050672908,
          -0.44923515289336513,
          -0.7168931610192598,
          0.9830134247526778,
          1.6240683385906691,
          -0.40275289981153695,
          0.6112791218876015,
          -1.2803108479829148,
          -0.05808932824151311,
          -1.684712399154241,
          0.7009441493967767,
          1.2720970110310192,
          0.3689654180086758,
          -0.10972521230236329,
          -1.8715072885797777,
          -0.41072022373609,
          -2.222846437588777,
          -1.1915850756385813,
          0.9231330164233137,
          1.8669529912034164,
          -0.290221726325987,
          -0.648720943564726,
          -0.36177078386180883,
          -0.320582285809616,
          0.034000540804830316,
          -0.22176470456543523,
          0.29525848347628325,
          -0.9460745820077947,
          -0.40068026297055254,
          0.4106897541844773,
          -0.05309064552901487,
          1.1476677464913225,
          -0.6292502221798444,
          -0.6653930893895125,
          0.23844796985252587,
          0.1526908108190717,
          -0.4882637399023558,
          0.6095528940202006,
          1.7106600523326803,
          -0.6087185304180869,
          -0.14795323483741937,
          -0.9041735666641447,
          -0.2758124519817509,
          -0.6901891175196618,
          0.6644453330064052,
          0.7900367784741046,
          0.9187562121791123,
          0.8674138559764352,
          -0.2453438445025455,
          0.6793641868864831,
          -0.857948768868309,
          -0.9098665331960117,
          -0.6276702401871189,
          -1.9934794146042236,
          -0.364622445961039,
          1.441725222783407,
          0.7801273633492309,
          0.8618581629889228,
          -0.6880668392789634,
          -1.1699554311316747,
          0.4688674958261446,
          -0.3910846044592581,
          -0.9407200530603363,
          -1.5443525904104154,
          1.0384541197937691,
          -0.3226253863608884,
          0.9201172848030571,
          0.7657733729769911,
          -0.0895080157312864,
          -0.8583292937553912,
          -0.5909240948790668,
          -0.2866429338299557,
          0.3565715507880381,
          -0.8964384866866988,
          -0.5862356805821878,
          -0.9155134743418362,
          0.3015672501242637,
          0.5252427921756735,
          1.1163271687288974,
          0.14762362641226046,
          1.6270590095804507,
          -0.5035181944686434,
          -2.4300076126906753,
          -0.5269023436170583,
          1.9305638870047916,
          1.0182413139000828,
          -0.33799434650269927,
          1.046303567819808,
          1.2774037206763065,
          -0.33322567523426716,
          0.5210740638623935,
          -1.1545147289056945,
          -0.29028048645031423,
          -1.3789783825434538,
          0.12451934803869251,
          -0.06929895952401209,
          0.3449054115724372,
          -1.0596751060425036,
          1.622930397463581,
          1.2696505909551374
         ],
         "xaxis": "x14",
         "y": [
          -0.10163559002645582,
          -0.35572331833610316,
          0.9382633458937855,
          1.0365157491589996,
          -1.0839803625551319,
          -0.42444836826523763,
          -0.17434477607746782,
          -0.2503002221905484,
          -0.13298541736793706,
          0.8536540114980372,
          0.3743533125530419,
          -0.23019310723961844,
          -1.0877216415015756,
          0.8983283485049616,
          0.14188830675770078,
          0.22365165287099512,
          0.19462905516574389,
          0.0934357964967572,
          0.8335939366943298,
          -0.04921489580520027,
          1.0017436578627659,
          0.5833690545463516,
          0.5736816489166747,
          -0.24365567817680078,
          1.3488875965404792,
          0.1263712094019638,
          -0.06129280907415563,
          -0.2237010330630421,
          2.302720150283636,
          -1.2728458007605248,
          -0.9225462214792156,
          -0.83290355524013,
          0.9865001583080875,
          -0.47162702859165717,
          -0.2933254636166296,
          0.24279006201943384,
          0.9032069290402934,
          0.34250476808048,
          0.807733281761505,
          1.8166900939762636,
          -0.009455451023209618,
          -0.4963886136333983,
          -0.6358577813771843,
          0.3619657381092746,
          -0.8788873299867607,
          0.40135747633790053,
          0.5062831775326353,
          -0.020676125484085806,
          0.19948143467837848,
          0.34548083587927997,
          -0.5795092323886075,
          -1.7819736678538074,
          0.17033119871697325,
          -0.89129758144792,
          -0.1714054780010341,
          -1.0737098320560075,
          1.2900195720031598,
          1.2914077918767255,
          -0.24949588549061508,
          0.8369345762371713,
          1.135976461563747,
          -1.4428407997626485,
          0.9875439709348575,
          2.2035242636833,
          -0.5791487359503539,
          -2.521913338226039,
          -0.7184707278530241,
          -1.1639587985186035,
          -0.5687316557397463,
          -1.702610898906452,
          -0.12020102131074938,
          0.13080022513111286,
          -0.22034734250604682,
          -0.05716775746615135,
          0.28319930382775665,
          0.731825355886409,
          -0.32563379121427105,
          -0.0787710720033279,
          -1.3347357015730388,
          -1.6260320813219609,
          0.9013728332559842,
          -0.08563499946707838,
          -0.33884869313938376,
          -2.256272072962904,
          0.38836306652118646,
          -0.1299483070640521,
          0.835893038991054,
          0.5972407218225784,
          0.9662776762760077,
          -0.6501003773755782,
          -2.3648808383363713,
          0.6757352967860882,
          0.8668970165490616,
          -1.7444739905526931,
          0.9097302962435239,
          0.3895664821972121,
          -0.26932148950763357,
          -1.300053903639512,
          0.38751698856060934,
          -0.6130946474664536
         ],
         "yaxis": "y14"
        },
        {
         "line": {
          "color": "rgba(128, 128, 128, 1.0)",
          "dash": "solid",
          "shape": "linear",
          "width": 1.3
         },
         "marker": {
          "size": 2,
          "symbol": "circle"
         },
         "mode": "markers",
         "name": "D",
         "text": "",
         "type": "scatter",
         "x": [
          0.6114507672687999,
          -1.453118223435603,
          1.1827405880682482,
          -0.8915317989289957,
          -0.6965339089786392,
          1.3349453277892667,
          -0.012754426842266287,
          -1.8363884955952245,
          0.06320121054962571,
          -0.8054032151493444,
          -0.8680597817673879,
          0.15123933857148497,
          0.5123570213932661,
          -0.16037339958878402,
          1.2084982369733155,
          0.11675209300983791,
          -0.7352880428466906,
          -0.2791381389434401,
          -1.6768211825037311,
          0.2687358510113133,
          -0.08730828996841995,
          0.08011587984526237,
          0.5870365383920121,
          -0.45513157695040024,
          1.0477545780925943,
          -0.6122419200802369,
          0.9071051522559322,
          0.5288208716979997,
          1.7182043502896294,
          -1.037247362100533,
          1.2071706170444598,
          -0.09959896328078839,
          0.1378115413695539,
          -0.7628053068053268,
          -1.4628741580335396,
          -1.8115843574114259,
          0.48644122722049543,
          0.0812345794161359,
          1.1618829202520924,
          0.12227531103671242,
          -1.0286809844723226,
          -0.4199992929049847,
          -2.6587328254050435,
          -0.2024935070142835,
          -1.0654775595196992,
          1.7239918194244157,
          -0.88260958534823,
          1.6551781445421734,
          0.6507530317290405,
          -1.6654829806178402,
          0.9767781066008089,
          1.4101056253993747,
          -0.3795509935768535,
          0.5352685882282258,
          -0.07107715970154109,
          0.7354612283859392,
          -0.4782542749410208,
          0.2034575421519448,
          1.3429473000413061,
          0.44838858879270727,
          -1.5463440803120463,
          1.3497880948859498,
          0.14937510875119525,
          -0.8145611453142702,
          0.33798653977713,
          -1.0392925446223271,
          -1.2857261541825418,
          -0.18175222407249347,
          1.1471456825047024,
          2.302935046525213,
          -1.1653519184303127,
          0.7037332413417794,
          -0.3154171419840098,
          1.0465994577252105,
          -0.5043267981371093,
          0.3059399843978032,
          -1.0147173103491358,
          0.18734319364702906,
          1.0197870438206182,
          0.5698463723265904,
          0.847161738078466,
          -0.48838155083686113,
          -0.17571083683572822,
          -0.18323720410096794,
          1.1972873398163424,
          0.9806532259074543,
          -0.4917355934045084,
          -0.1343592196434194,
          0.2516622328478005,
          -0.27081241540746404,
          -1.0155616992979957,
          -0.0780064275372869,
          1.3613145488862313,
          -2.25481067807797,
          0.01340459400981535,
          1.034736325414299,
          -0.8796258441728192,
          -0.3292043045328106,
          -1.8624919231541441,
          1.1113931809407485
         ],
         "xaxis": "x15",
         "y": [
          -0.10163559002645582,
          -0.35572331833610316,
          0.9382633458937855,
          1.0365157491589996,
          -1.0839803625551319,
          -0.42444836826523763,
          -0.17434477607746782,
          -0.2503002221905484,
          -0.13298541736793706,
          0.8536540114980372,
          0.3743533125530419,
          -0.23019310723961844,
          -1.0877216415015756,
          0.8983283485049616,
          0.14188830675770078,
          0.22365165287099512,
          0.19462905516574389,
          0.0934357964967572,
          0.8335939366943298,
          -0.04921489580520027,
          1.0017436578627659,
          0.5833690545463516,
          0.5736816489166747,
          -0.24365567817680078,
          1.3488875965404792,
          0.1263712094019638,
          -0.06129280907415563,
          -0.2237010330630421,
          2.302720150283636,
          -1.2728458007605248,
          -0.9225462214792156,
          -0.83290355524013,
          0.9865001583080875,
          -0.47162702859165717,
          -0.2933254636166296,
          0.24279006201943384,
          0.9032069290402934,
          0.34250476808048,
          0.807733281761505,
          1.8166900939762636,
          -0.009455451023209618,
          -0.4963886136333983,
          -0.6358577813771843,
          0.3619657381092746,
          -0.8788873299867607,
          0.40135747633790053,
          0.5062831775326353,
          -0.020676125484085806,
          0.19948143467837848,
          0.34548083587927997,
          -0.5795092323886075,
          -1.7819736678538074,
          0.17033119871697325,
          -0.89129758144792,
          -0.1714054780010341,
          -1.0737098320560075,
          1.2900195720031598,
          1.2914077918767255,
          -0.24949588549061508,
          0.8369345762371713,
          1.135976461563747,
          -1.4428407997626485,
          0.9875439709348575,
          2.2035242636833,
          -0.5791487359503539,
          -2.521913338226039,
          -0.7184707278530241,
          -1.1639587985186035,
          -0.5687316557397463,
          -1.702610898906452,
          -0.12020102131074938,
          0.13080022513111286,
          -0.22034734250604682,
          -0.05716775746615135,
          0.28319930382775665,
          0.731825355886409,
          -0.32563379121427105,
          -0.0787710720033279,
          -1.3347357015730388,
          -1.6260320813219609,
          0.9013728332559842,
          -0.08563499946707838,
          -0.33884869313938376,
          -2.256272072962904,
          0.38836306652118646,
          -0.1299483070640521,
          0.835893038991054,
          0.5972407218225784,
          0.9662776762760077,
          -0.6501003773755782,
          -2.3648808383363713,
          0.6757352967860882,
          0.8668970165490616,
          -1.7444739905526931,
          0.9097302962435239,
          0.3895664821972121,
          -0.26932148950763357,
          -1.300053903639512,
          0.38751698856060934,
          -0.6130946474664536
         ],
         "yaxis": "y15"
        },
        {
         "histfunc": "count",
         "histnorm": "",
         "marker": {
          "color": "rgba(128, 0, 128, 1.0)",
          "line": {
           "color": "#4D5663",
           "width": 1.3
          }
         },
         "name": "D",
         "nbinsx": 10,
         "opacity": 0.8,
         "orientation": "v",
         "type": "histogram",
         "x": [
          -0.10163559002645582,
          -0.35572331833610316,
          0.9382633458937855,
          1.0365157491589996,
          -1.0839803625551319,
          -0.42444836826523763,
          -0.17434477607746782,
          -0.2503002221905484,
          -0.13298541736793706,
          0.8536540114980372,
          0.3743533125530419,
          -0.23019310723961844,
          -1.0877216415015756,
          0.8983283485049616,
          0.14188830675770078,
          0.22365165287099512,
          0.19462905516574389,
          0.0934357964967572,
          0.8335939366943298,
          -0.04921489580520027,
          1.0017436578627659,
          0.5833690545463516,
          0.5736816489166747,
          -0.24365567817680078,
          1.3488875965404792,
          0.1263712094019638,
          -0.06129280907415563,
          -0.2237010330630421,
          2.302720150283636,
          -1.2728458007605248,
          -0.9225462214792156,
          -0.83290355524013,
          0.9865001583080875,
          -0.47162702859165717,
          -0.2933254636166296,
          0.24279006201943384,
          0.9032069290402934,
          0.34250476808048,
          0.807733281761505,
          1.8166900939762636,
          -0.009455451023209618,
          -0.4963886136333983,
          -0.6358577813771843,
          0.3619657381092746,
          -0.8788873299867607,
          0.40135747633790053,
          0.5062831775326353,
          -0.020676125484085806,
          0.19948143467837848,
          0.34548083587927997,
          -0.5795092323886075,
          -1.7819736678538074,
          0.17033119871697325,
          -0.89129758144792,
          -0.1714054780010341,
          -1.0737098320560075,
          1.2900195720031598,
          1.2914077918767255,
          -0.24949588549061508,
          0.8369345762371713,
          1.135976461563747,
          -1.4428407997626485,
          0.9875439709348575,
          2.2035242636833,
          -0.5791487359503539,
          -2.521913338226039,
          -0.7184707278530241,
          -1.1639587985186035,
          -0.5687316557397463,
          -1.702610898906452,
          -0.12020102131074938,
          0.13080022513111286,
          -0.22034734250604682,
          -0.05716775746615135,
          0.28319930382775665,
          0.731825355886409,
          -0.32563379121427105,
          -0.0787710720033279,
          -1.3347357015730388,
          -1.6260320813219609,
          0.9013728332559842,
          -0.08563499946707838,
          -0.33884869313938376,
          -2.256272072962904,
          0.38836306652118646,
          -0.1299483070640521,
          0.835893038991054,
          0.5972407218225784,
          0.9662776762760077,
          -0.6501003773755782,
          -2.3648808383363713,
          0.6757352967860882,
          0.8668970165490616,
          -1.7444739905526931,
          0.9097302962435239,
          0.3895664821972121,
          -0.26932148950763357,
          -1.300053903639512,
          0.38751698856060934,
          -0.6130946474664536
         ],
         "xaxis": "x16",
         "yaxis": "y16"
        }
       ],
       "layout": {
        "bargap": 0.02,
        "legend": {
         "bgcolor": "#F5F6F9",
         "font": {
          "color": "#4D5663"
         }
        },
        "paper_bgcolor": "#F5F6F9",
        "plot_bgcolor": "#F5F6F9",
        "showlegend": false,
        "template": {
         "data": {
          "bar": [
           {
            "error_x": {
             "color": "#2a3f5f"
            },
            "error_y": {
             "color": "#2a3f5f"
            },
            "marker": {
             "line": {
              "color": "#E5ECF6",
              "width": 0.5
             },
             "pattern": {
              "fillmode": "overlay",
              "size": 10,
              "solidity": 0.2
             }
            },
            "type": "bar"
           }
          ],
          "barpolar": [
           {
            "marker": {
             "line": {
              "color": "#E5ECF6",
              "width": 0.5
             },
             "pattern": {
              "fillmode": "overlay",
              "size": 10,
              "solidity": 0.2
             }
            },
            "type": "barpolar"
           }
          ],
          "carpet": [
           {
            "aaxis": {
             "endlinecolor": "#2a3f5f",
             "gridcolor": "white",
             "linecolor": "white",
             "minorgridcolor": "white",
             "startlinecolor": "#2a3f5f"
            },
            "baxis": {
             "endlinecolor": "#2a3f5f",
             "gridcolor": "white",
             "linecolor": "white",
             "minorgridcolor": "white",
             "startlinecolor": "#2a3f5f"
            },
            "type": "carpet"
           }
          ],
          "choropleth": [
           {
            "colorbar": {
             "outlinewidth": 0,
             "ticks": ""
            },
            "type": "choropleth"
           }
          ],
          "contour": [
           {
            "colorbar": {
             "outlinewidth": 0,
             "ticks": ""
            },
            "colorscale": [
             [
              0,
              "#0d0887"
             ],
             [
              0.1111111111111111,
              "#46039f"
             ],
             [
              0.2222222222222222,
              "#7201a8"
             ],
             [
              0.3333333333333333,
              "#9c179e"
             ],
             [
              0.4444444444444444,
              "#bd3786"
             ],
             [
              0.5555555555555556,
              "#d8576b"
             ],
             [
              0.6666666666666666,
              "#ed7953"
             ],
             [
              0.7777777777777778,
              "#fb9f3a"
             ],
             [
              0.8888888888888888,
              "#fdca26"
             ],
             [
              1,
              "#f0f921"
             ]
            ],
            "type": "contour"
           }
          ],
          "contourcarpet": [
           {
            "colorbar": {
             "outlinewidth": 0,
             "ticks": ""
            },
            "type": "contourcarpet"
           }
          ],
          "heatmap": [
           {
            "colorbar": {
             "outlinewidth": 0,
             "ticks": ""
            },
            "colorscale": [
             [
              0,
              "#0d0887"
             ],
             [
              0.1111111111111111,
              "#46039f"
             ],
             [
              0.2222222222222222,
              "#7201a8"
             ],
             [
              0.3333333333333333,
              "#9c179e"
             ],
             [
              0.4444444444444444,
              "#bd3786"
             ],
             [
              0.5555555555555556,
              "#d8576b"
             ],
             [
              0.6666666666666666,
              "#ed7953"
             ],
             [
              0.7777777777777778,
              "#fb9f3a"
             ],
             [
              0.8888888888888888,
              "#fdca26"
             ],
             [
              1,
              "#f0f921"
             ]
            ],
            "type": "heatmap"
           }
          ],
          "heatmapgl": [
           {
            "colorbar": {
             "outlinewidth": 0,
             "ticks": ""
            },
            "colorscale": [
             [
              0,
              "#0d0887"
             ],
             [
              0.1111111111111111,
              "#46039f"
             ],
             [
              0.2222222222222222,
              "#7201a8"
             ],
             [
              0.3333333333333333,
              "#9c179e"
             ],
             [
              0.4444444444444444,
              "#bd3786"
             ],
             [
              0.5555555555555556,
              "#d8576b"
             ],
             [
              0.6666666666666666,
              "#ed7953"
             ],
             [
              0.7777777777777778,
              "#fb9f3a"
             ],
             [
              0.8888888888888888,
              "#fdca26"
             ],
             [
              1,
              "#f0f921"
             ]
            ],
            "type": "heatmapgl"
           }
          ],
          "histogram": [
           {
            "marker": {
             "pattern": {
              "fillmode": "overlay",
              "size": 10,
              "solidity": 0.2
             }
            },
            "type": "histogram"
           }
          ],
          "histogram2d": [
           {
            "colorbar": {
             "outlinewidth": 0,
             "ticks": ""
            },
            "colorscale": [
             [
              0,
              "#0d0887"
             ],
             [
              0.1111111111111111,
              "#46039f"
             ],
             [
              0.2222222222222222,
              "#7201a8"
             ],
             [
              0.3333333333333333,
              "#9c179e"
             ],
             [
              0.4444444444444444,
              "#bd3786"
             ],
             [
              0.5555555555555556,
              "#d8576b"
             ],
             [
              0.6666666666666666,
              "#ed7953"
             ],
             [
              0.7777777777777778,
              "#fb9f3a"
             ],
             [
              0.8888888888888888,
              "#fdca26"
             ],
             [
              1,
              "#f0f921"
             ]
            ],
            "type": "histogram2d"
           }
          ],
          "histogram2dcontour": [
           {
            "colorbar": {
             "outlinewidth": 0,
             "ticks": ""
            },
            "colorscale": [
             [
              0,
              "#0d0887"
             ],
             [
              0.1111111111111111,
              "#46039f"
             ],
             [
              0.2222222222222222,
              "#7201a8"
             ],
             [
              0.3333333333333333,
              "#9c179e"
             ],
             [
              0.4444444444444444,
              "#bd3786"
             ],
             [
              0.5555555555555556,
              "#d8576b"
             ],
             [
              0.6666666666666666,
              "#ed7953"
             ],
             [
              0.7777777777777778,
              "#fb9f3a"
             ],
             [
              0.8888888888888888,
              "#fdca26"
             ],
             [
              1,
              "#f0f921"
             ]
            ],
            "type": "histogram2dcontour"
           }
          ],
          "mesh3d": [
           {
            "colorbar": {
             "outlinewidth": 0,
             "ticks": ""
            },
            "type": "mesh3d"
           }
          ],
          "parcoords": [
           {
            "line": {
             "colorbar": {
              "outlinewidth": 0,
              "ticks": ""
             }
            },
            "type": "parcoords"
           }
          ],
          "pie": [
           {
            "automargin": true,
            "type": "pie"
           }
          ],
          "scatter": [
           {
            "fillpattern": {
             "fillmode": "overlay",
             "size": 10,
             "solidity": 0.2
            },
            "type": "scatter"
           }
          ],
          "scatter3d": [
           {
            "line": {
             "colorbar": {
              "outlinewidth": 0,
              "ticks": ""
             }
            },
            "marker": {
             "colorbar": {
              "outlinewidth": 0,
              "ticks": ""
             }
            },
            "type": "scatter3d"
           }
          ],
          "scattercarpet": [
           {
            "marker": {
             "colorbar": {
              "outlinewidth": 0,
              "ticks": ""
             }
            },
            "type": "scattercarpet"
           }
          ],
          "scattergeo": [
           {
            "marker": {
             "colorbar": {
              "outlinewidth": 0,
              "ticks": ""
             }
            },
            "type": "scattergeo"
           }
          ],
          "scattergl": [
           {
            "marker": {
             "colorbar": {
              "outlinewidth": 0,
              "ticks": ""
             }
            },
            "type": "scattergl"
           }
          ],
          "scattermapbox": [
           {
            "marker": {
             "colorbar": {
              "outlinewidth": 0,
              "ticks": ""
             }
            },
            "type": "scattermapbox"
           }
          ],
          "scatterpolar": [
           {
            "marker": {
             "colorbar": {
              "outlinewidth": 0,
              "ticks": ""
             }
            },
            "type": "scatterpolar"
           }
          ],
          "scatterpolargl": [
           {
            "marker": {
             "colorbar": {
              "outlinewidth": 0,
              "ticks": ""
             }
            },
            "type": "scatterpolargl"
           }
          ],
          "scatterternary": [
           {
            "marker": {
             "colorbar": {
              "outlinewidth": 0,
              "ticks": ""
             }
            },
            "type": "scatterternary"
           }
          ],
          "surface": [
           {
            "colorbar": {
             "outlinewidth": 0,
             "ticks": ""
            },
            "colorscale": [
             [
              0,
              "#0d0887"
             ],
             [
              0.1111111111111111,
              "#46039f"
             ],
             [
              0.2222222222222222,
              "#7201a8"
             ],
             [
              0.3333333333333333,
              "#9c179e"
             ],
             [
              0.4444444444444444,
              "#bd3786"
             ],
             [
              0.5555555555555556,
              "#d8576b"
             ],
             [
              0.6666666666666666,
              "#ed7953"
             ],
             [
              0.7777777777777778,
              "#fb9f3a"
             ],
             [
              0.8888888888888888,
              "#fdca26"
             ],
             [
              1,
              "#f0f921"
             ]
            ],
            "type": "surface"
           }
          ],
          "table": [
           {
            "cells": {
             "fill": {
              "color": "#EBF0F8"
             },
             "line": {
              "color": "white"
             }
            },
            "header": {
             "fill": {
              "color": "#C8D4E3"
             },
             "line": {
              "color": "white"
             }
            },
            "type": "table"
           }
          ]
         },
         "layout": {
          "annotationdefaults": {
           "arrowcolor": "#2a3f5f",
           "arrowhead": 0,
           "arrowwidth": 1
          },
          "autotypenumbers": "strict",
          "coloraxis": {
           "colorbar": {
            "outlinewidth": 0,
            "ticks": ""
           }
          },
          "colorscale": {
           "diverging": [
            [
             0,
             "#8e0152"
            ],
            [
             0.1,
             "#c51b7d"
            ],
            [
             0.2,
             "#de77ae"
            ],
            [
             0.3,
             "#f1b6da"
            ],
            [
             0.4,
             "#fde0ef"
            ],
            [
             0.5,
             "#f7f7f7"
            ],
            [
             0.6,
             "#e6f5d0"
            ],
            [
             0.7,
             "#b8e186"
            ],
            [
             0.8,
             "#7fbc41"
            ],
            [
             0.9,
             "#4d9221"
            ],
            [
             1,
             "#276419"
            ]
           ],
           "sequential": [
            [
             0,
             "#0d0887"
            ],
            [
             0.1111111111111111,
             "#46039f"
            ],
            [
             0.2222222222222222,
             "#7201a8"
            ],
            [
             0.3333333333333333,
             "#9c179e"
            ],
            [
             0.4444444444444444,
             "#bd3786"
            ],
            [
             0.5555555555555556,
             "#d8576b"
            ],
            [
             0.6666666666666666,
             "#ed7953"
            ],
            [
             0.7777777777777778,
             "#fb9f3a"
            ],
            [
             0.8888888888888888,
             "#fdca26"
            ],
            [
             1,
             "#f0f921"
            ]
           ],
           "sequentialminus": [
            [
             0,
             "#0d0887"
            ],
            [
             0.1111111111111111,
             "#46039f"
            ],
            [
             0.2222222222222222,
             "#7201a8"
            ],
            [
             0.3333333333333333,
             "#9c179e"
            ],
            [
             0.4444444444444444,
             "#bd3786"
            ],
            [
             0.5555555555555556,
             "#d8576b"
            ],
            [
             0.6666666666666666,
             "#ed7953"
            ],
            [
             0.7777777777777778,
             "#fb9f3a"
            ],
            [
             0.8888888888888888,
             "#fdca26"
            ],
            [
             1,
             "#f0f921"
            ]
           ]
          },
          "colorway": [
           "#636efa",
           "#EF553B",
           "#00cc96",
           "#ab63fa",
           "#FFA15A",
           "#19d3f3",
           "#FF6692",
           "#B6E880",
           "#FF97FF",
           "#FECB52"
          ],
          "font": {
           "color": "#2a3f5f"
          },
          "geo": {
           "bgcolor": "white",
           "lakecolor": "white",
           "landcolor": "#E5ECF6",
           "showlakes": true,
           "showland": true,
           "subunitcolor": "white"
          },
          "hoverlabel": {
           "align": "left"
          },
          "hovermode": "closest",
          "mapbox": {
           "style": "light"
          },
          "paper_bgcolor": "white",
          "plot_bgcolor": "#E5ECF6",
          "polar": {
           "angularaxis": {
            "gridcolor": "white",
            "linecolor": "white",
            "ticks": ""
           },
           "bgcolor": "#E5ECF6",
           "radialaxis": {
            "gridcolor": "white",
            "linecolor": "white",
            "ticks": ""
           }
          },
          "scene": {
           "xaxis": {
            "backgroundcolor": "#E5ECF6",
            "gridcolor": "white",
            "gridwidth": 2,
            "linecolor": "white",
            "showbackground": true,
            "ticks": "",
            "zerolinecolor": "white"
           },
           "yaxis": {
            "backgroundcolor": "#E5ECF6",
            "gridcolor": "white",
            "gridwidth": 2,
            "linecolor": "white",
            "showbackground": true,
            "ticks": "",
            "zerolinecolor": "white"
           },
           "zaxis": {
            "backgroundcolor": "#E5ECF6",
            "gridcolor": "white",
            "gridwidth": 2,
            "linecolor": "white",
            "showbackground": true,
            "ticks": "",
            "zerolinecolor": "white"
           }
          },
          "shapedefaults": {
           "line": {
            "color": "#2a3f5f"
           }
          },
          "ternary": {
           "aaxis": {
            "gridcolor": "white",
            "linecolor": "white",
            "ticks": ""
           },
           "baxis": {
            "gridcolor": "white",
            "linecolor": "white",
            "ticks": ""
           },
           "bgcolor": "#E5ECF6",
           "caxis": {
            "gridcolor": "white",
            "linecolor": "white",
            "ticks": ""
           }
          },
          "title": {
           "x": 0.05
          },
          "xaxis": {
           "automargin": true,
           "gridcolor": "white",
           "linecolor": "white",
           "ticks": "",
           "title": {
            "standoff": 15
           },
           "zerolinecolor": "white",
           "zerolinewidth": 2
          },
          "yaxis": {
           "automargin": true,
           "gridcolor": "white",
           "linecolor": "white",
           "ticks": "",
           "title": {
            "standoff": 15
           },
           "zerolinecolor": "white",
           "zerolinewidth": 2
          }
         }
        },
        "title": {
         "font": {
          "color": "#4D5663"
         }
        },
        "xaxis": {
         "anchor": "y",
         "domain": [
          0,
          0.2125
         ],
         "gridcolor": "#E1E5ED",
         "showgrid": false,
         "tickfont": {
          "color": "#4D5663"
         },
         "title": {
          "font": {
           "color": "#4D5663"
          },
          "text": ""
         },
         "zerolinecolor": "#E1E5ED"
        },
        "xaxis10": {
         "anchor": "y10",
         "domain": [
          0.2625,
          0.475
         ],
         "gridcolor": "#E1E5ED",
         "showgrid": false,
         "tickfont": {
          "color": "#4D5663"
         },
         "title": {
          "font": {
           "color": "#4D5663"
          },
          "text": ""
         },
         "zerolinecolor": "#E1E5ED"
        },
        "xaxis11": {
         "anchor": "y11",
         "domain": [
          0.525,
          0.7375
         ],
         "gridcolor": "#E1E5ED",
         "showgrid": false,
         "tickfont": {
          "color": "#4D5663"
         },
         "title": {
          "font": {
           "color": "#4D5663"
          },
          "text": ""
         },
         "zerolinecolor": "#E1E5ED"
        },
        "xaxis12": {
         "anchor": "y12",
         "domain": [
          0.7875,
          1
         ],
         "gridcolor": "#E1E5ED",
         "showgrid": false,
         "tickfont": {
          "color": "#4D5663"
         },
         "title": {
          "font": {
           "color": "#4D5663"
          },
          "text": ""
         },
         "zerolinecolor": "#E1E5ED"
        },
        "xaxis13": {
         "anchor": "y13",
         "domain": [
          0,
          0.2125
         ],
         "gridcolor": "#E1E5ED",
         "showgrid": false,
         "tickfont": {
          "color": "#4D5663"
         },
         "title": {
          "font": {
           "color": "#4D5663"
          },
          "text": ""
         },
         "zerolinecolor": "#E1E5ED"
        },
        "xaxis14": {
         "anchor": "y14",
         "domain": [
          0.2625,
          0.475
         ],
         "gridcolor": "#E1E5ED",
         "showgrid": false,
         "tickfont": {
          "color": "#4D5663"
         },
         "title": {
          "font": {
           "color": "#4D5663"
          },
          "text": ""
         },
         "zerolinecolor": "#E1E5ED"
        },
        "xaxis15": {
         "anchor": "y15",
         "domain": [
          0.525,
          0.7375
         ],
         "gridcolor": "#E1E5ED",
         "showgrid": false,
         "tickfont": {
          "color": "#4D5663"
         },
         "title": {
          "font": {
           "color": "#4D5663"
          },
          "text": ""
         },
         "zerolinecolor": "#E1E5ED"
        },
        "xaxis16": {
         "anchor": "y16",
         "domain": [
          0.7875,
          1
         ],
         "gridcolor": "#E1E5ED",
         "showgrid": false,
         "tickfont": {
          "color": "#4D5663"
         },
         "title": {
          "font": {
           "color": "#4D5663"
          },
          "text": ""
         },
         "zerolinecolor": "#E1E5ED"
        },
        "xaxis2": {
         "anchor": "y2",
         "domain": [
          0.2625,
          0.475
         ],
         "gridcolor": "#E1E5ED",
         "showgrid": false,
         "tickfont": {
          "color": "#4D5663"
         },
         "title": {
          "font": {
           "color": "#4D5663"
          },
          "text": ""
         },
         "zerolinecolor": "#E1E5ED"
        },
        "xaxis3": {
         "anchor": "y3",
         "domain": [
          0.525,
          0.7375
         ],
         "gridcolor": "#E1E5ED",
         "showgrid": false,
         "tickfont": {
          "color": "#4D5663"
         },
         "title": {
          "font": {
           "color": "#4D5663"
          },
          "text": ""
         },
         "zerolinecolor": "#E1E5ED"
        },
        "xaxis4": {
         "anchor": "y4",
         "domain": [
          0.7875,
          1
         ],
         "gridcolor": "#E1E5ED",
         "showgrid": false,
         "tickfont": {
          "color": "#4D5663"
         },
         "title": {
          "font": {
           "color": "#4D5663"
          },
          "text": ""
         },
         "zerolinecolor": "#E1E5ED"
        },
        "xaxis5": {
         "anchor": "y5",
         "domain": [
          0,
          0.2125
         ],
         "gridcolor": "#E1E5ED",
         "showgrid": false,
         "tickfont": {
          "color": "#4D5663"
         },
         "title": {
          "font": {
           "color": "#4D5663"
          },
          "text": ""
         },
         "zerolinecolor": "#E1E5ED"
        },
        "xaxis6": {
         "anchor": "y6",
         "domain": [
          0.2625,
          0.475
         ],
         "gridcolor": "#E1E5ED",
         "showgrid": false,
         "tickfont": {
          "color": "#4D5663"
         },
         "title": {
          "font": {
           "color": "#4D5663"
          },
          "text": ""
         },
         "zerolinecolor": "#E1E5ED"
        },
        "xaxis7": {
         "anchor": "y7",
         "domain": [
          0.525,
          0.7375
         ],
         "gridcolor": "#E1E5ED",
         "showgrid": false,
         "tickfont": {
          "color": "#4D5663"
         },
         "title": {
          "font": {
           "color": "#4D5663"
          },
          "text": ""
         },
         "zerolinecolor": "#E1E5ED"
        },
        "xaxis8": {
         "anchor": "y8",
         "domain": [
          0.7875,
          1
         ],
         "gridcolor": "#E1E5ED",
         "showgrid": false,
         "tickfont": {
          "color": "#4D5663"
         },
         "title": {
          "font": {
           "color": "#4D5663"
          },
          "text": ""
         },
         "zerolinecolor": "#E1E5ED"
        },
        "xaxis9": {
         "anchor": "y9",
         "domain": [
          0,
          0.2125
         ],
         "gridcolor": "#E1E5ED",
         "showgrid": false,
         "tickfont": {
          "color": "#4D5663"
         },
         "title": {
          "font": {
           "color": "#4D5663"
          },
          "text": ""
         },
         "zerolinecolor": "#E1E5ED"
        },
        "yaxis": {
         "anchor": "x",
         "domain": [
          0.8025,
          1
         ],
         "gridcolor": "#E1E5ED",
         "showgrid": false,
         "tickfont": {
          "color": "#4D5663"
         },
         "title": {
          "font": {
           "color": "#4D5663"
          },
          "text": ""
         },
         "zerolinecolor": "#E1E5ED"
        },
        "yaxis10": {
         "anchor": "x10",
         "domain": [
          0.2675,
          0.465
         ],
         "gridcolor": "#E1E5ED",
         "showgrid": false,
         "tickfont": {
          "color": "#4D5663"
         },
         "title": {
          "font": {
           "color": "#4D5663"
          },
          "text": ""
         },
         "zerolinecolor": "#E1E5ED"
        },
        "yaxis11": {
         "anchor": "x11",
         "domain": [
          0.2675,
          0.465
         ],
         "gridcolor": "#E1E5ED",
         "showgrid": false,
         "tickfont": {
          "color": "#4D5663"
         },
         "title": {
          "font": {
           "color": "#4D5663"
          },
          "text": ""
         },
         "zerolinecolor": "#E1E5ED"
        },
        "yaxis12": {
         "anchor": "x12",
         "domain": [
          0.2675,
          0.465
         ],
         "gridcolor": "#E1E5ED",
         "showgrid": false,
         "tickfont": {
          "color": "#4D5663"
         },
         "title": {
          "font": {
           "color": "#4D5663"
          },
          "text": ""
         },
         "zerolinecolor": "#E1E5ED"
        },
        "yaxis13": {
         "anchor": "x13",
         "domain": [
          0,
          0.1975
         ],
         "gridcolor": "#E1E5ED",
         "showgrid": false,
         "tickfont": {
          "color": "#4D5663"
         },
         "title": {
          "font": {
           "color": "#4D5663"
          },
          "text": ""
         },
         "zerolinecolor": "#E1E5ED"
        },
        "yaxis14": {
         "anchor": "x14",
         "domain": [
          0,
          0.1975
         ],
         "gridcolor": "#E1E5ED",
         "showgrid": false,
         "tickfont": {
          "color": "#4D5663"
         },
         "title": {
          "font": {
           "color": "#4D5663"
          },
          "text": ""
         },
         "zerolinecolor": "#E1E5ED"
        },
        "yaxis15": {
         "anchor": "x15",
         "domain": [
          0,
          0.1975
         ],
         "gridcolor": "#E1E5ED",
         "showgrid": false,
         "tickfont": {
          "color": "#4D5663"
         },
         "title": {
          "font": {
           "color": "#4D5663"
          },
          "text": ""
         },
         "zerolinecolor": "#E1E5ED"
        },
        "yaxis16": {
         "anchor": "x16",
         "domain": [
          0,
          0.1975
         ],
         "gridcolor": "#E1E5ED",
         "showgrid": false,
         "tickfont": {
          "color": "#4D5663"
         },
         "title": {
          "font": {
           "color": "#4D5663"
          },
          "text": ""
         },
         "zerolinecolor": "#E1E5ED"
        },
        "yaxis2": {
         "anchor": "x2",
         "domain": [
          0.8025,
          1
         ],
         "gridcolor": "#E1E5ED",
         "showgrid": false,
         "tickfont": {
          "color": "#4D5663"
         },
         "title": {
          "font": {
           "color": "#4D5663"
          },
          "text": ""
         },
         "zerolinecolor": "#E1E5ED"
        },
        "yaxis3": {
         "anchor": "x3",
         "domain": [
          0.8025,
          1
         ],
         "gridcolor": "#E1E5ED",
         "showgrid": false,
         "tickfont": {
          "color": "#4D5663"
         },
         "title": {
          "font": {
           "color": "#4D5663"
          },
          "text": ""
         },
         "zerolinecolor": "#E1E5ED"
        },
        "yaxis4": {
         "anchor": "x4",
         "domain": [
          0.8025,
          1
         ],
         "gridcolor": "#E1E5ED",
         "showgrid": false,
         "tickfont": {
          "color": "#4D5663"
         },
         "title": {
          "font": {
           "color": "#4D5663"
          },
          "text": ""
         },
         "zerolinecolor": "#E1E5ED"
        },
        "yaxis5": {
         "anchor": "x5",
         "domain": [
          0.535,
          0.7325
         ],
         "gridcolor": "#E1E5ED",
         "showgrid": false,
         "tickfont": {
          "color": "#4D5663"
         },
         "title": {
          "font": {
           "color": "#4D5663"
          },
          "text": ""
         },
         "zerolinecolor": "#E1E5ED"
        },
        "yaxis6": {
         "anchor": "x6",
         "domain": [
          0.535,
          0.7325
         ],
         "gridcolor": "#E1E5ED",
         "showgrid": false,
         "tickfont": {
          "color": "#4D5663"
         },
         "title": {
          "font": {
           "color": "#4D5663"
          },
          "text": ""
         },
         "zerolinecolor": "#E1E5ED"
        },
        "yaxis7": {
         "anchor": "x7",
         "domain": [
          0.535,
          0.7325
         ],
         "gridcolor": "#E1E5ED",
         "showgrid": false,
         "tickfont": {
          "color": "#4D5663"
         },
         "title": {
          "font": {
           "color": "#4D5663"
          },
          "text": ""
         },
         "zerolinecolor": "#E1E5ED"
        },
        "yaxis8": {
         "anchor": "x8",
         "domain": [
          0.535,
          0.7325
         ],
         "gridcolor": "#E1E5ED",
         "showgrid": false,
         "tickfont": {
          "color": "#4D5663"
         },
         "title": {
          "font": {
           "color": "#4D5663"
          },
          "text": ""
         },
         "zerolinecolor": "#E1E5ED"
        },
        "yaxis9": {
         "anchor": "x9",
         "domain": [
          0.2675,
          0.465
         ],
         "gridcolor": "#E1E5ED",
         "showgrid": false,
         "tickfont": {
          "color": "#4D5663"
         },
         "title": {
          "font": {
           "color": "#4D5663"
          },
          "text": ""
         },
         "zerolinecolor": "#E1E5ED"
        }
       }
      },
      "text/html": [
       "<div>                            <div id=\"6e96988a-9b0b-495c-a6da-49a3a881d38d\" class=\"plotly-graph-div\" style=\"height:525px; width:100%;\"></div>            <script type=\"text/javascript\">                require([\"plotly\"], function(Plotly) {                    window.PLOTLYENV=window.PLOTLYENV || {};\n",
       "                    window.PLOTLYENV.BASE_URL='https://plot.ly';                                    if (document.getElementById(\"6e96988a-9b0b-495c-a6da-49a3a881d38d\")) {                    Plotly.newPlot(                        \"6e96988a-9b0b-495c-a6da-49a3a881d38d\",                        [{\"histfunc\":\"count\",\"histnorm\":\"\",\"marker\":{\"color\":\"rgba(255, 153, 51, 1.0)\",\"line\":{\"color\":\"#4D5663\",\"width\":1.3}},\"name\":\"A\",\"nbinsx\":10,\"opacity\":0.8,\"orientation\":\"v\",\"x\":[-0.5753426879256494,-0.2855850025875945,-0.0961869464912241,0.6103568764767965,-0.4025696750478465,0.4374070598595347,0.7852380548724863,0.5214648823245953,-0.00684583591222356,-0.5051783000764581,0.6530373694023148,0.8290643885983005,-0.16326941807355744,1.2946551885772357,0.3062829613096997,-0.40651524703456704,0.3896016631461653,-1.138922855036025,-0.7578633933957807,1.3509314503931424,-0.005010025924972767,-0.7973280566035829,-0.9426397821555511,0.7837430673863505,0.21275853925610655,-0.4223329495826686,-1.260774413115214,0.03781882593588207,0.46263467519767826,0.5546355561998378,-0.4842961772526561,0.4618702738864327,-0.26539049970315043,0.07173654988682814,1.2670586248816906,0.48257046492794947,0.8606764634836559,0.6828244703998747,0.2703051628152772,0.0908652995232409,1.3407457592744865,0.6876439459516805,-1.3694094056973394,-0.4335211415628346,-1.1267120131338622,1.3400799055072092,-0.1422947461813094,-1.248940584041396,-2.124104883981563,-1.3019259842261062,1.2253863790785309,-1.50671466014991,0.07538508733247389,1.2494402889239615,0.18255827197336624,-1.0105509243088642,-1.1891302933224321,-0.11628475166186489,-0.4734418847308924,0.8718766160831669,-0.35944283707649927,-0.6793897450131363,-0.18631676258814278,-1.2782273458212,1.4977187013693063,1.177236002604748,-1.0941913024273784,2.2404207802414633,-1.7525070260970546,0.216729499836274,-0.24615959069611515,-0.9566272104115014,-1.3354612997377038,0.22350132903717154,0.9938854360185605,-0.678036349363896,-1.269837301038907,0.023573204636028175,1.1893098288366686,0.3945672020711424,0.16556190679953686,1.0533923683620778,0.7980311950587345,-0.4648689451877062,-1.1224975907209203,0.5905563562444988,0.7187909232916364,0.001996256304215127,-0.5024319634754288,1.8039520156480824,-0.21920796816159593,-0.08410382918341316,0.7263457090750816,1.3527961859231261,-1.544852980293307,-0.2966107732450681,-0.11415615694751836,-0.12881703002004213,1.2741874708953127,1.1393830437473285],\"xaxis\":\"x\",\"yaxis\":\"y\",\"type\":\"histogram\"},{\"line\":{\"color\":\"rgba(128, 128, 128, 1.0)\",\"dash\":\"solid\",\"shape\":\"linear\",\"width\":1.3},\"marker\":{\"size\":2,\"symbol\":\"circle\"},\"mode\":\"markers\",\"name\":\"A\",\"text\":\"\",\"x\":[-0.5580704050672908,-0.44923515289336513,-0.7168931610192598,0.9830134247526778,1.6240683385906691,-0.40275289981153695,0.6112791218876015,-1.2803108479829148,-0.05808932824151311,-1.684712399154241,0.7009441493967767,1.2720970110310192,0.3689654180086758,-0.10972521230236329,-1.8715072885797777,-0.41072022373609,-2.222846437588777,-1.1915850756385813,0.9231330164233137,1.8669529912034164,-0.290221726325987,-0.648720943564726,-0.36177078386180883,-0.320582285809616,0.034000540804830316,-0.22176470456543523,0.29525848347628325,-0.9460745820077947,-0.40068026297055254,0.4106897541844773,-0.05309064552901487,1.1476677464913225,-0.6292502221798444,-0.6653930893895125,0.23844796985252587,0.1526908108190717,-0.4882637399023558,0.6095528940202006,1.7106600523326803,-0.6087185304180869,-0.14795323483741937,-0.9041735666641447,-0.2758124519817509,-0.6901891175196618,0.6644453330064052,0.7900367784741046,0.9187562121791123,0.8674138559764352,-0.2453438445025455,0.6793641868864831,-0.857948768868309,-0.9098665331960117,-0.6276702401871189,-1.9934794146042236,-0.364622445961039,1.441725222783407,0.7801273633492309,0.8618581629889228,-0.6880668392789634,-1.1699554311316747,0.4688674958261446,-0.3910846044592581,-0.9407200530603363,-1.5443525904104154,1.0384541197937691,-0.3226253863608884,0.9201172848030571,0.7657733729769911,-0.0895080157312864,-0.8583292937553912,-0.5909240948790668,-0.2866429338299557,0.3565715507880381,-0.8964384866866988,-0.5862356805821878,-0.9155134743418362,0.3015672501242637,0.5252427921756735,1.1163271687288974,0.14762362641226046,1.6270590095804507,-0.5035181944686434,-2.4300076126906753,-0.5269023436170583,1.9305638870047916,1.0182413139000828,-0.33799434650269927,1.046303567819808,1.2774037206763065,-0.33322567523426716,0.5210740638623935,-1.1545147289056945,-0.29028048645031423,-1.3789783825434538,0.12451934803869251,-0.06929895952401209,0.3449054115724372,-1.0596751060425036,1.622930397463581,1.2696505909551374],\"xaxis\":\"x2\",\"y\":[-0.5753426879256494,-0.2855850025875945,-0.0961869464912241,0.6103568764767965,-0.4025696750478465,0.4374070598595347,0.7852380548724863,0.5214648823245953,-0.00684583591222356,-0.5051783000764581,0.6530373694023148,0.8290643885983005,-0.16326941807355744,1.2946551885772357,0.3062829613096997,-0.40651524703456704,0.3896016631461653,-1.138922855036025,-0.7578633933957807,1.3509314503931424,-0.005010025924972767,-0.7973280566035829,-0.9426397821555511,0.7837430673863505,0.21275853925610655,-0.4223329495826686,-1.260774413115214,0.03781882593588207,0.46263467519767826,0.5546355561998378,-0.4842961772526561,0.4618702738864327,-0.26539049970315043,0.07173654988682814,1.2670586248816906,0.48257046492794947,0.8606764634836559,0.6828244703998747,0.2703051628152772,0.0908652995232409,1.3407457592744865,0.6876439459516805,-1.3694094056973394,-0.4335211415628346,-1.1267120131338622,1.3400799055072092,-0.1422947461813094,-1.248940584041396,-2.124104883981563,-1.3019259842261062,1.2253863790785309,-1.50671466014991,0.07538508733247389,1.2494402889239615,0.18255827197336624,-1.0105509243088642,-1.1891302933224321,-0.11628475166186489,-0.4734418847308924,0.8718766160831669,-0.35944283707649927,-0.6793897450131363,-0.18631676258814278,-1.2782273458212,1.4977187013693063,1.177236002604748,-1.0941913024273784,2.2404207802414633,-1.7525070260970546,0.216729499836274,-0.24615959069611515,-0.9566272104115014,-1.3354612997377038,0.22350132903717154,0.9938854360185605,-0.678036349363896,-1.269837301038907,0.023573204636028175,1.1893098288366686,0.3945672020711424,0.16556190679953686,1.0533923683620778,0.7980311950587345,-0.4648689451877062,-1.1224975907209203,0.5905563562444988,0.7187909232916364,0.001996256304215127,-0.5024319634754288,1.8039520156480824,-0.21920796816159593,-0.08410382918341316,0.7263457090750816,1.3527961859231261,-1.544852980293307,-0.2966107732450681,-0.11415615694751836,-0.12881703002004213,1.2741874708953127,1.1393830437473285],\"yaxis\":\"y2\",\"type\":\"scatter\"},{\"line\":{\"color\":\"rgba(128, 128, 128, 1.0)\",\"dash\":\"solid\",\"shape\":\"linear\",\"width\":1.3},\"marker\":{\"size\":2,\"symbol\":\"circle\"},\"mode\":\"markers\",\"name\":\"A\",\"text\":\"\",\"x\":[0.6114507672687999,-1.453118223435603,1.1827405880682482,-0.8915317989289957,-0.6965339089786392,1.3349453277892667,-0.012754426842266287,-1.8363884955952245,0.06320121054962571,-0.8054032151493444,-0.8680597817673879,0.15123933857148497,0.5123570213932661,-0.16037339958878402,1.2084982369733155,0.11675209300983791,-0.7352880428466906,-0.2791381389434401,-1.6768211825037311,0.2687358510113133,-0.08730828996841995,0.08011587984526237,0.5870365383920121,-0.45513157695040024,1.0477545780925943,-0.6122419200802369,0.9071051522559322,0.5288208716979997,1.7182043502896294,-1.037247362100533,1.2071706170444598,-0.09959896328078839,0.1378115413695539,-0.7628053068053268,-1.4628741580335396,-1.8115843574114259,0.48644122722049543,0.0812345794161359,1.1618829202520924,0.12227531103671242,-1.0286809844723226,-0.4199992929049847,-2.6587328254050435,-0.2024935070142835,-1.0654775595196992,1.7239918194244157,-0.88260958534823,1.6551781445421734,0.6507530317290405,-1.6654829806178402,0.9767781066008089,1.4101056253993747,-0.3795509935768535,0.5352685882282258,-0.07107715970154109,0.7354612283859392,-0.4782542749410208,0.2034575421519448,1.3429473000413061,0.44838858879270727,-1.5463440803120463,1.3497880948859498,0.14937510875119525,-0.8145611453142702,0.33798653977713,-1.0392925446223271,-1.2857261541825418,-0.18175222407249347,1.1471456825047024,2.302935046525213,-1.1653519184303127,0.7037332413417794,-0.3154171419840098,1.0465994577252105,-0.5043267981371093,0.3059399843978032,-1.0147173103491358,0.18734319364702906,1.0197870438206182,0.5698463723265904,0.847161738078466,-0.48838155083686113,-0.17571083683572822,-0.18323720410096794,1.1972873398163424,0.9806532259074543,-0.4917355934045084,-0.1343592196434194,0.2516622328478005,-0.27081241540746404,-1.0155616992979957,-0.0780064275372869,1.3613145488862313,-2.25481067807797,0.01340459400981535,1.034736325414299,-0.8796258441728192,-0.3292043045328106,-1.8624919231541441,1.1113931809407485],\"xaxis\":\"x3\",\"y\":[-0.5753426879256494,-0.2855850025875945,-0.0961869464912241,0.6103568764767965,-0.4025696750478465,0.4374070598595347,0.7852380548724863,0.5214648823245953,-0.00684583591222356,-0.5051783000764581,0.6530373694023148,0.8290643885983005,-0.16326941807355744,1.2946551885772357,0.3062829613096997,-0.40651524703456704,0.3896016631461653,-1.138922855036025,-0.7578633933957807,1.3509314503931424,-0.005010025924972767,-0.7973280566035829,-0.9426397821555511,0.7837430673863505,0.21275853925610655,-0.4223329495826686,-1.260774413115214,0.03781882593588207,0.46263467519767826,0.5546355561998378,-0.4842961772526561,0.4618702738864327,-0.26539049970315043,0.07173654988682814,1.2670586248816906,0.48257046492794947,0.8606764634836559,0.6828244703998747,0.2703051628152772,0.0908652995232409,1.3407457592744865,0.6876439459516805,-1.3694094056973394,-0.4335211415628346,-1.1267120131338622,1.3400799055072092,-0.1422947461813094,-1.248940584041396,-2.124104883981563,-1.3019259842261062,1.2253863790785309,-1.50671466014991,0.07538508733247389,1.2494402889239615,0.18255827197336624,-1.0105509243088642,-1.1891302933224321,-0.11628475166186489,-0.4734418847308924,0.8718766160831669,-0.35944283707649927,-0.6793897450131363,-0.18631676258814278,-1.2782273458212,1.4977187013693063,1.177236002604748,-1.0941913024273784,2.2404207802414633,-1.7525070260970546,0.216729499836274,-0.24615959069611515,-0.9566272104115014,-1.3354612997377038,0.22350132903717154,0.9938854360185605,-0.678036349363896,-1.269837301038907,0.023573204636028175,1.1893098288366686,0.3945672020711424,0.16556190679953686,1.0533923683620778,0.7980311950587345,-0.4648689451877062,-1.1224975907209203,0.5905563562444988,0.7187909232916364,0.001996256304215127,-0.5024319634754288,1.8039520156480824,-0.21920796816159593,-0.08410382918341316,0.7263457090750816,1.3527961859231261,-1.544852980293307,-0.2966107732450681,-0.11415615694751836,-0.12881703002004213,1.2741874708953127,1.1393830437473285],\"yaxis\":\"y3\",\"type\":\"scatter\"},{\"line\":{\"color\":\"rgba(128, 128, 128, 1.0)\",\"dash\":\"solid\",\"shape\":\"linear\",\"width\":1.3},\"marker\":{\"size\":2,\"symbol\":\"circle\"},\"mode\":\"markers\",\"name\":\"A\",\"text\":\"\",\"x\":[-0.10163559002645582,-0.35572331833610316,0.9382633458937855,1.0365157491589996,-1.0839803625551319,-0.42444836826523763,-0.17434477607746782,-0.2503002221905484,-0.13298541736793706,0.8536540114980372,0.3743533125530419,-0.23019310723961844,-1.0877216415015756,0.8983283485049616,0.14188830675770078,0.22365165287099512,0.19462905516574389,0.0934357964967572,0.8335939366943298,-0.04921489580520027,1.0017436578627659,0.5833690545463516,0.5736816489166747,-0.24365567817680078,1.3488875965404792,0.1263712094019638,-0.06129280907415563,-0.2237010330630421,2.302720150283636,-1.2728458007605248,-0.9225462214792156,-0.83290355524013,0.9865001583080875,-0.47162702859165717,-0.2933254636166296,0.24279006201943384,0.9032069290402934,0.34250476808048,0.807733281761505,1.8166900939762636,-0.009455451023209618,-0.4963886136333983,-0.6358577813771843,0.3619657381092746,-0.8788873299867607,0.40135747633790053,0.5062831775326353,-0.020676125484085806,0.19948143467837848,0.34548083587927997,-0.5795092323886075,-1.7819736678538074,0.17033119871697325,-0.89129758144792,-0.1714054780010341,-1.0737098320560075,1.2900195720031598,1.2914077918767255,-0.24949588549061508,0.8369345762371713,1.135976461563747,-1.4428407997626485,0.9875439709348575,2.2035242636833,-0.5791487359503539,-2.521913338226039,-0.7184707278530241,-1.1639587985186035,-0.5687316557397463,-1.702610898906452,-0.12020102131074938,0.13080022513111286,-0.22034734250604682,-0.05716775746615135,0.28319930382775665,0.731825355886409,-0.32563379121427105,-0.0787710720033279,-1.3347357015730388,-1.6260320813219609,0.9013728332559842,-0.08563499946707838,-0.33884869313938376,-2.256272072962904,0.38836306652118646,-0.1299483070640521,0.835893038991054,0.5972407218225784,0.9662776762760077,-0.6501003773755782,-2.3648808383363713,0.6757352967860882,0.8668970165490616,-1.7444739905526931,0.9097302962435239,0.3895664821972121,-0.26932148950763357,-1.300053903639512,0.38751698856060934,-0.6130946474664536],\"xaxis\":\"x4\",\"y\":[-0.5753426879256494,-0.2855850025875945,-0.0961869464912241,0.6103568764767965,-0.4025696750478465,0.4374070598595347,0.7852380548724863,0.5214648823245953,-0.00684583591222356,-0.5051783000764581,0.6530373694023148,0.8290643885983005,-0.16326941807355744,1.2946551885772357,0.3062829613096997,-0.40651524703456704,0.3896016631461653,-1.138922855036025,-0.7578633933957807,1.3509314503931424,-0.005010025924972767,-0.7973280566035829,-0.9426397821555511,0.7837430673863505,0.21275853925610655,-0.4223329495826686,-1.260774413115214,0.03781882593588207,0.46263467519767826,0.5546355561998378,-0.4842961772526561,0.4618702738864327,-0.26539049970315043,0.07173654988682814,1.2670586248816906,0.48257046492794947,0.8606764634836559,0.6828244703998747,0.2703051628152772,0.0908652995232409,1.3407457592744865,0.6876439459516805,-1.3694094056973394,-0.4335211415628346,-1.1267120131338622,1.3400799055072092,-0.1422947461813094,-1.248940584041396,-2.124104883981563,-1.3019259842261062,1.2253863790785309,-1.50671466014991,0.07538508733247389,1.2494402889239615,0.18255827197336624,-1.0105509243088642,-1.1891302933224321,-0.11628475166186489,-0.4734418847308924,0.8718766160831669,-0.35944283707649927,-0.6793897450131363,-0.18631676258814278,-1.2782273458212,1.4977187013693063,1.177236002604748,-1.0941913024273784,2.2404207802414633,-1.7525070260970546,0.216729499836274,-0.24615959069611515,-0.9566272104115014,-1.3354612997377038,0.22350132903717154,0.9938854360185605,-0.678036349363896,-1.269837301038907,0.023573204636028175,1.1893098288366686,0.3945672020711424,0.16556190679953686,1.0533923683620778,0.7980311950587345,-0.4648689451877062,-1.1224975907209203,0.5905563562444988,0.7187909232916364,0.001996256304215127,-0.5024319634754288,1.8039520156480824,-0.21920796816159593,-0.08410382918341316,0.7263457090750816,1.3527961859231261,-1.544852980293307,-0.2966107732450681,-0.11415615694751836,-0.12881703002004213,1.2741874708953127,1.1393830437473285],\"yaxis\":\"y4\",\"type\":\"scatter\"},{\"line\":{\"color\":\"rgba(128, 128, 128, 1.0)\",\"dash\":\"solid\",\"shape\":\"linear\",\"width\":1.3},\"marker\":{\"size\":2,\"symbol\":\"circle\"},\"mode\":\"markers\",\"name\":\"B\",\"text\":\"\",\"x\":[-0.5753426879256494,-0.2855850025875945,-0.0961869464912241,0.6103568764767965,-0.4025696750478465,0.4374070598595347,0.7852380548724863,0.5214648823245953,-0.00684583591222356,-0.5051783000764581,0.6530373694023148,0.8290643885983005,-0.16326941807355744,1.2946551885772357,0.3062829613096997,-0.40651524703456704,0.3896016631461653,-1.138922855036025,-0.7578633933957807,1.3509314503931424,-0.005010025924972767,-0.7973280566035829,-0.9426397821555511,0.7837430673863505,0.21275853925610655,-0.4223329495826686,-1.260774413115214,0.03781882593588207,0.46263467519767826,0.5546355561998378,-0.4842961772526561,0.4618702738864327,-0.26539049970315043,0.07173654988682814,1.2670586248816906,0.48257046492794947,0.8606764634836559,0.6828244703998747,0.2703051628152772,0.0908652995232409,1.3407457592744865,0.6876439459516805,-1.3694094056973394,-0.4335211415628346,-1.1267120131338622,1.3400799055072092,-0.1422947461813094,-1.248940584041396,-2.124104883981563,-1.3019259842261062,1.2253863790785309,-1.50671466014991,0.07538508733247389,1.2494402889239615,0.18255827197336624,-1.0105509243088642,-1.1891302933224321,-0.11628475166186489,-0.4734418847308924,0.8718766160831669,-0.35944283707649927,-0.6793897450131363,-0.18631676258814278,-1.2782273458212,1.4977187013693063,1.177236002604748,-1.0941913024273784,2.2404207802414633,-1.7525070260970546,0.216729499836274,-0.24615959069611515,-0.9566272104115014,-1.3354612997377038,0.22350132903717154,0.9938854360185605,-0.678036349363896,-1.269837301038907,0.023573204636028175,1.1893098288366686,0.3945672020711424,0.16556190679953686,1.0533923683620778,0.7980311950587345,-0.4648689451877062,-1.1224975907209203,0.5905563562444988,0.7187909232916364,0.001996256304215127,-0.5024319634754288,1.8039520156480824,-0.21920796816159593,-0.08410382918341316,0.7263457090750816,1.3527961859231261,-1.544852980293307,-0.2966107732450681,-0.11415615694751836,-0.12881703002004213,1.2741874708953127,1.1393830437473285],\"xaxis\":\"x5\",\"y\":[-0.5580704050672908,-0.44923515289336513,-0.7168931610192598,0.9830134247526778,1.6240683385906691,-0.40275289981153695,0.6112791218876015,-1.2803108479829148,-0.05808932824151311,-1.684712399154241,0.7009441493967767,1.2720970110310192,0.3689654180086758,-0.10972521230236329,-1.8715072885797777,-0.41072022373609,-2.222846437588777,-1.1915850756385813,0.9231330164233137,1.8669529912034164,-0.290221726325987,-0.648720943564726,-0.36177078386180883,-0.320582285809616,0.034000540804830316,-0.22176470456543523,0.29525848347628325,-0.9460745820077947,-0.40068026297055254,0.4106897541844773,-0.05309064552901487,1.1476677464913225,-0.6292502221798444,-0.6653930893895125,0.23844796985252587,0.1526908108190717,-0.4882637399023558,0.6095528940202006,1.7106600523326803,-0.6087185304180869,-0.14795323483741937,-0.9041735666641447,-0.2758124519817509,-0.6901891175196618,0.6644453330064052,0.7900367784741046,0.9187562121791123,0.8674138559764352,-0.2453438445025455,0.6793641868864831,-0.857948768868309,-0.9098665331960117,-0.6276702401871189,-1.9934794146042236,-0.364622445961039,1.441725222783407,0.7801273633492309,0.8618581629889228,-0.6880668392789634,-1.1699554311316747,0.4688674958261446,-0.3910846044592581,-0.9407200530603363,-1.5443525904104154,1.0384541197937691,-0.3226253863608884,0.9201172848030571,0.7657733729769911,-0.0895080157312864,-0.8583292937553912,-0.5909240948790668,-0.2866429338299557,0.3565715507880381,-0.8964384866866988,-0.5862356805821878,-0.9155134743418362,0.3015672501242637,0.5252427921756735,1.1163271687288974,0.14762362641226046,1.6270590095804507,-0.5035181944686434,-2.4300076126906753,-0.5269023436170583,1.9305638870047916,1.0182413139000828,-0.33799434650269927,1.046303567819808,1.2774037206763065,-0.33322567523426716,0.5210740638623935,-1.1545147289056945,-0.29028048645031423,-1.3789783825434538,0.12451934803869251,-0.06929895952401209,0.3449054115724372,-1.0596751060425036,1.622930397463581,1.2696505909551374],\"yaxis\":\"y5\",\"type\":\"scatter\"},{\"histfunc\":\"count\",\"histnorm\":\"\",\"marker\":{\"color\":\"rgba(55, 128, 191, 1.0)\",\"line\":{\"color\":\"#4D5663\",\"width\":1.3}},\"name\":\"B\",\"nbinsx\":10,\"opacity\":0.8,\"orientation\":\"v\",\"x\":[-0.5580704050672908,-0.44923515289336513,-0.7168931610192598,0.9830134247526778,1.6240683385906691,-0.40275289981153695,0.6112791218876015,-1.2803108479829148,-0.05808932824151311,-1.684712399154241,0.7009441493967767,1.2720970110310192,0.3689654180086758,-0.10972521230236329,-1.8715072885797777,-0.41072022373609,-2.222846437588777,-1.1915850756385813,0.9231330164233137,1.8669529912034164,-0.290221726325987,-0.648720943564726,-0.36177078386180883,-0.320582285809616,0.034000540804830316,-0.22176470456543523,0.29525848347628325,-0.9460745820077947,-0.40068026297055254,0.4106897541844773,-0.05309064552901487,1.1476677464913225,-0.6292502221798444,-0.6653930893895125,0.23844796985252587,0.1526908108190717,-0.4882637399023558,0.6095528940202006,1.7106600523326803,-0.6087185304180869,-0.14795323483741937,-0.9041735666641447,-0.2758124519817509,-0.6901891175196618,0.6644453330064052,0.7900367784741046,0.9187562121791123,0.8674138559764352,-0.2453438445025455,0.6793641868864831,-0.857948768868309,-0.9098665331960117,-0.6276702401871189,-1.9934794146042236,-0.364622445961039,1.441725222783407,0.7801273633492309,0.8618581629889228,-0.6880668392789634,-1.1699554311316747,0.4688674958261446,-0.3910846044592581,-0.9407200530603363,-1.5443525904104154,1.0384541197937691,-0.3226253863608884,0.9201172848030571,0.7657733729769911,-0.0895080157312864,-0.8583292937553912,-0.5909240948790668,-0.2866429338299557,0.3565715507880381,-0.8964384866866988,-0.5862356805821878,-0.9155134743418362,0.3015672501242637,0.5252427921756735,1.1163271687288974,0.14762362641226046,1.6270590095804507,-0.5035181944686434,-2.4300076126906753,-0.5269023436170583,1.9305638870047916,1.0182413139000828,-0.33799434650269927,1.046303567819808,1.2774037206763065,-0.33322567523426716,0.5210740638623935,-1.1545147289056945,-0.29028048645031423,-1.3789783825434538,0.12451934803869251,-0.06929895952401209,0.3449054115724372,-1.0596751060425036,1.622930397463581,1.2696505909551374],\"xaxis\":\"x6\",\"yaxis\":\"y6\",\"type\":\"histogram\"},{\"line\":{\"color\":\"rgba(128, 128, 128, 1.0)\",\"dash\":\"solid\",\"shape\":\"linear\",\"width\":1.3},\"marker\":{\"size\":2,\"symbol\":\"circle\"},\"mode\":\"markers\",\"name\":\"B\",\"text\":\"\",\"x\":[0.6114507672687999,-1.453118223435603,1.1827405880682482,-0.8915317989289957,-0.6965339089786392,1.3349453277892667,-0.012754426842266287,-1.8363884955952245,0.06320121054962571,-0.8054032151493444,-0.8680597817673879,0.15123933857148497,0.5123570213932661,-0.16037339958878402,1.2084982369733155,0.11675209300983791,-0.7352880428466906,-0.2791381389434401,-1.6768211825037311,0.2687358510113133,-0.08730828996841995,0.08011587984526237,0.5870365383920121,-0.45513157695040024,1.0477545780925943,-0.6122419200802369,0.9071051522559322,0.5288208716979997,1.7182043502896294,-1.037247362100533,1.2071706170444598,-0.09959896328078839,0.1378115413695539,-0.7628053068053268,-1.4628741580335396,-1.8115843574114259,0.48644122722049543,0.0812345794161359,1.1618829202520924,0.12227531103671242,-1.0286809844723226,-0.4199992929049847,-2.6587328254050435,-0.2024935070142835,-1.0654775595196992,1.7239918194244157,-0.88260958534823,1.6551781445421734,0.6507530317290405,-1.6654829806178402,0.9767781066008089,1.4101056253993747,-0.3795509935768535,0.5352685882282258,-0.07107715970154109,0.7354612283859392,-0.4782542749410208,0.2034575421519448,1.3429473000413061,0.44838858879270727,-1.5463440803120463,1.3497880948859498,0.14937510875119525,-0.8145611453142702,0.33798653977713,-1.0392925446223271,-1.2857261541825418,-0.18175222407249347,1.1471456825047024,2.302935046525213,-1.1653519184303127,0.7037332413417794,-0.3154171419840098,1.0465994577252105,-0.5043267981371093,0.3059399843978032,-1.0147173103491358,0.18734319364702906,1.0197870438206182,0.5698463723265904,0.847161738078466,-0.48838155083686113,-0.17571083683572822,-0.18323720410096794,1.1972873398163424,0.9806532259074543,-0.4917355934045084,-0.1343592196434194,0.2516622328478005,-0.27081241540746404,-1.0155616992979957,-0.0780064275372869,1.3613145488862313,-2.25481067807797,0.01340459400981535,1.034736325414299,-0.8796258441728192,-0.3292043045328106,-1.8624919231541441,1.1113931809407485],\"xaxis\":\"x7\",\"y\":[-0.5580704050672908,-0.44923515289336513,-0.7168931610192598,0.9830134247526778,1.6240683385906691,-0.40275289981153695,0.6112791218876015,-1.2803108479829148,-0.05808932824151311,-1.684712399154241,0.7009441493967767,1.2720970110310192,0.3689654180086758,-0.10972521230236329,-1.8715072885797777,-0.41072022373609,-2.222846437588777,-1.1915850756385813,0.9231330164233137,1.8669529912034164,-0.290221726325987,-0.648720943564726,-0.36177078386180883,-0.320582285809616,0.034000540804830316,-0.22176470456543523,0.29525848347628325,-0.9460745820077947,-0.40068026297055254,0.4106897541844773,-0.05309064552901487,1.1476677464913225,-0.6292502221798444,-0.6653930893895125,0.23844796985252587,0.1526908108190717,-0.4882637399023558,0.6095528940202006,1.7106600523326803,-0.6087185304180869,-0.14795323483741937,-0.9041735666641447,-0.2758124519817509,-0.6901891175196618,0.6644453330064052,0.7900367784741046,0.9187562121791123,0.8674138559764352,-0.2453438445025455,0.6793641868864831,-0.857948768868309,-0.9098665331960117,-0.6276702401871189,-1.9934794146042236,-0.364622445961039,1.441725222783407,0.7801273633492309,0.8618581629889228,-0.6880668392789634,-1.1699554311316747,0.4688674958261446,-0.3910846044592581,-0.9407200530603363,-1.5443525904104154,1.0384541197937691,-0.3226253863608884,0.9201172848030571,0.7657733729769911,-0.0895080157312864,-0.8583292937553912,-0.5909240948790668,-0.2866429338299557,0.3565715507880381,-0.8964384866866988,-0.5862356805821878,-0.9155134743418362,0.3015672501242637,0.5252427921756735,1.1163271687288974,0.14762362641226046,1.6270590095804507,-0.5035181944686434,-2.4300076126906753,-0.5269023436170583,1.9305638870047916,1.0182413139000828,-0.33799434650269927,1.046303567819808,1.2774037206763065,-0.33322567523426716,0.5210740638623935,-1.1545147289056945,-0.29028048645031423,-1.3789783825434538,0.12451934803869251,-0.06929895952401209,0.3449054115724372,-1.0596751060425036,1.622930397463581,1.2696505909551374],\"yaxis\":\"y7\",\"type\":\"scatter\"},{\"line\":{\"color\":\"rgba(128, 128, 128, 1.0)\",\"dash\":\"solid\",\"shape\":\"linear\",\"width\":1.3},\"marker\":{\"size\":2,\"symbol\":\"circle\"},\"mode\":\"markers\",\"name\":\"B\",\"text\":\"\",\"x\":[-0.10163559002645582,-0.35572331833610316,0.9382633458937855,1.0365157491589996,-1.0839803625551319,-0.42444836826523763,-0.17434477607746782,-0.2503002221905484,-0.13298541736793706,0.8536540114980372,0.3743533125530419,-0.23019310723961844,-1.0877216415015756,0.8983283485049616,0.14188830675770078,0.22365165287099512,0.19462905516574389,0.0934357964967572,0.8335939366943298,-0.04921489580520027,1.0017436578627659,0.5833690545463516,0.5736816489166747,-0.24365567817680078,1.3488875965404792,0.1263712094019638,-0.06129280907415563,-0.2237010330630421,2.302720150283636,-1.2728458007605248,-0.9225462214792156,-0.83290355524013,0.9865001583080875,-0.47162702859165717,-0.2933254636166296,0.24279006201943384,0.9032069290402934,0.34250476808048,0.807733281761505,1.8166900939762636,-0.009455451023209618,-0.4963886136333983,-0.6358577813771843,0.3619657381092746,-0.8788873299867607,0.40135747633790053,0.5062831775326353,-0.020676125484085806,0.19948143467837848,0.34548083587927997,-0.5795092323886075,-1.7819736678538074,0.17033119871697325,-0.89129758144792,-0.1714054780010341,-1.0737098320560075,1.2900195720031598,1.2914077918767255,-0.24949588549061508,0.8369345762371713,1.135976461563747,-1.4428407997626485,0.9875439709348575,2.2035242636833,-0.5791487359503539,-2.521913338226039,-0.7184707278530241,-1.1639587985186035,-0.5687316557397463,-1.702610898906452,-0.12020102131074938,0.13080022513111286,-0.22034734250604682,-0.05716775746615135,0.28319930382775665,0.731825355886409,-0.32563379121427105,-0.0787710720033279,-1.3347357015730388,-1.6260320813219609,0.9013728332559842,-0.08563499946707838,-0.33884869313938376,-2.256272072962904,0.38836306652118646,-0.1299483070640521,0.835893038991054,0.5972407218225784,0.9662776762760077,-0.6501003773755782,-2.3648808383363713,0.6757352967860882,0.8668970165490616,-1.7444739905526931,0.9097302962435239,0.3895664821972121,-0.26932148950763357,-1.300053903639512,0.38751698856060934,-0.6130946474664536],\"xaxis\":\"x8\",\"y\":[-0.5580704050672908,-0.44923515289336513,-0.7168931610192598,0.9830134247526778,1.6240683385906691,-0.40275289981153695,0.6112791218876015,-1.2803108479829148,-0.05808932824151311,-1.684712399154241,0.7009441493967767,1.2720970110310192,0.3689654180086758,-0.10972521230236329,-1.8715072885797777,-0.41072022373609,-2.222846437588777,-1.1915850756385813,0.9231330164233137,1.8669529912034164,-0.290221726325987,-0.648720943564726,-0.36177078386180883,-0.320582285809616,0.034000540804830316,-0.22176470456543523,0.29525848347628325,-0.9460745820077947,-0.40068026297055254,0.4106897541844773,-0.05309064552901487,1.1476677464913225,-0.6292502221798444,-0.6653930893895125,0.23844796985252587,0.1526908108190717,-0.4882637399023558,0.6095528940202006,1.7106600523326803,-0.6087185304180869,-0.14795323483741937,-0.9041735666641447,-0.2758124519817509,-0.6901891175196618,0.6644453330064052,0.7900367784741046,0.9187562121791123,0.8674138559764352,-0.2453438445025455,0.6793641868864831,-0.857948768868309,-0.9098665331960117,-0.6276702401871189,-1.9934794146042236,-0.364622445961039,1.441725222783407,0.7801273633492309,0.8618581629889228,-0.6880668392789634,-1.1699554311316747,0.4688674958261446,-0.3910846044592581,-0.9407200530603363,-1.5443525904104154,1.0384541197937691,-0.3226253863608884,0.9201172848030571,0.7657733729769911,-0.0895080157312864,-0.8583292937553912,-0.5909240948790668,-0.2866429338299557,0.3565715507880381,-0.8964384866866988,-0.5862356805821878,-0.9155134743418362,0.3015672501242637,0.5252427921756735,1.1163271687288974,0.14762362641226046,1.6270590095804507,-0.5035181944686434,-2.4300076126906753,-0.5269023436170583,1.9305638870047916,1.0182413139000828,-0.33799434650269927,1.046303567819808,1.2774037206763065,-0.33322567523426716,0.5210740638623935,-1.1545147289056945,-0.29028048645031423,-1.3789783825434538,0.12451934803869251,-0.06929895952401209,0.3449054115724372,-1.0596751060425036,1.622930397463581,1.2696505909551374],\"yaxis\":\"y8\",\"type\":\"scatter\"},{\"line\":{\"color\":\"rgba(128, 128, 128, 1.0)\",\"dash\":\"solid\",\"shape\":\"linear\",\"width\":1.3},\"marker\":{\"size\":2,\"symbol\":\"circle\"},\"mode\":\"markers\",\"name\":\"C\",\"text\":\"\",\"x\":[-0.5753426879256494,-0.2855850025875945,-0.0961869464912241,0.6103568764767965,-0.4025696750478465,0.4374070598595347,0.7852380548724863,0.5214648823245953,-0.00684583591222356,-0.5051783000764581,0.6530373694023148,0.8290643885983005,-0.16326941807355744,1.2946551885772357,0.3062829613096997,-0.40651524703456704,0.3896016631461653,-1.138922855036025,-0.7578633933957807,1.3509314503931424,-0.005010025924972767,-0.7973280566035829,-0.9426397821555511,0.7837430673863505,0.21275853925610655,-0.4223329495826686,-1.260774413115214,0.03781882593588207,0.46263467519767826,0.5546355561998378,-0.4842961772526561,0.4618702738864327,-0.26539049970315043,0.07173654988682814,1.2670586248816906,0.48257046492794947,0.8606764634836559,0.6828244703998747,0.2703051628152772,0.0908652995232409,1.3407457592744865,0.6876439459516805,-1.3694094056973394,-0.4335211415628346,-1.1267120131338622,1.3400799055072092,-0.1422947461813094,-1.248940584041396,-2.124104883981563,-1.3019259842261062,1.2253863790785309,-1.50671466014991,0.07538508733247389,1.2494402889239615,0.18255827197336624,-1.0105509243088642,-1.1891302933224321,-0.11628475166186489,-0.4734418847308924,0.8718766160831669,-0.35944283707649927,-0.6793897450131363,-0.18631676258814278,-1.2782273458212,1.4977187013693063,1.177236002604748,-1.0941913024273784,2.2404207802414633,-1.7525070260970546,0.216729499836274,-0.24615959069611515,-0.9566272104115014,-1.3354612997377038,0.22350132903717154,0.9938854360185605,-0.678036349363896,-1.269837301038907,0.023573204636028175,1.1893098288366686,0.3945672020711424,0.16556190679953686,1.0533923683620778,0.7980311950587345,-0.4648689451877062,-1.1224975907209203,0.5905563562444988,0.7187909232916364,0.001996256304215127,-0.5024319634754288,1.8039520156480824,-0.21920796816159593,-0.08410382918341316,0.7263457090750816,1.3527961859231261,-1.544852980293307,-0.2966107732450681,-0.11415615694751836,-0.12881703002004213,1.2741874708953127,1.1393830437473285],\"xaxis\":\"x9\",\"y\":[0.6114507672687999,-1.453118223435603,1.1827405880682482,-0.8915317989289957,-0.6965339089786392,1.3349453277892667,-0.012754426842266287,-1.8363884955952245,0.06320121054962571,-0.8054032151493444,-0.8680597817673879,0.15123933857148497,0.5123570213932661,-0.16037339958878402,1.2084982369733155,0.11675209300983791,-0.7352880428466906,-0.2791381389434401,-1.6768211825037311,0.2687358510113133,-0.08730828996841995,0.08011587984526237,0.5870365383920121,-0.45513157695040024,1.0477545780925943,-0.6122419200802369,0.9071051522559322,0.5288208716979997,1.7182043502896294,-1.037247362100533,1.2071706170444598,-0.09959896328078839,0.1378115413695539,-0.7628053068053268,-1.4628741580335396,-1.8115843574114259,0.48644122722049543,0.0812345794161359,1.1618829202520924,0.12227531103671242,-1.0286809844723226,-0.4199992929049847,-2.6587328254050435,-0.2024935070142835,-1.0654775595196992,1.7239918194244157,-0.88260958534823,1.6551781445421734,0.6507530317290405,-1.6654829806178402,0.9767781066008089,1.4101056253993747,-0.3795509935768535,0.5352685882282258,-0.07107715970154109,0.7354612283859392,-0.4782542749410208,0.2034575421519448,1.3429473000413061,0.44838858879270727,-1.5463440803120463,1.3497880948859498,0.14937510875119525,-0.8145611453142702,0.33798653977713,-1.0392925446223271,-1.2857261541825418,-0.18175222407249347,1.1471456825047024,2.302935046525213,-1.1653519184303127,0.7037332413417794,-0.3154171419840098,1.0465994577252105,-0.5043267981371093,0.3059399843978032,-1.0147173103491358,0.18734319364702906,1.0197870438206182,0.5698463723265904,0.847161738078466,-0.48838155083686113,-0.17571083683572822,-0.18323720410096794,1.1972873398163424,0.9806532259074543,-0.4917355934045084,-0.1343592196434194,0.2516622328478005,-0.27081241540746404,-1.0155616992979957,-0.0780064275372869,1.3613145488862313,-2.25481067807797,0.01340459400981535,1.034736325414299,-0.8796258441728192,-0.3292043045328106,-1.8624919231541441,1.1113931809407485],\"yaxis\":\"y9\",\"type\":\"scatter\"},{\"line\":{\"color\":\"rgba(128, 128, 128, 1.0)\",\"dash\":\"solid\",\"shape\":\"linear\",\"width\":1.3},\"marker\":{\"size\":2,\"symbol\":\"circle\"},\"mode\":\"markers\",\"name\":\"C\",\"text\":\"\",\"x\":[-0.5580704050672908,-0.44923515289336513,-0.7168931610192598,0.9830134247526778,1.6240683385906691,-0.40275289981153695,0.6112791218876015,-1.2803108479829148,-0.05808932824151311,-1.684712399154241,0.7009441493967767,1.2720970110310192,0.3689654180086758,-0.10972521230236329,-1.8715072885797777,-0.41072022373609,-2.222846437588777,-1.1915850756385813,0.9231330164233137,1.8669529912034164,-0.290221726325987,-0.648720943564726,-0.36177078386180883,-0.320582285809616,0.034000540804830316,-0.22176470456543523,0.29525848347628325,-0.9460745820077947,-0.40068026297055254,0.4106897541844773,-0.05309064552901487,1.1476677464913225,-0.6292502221798444,-0.6653930893895125,0.23844796985252587,0.1526908108190717,-0.4882637399023558,0.6095528940202006,1.7106600523326803,-0.6087185304180869,-0.14795323483741937,-0.9041735666641447,-0.2758124519817509,-0.6901891175196618,0.6644453330064052,0.7900367784741046,0.9187562121791123,0.8674138559764352,-0.2453438445025455,0.6793641868864831,-0.857948768868309,-0.9098665331960117,-0.6276702401871189,-1.9934794146042236,-0.364622445961039,1.441725222783407,0.7801273633492309,0.8618581629889228,-0.6880668392789634,-1.1699554311316747,0.4688674958261446,-0.3910846044592581,-0.9407200530603363,-1.5443525904104154,1.0384541197937691,-0.3226253863608884,0.9201172848030571,0.7657733729769911,-0.0895080157312864,-0.8583292937553912,-0.5909240948790668,-0.2866429338299557,0.3565715507880381,-0.8964384866866988,-0.5862356805821878,-0.9155134743418362,0.3015672501242637,0.5252427921756735,1.1163271687288974,0.14762362641226046,1.6270590095804507,-0.5035181944686434,-2.4300076126906753,-0.5269023436170583,1.9305638870047916,1.0182413139000828,-0.33799434650269927,1.046303567819808,1.2774037206763065,-0.33322567523426716,0.5210740638623935,-1.1545147289056945,-0.29028048645031423,-1.3789783825434538,0.12451934803869251,-0.06929895952401209,0.3449054115724372,-1.0596751060425036,1.622930397463581,1.2696505909551374],\"xaxis\":\"x10\",\"y\":[0.6114507672687999,-1.453118223435603,1.1827405880682482,-0.8915317989289957,-0.6965339089786392,1.3349453277892667,-0.012754426842266287,-1.8363884955952245,0.06320121054962571,-0.8054032151493444,-0.8680597817673879,0.15123933857148497,0.5123570213932661,-0.16037339958878402,1.2084982369733155,0.11675209300983791,-0.7352880428466906,-0.2791381389434401,-1.6768211825037311,0.2687358510113133,-0.08730828996841995,0.08011587984526237,0.5870365383920121,-0.45513157695040024,1.0477545780925943,-0.6122419200802369,0.9071051522559322,0.5288208716979997,1.7182043502896294,-1.037247362100533,1.2071706170444598,-0.09959896328078839,0.1378115413695539,-0.7628053068053268,-1.4628741580335396,-1.8115843574114259,0.48644122722049543,0.0812345794161359,1.1618829202520924,0.12227531103671242,-1.0286809844723226,-0.4199992929049847,-2.6587328254050435,-0.2024935070142835,-1.0654775595196992,1.7239918194244157,-0.88260958534823,1.6551781445421734,0.6507530317290405,-1.6654829806178402,0.9767781066008089,1.4101056253993747,-0.3795509935768535,0.5352685882282258,-0.07107715970154109,0.7354612283859392,-0.4782542749410208,0.2034575421519448,1.3429473000413061,0.44838858879270727,-1.5463440803120463,1.3497880948859498,0.14937510875119525,-0.8145611453142702,0.33798653977713,-1.0392925446223271,-1.2857261541825418,-0.18175222407249347,1.1471456825047024,2.302935046525213,-1.1653519184303127,0.7037332413417794,-0.3154171419840098,1.0465994577252105,-0.5043267981371093,0.3059399843978032,-1.0147173103491358,0.18734319364702906,1.0197870438206182,0.5698463723265904,0.847161738078466,-0.48838155083686113,-0.17571083683572822,-0.18323720410096794,1.1972873398163424,0.9806532259074543,-0.4917355934045084,-0.1343592196434194,0.2516622328478005,-0.27081241540746404,-1.0155616992979957,-0.0780064275372869,1.3613145488862313,-2.25481067807797,0.01340459400981535,1.034736325414299,-0.8796258441728192,-0.3292043045328106,-1.8624919231541441,1.1113931809407485],\"yaxis\":\"y10\",\"type\":\"scatter\"},{\"histfunc\":\"count\",\"histnorm\":\"\",\"marker\":{\"color\":\"rgba(50, 171, 96, 1.0)\",\"line\":{\"color\":\"#4D5663\",\"width\":1.3}},\"name\":\"C\",\"nbinsx\":10,\"opacity\":0.8,\"orientation\":\"v\",\"x\":[0.6114507672687999,-1.453118223435603,1.1827405880682482,-0.8915317989289957,-0.6965339089786392,1.3349453277892667,-0.012754426842266287,-1.8363884955952245,0.06320121054962571,-0.8054032151493444,-0.8680597817673879,0.15123933857148497,0.5123570213932661,-0.16037339958878402,1.2084982369733155,0.11675209300983791,-0.7352880428466906,-0.2791381389434401,-1.6768211825037311,0.2687358510113133,-0.08730828996841995,0.08011587984526237,0.5870365383920121,-0.45513157695040024,1.0477545780925943,-0.6122419200802369,0.9071051522559322,0.5288208716979997,1.7182043502896294,-1.037247362100533,1.2071706170444598,-0.09959896328078839,0.1378115413695539,-0.7628053068053268,-1.4628741580335396,-1.8115843574114259,0.48644122722049543,0.0812345794161359,1.1618829202520924,0.12227531103671242,-1.0286809844723226,-0.4199992929049847,-2.6587328254050435,-0.2024935070142835,-1.0654775595196992,1.7239918194244157,-0.88260958534823,1.6551781445421734,0.6507530317290405,-1.6654829806178402,0.9767781066008089,1.4101056253993747,-0.3795509935768535,0.5352685882282258,-0.07107715970154109,0.7354612283859392,-0.4782542749410208,0.2034575421519448,1.3429473000413061,0.44838858879270727,-1.5463440803120463,1.3497880948859498,0.14937510875119525,-0.8145611453142702,0.33798653977713,-1.0392925446223271,-1.2857261541825418,-0.18175222407249347,1.1471456825047024,2.302935046525213,-1.1653519184303127,0.7037332413417794,-0.3154171419840098,1.0465994577252105,-0.5043267981371093,0.3059399843978032,-1.0147173103491358,0.18734319364702906,1.0197870438206182,0.5698463723265904,0.847161738078466,-0.48838155083686113,-0.17571083683572822,-0.18323720410096794,1.1972873398163424,0.9806532259074543,-0.4917355934045084,-0.1343592196434194,0.2516622328478005,-0.27081241540746404,-1.0155616992979957,-0.0780064275372869,1.3613145488862313,-2.25481067807797,0.01340459400981535,1.034736325414299,-0.8796258441728192,-0.3292043045328106,-1.8624919231541441,1.1113931809407485],\"xaxis\":\"x11\",\"yaxis\":\"y11\",\"type\":\"histogram\"},{\"line\":{\"color\":\"rgba(128, 128, 128, 1.0)\",\"dash\":\"solid\",\"shape\":\"linear\",\"width\":1.3},\"marker\":{\"size\":2,\"symbol\":\"circle\"},\"mode\":\"markers\",\"name\":\"C\",\"text\":\"\",\"x\":[-0.10163559002645582,-0.35572331833610316,0.9382633458937855,1.0365157491589996,-1.0839803625551319,-0.42444836826523763,-0.17434477607746782,-0.2503002221905484,-0.13298541736793706,0.8536540114980372,0.3743533125530419,-0.23019310723961844,-1.0877216415015756,0.8983283485049616,0.14188830675770078,0.22365165287099512,0.19462905516574389,0.0934357964967572,0.8335939366943298,-0.04921489580520027,1.0017436578627659,0.5833690545463516,0.5736816489166747,-0.24365567817680078,1.3488875965404792,0.1263712094019638,-0.06129280907415563,-0.2237010330630421,2.302720150283636,-1.2728458007605248,-0.9225462214792156,-0.83290355524013,0.9865001583080875,-0.47162702859165717,-0.2933254636166296,0.24279006201943384,0.9032069290402934,0.34250476808048,0.807733281761505,1.8166900939762636,-0.009455451023209618,-0.4963886136333983,-0.6358577813771843,0.3619657381092746,-0.8788873299867607,0.40135747633790053,0.5062831775326353,-0.020676125484085806,0.19948143467837848,0.34548083587927997,-0.5795092323886075,-1.7819736678538074,0.17033119871697325,-0.89129758144792,-0.1714054780010341,-1.0737098320560075,1.2900195720031598,1.2914077918767255,-0.24949588549061508,0.8369345762371713,1.135976461563747,-1.4428407997626485,0.9875439709348575,2.2035242636833,-0.5791487359503539,-2.521913338226039,-0.7184707278530241,-1.1639587985186035,-0.5687316557397463,-1.702610898906452,-0.12020102131074938,0.13080022513111286,-0.22034734250604682,-0.05716775746615135,0.28319930382775665,0.731825355886409,-0.32563379121427105,-0.0787710720033279,-1.3347357015730388,-1.6260320813219609,0.9013728332559842,-0.08563499946707838,-0.33884869313938376,-2.256272072962904,0.38836306652118646,-0.1299483070640521,0.835893038991054,0.5972407218225784,0.9662776762760077,-0.6501003773755782,-2.3648808383363713,0.6757352967860882,0.8668970165490616,-1.7444739905526931,0.9097302962435239,0.3895664821972121,-0.26932148950763357,-1.300053903639512,0.38751698856060934,-0.6130946474664536],\"xaxis\":\"x12\",\"y\":[0.6114507672687999,-1.453118223435603,1.1827405880682482,-0.8915317989289957,-0.6965339089786392,1.3349453277892667,-0.012754426842266287,-1.8363884955952245,0.06320121054962571,-0.8054032151493444,-0.8680597817673879,0.15123933857148497,0.5123570213932661,-0.16037339958878402,1.2084982369733155,0.11675209300983791,-0.7352880428466906,-0.2791381389434401,-1.6768211825037311,0.2687358510113133,-0.08730828996841995,0.08011587984526237,0.5870365383920121,-0.45513157695040024,1.0477545780925943,-0.6122419200802369,0.9071051522559322,0.5288208716979997,1.7182043502896294,-1.037247362100533,1.2071706170444598,-0.09959896328078839,0.1378115413695539,-0.7628053068053268,-1.4628741580335396,-1.8115843574114259,0.48644122722049543,0.0812345794161359,1.1618829202520924,0.12227531103671242,-1.0286809844723226,-0.4199992929049847,-2.6587328254050435,-0.2024935070142835,-1.0654775595196992,1.7239918194244157,-0.88260958534823,1.6551781445421734,0.6507530317290405,-1.6654829806178402,0.9767781066008089,1.4101056253993747,-0.3795509935768535,0.5352685882282258,-0.07107715970154109,0.7354612283859392,-0.4782542749410208,0.2034575421519448,1.3429473000413061,0.44838858879270727,-1.5463440803120463,1.3497880948859498,0.14937510875119525,-0.8145611453142702,0.33798653977713,-1.0392925446223271,-1.2857261541825418,-0.18175222407249347,1.1471456825047024,2.302935046525213,-1.1653519184303127,0.7037332413417794,-0.3154171419840098,1.0465994577252105,-0.5043267981371093,0.3059399843978032,-1.0147173103491358,0.18734319364702906,1.0197870438206182,0.5698463723265904,0.847161738078466,-0.48838155083686113,-0.17571083683572822,-0.18323720410096794,1.1972873398163424,0.9806532259074543,-0.4917355934045084,-0.1343592196434194,0.2516622328478005,-0.27081241540746404,-1.0155616992979957,-0.0780064275372869,1.3613145488862313,-2.25481067807797,0.01340459400981535,1.034736325414299,-0.8796258441728192,-0.3292043045328106,-1.8624919231541441,1.1113931809407485],\"yaxis\":\"y12\",\"type\":\"scatter\"},{\"line\":{\"color\":\"rgba(128, 128, 128, 1.0)\",\"dash\":\"solid\",\"shape\":\"linear\",\"width\":1.3},\"marker\":{\"size\":2,\"symbol\":\"circle\"},\"mode\":\"markers\",\"name\":\"D\",\"text\":\"\",\"x\":[-0.5753426879256494,-0.2855850025875945,-0.0961869464912241,0.6103568764767965,-0.4025696750478465,0.4374070598595347,0.7852380548724863,0.5214648823245953,-0.00684583591222356,-0.5051783000764581,0.6530373694023148,0.8290643885983005,-0.16326941807355744,1.2946551885772357,0.3062829613096997,-0.40651524703456704,0.3896016631461653,-1.138922855036025,-0.7578633933957807,1.3509314503931424,-0.005010025924972767,-0.7973280566035829,-0.9426397821555511,0.7837430673863505,0.21275853925610655,-0.4223329495826686,-1.260774413115214,0.03781882593588207,0.46263467519767826,0.5546355561998378,-0.4842961772526561,0.4618702738864327,-0.26539049970315043,0.07173654988682814,1.2670586248816906,0.48257046492794947,0.8606764634836559,0.6828244703998747,0.2703051628152772,0.0908652995232409,1.3407457592744865,0.6876439459516805,-1.3694094056973394,-0.4335211415628346,-1.1267120131338622,1.3400799055072092,-0.1422947461813094,-1.248940584041396,-2.124104883981563,-1.3019259842261062,1.2253863790785309,-1.50671466014991,0.07538508733247389,1.2494402889239615,0.18255827197336624,-1.0105509243088642,-1.1891302933224321,-0.11628475166186489,-0.4734418847308924,0.8718766160831669,-0.35944283707649927,-0.6793897450131363,-0.18631676258814278,-1.2782273458212,1.4977187013693063,1.177236002604748,-1.0941913024273784,2.2404207802414633,-1.7525070260970546,0.216729499836274,-0.24615959069611515,-0.9566272104115014,-1.3354612997377038,0.22350132903717154,0.9938854360185605,-0.678036349363896,-1.269837301038907,0.023573204636028175,1.1893098288366686,0.3945672020711424,0.16556190679953686,1.0533923683620778,0.7980311950587345,-0.4648689451877062,-1.1224975907209203,0.5905563562444988,0.7187909232916364,0.001996256304215127,-0.5024319634754288,1.8039520156480824,-0.21920796816159593,-0.08410382918341316,0.7263457090750816,1.3527961859231261,-1.544852980293307,-0.2966107732450681,-0.11415615694751836,-0.12881703002004213,1.2741874708953127,1.1393830437473285],\"xaxis\":\"x13\",\"y\":[-0.10163559002645582,-0.35572331833610316,0.9382633458937855,1.0365157491589996,-1.0839803625551319,-0.42444836826523763,-0.17434477607746782,-0.2503002221905484,-0.13298541736793706,0.8536540114980372,0.3743533125530419,-0.23019310723961844,-1.0877216415015756,0.8983283485049616,0.14188830675770078,0.22365165287099512,0.19462905516574389,0.0934357964967572,0.8335939366943298,-0.04921489580520027,1.0017436578627659,0.5833690545463516,0.5736816489166747,-0.24365567817680078,1.3488875965404792,0.1263712094019638,-0.06129280907415563,-0.2237010330630421,2.302720150283636,-1.2728458007605248,-0.9225462214792156,-0.83290355524013,0.9865001583080875,-0.47162702859165717,-0.2933254636166296,0.24279006201943384,0.9032069290402934,0.34250476808048,0.807733281761505,1.8166900939762636,-0.009455451023209618,-0.4963886136333983,-0.6358577813771843,0.3619657381092746,-0.8788873299867607,0.40135747633790053,0.5062831775326353,-0.020676125484085806,0.19948143467837848,0.34548083587927997,-0.5795092323886075,-1.7819736678538074,0.17033119871697325,-0.89129758144792,-0.1714054780010341,-1.0737098320560075,1.2900195720031598,1.2914077918767255,-0.24949588549061508,0.8369345762371713,1.135976461563747,-1.4428407997626485,0.9875439709348575,2.2035242636833,-0.5791487359503539,-2.521913338226039,-0.7184707278530241,-1.1639587985186035,-0.5687316557397463,-1.702610898906452,-0.12020102131074938,0.13080022513111286,-0.22034734250604682,-0.05716775746615135,0.28319930382775665,0.731825355886409,-0.32563379121427105,-0.0787710720033279,-1.3347357015730388,-1.6260320813219609,0.9013728332559842,-0.08563499946707838,-0.33884869313938376,-2.256272072962904,0.38836306652118646,-0.1299483070640521,0.835893038991054,0.5972407218225784,0.9662776762760077,-0.6501003773755782,-2.3648808383363713,0.6757352967860882,0.8668970165490616,-1.7444739905526931,0.9097302962435239,0.3895664821972121,-0.26932148950763357,-1.300053903639512,0.38751698856060934,-0.6130946474664536],\"yaxis\":\"y13\",\"type\":\"scatter\"},{\"line\":{\"color\":\"rgba(128, 128, 128, 1.0)\",\"dash\":\"solid\",\"shape\":\"linear\",\"width\":1.3},\"marker\":{\"size\":2,\"symbol\":\"circle\"},\"mode\":\"markers\",\"name\":\"D\",\"text\":\"\",\"x\":[-0.5580704050672908,-0.44923515289336513,-0.7168931610192598,0.9830134247526778,1.6240683385906691,-0.40275289981153695,0.6112791218876015,-1.2803108479829148,-0.05808932824151311,-1.684712399154241,0.7009441493967767,1.2720970110310192,0.3689654180086758,-0.10972521230236329,-1.8715072885797777,-0.41072022373609,-2.222846437588777,-1.1915850756385813,0.9231330164233137,1.8669529912034164,-0.290221726325987,-0.648720943564726,-0.36177078386180883,-0.320582285809616,0.034000540804830316,-0.22176470456543523,0.29525848347628325,-0.9460745820077947,-0.40068026297055254,0.4106897541844773,-0.05309064552901487,1.1476677464913225,-0.6292502221798444,-0.6653930893895125,0.23844796985252587,0.1526908108190717,-0.4882637399023558,0.6095528940202006,1.7106600523326803,-0.6087185304180869,-0.14795323483741937,-0.9041735666641447,-0.2758124519817509,-0.6901891175196618,0.6644453330064052,0.7900367784741046,0.9187562121791123,0.8674138559764352,-0.2453438445025455,0.6793641868864831,-0.857948768868309,-0.9098665331960117,-0.6276702401871189,-1.9934794146042236,-0.364622445961039,1.441725222783407,0.7801273633492309,0.8618581629889228,-0.6880668392789634,-1.1699554311316747,0.4688674958261446,-0.3910846044592581,-0.9407200530603363,-1.5443525904104154,1.0384541197937691,-0.3226253863608884,0.9201172848030571,0.7657733729769911,-0.0895080157312864,-0.8583292937553912,-0.5909240948790668,-0.2866429338299557,0.3565715507880381,-0.8964384866866988,-0.5862356805821878,-0.9155134743418362,0.3015672501242637,0.5252427921756735,1.1163271687288974,0.14762362641226046,1.6270590095804507,-0.5035181944686434,-2.4300076126906753,-0.5269023436170583,1.9305638870047916,1.0182413139000828,-0.33799434650269927,1.046303567819808,1.2774037206763065,-0.33322567523426716,0.5210740638623935,-1.1545147289056945,-0.29028048645031423,-1.3789783825434538,0.12451934803869251,-0.06929895952401209,0.3449054115724372,-1.0596751060425036,1.622930397463581,1.2696505909551374],\"xaxis\":\"x14\",\"y\":[-0.10163559002645582,-0.35572331833610316,0.9382633458937855,1.0365157491589996,-1.0839803625551319,-0.42444836826523763,-0.17434477607746782,-0.2503002221905484,-0.13298541736793706,0.8536540114980372,0.3743533125530419,-0.23019310723961844,-1.0877216415015756,0.8983283485049616,0.14188830675770078,0.22365165287099512,0.19462905516574389,0.0934357964967572,0.8335939366943298,-0.04921489580520027,1.0017436578627659,0.5833690545463516,0.5736816489166747,-0.24365567817680078,1.3488875965404792,0.1263712094019638,-0.06129280907415563,-0.2237010330630421,2.302720150283636,-1.2728458007605248,-0.9225462214792156,-0.83290355524013,0.9865001583080875,-0.47162702859165717,-0.2933254636166296,0.24279006201943384,0.9032069290402934,0.34250476808048,0.807733281761505,1.8166900939762636,-0.009455451023209618,-0.4963886136333983,-0.6358577813771843,0.3619657381092746,-0.8788873299867607,0.40135747633790053,0.5062831775326353,-0.020676125484085806,0.19948143467837848,0.34548083587927997,-0.5795092323886075,-1.7819736678538074,0.17033119871697325,-0.89129758144792,-0.1714054780010341,-1.0737098320560075,1.2900195720031598,1.2914077918767255,-0.24949588549061508,0.8369345762371713,1.135976461563747,-1.4428407997626485,0.9875439709348575,2.2035242636833,-0.5791487359503539,-2.521913338226039,-0.7184707278530241,-1.1639587985186035,-0.5687316557397463,-1.702610898906452,-0.12020102131074938,0.13080022513111286,-0.22034734250604682,-0.05716775746615135,0.28319930382775665,0.731825355886409,-0.32563379121427105,-0.0787710720033279,-1.3347357015730388,-1.6260320813219609,0.9013728332559842,-0.08563499946707838,-0.33884869313938376,-2.256272072962904,0.38836306652118646,-0.1299483070640521,0.835893038991054,0.5972407218225784,0.9662776762760077,-0.6501003773755782,-2.3648808383363713,0.6757352967860882,0.8668970165490616,-1.7444739905526931,0.9097302962435239,0.3895664821972121,-0.26932148950763357,-1.300053903639512,0.38751698856060934,-0.6130946474664536],\"yaxis\":\"y14\",\"type\":\"scatter\"},{\"line\":{\"color\":\"rgba(128, 128, 128, 1.0)\",\"dash\":\"solid\",\"shape\":\"linear\",\"width\":1.3},\"marker\":{\"size\":2,\"symbol\":\"circle\"},\"mode\":\"markers\",\"name\":\"D\",\"text\":\"\",\"x\":[0.6114507672687999,-1.453118223435603,1.1827405880682482,-0.8915317989289957,-0.6965339089786392,1.3349453277892667,-0.012754426842266287,-1.8363884955952245,0.06320121054962571,-0.8054032151493444,-0.8680597817673879,0.15123933857148497,0.5123570213932661,-0.16037339958878402,1.2084982369733155,0.11675209300983791,-0.7352880428466906,-0.2791381389434401,-1.6768211825037311,0.2687358510113133,-0.08730828996841995,0.08011587984526237,0.5870365383920121,-0.45513157695040024,1.0477545780925943,-0.6122419200802369,0.9071051522559322,0.5288208716979997,1.7182043502896294,-1.037247362100533,1.2071706170444598,-0.09959896328078839,0.1378115413695539,-0.7628053068053268,-1.4628741580335396,-1.8115843574114259,0.48644122722049543,0.0812345794161359,1.1618829202520924,0.12227531103671242,-1.0286809844723226,-0.4199992929049847,-2.6587328254050435,-0.2024935070142835,-1.0654775595196992,1.7239918194244157,-0.88260958534823,1.6551781445421734,0.6507530317290405,-1.6654829806178402,0.9767781066008089,1.4101056253993747,-0.3795509935768535,0.5352685882282258,-0.07107715970154109,0.7354612283859392,-0.4782542749410208,0.2034575421519448,1.3429473000413061,0.44838858879270727,-1.5463440803120463,1.3497880948859498,0.14937510875119525,-0.8145611453142702,0.33798653977713,-1.0392925446223271,-1.2857261541825418,-0.18175222407249347,1.1471456825047024,2.302935046525213,-1.1653519184303127,0.7037332413417794,-0.3154171419840098,1.0465994577252105,-0.5043267981371093,0.3059399843978032,-1.0147173103491358,0.18734319364702906,1.0197870438206182,0.5698463723265904,0.847161738078466,-0.48838155083686113,-0.17571083683572822,-0.18323720410096794,1.1972873398163424,0.9806532259074543,-0.4917355934045084,-0.1343592196434194,0.2516622328478005,-0.27081241540746404,-1.0155616992979957,-0.0780064275372869,1.3613145488862313,-2.25481067807797,0.01340459400981535,1.034736325414299,-0.8796258441728192,-0.3292043045328106,-1.8624919231541441,1.1113931809407485],\"xaxis\":\"x15\",\"y\":[-0.10163559002645582,-0.35572331833610316,0.9382633458937855,1.0365157491589996,-1.0839803625551319,-0.42444836826523763,-0.17434477607746782,-0.2503002221905484,-0.13298541736793706,0.8536540114980372,0.3743533125530419,-0.23019310723961844,-1.0877216415015756,0.8983283485049616,0.14188830675770078,0.22365165287099512,0.19462905516574389,0.0934357964967572,0.8335939366943298,-0.04921489580520027,1.0017436578627659,0.5833690545463516,0.5736816489166747,-0.24365567817680078,1.3488875965404792,0.1263712094019638,-0.06129280907415563,-0.2237010330630421,2.302720150283636,-1.2728458007605248,-0.9225462214792156,-0.83290355524013,0.9865001583080875,-0.47162702859165717,-0.2933254636166296,0.24279006201943384,0.9032069290402934,0.34250476808048,0.807733281761505,1.8166900939762636,-0.009455451023209618,-0.4963886136333983,-0.6358577813771843,0.3619657381092746,-0.8788873299867607,0.40135747633790053,0.5062831775326353,-0.020676125484085806,0.19948143467837848,0.34548083587927997,-0.5795092323886075,-1.7819736678538074,0.17033119871697325,-0.89129758144792,-0.1714054780010341,-1.0737098320560075,1.2900195720031598,1.2914077918767255,-0.24949588549061508,0.8369345762371713,1.135976461563747,-1.4428407997626485,0.9875439709348575,2.2035242636833,-0.5791487359503539,-2.521913338226039,-0.7184707278530241,-1.1639587985186035,-0.5687316557397463,-1.702610898906452,-0.12020102131074938,0.13080022513111286,-0.22034734250604682,-0.05716775746615135,0.28319930382775665,0.731825355886409,-0.32563379121427105,-0.0787710720033279,-1.3347357015730388,-1.6260320813219609,0.9013728332559842,-0.08563499946707838,-0.33884869313938376,-2.256272072962904,0.38836306652118646,-0.1299483070640521,0.835893038991054,0.5972407218225784,0.9662776762760077,-0.6501003773755782,-2.3648808383363713,0.6757352967860882,0.8668970165490616,-1.7444739905526931,0.9097302962435239,0.3895664821972121,-0.26932148950763357,-1.300053903639512,0.38751698856060934,-0.6130946474664536],\"yaxis\":\"y15\",\"type\":\"scatter\"},{\"histfunc\":\"count\",\"histnorm\":\"\",\"marker\":{\"color\":\"rgba(128, 0, 128, 1.0)\",\"line\":{\"color\":\"#4D5663\",\"width\":1.3}},\"name\":\"D\",\"nbinsx\":10,\"opacity\":0.8,\"orientation\":\"v\",\"x\":[-0.10163559002645582,-0.35572331833610316,0.9382633458937855,1.0365157491589996,-1.0839803625551319,-0.42444836826523763,-0.17434477607746782,-0.2503002221905484,-0.13298541736793706,0.8536540114980372,0.3743533125530419,-0.23019310723961844,-1.0877216415015756,0.8983283485049616,0.14188830675770078,0.22365165287099512,0.19462905516574389,0.0934357964967572,0.8335939366943298,-0.04921489580520027,1.0017436578627659,0.5833690545463516,0.5736816489166747,-0.24365567817680078,1.3488875965404792,0.1263712094019638,-0.06129280907415563,-0.2237010330630421,2.302720150283636,-1.2728458007605248,-0.9225462214792156,-0.83290355524013,0.9865001583080875,-0.47162702859165717,-0.2933254636166296,0.24279006201943384,0.9032069290402934,0.34250476808048,0.807733281761505,1.8166900939762636,-0.009455451023209618,-0.4963886136333983,-0.6358577813771843,0.3619657381092746,-0.8788873299867607,0.40135747633790053,0.5062831775326353,-0.020676125484085806,0.19948143467837848,0.34548083587927997,-0.5795092323886075,-1.7819736678538074,0.17033119871697325,-0.89129758144792,-0.1714054780010341,-1.0737098320560075,1.2900195720031598,1.2914077918767255,-0.24949588549061508,0.8369345762371713,1.135976461563747,-1.4428407997626485,0.9875439709348575,2.2035242636833,-0.5791487359503539,-2.521913338226039,-0.7184707278530241,-1.1639587985186035,-0.5687316557397463,-1.702610898906452,-0.12020102131074938,0.13080022513111286,-0.22034734250604682,-0.05716775746615135,0.28319930382775665,0.731825355886409,-0.32563379121427105,-0.0787710720033279,-1.3347357015730388,-1.6260320813219609,0.9013728332559842,-0.08563499946707838,-0.33884869313938376,-2.256272072962904,0.38836306652118646,-0.1299483070640521,0.835893038991054,0.5972407218225784,0.9662776762760077,-0.6501003773755782,-2.3648808383363713,0.6757352967860882,0.8668970165490616,-1.7444739905526931,0.9097302962435239,0.3895664821972121,-0.26932148950763357,-1.300053903639512,0.38751698856060934,-0.6130946474664536],\"xaxis\":\"x16\",\"yaxis\":\"y16\",\"type\":\"histogram\"}],                        {\"bargap\":0.02,\"legend\":{\"bgcolor\":\"#F5F6F9\",\"font\":{\"color\":\"#4D5663\"}},\"paper_bgcolor\":\"#F5F6F9\",\"plot_bgcolor\":\"#F5F6F9\",\"showlegend\":false,\"template\":{\"data\":{\"barpolar\":[{\"marker\":{\"line\":{\"color\":\"#E5ECF6\",\"width\":0.5},\"pattern\":{\"fillmode\":\"overlay\",\"size\":10,\"solidity\":0.2}},\"type\":\"barpolar\"}],\"bar\":[{\"error_x\":{\"color\":\"#2a3f5f\"},\"error_y\":{\"color\":\"#2a3f5f\"},\"marker\":{\"line\":{\"color\":\"#E5ECF6\",\"width\":0.5},\"pattern\":{\"fillmode\":\"overlay\",\"size\":10,\"solidity\":0.2}},\"type\":\"bar\"}],\"carpet\":[{\"aaxis\":{\"endlinecolor\":\"#2a3f5f\",\"gridcolor\":\"white\",\"linecolor\":\"white\",\"minorgridcolor\":\"white\",\"startlinecolor\":\"#2a3f5f\"},\"baxis\":{\"endlinecolor\":\"#2a3f5f\",\"gridcolor\":\"white\",\"linecolor\":\"white\",\"minorgridcolor\":\"white\",\"startlinecolor\":\"#2a3f5f\"},\"type\":\"carpet\"}],\"choropleth\":[{\"colorbar\":{\"outlinewidth\":0,\"ticks\":\"\"},\"type\":\"choropleth\"}],\"contourcarpet\":[{\"colorbar\":{\"outlinewidth\":0,\"ticks\":\"\"},\"type\":\"contourcarpet\"}],\"contour\":[{\"colorbar\":{\"outlinewidth\":0,\"ticks\":\"\"},\"colorscale\":[[0.0,\"#0d0887\"],[0.1111111111111111,\"#46039f\"],[0.2222222222222222,\"#7201a8\"],[0.3333333333333333,\"#9c179e\"],[0.4444444444444444,\"#bd3786\"],[0.5555555555555556,\"#d8576b\"],[0.6666666666666666,\"#ed7953\"],[0.7777777777777778,\"#fb9f3a\"],[0.8888888888888888,\"#fdca26\"],[1.0,\"#f0f921\"]],\"type\":\"contour\"}],\"heatmapgl\":[{\"colorbar\":{\"outlinewidth\":0,\"ticks\":\"\"},\"colorscale\":[[0.0,\"#0d0887\"],[0.1111111111111111,\"#46039f\"],[0.2222222222222222,\"#7201a8\"],[0.3333333333333333,\"#9c179e\"],[0.4444444444444444,\"#bd3786\"],[0.5555555555555556,\"#d8576b\"],[0.6666666666666666,\"#ed7953\"],[0.7777777777777778,\"#fb9f3a\"],[0.8888888888888888,\"#fdca26\"],[1.0,\"#f0f921\"]],\"type\":\"heatmapgl\"}],\"heatmap\":[{\"colorbar\":{\"outlinewidth\":0,\"ticks\":\"\"},\"colorscale\":[[0.0,\"#0d0887\"],[0.1111111111111111,\"#46039f\"],[0.2222222222222222,\"#7201a8\"],[0.3333333333333333,\"#9c179e\"],[0.4444444444444444,\"#bd3786\"],[0.5555555555555556,\"#d8576b\"],[0.6666666666666666,\"#ed7953\"],[0.7777777777777778,\"#fb9f3a\"],[0.8888888888888888,\"#fdca26\"],[1.0,\"#f0f921\"]],\"type\":\"heatmap\"}],\"histogram2dcontour\":[{\"colorbar\":{\"outlinewidth\":0,\"ticks\":\"\"},\"colorscale\":[[0.0,\"#0d0887\"],[0.1111111111111111,\"#46039f\"],[0.2222222222222222,\"#7201a8\"],[0.3333333333333333,\"#9c179e\"],[0.4444444444444444,\"#bd3786\"],[0.5555555555555556,\"#d8576b\"],[0.6666666666666666,\"#ed7953\"],[0.7777777777777778,\"#fb9f3a\"],[0.8888888888888888,\"#fdca26\"],[1.0,\"#f0f921\"]],\"type\":\"histogram2dcontour\"}],\"histogram2d\":[{\"colorbar\":{\"outlinewidth\":0,\"ticks\":\"\"},\"colorscale\":[[0.0,\"#0d0887\"],[0.1111111111111111,\"#46039f\"],[0.2222222222222222,\"#7201a8\"],[0.3333333333333333,\"#9c179e\"],[0.4444444444444444,\"#bd3786\"],[0.5555555555555556,\"#d8576b\"],[0.6666666666666666,\"#ed7953\"],[0.7777777777777778,\"#fb9f3a\"],[0.8888888888888888,\"#fdca26\"],[1.0,\"#f0f921\"]],\"type\":\"histogram2d\"}],\"histogram\":[{\"marker\":{\"pattern\":{\"fillmode\":\"overlay\",\"size\":10,\"solidity\":0.2}},\"type\":\"histogram\"}],\"mesh3d\":[{\"colorbar\":{\"outlinewidth\":0,\"ticks\":\"\"},\"type\":\"mesh3d\"}],\"parcoords\":[{\"line\":{\"colorbar\":{\"outlinewidth\":0,\"ticks\":\"\"}},\"type\":\"parcoords\"}],\"pie\":[{\"automargin\":true,\"type\":\"pie\"}],\"scatter3d\":[{\"line\":{\"colorbar\":{\"outlinewidth\":0,\"ticks\":\"\"}},\"marker\":{\"colorbar\":{\"outlinewidth\":0,\"ticks\":\"\"}},\"type\":\"scatter3d\"}],\"scattercarpet\":[{\"marker\":{\"colorbar\":{\"outlinewidth\":0,\"ticks\":\"\"}},\"type\":\"scattercarpet\"}],\"scattergeo\":[{\"marker\":{\"colorbar\":{\"outlinewidth\":0,\"ticks\":\"\"}},\"type\":\"scattergeo\"}],\"scattergl\":[{\"marker\":{\"colorbar\":{\"outlinewidth\":0,\"ticks\":\"\"}},\"type\":\"scattergl\"}],\"scattermapbox\":[{\"marker\":{\"colorbar\":{\"outlinewidth\":0,\"ticks\":\"\"}},\"type\":\"scattermapbox\"}],\"scatterpolargl\":[{\"marker\":{\"colorbar\":{\"outlinewidth\":0,\"ticks\":\"\"}},\"type\":\"scatterpolargl\"}],\"scatterpolar\":[{\"marker\":{\"colorbar\":{\"outlinewidth\":0,\"ticks\":\"\"}},\"type\":\"scatterpolar\"}],\"scatter\":[{\"fillpattern\":{\"fillmode\":\"overlay\",\"size\":10,\"solidity\":0.2},\"type\":\"scatter\"}],\"scatterternary\":[{\"marker\":{\"colorbar\":{\"outlinewidth\":0,\"ticks\":\"\"}},\"type\":\"scatterternary\"}],\"surface\":[{\"colorbar\":{\"outlinewidth\":0,\"ticks\":\"\"},\"colorscale\":[[0.0,\"#0d0887\"],[0.1111111111111111,\"#46039f\"],[0.2222222222222222,\"#7201a8\"],[0.3333333333333333,\"#9c179e\"],[0.4444444444444444,\"#bd3786\"],[0.5555555555555556,\"#d8576b\"],[0.6666666666666666,\"#ed7953\"],[0.7777777777777778,\"#fb9f3a\"],[0.8888888888888888,\"#fdca26\"],[1.0,\"#f0f921\"]],\"type\":\"surface\"}],\"table\":[{\"cells\":{\"fill\":{\"color\":\"#EBF0F8\"},\"line\":{\"color\":\"white\"}},\"header\":{\"fill\":{\"color\":\"#C8D4E3\"},\"line\":{\"color\":\"white\"}},\"type\":\"table\"}]},\"layout\":{\"annotationdefaults\":{\"arrowcolor\":\"#2a3f5f\",\"arrowhead\":0,\"arrowwidth\":1},\"autotypenumbers\":\"strict\",\"coloraxis\":{\"colorbar\":{\"outlinewidth\":0,\"ticks\":\"\"}},\"colorscale\":{\"diverging\":[[0,\"#8e0152\"],[0.1,\"#c51b7d\"],[0.2,\"#de77ae\"],[0.3,\"#f1b6da\"],[0.4,\"#fde0ef\"],[0.5,\"#f7f7f7\"],[0.6,\"#e6f5d0\"],[0.7,\"#b8e186\"],[0.8,\"#7fbc41\"],[0.9,\"#4d9221\"],[1,\"#276419\"]],\"sequential\":[[0.0,\"#0d0887\"],[0.1111111111111111,\"#46039f\"],[0.2222222222222222,\"#7201a8\"],[0.3333333333333333,\"#9c179e\"],[0.4444444444444444,\"#bd3786\"],[0.5555555555555556,\"#d8576b\"],[0.6666666666666666,\"#ed7953\"],[0.7777777777777778,\"#fb9f3a\"],[0.8888888888888888,\"#fdca26\"],[1.0,\"#f0f921\"]],\"sequentialminus\":[[0.0,\"#0d0887\"],[0.1111111111111111,\"#46039f\"],[0.2222222222222222,\"#7201a8\"],[0.3333333333333333,\"#9c179e\"],[0.4444444444444444,\"#bd3786\"],[0.5555555555555556,\"#d8576b\"],[0.6666666666666666,\"#ed7953\"],[0.7777777777777778,\"#fb9f3a\"],[0.8888888888888888,\"#fdca26\"],[1.0,\"#f0f921\"]]},\"colorway\":[\"#636efa\",\"#EF553B\",\"#00cc96\",\"#ab63fa\",\"#FFA15A\",\"#19d3f3\",\"#FF6692\",\"#B6E880\",\"#FF97FF\",\"#FECB52\"],\"font\":{\"color\":\"#2a3f5f\"},\"geo\":{\"bgcolor\":\"white\",\"lakecolor\":\"white\",\"landcolor\":\"#E5ECF6\",\"showlakes\":true,\"showland\":true,\"subunitcolor\":\"white\"},\"hoverlabel\":{\"align\":\"left\"},\"hovermode\":\"closest\",\"mapbox\":{\"style\":\"light\"},\"paper_bgcolor\":\"white\",\"plot_bgcolor\":\"#E5ECF6\",\"polar\":{\"angularaxis\":{\"gridcolor\":\"white\",\"linecolor\":\"white\",\"ticks\":\"\"},\"bgcolor\":\"#E5ECF6\",\"radialaxis\":{\"gridcolor\":\"white\",\"linecolor\":\"white\",\"ticks\":\"\"}},\"scene\":{\"xaxis\":{\"backgroundcolor\":\"#E5ECF6\",\"gridcolor\":\"white\",\"gridwidth\":2,\"linecolor\":\"white\",\"showbackground\":true,\"ticks\":\"\",\"zerolinecolor\":\"white\"},\"yaxis\":{\"backgroundcolor\":\"#E5ECF6\",\"gridcolor\":\"white\",\"gridwidth\":2,\"linecolor\":\"white\",\"showbackground\":true,\"ticks\":\"\",\"zerolinecolor\":\"white\"},\"zaxis\":{\"backgroundcolor\":\"#E5ECF6\",\"gridcolor\":\"white\",\"gridwidth\":2,\"linecolor\":\"white\",\"showbackground\":true,\"ticks\":\"\",\"zerolinecolor\":\"white\"}},\"shapedefaults\":{\"line\":{\"color\":\"#2a3f5f\"}},\"ternary\":{\"aaxis\":{\"gridcolor\":\"white\",\"linecolor\":\"white\",\"ticks\":\"\"},\"baxis\":{\"gridcolor\":\"white\",\"linecolor\":\"white\",\"ticks\":\"\"},\"bgcolor\":\"#E5ECF6\",\"caxis\":{\"gridcolor\":\"white\",\"linecolor\":\"white\",\"ticks\":\"\"}},\"title\":{\"x\":0.05},\"xaxis\":{\"automargin\":true,\"gridcolor\":\"white\",\"linecolor\":\"white\",\"ticks\":\"\",\"title\":{\"standoff\":15},\"zerolinecolor\":\"white\",\"zerolinewidth\":2},\"yaxis\":{\"automargin\":true,\"gridcolor\":\"white\",\"linecolor\":\"white\",\"ticks\":\"\",\"title\":{\"standoff\":15},\"zerolinecolor\":\"white\",\"zerolinewidth\":2}}},\"title\":{\"font\":{\"color\":\"#4D5663\"}},\"xaxis\":{\"anchor\":\"y\",\"domain\":[0.0,0.2125],\"gridcolor\":\"#E1E5ED\",\"showgrid\":false,\"tickfont\":{\"color\":\"#4D5663\"},\"title\":{\"font\":{\"color\":\"#4D5663\"},\"text\":\"\"},\"zerolinecolor\":\"#E1E5ED\"},\"yaxis\":{\"anchor\":\"x\",\"domain\":[0.8025,1.0],\"gridcolor\":\"#E1E5ED\",\"showgrid\":false,\"tickfont\":{\"color\":\"#4D5663\"},\"title\":{\"font\":{\"color\":\"#4D5663\"},\"text\":\"\"},\"zerolinecolor\":\"#E1E5ED\"},\"xaxis2\":{\"anchor\":\"y2\",\"domain\":[0.2625,0.475],\"gridcolor\":\"#E1E5ED\",\"showgrid\":false,\"tickfont\":{\"color\":\"#4D5663\"},\"title\":{\"font\":{\"color\":\"#4D5663\"},\"text\":\"\"},\"zerolinecolor\":\"#E1E5ED\"},\"yaxis2\":{\"anchor\":\"x2\",\"domain\":[0.8025,1.0],\"gridcolor\":\"#E1E5ED\",\"showgrid\":false,\"tickfont\":{\"color\":\"#4D5663\"},\"title\":{\"font\":{\"color\":\"#4D5663\"},\"text\":\"\"},\"zerolinecolor\":\"#E1E5ED\"},\"xaxis3\":{\"anchor\":\"y3\",\"domain\":[0.525,0.7375],\"gridcolor\":\"#E1E5ED\",\"showgrid\":false,\"tickfont\":{\"color\":\"#4D5663\"},\"title\":{\"font\":{\"color\":\"#4D5663\"},\"text\":\"\"},\"zerolinecolor\":\"#E1E5ED\"},\"yaxis3\":{\"anchor\":\"x3\",\"domain\":[0.8025,1.0],\"gridcolor\":\"#E1E5ED\",\"showgrid\":false,\"tickfont\":{\"color\":\"#4D5663\"},\"title\":{\"font\":{\"color\":\"#4D5663\"},\"text\":\"\"},\"zerolinecolor\":\"#E1E5ED\"},\"xaxis4\":{\"anchor\":\"y4\",\"domain\":[0.7875,1.0],\"gridcolor\":\"#E1E5ED\",\"showgrid\":false,\"tickfont\":{\"color\":\"#4D5663\"},\"title\":{\"font\":{\"color\":\"#4D5663\"},\"text\":\"\"},\"zerolinecolor\":\"#E1E5ED\"},\"yaxis4\":{\"anchor\":\"x4\",\"domain\":[0.8025,1.0],\"gridcolor\":\"#E1E5ED\",\"showgrid\":false,\"tickfont\":{\"color\":\"#4D5663\"},\"title\":{\"font\":{\"color\":\"#4D5663\"},\"text\":\"\"},\"zerolinecolor\":\"#E1E5ED\"},\"xaxis5\":{\"anchor\":\"y5\",\"domain\":[0.0,0.2125],\"gridcolor\":\"#E1E5ED\",\"showgrid\":false,\"tickfont\":{\"color\":\"#4D5663\"},\"title\":{\"font\":{\"color\":\"#4D5663\"},\"text\":\"\"},\"zerolinecolor\":\"#E1E5ED\"},\"yaxis5\":{\"anchor\":\"x5\",\"domain\":[0.535,0.7325],\"gridcolor\":\"#E1E5ED\",\"showgrid\":false,\"tickfont\":{\"color\":\"#4D5663\"},\"title\":{\"font\":{\"color\":\"#4D5663\"},\"text\":\"\"},\"zerolinecolor\":\"#E1E5ED\"},\"xaxis6\":{\"anchor\":\"y6\",\"domain\":[0.2625,0.475],\"gridcolor\":\"#E1E5ED\",\"showgrid\":false,\"tickfont\":{\"color\":\"#4D5663\"},\"title\":{\"font\":{\"color\":\"#4D5663\"},\"text\":\"\"},\"zerolinecolor\":\"#E1E5ED\"},\"yaxis6\":{\"anchor\":\"x6\",\"domain\":[0.535,0.7325],\"gridcolor\":\"#E1E5ED\",\"showgrid\":false,\"tickfont\":{\"color\":\"#4D5663\"},\"title\":{\"font\":{\"color\":\"#4D5663\"},\"text\":\"\"},\"zerolinecolor\":\"#E1E5ED\"},\"xaxis7\":{\"anchor\":\"y7\",\"domain\":[0.525,0.7375],\"gridcolor\":\"#E1E5ED\",\"showgrid\":false,\"tickfont\":{\"color\":\"#4D5663\"},\"title\":{\"font\":{\"color\":\"#4D5663\"},\"text\":\"\"},\"zerolinecolor\":\"#E1E5ED\"},\"yaxis7\":{\"anchor\":\"x7\",\"domain\":[0.535,0.7325],\"gridcolor\":\"#E1E5ED\",\"showgrid\":false,\"tickfont\":{\"color\":\"#4D5663\"},\"title\":{\"font\":{\"color\":\"#4D5663\"},\"text\":\"\"},\"zerolinecolor\":\"#E1E5ED\"},\"xaxis8\":{\"anchor\":\"y8\",\"domain\":[0.7875,1.0],\"gridcolor\":\"#E1E5ED\",\"showgrid\":false,\"tickfont\":{\"color\":\"#4D5663\"},\"title\":{\"font\":{\"color\":\"#4D5663\"},\"text\":\"\"},\"zerolinecolor\":\"#E1E5ED\"},\"yaxis8\":{\"anchor\":\"x8\",\"domain\":[0.535,0.7325],\"gridcolor\":\"#E1E5ED\",\"showgrid\":false,\"tickfont\":{\"color\":\"#4D5663\"},\"title\":{\"font\":{\"color\":\"#4D5663\"},\"text\":\"\"},\"zerolinecolor\":\"#E1E5ED\"},\"xaxis9\":{\"anchor\":\"y9\",\"domain\":[0.0,0.2125],\"gridcolor\":\"#E1E5ED\",\"showgrid\":false,\"tickfont\":{\"color\":\"#4D5663\"},\"title\":{\"font\":{\"color\":\"#4D5663\"},\"text\":\"\"},\"zerolinecolor\":\"#E1E5ED\"},\"yaxis9\":{\"anchor\":\"x9\",\"domain\":[0.2675,0.465],\"gridcolor\":\"#E1E5ED\",\"showgrid\":false,\"tickfont\":{\"color\":\"#4D5663\"},\"title\":{\"font\":{\"color\":\"#4D5663\"},\"text\":\"\"},\"zerolinecolor\":\"#E1E5ED\"},\"xaxis10\":{\"anchor\":\"y10\",\"domain\":[0.2625,0.475],\"gridcolor\":\"#E1E5ED\",\"showgrid\":false,\"tickfont\":{\"color\":\"#4D5663\"},\"title\":{\"font\":{\"color\":\"#4D5663\"},\"text\":\"\"},\"zerolinecolor\":\"#E1E5ED\"},\"yaxis10\":{\"anchor\":\"x10\",\"domain\":[0.2675,0.465],\"gridcolor\":\"#E1E5ED\",\"showgrid\":false,\"tickfont\":{\"color\":\"#4D5663\"},\"title\":{\"font\":{\"color\":\"#4D5663\"},\"text\":\"\"},\"zerolinecolor\":\"#E1E5ED\"},\"xaxis11\":{\"anchor\":\"y11\",\"domain\":[0.525,0.7375],\"gridcolor\":\"#E1E5ED\",\"showgrid\":false,\"tickfont\":{\"color\":\"#4D5663\"},\"title\":{\"font\":{\"color\":\"#4D5663\"},\"text\":\"\"},\"zerolinecolor\":\"#E1E5ED\"},\"yaxis11\":{\"anchor\":\"x11\",\"domain\":[0.2675,0.465],\"gridcolor\":\"#E1E5ED\",\"showgrid\":false,\"tickfont\":{\"color\":\"#4D5663\"},\"title\":{\"font\":{\"color\":\"#4D5663\"},\"text\":\"\"},\"zerolinecolor\":\"#E1E5ED\"},\"xaxis12\":{\"anchor\":\"y12\",\"domain\":[0.7875,1.0],\"gridcolor\":\"#E1E5ED\",\"showgrid\":false,\"tickfont\":{\"color\":\"#4D5663\"},\"title\":{\"font\":{\"color\":\"#4D5663\"},\"text\":\"\"},\"zerolinecolor\":\"#E1E5ED\"},\"yaxis12\":{\"anchor\":\"x12\",\"domain\":[0.2675,0.465],\"gridcolor\":\"#E1E5ED\",\"showgrid\":false,\"tickfont\":{\"color\":\"#4D5663\"},\"title\":{\"font\":{\"color\":\"#4D5663\"},\"text\":\"\"},\"zerolinecolor\":\"#E1E5ED\"},\"xaxis13\":{\"anchor\":\"y13\",\"domain\":[0.0,0.2125],\"gridcolor\":\"#E1E5ED\",\"showgrid\":false,\"tickfont\":{\"color\":\"#4D5663\"},\"title\":{\"font\":{\"color\":\"#4D5663\"},\"text\":\"\"},\"zerolinecolor\":\"#E1E5ED\"},\"yaxis13\":{\"anchor\":\"x13\",\"domain\":[0.0,0.1975],\"gridcolor\":\"#E1E5ED\",\"showgrid\":false,\"tickfont\":{\"color\":\"#4D5663\"},\"title\":{\"font\":{\"color\":\"#4D5663\"},\"text\":\"\"},\"zerolinecolor\":\"#E1E5ED\"},\"xaxis14\":{\"anchor\":\"y14\",\"domain\":[0.2625,0.475],\"gridcolor\":\"#E1E5ED\",\"showgrid\":false,\"tickfont\":{\"color\":\"#4D5663\"},\"title\":{\"font\":{\"color\":\"#4D5663\"},\"text\":\"\"},\"zerolinecolor\":\"#E1E5ED\"},\"yaxis14\":{\"anchor\":\"x14\",\"domain\":[0.0,0.1975],\"gridcolor\":\"#E1E5ED\",\"showgrid\":false,\"tickfont\":{\"color\":\"#4D5663\"},\"title\":{\"font\":{\"color\":\"#4D5663\"},\"text\":\"\"},\"zerolinecolor\":\"#E1E5ED\"},\"xaxis15\":{\"anchor\":\"y15\",\"domain\":[0.525,0.7375],\"gridcolor\":\"#E1E5ED\",\"showgrid\":false,\"tickfont\":{\"color\":\"#4D5663\"},\"title\":{\"font\":{\"color\":\"#4D5663\"},\"text\":\"\"},\"zerolinecolor\":\"#E1E5ED\"},\"yaxis15\":{\"anchor\":\"x15\",\"domain\":[0.0,0.1975],\"gridcolor\":\"#E1E5ED\",\"showgrid\":false,\"tickfont\":{\"color\":\"#4D5663\"},\"title\":{\"font\":{\"color\":\"#4D5663\"},\"text\":\"\"},\"zerolinecolor\":\"#E1E5ED\"},\"xaxis16\":{\"anchor\":\"y16\",\"domain\":[0.7875,1.0],\"gridcolor\":\"#E1E5ED\",\"showgrid\":false,\"tickfont\":{\"color\":\"#4D5663\"},\"title\":{\"font\":{\"color\":\"#4D5663\"},\"text\":\"\"},\"zerolinecolor\":\"#E1E5ED\"},\"yaxis16\":{\"anchor\":\"x16\",\"domain\":[0.0,0.1975],\"gridcolor\":\"#E1E5ED\",\"showgrid\":false,\"tickfont\":{\"color\":\"#4D5663\"},\"title\":{\"font\":{\"color\":\"#4D5663\"},\"text\":\"\"},\"zerolinecolor\":\"#E1E5ED\"}},                        {\"showLink\": true, \"linkText\": \"Export to plot.ly\", \"plotlyServerURL\": \"https://plot.ly\", \"responsive\": true}                    ).then(function(){\n",
       "                            \n",
       "var gd = document.getElementById('6e96988a-9b0b-495c-a6da-49a3a881d38d');\n",
       "var x = new MutationObserver(function (mutations, observer) {{\n",
       "        var display = window.getComputedStyle(gd).display;\n",
       "        if (!display || display === 'none') {{\n",
       "            console.log([gd, 'removed!']);\n",
       "            Plotly.purge(gd);\n",
       "            observer.disconnect();\n",
       "        }}\n",
       "}});\n",
       "\n",
       "// Listen for the removal of the full notebook cells\n",
       "var notebookContainer = gd.closest('#notebook-container');\n",
       "if (notebookContainer) {{\n",
       "    x.observe(notebookContainer, {childList: true});\n",
       "}}\n",
       "\n",
       "// Listen for the clearing of the current output cell\n",
       "var outputEl = gd.closest('.output');\n",
       "if (outputEl) {{\n",
       "    x.observe(outputEl, {childList: true});\n",
       "}}\n",
       "\n",
       "                        })                };                });            </script>        </div>"
      ]
     },
     "metadata": {},
     "output_type": "display_data"
    }
   ],
   "source": [
    "#scattermatrix\n",
    "df.scatter_matrix()"
   ]
  },
  {
   "cell_type": "code",
   "execution_count": null,
   "id": "a0c8e646",
   "metadata": {},
   "outputs": [],
   "source": []
  }
 ],
 "metadata": {
  "kernelspec": {
   "display_name": "Python 3 (ipykernel)",
   "language": "python",
   "name": "python3"
  },
  "language_info": {
   "codemirror_mode": {
    "name": "ipython",
    "version": 3
   },
   "file_extension": ".py",
   "mimetype": "text/x-python",
   "name": "python",
   "nbconvert_exporter": "python",
   "pygments_lexer": "ipython3",
   "version": "3.9.7"
  }
 },
 "nbformat": 4,
 "nbformat_minor": 5
}
